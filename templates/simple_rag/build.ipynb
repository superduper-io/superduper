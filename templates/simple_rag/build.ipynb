{
 "cells": [
  {
   "cell_type": "markdown",
   "id": "38c1a328-fd86-4c5f-bd54-b8664f433608",
   "metadata": {
    "editable": true,
    "slideshow": {
     "slide_type": ""
    },
    "tags": []
   },
   "source": [
    "# Simple retrieval augmented generation with OpenAI"
   ]
  },
  {
   "cell_type": "markdown",
   "id": "32f8484d-2e35-472a-9b24-1a30ec1d144b",
   "metadata": {},
   "source": [
    "<!-- TABS -->\n",
    "## Connect to superduper"
   ]
  },
  {
   "cell_type": "markdown",
   "id": "06d66021-ce62-4021-a2c5-158dee92b3bb",
   "metadata": {
    "editable": true,
    "slideshow": {
     "slide_type": ""
    },
    "tags": []
   },
   "source": [
    ":::note\n",
    "Note that this is only relevant if you are running superduper in development mode.\n",
    "Otherwise refer to \"Configuring your production system\".\n",
    ":::"
   ]
  },
  {
   "cell_type": "code",
   "execution_count": 1,
   "id": "3ef70f6d-a189-460a-8864-241a689624e2",
   "metadata": {
    "editable": true,
    "slideshow": {
     "slide_type": ""
    },
    "tags": [
     "parameters"
    ]
   },
   "outputs": [],
   "source": [
    "APPLY = True\n",
    "SAMPLE_COLLECTION_NAME = 'sample_simple_rag'\n",
    "COLLECTION_NAME = '<var:table_name>' if not APPLY else 'docs'\n",
    "ID_FIELD = '<var:id_field>' if not APPLY else 'id'\n",
    "OUTPUT_PREFIX = 'outputs__'\n",
    "EAGER = False"
   ]
  },
  {
   "cell_type": "code",
   "execution_count": 2,
   "id": "cb029a5e-fedf-4f07-8a31-d220cfbfbb3d",
   "metadata": {
    "editable": true,
    "slideshow": {
     "slide_type": ""
    },
    "tags": []
   },
   "outputs": [
    {
     "name": "stdout",
     "output_type": "stream",
     "text": [
      "\u001b[32m2025-Feb-24 15:47:12.30\u001b[0m| \u001b[1mINFO    \u001b[0m | \u001b[36mDuncans-MBP.fritz.box\u001b[0m| \u001b[36msuperduper.misc.importing\u001b[0m:\u001b[36m13  \u001b[0m | \u001b[1mLoading plugin: mongodb\u001b[0m\n",
      "\u001b[32m2025-Feb-24 15:47:12.38\u001b[0m| \u001b[1mINFO    \u001b[0m | \u001b[36mDuncans-MBP.fritz.box\u001b[0m| \u001b[36msuperduper.base.datalayer\u001b[0m:\u001b[36m50  \u001b[0m | \u001b[1mBuilding Data Layer\u001b[0m\n",
      "\u001b[32m2025-Feb-24 15:47:12.38\u001b[0m| \u001b[1mINFO    \u001b[0m | \u001b[36mDuncans-MBP.fritz.box\u001b[0m| \u001b[36msuperduper.base.datalayer\u001b[0m:\u001b[36m67  \u001b[0m | \u001b[1mData Layer built\u001b[0m\n",
      "\u001b[32m2025-Feb-24 15:47:12.38\u001b[0m| \u001b[1mINFO    \u001b[0m | \u001b[36mDuncans-MBP.fritz.box\u001b[0m| \u001b[36msuperduper.base.build\u001b[0m:\u001b[36m146 \u001b[0m | \u001b[1mConfiguration: \n",
      " +----------------+-----------------------------------+\n",
      "| Configuration  |               Value               |\n",
      "+----------------+-----------------------------------+\n",
      "|  Data Backend  | mongodb://localhost:27017/test_db |\n",
      "| Artifact Store |   filesystem://./artifact_store   |\n",
      "+----------------+-----------------------------------+\u001b[0m\n"
     ]
    }
   ],
   "source": [
    "from superduper import superduper, CFG\n",
    "import os\n",
    "\n",
    "db = superduper(initialize_cluster=False)"
   ]
  },
  {
   "cell_type": "code",
   "execution_count": 3,
   "id": "3115ab41-32ad-4628-8d31-88cfa11ac14b",
   "metadata": {},
   "outputs": [
    {
     "name": "stdout",
     "output_type": "stream",
     "text": [
      "\u001b[32m2025-Feb-24 15:47:12.39\u001b[0m| \u001b[1mINFO    \u001b[0m | \u001b[36mDuncans-MBP.fritz.box\u001b[0m| \u001b[36msuperduper.misc.importing\u001b[0m:\u001b[36m13  \u001b[0m | \u001b[1mLoading plugin: mongodb\u001b[0m\n",
      "\u001b[32m2025-Feb-24 15:47:12.39\u001b[0m| \u001b[1mINFO    \u001b[0m | \u001b[36mDuncans-MBP.fritz.box\u001b[0m| \u001b[36msuperduper.base.datalayer\u001b[0m:\u001b[36m50  \u001b[0m | \u001b[1mBuilding Data Layer\u001b[0m\n",
      "\u001b[32m2025-Feb-24 15:47:12.39\u001b[0m| \u001b[1mINFO    \u001b[0m | \u001b[36mDuncans-MBP.fritz.box\u001b[0m| \u001b[36msuperduper.base.datalayer\u001b[0m:\u001b[36m67  \u001b[0m | \u001b[1mData Layer built\u001b[0m\n",
      "\u001b[32m2025-Feb-24 15:47:12.40\u001b[0m| \u001b[1mINFO    \u001b[0m | \u001b[36mDuncans-MBP.fritz.box\u001b[0m| \u001b[36msuperduper.backends.base.cluster\u001b[0m:\u001b[36m113 \u001b[0m | \u001b[1mCluster initialized in 0.01 seconds.\u001b[0m\n",
      "\u001b[32m2025-Feb-24 15:47:12.40\u001b[0m| \u001b[1mINFO    \u001b[0m | \u001b[36mDuncans-MBP.fritz.box\u001b[0m| \u001b[36msuperduper.base.build\u001b[0m:\u001b[36m146 \u001b[0m | \u001b[1mConfiguration: \n",
      " +----------------+-----------------------------------+\n",
      "| Configuration  |               Value               |\n",
      "+----------------+-----------------------------------+\n",
      "|  Data Backend  | mongodb://localhost:27017/test_db |\n",
      "| Artifact Store |   filesystem://./artifact_store   |\n",
      "+----------------+-----------------------------------+\u001b[0m\n"
     ]
    }
   ],
   "source": [
    "db.drop(True, True)\n",
    "db = superduper()"
   ]
  },
  {
   "cell_type": "code",
   "execution_count": 4,
   "id": "4e7902bd",
   "metadata": {
    "editable": true,
    "slideshow": {
     "slide_type": ""
    },
    "tags": []
   },
   "outputs": [],
   "source": [
    "import json\n",
    "import requests\n",
    "import io\n",
    "from superduper import logging\n",
    "\n",
    "\n",
    "def getter():\n",
    "    logging.info('Downloading data...')\n",
    "    response = requests.get('https://superduperdb-public-demo.s3.amazonaws.com/text.json')\n",
    "    logging.info('Downloading data... (Done)')\n",
    "    data = json.loads(response.content.decode('utf-8'))\n",
    "    return [{'x': r} for r in data]"
   ]
  },
  {
   "cell_type": "code",
   "execution_count": 5,
   "id": "1ef8dd07-1b47-4dce-84dd-a081d1f5ee9d",
   "metadata": {},
   "outputs": [
    {
     "name": "stdout",
     "output_type": "stream",
     "text": [
      "\u001b[32m2025-Feb-24 15:47:12.42\u001b[0m| \u001b[1mINFO    \u001b[0m | \u001b[36mDuncans-MBP.fritz.box\u001b[0m| \u001b[36m__main__\u001b[0m:\u001b[36m8   \u001b[0m | \u001b[1mDownloading data...\u001b[0m\n",
      "\u001b[32m2025-Feb-24 15:47:13.33\u001b[0m| \u001b[1mINFO    \u001b[0m | \u001b[36mDuncans-MBP.fritz.box\u001b[0m| \u001b[36m__main__\u001b[0m:\u001b[36m10  \u001b[0m | \u001b[1mDownloading data... (Done)\u001b[0m\n"
     ]
    }
   ],
   "source": [
    "if APPLY:\n",
    "    data = getter()"
   ]
  },
  {
   "cell_type": "markdown",
   "id": "9ede8ae1",
   "metadata": {},
   "source": [
    "<!-- TABS -->\n",
    "## Insert simple data\n",
    "\n",
    "After turning on auto_schema, we can directly insert data, and superduper will automatically analyze the data type, and match the construction of the table and datatype."
   ]
  },
  {
   "cell_type": "code",
   "execution_count": 6,
   "id": "c5965fdf",
   "metadata": {},
   "outputs": [
    {
     "name": "stdout",
     "output_type": "stream",
     "text": [
      "\u001b[32m2025-Feb-24 15:47:13.38\u001b[0m| \u001b[1mINFO    \u001b[0m | \u001b[36mDuncans-MBP.fritz.box\u001b[0m| \u001b[36msuperduper.base.datalayer\u001b[0m:\u001b[36m387 \u001b[0m | \u001b[1mComponent (Table, Table) not found in cache, loading from db\u001b[0m\n",
      "\u001b[32m2025-Feb-24 15:47:13.38\u001b[0m| \u001b[1mINFO    \u001b[0m | \u001b[36mDuncans-MBP.fritz.box\u001b[0m| \u001b[36msuperduper.base.datalayer\u001b[0m:\u001b[36m393 \u001b[0m | \u001b[1mLoad (('Table', 'Table')) from metadata...\u001b[0m\n",
      "\u001b[32m2025-Feb-24 15:47:13.38\u001b[0m| \u001b[1mINFO    \u001b[0m | \u001b[36mDuncans-MBP.fritz.box\u001b[0m| \u001b[36msuperduper.base.datalayer\u001b[0m:\u001b[36m405 \u001b[0m | \u001b[1mAdding Table:Table:abc to cache\u001b[0m\n",
      "\u001b[32m2025-Feb-24 15:47:13.42\u001b[0m| \u001b[1mINFO    \u001b[0m | \u001b[36mDuncans-MBP.fritz.box\u001b[0m| \u001b[36msuperduper.base.datalayer\u001b[0m:\u001b[36m387 \u001b[0m | \u001b[1mComponent (Table, docs) not found in cache, loading from db\u001b[0m\n",
      "\u001b[32m2025-Feb-24 15:47:13.42\u001b[0m| \u001b[1mINFO    \u001b[0m | \u001b[36mDuncans-MBP.fritz.box\u001b[0m| \u001b[36msuperduper.base.datalayer\u001b[0m:\u001b[36m393 \u001b[0m | \u001b[1mLoad (('Table', 'docs')) from metadata...\u001b[0m\n",
      "\u001b[32m2025-Feb-24 15:47:13.42\u001b[0m| \u001b[1mINFO    \u001b[0m | \u001b[36mDuncans-MBP.fritz.box\u001b[0m| \u001b[36msuperduper.base.apply\u001b[0m:\u001b[36m369 \u001b[0m | \u001b[1mFound new Table:docs:e7a8f003e2c945df\u001b[0m\n",
      "\u001b[32m2025-Feb-24 15:47:13.42\u001b[0m| \u001b[1mINFO    \u001b[0m | \u001b[36mDuncans-MBP.fritz.box\u001b[0m| \u001b[36msuperduper.base.apply\u001b[0m:\u001b[36m78  \u001b[0m | \u001b[1mFound these changes and/ or additions that need to be made:\u001b[0m\n",
      "\u001b[32m2025-Feb-24 15:47:13.42\u001b[0m| \u001b[1mINFO    \u001b[0m | \u001b[36mDuncans-MBP.fritz.box\u001b[0m| \u001b[36msuperduper.base.apply\u001b[0m:\u001b[36m80  \u001b[0m | \u001b[1m----------------------------------------------------------------------------------------------------\u001b[0m\n",
      "\u001b[32m2025-Feb-24 15:47:13.42\u001b[0m| \u001b[1mINFO    \u001b[0m | \u001b[36mDuncans-MBP.fritz.box\u001b[0m| \u001b[36msuperduper.base.apply\u001b[0m:\u001b[36m81  \u001b[0m | \u001b[1mMETADATA EVENTS:\u001b[0m\n",
      "\u001b[32m2025-Feb-24 15:47:13.42\u001b[0m| \u001b[1mINFO    \u001b[0m | \u001b[36mDuncans-MBP.fritz.box\u001b[0m| \u001b[36msuperduper.base.apply\u001b[0m:\u001b[36m82  \u001b[0m | \u001b[1m----------------------------------------------------------------------------------------------------\u001b[0m\n",
      "\u001b[32m2025-Feb-24 15:47:13.42\u001b[0m| \u001b[1mINFO    \u001b[0m | \u001b[36mDuncans-MBP.fritz.box\u001b[0m| \u001b[36msuperduper.base.apply\u001b[0m:\u001b[36m93  \u001b[0m | \u001b[1m[0]: Table:docs:e7a8f003e2c945df: create\u001b[0m\n",
      "\u001b[32m2025-Feb-24 15:47:13.42\u001b[0m| \u001b[1mINFO    \u001b[0m | \u001b[36mDuncans-MBP.fritz.box\u001b[0m| \u001b[36msuperduper.base.apply\u001b[0m:\u001b[36m95  \u001b[0m | \u001b[1m----------------------------------------------------------------------------------------------------\u001b[0m\n",
      "\u001b[32m2025-Feb-24 15:47:13.42\u001b[0m| \u001b[1mINFO    \u001b[0m | \u001b[36mDuncans-MBP.fritz.box\u001b[0m| \u001b[36msuperduper.base.apply\u001b[0m:\u001b[36m96  \u001b[0m | \u001b[1mJOBS EVENTS:\u001b[0m\n",
      "\u001b[32m2025-Feb-24 15:47:13.42\u001b[0m| \u001b[1mINFO    \u001b[0m | \u001b[36mDuncans-MBP.fritz.box\u001b[0m| \u001b[36msuperduper.base.apply\u001b[0m:\u001b[36m97  \u001b[0m | \u001b[1m----------------------------------------------------------------------------------------------------\u001b[0m\n",
      "\u001b[32m2025-Feb-24 15:47:13.42\u001b[0m| \u001b[1mINFO    \u001b[0m | \u001b[36mDuncans-MBP.fritz.box\u001b[0m| \u001b[36msuperduper.base.apply\u001b[0m:\u001b[36m101 \u001b[0m | \u001b[1mNo job events...\u001b[0m\n",
      "\u001b[32m2025-Feb-24 15:47:13.42\u001b[0m| \u001b[1mINFO    \u001b[0m | \u001b[36mDuncans-MBP.fritz.box\u001b[0m| \u001b[36msuperduper.base.apply\u001b[0m:\u001b[36m112 \u001b[0m | \u001b[1m----------------------------------------------------------------------------------------------------\u001b[0m\n",
      "\u001b[32m2025-Feb-24 15:47:13.42\u001b[0m| \u001b[1mINFO    \u001b[0m | \u001b[36mDuncans-MBP.fritz.box\u001b[0m| \u001b[36msuperduper.base.datalayer\u001b[0m:\u001b[36m387 \u001b[0m | \u001b[1mComponent (Table, Table) not found in cache, loading from db\u001b[0m\n",
      "\u001b[32m2025-Feb-24 15:47:13.42\u001b[0m| \u001b[1mINFO    \u001b[0m | \u001b[36mDuncans-MBP.fritz.box\u001b[0m| \u001b[36msuperduper.base.datalayer\u001b[0m:\u001b[36m393 \u001b[0m | \u001b[1mLoad (('Table', 'Table')) from metadata...\u001b[0m\n",
      "\u001b[32m2025-Feb-24 15:47:13.42\u001b[0m| \u001b[1mINFO    \u001b[0m | \u001b[36mDuncans-MBP.fritz.box\u001b[0m| \u001b[36msuperduper.base.datalayer\u001b[0m:\u001b[36m405 \u001b[0m | \u001b[1mAdding Table:Table:abc to cache\u001b[0m\n",
      "\u001b[32m2025-Feb-24 15:47:13.43\u001b[0m| \u001b[1mINFO    \u001b[0m | \u001b[36mDuncans-MBP.fritz.box\u001b[0m| \u001b[36msuperduper.base.datalayer\u001b[0m:\u001b[36m361 \u001b[0m | \u001b[1mComponent e7a8f003e2c945df not found in cache, loading from db with uuid\u001b[0m\n",
      "\u001b[32m2025-Feb-24 15:47:13.44\u001b[0m| \u001b[1mINFO    \u001b[0m | \u001b[36mDuncans-MBP.fritz.box\u001b[0m| \u001b[36msuperduper.base.datalayer\u001b[0m:\u001b[36m378 \u001b[0m | \u001b[1mAdding Table:docs:e7a8f003e2c945df to cache\u001b[0m\n",
      "\u001b[32m2025-Feb-24 15:47:13.44\u001b[0m| \u001b[33m\u001b[1mWARNING \u001b[0m | \u001b[36mDuncans-MBP.fritz.box\u001b[0m| \u001b[36msuperduper.backends.local.compute\u001b[0m:\u001b[36m49  \u001b[0m | \u001b[33m\u001b[1mCould not release futures for context e7a8f003e2c945df\u001b[0m\n",
      "\u001b[32m2025-Feb-24 15:47:13.44\u001b[0m| \u001b[1mINFO    \u001b[0m | \u001b[36mDuncans-MBP.fritz.box\u001b[0m| \u001b[36msuperduper.backends.local.queue\u001b[0m:\u001b[36m114 \u001b[0m | \u001b[1mConsumed all events\u001b[0m\n",
      "\u001b[32m2025-Feb-24 15:47:13.44\u001b[0m| \u001b[1mINFO    \u001b[0m | \u001b[36mDuncans-MBP.fritz.box\u001b[0m| \u001b[36msuperduper.base.datalayer\u001b[0m:\u001b[36m387 \u001b[0m | \u001b[1mComponent (Table, docs) not found in cache, loading from db\u001b[0m\n",
      "\u001b[32m2025-Feb-24 15:47:13.44\u001b[0m| \u001b[1mINFO    \u001b[0m | \u001b[36mDuncans-MBP.fritz.box\u001b[0m| \u001b[36msuperduper.base.datalayer\u001b[0m:\u001b[36m393 \u001b[0m | \u001b[1mLoad (('Table', 'docs')) from metadata...\u001b[0m\n",
      "\u001b[32m2025-Feb-24 15:47:13.44\u001b[0m| \u001b[1mINFO    \u001b[0m | \u001b[36mDuncans-MBP.fritz.box\u001b[0m| \u001b[36msuperduper.base.datalayer\u001b[0m:\u001b[36m405 \u001b[0m | \u001b[1mAdding Table:docs:e7a8f003e2c945df to cache\u001b[0m\n"
     ]
    }
   ],
   "source": [
    "if APPLY:\n",
    "    from superduper import Document, Table\n",
    "    table = Table(COLLECTION_NAME, fields={'x': 'str'})\n",
    "    db.apply(table, force=True)\n",
    "    ids = db.execute(db[COLLECTION_NAME].insert(data))"
   ]
  },
  {
   "cell_type": "markdown",
   "id": "c4885060-450c-4446-b5fb-e58591c0d1ff",
   "metadata": {},
   "source": [
    "Create plugin:"
   ]
  },
  {
   "cell_type": "code",
   "execution_count": 7,
   "id": "f879a4df-6f60-4c80-8fdd-285a1ef92c90",
   "metadata": {},
   "outputs": [],
   "source": [
    "from superduper import Plugin\n",
    "\n",
    "plugin = Plugin('rag-plugin', path='./rag_plugin.py')"
   ]
  },
  {
   "cell_type": "markdown",
   "id": "54fea927-ee4a-44cd-aaf2-634b574c316d",
   "metadata": {},
   "source": [
    "<!-- TABS -->\n",
    "## Apply a chunker for search"
   ]
  },
  {
   "cell_type": "markdown",
   "id": "06d90bda-e8c4-494e-a38c-837fb63689ae",
   "metadata": {},
   "source": [
    ":::note\n",
    "Note that applying a chunker is ***not*** mandatory for search.\n",
    "If your data is already chunked (e.g. short text snippets or audio) or if you\n",
    "are searching through something like images, which can't be chunked, then this\n",
    "won't be necessary.\n",
    ":::"
   ]
  },
  {
   "cell_type": "code",
   "execution_count": 8,
   "id": "93d21872-d4dc-40dc-abab-fb07ba102ea3",
   "metadata": {},
   "outputs": [],
   "source": [
    "from superduper import Listener\n",
    "from rag_plugin import Chunker\n",
    "\n",
    "upstream_listener = Listener(\n",
    "    model=Chunker(identifier='chunker'),\n",
    "    select=db[COLLECTION_NAME],\n",
    "    key='x',\n",
    "    identifier='chunker',\n",
    "    flatten=True,\n",
    "    upstream=[plugin],\n",
    ")"
   ]
  },
  {
   "cell_type": "code",
   "execution_count": 9,
   "id": "31900eec-b516-4bef-939e-2e8f46252b12",
   "metadata": {},
   "outputs": [],
   "source": [
    "if APPLY and EAGER:\n",
    "    db.apply(upstream_listener, force=True)"
   ]
  },
  {
   "cell_type": "markdown",
   "id": "7c5377c0-4c9b-4ba9-8f08-5e866b9220b5",
   "metadata": {},
   "source": [
    "## Select outputs of upstream listener"
   ]
  },
  {
   "cell_type": "markdown",
   "id": "809f5f62-95c3-483b-ae74-a5cdb5c1c83d",
   "metadata": {},
   "source": [
    ":::note\n",
    "This is useful if you have performed a first step, such as pre-computing \n",
    "features, or chunking your data. You can use this query to \n",
    "operate on those outputs.\n",
    ":::"
   ]
  },
  {
   "cell_type": "markdown",
   "id": "c9a2cd87-723f-4cee-87c7-9b8181c9e54b",
   "metadata": {},
   "source": [
    "<!-- TABS -->\n",
    "## Build text embedding model"
   ]
  },
  {
   "cell_type": "markdown",
   "id": "10753ea4-9893-4056-813d-7d6ddf78ce02",
   "metadata": {},
   "source": [
    "OpenAI:"
   ]
  },
  {
   "cell_type": "code",
   "execution_count": 10,
   "id": "a9b1f538-65ca-499e-b6d0-2dd733f81723",
   "metadata": {},
   "outputs": [],
   "source": [
    "import os\n",
    "\n",
    "from superduper_openai import OpenAIEmbedding\n",
    "\n",
    "openai_embedding = OpenAIEmbedding(\n",
    "    identifier='text-embedding',\n",
    "    model='text-embedding-ada-002',\n",
    "    datatype='vector[float:1536]',\n",
    ")"
   ]
  },
  {
   "cell_type": "markdown",
   "id": "f31843db-8638-458a-a770-96a79041be88",
   "metadata": {},
   "source": [
    "## Create vector-index"
   ]
  },
  {
   "cell_type": "code",
   "execution_count": 11,
   "id": "4663fa4b-c2ec-427d-bf8b-b8b109cc2ccf",
   "metadata": {},
   "outputs": [],
   "source": [
    "from superduper import VectorIndex, Listener\n",
    "\n",
    "vector_index_name = 'vectorindex'\n",
    "\n",
    "vector_index = VectorIndex(\n",
    "    vector_index_name,\n",
    "    indexing_listener=Listener(\n",
    "        key=upstream_listener.outputs,\n",
    "        select=db[upstream_listener.outputs],\n",
    "        model=openai_embedding,\n",
    "        identifier='embeddinglistener',\n",
    "        upstream=[upstream_listener],\n",
    "    )\n",
    ")"
   ]
  },
  {
   "cell_type": "code",
   "execution_count": 12,
   "id": "509c3505-54c5-4e68-84ec-3df8bea0fd74",
   "metadata": {},
   "outputs": [],
   "source": [
    "if APPLY and EAGER:\n",
    "    db.apply(vector_index, force=True)"
   ]
  },
  {
   "cell_type": "markdown",
   "id": "1179a67b-4e40-496b-9851-98f32d42faa0",
   "metadata": {},
   "source": [
    "<!-- TABS -->\n",
    "## Build LLM"
   ]
  },
  {
   "cell_type": "code",
   "execution_count": 13,
   "id": "75faf501-f0cf-4707-a165-5a05cfb14bbf",
   "metadata": {},
   "outputs": [],
   "source": [
    "from superduper_openai import OpenAIChatCompletion\n",
    "\n",
    "\n",
    "llm_openai = OpenAIChatCompletion(\n",
    "    identifier='llm-model',\n",
    "    model='gpt-3.5-turbo',\n",
    "    datatype='str',\n",
    ")"
   ]
  },
  {
   "cell_type": "markdown",
   "id": "60ae6203-dcc4-493c-a8f8-f727f0f75778",
   "metadata": {},
   "source": [
    "## Answer question with LLM"
   ]
  },
  {
   "cell_type": "code",
   "execution_count": 14,
   "id": "44baeb09-6f35-4cf2-b814-46283a59f7e9",
   "metadata": {},
   "outputs": [],
   "source": [
    "from superduper import model\n",
    "from rag_plugin import RAGModel\n",
    "\n",
    "\n",
    "prompt_template = (\n",
    "    \"Use the following context snippets, these snippets are not ordered!, Answer the question based on this context.\\n\"\n",
    "    \"These snippets are samples from our internal data-repositories, and should be used exclusively and as a matter\"\n",
    "    \" of priority to answer the question. Please answer in 20 words or less.\\n\\n\"\n",
    "    \"{context}\\n\\n\"\n",
    "    \"Here's the question: {query}\"\n",
    ")\n",
    "\n",
    "rag = RAGModel(\n",
    "    'simple_rag',\n",
    "    select=db[upstream_listener.outputs].select().like({upstream_listener.outputs: '<var:query>'}, vector_index=vector_index_name, n=5),\n",
    "    prompt_template=prompt_template,\n",
    "    key=upstream_listener.outputs,\n",
    "    llm=llm_openai,\n",
    ")"
   ]
  },
  {
   "cell_type": "code",
   "execution_count": 15,
   "id": "2d3a0d3a-da1c-41ec-b16c-f281c46ad794",
   "metadata": {},
   "outputs": [],
   "source": [
    "if APPLY and EAGER:\n",
    "    db.apply(rag, force=True)"
   ]
  },
  {
   "cell_type": "markdown",
   "id": "183bf5b6-4644-4e4c-b65b-e6bafdc6b49f",
   "metadata": {},
   "source": [
    "By applying the RAG model to the database, it will subsequently be accessible for use in other services."
   ]
  },
  {
   "cell_type": "code",
   "execution_count": 16,
   "id": "c974643b-e642-40ea-942f-4d90e0d1bbe1",
   "metadata": {},
   "outputs": [],
   "source": [
    "from superduper import Streamlit, Plugin\n",
    "from rag_plugin import demo_func\n",
    "\n",
    "demo = Streamlit('simple-rag-demo', demo_func=demo_func, upstream=[plugin])"
   ]
  },
  {
   "cell_type": "code",
   "execution_count": 17,
   "id": "e6787c78-4b14-4a72-818b-450408a74331",
   "metadata": {},
   "outputs": [],
   "source": [
    "from superduper import Application\n",
    "\n",
    "app = Application(\n",
    "    'simple-rag-app',\n",
    "    components=[\n",
    "        upstream_listener,\n",
    "        vector_index,\n",
    "        rag,\n",
    "        demo,\n",
    "    ]\n",
    ")"
   ]
  },
  {
   "cell_type": "code",
   "execution_count": 18,
   "id": "e7c16557-af76-4e70-83d9-2984e19a9554",
   "metadata": {
    "scrolled": true
   },
   "outputs": [
    {
     "name": "stdout",
     "output_type": "stream",
     "text": [
      "\u001b[32m2025-Feb-24 15:47:13.80\u001b[0m| \u001b[1mINFO    \u001b[0m | \u001b[36mDuncans-MBP.fritz.box\u001b[0m| \u001b[36msuperduper.base.datalayer\u001b[0m:\u001b[36m387 \u001b[0m | \u001b[1mComponent (Table, Table) not found in cache, loading from db\u001b[0m\n",
      "\u001b[32m2025-Feb-24 15:47:13.80\u001b[0m| \u001b[1mINFO    \u001b[0m | \u001b[36mDuncans-MBP.fritz.box\u001b[0m| \u001b[36msuperduper.base.datalayer\u001b[0m:\u001b[36m393 \u001b[0m | \u001b[1mLoad (('Table', 'Table')) from metadata...\u001b[0m\n",
      "\u001b[32m2025-Feb-24 15:47:13.80\u001b[0m| \u001b[1mINFO    \u001b[0m | \u001b[36mDuncans-MBP.fritz.box\u001b[0m| \u001b[36msuperduper.base.datalayer\u001b[0m:\u001b[36m405 \u001b[0m | \u001b[1mAdding Table:Table:abc to cache\u001b[0m\n",
      "\u001b[32m2025-Feb-24 15:47:13.81\u001b[0m| \u001b[1mINFO    \u001b[0m | \u001b[36mDuncans-MBP.fritz.box\u001b[0m| \u001b[36msuperduper.base.datalayer\u001b[0m:\u001b[36m387 \u001b[0m | \u001b[1mComponent (Table, Table) not found in cache, loading from db\u001b[0m\n",
      "\u001b[32m2025-Feb-24 15:47:13.81\u001b[0m| \u001b[1mINFO    \u001b[0m | \u001b[36mDuncans-MBP.fritz.box\u001b[0m| \u001b[36msuperduper.base.datalayer\u001b[0m:\u001b[36m393 \u001b[0m | \u001b[1mLoad (('Table', 'Table')) from metadata...\u001b[0m\n",
      "\u001b[32m2025-Feb-24 15:47:13.81\u001b[0m| \u001b[1mINFO    \u001b[0m | \u001b[36mDuncans-MBP.fritz.box\u001b[0m| \u001b[36msuperduper.base.datalayer\u001b[0m:\u001b[36m405 \u001b[0m | \u001b[1mAdding Table:Table:abc to cache\u001b[0m\n",
      "\u001b[32m2025-Feb-24 15:47:13.82\u001b[0m| \u001b[1mINFO    \u001b[0m | \u001b[36mDuncans-MBP.fritz.box\u001b[0m| \u001b[36msuperduper.base.datalayer\u001b[0m:\u001b[36m387 \u001b[0m | \u001b[1mComponent (Table, Table) not found in cache, loading from db\u001b[0m\n",
      "\u001b[32m2025-Feb-24 15:47:13.82\u001b[0m| \u001b[1mINFO    \u001b[0m | \u001b[36mDuncans-MBP.fritz.box\u001b[0m| \u001b[36msuperduper.base.datalayer\u001b[0m:\u001b[36m393 \u001b[0m | \u001b[1mLoad (('Table', 'Table')) from metadata...\u001b[0m\n",
      "\u001b[32m2025-Feb-24 15:47:13.82\u001b[0m| \u001b[1mINFO    \u001b[0m | \u001b[36mDuncans-MBP.fritz.box\u001b[0m| \u001b[36msuperduper.base.datalayer\u001b[0m:\u001b[36m405 \u001b[0m | \u001b[1mAdding Table:Table:abc to cache\u001b[0m\n",
      "\u001b[32m2025-Feb-24 15:47:13.83\u001b[0m| \u001b[1mINFO    \u001b[0m | \u001b[36mDuncans-MBP.fritz.box\u001b[0m| \u001b[36msuperduper.base.datalayer\u001b[0m:\u001b[36m387 \u001b[0m | \u001b[1mComponent (Plugin, plugin-rag_plugin_py) not found in cache, loading from db\u001b[0m\n",
      "\u001b[32m2025-Feb-24 15:47:13.83\u001b[0m| \u001b[1mINFO    \u001b[0m | \u001b[36mDuncans-MBP.fritz.box\u001b[0m| \u001b[36msuperduper.base.datalayer\u001b[0m:\u001b[36m393 \u001b[0m | \u001b[1mLoad (('Plugin', 'plugin-rag_plugin_py')) from metadata...\u001b[0m\n",
      "\u001b[32m2025-Feb-24 15:47:13.84\u001b[0m| \u001b[1mINFO    \u001b[0m | \u001b[36mDuncans-MBP.fritz.box\u001b[0m| \u001b[36msuperduper.base.apply\u001b[0m:\u001b[36m369 \u001b[0m | \u001b[1mFound new Plugin:plugin-rag_plugin_py:rag-plugin\u001b[0m\n",
      "\u001b[32m2025-Feb-24 15:47:13.84\u001b[0m| \u001b[1mINFO    \u001b[0m | \u001b[36mDuncans-MBP.fritz.box\u001b[0m| \u001b[36msuperduper.base.artifacts\u001b[0m:\u001b[36m272 \u001b[0m | \u001b[1mCopying file ./rag_plugin.py to ./artifact_store/f74492989c5ac8b5eba5041c05b9927b08d08ffa/rag_plugin.py\u001b[0m\n",
      "\u001b[32m2025-Feb-24 15:47:13.84\u001b[0m| \u001b[1mINFO    \u001b[0m | \u001b[36mDuncans-MBP.fritz.box\u001b[0m| \u001b[36msuperduper.base.datalayer\u001b[0m:\u001b[36m387 \u001b[0m | \u001b[1mComponent (Table, Table) not found in cache, loading from db\u001b[0m\n",
      "\u001b[32m2025-Feb-24 15:47:13.84\u001b[0m| \u001b[1mINFO    \u001b[0m | \u001b[36mDuncans-MBP.fritz.box\u001b[0m| \u001b[36msuperduper.base.datalayer\u001b[0m:\u001b[36m393 \u001b[0m | \u001b[1mLoad (('Table', 'Table')) from metadata...\u001b[0m\n",
      "\u001b[32m2025-Feb-24 15:47:13.84\u001b[0m| \u001b[1mINFO    \u001b[0m | \u001b[36mDuncans-MBP.fritz.box\u001b[0m| \u001b[36msuperduper.base.datalayer\u001b[0m:\u001b[36m405 \u001b[0m | \u001b[1mAdding Table:Table:abc to cache\u001b[0m\n",
      "\u001b[32m2025-Feb-24 15:47:13.85\u001b[0m| \u001b[1mINFO    \u001b[0m | \u001b[36mDuncans-MBP.fritz.box\u001b[0m| \u001b[36msuperduper.base.datalayer\u001b[0m:\u001b[36m387 \u001b[0m | \u001b[1mComponent (Chunker, chunker) not found in cache, loading from db\u001b[0m\n",
      "\u001b[32m2025-Feb-24 15:47:13.85\u001b[0m| \u001b[1mINFO    \u001b[0m | \u001b[36mDuncans-MBP.fritz.box\u001b[0m| \u001b[36msuperduper.base.datalayer\u001b[0m:\u001b[36m393 \u001b[0m | \u001b[1mLoad (('Chunker', 'chunker')) from metadata...\u001b[0m\n",
      "\u001b[32m2025-Feb-24 15:47:13.85\u001b[0m| \u001b[1mINFO    \u001b[0m | \u001b[36mDuncans-MBP.fritz.box\u001b[0m| \u001b[36msuperduper.base.apply\u001b[0m:\u001b[36m369 \u001b[0m | \u001b[1mFound new Chunker:chunker:b18dc899dde44cf1\u001b[0m\n",
      "\u001b[32m2025-Feb-24 15:47:13.85\u001b[0m| \u001b[1mINFO    \u001b[0m | \u001b[36mDuncans-MBP.fritz.box\u001b[0m| \u001b[36msuperduper.base.datalayer\u001b[0m:\u001b[36m387 \u001b[0m | \u001b[1mComponent (Listener, chunker) not found in cache, loading from db\u001b[0m\n",
      "\u001b[32m2025-Feb-24 15:47:13.85\u001b[0m| \u001b[1mINFO    \u001b[0m | \u001b[36mDuncans-MBP.fritz.box\u001b[0m| \u001b[36msuperduper.base.datalayer\u001b[0m:\u001b[36m393 \u001b[0m | \u001b[1mLoad (('Listener', 'chunker')) from metadata...\u001b[0m\n",
      "\u001b[32m2025-Feb-24 15:47:13.86\u001b[0m| \u001b[1mINFO    \u001b[0m | \u001b[36mDuncans-MBP.fritz.box\u001b[0m| \u001b[36msuperduper.base.datalayer\u001b[0m:\u001b[36m387 \u001b[0m | \u001b[1mComponent (Table, _outputs__chunker__ef2ec6de73564919) not found in cache, loading from db\u001b[0m\n",
      "\u001b[32m2025-Feb-24 15:47:13.86\u001b[0m| \u001b[1mINFO    \u001b[0m | \u001b[36mDuncans-MBP.fritz.box\u001b[0m| \u001b[36msuperduper.base.datalayer\u001b[0m:\u001b[36m393 \u001b[0m | \u001b[1mLoad (('Table', '_outputs__chunker__ef2ec6de73564919')) from metadata...\u001b[0m\n",
      "\u001b[32m2025-Feb-24 15:47:13.86\u001b[0m| \u001b[1mINFO    \u001b[0m | \u001b[36mDuncans-MBP.fritz.box\u001b[0m| \u001b[36msuperduper.base.apply\u001b[0m:\u001b[36m369 \u001b[0m | \u001b[1mFound new Table:_outputs__chunker__ef2ec6de73564919:fb7aa9e5ffce4691\u001b[0m\n",
      "\u001b[32m2025-Feb-24 15:47:13.86\u001b[0m| \u001b[1mINFO    \u001b[0m | \u001b[36mDuncans-MBP.fritz.box\u001b[0m| \u001b[36msuperduper.base.apply\u001b[0m:\u001b[36m369 \u001b[0m | \u001b[1mFound new Listener:chunker:ef2ec6de73564919\u001b[0m\n",
      "\u001b[32m2025-Feb-24 15:47:13.86\u001b[0m| \u001b[1mINFO    \u001b[0m | \u001b[36mDuncans-MBP.fritz.box\u001b[0m| \u001b[36msuperduper.base.datalayer\u001b[0m:\u001b[36m387 \u001b[0m | \u001b[1mComponent (Table, Table) not found in cache, loading from db\u001b[0m\n",
      "\u001b[32m2025-Feb-24 15:47:13.86\u001b[0m| \u001b[1mINFO    \u001b[0m | \u001b[36mDuncans-MBP.fritz.box\u001b[0m| \u001b[36msuperduper.base.datalayer\u001b[0m:\u001b[36m393 \u001b[0m | \u001b[1mLoad (('Table', 'Table')) from metadata...\u001b[0m\n",
      "\u001b[32m2025-Feb-24 15:47:13.86\u001b[0m| \u001b[1mINFO    \u001b[0m | \u001b[36mDuncans-MBP.fritz.box\u001b[0m| \u001b[36msuperduper.base.datalayer\u001b[0m:\u001b[36m405 \u001b[0m | \u001b[1mAdding Table:Table:abc to cache\u001b[0m\n",
      "\u001b[32m2025-Feb-24 15:47:13.87\u001b[0m| \u001b[1mINFO    \u001b[0m | \u001b[36mDuncans-MBP.fritz.box\u001b[0m| \u001b[36msuperduper.base.datalayer\u001b[0m:\u001b[36m387 \u001b[0m | \u001b[1mComponent (Table, Table) not found in cache, loading from db\u001b[0m\n",
      "\u001b[32m2025-Feb-24 15:47:13.87\u001b[0m| \u001b[1mINFO    \u001b[0m | \u001b[36mDuncans-MBP.fritz.box\u001b[0m| \u001b[36msuperduper.base.datalayer\u001b[0m:\u001b[36m393 \u001b[0m | \u001b[1mLoad (('Table', 'Table')) from metadata...\u001b[0m\n",
      "\u001b[32m2025-Feb-24 15:47:13.87\u001b[0m| \u001b[1mINFO    \u001b[0m | \u001b[36mDuncans-MBP.fritz.box\u001b[0m| \u001b[36msuperduper.base.datalayer\u001b[0m:\u001b[36m405 \u001b[0m | \u001b[1mAdding Table:Table:abc to cache\u001b[0m\n",
      "\u001b[32m2025-Feb-24 15:47:13.88\u001b[0m| \u001b[1mINFO    \u001b[0m | \u001b[36mDuncans-MBP.fritz.box\u001b[0m| \u001b[36msuperduper.base.datalayer\u001b[0m:\u001b[36m387 \u001b[0m | \u001b[1mComponent (OpenAIEmbedding, text-embedding) not found in cache, loading from db\u001b[0m\n",
      "\u001b[32m2025-Feb-24 15:47:13.88\u001b[0m| \u001b[1mINFO    \u001b[0m | \u001b[36mDuncans-MBP.fritz.box\u001b[0m| \u001b[36msuperduper.base.datalayer\u001b[0m:\u001b[36m393 \u001b[0m | \u001b[1mLoad (('OpenAIEmbedding', 'text-embedding')) from metadata...\u001b[0m\n",
      "\u001b[32m2025-Feb-24 15:47:13.89\u001b[0m| \u001b[1mINFO    \u001b[0m | \u001b[36mDuncans-MBP.fritz.box\u001b[0m| \u001b[36msuperduper.base.apply\u001b[0m:\u001b[36m369 \u001b[0m | \u001b[1mFound new OpenAIEmbedding:text-embedding:39cd950ee50648f4\u001b[0m\n",
      "\u001b[32m2025-Feb-24 15:47:13.89\u001b[0m| \u001b[1mINFO    \u001b[0m | \u001b[36mDuncans-MBP.fritz.box\u001b[0m| \u001b[36msuperduper.base.datalayer\u001b[0m:\u001b[36m387 \u001b[0m | \u001b[1mComponent (Listener, embeddinglistener) not found in cache, loading from db\u001b[0m\n",
      "\u001b[32m2025-Feb-24 15:47:13.89\u001b[0m| \u001b[1mINFO    \u001b[0m | \u001b[36mDuncans-MBP.fritz.box\u001b[0m| \u001b[36msuperduper.base.datalayer\u001b[0m:\u001b[36m393 \u001b[0m | \u001b[1mLoad (('Listener', 'embeddinglistener')) from metadata...\u001b[0m\n",
      "\u001b[32m2025-Feb-24 15:47:13.89\u001b[0m| \u001b[1mINFO    \u001b[0m | \u001b[36mDuncans-MBP.fritz.box\u001b[0m| \u001b[36msuperduper.base.datalayer\u001b[0m:\u001b[36m387 \u001b[0m | \u001b[1mComponent (Table, _outputs__embeddinglistener__3034f3f719934df7) not found in cache, loading from db\u001b[0m\n",
      "\u001b[32m2025-Feb-24 15:47:13.89\u001b[0m| \u001b[1mINFO    \u001b[0m | \u001b[36mDuncans-MBP.fritz.box\u001b[0m| \u001b[36msuperduper.base.datalayer\u001b[0m:\u001b[36m393 \u001b[0m | \u001b[1mLoad (('Table', '_outputs__embeddinglistener__3034f3f719934df7')) from metadata...\u001b[0m\n",
      "\u001b[32m2025-Feb-24 15:47:13.89\u001b[0m| \u001b[1mINFO    \u001b[0m | \u001b[36mDuncans-MBP.fritz.box\u001b[0m| \u001b[36msuperduper.base.apply\u001b[0m:\u001b[36m369 \u001b[0m | \u001b[1mFound new Table:_outputs__embeddinglistener__3034f3f719934df7:df7a3ef7dc484ed9\u001b[0m\n",
      "\u001b[32m2025-Feb-24 15:47:13.89\u001b[0m| \u001b[1mINFO    \u001b[0m | \u001b[36mDuncans-MBP.fritz.box\u001b[0m| \u001b[36msuperduper.base.apply\u001b[0m:\u001b[36m369 \u001b[0m | \u001b[1mFound new Listener:embeddinglistener:3034f3f719934df7\u001b[0m\n",
      "\u001b[32m2025-Feb-24 15:47:13.89\u001b[0m| \u001b[1mINFO    \u001b[0m | \u001b[36mDuncans-MBP.fritz.box\u001b[0m| \u001b[36msuperduper.base.datalayer\u001b[0m:\u001b[36m387 \u001b[0m | \u001b[1mComponent (VectorIndex, vectorindex) not found in cache, loading from db\u001b[0m\n",
      "\u001b[32m2025-Feb-24 15:47:13.89\u001b[0m| \u001b[1mINFO    \u001b[0m | \u001b[36mDuncans-MBP.fritz.box\u001b[0m| \u001b[36msuperduper.base.datalayer\u001b[0m:\u001b[36m393 \u001b[0m | \u001b[1mLoad (('VectorIndex', 'vectorindex')) from metadata...\u001b[0m\n",
      "\u001b[32m2025-Feb-24 15:47:13.89\u001b[0m| \u001b[1mINFO    \u001b[0m | \u001b[36mDuncans-MBP.fritz.box\u001b[0m| \u001b[36msuperduper.base.apply\u001b[0m:\u001b[36m369 \u001b[0m | \u001b[1mFound new VectorIndex:vectorindex:e29c6a32d4a2401b\u001b[0m\n",
      "\u001b[32m2025-Feb-24 15:47:13.89\u001b[0m| \u001b[1mINFO    \u001b[0m | \u001b[36mDuncans-MBP.fritz.box\u001b[0m| \u001b[36msuperduper.base.datalayer\u001b[0m:\u001b[36m387 \u001b[0m | \u001b[1mComponent (Table, Table) not found in cache, loading from db\u001b[0m\n",
      "\u001b[32m2025-Feb-24 15:47:13.89\u001b[0m| \u001b[1mINFO    \u001b[0m | \u001b[36mDuncans-MBP.fritz.box\u001b[0m| \u001b[36msuperduper.base.datalayer\u001b[0m:\u001b[36m393 \u001b[0m | \u001b[1mLoad (('Table', 'Table')) from metadata...\u001b[0m\n",
      "\u001b[32m2025-Feb-24 15:47:13.89\u001b[0m| \u001b[1mINFO    \u001b[0m | \u001b[36mDuncans-MBP.fritz.box\u001b[0m| \u001b[36msuperduper.base.datalayer\u001b[0m:\u001b[36m405 \u001b[0m | \u001b[1mAdding Table:Table:abc to cache\u001b[0m\n",
      "\u001b[32m2025-Feb-24 15:47:13.91\u001b[0m| \u001b[1mINFO    \u001b[0m | \u001b[36mDuncans-MBP.fritz.box\u001b[0m| \u001b[36msuperduper.base.datalayer\u001b[0m:\u001b[36m387 \u001b[0m | \u001b[1mComponent (Table, Table) not found in cache, loading from db\u001b[0m\n",
      "\u001b[32m2025-Feb-24 15:47:13.91\u001b[0m| \u001b[1mINFO    \u001b[0m | \u001b[36mDuncans-MBP.fritz.box\u001b[0m| \u001b[36msuperduper.base.datalayer\u001b[0m:\u001b[36m393 \u001b[0m | \u001b[1mLoad (('Table', 'Table')) from metadata...\u001b[0m\n",
      "\u001b[32m2025-Feb-24 15:47:13.91\u001b[0m| \u001b[1mINFO    \u001b[0m | \u001b[36mDuncans-MBP.fritz.box\u001b[0m| \u001b[36msuperduper.base.datalayer\u001b[0m:\u001b[36m405 \u001b[0m | \u001b[1mAdding Table:Table:abc to cache\u001b[0m\n",
      "\u001b[32m2025-Feb-24 15:47:13.92\u001b[0m| \u001b[1mINFO    \u001b[0m | \u001b[36mDuncans-MBP.fritz.box\u001b[0m| \u001b[36msuperduper.base.datalayer\u001b[0m:\u001b[36m387 \u001b[0m | \u001b[1mComponent (OpenAIChatCompletion, llm-model) not found in cache, loading from db\u001b[0m\n",
      "\u001b[32m2025-Feb-24 15:47:13.92\u001b[0m| \u001b[1mINFO    \u001b[0m | \u001b[36mDuncans-MBP.fritz.box\u001b[0m| \u001b[36msuperduper.base.datalayer\u001b[0m:\u001b[36m393 \u001b[0m | \u001b[1mLoad (('OpenAIChatCompletion', 'llm-model')) from metadata...\u001b[0m\n",
      "\u001b[32m2025-Feb-24 15:47:13.92\u001b[0m| \u001b[1mINFO    \u001b[0m | \u001b[36mDuncans-MBP.fritz.box\u001b[0m| \u001b[36msuperduper.base.apply\u001b[0m:\u001b[36m369 \u001b[0m | \u001b[1mFound new OpenAIChatCompletion:llm-model:b6edec4cc545457c\u001b[0m\n",
      "\u001b[32m2025-Feb-24 15:47:13.92\u001b[0m| \u001b[1mINFO    \u001b[0m | \u001b[36mDuncans-MBP.fritz.box\u001b[0m| \u001b[36msuperduper.base.datalayer\u001b[0m:\u001b[36m387 \u001b[0m | \u001b[1mComponent (RAGModel, simple_rag) not found in cache, loading from db\u001b[0m\n",
      "\u001b[32m2025-Feb-24 15:47:13.92\u001b[0m| \u001b[1mINFO    \u001b[0m | \u001b[36mDuncans-MBP.fritz.box\u001b[0m| \u001b[36msuperduper.base.datalayer\u001b[0m:\u001b[36m393 \u001b[0m | \u001b[1mLoad (('RAGModel', 'simple_rag')) from metadata...\u001b[0m\n",
      "\u001b[32m2025-Feb-24 15:47:13.92\u001b[0m| \u001b[1mINFO    \u001b[0m | \u001b[36mDuncans-MBP.fritz.box\u001b[0m| \u001b[36msuperduper.base.apply\u001b[0m:\u001b[36m369 \u001b[0m | \u001b[1mFound new RAGModel:simple_rag:064cc402dcfa45cd\u001b[0m\n",
      "\u001b[32m2025-Feb-24 15:47:13.93\u001b[0m| \u001b[1mINFO    \u001b[0m | \u001b[36mDuncans-MBP.fritz.box\u001b[0m| \u001b[36msuperduper.base.datalayer\u001b[0m:\u001b[36m387 \u001b[0m | \u001b[1mComponent (Table, Table) not found in cache, loading from db\u001b[0m\n",
      "\u001b[32m2025-Feb-24 15:47:13.93\u001b[0m| \u001b[1mINFO    \u001b[0m | \u001b[36mDuncans-MBP.fritz.box\u001b[0m| \u001b[36msuperduper.base.datalayer\u001b[0m:\u001b[36m393 \u001b[0m | \u001b[1mLoad (('Table', 'Table')) from metadata...\u001b[0m\n",
      "\u001b[32m2025-Feb-24 15:47:13.93\u001b[0m| \u001b[1mINFO    \u001b[0m | \u001b[36mDuncans-MBP.fritz.box\u001b[0m| \u001b[36msuperduper.base.datalayer\u001b[0m:\u001b[36m405 \u001b[0m | \u001b[1mAdding Table:Table:abc to cache\u001b[0m\n",
      "\u001b[32m2025-Feb-24 15:47:13.94\u001b[0m| \u001b[1mINFO    \u001b[0m | \u001b[36mDuncans-MBP.fritz.box\u001b[0m| \u001b[36msuperduper.base.datalayer\u001b[0m:\u001b[36m387 \u001b[0m | \u001b[1mComponent (Plugin, plugin-rag_plugin_py) not found in cache, loading from db\u001b[0m\n",
      "\u001b[32m2025-Feb-24 15:47:13.94\u001b[0m| \u001b[1mINFO    \u001b[0m | \u001b[36mDuncans-MBP.fritz.box\u001b[0m| \u001b[36msuperduper.base.datalayer\u001b[0m:\u001b[36m393 \u001b[0m | \u001b[1mLoad (('Plugin', 'plugin-rag_plugin_py')) from metadata...\u001b[0m\n",
      "\u001b[32m2025-Feb-24 15:47:13.94\u001b[0m| \u001b[1mINFO    \u001b[0m | \u001b[36mDuncans-MBP.fritz.box\u001b[0m| \u001b[36msuperduper.base.apply\u001b[0m:\u001b[36m369 \u001b[0m | \u001b[1mFound new Plugin:plugin-rag_plugin_py:rag-plugin\u001b[0m\n",
      "\u001b[32m2025-Feb-24 15:47:13.94\u001b[0m| \u001b[1mINFO    \u001b[0m | \u001b[36mDuncans-MBP.fritz.box\u001b[0m| \u001b[36msuperduper.base.artifacts\u001b[0m:\u001b[36m272 \u001b[0m | \u001b[1mCopying file ./rag_plugin.py to ./artifact_store/f74492989c5ac8b5eba5041c05b9927b08d08ffa/rag_plugin.py\u001b[0m\n",
      "\u001b[32m2025-Feb-24 15:47:13.94\u001b[0m| \u001b[1mINFO    \u001b[0m | \u001b[36mDuncans-MBP.fritz.box\u001b[0m| \u001b[36msuperduper.base.datalayer\u001b[0m:\u001b[36m387 \u001b[0m | \u001b[1mComponent (Streamlit, simple-rag-demo) not found in cache, loading from db\u001b[0m\n",
      "\u001b[32m2025-Feb-24 15:47:13.94\u001b[0m| \u001b[1mINFO    \u001b[0m | \u001b[36mDuncans-MBP.fritz.box\u001b[0m| \u001b[36msuperduper.base.datalayer\u001b[0m:\u001b[36m393 \u001b[0m | \u001b[1mLoad (('Streamlit', 'simple-rag-demo')) from metadata...\u001b[0m\n",
      "\u001b[32m2025-Feb-24 15:47:13.94\u001b[0m| \u001b[1mINFO    \u001b[0m | \u001b[36mDuncans-MBP.fritz.box\u001b[0m| \u001b[36msuperduper.base.apply\u001b[0m:\u001b[36m369 \u001b[0m | \u001b[1mFound new Streamlit:simple-rag-demo:e0adf48318e4482d\u001b[0m\n",
      "\u001b[32m2025-Feb-24 15:47:13.95\u001b[0m| \u001b[1mINFO    \u001b[0m | \u001b[36mDuncans-MBP.fritz.box\u001b[0m| \u001b[36msuperduper.base.datalayer\u001b[0m:\u001b[36m387 \u001b[0m | \u001b[1mComponent (Application, simple-rag-app) not found in cache, loading from db\u001b[0m\n",
      "\u001b[32m2025-Feb-24 15:47:13.95\u001b[0m| \u001b[1mINFO    \u001b[0m | \u001b[36mDuncans-MBP.fritz.box\u001b[0m| \u001b[36msuperduper.base.datalayer\u001b[0m:\u001b[36m393 \u001b[0m | \u001b[1mLoad (('Application', 'simple-rag-app')) from metadata...\u001b[0m\n",
      "\u001b[32m2025-Feb-24 15:47:13.95\u001b[0m| \u001b[1mINFO    \u001b[0m | \u001b[36mDuncans-MBP.fritz.box\u001b[0m| \u001b[36msuperduper.base.apply\u001b[0m:\u001b[36m369 \u001b[0m | \u001b[1mFound new Application:simple-rag-app:f50f5d81b4704364\u001b[0m\n",
      "\u001b[32m2025-Feb-24 15:47:13.95\u001b[0m| \u001b[1mINFO    \u001b[0m | \u001b[36mDuncans-MBP.fritz.box\u001b[0m| \u001b[36msuperduper.base.apply\u001b[0m:\u001b[36m78  \u001b[0m | \u001b[1mFound these changes and/ or additions that need to be made:\u001b[0m\n",
      "\u001b[32m2025-Feb-24 15:47:13.95\u001b[0m| \u001b[1mINFO    \u001b[0m | \u001b[36mDuncans-MBP.fritz.box\u001b[0m| \u001b[36msuperduper.base.apply\u001b[0m:\u001b[36m80  \u001b[0m | \u001b[1m----------------------------------------------------------------------------------------------------\u001b[0m\n",
      "\u001b[32m2025-Feb-24 15:47:13.95\u001b[0m| \u001b[1mINFO    \u001b[0m | \u001b[36mDuncans-MBP.fritz.box\u001b[0m| \u001b[36msuperduper.base.apply\u001b[0m:\u001b[36m81  \u001b[0m | \u001b[1mMETADATA EVENTS:\u001b[0m\n",
      "\u001b[32m2025-Feb-24 15:47:13.95\u001b[0m| \u001b[1mINFO    \u001b[0m | \u001b[36mDuncans-MBP.fritz.box\u001b[0m| \u001b[36msuperduper.base.apply\u001b[0m:\u001b[36m82  \u001b[0m | \u001b[1m----------------------------------------------------------------------------------------------------\u001b[0m\n",
      "\u001b[32m2025-Feb-24 15:47:13.95\u001b[0m| \u001b[1mINFO    \u001b[0m | \u001b[36mDuncans-MBP.fritz.box\u001b[0m| \u001b[36msuperduper.base.apply\u001b[0m:\u001b[36m89  \u001b[0m | \u001b[1m[0]: Plugin:plugin-rag_plugin_py:rag-plugin: create ~ [10]\u001b[0m\n",
      "\u001b[32m2025-Feb-24 15:47:13.95\u001b[0m| \u001b[1mINFO    \u001b[0m | \u001b[36mDuncans-MBP.fritz.box\u001b[0m| \u001b[36msuperduper.base.apply\u001b[0m:\u001b[36m89  \u001b[0m | \u001b[1m[1]: Chunker:chunker:b18dc899dde44cf1: create ~ [3]\u001b[0m\n",
      "\u001b[32m2025-Feb-24 15:47:13.95\u001b[0m| \u001b[1mINFO    \u001b[0m | \u001b[36mDuncans-MBP.fritz.box\u001b[0m| \u001b[36msuperduper.base.apply\u001b[0m:\u001b[36m89  \u001b[0m | \u001b[1m[2]: Table:_outputs__chunker__ef2ec6de73564919:fb7aa9e5ffce4691: create ~ [3]\u001b[0m\n",
      "\u001b[32m2025-Feb-24 15:47:13.95\u001b[0m| \u001b[1mINFO    \u001b[0m | \u001b[36mDuncans-MBP.fritz.box\u001b[0m| \u001b[36msuperduper.base.apply\u001b[0m:\u001b[36m89  \u001b[0m | \u001b[1m[3]: Listener:chunker:ef2ec6de73564919: create ~ [11]\u001b[0m\n",
      "\u001b[32m2025-Feb-24 15:47:13.95\u001b[0m| \u001b[1mINFO    \u001b[0m | \u001b[36mDuncans-MBP.fritz.box\u001b[0m| \u001b[36msuperduper.base.apply\u001b[0m:\u001b[36m89  \u001b[0m | \u001b[1m[4]: OpenAIEmbedding:text-embedding:39cd950ee50648f4: create ~ [6]\u001b[0m\n",
      "\u001b[32m2025-Feb-24 15:47:13.95\u001b[0m| \u001b[1mINFO    \u001b[0m | \u001b[36mDuncans-MBP.fritz.box\u001b[0m| \u001b[36msuperduper.base.apply\u001b[0m:\u001b[36m89  \u001b[0m | \u001b[1m[5]: Table:_outputs__embeddinglistener__3034f3f719934df7:df7a3ef7dc484ed9: create ~ [6]\u001b[0m\n",
      "\u001b[32m2025-Feb-24 15:47:13.95\u001b[0m| \u001b[1mINFO    \u001b[0m | \u001b[36mDuncans-MBP.fritz.box\u001b[0m| \u001b[36msuperduper.base.apply\u001b[0m:\u001b[36m89  \u001b[0m | \u001b[1m[6]: Listener:embeddinglistener:3034f3f719934df7: create ~ [7]\u001b[0m\n",
      "\u001b[32m2025-Feb-24 15:47:13.95\u001b[0m| \u001b[1mINFO    \u001b[0m | \u001b[36mDuncans-MBP.fritz.box\u001b[0m| \u001b[36msuperduper.base.apply\u001b[0m:\u001b[36m89  \u001b[0m | \u001b[1m[7]: VectorIndex:vectorindex:e29c6a32d4a2401b: create ~ [11]\u001b[0m\n",
      "\u001b[32m2025-Feb-24 15:47:13.95\u001b[0m| \u001b[1mINFO    \u001b[0m | \u001b[36mDuncans-MBP.fritz.box\u001b[0m| \u001b[36msuperduper.base.apply\u001b[0m:\u001b[36m89  \u001b[0m | \u001b[1m[8]: OpenAIChatCompletion:llm-model:b6edec4cc545457c: create ~ [9]\u001b[0m\n",
      "\u001b[32m2025-Feb-24 15:47:13.95\u001b[0m| \u001b[1mINFO    \u001b[0m | \u001b[36mDuncans-MBP.fritz.box\u001b[0m| \u001b[36msuperduper.base.apply\u001b[0m:\u001b[36m89  \u001b[0m | \u001b[1m[9]: RAGModel:simple_rag:064cc402dcfa45cd: create ~ [11]\u001b[0m\n",
      "\u001b[32m2025-Feb-24 15:47:13.95\u001b[0m| \u001b[1mINFO    \u001b[0m | \u001b[36mDuncans-MBP.fritz.box\u001b[0m| \u001b[36msuperduper.base.apply\u001b[0m:\u001b[36m89  \u001b[0m | \u001b[1m[10]: Streamlit:simple-rag-demo:e0adf48318e4482d: create ~ [11]\u001b[0m\n",
      "\u001b[32m2025-Feb-24 15:47:13.95\u001b[0m| \u001b[1mINFO    \u001b[0m | \u001b[36mDuncans-MBP.fritz.box\u001b[0m| \u001b[36msuperduper.base.apply\u001b[0m:\u001b[36m93  \u001b[0m | \u001b[1m[11]: Application:simple-rag-app:f50f5d81b4704364: create\u001b[0m\n",
      "\u001b[32m2025-Feb-24 15:47:13.95\u001b[0m| \u001b[1mINFO    \u001b[0m | \u001b[36mDuncans-MBP.fritz.box\u001b[0m| \u001b[36msuperduper.base.apply\u001b[0m:\u001b[36m95  \u001b[0m | \u001b[1m----------------------------------------------------------------------------------------------------\u001b[0m\n",
      "\u001b[32m2025-Feb-24 15:47:13.95\u001b[0m| \u001b[1mINFO    \u001b[0m | \u001b[36mDuncans-MBP.fritz.box\u001b[0m| \u001b[36msuperduper.base.apply\u001b[0m:\u001b[36m96  \u001b[0m | \u001b[1mJOBS EVENTS:\u001b[0m\n",
      "\u001b[32m2025-Feb-24 15:47:13.95\u001b[0m| \u001b[1mINFO    \u001b[0m | \u001b[36mDuncans-MBP.fritz.box\u001b[0m| \u001b[36msuperduper.base.apply\u001b[0m:\u001b[36m97  \u001b[0m | \u001b[1m----------------------------------------------------------------------------------------------------\u001b[0m\n",
      "\u001b[32m2025-Feb-24 15:47:13.95\u001b[0m| \u001b[1mINFO    \u001b[0m | \u001b[36mDuncans-MBP.fritz.box\u001b[0m| \u001b[36msuperduper.base.apply\u001b[0m:\u001b[36m110 \u001b[0m | \u001b[1m[0]: Listener:chunker:ef2ec6de73564919.run: run\u001b[0m\n",
      "\u001b[32m2025-Feb-24 15:47:13.95\u001b[0m| \u001b[1mINFO    \u001b[0m | \u001b[36mDuncans-MBP.fritz.box\u001b[0m| \u001b[36msuperduper.base.apply\u001b[0m:\u001b[36m105 \u001b[0m | \u001b[1m[1]: Listener:chunker:ef2ec6de73564919.set_status: set_status ~ [0]\u001b[0m\n",
      "\u001b[32m2025-Feb-24 15:47:13.95\u001b[0m| \u001b[1mINFO    \u001b[0m | \u001b[36mDuncans-MBP.fritz.box\u001b[0m| \u001b[36msuperduper.base.apply\u001b[0m:\u001b[36m105 \u001b[0m | \u001b[1m[2]: Listener:embeddinglistener:3034f3f719934df7.run: run ~ [0,1]\u001b[0m\n",
      "\u001b[32m2025-Feb-24 15:47:13.95\u001b[0m| \u001b[1mINFO    \u001b[0m | \u001b[36mDuncans-MBP.fritz.box\u001b[0m| \u001b[36msuperduper.base.apply\u001b[0m:\u001b[36m105 \u001b[0m | \u001b[1m[3]: Listener:embeddinglistener:3034f3f719934df7.set_status: set_status ~ [2]\u001b[0m\n",
      "\u001b[32m2025-Feb-24 15:47:13.95\u001b[0m| \u001b[1mINFO    \u001b[0m | \u001b[36mDuncans-MBP.fritz.box\u001b[0m| \u001b[36msuperduper.base.apply\u001b[0m:\u001b[36m105 \u001b[0m | \u001b[1m[4]: VectorIndex:vectorindex:e29c6a32d4a2401b.copy_vectors: copy_vectors ~ [2,3]\u001b[0m\n",
      "\u001b[32m2025-Feb-24 15:47:13.95\u001b[0m| \u001b[1mINFO    \u001b[0m | \u001b[36mDuncans-MBP.fritz.box\u001b[0m| \u001b[36msuperduper.base.apply\u001b[0m:\u001b[36m105 \u001b[0m | \u001b[1m[5]: VectorIndex:vectorindex:e29c6a32d4a2401b.set_status: set_status ~ [4]\u001b[0m\n",
      "\u001b[32m2025-Feb-24 15:47:13.95\u001b[0m| \u001b[1mINFO    \u001b[0m | \u001b[36mDuncans-MBP.fritz.box\u001b[0m| \u001b[36msuperduper.base.apply\u001b[0m:\u001b[36m112 \u001b[0m | \u001b[1m----------------------------------------------------------------------------------------------------\u001b[0m\n",
      "\u001b[32m2025-Feb-24 15:47:13.95\u001b[0m| \u001b[1mINFO    \u001b[0m | \u001b[36mDuncans-MBP.fritz.box\u001b[0m| \u001b[36msuperduper.base.datalayer\u001b[0m:\u001b[36m387 \u001b[0m | \u001b[1mComponent (Table, ArtifactRelations) not found in cache, loading from db\u001b[0m\n",
      "\u001b[32m2025-Feb-24 15:47:13.95\u001b[0m| \u001b[1mINFO    \u001b[0m | \u001b[36mDuncans-MBP.fritz.box\u001b[0m| \u001b[36msuperduper.base.datalayer\u001b[0m:\u001b[36m393 \u001b[0m | \u001b[1mLoad (('Table', 'ArtifactRelations')) from metadata...\u001b[0m\n",
      "\u001b[32m2025-Feb-24 15:47:13.95\u001b[0m| \u001b[1mINFO    \u001b[0m | \u001b[36mDuncans-MBP.fritz.box\u001b[0m| \u001b[36msuperduper.base.datalayer\u001b[0m:\u001b[36m405 \u001b[0m | \u001b[1mAdding Table:ArtifactRelations:ghi to cache\u001b[0m\n",
      "\u001b[32m2025-Feb-24 15:47:13.99\u001b[0m| \u001b[1mINFO    \u001b[0m | \u001b[36mDuncans-MBP.fritz.box\u001b[0m| \u001b[36msuperduper.base.datalayer\u001b[0m:\u001b[36m387 \u001b[0m | \u001b[1mComponent (Table, Plugin) not found in cache, loading from db\u001b[0m\n",
      "\u001b[32m2025-Feb-24 15:47:13.99\u001b[0m| \u001b[1mINFO    \u001b[0m | \u001b[36mDuncans-MBP.fritz.box\u001b[0m| \u001b[36msuperduper.base.datalayer\u001b[0m:\u001b[36m393 \u001b[0m | \u001b[1mLoad (('Table', 'Plugin')) from metadata...\u001b[0m\n",
      "\u001b[32m2025-Feb-24 15:47:13.99\u001b[0m| \u001b[1mINFO    \u001b[0m | \u001b[36mDuncans-MBP.fritz.box\u001b[0m| \u001b[36msuperduper.base.datalayer\u001b[0m:\u001b[36m405 \u001b[0m | \u001b[1mAdding Table:Plugin:113a7d062a68412b to cache\u001b[0m\n",
      "\u001b[32m2025-Feb-24 15:47:14.03\u001b[0m| \u001b[1mINFO    \u001b[0m | \u001b[36mDuncans-MBP.fritz.box\u001b[0m| \u001b[36msuperduper.base.datalayer\u001b[0m:\u001b[36m361 \u001b[0m | \u001b[1mComponent rag-plugin not found in cache, loading from db with uuid\u001b[0m\n",
      "\u001b[32m2025-Feb-24 15:47:14.04\u001b[0m| \u001b[1mINFO    \u001b[0m | \u001b[36mDuncans-MBP.fritz.box\u001b[0m| \u001b[36msuperduper.base.datalayer\u001b[0m:\u001b[36m378 \u001b[0m | \u001b[1mAdding Plugin:plugin-rag_plugin_py:rag-plugin to cache\u001b[0m\n",
      "\u001b[32m2025-Feb-24 15:47:14.04\u001b[0m| \u001b[1mINFO    \u001b[0m | \u001b[36mDuncans-MBP.fritz.box\u001b[0m| \u001b[36msuperduper.base.datalayer\u001b[0m:\u001b[36m387 \u001b[0m | \u001b[1mComponent (Table, ParentChildAssociations) not found in cache, loading from db\u001b[0m\n",
      "\u001b[32m2025-Feb-24 15:47:14.04\u001b[0m| \u001b[1mINFO    \u001b[0m | \u001b[36mDuncans-MBP.fritz.box\u001b[0m| \u001b[36msuperduper.base.datalayer\u001b[0m:\u001b[36m393 \u001b[0m | \u001b[1mLoad (('Table', 'ParentChildAssociations')) from metadata...\u001b[0m\n",
      "\u001b[32m2025-Feb-24 15:47:14.04\u001b[0m| \u001b[1mINFO    \u001b[0m | \u001b[36mDuncans-MBP.fritz.box\u001b[0m| \u001b[36msuperduper.base.datalayer\u001b[0m:\u001b[36m405 \u001b[0m | \u001b[1mAdding Table:ParentChildAssociations:def to cache\u001b[0m\n",
      "\u001b[32m2025-Feb-24 15:47:14.08\u001b[0m| \u001b[1mINFO    \u001b[0m | \u001b[36mDuncans-MBP.fritz.box\u001b[0m| \u001b[36msuperduper.components.component\u001b[0m:\u001b[36m504 \u001b[0m | \u001b[1mAdding Plugin:plugin-rag_plugin_py to cache\u001b[0m\n",
      "\u001b[32m2025-Feb-24 15:47:14.09\u001b[0m| \u001b[1mINFO    \u001b[0m | \u001b[36mDuncans-MBP.fritz.box\u001b[0m| \u001b[36msuperduper.base.datalayer\u001b[0m:\u001b[36m387 \u001b[0m | \u001b[1mComponent (Table, Chunker) not found in cache, loading from db\u001b[0m\n",
      "\u001b[32m2025-Feb-24 15:47:14.09\u001b[0m| \u001b[1mINFO    \u001b[0m | \u001b[36mDuncans-MBP.fritz.box\u001b[0m| \u001b[36msuperduper.base.datalayer\u001b[0m:\u001b[36m393 \u001b[0m | \u001b[1mLoad (('Table', 'Chunker')) from metadata...\u001b[0m\n",
      "\u001b[32m2025-Feb-24 15:47:14.09\u001b[0m| \u001b[1mINFO    \u001b[0m | \u001b[36mDuncans-MBP.fritz.box\u001b[0m| \u001b[36msuperduper.base.datalayer\u001b[0m:\u001b[36m405 \u001b[0m | \u001b[1mAdding Table:Chunker:08e44ff129bc4795 to cache\u001b[0m\n",
      "\u001b[32m2025-Feb-24 15:47:14.14\u001b[0m| \u001b[1mINFO    \u001b[0m | \u001b[36mDuncans-MBP.fritz.box\u001b[0m| \u001b[36msuperduper.base.datalayer\u001b[0m:\u001b[36m361 \u001b[0m | \u001b[1mComponent b18dc899dde44cf1 not found in cache, loading from db with uuid\u001b[0m\n",
      "\u001b[32m2025-Feb-24 15:47:14.15\u001b[0m| \u001b[1mINFO    \u001b[0m | \u001b[36mDuncans-MBP.fritz.box\u001b[0m| \u001b[36msuperduper.base.datalayer\u001b[0m:\u001b[36m378 \u001b[0m | \u001b[1mAdding Chunker:chunker:b18dc899dde44cf1 to cache\u001b[0m\n",
      "\u001b[32m2025-Feb-24 15:47:14.16\u001b[0m| \u001b[1mINFO    \u001b[0m | \u001b[36mDuncans-MBP.fritz.box\u001b[0m| \u001b[36msuperduper.base.datalayer\u001b[0m:\u001b[36m387 \u001b[0m | \u001b[1mComponent (Table, ParentChildAssociations) not found in cache, loading from db\u001b[0m\n",
      "\u001b[32m2025-Feb-24 15:47:14.16\u001b[0m| \u001b[1mINFO    \u001b[0m | \u001b[36mDuncans-MBP.fritz.box\u001b[0m| \u001b[36msuperduper.base.datalayer\u001b[0m:\u001b[36m393 \u001b[0m | \u001b[1mLoad (('Table', 'ParentChildAssociations')) from metadata...\u001b[0m\n",
      "\u001b[32m2025-Feb-24 15:47:14.16\u001b[0m| \u001b[1mINFO    \u001b[0m | \u001b[36mDuncans-MBP.fritz.box\u001b[0m| \u001b[36msuperduper.base.datalayer\u001b[0m:\u001b[36m405 \u001b[0m | \u001b[1mAdding Table:ParentChildAssociations:def to cache\u001b[0m\n",
      "\u001b[32m2025-Feb-24 15:47:14.19\u001b[0m| \u001b[1mINFO    \u001b[0m | \u001b[36mDuncans-MBP.fritz.box\u001b[0m| \u001b[36msuperduper.components.component\u001b[0m:\u001b[36m504 \u001b[0m | \u001b[1mAdding Chunker:chunker to cache\u001b[0m\n",
      "\u001b[32m2025-Feb-24 15:47:14.19\u001b[0m| \u001b[1mINFO    \u001b[0m | \u001b[36mDuncans-MBP.fritz.box\u001b[0m| \u001b[36msuperduper.base.datalayer\u001b[0m:\u001b[36m387 \u001b[0m | \u001b[1mComponent (Table, Table) not found in cache, loading from db\u001b[0m\n",
      "\u001b[32m2025-Feb-24 15:47:14.19\u001b[0m| \u001b[1mINFO    \u001b[0m | \u001b[36mDuncans-MBP.fritz.box\u001b[0m| \u001b[36msuperduper.base.datalayer\u001b[0m:\u001b[36m393 \u001b[0m | \u001b[1mLoad (('Table', 'Table')) from metadata...\u001b[0m\n",
      "\u001b[32m2025-Feb-24 15:47:14.19\u001b[0m| \u001b[1mINFO    \u001b[0m | \u001b[36mDuncans-MBP.fritz.box\u001b[0m| \u001b[36msuperduper.base.datalayer\u001b[0m:\u001b[36m405 \u001b[0m | \u001b[1mAdding Table:Table:abc to cache\u001b[0m\n",
      "\u001b[32m2025-Feb-24 15:47:14.21\u001b[0m| \u001b[1mINFO    \u001b[0m | \u001b[36mDuncans-MBP.fritz.box\u001b[0m| \u001b[36msuperduper.base.datalayer\u001b[0m:\u001b[36m361 \u001b[0m | \u001b[1mComponent fb7aa9e5ffce4691 not found in cache, loading from db with uuid\u001b[0m\n",
      "\u001b[32m2025-Feb-24 15:47:14.22\u001b[0m| \u001b[1mINFO    \u001b[0m | \u001b[36mDuncans-MBP.fritz.box\u001b[0m| \u001b[36msuperduper.base.datalayer\u001b[0m:\u001b[36m378 \u001b[0m | \u001b[1mAdding Table:_outputs__chunker__ef2ec6de73564919:fb7aa9e5ffce4691 to cache\u001b[0m\n",
      "\u001b[32m2025-Feb-24 15:47:14.22\u001b[0m| \u001b[1mINFO    \u001b[0m | \u001b[36mDuncans-MBP.fritz.box\u001b[0m| \u001b[36msuperduper.base.datalayer\u001b[0m:\u001b[36m387 \u001b[0m | \u001b[1mComponent (Table, ParentChildAssociations) not found in cache, loading from db\u001b[0m\n",
      "\u001b[32m2025-Feb-24 15:47:14.22\u001b[0m| \u001b[1mINFO    \u001b[0m | \u001b[36mDuncans-MBP.fritz.box\u001b[0m| \u001b[36msuperduper.base.datalayer\u001b[0m:\u001b[36m393 \u001b[0m | \u001b[1mLoad (('Table', 'ParentChildAssociations')) from metadata...\u001b[0m\n",
      "\u001b[32m2025-Feb-24 15:47:14.22\u001b[0m| \u001b[1mINFO    \u001b[0m | \u001b[36mDuncans-MBP.fritz.box\u001b[0m| \u001b[36msuperduper.base.datalayer\u001b[0m:\u001b[36m405 \u001b[0m | \u001b[1mAdding Table:ParentChildAssociations:def to cache\u001b[0m\n",
      "\u001b[32m2025-Feb-24 15:47:14.24\u001b[0m| \u001b[1mINFO    \u001b[0m | \u001b[36mDuncans-MBP.fritz.box\u001b[0m| \u001b[36msuperduper.base.datalayer\u001b[0m:\u001b[36m387 \u001b[0m | \u001b[1mComponent (Table, Listener) not found in cache, loading from db\u001b[0m\n",
      "\u001b[32m2025-Feb-24 15:47:14.24\u001b[0m| \u001b[1mINFO    \u001b[0m | \u001b[36mDuncans-MBP.fritz.box\u001b[0m| \u001b[36msuperduper.base.datalayer\u001b[0m:\u001b[36m393 \u001b[0m | \u001b[1mLoad (('Table', 'Listener')) from metadata...\u001b[0m\n",
      "\u001b[32m2025-Feb-24 15:47:14.24\u001b[0m| \u001b[1mINFO    \u001b[0m | \u001b[36mDuncans-MBP.fritz.box\u001b[0m| \u001b[36msuperduper.base.datalayer\u001b[0m:\u001b[36m405 \u001b[0m | \u001b[1mAdding Table:Listener:bd42df8e02504bd1 to cache\u001b[0m\n",
      "\u001b[32m2025-Feb-24 15:47:14.28\u001b[0m| \u001b[1mINFO    \u001b[0m | \u001b[36mDuncans-MBP.fritz.box\u001b[0m| \u001b[36msuperduper.base.datalayer\u001b[0m:\u001b[36m361 \u001b[0m | \u001b[1mComponent ef2ec6de73564919 not found in cache, loading from db with uuid\u001b[0m\n",
      "\u001b[32m2025-Feb-24 15:47:14.29\u001b[0m| \u001b[1mINFO    \u001b[0m | \u001b[36mDuncans-MBP.fritz.box\u001b[0m| \u001b[36msuperduper.base.datalayer\u001b[0m:\u001b[36m378 \u001b[0m | \u001b[1mAdding Listener:chunker:ef2ec6de73564919 to cache\u001b[0m\n",
      "\u001b[32m2025-Feb-24 15:47:14.29\u001b[0m| \u001b[1mINFO    \u001b[0m | \u001b[36mDuncans-MBP.fritz.box\u001b[0m| \u001b[36msuperduper.base.datalayer\u001b[0m:\u001b[36m387 \u001b[0m | \u001b[1mComponent (Table, ParentChildAssociations) not found in cache, loading from db\u001b[0m\n",
      "\u001b[32m2025-Feb-24 15:47:14.29\u001b[0m| \u001b[1mINFO    \u001b[0m | \u001b[36mDuncans-MBP.fritz.box\u001b[0m| \u001b[36msuperduper.base.datalayer\u001b[0m:\u001b[36m393 \u001b[0m | \u001b[1mLoad (('Table', 'ParentChildAssociations')) from metadata...\u001b[0m\n",
      "\u001b[32m2025-Feb-24 15:47:14.29\u001b[0m| \u001b[1mINFO    \u001b[0m | \u001b[36mDuncans-MBP.fritz.box\u001b[0m| \u001b[36msuperduper.base.datalayer\u001b[0m:\u001b[36m405 \u001b[0m | \u001b[1mAdding Table:ParentChildAssociations:def to cache\u001b[0m\n",
      "\u001b[32m2025-Feb-24 15:47:14.31\u001b[0m| \u001b[1mINFO    \u001b[0m | \u001b[36mDuncans-MBP.fritz.box\u001b[0m| \u001b[36msuperduper.components.component\u001b[0m:\u001b[36m504 \u001b[0m | \u001b[1mAdding Listener:chunker to cache\u001b[0m\n",
      "\u001b[32m2025-Feb-24 15:47:14.32\u001b[0m| \u001b[1mINFO    \u001b[0m | \u001b[36mDuncans-MBP.fritz.box\u001b[0m| \u001b[36msuperduper.base.datalayer\u001b[0m:\u001b[36m387 \u001b[0m | \u001b[1mComponent (Table, OpenAIEmbedding) not found in cache, loading from db\u001b[0m\n",
      "\u001b[32m2025-Feb-24 15:47:14.32\u001b[0m| \u001b[1mINFO    \u001b[0m | \u001b[36mDuncans-MBP.fritz.box\u001b[0m| \u001b[36msuperduper.base.datalayer\u001b[0m:\u001b[36m393 \u001b[0m | \u001b[1mLoad (('Table', 'OpenAIEmbedding')) from metadata...\u001b[0m\n",
      "\u001b[32m2025-Feb-24 15:47:14.32\u001b[0m| \u001b[1mINFO    \u001b[0m | \u001b[36mDuncans-MBP.fritz.box\u001b[0m| \u001b[36msuperduper.base.datalayer\u001b[0m:\u001b[36m405 \u001b[0m | \u001b[1mAdding Table:OpenAIEmbedding:51d8af0605cd411f to cache\u001b[0m\n",
      "\u001b[32m2025-Feb-24 15:47:14.37\u001b[0m| \u001b[1mINFO    \u001b[0m | \u001b[36mDuncans-MBP.fritz.box\u001b[0m| \u001b[36msuperduper.base.datalayer\u001b[0m:\u001b[36m361 \u001b[0m | \u001b[1mComponent 39cd950ee50648f4 not found in cache, loading from db with uuid\u001b[0m\n",
      "\u001b[32m2025-Feb-24 15:47:14.38\u001b[0m| \u001b[1mINFO    \u001b[0m | \u001b[36mDuncans-MBP.fritz.box\u001b[0m| \u001b[36msuperduper.base.datalayer\u001b[0m:\u001b[36m378 \u001b[0m | \u001b[1mAdding OpenAIEmbedding:text-embedding:39cd950ee50648f4 to cache\u001b[0m\n",
      "\u001b[32m2025-Feb-24 15:47:14.39\u001b[0m| \u001b[1mINFO    \u001b[0m | \u001b[36mDuncans-MBP.fritz.box\u001b[0m| \u001b[36msuperduper.base.datalayer\u001b[0m:\u001b[36m387 \u001b[0m | \u001b[1mComponent (Table, ParentChildAssociations) not found in cache, loading from db\u001b[0m\n",
      "\u001b[32m2025-Feb-24 15:47:14.39\u001b[0m| \u001b[1mINFO    \u001b[0m | \u001b[36mDuncans-MBP.fritz.box\u001b[0m| \u001b[36msuperduper.base.datalayer\u001b[0m:\u001b[36m393 \u001b[0m | \u001b[1mLoad (('Table', 'ParentChildAssociations')) from metadata...\u001b[0m\n",
      "\u001b[32m2025-Feb-24 15:47:14.39\u001b[0m| \u001b[1mINFO    \u001b[0m | \u001b[36mDuncans-MBP.fritz.box\u001b[0m| \u001b[36msuperduper.base.datalayer\u001b[0m:\u001b[36m405 \u001b[0m | \u001b[1mAdding Table:ParentChildAssociations:def to cache\u001b[0m\n",
      "\u001b[32m2025-Feb-24 15:47:14.41\u001b[0m| \u001b[1mINFO    \u001b[0m | \u001b[36mDuncans-MBP.fritz.box\u001b[0m| \u001b[36msuperduper.components.component\u001b[0m:\u001b[36m504 \u001b[0m | \u001b[1mAdding OpenAIEmbedding:text-embedding to cache\u001b[0m\n",
      "\u001b[32m2025-Feb-24 15:47:14.41\u001b[0m| \u001b[1mINFO    \u001b[0m | \u001b[36mDuncans-MBP.fritz.box\u001b[0m| \u001b[36msuperduper.base.datalayer\u001b[0m:\u001b[36m387 \u001b[0m | \u001b[1mComponent (Table, Table) not found in cache, loading from db\u001b[0m\n",
      "\u001b[32m2025-Feb-24 15:47:14.41\u001b[0m| \u001b[1mINFO    \u001b[0m | \u001b[36mDuncans-MBP.fritz.box\u001b[0m| \u001b[36msuperduper.base.datalayer\u001b[0m:\u001b[36m393 \u001b[0m | \u001b[1mLoad (('Table', 'Table')) from metadata...\u001b[0m\n",
      "\u001b[32m2025-Feb-24 15:47:14.41\u001b[0m| \u001b[1mINFO    \u001b[0m | \u001b[36mDuncans-MBP.fritz.box\u001b[0m| \u001b[36msuperduper.base.datalayer\u001b[0m:\u001b[36m405 \u001b[0m | \u001b[1mAdding Table:Table:abc to cache\u001b[0m\n",
      "\u001b[32m2025-Feb-24 15:47:14.43\u001b[0m| \u001b[1mINFO    \u001b[0m | \u001b[36mDuncans-MBP.fritz.box\u001b[0m| \u001b[36msuperduper.base.datalayer\u001b[0m:\u001b[36m361 \u001b[0m | \u001b[1mComponent df7a3ef7dc484ed9 not found in cache, loading from db with uuid\u001b[0m\n",
      "\u001b[32m2025-Feb-24 15:47:14.44\u001b[0m| \u001b[1mINFO    \u001b[0m | \u001b[36mDuncans-MBP.fritz.box\u001b[0m| \u001b[36msuperduper.base.datalayer\u001b[0m:\u001b[36m378 \u001b[0m | \u001b[1mAdding Table:_outputs__embeddinglistener__3034f3f719934df7:df7a3ef7dc484ed9 to cache\u001b[0m\n",
      "\u001b[32m2025-Feb-24 15:47:14.45\u001b[0m| \u001b[1mINFO    \u001b[0m | \u001b[36mDuncans-MBP.fritz.box\u001b[0m| \u001b[36msuperduper.base.datalayer\u001b[0m:\u001b[36m387 \u001b[0m | \u001b[1mComponent (Table, ParentChildAssociations) not found in cache, loading from db\u001b[0m\n",
      "\u001b[32m2025-Feb-24 15:47:14.45\u001b[0m| \u001b[1mINFO    \u001b[0m | \u001b[36mDuncans-MBP.fritz.box\u001b[0m| \u001b[36msuperduper.base.datalayer\u001b[0m:\u001b[36m393 \u001b[0m | \u001b[1mLoad (('Table', 'ParentChildAssociations')) from metadata...\u001b[0m\n",
      "\u001b[32m2025-Feb-24 15:47:14.45\u001b[0m| \u001b[1mINFO    \u001b[0m | \u001b[36mDuncans-MBP.fritz.box\u001b[0m| \u001b[36msuperduper.base.datalayer\u001b[0m:\u001b[36m405 \u001b[0m | \u001b[1mAdding Table:ParentChildAssociations:def to cache\u001b[0m\n",
      "\u001b[32m2025-Feb-24 15:47:14.47\u001b[0m| \u001b[1mINFO    \u001b[0m | \u001b[36mDuncans-MBP.fritz.box\u001b[0m| \u001b[36msuperduper.base.datalayer\u001b[0m:\u001b[36m387 \u001b[0m | \u001b[1mComponent (Table, Listener) not found in cache, loading from db\u001b[0m\n",
      "\u001b[32m2025-Feb-24 15:47:14.47\u001b[0m| \u001b[1mINFO    \u001b[0m | \u001b[36mDuncans-MBP.fritz.box\u001b[0m| \u001b[36msuperduper.base.datalayer\u001b[0m:\u001b[36m393 \u001b[0m | \u001b[1mLoad (('Table', 'Listener')) from metadata...\u001b[0m\n",
      "\u001b[32m2025-Feb-24 15:47:14.48\u001b[0m| \u001b[1mINFO    \u001b[0m | \u001b[36mDuncans-MBP.fritz.box\u001b[0m| \u001b[36msuperduper.base.datalayer\u001b[0m:\u001b[36m405 \u001b[0m | \u001b[1mAdding Table:Listener:bd42df8e02504bd1 to cache\u001b[0m\n",
      "\u001b[32m2025-Feb-24 15:47:14.50\u001b[0m| \u001b[1mINFO    \u001b[0m | \u001b[36mDuncans-MBP.fritz.box\u001b[0m| \u001b[36msuperduper.base.datalayer\u001b[0m:\u001b[36m361 \u001b[0m | \u001b[1mComponent 3034f3f719934df7 not found in cache, loading from db with uuid\u001b[0m\n",
      "\u001b[32m2025-Feb-24 15:47:14.51\u001b[0m| \u001b[1mINFO    \u001b[0m | \u001b[36mDuncans-MBP.fritz.box\u001b[0m| \u001b[36msuperduper.base.datalayer\u001b[0m:\u001b[36m378 \u001b[0m | \u001b[1mAdding Listener:embeddinglistener:3034f3f719934df7 to cache\u001b[0m\n",
      "\u001b[32m2025-Feb-24 15:47:14.51\u001b[0m| \u001b[1mINFO    \u001b[0m | \u001b[36mDuncans-MBP.fritz.box\u001b[0m| \u001b[36msuperduper.base.datalayer\u001b[0m:\u001b[36m387 \u001b[0m | \u001b[1mComponent (Table, ParentChildAssociations) not found in cache, loading from db\u001b[0m\n",
      "\u001b[32m2025-Feb-24 15:47:14.51\u001b[0m| \u001b[1mINFO    \u001b[0m | \u001b[36mDuncans-MBP.fritz.box\u001b[0m| \u001b[36msuperduper.base.datalayer\u001b[0m:\u001b[36m393 \u001b[0m | \u001b[1mLoad (('Table', 'ParentChildAssociations')) from metadata...\u001b[0m\n",
      "\u001b[32m2025-Feb-24 15:47:14.51\u001b[0m| \u001b[1mINFO    \u001b[0m | \u001b[36mDuncans-MBP.fritz.box\u001b[0m| \u001b[36msuperduper.base.datalayer\u001b[0m:\u001b[36m405 \u001b[0m | \u001b[1mAdding Table:ParentChildAssociations:def to cache\u001b[0m\n",
      "\u001b[32m2025-Feb-24 15:47:14.53\u001b[0m| \u001b[1mINFO    \u001b[0m | \u001b[36mDuncans-MBP.fritz.box\u001b[0m| \u001b[36msuperduper.base.datalayer\u001b[0m:\u001b[36m387 \u001b[0m | \u001b[1mComponent (Table, ParentChildAssociations) not found in cache, loading from db\u001b[0m\n",
      "\u001b[32m2025-Feb-24 15:47:14.53\u001b[0m| \u001b[1mINFO    \u001b[0m | \u001b[36mDuncans-MBP.fritz.box\u001b[0m| \u001b[36msuperduper.base.datalayer\u001b[0m:\u001b[36m393 \u001b[0m | \u001b[1mLoad (('Table', 'ParentChildAssociations')) from metadata...\u001b[0m\n",
      "\u001b[32m2025-Feb-24 15:47:14.53\u001b[0m| \u001b[1mINFO    \u001b[0m | \u001b[36mDuncans-MBP.fritz.box\u001b[0m| \u001b[36msuperduper.base.datalayer\u001b[0m:\u001b[36m405 \u001b[0m | \u001b[1mAdding Table:ParentChildAssociations:def to cache\u001b[0m\n",
      "\u001b[32m2025-Feb-24 15:47:14.55\u001b[0m| \u001b[1mINFO    \u001b[0m | \u001b[36mDuncans-MBP.fritz.box\u001b[0m| \u001b[36msuperduper.components.component\u001b[0m:\u001b[36m504 \u001b[0m | \u001b[1mAdding Listener:embeddinglistener to cache\u001b[0m\n",
      "\u001b[32m2025-Feb-24 15:47:14.56\u001b[0m| \u001b[1mINFO    \u001b[0m | \u001b[36mDuncans-MBP.fritz.box\u001b[0m| \u001b[36msuperduper.base.datalayer\u001b[0m:\u001b[36m387 \u001b[0m | \u001b[1mComponent (Table, VectorIndex) not found in cache, loading from db\u001b[0m\n",
      "\u001b[32m2025-Feb-24 15:47:14.56\u001b[0m| \u001b[1mINFO    \u001b[0m | \u001b[36mDuncans-MBP.fritz.box\u001b[0m| \u001b[36msuperduper.base.datalayer\u001b[0m:\u001b[36m393 \u001b[0m | \u001b[1mLoad (('Table', 'VectorIndex')) from metadata...\u001b[0m\n",
      "\u001b[32m2025-Feb-24 15:47:14.56\u001b[0m| \u001b[1mINFO    \u001b[0m | \u001b[36mDuncans-MBP.fritz.box\u001b[0m| \u001b[36msuperduper.base.datalayer\u001b[0m:\u001b[36m405 \u001b[0m | \u001b[1mAdding Table:VectorIndex:9cb6a6ce71c649c4 to cache\u001b[0m\n",
      "\u001b[32m2025-Feb-24 15:47:14.61\u001b[0m| \u001b[1mINFO    \u001b[0m | \u001b[36mDuncans-MBP.fritz.box\u001b[0m| \u001b[36msuperduper.base.datalayer\u001b[0m:\u001b[36m361 \u001b[0m | \u001b[1mComponent e29c6a32d4a2401b not found in cache, loading from db with uuid\u001b[0m\n",
      "\u001b[32m2025-Feb-24 15:47:14.62\u001b[0m| \u001b[1mINFO    \u001b[0m | \u001b[36mDuncans-MBP.fritz.box\u001b[0m| \u001b[36msuperduper.base.datalayer\u001b[0m:\u001b[36m378 \u001b[0m | \u001b[1mAdding VectorIndex:vectorindex:e29c6a32d4a2401b to cache\u001b[0m\n",
      "\u001b[32m2025-Feb-24 15:47:14.62\u001b[0m| \u001b[1mINFO    \u001b[0m | \u001b[36mDuncans-MBP.fritz.box\u001b[0m| \u001b[36msuperduper.base.datalayer\u001b[0m:\u001b[36m387 \u001b[0m | \u001b[1mComponent (Table, ParentChildAssociations) not found in cache, loading from db\u001b[0m\n",
      "\u001b[32m2025-Feb-24 15:47:14.62\u001b[0m| \u001b[1mINFO    \u001b[0m | \u001b[36mDuncans-MBP.fritz.box\u001b[0m| \u001b[36msuperduper.base.datalayer\u001b[0m:\u001b[36m393 \u001b[0m | \u001b[1mLoad (('Table', 'ParentChildAssociations')) from metadata...\u001b[0m\n",
      "\u001b[32m2025-Feb-24 15:47:14.62\u001b[0m| \u001b[1mINFO    \u001b[0m | \u001b[36mDuncans-MBP.fritz.box\u001b[0m| \u001b[36msuperduper.base.datalayer\u001b[0m:\u001b[36m405 \u001b[0m | \u001b[1mAdding Table:ParentChildAssociations:def to cache\u001b[0m\n",
      "\u001b[32m2025-Feb-24 15:47:14.65\u001b[0m| \u001b[1mINFO    \u001b[0m | \u001b[36mDuncans-MBP.fritz.box\u001b[0m| \u001b[36msuperduper.base.datalayer\u001b[0m:\u001b[36m387 \u001b[0m | \u001b[1mComponent (Table, ParentChildAssociations) not found in cache, loading from db\u001b[0m\n",
      "\u001b[32m2025-Feb-24 15:47:14.65\u001b[0m| \u001b[1mINFO    \u001b[0m | \u001b[36mDuncans-MBP.fritz.box\u001b[0m| \u001b[36msuperduper.base.datalayer\u001b[0m:\u001b[36m393 \u001b[0m | \u001b[1mLoad (('Table', 'ParentChildAssociations')) from metadata...\u001b[0m\n",
      "\u001b[32m2025-Feb-24 15:47:14.65\u001b[0m| \u001b[1mINFO    \u001b[0m | \u001b[36mDuncans-MBP.fritz.box\u001b[0m| \u001b[36msuperduper.base.datalayer\u001b[0m:\u001b[36m405 \u001b[0m | \u001b[1mAdding Table:ParentChildAssociations:def to cache\u001b[0m\n",
      "\u001b[32m2025-Feb-24 15:47:14.68\u001b[0m| \u001b[1mINFO    \u001b[0m | \u001b[36mDuncans-MBP.fritz.box\u001b[0m| \u001b[36msuperduper.components.component\u001b[0m:\u001b[36m504 \u001b[0m | \u001b[1mAdding VectorIndex:vectorindex to cache\u001b[0m\n",
      "\u001b[32m2025-Feb-24 15:47:14.68\u001b[0m| \u001b[1mINFO    \u001b[0m | \u001b[36mDuncans-MBP.fritz.box\u001b[0m| \u001b[36msuperduper.base.datalayer\u001b[0m:\u001b[36m387 \u001b[0m | \u001b[1mComponent (Table, OpenAIChatCompletion) not found in cache, loading from db\u001b[0m\n",
      "\u001b[32m2025-Feb-24 15:47:14.68\u001b[0m| \u001b[1mINFO    \u001b[0m | \u001b[36mDuncans-MBP.fritz.box\u001b[0m| \u001b[36msuperduper.base.datalayer\u001b[0m:\u001b[36m393 \u001b[0m | \u001b[1mLoad (('Table', 'OpenAIChatCompletion')) from metadata...\u001b[0m\n",
      "\u001b[32m2025-Feb-24 15:47:14.69\u001b[0m| \u001b[1mINFO    \u001b[0m | \u001b[36mDuncans-MBP.fritz.box\u001b[0m| \u001b[36msuperduper.base.datalayer\u001b[0m:\u001b[36m405 \u001b[0m | \u001b[1mAdding Table:OpenAIChatCompletion:c7f56f23517c4e3a to cache\u001b[0m\n",
      "\u001b[32m2025-Feb-24 15:47:14.74\u001b[0m| \u001b[1mINFO    \u001b[0m | \u001b[36mDuncans-MBP.fritz.box\u001b[0m| \u001b[36msuperduper.base.datalayer\u001b[0m:\u001b[36m361 \u001b[0m | \u001b[1mComponent b6edec4cc545457c not found in cache, loading from db with uuid\u001b[0m\n",
      "\u001b[32m2025-Feb-24 15:47:14.75\u001b[0m| \u001b[1mINFO    \u001b[0m | \u001b[36mDuncans-MBP.fritz.box\u001b[0m| \u001b[36msuperduper.base.datalayer\u001b[0m:\u001b[36m378 \u001b[0m | \u001b[1mAdding OpenAIChatCompletion:llm-model:b6edec4cc545457c to cache\u001b[0m\n",
      "\u001b[32m2025-Feb-24 15:47:14.75\u001b[0m| \u001b[1mINFO    \u001b[0m | \u001b[36mDuncans-MBP.fritz.box\u001b[0m| \u001b[36msuperduper.base.datalayer\u001b[0m:\u001b[36m387 \u001b[0m | \u001b[1mComponent (Table, ParentChildAssociations) not found in cache, loading from db\u001b[0m\n",
      "\u001b[32m2025-Feb-24 15:47:14.75\u001b[0m| \u001b[1mINFO    \u001b[0m | \u001b[36mDuncans-MBP.fritz.box\u001b[0m| \u001b[36msuperduper.base.datalayer\u001b[0m:\u001b[36m393 \u001b[0m | \u001b[1mLoad (('Table', 'ParentChildAssociations')) from metadata...\u001b[0m\n",
      "\u001b[32m2025-Feb-24 15:47:14.75\u001b[0m| \u001b[1mINFO    \u001b[0m | \u001b[36mDuncans-MBP.fritz.box\u001b[0m| \u001b[36msuperduper.base.datalayer\u001b[0m:\u001b[36m405 \u001b[0m | \u001b[1mAdding Table:ParentChildAssociations:def to cache\u001b[0m\n",
      "\u001b[32m2025-Feb-24 15:47:14.77\u001b[0m| \u001b[1mINFO    \u001b[0m | \u001b[36mDuncans-MBP.fritz.box\u001b[0m| \u001b[36msuperduper.components.component\u001b[0m:\u001b[36m504 \u001b[0m | \u001b[1mAdding OpenAIChatCompletion:llm-model to cache\u001b[0m\n",
      "\u001b[32m2025-Feb-24 15:47:14.77\u001b[0m| \u001b[1mINFO    \u001b[0m | \u001b[36mDuncans-MBP.fritz.box\u001b[0m| \u001b[36msuperduper.base.datalayer\u001b[0m:\u001b[36m387 \u001b[0m | \u001b[1mComponent (Table, RAGModel) not found in cache, loading from db\u001b[0m\n",
      "\u001b[32m2025-Feb-24 15:47:14.77\u001b[0m| \u001b[1mINFO    \u001b[0m | \u001b[36mDuncans-MBP.fritz.box\u001b[0m| \u001b[36msuperduper.base.datalayer\u001b[0m:\u001b[36m393 \u001b[0m | \u001b[1mLoad (('Table', 'RAGModel')) from metadata...\u001b[0m\n",
      "\u001b[32m2025-Feb-24 15:47:14.78\u001b[0m| \u001b[1mINFO    \u001b[0m | \u001b[36mDuncans-MBP.fritz.box\u001b[0m| \u001b[36msuperduper.base.datalayer\u001b[0m:\u001b[36m405 \u001b[0m | \u001b[1mAdding Table:RAGModel:2a90dfee68bb4f0f to cache\u001b[0m\n",
      "\u001b[32m2025-Feb-24 15:47:14.82\u001b[0m| \u001b[1mINFO    \u001b[0m | \u001b[36mDuncans-MBP.fritz.box\u001b[0m| \u001b[36msuperduper.base.datalayer\u001b[0m:\u001b[36m361 \u001b[0m | \u001b[1mComponent 064cc402dcfa45cd not found in cache, loading from db with uuid\u001b[0m\n",
      "\u001b[32m2025-Feb-24 15:47:14.83\u001b[0m| \u001b[1mINFO    \u001b[0m | \u001b[36mDuncans-MBP.fritz.box\u001b[0m| \u001b[36msuperduper.base.datalayer\u001b[0m:\u001b[36m378 \u001b[0m | \u001b[1mAdding RAGModel:simple_rag:064cc402dcfa45cd to cache\u001b[0m\n",
      "\u001b[32m2025-Feb-24 15:47:14.83\u001b[0m| \u001b[1mINFO    \u001b[0m | \u001b[36mDuncans-MBP.fritz.box\u001b[0m| \u001b[36msuperduper.base.datalayer\u001b[0m:\u001b[36m387 \u001b[0m | \u001b[1mComponent (Table, ParentChildAssociations) not found in cache, loading from db\u001b[0m\n",
      "\u001b[32m2025-Feb-24 15:47:14.83\u001b[0m| \u001b[1mINFO    \u001b[0m | \u001b[36mDuncans-MBP.fritz.box\u001b[0m| \u001b[36msuperduper.base.datalayer\u001b[0m:\u001b[36m393 \u001b[0m | \u001b[1mLoad (('Table', 'ParentChildAssociations')) from metadata...\u001b[0m\n",
      "\u001b[32m2025-Feb-24 15:47:14.83\u001b[0m| \u001b[1mINFO    \u001b[0m | \u001b[36mDuncans-MBP.fritz.box\u001b[0m| \u001b[36msuperduper.base.datalayer\u001b[0m:\u001b[36m405 \u001b[0m | \u001b[1mAdding Table:ParentChildAssociations:def to cache\u001b[0m\n",
      "\u001b[32m2025-Feb-24 15:47:14.86\u001b[0m| \u001b[1mINFO    \u001b[0m | \u001b[36mDuncans-MBP.fritz.box\u001b[0m| \u001b[36msuperduper.components.component\u001b[0m:\u001b[36m504 \u001b[0m | \u001b[1mAdding RAGModel:simple_rag to cache\u001b[0m\n",
      "\u001b[32m2025-Feb-24 15:47:14.86\u001b[0m| \u001b[1mINFO    \u001b[0m | \u001b[36mDuncans-MBP.fritz.box\u001b[0m| \u001b[36msuperduper.base.datalayer\u001b[0m:\u001b[36m387 \u001b[0m | \u001b[1mComponent (Table, ArtifactRelations) not found in cache, loading from db\u001b[0m\n",
      "\u001b[32m2025-Feb-24 15:47:14.86\u001b[0m| \u001b[1mINFO    \u001b[0m | \u001b[36mDuncans-MBP.fritz.box\u001b[0m| \u001b[36msuperduper.base.datalayer\u001b[0m:\u001b[36m393 \u001b[0m | \u001b[1mLoad (('Table', 'ArtifactRelations')) from metadata...\u001b[0m\n",
      "\u001b[32m2025-Feb-24 15:47:14.86\u001b[0m| \u001b[1mINFO    \u001b[0m | \u001b[36mDuncans-MBP.fritz.box\u001b[0m| \u001b[36msuperduper.base.datalayer\u001b[0m:\u001b[36m405 \u001b[0m | \u001b[1mAdding Table:ArtifactRelations:ghi to cache\u001b[0m\n",
      "\u001b[32m2025-Feb-24 15:47:14.89\u001b[0m| \u001b[1mINFO    \u001b[0m | \u001b[36mDuncans-MBP.fritz.box\u001b[0m| \u001b[36msuperduper.base.datalayer\u001b[0m:\u001b[36m387 \u001b[0m | \u001b[1mComponent (Table, Streamlit) not found in cache, loading from db\u001b[0m\n",
      "\u001b[32m2025-Feb-24 15:47:14.89\u001b[0m| \u001b[1mINFO    \u001b[0m | \u001b[36mDuncans-MBP.fritz.box\u001b[0m| \u001b[36msuperduper.base.datalayer\u001b[0m:\u001b[36m393 \u001b[0m | \u001b[1mLoad (('Table', 'Streamlit')) from metadata...\u001b[0m\n",
      "\u001b[32m2025-Feb-24 15:47:14.90\u001b[0m| \u001b[1mINFO    \u001b[0m | \u001b[36mDuncans-MBP.fritz.box\u001b[0m| \u001b[36msuperduper.base.datalayer\u001b[0m:\u001b[36m405 \u001b[0m | \u001b[1mAdding Table:Streamlit:3971b1bef6ad47c0 to cache\u001b[0m\n",
      "\u001b[32m2025-Feb-24 15:47:14.94\u001b[0m| \u001b[1mINFO    \u001b[0m | \u001b[36mDuncans-MBP.fritz.box\u001b[0m| \u001b[36msuperduper.base.datalayer\u001b[0m:\u001b[36m361 \u001b[0m | \u001b[1mComponent e0adf48318e4482d not found in cache, loading from db with uuid\u001b[0m\n",
      "\u001b[32m2025-Feb-24 15:47:14.95\u001b[0m| \u001b[1mINFO    \u001b[0m | \u001b[36mDuncans-MBP.fritz.box\u001b[0m| \u001b[36msuperduper.base.datalayer\u001b[0m:\u001b[36m378 \u001b[0m | \u001b[1mAdding Streamlit:simple-rag-demo:e0adf48318e4482d to cache\u001b[0m\n",
      "\u001b[32m2025-Feb-24 15:47:14.95\u001b[0m| \u001b[1mINFO    \u001b[0m | \u001b[36mDuncans-MBP.fritz.box\u001b[0m| \u001b[36msuperduper.base.datalayer\u001b[0m:\u001b[36m387 \u001b[0m | \u001b[1mComponent (Table, ParentChildAssociations) not found in cache, loading from db\u001b[0m\n",
      "\u001b[32m2025-Feb-24 15:47:14.95\u001b[0m| \u001b[1mINFO    \u001b[0m | \u001b[36mDuncans-MBP.fritz.box\u001b[0m| \u001b[36msuperduper.base.datalayer\u001b[0m:\u001b[36m393 \u001b[0m | \u001b[1mLoad (('Table', 'ParentChildAssociations')) from metadata...\u001b[0m\n",
      "\u001b[32m2025-Feb-24 15:47:14.95\u001b[0m| \u001b[1mINFO    \u001b[0m | \u001b[36mDuncans-MBP.fritz.box\u001b[0m| \u001b[36msuperduper.base.datalayer\u001b[0m:\u001b[36m405 \u001b[0m | \u001b[1mAdding Table:ParentChildAssociations:def to cache\u001b[0m\n",
      "\u001b[32m2025-Feb-24 15:47:14.97\u001b[0m| \u001b[1mINFO    \u001b[0m | \u001b[36mDuncans-MBP.fritz.box\u001b[0m| \u001b[36msuperduper.components.component\u001b[0m:\u001b[36m504 \u001b[0m | \u001b[1mAdding Streamlit:simple-rag-demo to cache\u001b[0m\n",
      "\u001b[32m2025-Feb-24 15:47:14.98\u001b[0m| \u001b[1mINFO    \u001b[0m | \u001b[36mDuncans-MBP.fritz.box\u001b[0m| \u001b[36msuperduper.base.datalayer\u001b[0m:\u001b[36m387 \u001b[0m | \u001b[1mComponent (Table, Application) not found in cache, loading from db\u001b[0m\n",
      "\u001b[32m2025-Feb-24 15:47:14.98\u001b[0m| \u001b[1mINFO    \u001b[0m | \u001b[36mDuncans-MBP.fritz.box\u001b[0m| \u001b[36msuperduper.base.datalayer\u001b[0m:\u001b[36m393 \u001b[0m | \u001b[1mLoad (('Table', 'Application')) from metadata...\u001b[0m\n",
      "\u001b[32m2025-Feb-24 15:47:14.99\u001b[0m| \u001b[1mINFO    \u001b[0m | \u001b[36mDuncans-MBP.fritz.box\u001b[0m| \u001b[36msuperduper.base.datalayer\u001b[0m:\u001b[36m405 \u001b[0m | \u001b[1mAdding Table:Application:fc4341e3f6cd426b to cache\u001b[0m\n",
      "\u001b[32m2025-Feb-24 15:47:15.04\u001b[0m| \u001b[1mINFO    \u001b[0m | \u001b[36mDuncans-MBP.fritz.box\u001b[0m| \u001b[36msuperduper.base.datalayer\u001b[0m:\u001b[36m361 \u001b[0m | \u001b[1mComponent f50f5d81b4704364 not found in cache, loading from db with uuid\u001b[0m\n",
      "\u001b[32m2025-Feb-24 15:47:15.04\u001b[0m| \u001b[1mINFO    \u001b[0m | \u001b[36mDuncans-MBP.fritz.box\u001b[0m| \u001b[36msuperduper.base.datalayer\u001b[0m:\u001b[36m378 \u001b[0m | \u001b[1mAdding Application:simple-rag-app:f50f5d81b4704364 to cache\u001b[0m\n",
      "\u001b[32m2025-Feb-24 15:47:15.04\u001b[0m| \u001b[1mINFO    \u001b[0m | \u001b[36mDuncans-MBP.fritz.box\u001b[0m| \u001b[36msuperduper.components.component\u001b[0m:\u001b[36m504 \u001b[0m | \u001b[1mAdding Application:simple-rag-app to cache\u001b[0m\n",
      "\u001b[32m2025-Feb-24 15:47:15.04\u001b[0m| \u001b[1mINFO    \u001b[0m | \u001b[36mDuncans-MBP.fritz.box\u001b[0m| \u001b[36msuperduper.base.datalayer\u001b[0m:\u001b[36m387 \u001b[0m | \u001b[1mComponent (Table, Job) not found in cache, loading from db\u001b[0m\n",
      "\u001b[32m2025-Feb-24 15:47:15.04\u001b[0m| \u001b[1mINFO    \u001b[0m | \u001b[36mDuncans-MBP.fritz.box\u001b[0m| \u001b[36msuperduper.base.datalayer\u001b[0m:\u001b[36m393 \u001b[0m | \u001b[1mLoad (('Table', 'Job')) from metadata...\u001b[0m\n",
      "\u001b[32m2025-Feb-24 15:47:15.04\u001b[0m| \u001b[1mINFO    \u001b[0m | \u001b[36mDuncans-MBP.fritz.box\u001b[0m| \u001b[36msuperduper.base.datalayer\u001b[0m:\u001b[36m405 \u001b[0m | \u001b[1mAdding Table:Job:jkl to cache\u001b[0m\n",
      "\u001b[32m2025-Feb-24 15:47:15.13\u001b[0m| \u001b[1mINFO    \u001b[0m | \u001b[36mDuncans-MBP.fritz.box\u001b[0m| \u001b[36msuperduper.base.datalayer\u001b[0m:\u001b[36m387 \u001b[0m | \u001b[1mComponent (Table, _outputs__chunker__ef2ec6de73564919) not found in cache, loading from db\u001b[0m\n",
      "\u001b[32m2025-Feb-24 15:47:15.13\u001b[0m| \u001b[1mINFO    \u001b[0m | \u001b[36mDuncans-MBP.fritz.box\u001b[0m| \u001b[36msuperduper.base.datalayer\u001b[0m:\u001b[36m393 \u001b[0m | \u001b[1mLoad (('Table', '_outputs__chunker__ef2ec6de73564919')) from metadata...\u001b[0m\n",
      "\u001b[32m2025-Feb-24 15:47:15.14\u001b[0m| \u001b[1mINFO    \u001b[0m | \u001b[36mDuncans-MBP.fritz.box\u001b[0m| \u001b[36msuperduper.base.datalayer\u001b[0m:\u001b[36m405 \u001b[0m | \u001b[1mAdding Table:_outputs__chunker__ef2ec6de73564919:fb7aa9e5ffce4691 to cache\u001b[0m\n",
      "\u001b[32m2025-Feb-24 15:47:15.20\u001b[0m| \u001b[1mINFO    \u001b[0m | \u001b[36mDuncans-MBP.fritz.box\u001b[0m| \u001b[36msuperduper.base.datalayer\u001b[0m:\u001b[36m387 \u001b[0m | \u001b[1mComponent (Table, Job) not found in cache, loading from db\u001b[0m\n",
      "\u001b[32m2025-Feb-24 15:47:15.20\u001b[0m| \u001b[1mINFO    \u001b[0m | \u001b[36mDuncans-MBP.fritz.box\u001b[0m| \u001b[36msuperduper.base.datalayer\u001b[0m:\u001b[36m393 \u001b[0m | \u001b[1mLoad (('Table', 'Job')) from metadata...\u001b[0m\n",
      "\u001b[32m2025-Feb-24 15:47:15.21\u001b[0m| \u001b[1mINFO    \u001b[0m | \u001b[36mDuncans-MBP.fritz.box\u001b[0m| \u001b[36msuperduper.base.datalayer\u001b[0m:\u001b[36m405 \u001b[0m | \u001b[1mAdding Table:Job:jkl to cache\u001b[0m\n",
      "\u001b[32m2025-Feb-24 15:47:15.25\u001b[0m| \u001b[1mINFO    \u001b[0m | \u001b[36mDuncans-MBP.fritz.box\u001b[0m| \u001b[36msuperduper.base.datalayer\u001b[0m:\u001b[36m387 \u001b[0m | \u001b[1mComponent (Table, Job) not found in cache, loading from db\u001b[0m\n",
      "\u001b[32m2025-Feb-24 15:47:15.25\u001b[0m| \u001b[1mINFO    \u001b[0m | \u001b[36mDuncans-MBP.fritz.box\u001b[0m| \u001b[36msuperduper.base.datalayer\u001b[0m:\u001b[36m393 \u001b[0m | \u001b[1mLoad (('Table', 'Job')) from metadata...\u001b[0m\n",
      "\u001b[32m2025-Feb-24 15:47:15.25\u001b[0m| \u001b[1mINFO    \u001b[0m | \u001b[36mDuncans-MBP.fritz.box\u001b[0m| \u001b[36msuperduper.base.datalayer\u001b[0m:\u001b[36m405 \u001b[0m | \u001b[1mAdding Table:Job:jkl to cache\u001b[0m\n"
     ]
    },
    {
     "name": "stderr",
     "output_type": "stream",
     "text": [
      "[2025-02-24 15:47:15] httpx INFO HTTP Request: GET https://api.openai.com/v1/models \"HTTP/1.1 200 OK\"\n",
      "[2025-02-24 15:47:16] httpx INFO HTTP Request: POST https://api.openai.com/v1/embeddings \"HTTP/1.1 200 OK\"                                                                                                                     | 0/4 [00:00<?, ?it/s]\n",
      "[2025-02-24 15:47:18] httpx INFO HTTP Request: POST https://api.openai.com/v1/embeddings \"HTTP/1.1 200 OK\"                                                                                                             | 1/4 [00:01<00:04,  1.46s/it]\n",
      "[2025-02-24 15:47:18] httpx INFO HTTP Request: POST https://api.openai.com/v1/embeddings \"HTTP/1.1 200 OK\"████                                                                                                         | 2/4 [00:02<00:02,  1.26s/it]\n",
      "[2025-02-24 15:47:20] httpx INFO HTTP Request: POST https://api.openai.com/v1/embeddings \"HTTP/1.1 200 OK\"████████████████████████████████████████████████████████▌                                                    | 3/4 [00:03<00:01,  1.12s/it]\n",
      "100%|██████████████████████████████████████████████████████████████████████████████████████████████████████████████████████████████████████████████████████████████████████████████████████████████████████████████████| 4/4 [00:05<00:00,  1.29s/it]\n"
     ]
    },
    {
     "name": "stdout",
     "output_type": "stream",
     "text": [
      "\u001b[32m2025-Feb-24 15:47:21.09\u001b[0m| \u001b[1mINFO    \u001b[0m | \u001b[36mDuncans-MBP.fritz.box\u001b[0m| \u001b[36msuperduper.base.datalayer\u001b[0m:\u001b[36m387 \u001b[0m | \u001b[1mComponent (Table, _outputs__embeddinglistener__3034f3f719934df7) not found in cache, loading from db\u001b[0m\n",
      "\u001b[32m2025-Feb-24 15:47:21.09\u001b[0m| \u001b[1mINFO    \u001b[0m | \u001b[36mDuncans-MBP.fritz.box\u001b[0m| \u001b[36msuperduper.base.datalayer\u001b[0m:\u001b[36m393 \u001b[0m | \u001b[1mLoad (('Table', '_outputs__embeddinglistener__3034f3f719934df7')) from metadata...\u001b[0m\n",
      "\u001b[32m2025-Feb-24 15:47:21.10\u001b[0m| \u001b[1mINFO    \u001b[0m | \u001b[36mDuncans-MBP.fritz.box\u001b[0m| \u001b[36msuperduper.base.datalayer\u001b[0m:\u001b[36m405 \u001b[0m | \u001b[1mAdding Table:_outputs__embeddinglistener__3034f3f719934df7:df7a3ef7dc484ed9 to cache\u001b[0m\n",
      "\u001b[32m2025-Feb-24 15:47:21.98\u001b[0m| \u001b[1mINFO    \u001b[0m | \u001b[36mDuncans-MBP.fritz.box\u001b[0m| \u001b[36msuperduper.base.datalayer\u001b[0m:\u001b[36m387 \u001b[0m | \u001b[1mComponent (Table, Job) not found in cache, loading from db\u001b[0m\n",
      "\u001b[32m2025-Feb-24 15:47:21.98\u001b[0m| \u001b[1mINFO    \u001b[0m | \u001b[36mDuncans-MBP.fritz.box\u001b[0m| \u001b[36msuperduper.base.datalayer\u001b[0m:\u001b[36m393 \u001b[0m | \u001b[1mLoad (('Table', 'Job')) from metadata...\u001b[0m\n",
      "\u001b[32m2025-Feb-24 15:47:21.98\u001b[0m| \u001b[1mINFO    \u001b[0m | \u001b[36mDuncans-MBP.fritz.box\u001b[0m| \u001b[36msuperduper.base.datalayer\u001b[0m:\u001b[36m405 \u001b[0m | \u001b[1mAdding Table:Job:jkl to cache\u001b[0m\n",
      "\u001b[32m2025-Feb-24 15:47:22.05\u001b[0m| \u001b[1mINFO    \u001b[0m | \u001b[36mDuncans-MBP.fritz.box\u001b[0m| \u001b[36msuperduper.base.datalayer\u001b[0m:\u001b[36m387 \u001b[0m | \u001b[1mComponent (Table, Job) not found in cache, loading from db\u001b[0m\n",
      "\u001b[32m2025-Feb-24 15:47:22.05\u001b[0m| \u001b[1mINFO    \u001b[0m | \u001b[36mDuncans-MBP.fritz.box\u001b[0m| \u001b[36msuperduper.base.datalayer\u001b[0m:\u001b[36m393 \u001b[0m | \u001b[1mLoad (('Table', 'Job')) from metadata...\u001b[0m\n",
      "\u001b[32m2025-Feb-24 15:47:22.05\u001b[0m| \u001b[1mINFO    \u001b[0m | \u001b[36mDuncans-MBP.fritz.box\u001b[0m| \u001b[36msuperduper.base.datalayer\u001b[0m:\u001b[36m405 \u001b[0m | \u001b[1mAdding Table:Job:jkl to cache\u001b[0m\n",
      "\u001b[32m2025-Feb-24 15:47:22.16\u001b[0m| \u001b[1mINFO    \u001b[0m | \u001b[36mDuncans-MBP.fritz.box\u001b[0m| \u001b[36msuperduper.base.datalayer\u001b[0m:\u001b[36m387 \u001b[0m | \u001b[1mComponent (Table, Job) not found in cache, loading from db\u001b[0m\n",
      "\u001b[32m2025-Feb-24 15:47:22.16\u001b[0m| \u001b[1mINFO    \u001b[0m | \u001b[36mDuncans-MBP.fritz.box\u001b[0m| \u001b[36msuperduper.base.datalayer\u001b[0m:\u001b[36m393 \u001b[0m | \u001b[1mLoad (('Table', 'Job')) from metadata...\u001b[0m\n",
      "\u001b[32m2025-Feb-24 15:47:22.16\u001b[0m| \u001b[1mINFO    \u001b[0m | \u001b[36mDuncans-MBP.fritz.box\u001b[0m| \u001b[36msuperduper.base.datalayer\u001b[0m:\u001b[36m405 \u001b[0m | \u001b[1mAdding Table:Job:jkl to cache\u001b[0m\n",
      "\u001b[32m2025-Feb-24 15:47:22.21\u001b[0m| \u001b[1mINFO    \u001b[0m | \u001b[36mDuncans-MBP.fritz.box\u001b[0m| \u001b[36msuperduper.backends.local.queue\u001b[0m:\u001b[36m114 \u001b[0m | \u001b[1mConsumed all events\u001b[0m\n"
     ]
    }
   ],
   "source": [
    "if APPLY:\n",
    "    db.apply(app, force=True)"
   ]
  },
  {
   "cell_type": "code",
   "execution_count": 19,
   "id": "2a82ea22-9694-4c65-b72f-c89ae49d1ab2",
   "metadata": {},
   "outputs": [
    {
     "name": "stdout",
     "output_type": "stream",
     "text": [
      "\u001b[32m2025-Feb-24 15:47:22.24\u001b[0m| \u001b[1mINFO    \u001b[0m | \u001b[36mDuncans-MBP.fritz.box\u001b[0m| \u001b[36msuperduper.base.datalayer\u001b[0m:\u001b[36m608 \u001b[0m | \u001b[1mGetting vector-index\u001b[0m\n",
      "\u001b[32m2025-Feb-24 15:47:22.24\u001b[0m| \u001b[1mINFO    \u001b[0m | \u001b[36mDuncans-MBP.fritz.box\u001b[0m| \u001b[36msuperduper.base.datalayer\u001b[0m:\u001b[36m616 \u001b[0m | \u001b[1m{}\u001b[0m\n"
     ]
    },
    {
     "name": "stderr",
     "output_type": "stream",
     "text": [
      "[2025-02-24 15:47:23] httpx INFO HTTP Request: POST https://api.openai.com/v1/embeddings \"HTTP/1.1 200 OK\"\n",
      "[2025-02-24 15:47:24] httpx INFO HTTP Request: POST https://api.openai.com/v1/chat/completions \"HTTP/1.1 200 OK\"\n"
     ]
    },
    {
     "name": "stdout",
     "output_type": "stream",
     "text": [
      "Superduper is a system for building, deploying, and managing AI models. It involves architecture, fundamentals, and listening for new data.\n"
     ]
    }
   ],
   "source": [
    "if APPLY:\n",
    "    rag = db.load('RAGModel', 'simple_rag')\n",
    "    print(rag.predict('Tell me about the project'))"
   ]
  },
  {
   "cell_type": "markdown",
   "id": "5da0306b-0969-49ab-95c4-0eb93c39f515",
   "metadata": {},
   "source": [
    "You can now load the model elsewhere and make predictions using the following command."
   ]
  },
  {
   "cell_type": "markdown",
   "id": "f42119a4-6aef-46ec-a81d-cbe1167d8710",
   "metadata": {},
   "source": [
    "## Create template"
   ]
  },
  {
   "cell_type": "code",
   "execution_count": 20,
   "id": "2e850c03-33c6-4c88-95d3-d14146a6a0af",
   "metadata": {},
   "outputs": [],
   "source": [
    "from superduper import Template, Table, Schema\n",
    "from superduper.components.dataset import RemoteData\n",
    "\n",
    "template = Template(\n",
    "    'simple_rag',\n",
    "    template=app,\n",
    "    substitutions={\n",
    "        COLLECTION_NAME: 'table_name',\n",
    "        'text-embedding-ada-002': 'embedding_model',\n",
    "        'gpt-3.5-turbo': 'llm_model',\n",
    "    },\n",
    "    template_variables=['table_name', 'id_field', 'embedding_model', 'llm_model'],\n",
    "    default_tables=[\n",
    "        Table(\n",
    "            'sample_simple_rag',\n",
    "            fields={'x': 'str'},\n",
    "            data=RemoteData(\n",
    "                'superduper-docs',\n",
    "                getter=getter,\n",
    "            )\n",
    "        ),\n",
    "    ],\n",
    "    types={\n",
    "        'id_field': {\n",
    "            'type': 'str',\n",
    "            'default': '_id',\n",
    "        },\n",
    "        'embedding_model': {\n",
    "            'type': 'str',\n",
    "            'default': 'text-embedding-ada-002',\n",
    "            'choices': ['text-embedding-ada-002', 'nomic-embed-text:latest'],\n",
    "        },\n",
    "        'llm_model': {\n",
    "            'type': 'str',\n",
    "            'default': 'gpt-3.5-turbo',\n",
    "            'choices': ['gpt-3.5-turbo', 'gpt-4-turbo', 'llama3.1:8b']\n",
    "        },\n",
    "        'table_name': {\n",
    "            'type': 'str',\n",
    "            'default': SAMPLE_COLLECTION_NAME,\n",
    "        }\n",
    "    },\n",
    "    schema={\n",
    "        \"id_field\": \"id_field\",\n",
    "        \"embedding_model\": \"embedding_model\",\n",
    "        \"llm_model\": \"llm_model\",\n",
    "        \"table_name\": \"table_name\",\n",
    "    },\n",
    "    db=db\n",
    ")"
   ]
  },
  {
   "cell_type": "code",
   "execution_count": 21,
   "id": "3ae5c709-9e9c-41cc-8710-e60f06793d04",
   "metadata": {},
   "outputs": [],
   "source": [
    "template.export('.')"
   ]
  }
 ],
 "metadata": {
  "kernelspec": {
   "display_name": "Python 3 (ipykernel)",
   "language": "python",
   "name": "python3"
  },
  "language_info": {
   "codemirror_mode": {
    "name": "ipython",
    "version": 3
   },
   "file_extension": ".py",
   "mimetype": "text/x-python",
   "name": "python",
   "nbconvert_exporter": "python",
   "pygments_lexer": "ipython3",
   "version": "3.10.13"
  }
 },
 "nbformat": 4,
 "nbformat_minor": 5
}
