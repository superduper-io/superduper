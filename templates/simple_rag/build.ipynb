{
 "cells": [
  {
   "cell_type": "markdown",
   "id": "38c1a328-fd86-4c5f-bd54-b8664f433608",
   "metadata": {
    "editable": true,
    "slideshow": {
     "slide_type": ""
    },
    "tags": []
   },
   "source": [
    "# Simple retrieval augmented generation with OpenAI"
   ]
  },
  {
   "cell_type": "markdown",
   "id": "32f8484d-2e35-472a-9b24-1a30ec1d144b",
   "metadata": {},
   "source": [
    "<!-- TABS -->\n",
    "## Connect to superduper"
   ]
  },
  {
   "cell_type": "markdown",
   "id": "06d66021-ce62-4021-a2c5-158dee92b3bb",
   "metadata": {
    "editable": true,
    "slideshow": {
     "slide_type": ""
    },
    "tags": []
   },
   "source": [
    ":::note\n",
    "Note that this is only relevant if you are running superduper in development mode.\n",
    "Otherwise refer to \"Configuring your production system\".\n",
    ":::"
   ]
  },
  {
   "cell_type": "code",
   "execution_count": 1,
   "id": "3ef70f6d-a189-460a-8864-241a689624e2",
   "metadata": {
    "editable": true,
    "slideshow": {
     "slide_type": ""
    },
    "tags": [
     "parameters"
    ]
   },
   "outputs": [],
   "source": [
    "APPLY = True\n",
    "SAMPLE_COLLECTION_NAME = 'sample_simple_rag'\n",
    "COLLECTION_NAME = '<var:table_name>' if not APPLY else 'docs'\n",
    "ID_FIELD = '<var:id_field>' if not APPLY else 'id'\n",
    "OUTPUT_PREFIX = 'outputs__'\n",
    "EAGER = False"
   ]
  },
  {
   "cell_type": "code",
   "execution_count": 5,
   "id": "cb029a5e-fedf-4f07-8a31-d220cfbfbb3d",
   "metadata": {
    "editable": true,
    "slideshow": {
     "slide_type": ""
    },
    "tags": []
   },
   "outputs": [
    {
     "name": "stdout",
     "output_type": "stream",
     "text": [
      "\u001b[32m2025-Feb-23 13:55:42.33\u001b[0m| \u001b[1mINFO    \u001b[0m | \u001b[36mDuncans-MBP.fritz.box\u001b[0m| \u001b[36msuperduper.misc.importing\u001b[0m:\u001b[36m13  \u001b[0m | \u001b[1mLoading plugin: mongodb\u001b[0m\n",
      "\u001b[32m2025-Feb-23 13:55:42.33\u001b[0m| \u001b[1mINFO    \u001b[0m | \u001b[36mDuncans-MBP.fritz.box\u001b[0m| \u001b[36msuperduper.base.datalayer\u001b[0m:\u001b[36m50  \u001b[0m | \u001b[1mBuilding Data Layer\u001b[0m\n",
      "\u001b[32m2025-Feb-23 13:55:42.33\u001b[0m| \u001b[1mINFO    \u001b[0m | \u001b[36mDuncans-MBP.fritz.box\u001b[0m| \u001b[36msuperduper.base.datalayer\u001b[0m:\u001b[36m67  \u001b[0m | \u001b[1mData Layer built\u001b[0m\n",
      "\u001b[32m2025-Feb-23 13:55:42.34\u001b[0m| \u001b[1mINFO    \u001b[0m | \u001b[36mDuncans-MBP.fritz.box\u001b[0m| \u001b[36msuperduper.backends.base.cluster\u001b[0m:\u001b[36m113 \u001b[0m | \u001b[1mCluster initialized in 0.01 seconds.\u001b[0m\n",
      "\u001b[32m2025-Feb-23 13:55:42.34\u001b[0m| \u001b[1mINFO    \u001b[0m | \u001b[36mDuncans-MBP.fritz.box\u001b[0m| \u001b[36msuperduper.base.build\u001b[0m:\u001b[36m146 \u001b[0m | \u001b[1mConfiguration: \n",
      " +----------------+-----------------------------------+\n",
      "| Configuration  |               Value               |\n",
      "+----------------+-----------------------------------+\n",
      "|  Data Backend  | mongodb://localhost:27017/test_db |\n",
      "| Artifact Store |   filesystem://./artifact_store   |\n",
      "+----------------+-----------------------------------+\u001b[0m\n"
     ]
    }
   ],
   "source": [
    "from superduper import superduper, CFG\n",
    "import os\n",
    "\n",
    "db = superduper()"
   ]
  },
  {
   "cell_type": "code",
   "execution_count": 6,
   "id": "3115ab41-32ad-4628-8d31-88cfa11ac14b",
   "metadata": {},
   "outputs": [
    {
     "name": "stdout",
     "output_type": "stream",
     "text": [
      "\u001b[32m2025-Feb-23 13:55:43.87\u001b[0m| \u001b[1mINFO    \u001b[0m | \u001b[36mDuncans-MBP.fritz.box\u001b[0m| \u001b[36msuperduper.misc.importing\u001b[0m:\u001b[36m13  \u001b[0m | \u001b[1mLoading plugin: mongodb\u001b[0m\n",
      "\u001b[32m2025-Feb-23 13:55:43.87\u001b[0m| \u001b[1mINFO    \u001b[0m | \u001b[36mDuncans-MBP.fritz.box\u001b[0m| \u001b[36msuperduper.base.datalayer\u001b[0m:\u001b[36m50  \u001b[0m | \u001b[1mBuilding Data Layer\u001b[0m\n",
      "\u001b[32m2025-Feb-23 13:55:43.87\u001b[0m| \u001b[1mINFO    \u001b[0m | \u001b[36mDuncans-MBP.fritz.box\u001b[0m| \u001b[36msuperduper.base.datalayer\u001b[0m:\u001b[36m67  \u001b[0m | \u001b[1mData Layer built\u001b[0m\n",
      "\u001b[32m2025-Feb-23 13:55:43.89\u001b[0m| \u001b[1mINFO    \u001b[0m | \u001b[36mDuncans-MBP.fritz.box\u001b[0m| \u001b[36msuperduper.backends.base.cluster\u001b[0m:\u001b[36m113 \u001b[0m | \u001b[1mCluster initialized in 0.01 seconds.\u001b[0m\n",
      "\u001b[32m2025-Feb-23 13:55:43.89\u001b[0m| \u001b[1mINFO    \u001b[0m | \u001b[36mDuncans-MBP.fritz.box\u001b[0m| \u001b[36msuperduper.base.build\u001b[0m:\u001b[36m146 \u001b[0m | \u001b[1mConfiguration: \n",
      " +----------------+-----------------------------------+\n",
      "| Configuration  |               Value               |\n",
      "+----------------+-----------------------------------+\n",
      "|  Data Backend  | mongodb://localhost:27017/test_db |\n",
      "| Artifact Store |   filesystem://./artifact_store   |\n",
      "+----------------+-----------------------------------+\u001b[0m\n"
     ]
    }
   ],
   "source": [
    "db.drop(True, True)\n",
    "db = superduper()"
   ]
  },
  {
   "cell_type": "code",
   "execution_count": 7,
   "id": "4e7902bd",
   "metadata": {
    "editable": true,
    "slideshow": {
     "slide_type": ""
    },
    "tags": []
   },
   "outputs": [],
   "source": [
    "import json\n",
    "import requests\n",
    "import io\n",
    "from superduper import logging\n",
    "\n",
    "\n",
    "def getter():\n",
    "    logging.info('Downloading data...')\n",
    "    response = requests.get('https://superduperdb-public-demo.s3.amazonaws.com/text.json')\n",
    "    logging.info('Downloading data... (Done)')\n",
    "    data = json.loads(response.content.decode('utf-8'))\n",
    "    return [{'x': r} for r in data]"
   ]
  },
  {
   "cell_type": "code",
   "execution_count": 8,
   "id": "1ef8dd07-1b47-4dce-84dd-a081d1f5ee9d",
   "metadata": {},
   "outputs": [
    {
     "name": "stdout",
     "output_type": "stream",
     "text": [
      "\u001b[32m2025-Feb-23 13:55:48.16\u001b[0m| \u001b[1mINFO    \u001b[0m | \u001b[36mDuncans-MBP.fritz.box\u001b[0m| \u001b[36m__main__\u001b[0m:\u001b[36m8   \u001b[0m | \u001b[1mDownloading data...\u001b[0m\n",
      "\u001b[32m2025-Feb-23 13:55:49.04\u001b[0m| \u001b[1mINFO    \u001b[0m | \u001b[36mDuncans-MBP.fritz.box\u001b[0m| \u001b[36m__main__\u001b[0m:\u001b[36m10  \u001b[0m | \u001b[1mDownloading data... (Done)\u001b[0m\n"
     ]
    }
   ],
   "source": [
    "if APPLY:\n",
    "    data = getter()"
   ]
  },
  {
   "cell_type": "markdown",
   "id": "9ede8ae1",
   "metadata": {},
   "source": [
    "<!-- TABS -->\n",
    "## Insert simple data\n",
    "\n",
    "After turning on auto_schema, we can directly insert data, and superduper will automatically analyze the data type, and match the construction of the table and datatype."
   ]
  },
  {
   "cell_type": "code",
   "execution_count": 9,
   "id": "c5965fdf",
   "metadata": {},
   "outputs": [
    {
     "name": "stdout",
     "output_type": "stream",
     "text": [
      "\u001b[32m2025-Feb-23 13:55:50.43\u001b[0m| \u001b[1mINFO    \u001b[0m | \u001b[36mDuncans-MBP.fritz.box\u001b[0m| \u001b[36msuperduper.base.datalayer\u001b[0m:\u001b[36m387 \u001b[0m | \u001b[1mComponent (Table, Table) not found in cache, loading from db\u001b[0m\n",
      "\u001b[32m2025-Feb-23 13:55:50.43\u001b[0m| \u001b[1mINFO    \u001b[0m | \u001b[36mDuncans-MBP.fritz.box\u001b[0m| \u001b[36msuperduper.base.datalayer\u001b[0m:\u001b[36m393 \u001b[0m | \u001b[1mLoad (('Table', 'Table')) from metadata...\u001b[0m\n",
      "\u001b[32m2025-Feb-23 13:55:50.43\u001b[0m| \u001b[1mINFO    \u001b[0m | \u001b[36mDuncans-MBP.fritz.box\u001b[0m| \u001b[36msuperduper.base.datalayer\u001b[0m:\u001b[36m405 \u001b[0m | \u001b[1mAdding Table:Table:abc to cache\u001b[0m\n",
      "\u001b[32m2025-Feb-23 13:55:50.48\u001b[0m| \u001b[1mINFO    \u001b[0m | \u001b[36mDuncans-MBP.fritz.box\u001b[0m| \u001b[36msuperduper.base.datalayer\u001b[0m:\u001b[36m387 \u001b[0m | \u001b[1mComponent (Table, docs) not found in cache, loading from db\u001b[0m\n",
      "\u001b[32m2025-Feb-23 13:55:50.48\u001b[0m| \u001b[1mINFO    \u001b[0m | \u001b[36mDuncans-MBP.fritz.box\u001b[0m| \u001b[36msuperduper.base.datalayer\u001b[0m:\u001b[36m393 \u001b[0m | \u001b[1mLoad (('Table', 'docs')) from metadata...\u001b[0m\n",
      "\u001b[32m2025-Feb-23 13:55:50.48\u001b[0m| \u001b[1mINFO    \u001b[0m | \u001b[36mDuncans-MBP.fritz.box\u001b[0m| \u001b[36msuperduper.base.apply\u001b[0m:\u001b[36m369 \u001b[0m | \u001b[1mFound new Table:docs:e00fdad004614226\u001b[0m\n",
      "\u001b[32m2025-Feb-23 13:55:50.48\u001b[0m| \u001b[1mINFO    \u001b[0m | \u001b[36mDuncans-MBP.fritz.box\u001b[0m| \u001b[36msuperduper.base.apply\u001b[0m:\u001b[36m78  \u001b[0m | \u001b[1mFound these changes and/ or additions that need to be made:\u001b[0m\n",
      "\u001b[32m2025-Feb-23 13:55:50.48\u001b[0m| \u001b[1mINFO    \u001b[0m | \u001b[36mDuncans-MBP.fritz.box\u001b[0m| \u001b[36msuperduper.base.apply\u001b[0m:\u001b[36m80  \u001b[0m | \u001b[1m----------------------------------------------------------------------------------------------------\u001b[0m\n",
      "\u001b[32m2025-Feb-23 13:55:50.48\u001b[0m| \u001b[1mINFO    \u001b[0m | \u001b[36mDuncans-MBP.fritz.box\u001b[0m| \u001b[36msuperduper.base.apply\u001b[0m:\u001b[36m81  \u001b[0m | \u001b[1mMETADATA EVENTS:\u001b[0m\n",
      "\u001b[32m2025-Feb-23 13:55:50.48\u001b[0m| \u001b[1mINFO    \u001b[0m | \u001b[36mDuncans-MBP.fritz.box\u001b[0m| \u001b[36msuperduper.base.apply\u001b[0m:\u001b[36m82  \u001b[0m | \u001b[1m----------------------------------------------------------------------------------------------------\u001b[0m\n",
      "\u001b[32m2025-Feb-23 13:55:50.48\u001b[0m| \u001b[1mINFO    \u001b[0m | \u001b[36mDuncans-MBP.fritz.box\u001b[0m| \u001b[36msuperduper.base.apply\u001b[0m:\u001b[36m93  \u001b[0m | \u001b[1m[0]: Table:docs:e00fdad004614226: create\u001b[0m\n",
      "\u001b[32m2025-Feb-23 13:55:50.48\u001b[0m| \u001b[1mINFO    \u001b[0m | \u001b[36mDuncans-MBP.fritz.box\u001b[0m| \u001b[36msuperduper.base.apply\u001b[0m:\u001b[36m95  \u001b[0m | \u001b[1m----------------------------------------------------------------------------------------------------\u001b[0m\n",
      "\u001b[32m2025-Feb-23 13:55:50.48\u001b[0m| \u001b[1mINFO    \u001b[0m | \u001b[36mDuncans-MBP.fritz.box\u001b[0m| \u001b[36msuperduper.base.apply\u001b[0m:\u001b[36m96  \u001b[0m | \u001b[1mJOBS EVENTS:\u001b[0m\n",
      "\u001b[32m2025-Feb-23 13:55:50.48\u001b[0m| \u001b[1mINFO    \u001b[0m | \u001b[36mDuncans-MBP.fritz.box\u001b[0m| \u001b[36msuperduper.base.apply\u001b[0m:\u001b[36m97  \u001b[0m | \u001b[1m----------------------------------------------------------------------------------------------------\u001b[0m\n",
      "\u001b[32m2025-Feb-23 13:55:50.48\u001b[0m| \u001b[1mINFO    \u001b[0m | \u001b[36mDuncans-MBP.fritz.box\u001b[0m| \u001b[36msuperduper.base.apply\u001b[0m:\u001b[36m101 \u001b[0m | \u001b[1mNo job events...\u001b[0m\n",
      "\u001b[32m2025-Feb-23 13:55:50.48\u001b[0m| \u001b[1mINFO    \u001b[0m | \u001b[36mDuncans-MBP.fritz.box\u001b[0m| \u001b[36msuperduper.base.apply\u001b[0m:\u001b[36m112 \u001b[0m | \u001b[1m----------------------------------------------------------------------------------------------------\u001b[0m\n",
      "\u001b[32m2025-Feb-23 13:55:50.49\u001b[0m| \u001b[1mINFO    \u001b[0m | \u001b[36mDuncans-MBP.fritz.box\u001b[0m| \u001b[36msuperduper.base.datalayer\u001b[0m:\u001b[36m387 \u001b[0m | \u001b[1mComponent (Table, Table) not found in cache, loading from db\u001b[0m\n",
      "\u001b[32m2025-Feb-23 13:55:50.49\u001b[0m| \u001b[1mINFO    \u001b[0m | \u001b[36mDuncans-MBP.fritz.box\u001b[0m| \u001b[36msuperduper.base.datalayer\u001b[0m:\u001b[36m393 \u001b[0m | \u001b[1mLoad (('Table', 'Table')) from metadata...\u001b[0m\n",
      "\u001b[32m2025-Feb-23 13:55:50.49\u001b[0m| \u001b[1mINFO    \u001b[0m | \u001b[36mDuncans-MBP.fritz.box\u001b[0m| \u001b[36msuperduper.base.datalayer\u001b[0m:\u001b[36m405 \u001b[0m | \u001b[1mAdding Table:Table:abc to cache\u001b[0m\n",
      "\u001b[32m2025-Feb-23 13:55:50.50\u001b[0m| \u001b[1mINFO    \u001b[0m | \u001b[36mDuncans-MBP.fritz.box\u001b[0m| \u001b[36msuperduper.base.datalayer\u001b[0m:\u001b[36m361 \u001b[0m | \u001b[1mComponent e00fdad004614226 not found in cache, loading from db with uuid\u001b[0m\n",
      "\u001b[32m2025-Feb-23 13:55:50.50\u001b[0m| \u001b[1mINFO    \u001b[0m | \u001b[36mDuncans-MBP.fritz.box\u001b[0m| \u001b[36msuperduper.base.datalayer\u001b[0m:\u001b[36m378 \u001b[0m | \u001b[1mAdding Table:docs:e00fdad004614226 to cache\u001b[0m\n",
      "\u001b[32m2025-Feb-23 13:55:50.50\u001b[0m| \u001b[33m\u001b[1mWARNING \u001b[0m | \u001b[36mDuncans-MBP.fritz.box\u001b[0m| \u001b[36msuperduper.backends.local.compute\u001b[0m:\u001b[36m49  \u001b[0m | \u001b[33m\u001b[1mCould not release futures for context e00fdad004614226\u001b[0m\n",
      "\u001b[32m2025-Feb-23 13:55:50.50\u001b[0m| \u001b[1mINFO    \u001b[0m | \u001b[36mDuncans-MBP.fritz.box\u001b[0m| \u001b[36msuperduper.backends.local.queue\u001b[0m:\u001b[36m114 \u001b[0m | \u001b[1mConsumed all events\u001b[0m\n",
      "\u001b[32m2025-Feb-23 13:55:50.50\u001b[0m| \u001b[1mINFO    \u001b[0m | \u001b[36mDuncans-MBP.fritz.box\u001b[0m| \u001b[36msuperduper.base.datalayer\u001b[0m:\u001b[36m387 \u001b[0m | \u001b[1mComponent (Table, docs) not found in cache, loading from db\u001b[0m\n",
      "\u001b[32m2025-Feb-23 13:55:50.50\u001b[0m| \u001b[1mINFO    \u001b[0m | \u001b[36mDuncans-MBP.fritz.box\u001b[0m| \u001b[36msuperduper.base.datalayer\u001b[0m:\u001b[36m393 \u001b[0m | \u001b[1mLoad (('Table', 'docs')) from metadata...\u001b[0m\n",
      "\u001b[32m2025-Feb-23 13:55:50.51\u001b[0m| \u001b[1mINFO    \u001b[0m | \u001b[36mDuncans-MBP.fritz.box\u001b[0m| \u001b[36msuperduper.base.datalayer\u001b[0m:\u001b[36m405 \u001b[0m | \u001b[1mAdding Table:docs:e00fdad004614226 to cache\u001b[0m\n"
     ]
    }
   ],
   "source": [
    "if APPLY:\n",
    "    from superduper import Document, Table\n",
    "    table = Table(COLLECTION_NAME, fields={'x': 'str'})\n",
    "    db.apply(table, force=True)\n",
    "    ids = db.execute(db[COLLECTION_NAME].insert(data))"
   ]
  },
  {
   "cell_type": "markdown",
   "id": "c4885060-450c-4446-b5fb-e58591c0d1ff",
   "metadata": {},
   "source": [
    "Create plugin:"
   ]
  },
  {
   "cell_type": "code",
   "execution_count": 10,
   "id": "f879a4df-6f60-4c80-8fdd-285a1ef92c90",
   "metadata": {},
   "outputs": [],
   "source": [
    "from superduper import Plugin\n",
    "\n",
    "plugin = Plugin('rag-plugin', path='./rag_plugin.py')"
   ]
  },
  {
   "cell_type": "markdown",
   "id": "54fea927-ee4a-44cd-aaf2-634b574c316d",
   "metadata": {},
   "source": [
    "<!-- TABS -->\n",
    "## Apply a chunker for search"
   ]
  },
  {
   "cell_type": "markdown",
   "id": "06d90bda-e8c4-494e-a38c-837fb63689ae",
   "metadata": {},
   "source": [
    ":::note\n",
    "Note that applying a chunker is ***not*** mandatory for search.\n",
    "If your data is already chunked (e.g. short text snippets or audio) or if you\n",
    "are searching through something like images, which can't be chunked, then this\n",
    "won't be necessary.\n",
    ":::"
   ]
  },
  {
   "cell_type": "code",
   "execution_count": 11,
   "id": "93d21872-d4dc-40dc-abab-fb07ba102ea3",
   "metadata": {},
   "outputs": [],
   "source": [
    "from superduper import Listener\n",
    "from rag_plugin import Chunker\n",
    "\n",
    "upstream_listener = Listener(\n",
    "    model=Chunker(identifier='chunker'),\n",
    "    select=db[COLLECTION_NAME],\n",
    "    key='x',\n",
    "    identifier='chunker',\n",
    "    flatten=True,\n",
    "    upstream=[plugin],\n",
    ")"
   ]
  },
  {
   "cell_type": "code",
   "execution_count": 12,
   "id": "31900eec-b516-4bef-939e-2e8f46252b12",
   "metadata": {},
   "outputs": [],
   "source": [
    "if APPLY and EAGER:\n",
    "    db.apply(upstream_listener, force=True)"
   ]
  },
  {
   "cell_type": "markdown",
   "id": "7c5377c0-4c9b-4ba9-8f08-5e866b9220b5",
   "metadata": {},
   "source": [
    "## Select outputs of upstream listener"
   ]
  },
  {
   "cell_type": "markdown",
   "id": "809f5f62-95c3-483b-ae74-a5cdb5c1c83d",
   "metadata": {},
   "source": [
    ":::note\n",
    "This is useful if you have performed a first step, such as pre-computing \n",
    "features, or chunking your data. You can use this query to \n",
    "operate on those outputs.\n",
    ":::"
   ]
  },
  {
   "cell_type": "markdown",
   "id": "c9a2cd87-723f-4cee-87c7-9b8181c9e54b",
   "metadata": {},
   "source": [
    "<!-- TABS -->\n",
    "## Build text embedding model"
   ]
  },
  {
   "cell_type": "markdown",
   "id": "10753ea4-9893-4056-813d-7d6ddf78ce02",
   "metadata": {},
   "source": [
    "OpenAI:"
   ]
  },
  {
   "cell_type": "code",
   "execution_count": 17,
   "id": "a9b1f538-65ca-499e-b6d0-2dd733f81723",
   "metadata": {},
   "outputs": [],
   "source": [
    "import os\n",
    "\n",
    "from superduper_openai import OpenAIEmbedding\n",
    "\n",
    "openai_embedding = OpenAIEmbedding(\n",
    "    identifier='text-embedding',\n",
    "    model='text-embedding-ada-002',\n",
    "    datatype='vector[float:1536]',\n",
    ")"
   ]
  },
  {
   "cell_type": "markdown",
   "id": "f31843db-8638-458a-a770-96a79041be88",
   "metadata": {},
   "source": [
    "## Create vector-index"
   ]
  },
  {
   "cell_type": "code",
   "execution_count": 18,
   "id": "4663fa4b-c2ec-427d-bf8b-b8b109cc2ccf",
   "metadata": {},
   "outputs": [],
   "source": [
    "from superduper import VectorIndex, Listener\n",
    "\n",
    "vector_index_name = 'vectorindex'\n",
    "\n",
    "vector_index = VectorIndex(\n",
    "    vector_index_name,\n",
    "    indexing_listener=Listener(\n",
    "        key=upstream_listener.outputs,\n",
    "        select=db[upstream_listener.outputs],\n",
    "        model=openai_embedding,\n",
    "        identifier='embeddinglistener',\n",
    "        upstream=[upstream_listener],\n",
    "    )\n",
    ")"
   ]
  },
  {
   "cell_type": "code",
   "execution_count": 19,
   "id": "509c3505-54c5-4e68-84ec-3df8bea0fd74",
   "metadata": {},
   "outputs": [],
   "source": [
    "if APPLY and EAGER:\n",
    "    db.apply(vector_index, force=True)"
   ]
  },
  {
   "cell_type": "markdown",
   "id": "1179a67b-4e40-496b-9851-98f32d42faa0",
   "metadata": {},
   "source": [
    "<!-- TABS -->\n",
    "## Build LLM"
   ]
  },
  {
   "cell_type": "code",
   "execution_count": 21,
   "id": "75faf501-f0cf-4707-a165-5a05cfb14bbf",
   "metadata": {},
   "outputs": [],
   "source": [
    "from superduper_openai import OpenAIChatCompletion\n",
    "\n",
    "\n",
    "llm_openai = OpenAIChatCompletion(\n",
    "    identifier='llm-model',\n",
    "    model='gpt-3.5-turbo',\n",
    "    datatype='str',\n",
    ")"
   ]
  },
  {
   "cell_type": "markdown",
   "id": "60ae6203-dcc4-493c-a8f8-f727f0f75778",
   "metadata": {},
   "source": [
    "## Answer question with LLM"
   ]
  },
  {
   "cell_type": "code",
   "execution_count": 22,
   "id": "44baeb09-6f35-4cf2-b814-46283a59f7e9",
   "metadata": {},
   "outputs": [],
   "source": [
    "from superduper import model\n",
    "from rag_plugin import RAGModel\n",
    "\n",
    "\n",
    "prompt_template = (\n",
    "    \"Use the following context snippets, these snippets are not ordered!, Answer the question based on this context.\\n\"\n",
    "    \"These snippets are samples from our internal data-repositories, and should be used exclusively and as a matter\"\n",
    "    \" of priority to answer the question. Please answer in 20 words or less.\\n\\n\"\n",
    "    \"{context}\\n\\n\"\n",
    "    \"Here's the question: {query}\"\n",
    ")\n",
    "\n",
    "rag = RAGModel(\n",
    "    'simple_rag',\n",
    "    select=db[upstream_listener.outputs].select().like({upstream_listener.outputs: '<var:query>'}, vector_index=vector_index_name, n=5),\n",
    "    prompt_template=prompt_template,\n",
    "    key=upstream_listener.outputs,\n",
    "    llm=llm_openai,\n",
    ")"
   ]
  },
  {
   "cell_type": "code",
   "execution_count": 23,
   "id": "2d3a0d3a-da1c-41ec-b16c-f281c46ad794",
   "metadata": {},
   "outputs": [],
   "source": [
    "if APPLY and EAGER:\n",
    "    db.apply(rag, force=True)"
   ]
  },
  {
   "cell_type": "markdown",
   "id": "183bf5b6-4644-4e4c-b65b-e6bafdc6b49f",
   "metadata": {},
   "source": [
    "By applying the RAG model to the database, it will subsequently be accessible for use in other services."
   ]
  },
  {
   "cell_type": "code",
   "execution_count": 24,
   "id": "c974643b-e642-40ea-942f-4d90e0d1bbe1",
   "metadata": {},
   "outputs": [],
   "source": [
    "from superduper import Streamlit, Plugin\n",
    "from rag_plugin import demo_func\n",
    "\n",
    "demo = Streamlit('simple-rag-demo', demo_func=demo_func, upstream=[plugin])"
   ]
  },
  {
   "cell_type": "code",
   "execution_count": 25,
   "id": "e6787c78-4b14-4a72-818b-450408a74331",
   "metadata": {},
   "outputs": [],
   "source": [
    "from superduper import Application\n",
    "\n",
    "app = Application(\n",
    "    'simple-rag-app',\n",
    "    components=[\n",
    "        upstream_listener,\n",
    "        vector_index,\n",
    "        rag,\n",
    "        demo,\n",
    "    ]\n",
    ")"
   ]
  },
  {
   "cell_type": "code",
   "execution_count": 26,
   "id": "e7c16557-af76-4e70-83d9-2984e19a9554",
   "metadata": {
    "scrolled": true
   },
   "outputs": [
    {
     "name": "stdout",
     "output_type": "stream",
     "text": [
      "\u001b[32m2025-Feb-23 13:56:33.19\u001b[0m| \u001b[1mINFO    \u001b[0m | \u001b[36mDuncans-MBP.fritz.box\u001b[0m| \u001b[36msuperduper.base.datalayer\u001b[0m:\u001b[36m387 \u001b[0m | \u001b[1mComponent (Table, Table) not found in cache, loading from db\u001b[0m\n",
      "\u001b[32m2025-Feb-23 13:56:33.19\u001b[0m| \u001b[1mINFO    \u001b[0m | \u001b[36mDuncans-MBP.fritz.box\u001b[0m| \u001b[36msuperduper.base.datalayer\u001b[0m:\u001b[36m393 \u001b[0m | \u001b[1mLoad (('Table', 'Table')) from metadata...\u001b[0m\n",
      "\u001b[32m2025-Feb-23 13:56:33.19\u001b[0m| \u001b[1mINFO    \u001b[0m | \u001b[36mDuncans-MBP.fritz.box\u001b[0m| \u001b[36msuperduper.base.datalayer\u001b[0m:\u001b[36m405 \u001b[0m | \u001b[1mAdding Table:Table:abc to cache\u001b[0m\n",
      "\u001b[32m2025-Feb-23 13:56:33.20\u001b[0m| \u001b[1mINFO    \u001b[0m | \u001b[36mDuncans-MBP.fritz.box\u001b[0m| \u001b[36msuperduper.base.datalayer\u001b[0m:\u001b[36m387 \u001b[0m | \u001b[1mComponent (Table, Table) not found in cache, loading from db\u001b[0m\n",
      "\u001b[32m2025-Feb-23 13:56:33.20\u001b[0m| \u001b[1mINFO    \u001b[0m | \u001b[36mDuncans-MBP.fritz.box\u001b[0m| \u001b[36msuperduper.base.datalayer\u001b[0m:\u001b[36m393 \u001b[0m | \u001b[1mLoad (('Table', 'Table')) from metadata...\u001b[0m\n",
      "\u001b[32m2025-Feb-23 13:56:33.21\u001b[0m| \u001b[1mINFO    \u001b[0m | \u001b[36mDuncans-MBP.fritz.box\u001b[0m| \u001b[36msuperduper.base.datalayer\u001b[0m:\u001b[36m405 \u001b[0m | \u001b[1mAdding Table:Table:abc to cache\u001b[0m\n",
      "\u001b[32m2025-Feb-23 13:56:33.22\u001b[0m| \u001b[1mINFO    \u001b[0m | \u001b[36mDuncans-MBP.fritz.box\u001b[0m| \u001b[36msuperduper.base.datalayer\u001b[0m:\u001b[36m387 \u001b[0m | \u001b[1mComponent (Table, Table) not found in cache, loading from db\u001b[0m\n",
      "\u001b[32m2025-Feb-23 13:56:33.22\u001b[0m| \u001b[1mINFO    \u001b[0m | \u001b[36mDuncans-MBP.fritz.box\u001b[0m| \u001b[36msuperduper.base.datalayer\u001b[0m:\u001b[36m393 \u001b[0m | \u001b[1mLoad (('Table', 'Table')) from metadata...\u001b[0m\n",
      "\u001b[32m2025-Feb-23 13:56:33.22\u001b[0m| \u001b[1mINFO    \u001b[0m | \u001b[36mDuncans-MBP.fritz.box\u001b[0m| \u001b[36msuperduper.base.datalayer\u001b[0m:\u001b[36m405 \u001b[0m | \u001b[1mAdding Table:Table:abc to cache\u001b[0m\n",
      "\u001b[32m2025-Feb-23 13:56:33.24\u001b[0m| \u001b[1mINFO    \u001b[0m | \u001b[36mDuncans-MBP.fritz.box\u001b[0m| \u001b[36msuperduper.base.datalayer\u001b[0m:\u001b[36m387 \u001b[0m | \u001b[1mComponent (Plugin, plugin-rag_plugin_py) not found in cache, loading from db\u001b[0m\n",
      "\u001b[32m2025-Feb-23 13:56:33.24\u001b[0m| \u001b[1mINFO    \u001b[0m | \u001b[36mDuncans-MBP.fritz.box\u001b[0m| \u001b[36msuperduper.base.datalayer\u001b[0m:\u001b[36m393 \u001b[0m | \u001b[1mLoad (('Plugin', 'plugin-rag_plugin_py')) from metadata...\u001b[0m\n",
      "\u001b[32m2025-Feb-23 13:56:33.24\u001b[0m| \u001b[1mINFO    \u001b[0m | \u001b[36mDuncans-MBP.fritz.box\u001b[0m| \u001b[36msuperduper.base.apply\u001b[0m:\u001b[36m369 \u001b[0m | \u001b[1mFound new Plugin:plugin-rag_plugin_py:rag-plugin\u001b[0m\n",
      "\u001b[32m2025-Feb-23 13:56:33.24\u001b[0m| \u001b[1mINFO    \u001b[0m | \u001b[36mDuncans-MBP.fritz.box\u001b[0m| \u001b[36msuperduper.base.artifacts\u001b[0m:\u001b[36m272 \u001b[0m | \u001b[1mCopying file ./rag_plugin.py to ./artifact_store/f74492989c5ac8b5eba5041c05b9927b08d08ffa/rag_plugin.py\u001b[0m\n",
      "\u001b[32m2025-Feb-23 13:56:33.25\u001b[0m| \u001b[1mINFO    \u001b[0m | \u001b[36mDuncans-MBP.fritz.box\u001b[0m| \u001b[36msuperduper.base.datalayer\u001b[0m:\u001b[36m387 \u001b[0m | \u001b[1mComponent (Table, Table) not found in cache, loading from db\u001b[0m\n",
      "\u001b[32m2025-Feb-23 13:56:33.25\u001b[0m| \u001b[1mINFO    \u001b[0m | \u001b[36mDuncans-MBP.fritz.box\u001b[0m| \u001b[36msuperduper.base.datalayer\u001b[0m:\u001b[36m393 \u001b[0m | \u001b[1mLoad (('Table', 'Table')) from metadata...\u001b[0m\n",
      "\u001b[32m2025-Feb-23 13:56:33.25\u001b[0m| \u001b[1mINFO    \u001b[0m | \u001b[36mDuncans-MBP.fritz.box\u001b[0m| \u001b[36msuperduper.base.datalayer\u001b[0m:\u001b[36m405 \u001b[0m | \u001b[1mAdding Table:Table:abc to cache\u001b[0m\n",
      "\u001b[32m2025-Feb-23 13:56:33.27\u001b[0m| \u001b[1mINFO    \u001b[0m | \u001b[36mDuncans-MBP.fritz.box\u001b[0m| \u001b[36msuperduper.base.datalayer\u001b[0m:\u001b[36m387 \u001b[0m | \u001b[1mComponent (Chunker, chunker) not found in cache, loading from db\u001b[0m\n",
      "\u001b[32m2025-Feb-23 13:56:33.27\u001b[0m| \u001b[1mINFO    \u001b[0m | \u001b[36mDuncans-MBP.fritz.box\u001b[0m| \u001b[36msuperduper.base.datalayer\u001b[0m:\u001b[36m393 \u001b[0m | \u001b[1mLoad (('Chunker', 'chunker')) from metadata...\u001b[0m\n",
      "\u001b[32m2025-Feb-23 13:56:33.27\u001b[0m| \u001b[1mINFO    \u001b[0m | \u001b[36mDuncans-MBP.fritz.box\u001b[0m| \u001b[36msuperduper.base.apply\u001b[0m:\u001b[36m369 \u001b[0m | \u001b[1mFound new Chunker:chunker:478df10bb9034b65\u001b[0m\n",
      "\u001b[32m2025-Feb-23 13:56:33.27\u001b[0m| \u001b[1mINFO    \u001b[0m | \u001b[36mDuncans-MBP.fritz.box\u001b[0m| \u001b[36msuperduper.base.datalayer\u001b[0m:\u001b[36m387 \u001b[0m | \u001b[1mComponent (Listener, chunker) not found in cache, loading from db\u001b[0m\n",
      "\u001b[32m2025-Feb-23 13:56:33.27\u001b[0m| \u001b[1mINFO    \u001b[0m | \u001b[36mDuncans-MBP.fritz.box\u001b[0m| \u001b[36msuperduper.base.datalayer\u001b[0m:\u001b[36m393 \u001b[0m | \u001b[1mLoad (('Listener', 'chunker')) from metadata...\u001b[0m\n",
      "\u001b[32m2025-Feb-23 13:56:33.28\u001b[0m| \u001b[1mINFO    \u001b[0m | \u001b[36mDuncans-MBP.fritz.box\u001b[0m| \u001b[36msuperduper.base.datalayer\u001b[0m:\u001b[36m387 \u001b[0m | \u001b[1mComponent (Table, _outputs__chunker__b5f5671fbbc34bf9) not found in cache, loading from db\u001b[0m\n",
      "\u001b[32m2025-Feb-23 13:56:33.28\u001b[0m| \u001b[1mINFO    \u001b[0m | \u001b[36mDuncans-MBP.fritz.box\u001b[0m| \u001b[36msuperduper.base.datalayer\u001b[0m:\u001b[36m393 \u001b[0m | \u001b[1mLoad (('Table', '_outputs__chunker__b5f5671fbbc34bf9')) from metadata...\u001b[0m\n",
      "\u001b[32m2025-Feb-23 13:56:33.29\u001b[0m| \u001b[1mINFO    \u001b[0m | \u001b[36mDuncans-MBP.fritz.box\u001b[0m| \u001b[36msuperduper.base.apply\u001b[0m:\u001b[36m369 \u001b[0m | \u001b[1mFound new Table:_outputs__chunker__b5f5671fbbc34bf9:04e488dab02943ed\u001b[0m\n",
      "\u001b[32m2025-Feb-23 13:56:33.29\u001b[0m| \u001b[1mINFO    \u001b[0m | \u001b[36mDuncans-MBP.fritz.box\u001b[0m| \u001b[36msuperduper.base.apply\u001b[0m:\u001b[36m369 \u001b[0m | \u001b[1mFound new Listener:chunker:b5f5671fbbc34bf9\u001b[0m\n",
      "\u001b[32m2025-Feb-23 13:56:33.29\u001b[0m| \u001b[1mINFO    \u001b[0m | \u001b[36mDuncans-MBP.fritz.box\u001b[0m| \u001b[36msuperduper.base.datalayer\u001b[0m:\u001b[36m387 \u001b[0m | \u001b[1mComponent (Table, Table) not found in cache, loading from db\u001b[0m\n",
      "\u001b[32m2025-Feb-23 13:56:33.29\u001b[0m| \u001b[1mINFO    \u001b[0m | \u001b[36mDuncans-MBP.fritz.box\u001b[0m| \u001b[36msuperduper.base.datalayer\u001b[0m:\u001b[36m393 \u001b[0m | \u001b[1mLoad (('Table', 'Table')) from metadata...\u001b[0m\n",
      "\u001b[32m2025-Feb-23 13:56:33.29\u001b[0m| \u001b[1mINFO    \u001b[0m | \u001b[36mDuncans-MBP.fritz.box\u001b[0m| \u001b[36msuperduper.base.datalayer\u001b[0m:\u001b[36m405 \u001b[0m | \u001b[1mAdding Table:Table:abc to cache\u001b[0m\n",
      "\u001b[32m2025-Feb-23 13:56:33.32\u001b[0m| \u001b[1mINFO    \u001b[0m | \u001b[36mDuncans-MBP.fritz.box\u001b[0m| \u001b[36msuperduper.base.datalayer\u001b[0m:\u001b[36m387 \u001b[0m | \u001b[1mComponent (Table, Table) not found in cache, loading from db\u001b[0m\n",
      "\u001b[32m2025-Feb-23 13:56:33.32\u001b[0m| \u001b[1mINFO    \u001b[0m | \u001b[36mDuncans-MBP.fritz.box\u001b[0m| \u001b[36msuperduper.base.datalayer\u001b[0m:\u001b[36m393 \u001b[0m | \u001b[1mLoad (('Table', 'Table')) from metadata...\u001b[0m\n",
      "\u001b[32m2025-Feb-23 13:56:33.32\u001b[0m| \u001b[1mINFO    \u001b[0m | \u001b[36mDuncans-MBP.fritz.box\u001b[0m| \u001b[36msuperduper.base.datalayer\u001b[0m:\u001b[36m405 \u001b[0m | \u001b[1mAdding Table:Table:abc to cache\u001b[0m\n",
      "\u001b[32m2025-Feb-23 13:56:33.34\u001b[0m| \u001b[1mINFO    \u001b[0m | \u001b[36mDuncans-MBP.fritz.box\u001b[0m| \u001b[36msuperduper.base.datalayer\u001b[0m:\u001b[36m387 \u001b[0m | \u001b[1mComponent (OpenAIEmbedding, text-embedding) not found in cache, loading from db\u001b[0m\n",
      "\u001b[32m2025-Feb-23 13:56:33.34\u001b[0m| \u001b[1mINFO    \u001b[0m | \u001b[36mDuncans-MBP.fritz.box\u001b[0m| \u001b[36msuperduper.base.datalayer\u001b[0m:\u001b[36m393 \u001b[0m | \u001b[1mLoad (('OpenAIEmbedding', 'text-embedding')) from metadata...\u001b[0m\n",
      "\u001b[32m2025-Feb-23 13:56:33.34\u001b[0m| \u001b[1mINFO    \u001b[0m | \u001b[36mDuncans-MBP.fritz.box\u001b[0m| \u001b[36msuperduper.base.apply\u001b[0m:\u001b[36m369 \u001b[0m | \u001b[1mFound new OpenAIEmbedding:text-embedding:202c2a23bac74b59\u001b[0m\n",
      "\u001b[32m2025-Feb-23 13:56:33.34\u001b[0m| \u001b[1mINFO    \u001b[0m | \u001b[36mDuncans-MBP.fritz.box\u001b[0m| \u001b[36msuperduper.base.datalayer\u001b[0m:\u001b[36m387 \u001b[0m | \u001b[1mComponent (Listener, embeddinglistener) not found in cache, loading from db\u001b[0m\n",
      "\u001b[32m2025-Feb-23 13:56:33.34\u001b[0m| \u001b[1mINFO    \u001b[0m | \u001b[36mDuncans-MBP.fritz.box\u001b[0m| \u001b[36msuperduper.base.datalayer\u001b[0m:\u001b[36m393 \u001b[0m | \u001b[1mLoad (('Listener', 'embeddinglistener')) from metadata...\u001b[0m\n",
      "\u001b[32m2025-Feb-23 13:56:33.35\u001b[0m| \u001b[1mINFO    \u001b[0m | \u001b[36mDuncans-MBP.fritz.box\u001b[0m| \u001b[36msuperduper.base.datalayer\u001b[0m:\u001b[36m387 \u001b[0m | \u001b[1mComponent (Table, _outputs__embeddinglistener__53e701637b7346f5) not found in cache, loading from db\u001b[0m\n",
      "\u001b[32m2025-Feb-23 13:56:33.35\u001b[0m| \u001b[1mINFO    \u001b[0m | \u001b[36mDuncans-MBP.fritz.box\u001b[0m| \u001b[36msuperduper.base.datalayer\u001b[0m:\u001b[36m393 \u001b[0m | \u001b[1mLoad (('Table', '_outputs__embeddinglistener__53e701637b7346f5')) from metadata...\u001b[0m\n",
      "\u001b[32m2025-Feb-23 13:56:33.36\u001b[0m| \u001b[1mINFO    \u001b[0m | \u001b[36mDuncans-MBP.fritz.box\u001b[0m| \u001b[36msuperduper.base.apply\u001b[0m:\u001b[36m369 \u001b[0m | \u001b[1mFound new Table:_outputs__embeddinglistener__53e701637b7346f5:77ad2bbcdb6d4f13\u001b[0m\n",
      "\u001b[32m2025-Feb-23 13:56:33.36\u001b[0m| \u001b[1mINFO    \u001b[0m | \u001b[36mDuncans-MBP.fritz.box\u001b[0m| \u001b[36msuperduper.base.apply\u001b[0m:\u001b[36m369 \u001b[0m | \u001b[1mFound new Listener:embeddinglistener:53e701637b7346f5\u001b[0m\n",
      "\u001b[32m2025-Feb-23 13:56:33.36\u001b[0m| \u001b[1mINFO    \u001b[0m | \u001b[36mDuncans-MBP.fritz.box\u001b[0m| \u001b[36msuperduper.base.datalayer\u001b[0m:\u001b[36m387 \u001b[0m | \u001b[1mComponent (VectorIndex, vectorindex) not found in cache, loading from db\u001b[0m\n",
      "\u001b[32m2025-Feb-23 13:56:33.36\u001b[0m| \u001b[1mINFO    \u001b[0m | \u001b[36mDuncans-MBP.fritz.box\u001b[0m| \u001b[36msuperduper.base.datalayer\u001b[0m:\u001b[36m393 \u001b[0m | \u001b[1mLoad (('VectorIndex', 'vectorindex')) from metadata...\u001b[0m\n",
      "\u001b[32m2025-Feb-23 13:56:33.37\u001b[0m| \u001b[1mINFO    \u001b[0m | \u001b[36mDuncans-MBP.fritz.box\u001b[0m| \u001b[36msuperduper.base.apply\u001b[0m:\u001b[36m369 \u001b[0m | \u001b[1mFound new VectorIndex:vectorindex:47ee32f8ee8643ed\u001b[0m\n",
      "\u001b[32m2025-Feb-23 13:56:33.37\u001b[0m| \u001b[1mINFO    \u001b[0m | \u001b[36mDuncans-MBP.fritz.box\u001b[0m| \u001b[36msuperduper.base.datalayer\u001b[0m:\u001b[36m387 \u001b[0m | \u001b[1mComponent (Table, Table) not found in cache, loading from db\u001b[0m\n",
      "\u001b[32m2025-Feb-23 13:56:33.37\u001b[0m| \u001b[1mINFO    \u001b[0m | \u001b[36mDuncans-MBP.fritz.box\u001b[0m| \u001b[36msuperduper.base.datalayer\u001b[0m:\u001b[36m393 \u001b[0m | \u001b[1mLoad (('Table', 'Table')) from metadata...\u001b[0m\n",
      "\u001b[32m2025-Feb-23 13:56:33.37\u001b[0m| \u001b[1mINFO    \u001b[0m | \u001b[36mDuncans-MBP.fritz.box\u001b[0m| \u001b[36msuperduper.base.datalayer\u001b[0m:\u001b[36m405 \u001b[0m | \u001b[1mAdding Table:Table:abc to cache\u001b[0m\n",
      "\u001b[32m2025-Feb-23 13:56:33.40\u001b[0m| \u001b[1mINFO    \u001b[0m | \u001b[36mDuncans-MBP.fritz.box\u001b[0m| \u001b[36msuperduper.base.datalayer\u001b[0m:\u001b[36m387 \u001b[0m | \u001b[1mComponent (Table, Table) not found in cache, loading from db\u001b[0m\n",
      "\u001b[32m2025-Feb-23 13:56:33.40\u001b[0m| \u001b[1mINFO    \u001b[0m | \u001b[36mDuncans-MBP.fritz.box\u001b[0m| \u001b[36msuperduper.base.datalayer\u001b[0m:\u001b[36m393 \u001b[0m | \u001b[1mLoad (('Table', 'Table')) from metadata...\u001b[0m\n",
      "\u001b[32m2025-Feb-23 13:56:33.40\u001b[0m| \u001b[1mINFO    \u001b[0m | \u001b[36mDuncans-MBP.fritz.box\u001b[0m| \u001b[36msuperduper.base.datalayer\u001b[0m:\u001b[36m405 \u001b[0m | \u001b[1mAdding Table:Table:abc to cache\u001b[0m\n",
      "\u001b[32m2025-Feb-23 13:56:33.42\u001b[0m| \u001b[1mINFO    \u001b[0m | \u001b[36mDuncans-MBP.fritz.box\u001b[0m| \u001b[36msuperduper.base.datalayer\u001b[0m:\u001b[36m387 \u001b[0m | \u001b[1mComponent (OpenAIChatCompletion, llm-model) not found in cache, loading from db\u001b[0m\n",
      "\u001b[32m2025-Feb-23 13:56:33.42\u001b[0m| \u001b[1mINFO    \u001b[0m | \u001b[36mDuncans-MBP.fritz.box\u001b[0m| \u001b[36msuperduper.base.datalayer\u001b[0m:\u001b[36m393 \u001b[0m | \u001b[1mLoad (('OpenAIChatCompletion', 'llm-model')) from metadata...\u001b[0m\n",
      "\u001b[32m2025-Feb-23 13:56:33.43\u001b[0m| \u001b[1mINFO    \u001b[0m | \u001b[36mDuncans-MBP.fritz.box\u001b[0m| \u001b[36msuperduper.base.apply\u001b[0m:\u001b[36m369 \u001b[0m | \u001b[1mFound new OpenAIChatCompletion:llm-model:386f104b89ec4ce4\u001b[0m\n",
      "\u001b[32m2025-Feb-23 13:56:33.43\u001b[0m| \u001b[1mINFO    \u001b[0m | \u001b[36mDuncans-MBP.fritz.box\u001b[0m| \u001b[36msuperduper.base.datalayer\u001b[0m:\u001b[36m387 \u001b[0m | \u001b[1mComponent (RAGModel, simple_rag) not found in cache, loading from db\u001b[0m\n",
      "\u001b[32m2025-Feb-23 13:56:33.43\u001b[0m| \u001b[1mINFO    \u001b[0m | \u001b[36mDuncans-MBP.fritz.box\u001b[0m| \u001b[36msuperduper.base.datalayer\u001b[0m:\u001b[36m393 \u001b[0m | \u001b[1mLoad (('RAGModel', 'simple_rag')) from metadata...\u001b[0m\n",
      "\u001b[32m2025-Feb-23 13:56:33.43\u001b[0m| \u001b[1mINFO    \u001b[0m | \u001b[36mDuncans-MBP.fritz.box\u001b[0m| \u001b[36msuperduper.base.apply\u001b[0m:\u001b[36m369 \u001b[0m | \u001b[1mFound new RAGModel:simple_rag:bdb26a3e0a5f489e\u001b[0m\n",
      "\u001b[32m2025-Feb-23 13:56:33.44\u001b[0m| \u001b[1mINFO    \u001b[0m | \u001b[36mDuncans-MBP.fritz.box\u001b[0m| \u001b[36msuperduper.base.datalayer\u001b[0m:\u001b[36m387 \u001b[0m | \u001b[1mComponent (Table, Table) not found in cache, loading from db\u001b[0m\n",
      "\u001b[32m2025-Feb-23 13:56:33.44\u001b[0m| \u001b[1mINFO    \u001b[0m | \u001b[36mDuncans-MBP.fritz.box\u001b[0m| \u001b[36msuperduper.base.datalayer\u001b[0m:\u001b[36m393 \u001b[0m | \u001b[1mLoad (('Table', 'Table')) from metadata...\u001b[0m\n",
      "\u001b[32m2025-Feb-23 13:56:33.44\u001b[0m| \u001b[1mINFO    \u001b[0m | \u001b[36mDuncans-MBP.fritz.box\u001b[0m| \u001b[36msuperduper.base.datalayer\u001b[0m:\u001b[36m405 \u001b[0m | \u001b[1mAdding Table:Table:abc to cache\u001b[0m\n",
      "\u001b[32m2025-Feb-23 13:56:33.46\u001b[0m| \u001b[1mINFO    \u001b[0m | \u001b[36mDuncans-MBP.fritz.box\u001b[0m| \u001b[36msuperduper.base.datalayer\u001b[0m:\u001b[36m387 \u001b[0m | \u001b[1mComponent (Plugin, plugin-rag_plugin_py) not found in cache, loading from db\u001b[0m\n",
      "\u001b[32m2025-Feb-23 13:56:33.46\u001b[0m| \u001b[1mINFO    \u001b[0m | \u001b[36mDuncans-MBP.fritz.box\u001b[0m| \u001b[36msuperduper.base.datalayer\u001b[0m:\u001b[36m393 \u001b[0m | \u001b[1mLoad (('Plugin', 'plugin-rag_plugin_py')) from metadata...\u001b[0m\n",
      "\u001b[32m2025-Feb-23 13:56:33.46\u001b[0m| \u001b[1mINFO    \u001b[0m | \u001b[36mDuncans-MBP.fritz.box\u001b[0m| \u001b[36msuperduper.base.apply\u001b[0m:\u001b[36m369 \u001b[0m | \u001b[1mFound new Plugin:plugin-rag_plugin_py:rag-plugin\u001b[0m\n",
      "\u001b[32m2025-Feb-23 13:56:33.46\u001b[0m| \u001b[1mINFO    \u001b[0m | \u001b[36mDuncans-MBP.fritz.box\u001b[0m| \u001b[36msuperduper.base.artifacts\u001b[0m:\u001b[36m272 \u001b[0m | \u001b[1mCopying file ./rag_plugin.py to ./artifact_store/f74492989c5ac8b5eba5041c05b9927b08d08ffa/rag_plugin.py\u001b[0m\n",
      "\u001b[32m2025-Feb-23 13:56:33.46\u001b[0m| \u001b[1mINFO    \u001b[0m | \u001b[36mDuncans-MBP.fritz.box\u001b[0m| \u001b[36msuperduper.base.datalayer\u001b[0m:\u001b[36m387 \u001b[0m | \u001b[1mComponent (Streamlit, simple-rag-demo) not found in cache, loading from db\u001b[0m\n",
      "\u001b[32m2025-Feb-23 13:56:33.46\u001b[0m| \u001b[1mINFO    \u001b[0m | \u001b[36mDuncans-MBP.fritz.box\u001b[0m| \u001b[36msuperduper.base.datalayer\u001b[0m:\u001b[36m393 \u001b[0m | \u001b[1mLoad (('Streamlit', 'simple-rag-demo')) from metadata...\u001b[0m\n",
      "\u001b[32m2025-Feb-23 13:56:33.47\u001b[0m| \u001b[1mINFO    \u001b[0m | \u001b[36mDuncans-MBP.fritz.box\u001b[0m| \u001b[36msuperduper.base.apply\u001b[0m:\u001b[36m369 \u001b[0m | \u001b[1mFound new Streamlit:simple-rag-demo:e38ad699ef3e41aa\u001b[0m\n",
      "\u001b[32m2025-Feb-23 13:56:33.47\u001b[0m| \u001b[1mINFO    \u001b[0m | \u001b[36mDuncans-MBP.fritz.box\u001b[0m| \u001b[36msuperduper.base.datalayer\u001b[0m:\u001b[36m387 \u001b[0m | \u001b[1mComponent (Application, simple-rag-app) not found in cache, loading from db\u001b[0m\n",
      "\u001b[32m2025-Feb-23 13:56:33.47\u001b[0m| \u001b[1mINFO    \u001b[0m | \u001b[36mDuncans-MBP.fritz.box\u001b[0m| \u001b[36msuperduper.base.datalayer\u001b[0m:\u001b[36m393 \u001b[0m | \u001b[1mLoad (('Application', 'simple-rag-app')) from metadata...\u001b[0m\n",
      "\u001b[32m2025-Feb-23 13:56:33.47\u001b[0m| \u001b[1mINFO    \u001b[0m | \u001b[36mDuncans-MBP.fritz.box\u001b[0m| \u001b[36msuperduper.base.apply\u001b[0m:\u001b[36m369 \u001b[0m | \u001b[1mFound new Application:simple-rag-app:8daf7bc23f9247a9\u001b[0m\n",
      "\u001b[32m2025-Feb-23 13:56:33.47\u001b[0m| \u001b[1mINFO    \u001b[0m | \u001b[36mDuncans-MBP.fritz.box\u001b[0m| \u001b[36msuperduper.base.apply\u001b[0m:\u001b[36m78  \u001b[0m | \u001b[1mFound these changes and/ or additions that need to be made:\u001b[0m\n",
      "\u001b[32m2025-Feb-23 13:56:33.47\u001b[0m| \u001b[1mINFO    \u001b[0m | \u001b[36mDuncans-MBP.fritz.box\u001b[0m| \u001b[36msuperduper.base.apply\u001b[0m:\u001b[36m80  \u001b[0m | \u001b[1m----------------------------------------------------------------------------------------------------\u001b[0m\n",
      "\u001b[32m2025-Feb-23 13:56:33.47\u001b[0m| \u001b[1mINFO    \u001b[0m | \u001b[36mDuncans-MBP.fritz.box\u001b[0m| \u001b[36msuperduper.base.apply\u001b[0m:\u001b[36m81  \u001b[0m | \u001b[1mMETADATA EVENTS:\u001b[0m\n",
      "\u001b[32m2025-Feb-23 13:56:33.47\u001b[0m| \u001b[1mINFO    \u001b[0m | \u001b[36mDuncans-MBP.fritz.box\u001b[0m| \u001b[36msuperduper.base.apply\u001b[0m:\u001b[36m82  \u001b[0m | \u001b[1m----------------------------------------------------------------------------------------------------\u001b[0m\n",
      "\u001b[32m2025-Feb-23 13:56:33.47\u001b[0m| \u001b[1mINFO    \u001b[0m | \u001b[36mDuncans-MBP.fritz.box\u001b[0m| \u001b[36msuperduper.base.apply\u001b[0m:\u001b[36m89  \u001b[0m | \u001b[1m[0]: Plugin:plugin-rag_plugin_py:rag-plugin: create ~ [10]\u001b[0m\n",
      "\u001b[32m2025-Feb-23 13:56:33.47\u001b[0m| \u001b[1mINFO    \u001b[0m | \u001b[36mDuncans-MBP.fritz.box\u001b[0m| \u001b[36msuperduper.base.apply\u001b[0m:\u001b[36m89  \u001b[0m | \u001b[1m[1]: Chunker:chunker:478df10bb9034b65: create ~ [3]\u001b[0m\n",
      "\u001b[32m2025-Feb-23 13:56:33.47\u001b[0m| \u001b[1mINFO    \u001b[0m | \u001b[36mDuncans-MBP.fritz.box\u001b[0m| \u001b[36msuperduper.base.apply\u001b[0m:\u001b[36m89  \u001b[0m | \u001b[1m[2]: Table:_outputs__chunker__b5f5671fbbc34bf9:04e488dab02943ed: create ~ [3]\u001b[0m\n",
      "\u001b[32m2025-Feb-23 13:56:33.47\u001b[0m| \u001b[1mINFO    \u001b[0m | \u001b[36mDuncans-MBP.fritz.box\u001b[0m| \u001b[36msuperduper.base.apply\u001b[0m:\u001b[36m89  \u001b[0m | \u001b[1m[3]: Listener:chunker:b5f5671fbbc34bf9: create ~ [11]\u001b[0m\n",
      "\u001b[32m2025-Feb-23 13:56:33.47\u001b[0m| \u001b[1mINFO    \u001b[0m | \u001b[36mDuncans-MBP.fritz.box\u001b[0m| \u001b[36msuperduper.base.apply\u001b[0m:\u001b[36m89  \u001b[0m | \u001b[1m[4]: OpenAIEmbedding:text-embedding:202c2a23bac74b59: create ~ [6]\u001b[0m\n",
      "\u001b[32m2025-Feb-23 13:56:33.47\u001b[0m| \u001b[1mINFO    \u001b[0m | \u001b[36mDuncans-MBP.fritz.box\u001b[0m| \u001b[36msuperduper.base.apply\u001b[0m:\u001b[36m89  \u001b[0m | \u001b[1m[5]: Table:_outputs__embeddinglistener__53e701637b7346f5:77ad2bbcdb6d4f13: create ~ [6]\u001b[0m\n",
      "\u001b[32m2025-Feb-23 13:56:33.47\u001b[0m| \u001b[1mINFO    \u001b[0m | \u001b[36mDuncans-MBP.fritz.box\u001b[0m| \u001b[36msuperduper.base.apply\u001b[0m:\u001b[36m89  \u001b[0m | \u001b[1m[6]: Listener:embeddinglistener:53e701637b7346f5: create ~ [7]\u001b[0m\n",
      "\u001b[32m2025-Feb-23 13:56:33.47\u001b[0m| \u001b[1mINFO    \u001b[0m | \u001b[36mDuncans-MBP.fritz.box\u001b[0m| \u001b[36msuperduper.base.apply\u001b[0m:\u001b[36m89  \u001b[0m | \u001b[1m[7]: VectorIndex:vectorindex:47ee32f8ee8643ed: create ~ [11]\u001b[0m\n",
      "\u001b[32m2025-Feb-23 13:56:33.47\u001b[0m| \u001b[1mINFO    \u001b[0m | \u001b[36mDuncans-MBP.fritz.box\u001b[0m| \u001b[36msuperduper.base.apply\u001b[0m:\u001b[36m89  \u001b[0m | \u001b[1m[8]: OpenAIChatCompletion:llm-model:386f104b89ec4ce4: create ~ [9]\u001b[0m\n",
      "\u001b[32m2025-Feb-23 13:56:33.47\u001b[0m| \u001b[1mINFO    \u001b[0m | \u001b[36mDuncans-MBP.fritz.box\u001b[0m| \u001b[36msuperduper.base.apply\u001b[0m:\u001b[36m89  \u001b[0m | \u001b[1m[9]: RAGModel:simple_rag:bdb26a3e0a5f489e: create ~ [11]\u001b[0m\n",
      "\u001b[32m2025-Feb-23 13:56:33.47\u001b[0m| \u001b[1mINFO    \u001b[0m | \u001b[36mDuncans-MBP.fritz.box\u001b[0m| \u001b[36msuperduper.base.apply\u001b[0m:\u001b[36m89  \u001b[0m | \u001b[1m[10]: Streamlit:simple-rag-demo:e38ad699ef3e41aa: create ~ [11]\u001b[0m\n",
      "\u001b[32m2025-Feb-23 13:56:33.47\u001b[0m| \u001b[1mINFO    \u001b[0m | \u001b[36mDuncans-MBP.fritz.box\u001b[0m| \u001b[36msuperduper.base.apply\u001b[0m:\u001b[36m93  \u001b[0m | \u001b[1m[11]: Application:simple-rag-app:8daf7bc23f9247a9: create\u001b[0m\n",
      "\u001b[32m2025-Feb-23 13:56:33.47\u001b[0m| \u001b[1mINFO    \u001b[0m | \u001b[36mDuncans-MBP.fritz.box\u001b[0m| \u001b[36msuperduper.base.apply\u001b[0m:\u001b[36m95  \u001b[0m | \u001b[1m----------------------------------------------------------------------------------------------------\u001b[0m\n",
      "\u001b[32m2025-Feb-23 13:56:33.47\u001b[0m| \u001b[1mINFO    \u001b[0m | \u001b[36mDuncans-MBP.fritz.box\u001b[0m| \u001b[36msuperduper.base.apply\u001b[0m:\u001b[36m96  \u001b[0m | \u001b[1mJOBS EVENTS:\u001b[0m\n",
      "\u001b[32m2025-Feb-23 13:56:33.47\u001b[0m| \u001b[1mINFO    \u001b[0m | \u001b[36mDuncans-MBP.fritz.box\u001b[0m| \u001b[36msuperduper.base.apply\u001b[0m:\u001b[36m97  \u001b[0m | \u001b[1m----------------------------------------------------------------------------------------------------\u001b[0m\n",
      "\u001b[32m2025-Feb-23 13:56:33.47\u001b[0m| \u001b[1mINFO    \u001b[0m | \u001b[36mDuncans-MBP.fritz.box\u001b[0m| \u001b[36msuperduper.base.apply\u001b[0m:\u001b[36m110 \u001b[0m | \u001b[1m[0]: Listener:chunker:b5f5671fbbc34bf9.run: run\u001b[0m\n",
      "\u001b[32m2025-Feb-23 13:56:33.47\u001b[0m| \u001b[1mINFO    \u001b[0m | \u001b[36mDuncans-MBP.fritz.box\u001b[0m| \u001b[36msuperduper.base.apply\u001b[0m:\u001b[36m105 \u001b[0m | \u001b[1m[1]: Listener:chunker:b5f5671fbbc34bf9.set_status: set_status ~ [0]\u001b[0m\n",
      "\u001b[32m2025-Feb-23 13:56:33.47\u001b[0m| \u001b[1mINFO    \u001b[0m | \u001b[36mDuncans-MBP.fritz.box\u001b[0m| \u001b[36msuperduper.base.apply\u001b[0m:\u001b[36m105 \u001b[0m | \u001b[1m[2]: Listener:embeddinglistener:53e701637b7346f5.run: run ~ [0,1]\u001b[0m\n",
      "\u001b[32m2025-Feb-23 13:56:33.47\u001b[0m| \u001b[1mINFO    \u001b[0m | \u001b[36mDuncans-MBP.fritz.box\u001b[0m| \u001b[36msuperduper.base.apply\u001b[0m:\u001b[36m105 \u001b[0m | \u001b[1m[3]: Listener:embeddinglistener:53e701637b7346f5.set_status: set_status ~ [2]\u001b[0m\n",
      "\u001b[32m2025-Feb-23 13:56:33.47\u001b[0m| \u001b[1mINFO    \u001b[0m | \u001b[36mDuncans-MBP.fritz.box\u001b[0m| \u001b[36msuperduper.base.apply\u001b[0m:\u001b[36m105 \u001b[0m | \u001b[1m[4]: VectorIndex:vectorindex:47ee32f8ee8643ed.copy_vectors: copy_vectors ~ [2,3]\u001b[0m\n",
      "\u001b[32m2025-Feb-23 13:56:33.47\u001b[0m| \u001b[1mINFO    \u001b[0m | \u001b[36mDuncans-MBP.fritz.box\u001b[0m| \u001b[36msuperduper.base.apply\u001b[0m:\u001b[36m105 \u001b[0m | \u001b[1m[5]: VectorIndex:vectorindex:47ee32f8ee8643ed.set_status: set_status ~ [4]\u001b[0m\n",
      "\u001b[32m2025-Feb-23 13:56:33.47\u001b[0m| \u001b[1mINFO    \u001b[0m | \u001b[36mDuncans-MBP.fritz.box\u001b[0m| \u001b[36msuperduper.base.apply\u001b[0m:\u001b[36m112 \u001b[0m | \u001b[1m----------------------------------------------------------------------------------------------------\u001b[0m\n",
      "\u001b[32m2025-Feb-23 13:56:33.47\u001b[0m| \u001b[1mINFO    \u001b[0m | \u001b[36mDuncans-MBP.fritz.box\u001b[0m| \u001b[36msuperduper.base.datalayer\u001b[0m:\u001b[36m387 \u001b[0m | \u001b[1mComponent (Table, ArtifactRelations) not found in cache, loading from db\u001b[0m\n",
      "\u001b[32m2025-Feb-23 13:56:33.47\u001b[0m| \u001b[1mINFO    \u001b[0m | \u001b[36mDuncans-MBP.fritz.box\u001b[0m| \u001b[36msuperduper.base.datalayer\u001b[0m:\u001b[36m393 \u001b[0m | \u001b[1mLoad (('Table', 'ArtifactRelations')) from metadata...\u001b[0m\n",
      "\u001b[32m2025-Feb-23 13:56:33.48\u001b[0m| \u001b[1mINFO    \u001b[0m | \u001b[36mDuncans-MBP.fritz.box\u001b[0m| \u001b[36msuperduper.base.datalayer\u001b[0m:\u001b[36m405 \u001b[0m | \u001b[1mAdding Table:ArtifactRelations:ghi to cache\u001b[0m\n",
      "\u001b[32m2025-Feb-23 13:56:33.52\u001b[0m| \u001b[1mINFO    \u001b[0m | \u001b[36mDuncans-MBP.fritz.box\u001b[0m| \u001b[36msuperduper.base.datalayer\u001b[0m:\u001b[36m387 \u001b[0m | \u001b[1mComponent (Table, Plugin) not found in cache, loading from db\u001b[0m\n",
      "\u001b[32m2025-Feb-23 13:56:33.52\u001b[0m| \u001b[1mINFO    \u001b[0m | \u001b[36mDuncans-MBP.fritz.box\u001b[0m| \u001b[36msuperduper.base.datalayer\u001b[0m:\u001b[36m393 \u001b[0m | \u001b[1mLoad (('Table', 'Plugin')) from metadata...\u001b[0m\n",
      "\u001b[32m2025-Feb-23 13:56:33.53\u001b[0m| \u001b[1mINFO    \u001b[0m | \u001b[36mDuncans-MBP.fritz.box\u001b[0m| \u001b[36msuperduper.base.datalayer\u001b[0m:\u001b[36m405 \u001b[0m | \u001b[1mAdding Table:Plugin:a8edad9ec8a04569 to cache\u001b[0m\n",
      "\u001b[32m2025-Feb-23 13:56:33.59\u001b[0m| \u001b[1mINFO    \u001b[0m | \u001b[36mDuncans-MBP.fritz.box\u001b[0m| \u001b[36msuperduper.base.datalayer\u001b[0m:\u001b[36m361 \u001b[0m | \u001b[1mComponent rag-plugin not found in cache, loading from db with uuid\u001b[0m\n",
      "\u001b[32m2025-Feb-23 13:56:33.62\u001b[0m| \u001b[1mINFO    \u001b[0m | \u001b[36mDuncans-MBP.fritz.box\u001b[0m| \u001b[36msuperduper.base.datalayer\u001b[0m:\u001b[36m378 \u001b[0m | \u001b[1mAdding Plugin:plugin-rag_plugin_py:rag-plugin to cache\u001b[0m\n",
      "\u001b[32m2025-Feb-23 13:56:33.62\u001b[0m| \u001b[1mINFO    \u001b[0m | \u001b[36mDuncans-MBP.fritz.box\u001b[0m| \u001b[36msuperduper.base.datalayer\u001b[0m:\u001b[36m387 \u001b[0m | \u001b[1mComponent (Table, ParentChildAssociations) not found in cache, loading from db\u001b[0m\n",
      "\u001b[32m2025-Feb-23 13:56:33.62\u001b[0m| \u001b[1mINFO    \u001b[0m | \u001b[36mDuncans-MBP.fritz.box\u001b[0m| \u001b[36msuperduper.base.datalayer\u001b[0m:\u001b[36m393 \u001b[0m | \u001b[1mLoad (('Table', 'ParentChildAssociations')) from metadata...\u001b[0m\n",
      "\u001b[32m2025-Feb-23 13:56:33.62\u001b[0m| \u001b[1mINFO    \u001b[0m | \u001b[36mDuncans-MBP.fritz.box\u001b[0m| \u001b[36msuperduper.base.datalayer\u001b[0m:\u001b[36m405 \u001b[0m | \u001b[1mAdding Table:ParentChildAssociations:def to cache\u001b[0m\n",
      "\u001b[32m2025-Feb-23 13:56:33.66\u001b[0m| \u001b[1mINFO    \u001b[0m | \u001b[36mDuncans-MBP.fritz.box\u001b[0m| \u001b[36msuperduper.components.component\u001b[0m:\u001b[36m504 \u001b[0m | \u001b[1mAdding Plugin:plugin-rag_plugin_py to cache\u001b[0m\n",
      "\u001b[32m2025-Feb-23 13:56:33.66\u001b[0m| \u001b[1mINFO    \u001b[0m | \u001b[36mDuncans-MBP.fritz.box\u001b[0m| \u001b[36msuperduper.base.datalayer\u001b[0m:\u001b[36m387 \u001b[0m | \u001b[1mComponent (Table, Chunker) not found in cache, loading from db\u001b[0m\n",
      "\u001b[32m2025-Feb-23 13:56:33.67\u001b[0m| \u001b[1mINFO    \u001b[0m | \u001b[36mDuncans-MBP.fritz.box\u001b[0m| \u001b[36msuperduper.base.datalayer\u001b[0m:\u001b[36m393 \u001b[0m | \u001b[1mLoad (('Table', 'Chunker')) from metadata...\u001b[0m\n",
      "\u001b[32m2025-Feb-23 13:56:33.67\u001b[0m| \u001b[1mINFO    \u001b[0m | \u001b[36mDuncans-MBP.fritz.box\u001b[0m| \u001b[36msuperduper.base.datalayer\u001b[0m:\u001b[36m405 \u001b[0m | \u001b[1mAdding Table:Chunker:fa7e0999cd32402e to cache\u001b[0m\n",
      "\u001b[32m2025-Feb-23 13:56:33.72\u001b[0m| \u001b[1mINFO    \u001b[0m | \u001b[36mDuncans-MBP.fritz.box\u001b[0m| \u001b[36msuperduper.base.datalayer\u001b[0m:\u001b[36m361 \u001b[0m | \u001b[1mComponent 478df10bb9034b65 not found in cache, loading from db with uuid\u001b[0m\n",
      "\u001b[32m2025-Feb-23 13:56:33.73\u001b[0m| \u001b[1mINFO    \u001b[0m | \u001b[36mDuncans-MBP.fritz.box\u001b[0m| \u001b[36msuperduper.base.datalayer\u001b[0m:\u001b[36m378 \u001b[0m | \u001b[1mAdding Chunker:chunker:478df10bb9034b65 to cache\u001b[0m\n",
      "\u001b[32m2025-Feb-23 13:56:33.73\u001b[0m| \u001b[1mINFO    \u001b[0m | \u001b[36mDuncans-MBP.fritz.box\u001b[0m| \u001b[36msuperduper.base.datalayer\u001b[0m:\u001b[36m387 \u001b[0m | \u001b[1mComponent (Table, ParentChildAssociations) not found in cache, loading from db\u001b[0m\n",
      "\u001b[32m2025-Feb-23 13:56:33.73\u001b[0m| \u001b[1mINFO    \u001b[0m | \u001b[36mDuncans-MBP.fritz.box\u001b[0m| \u001b[36msuperduper.base.datalayer\u001b[0m:\u001b[36m393 \u001b[0m | \u001b[1mLoad (('Table', 'ParentChildAssociations')) from metadata...\u001b[0m\n",
      "\u001b[32m2025-Feb-23 13:56:33.73\u001b[0m| \u001b[1mINFO    \u001b[0m | \u001b[36mDuncans-MBP.fritz.box\u001b[0m| \u001b[36msuperduper.base.datalayer\u001b[0m:\u001b[36m405 \u001b[0m | \u001b[1mAdding Table:ParentChildAssociations:def to cache\u001b[0m\n",
      "\u001b[32m2025-Feb-23 13:56:33.75\u001b[0m| \u001b[1mINFO    \u001b[0m | \u001b[36mDuncans-MBP.fritz.box\u001b[0m| \u001b[36msuperduper.components.component\u001b[0m:\u001b[36m504 \u001b[0m | \u001b[1mAdding Chunker:chunker to cache\u001b[0m\n",
      "\u001b[32m2025-Feb-23 13:56:33.75\u001b[0m| \u001b[1mINFO    \u001b[0m | \u001b[36mDuncans-MBP.fritz.box\u001b[0m| \u001b[36msuperduper.base.datalayer\u001b[0m:\u001b[36m387 \u001b[0m | \u001b[1mComponent (Table, Table) not found in cache, loading from db\u001b[0m\n",
      "\u001b[32m2025-Feb-23 13:56:33.75\u001b[0m| \u001b[1mINFO    \u001b[0m | \u001b[36mDuncans-MBP.fritz.box\u001b[0m| \u001b[36msuperduper.base.datalayer\u001b[0m:\u001b[36m393 \u001b[0m | \u001b[1mLoad (('Table', 'Table')) from metadata...\u001b[0m\n",
      "\u001b[32m2025-Feb-23 13:56:33.76\u001b[0m| \u001b[1mINFO    \u001b[0m | \u001b[36mDuncans-MBP.fritz.box\u001b[0m| \u001b[36msuperduper.base.datalayer\u001b[0m:\u001b[36m405 \u001b[0m | \u001b[1mAdding Table:Table:abc to cache\u001b[0m\n",
      "\u001b[32m2025-Feb-23 13:56:33.77\u001b[0m| \u001b[1mINFO    \u001b[0m | \u001b[36mDuncans-MBP.fritz.box\u001b[0m| \u001b[36msuperduper.base.datalayer\u001b[0m:\u001b[36m361 \u001b[0m | \u001b[1mComponent 04e488dab02943ed not found in cache, loading from db with uuid\u001b[0m\n",
      "\u001b[32m2025-Feb-23 13:56:33.78\u001b[0m| \u001b[1mINFO    \u001b[0m | \u001b[36mDuncans-MBP.fritz.box\u001b[0m| \u001b[36msuperduper.base.datalayer\u001b[0m:\u001b[36m378 \u001b[0m | \u001b[1mAdding Table:_outputs__chunker__b5f5671fbbc34bf9:04e488dab02943ed to cache\u001b[0m\n",
      "\u001b[32m2025-Feb-23 13:56:33.78\u001b[0m| \u001b[1mINFO    \u001b[0m | \u001b[36mDuncans-MBP.fritz.box\u001b[0m| \u001b[36msuperduper.base.datalayer\u001b[0m:\u001b[36m387 \u001b[0m | \u001b[1mComponent (Table, ParentChildAssociations) not found in cache, loading from db\u001b[0m\n",
      "\u001b[32m2025-Feb-23 13:56:33.78\u001b[0m| \u001b[1mINFO    \u001b[0m | \u001b[36mDuncans-MBP.fritz.box\u001b[0m| \u001b[36msuperduper.base.datalayer\u001b[0m:\u001b[36m393 \u001b[0m | \u001b[1mLoad (('Table', 'ParentChildAssociations')) from metadata...\u001b[0m\n",
      "\u001b[32m2025-Feb-23 13:56:33.78\u001b[0m| \u001b[1mINFO    \u001b[0m | \u001b[36mDuncans-MBP.fritz.box\u001b[0m| \u001b[36msuperduper.base.datalayer\u001b[0m:\u001b[36m405 \u001b[0m | \u001b[1mAdding Table:ParentChildAssociations:def to cache\u001b[0m\n",
      "\u001b[32m2025-Feb-23 13:56:33.81\u001b[0m| \u001b[1mINFO    \u001b[0m | \u001b[36mDuncans-MBP.fritz.box\u001b[0m| \u001b[36msuperduper.base.datalayer\u001b[0m:\u001b[36m387 \u001b[0m | \u001b[1mComponent (Table, Listener) not found in cache, loading from db\u001b[0m\n",
      "\u001b[32m2025-Feb-23 13:56:33.81\u001b[0m| \u001b[1mINFO    \u001b[0m | \u001b[36mDuncans-MBP.fritz.box\u001b[0m| \u001b[36msuperduper.base.datalayer\u001b[0m:\u001b[36m393 \u001b[0m | \u001b[1mLoad (('Table', 'Listener')) from metadata...\u001b[0m\n",
      "\u001b[32m2025-Feb-23 13:56:33.82\u001b[0m| \u001b[1mINFO    \u001b[0m | \u001b[36mDuncans-MBP.fritz.box\u001b[0m| \u001b[36msuperduper.base.datalayer\u001b[0m:\u001b[36m405 \u001b[0m | \u001b[1mAdding Table:Listener:27375d3fb2e14455 to cache\u001b[0m\n",
      "\u001b[32m2025-Feb-23 13:56:33.87\u001b[0m| \u001b[1mINFO    \u001b[0m | \u001b[36mDuncans-MBP.fritz.box\u001b[0m| \u001b[36msuperduper.base.datalayer\u001b[0m:\u001b[36m361 \u001b[0m | \u001b[1mComponent b5f5671fbbc34bf9 not found in cache, loading from db with uuid\u001b[0m\n",
      "\u001b[32m2025-Feb-23 13:56:33.89\u001b[0m| \u001b[1mINFO    \u001b[0m | \u001b[36mDuncans-MBP.fritz.box\u001b[0m| \u001b[36msuperduper.base.datalayer\u001b[0m:\u001b[36m378 \u001b[0m | \u001b[1mAdding Listener:chunker:b5f5671fbbc34bf9 to cache\u001b[0m\n",
      "\u001b[32m2025-Feb-23 13:56:33.89\u001b[0m| \u001b[1mINFO    \u001b[0m | \u001b[36mDuncans-MBP.fritz.box\u001b[0m| \u001b[36msuperduper.base.datalayer\u001b[0m:\u001b[36m387 \u001b[0m | \u001b[1mComponent (Table, ParentChildAssociations) not found in cache, loading from db\u001b[0m\n",
      "\u001b[32m2025-Feb-23 13:56:33.89\u001b[0m| \u001b[1mINFO    \u001b[0m | \u001b[36mDuncans-MBP.fritz.box\u001b[0m| \u001b[36msuperduper.base.datalayer\u001b[0m:\u001b[36m393 \u001b[0m | \u001b[1mLoad (('Table', 'ParentChildAssociations')) from metadata...\u001b[0m\n",
      "\u001b[32m2025-Feb-23 13:56:33.89\u001b[0m| \u001b[1mINFO    \u001b[0m | \u001b[36mDuncans-MBP.fritz.box\u001b[0m| \u001b[36msuperduper.base.datalayer\u001b[0m:\u001b[36m405 \u001b[0m | \u001b[1mAdding Table:ParentChildAssociations:def to cache\u001b[0m\n",
      "\u001b[32m2025-Feb-23 13:56:33.92\u001b[0m| \u001b[1mINFO    \u001b[0m | \u001b[36mDuncans-MBP.fritz.box\u001b[0m| \u001b[36msuperduper.components.component\u001b[0m:\u001b[36m504 \u001b[0m | \u001b[1mAdding Listener:chunker to cache\u001b[0m\n",
      "\u001b[32m2025-Feb-23 13:56:33.92\u001b[0m| \u001b[1mINFO    \u001b[0m | \u001b[36mDuncans-MBP.fritz.box\u001b[0m| \u001b[36msuperduper.base.datalayer\u001b[0m:\u001b[36m387 \u001b[0m | \u001b[1mComponent (Table, OpenAIEmbedding) not found in cache, loading from db\u001b[0m\n",
      "\u001b[32m2025-Feb-23 13:56:33.92\u001b[0m| \u001b[1mINFO    \u001b[0m | \u001b[36mDuncans-MBP.fritz.box\u001b[0m| \u001b[36msuperduper.base.datalayer\u001b[0m:\u001b[36m393 \u001b[0m | \u001b[1mLoad (('Table', 'OpenAIEmbedding')) from metadata...\u001b[0m\n",
      "\u001b[32m2025-Feb-23 13:56:33.93\u001b[0m| \u001b[1mINFO    \u001b[0m | \u001b[36mDuncans-MBP.fritz.box\u001b[0m| \u001b[36msuperduper.base.datalayer\u001b[0m:\u001b[36m405 \u001b[0m | \u001b[1mAdding Table:OpenAIEmbedding:fc1f3db292d848c3 to cache\u001b[0m\n",
      "\u001b[32m2025-Feb-23 13:56:33.98\u001b[0m| \u001b[1mINFO    \u001b[0m | \u001b[36mDuncans-MBP.fritz.box\u001b[0m| \u001b[36msuperduper.base.datalayer\u001b[0m:\u001b[36m361 \u001b[0m | \u001b[1mComponent 202c2a23bac74b59 not found in cache, loading from db with uuid\u001b[0m\n",
      "\u001b[32m2025-Feb-23 13:56:33.99\u001b[0m| \u001b[1mINFO    \u001b[0m | \u001b[36mDuncans-MBP.fritz.box\u001b[0m| \u001b[36msuperduper.base.datalayer\u001b[0m:\u001b[36m378 \u001b[0m | \u001b[1mAdding OpenAIEmbedding:text-embedding:202c2a23bac74b59 to cache\u001b[0m\n",
      "\u001b[32m2025-Feb-23 13:56:33.99\u001b[0m| \u001b[1mINFO    \u001b[0m | \u001b[36mDuncans-MBP.fritz.box\u001b[0m| \u001b[36msuperduper.base.datalayer\u001b[0m:\u001b[36m387 \u001b[0m | \u001b[1mComponent (Table, ParentChildAssociations) not found in cache, loading from db\u001b[0m\n",
      "\u001b[32m2025-Feb-23 13:56:33.99\u001b[0m| \u001b[1mINFO    \u001b[0m | \u001b[36mDuncans-MBP.fritz.box\u001b[0m| \u001b[36msuperduper.base.datalayer\u001b[0m:\u001b[36m393 \u001b[0m | \u001b[1mLoad (('Table', 'ParentChildAssociations')) from metadata...\u001b[0m\n",
      "\u001b[32m2025-Feb-23 13:56:34.00\u001b[0m| \u001b[1mINFO    \u001b[0m | \u001b[36mDuncans-MBP.fritz.box\u001b[0m| \u001b[36msuperduper.base.datalayer\u001b[0m:\u001b[36m405 \u001b[0m | \u001b[1mAdding Table:ParentChildAssociations:def to cache\u001b[0m\n",
      "\u001b[32m2025-Feb-23 13:56:34.01\u001b[0m| \u001b[1mINFO    \u001b[0m | \u001b[36mDuncans-MBP.fritz.box\u001b[0m| \u001b[36msuperduper.components.component\u001b[0m:\u001b[36m504 \u001b[0m | \u001b[1mAdding OpenAIEmbedding:text-embedding to cache\u001b[0m\n",
      "\u001b[32m2025-Feb-23 13:56:34.02\u001b[0m| \u001b[1mINFO    \u001b[0m | \u001b[36mDuncans-MBP.fritz.box\u001b[0m| \u001b[36msuperduper.base.datalayer\u001b[0m:\u001b[36m387 \u001b[0m | \u001b[1mComponent (Table, Table) not found in cache, loading from db\u001b[0m\n",
      "\u001b[32m2025-Feb-23 13:56:34.02\u001b[0m| \u001b[1mINFO    \u001b[0m | \u001b[36mDuncans-MBP.fritz.box\u001b[0m| \u001b[36msuperduper.base.datalayer\u001b[0m:\u001b[36m393 \u001b[0m | \u001b[1mLoad (('Table', 'Table')) from metadata...\u001b[0m\n",
      "\u001b[32m2025-Feb-23 13:56:34.02\u001b[0m| \u001b[1mINFO    \u001b[0m | \u001b[36mDuncans-MBP.fritz.box\u001b[0m| \u001b[36msuperduper.base.datalayer\u001b[0m:\u001b[36m405 \u001b[0m | \u001b[1mAdding Table:Table:abc to cache\u001b[0m\n",
      "\u001b[32m2025-Feb-23 13:56:34.04\u001b[0m| \u001b[1mINFO    \u001b[0m | \u001b[36mDuncans-MBP.fritz.box\u001b[0m| \u001b[36msuperduper.base.datalayer\u001b[0m:\u001b[36m361 \u001b[0m | \u001b[1mComponent 77ad2bbcdb6d4f13 not found in cache, loading from db with uuid\u001b[0m\n",
      "\u001b[32m2025-Feb-23 13:56:34.05\u001b[0m| \u001b[1mINFO    \u001b[0m | \u001b[36mDuncans-MBP.fritz.box\u001b[0m| \u001b[36msuperduper.base.datalayer\u001b[0m:\u001b[36m378 \u001b[0m | \u001b[1mAdding Table:_outputs__embeddinglistener__53e701637b7346f5:77ad2bbcdb6d4f13 to cache\u001b[0m\n",
      "\u001b[32m2025-Feb-23 13:56:34.05\u001b[0m| \u001b[1mINFO    \u001b[0m | \u001b[36mDuncans-MBP.fritz.box\u001b[0m| \u001b[36msuperduper.base.datalayer\u001b[0m:\u001b[36m387 \u001b[0m | \u001b[1mComponent (Table, ParentChildAssociations) not found in cache, loading from db\u001b[0m\n",
      "\u001b[32m2025-Feb-23 13:56:34.05\u001b[0m| \u001b[1mINFO    \u001b[0m | \u001b[36mDuncans-MBP.fritz.box\u001b[0m| \u001b[36msuperduper.base.datalayer\u001b[0m:\u001b[36m393 \u001b[0m | \u001b[1mLoad (('Table', 'ParentChildAssociations')) from metadata...\u001b[0m\n",
      "\u001b[32m2025-Feb-23 13:56:34.05\u001b[0m| \u001b[1mINFO    \u001b[0m | \u001b[36mDuncans-MBP.fritz.box\u001b[0m| \u001b[36msuperduper.base.datalayer\u001b[0m:\u001b[36m405 \u001b[0m | \u001b[1mAdding Table:ParentChildAssociations:def to cache\u001b[0m\n",
      "\u001b[32m2025-Feb-23 13:56:34.07\u001b[0m| \u001b[1mINFO    \u001b[0m | \u001b[36mDuncans-MBP.fritz.box\u001b[0m| \u001b[36msuperduper.base.datalayer\u001b[0m:\u001b[36m387 \u001b[0m | \u001b[1mComponent (Table, Listener) not found in cache, loading from db\u001b[0m\n",
      "\u001b[32m2025-Feb-23 13:56:34.07\u001b[0m| \u001b[1mINFO    \u001b[0m | \u001b[36mDuncans-MBP.fritz.box\u001b[0m| \u001b[36msuperduper.base.datalayer\u001b[0m:\u001b[36m393 \u001b[0m | \u001b[1mLoad (('Table', 'Listener')) from metadata...\u001b[0m\n",
      "\u001b[32m2025-Feb-23 13:56:34.07\u001b[0m| \u001b[1mINFO    \u001b[0m | \u001b[36mDuncans-MBP.fritz.box\u001b[0m| \u001b[36msuperduper.base.datalayer\u001b[0m:\u001b[36m405 \u001b[0m | \u001b[1mAdding Table:Listener:27375d3fb2e14455 to cache\u001b[0m\n",
      "\u001b[32m2025-Feb-23 13:56:34.09\u001b[0m| \u001b[1mINFO    \u001b[0m | \u001b[36mDuncans-MBP.fritz.box\u001b[0m| \u001b[36msuperduper.base.datalayer\u001b[0m:\u001b[36m361 \u001b[0m | \u001b[1mComponent 53e701637b7346f5 not found in cache, loading from db with uuid\u001b[0m\n",
      "\u001b[32m2025-Feb-23 13:56:34.10\u001b[0m| \u001b[1mINFO    \u001b[0m | \u001b[36mDuncans-MBP.fritz.box\u001b[0m| \u001b[36msuperduper.base.datalayer\u001b[0m:\u001b[36m378 \u001b[0m | \u001b[1mAdding Listener:embeddinglistener:53e701637b7346f5 to cache\u001b[0m\n",
      "\u001b[32m2025-Feb-23 13:56:34.10\u001b[0m| \u001b[1mINFO    \u001b[0m | \u001b[36mDuncans-MBP.fritz.box\u001b[0m| \u001b[36msuperduper.base.datalayer\u001b[0m:\u001b[36m387 \u001b[0m | \u001b[1mComponent (Table, ParentChildAssociations) not found in cache, loading from db\u001b[0m\n",
      "\u001b[32m2025-Feb-23 13:56:34.10\u001b[0m| \u001b[1mINFO    \u001b[0m | \u001b[36mDuncans-MBP.fritz.box\u001b[0m| \u001b[36msuperduper.base.datalayer\u001b[0m:\u001b[36m393 \u001b[0m | \u001b[1mLoad (('Table', 'ParentChildAssociations')) from metadata...\u001b[0m\n",
      "\u001b[32m2025-Feb-23 13:56:34.10\u001b[0m| \u001b[1mINFO    \u001b[0m | \u001b[36mDuncans-MBP.fritz.box\u001b[0m| \u001b[36msuperduper.base.datalayer\u001b[0m:\u001b[36m405 \u001b[0m | \u001b[1mAdding Table:ParentChildAssociations:def to cache\u001b[0m\n",
      "\u001b[32m2025-Feb-23 13:56:34.12\u001b[0m| \u001b[1mINFO    \u001b[0m | \u001b[36mDuncans-MBP.fritz.box\u001b[0m| \u001b[36msuperduper.base.datalayer\u001b[0m:\u001b[36m387 \u001b[0m | \u001b[1mComponent (Table, ParentChildAssociations) not found in cache, loading from db\u001b[0m\n",
      "\u001b[32m2025-Feb-23 13:56:34.12\u001b[0m| \u001b[1mINFO    \u001b[0m | \u001b[36mDuncans-MBP.fritz.box\u001b[0m| \u001b[36msuperduper.base.datalayer\u001b[0m:\u001b[36m393 \u001b[0m | \u001b[1mLoad (('Table', 'ParentChildAssociations')) from metadata...\u001b[0m\n",
      "\u001b[32m2025-Feb-23 13:56:34.12\u001b[0m| \u001b[1mINFO    \u001b[0m | \u001b[36mDuncans-MBP.fritz.box\u001b[0m| \u001b[36msuperduper.base.datalayer\u001b[0m:\u001b[36m405 \u001b[0m | \u001b[1mAdding Table:ParentChildAssociations:def to cache\u001b[0m\n",
      "\u001b[32m2025-Feb-23 13:56:34.14\u001b[0m| \u001b[1mINFO    \u001b[0m | \u001b[36mDuncans-MBP.fritz.box\u001b[0m| \u001b[36msuperduper.components.component\u001b[0m:\u001b[36m504 \u001b[0m | \u001b[1mAdding Listener:embeddinglistener to cache\u001b[0m\n",
      "\u001b[32m2025-Feb-23 13:56:34.14\u001b[0m| \u001b[1mINFO    \u001b[0m | \u001b[36mDuncans-MBP.fritz.box\u001b[0m| \u001b[36msuperduper.base.datalayer\u001b[0m:\u001b[36m387 \u001b[0m | \u001b[1mComponent (Table, VectorIndex) not found in cache, loading from db\u001b[0m\n",
      "\u001b[32m2025-Feb-23 13:56:34.14\u001b[0m| \u001b[1mINFO    \u001b[0m | \u001b[36mDuncans-MBP.fritz.box\u001b[0m| \u001b[36msuperduper.base.datalayer\u001b[0m:\u001b[36m393 \u001b[0m | \u001b[1mLoad (('Table', 'VectorIndex')) from metadata...\u001b[0m\n",
      "\u001b[32m2025-Feb-23 13:56:34.14\u001b[0m| \u001b[1mINFO    \u001b[0m | \u001b[36mDuncans-MBP.fritz.box\u001b[0m| \u001b[36msuperduper.base.datalayer\u001b[0m:\u001b[36m405 \u001b[0m | \u001b[1mAdding Table:VectorIndex:415a0ae425944d4e to cache\u001b[0m\n",
      "\u001b[32m2025-Feb-23 13:56:34.18\u001b[0m| \u001b[1mINFO    \u001b[0m | \u001b[36mDuncans-MBP.fritz.box\u001b[0m| \u001b[36msuperduper.base.datalayer\u001b[0m:\u001b[36m361 \u001b[0m | \u001b[1mComponent 47ee32f8ee8643ed not found in cache, loading from db with uuid\u001b[0m\n",
      "\u001b[32m2025-Feb-23 13:56:34.19\u001b[0m| \u001b[1mINFO    \u001b[0m | \u001b[36mDuncans-MBP.fritz.box\u001b[0m| \u001b[36msuperduper.base.datalayer\u001b[0m:\u001b[36m378 \u001b[0m | \u001b[1mAdding VectorIndex:vectorindex:47ee32f8ee8643ed to cache\u001b[0m\n",
      "\u001b[32m2025-Feb-23 13:56:34.19\u001b[0m| \u001b[1mINFO    \u001b[0m | \u001b[36mDuncans-MBP.fritz.box\u001b[0m| \u001b[36msuperduper.base.datalayer\u001b[0m:\u001b[36m387 \u001b[0m | \u001b[1mComponent (Table, ParentChildAssociations) not found in cache, loading from db\u001b[0m\n",
      "\u001b[32m2025-Feb-23 13:56:34.19\u001b[0m| \u001b[1mINFO    \u001b[0m | \u001b[36mDuncans-MBP.fritz.box\u001b[0m| \u001b[36msuperduper.base.datalayer\u001b[0m:\u001b[36m393 \u001b[0m | \u001b[1mLoad (('Table', 'ParentChildAssociations')) from metadata...\u001b[0m\n",
      "\u001b[32m2025-Feb-23 13:56:34.19\u001b[0m| \u001b[1mINFO    \u001b[0m | \u001b[36mDuncans-MBP.fritz.box\u001b[0m| \u001b[36msuperduper.base.datalayer\u001b[0m:\u001b[36m405 \u001b[0m | \u001b[1mAdding Table:ParentChildAssociations:def to cache\u001b[0m\n",
      "\u001b[32m2025-Feb-23 13:56:34.21\u001b[0m| \u001b[1mINFO    \u001b[0m | \u001b[36mDuncans-MBP.fritz.box\u001b[0m| \u001b[36msuperduper.base.datalayer\u001b[0m:\u001b[36m387 \u001b[0m | \u001b[1mComponent (Table, ParentChildAssociations) not found in cache, loading from db\u001b[0m\n",
      "\u001b[32m2025-Feb-23 13:56:34.21\u001b[0m| \u001b[1mINFO    \u001b[0m | \u001b[36mDuncans-MBP.fritz.box\u001b[0m| \u001b[36msuperduper.base.datalayer\u001b[0m:\u001b[36m393 \u001b[0m | \u001b[1mLoad (('Table', 'ParentChildAssociations')) from metadata...\u001b[0m\n",
      "\u001b[32m2025-Feb-23 13:56:34.21\u001b[0m| \u001b[1mINFO    \u001b[0m | \u001b[36mDuncans-MBP.fritz.box\u001b[0m| \u001b[36msuperduper.base.datalayer\u001b[0m:\u001b[36m405 \u001b[0m | \u001b[1mAdding Table:ParentChildAssociations:def to cache\u001b[0m\n",
      "\u001b[32m2025-Feb-23 13:56:34.22\u001b[0m| \u001b[1mINFO    \u001b[0m | \u001b[36mDuncans-MBP.fritz.box\u001b[0m| \u001b[36msuperduper.components.component\u001b[0m:\u001b[36m504 \u001b[0m | \u001b[1mAdding VectorIndex:vectorindex to cache\u001b[0m\n",
      "\u001b[32m2025-Feb-23 13:56:34.23\u001b[0m| \u001b[1mINFO    \u001b[0m | \u001b[36mDuncans-MBP.fritz.box\u001b[0m| \u001b[36msuperduper.base.datalayer\u001b[0m:\u001b[36m387 \u001b[0m | \u001b[1mComponent (Table, OpenAIChatCompletion) not found in cache, loading from db\u001b[0m\n",
      "\u001b[32m2025-Feb-23 13:56:34.23\u001b[0m| \u001b[1mINFO    \u001b[0m | \u001b[36mDuncans-MBP.fritz.box\u001b[0m| \u001b[36msuperduper.base.datalayer\u001b[0m:\u001b[36m393 \u001b[0m | \u001b[1mLoad (('Table', 'OpenAIChatCompletion')) from metadata...\u001b[0m\n",
      "\u001b[32m2025-Feb-23 13:56:34.23\u001b[0m| \u001b[1mINFO    \u001b[0m | \u001b[36mDuncans-MBP.fritz.box\u001b[0m| \u001b[36msuperduper.base.datalayer\u001b[0m:\u001b[36m405 \u001b[0m | \u001b[1mAdding Table:OpenAIChatCompletion:aeb279a8d0e8436b to cache\u001b[0m\n",
      "\u001b[32m2025-Feb-23 13:56:34.27\u001b[0m| \u001b[1mINFO    \u001b[0m | \u001b[36mDuncans-MBP.fritz.box\u001b[0m| \u001b[36msuperduper.base.datalayer\u001b[0m:\u001b[36m361 \u001b[0m | \u001b[1mComponent 386f104b89ec4ce4 not found in cache, loading from db with uuid\u001b[0m\n",
      "\u001b[32m2025-Feb-23 13:56:34.28\u001b[0m| \u001b[1mINFO    \u001b[0m | \u001b[36mDuncans-MBP.fritz.box\u001b[0m| \u001b[36msuperduper.base.datalayer\u001b[0m:\u001b[36m378 \u001b[0m | \u001b[1mAdding OpenAIChatCompletion:llm-model:386f104b89ec4ce4 to cache\u001b[0m\n",
      "\u001b[32m2025-Feb-23 13:56:34.28\u001b[0m| \u001b[1mINFO    \u001b[0m | \u001b[36mDuncans-MBP.fritz.box\u001b[0m| \u001b[36msuperduper.base.datalayer\u001b[0m:\u001b[36m387 \u001b[0m | \u001b[1mComponent (Table, ParentChildAssociations) not found in cache, loading from db\u001b[0m\n",
      "\u001b[32m2025-Feb-23 13:56:34.28\u001b[0m| \u001b[1mINFO    \u001b[0m | \u001b[36mDuncans-MBP.fritz.box\u001b[0m| \u001b[36msuperduper.base.datalayer\u001b[0m:\u001b[36m393 \u001b[0m | \u001b[1mLoad (('Table', 'ParentChildAssociations')) from metadata...\u001b[0m\n",
      "\u001b[32m2025-Feb-23 13:56:34.28\u001b[0m| \u001b[1mINFO    \u001b[0m | \u001b[36mDuncans-MBP.fritz.box\u001b[0m| \u001b[36msuperduper.base.datalayer\u001b[0m:\u001b[36m405 \u001b[0m | \u001b[1mAdding Table:ParentChildAssociations:def to cache\u001b[0m\n",
      "\u001b[32m2025-Feb-23 13:56:34.30\u001b[0m| \u001b[1mINFO    \u001b[0m | \u001b[36mDuncans-MBP.fritz.box\u001b[0m| \u001b[36msuperduper.components.component\u001b[0m:\u001b[36m504 \u001b[0m | \u001b[1mAdding OpenAIChatCompletion:llm-model to cache\u001b[0m\n",
      "\u001b[32m2025-Feb-23 13:56:34.30\u001b[0m| \u001b[1mINFO    \u001b[0m | \u001b[36mDuncans-MBP.fritz.box\u001b[0m| \u001b[36msuperduper.base.datalayer\u001b[0m:\u001b[36m387 \u001b[0m | \u001b[1mComponent (Table, RAGModel) not found in cache, loading from db\u001b[0m\n",
      "\u001b[32m2025-Feb-23 13:56:34.30\u001b[0m| \u001b[1mINFO    \u001b[0m | \u001b[36mDuncans-MBP.fritz.box\u001b[0m| \u001b[36msuperduper.base.datalayer\u001b[0m:\u001b[36m393 \u001b[0m | \u001b[1mLoad (('Table', 'RAGModel')) from metadata...\u001b[0m\n",
      "\u001b[32m2025-Feb-23 13:56:34.31\u001b[0m| \u001b[1mINFO    \u001b[0m | \u001b[36mDuncans-MBP.fritz.box\u001b[0m| \u001b[36msuperduper.base.datalayer\u001b[0m:\u001b[36m405 \u001b[0m | \u001b[1mAdding Table:RAGModel:ef3906759c934b58 to cache\u001b[0m\n",
      "\u001b[32m2025-Feb-23 13:56:34.35\u001b[0m| \u001b[1mINFO    \u001b[0m | \u001b[36mDuncans-MBP.fritz.box\u001b[0m| \u001b[36msuperduper.base.datalayer\u001b[0m:\u001b[36m361 \u001b[0m | \u001b[1mComponent bdb26a3e0a5f489e not found in cache, loading from db with uuid\u001b[0m\n",
      "\u001b[32m2025-Feb-23 13:56:34.35\u001b[0m| \u001b[1mINFO    \u001b[0m | \u001b[36mDuncans-MBP.fritz.box\u001b[0m| \u001b[36msuperduper.base.datalayer\u001b[0m:\u001b[36m378 \u001b[0m | \u001b[1mAdding RAGModel:simple_rag:bdb26a3e0a5f489e to cache\u001b[0m\n",
      "\u001b[32m2025-Feb-23 13:56:34.36\u001b[0m| \u001b[1mINFO    \u001b[0m | \u001b[36mDuncans-MBP.fritz.box\u001b[0m| \u001b[36msuperduper.base.datalayer\u001b[0m:\u001b[36m387 \u001b[0m | \u001b[1mComponent (Table, ParentChildAssociations) not found in cache, loading from db\u001b[0m\n",
      "\u001b[32m2025-Feb-23 13:56:34.36\u001b[0m| \u001b[1mINFO    \u001b[0m | \u001b[36mDuncans-MBP.fritz.box\u001b[0m| \u001b[36msuperduper.base.datalayer\u001b[0m:\u001b[36m393 \u001b[0m | \u001b[1mLoad (('Table', 'ParentChildAssociations')) from metadata...\u001b[0m\n",
      "\u001b[32m2025-Feb-23 13:56:34.36\u001b[0m| \u001b[1mINFO    \u001b[0m | \u001b[36mDuncans-MBP.fritz.box\u001b[0m| \u001b[36msuperduper.base.datalayer\u001b[0m:\u001b[36m405 \u001b[0m | \u001b[1mAdding Table:ParentChildAssociations:def to cache\u001b[0m\n",
      "\u001b[32m2025-Feb-23 13:56:34.38\u001b[0m| \u001b[1mINFO    \u001b[0m | \u001b[36mDuncans-MBP.fritz.box\u001b[0m| \u001b[36msuperduper.components.component\u001b[0m:\u001b[36m504 \u001b[0m | \u001b[1mAdding RAGModel:simple_rag to cache\u001b[0m\n",
      "\u001b[32m2025-Feb-23 13:56:34.38\u001b[0m| \u001b[1mINFO    \u001b[0m | \u001b[36mDuncans-MBP.fritz.box\u001b[0m| \u001b[36msuperduper.base.datalayer\u001b[0m:\u001b[36m387 \u001b[0m | \u001b[1mComponent (Table, ArtifactRelations) not found in cache, loading from db\u001b[0m\n",
      "\u001b[32m2025-Feb-23 13:56:34.38\u001b[0m| \u001b[1mINFO    \u001b[0m | \u001b[36mDuncans-MBP.fritz.box\u001b[0m| \u001b[36msuperduper.base.datalayer\u001b[0m:\u001b[36m393 \u001b[0m | \u001b[1mLoad (('Table', 'ArtifactRelations')) from metadata...\u001b[0m\n",
      "\u001b[32m2025-Feb-23 13:56:34.38\u001b[0m| \u001b[1mINFO    \u001b[0m | \u001b[36mDuncans-MBP.fritz.box\u001b[0m| \u001b[36msuperduper.base.datalayer\u001b[0m:\u001b[36m405 \u001b[0m | \u001b[1mAdding Table:ArtifactRelations:ghi to cache\u001b[0m\n",
      "\u001b[32m2025-Feb-23 13:56:34.40\u001b[0m| \u001b[1mINFO    \u001b[0m | \u001b[36mDuncans-MBP.fritz.box\u001b[0m| \u001b[36msuperduper.base.datalayer\u001b[0m:\u001b[36m387 \u001b[0m | \u001b[1mComponent (Table, Streamlit) not found in cache, loading from db\u001b[0m\n",
      "\u001b[32m2025-Feb-23 13:56:34.40\u001b[0m| \u001b[1mINFO    \u001b[0m | \u001b[36mDuncans-MBP.fritz.box\u001b[0m| \u001b[36msuperduper.base.datalayer\u001b[0m:\u001b[36m393 \u001b[0m | \u001b[1mLoad (('Table', 'Streamlit')) from metadata...\u001b[0m\n",
      "\u001b[32m2025-Feb-23 13:56:34.40\u001b[0m| \u001b[1mINFO    \u001b[0m | \u001b[36mDuncans-MBP.fritz.box\u001b[0m| \u001b[36msuperduper.base.datalayer\u001b[0m:\u001b[36m405 \u001b[0m | \u001b[1mAdding Table:Streamlit:0e34e2eabe764a69 to cache\u001b[0m\n",
      "\u001b[32m2025-Feb-23 13:56:34.44\u001b[0m| \u001b[1mINFO    \u001b[0m | \u001b[36mDuncans-MBP.fritz.box\u001b[0m| \u001b[36msuperduper.base.datalayer\u001b[0m:\u001b[36m361 \u001b[0m | \u001b[1mComponent e38ad699ef3e41aa not found in cache, loading from db with uuid\u001b[0m\n",
      "\u001b[32m2025-Feb-23 13:56:34.45\u001b[0m| \u001b[1mINFO    \u001b[0m | \u001b[36mDuncans-MBP.fritz.box\u001b[0m| \u001b[36msuperduper.base.datalayer\u001b[0m:\u001b[36m378 \u001b[0m | \u001b[1mAdding Streamlit:simple-rag-demo:e38ad699ef3e41aa to cache\u001b[0m\n",
      "\u001b[32m2025-Feb-23 13:56:34.45\u001b[0m| \u001b[1mINFO    \u001b[0m | \u001b[36mDuncans-MBP.fritz.box\u001b[0m| \u001b[36msuperduper.base.datalayer\u001b[0m:\u001b[36m387 \u001b[0m | \u001b[1mComponent (Table, ParentChildAssociations) not found in cache, loading from db\u001b[0m\n",
      "\u001b[32m2025-Feb-23 13:56:34.45\u001b[0m| \u001b[1mINFO    \u001b[0m | \u001b[36mDuncans-MBP.fritz.box\u001b[0m| \u001b[36msuperduper.base.datalayer\u001b[0m:\u001b[36m393 \u001b[0m | \u001b[1mLoad (('Table', 'ParentChildAssociations')) from metadata...\u001b[0m\n",
      "\u001b[32m2025-Feb-23 13:56:34.46\u001b[0m| \u001b[1mINFO    \u001b[0m | \u001b[36mDuncans-MBP.fritz.box\u001b[0m| \u001b[36msuperduper.base.datalayer\u001b[0m:\u001b[36m405 \u001b[0m | \u001b[1mAdding Table:ParentChildAssociations:def to cache\u001b[0m\n",
      "\u001b[32m2025-Feb-23 13:56:34.47\u001b[0m| \u001b[1mINFO    \u001b[0m | \u001b[36mDuncans-MBP.fritz.box\u001b[0m| \u001b[36msuperduper.components.component\u001b[0m:\u001b[36m504 \u001b[0m | \u001b[1mAdding Streamlit:simple-rag-demo to cache\u001b[0m\n",
      "\u001b[32m2025-Feb-23 13:56:34.48\u001b[0m| \u001b[1mINFO    \u001b[0m | \u001b[36mDuncans-MBP.fritz.box\u001b[0m| \u001b[36msuperduper.base.datalayer\u001b[0m:\u001b[36m387 \u001b[0m | \u001b[1mComponent (Table, Application) not found in cache, loading from db\u001b[0m\n",
      "\u001b[32m2025-Feb-23 13:56:34.48\u001b[0m| \u001b[1mINFO    \u001b[0m | \u001b[36mDuncans-MBP.fritz.box\u001b[0m| \u001b[36msuperduper.base.datalayer\u001b[0m:\u001b[36m393 \u001b[0m | \u001b[1mLoad (('Table', 'Application')) from metadata...\u001b[0m\n",
      "\u001b[32m2025-Feb-23 13:56:34.48\u001b[0m| \u001b[1mINFO    \u001b[0m | \u001b[36mDuncans-MBP.fritz.box\u001b[0m| \u001b[36msuperduper.base.datalayer\u001b[0m:\u001b[36m405 \u001b[0m | \u001b[1mAdding Table:Application:dc0fcc91a64344c7 to cache\u001b[0m\n",
      "\u001b[32m2025-Feb-23 13:56:34.53\u001b[0m| \u001b[1mINFO    \u001b[0m | \u001b[36mDuncans-MBP.fritz.box\u001b[0m| \u001b[36msuperduper.base.datalayer\u001b[0m:\u001b[36m361 \u001b[0m | \u001b[1mComponent 8daf7bc23f9247a9 not found in cache, loading from db with uuid\u001b[0m\n",
      "\u001b[32m2025-Feb-23 13:56:34.53\u001b[0m| \u001b[1mINFO    \u001b[0m | \u001b[36mDuncans-MBP.fritz.box\u001b[0m| \u001b[36msuperduper.base.datalayer\u001b[0m:\u001b[36m378 \u001b[0m | \u001b[1mAdding Application:simple-rag-app:8daf7bc23f9247a9 to cache\u001b[0m\n",
      "\u001b[32m2025-Feb-23 13:56:34.53\u001b[0m| \u001b[1mINFO    \u001b[0m | \u001b[36mDuncans-MBP.fritz.box\u001b[0m| \u001b[36msuperduper.components.component\u001b[0m:\u001b[36m504 \u001b[0m | \u001b[1mAdding Application:simple-rag-app to cache\u001b[0m\n",
      "\u001b[32m2025-Feb-23 13:56:34.54\u001b[0m| \u001b[1mINFO    \u001b[0m | \u001b[36mDuncans-MBP.fritz.box\u001b[0m| \u001b[36msuperduper.base.datalayer\u001b[0m:\u001b[36m387 \u001b[0m | \u001b[1mComponent (Table, Job) not found in cache, loading from db\u001b[0m\n",
      "\u001b[32m2025-Feb-23 13:56:34.54\u001b[0m| \u001b[1mINFO    \u001b[0m | \u001b[36mDuncans-MBP.fritz.box\u001b[0m| \u001b[36msuperduper.base.datalayer\u001b[0m:\u001b[36m393 \u001b[0m | \u001b[1mLoad (('Table', 'Job')) from metadata...\u001b[0m\n",
      "\u001b[32m2025-Feb-23 13:56:34.54\u001b[0m| \u001b[1mINFO    \u001b[0m | \u001b[36mDuncans-MBP.fritz.box\u001b[0m| \u001b[36msuperduper.base.datalayer\u001b[0m:\u001b[36m405 \u001b[0m | \u001b[1mAdding Table:Job:jkl to cache\u001b[0m\n",
      "\u001b[32m2025-Feb-23 13:56:34.61\u001b[0m| \u001b[1mINFO    \u001b[0m | \u001b[36mDuncans-MBP.fritz.box\u001b[0m| \u001b[36msuperduper.base.datalayer\u001b[0m:\u001b[36m387 \u001b[0m | \u001b[1mComponent (Table, _outputs__chunker__b5f5671fbbc34bf9) not found in cache, loading from db\u001b[0m\n",
      "\u001b[32m2025-Feb-23 13:56:34.61\u001b[0m| \u001b[1mINFO    \u001b[0m | \u001b[36mDuncans-MBP.fritz.box\u001b[0m| \u001b[36msuperduper.base.datalayer\u001b[0m:\u001b[36m393 \u001b[0m | \u001b[1mLoad (('Table', '_outputs__chunker__b5f5671fbbc34bf9')) from metadata...\u001b[0m\n",
      "\u001b[32m2025-Feb-23 13:56:34.61\u001b[0m| \u001b[1mINFO    \u001b[0m | \u001b[36mDuncans-MBP.fritz.box\u001b[0m| \u001b[36msuperduper.base.datalayer\u001b[0m:\u001b[36m405 \u001b[0m | \u001b[1mAdding Table:_outputs__chunker__b5f5671fbbc34bf9:04e488dab02943ed to cache\u001b[0m\n",
      "\u001b[32m2025-Feb-23 13:56:34.68\u001b[0m| \u001b[1mINFO    \u001b[0m | \u001b[36mDuncans-MBP.fritz.box\u001b[0m| \u001b[36msuperduper.base.datalayer\u001b[0m:\u001b[36m387 \u001b[0m | \u001b[1mComponent (Table, Job) not found in cache, loading from db\u001b[0m\n",
      "\u001b[32m2025-Feb-23 13:56:34.68\u001b[0m| \u001b[1mINFO    \u001b[0m | \u001b[36mDuncans-MBP.fritz.box\u001b[0m| \u001b[36msuperduper.base.datalayer\u001b[0m:\u001b[36m393 \u001b[0m | \u001b[1mLoad (('Table', 'Job')) from metadata...\u001b[0m\n",
      "\u001b[32m2025-Feb-23 13:56:34.68\u001b[0m| \u001b[1mINFO    \u001b[0m | \u001b[36mDuncans-MBP.fritz.box\u001b[0m| \u001b[36msuperduper.base.datalayer\u001b[0m:\u001b[36m405 \u001b[0m | \u001b[1mAdding Table:Job:jkl to cache\u001b[0m\n",
      "\u001b[32m2025-Feb-23 13:56:34.72\u001b[0m| \u001b[1mINFO    \u001b[0m | \u001b[36mDuncans-MBP.fritz.box\u001b[0m| \u001b[36msuperduper.base.datalayer\u001b[0m:\u001b[36m387 \u001b[0m | \u001b[1mComponent (Table, Job) not found in cache, loading from db\u001b[0m\n",
      "\u001b[32m2025-Feb-23 13:56:34.72\u001b[0m| \u001b[1mINFO    \u001b[0m | \u001b[36mDuncans-MBP.fritz.box\u001b[0m| \u001b[36msuperduper.base.datalayer\u001b[0m:\u001b[36m393 \u001b[0m | \u001b[1mLoad (('Table', 'Job')) from metadata...\u001b[0m\n",
      "\u001b[32m2025-Feb-23 13:56:34.72\u001b[0m| \u001b[1mINFO    \u001b[0m | \u001b[36mDuncans-MBP.fritz.box\u001b[0m| \u001b[36msuperduper.base.datalayer\u001b[0m:\u001b[36m405 \u001b[0m | \u001b[1mAdding Table:Job:jkl to cache\u001b[0m\n"
     ]
    },
    {
     "name": "stderr",
     "output_type": "stream",
     "text": [
      "[2025-02-23 13:56:36] httpx INFO HTTP Request: GET https://api.openai.com/v1/models \"HTTP/1.1 200 OK\"\n",
      "[2025-02-23 13:56:37] httpx INFO HTTP Request: POST https://api.openai.com/v1/embeddings \"HTTP/1.1 200 OK\"                                                                                                                     | 0/4 [00:00<?, ?it/s]\n",
      "[2025-02-23 13:56:39] httpx INFO HTTP Request: POST https://api.openai.com/v1/embeddings \"HTTP/1.1 200 OK\"                                                                                                             | 1/4 [00:02<00:07,  2.35s/it]\n",
      "[2025-02-23 13:56:41] httpx INFO HTTP Request: POST https://api.openai.com/v1/embeddings \"HTTP/1.1 200 OK\"████                                                                                                         | 2/4 [00:04<00:04,  2.06s/it]\n",
      "[2025-02-23 13:56:42] httpx INFO HTTP Request: POST https://api.openai.com/v1/embeddings \"HTTP/1.1 200 OK\"████████████████████████████████████████████████████████▌                                                    | 3/4 [00:06<00:02,  2.08s/it]\n",
      "100%|██████████████████████████████████████████████████████████████████████████████████████████████████████████████████████████████████████████████████████████████████████████████████████████████████████████████████| 4/4 [00:07<00:00,  1.79s/it]\n"
     ]
    },
    {
     "name": "stdout",
     "output_type": "stream",
     "text": [
      "\u001b[32m2025-Feb-23 13:56:43.29\u001b[0m| \u001b[1mINFO    \u001b[0m | \u001b[36mDuncans-MBP.fritz.box\u001b[0m| \u001b[36msuperduper.base.datalayer\u001b[0m:\u001b[36m387 \u001b[0m | \u001b[1mComponent (Table, _outputs__embeddinglistener__53e701637b7346f5) not found in cache, loading from db\u001b[0m\n",
      "\u001b[32m2025-Feb-23 13:56:43.29\u001b[0m| \u001b[1mINFO    \u001b[0m | \u001b[36mDuncans-MBP.fritz.box\u001b[0m| \u001b[36msuperduper.base.datalayer\u001b[0m:\u001b[36m393 \u001b[0m | \u001b[1mLoad (('Table', '_outputs__embeddinglistener__53e701637b7346f5')) from metadata...\u001b[0m\n",
      "\u001b[32m2025-Feb-23 13:56:43.30\u001b[0m| \u001b[1mINFO    \u001b[0m | \u001b[36mDuncans-MBP.fritz.box\u001b[0m| \u001b[36msuperduper.base.datalayer\u001b[0m:\u001b[36m405 \u001b[0m | \u001b[1mAdding Table:_outputs__embeddinglistener__53e701637b7346f5:77ad2bbcdb6d4f13 to cache\u001b[0m\n",
      "\u001b[32m2025-Feb-23 13:56:44.06\u001b[0m| \u001b[1mINFO    \u001b[0m | \u001b[36mDuncans-MBP.fritz.box\u001b[0m| \u001b[36msuperduper.base.datalayer\u001b[0m:\u001b[36m387 \u001b[0m | \u001b[1mComponent (Table, Job) not found in cache, loading from db\u001b[0m\n",
      "\u001b[32m2025-Feb-23 13:56:44.06\u001b[0m| \u001b[1mINFO    \u001b[0m | \u001b[36mDuncans-MBP.fritz.box\u001b[0m| \u001b[36msuperduper.base.datalayer\u001b[0m:\u001b[36m393 \u001b[0m | \u001b[1mLoad (('Table', 'Job')) from metadata...\u001b[0m\n",
      "\u001b[32m2025-Feb-23 13:56:44.06\u001b[0m| \u001b[1mINFO    \u001b[0m | \u001b[36mDuncans-MBP.fritz.box\u001b[0m| \u001b[36msuperduper.base.datalayer\u001b[0m:\u001b[36m405 \u001b[0m | \u001b[1mAdding Table:Job:jkl to cache\u001b[0m\n",
      "\u001b[32m2025-Feb-23 13:56:44.12\u001b[0m| \u001b[1mINFO    \u001b[0m | \u001b[36mDuncans-MBP.fritz.box\u001b[0m| \u001b[36msuperduper.base.datalayer\u001b[0m:\u001b[36m387 \u001b[0m | \u001b[1mComponent (Table, Job) not found in cache, loading from db\u001b[0m\n",
      "\u001b[32m2025-Feb-23 13:56:44.12\u001b[0m| \u001b[1mINFO    \u001b[0m | \u001b[36mDuncans-MBP.fritz.box\u001b[0m| \u001b[36msuperduper.base.datalayer\u001b[0m:\u001b[36m393 \u001b[0m | \u001b[1mLoad (('Table', 'Job')) from metadata...\u001b[0m\n",
      "\u001b[32m2025-Feb-23 13:56:44.12\u001b[0m| \u001b[1mINFO    \u001b[0m | \u001b[36mDuncans-MBP.fritz.box\u001b[0m| \u001b[36msuperduper.base.datalayer\u001b[0m:\u001b[36m405 \u001b[0m | \u001b[1mAdding Table:Job:jkl to cache\u001b[0m\n",
      "\u001b[32m2025-Feb-23 13:56:44.25\u001b[0m| \u001b[1mINFO    \u001b[0m | \u001b[36mDuncans-MBP.fritz.box\u001b[0m| \u001b[36msuperduper.base.datalayer\u001b[0m:\u001b[36m387 \u001b[0m | \u001b[1mComponent (Table, Job) not found in cache, loading from db\u001b[0m\n",
      "\u001b[32m2025-Feb-23 13:56:44.25\u001b[0m| \u001b[1mINFO    \u001b[0m | \u001b[36mDuncans-MBP.fritz.box\u001b[0m| \u001b[36msuperduper.base.datalayer\u001b[0m:\u001b[36m393 \u001b[0m | \u001b[1mLoad (('Table', 'Job')) from metadata...\u001b[0m\n",
      "\u001b[32m2025-Feb-23 13:56:44.25\u001b[0m| \u001b[1mINFO    \u001b[0m | \u001b[36mDuncans-MBP.fritz.box\u001b[0m| \u001b[36msuperduper.base.datalayer\u001b[0m:\u001b[36m405 \u001b[0m | \u001b[1mAdding Table:Job:jkl to cache\u001b[0m\n",
      "\u001b[32m2025-Feb-23 13:56:44.30\u001b[0m| \u001b[1mINFO    \u001b[0m | \u001b[36mDuncans-MBP.fritz.box\u001b[0m| \u001b[36msuperduper.backends.local.queue\u001b[0m:\u001b[36m114 \u001b[0m | \u001b[1mConsumed all events\u001b[0m\n"
     ]
    }
   ],
   "source": [
    "if APPLY:\n",
    "    db.apply(app, force=True)"
   ]
  },
  {
   "cell_type": "code",
   "execution_count": 27,
   "id": "2a82ea22-9694-4c65-b72f-c89ae49d1ab2",
   "metadata": {},
   "outputs": [
    {
     "name": "stdout",
     "output_type": "stream",
     "text": [
      "\u001b[32m2025-Feb-23 13:56:51.36\u001b[0m| \u001b[1mINFO    \u001b[0m | \u001b[36mDuncans-MBP.fritz.box\u001b[0m| \u001b[36msuperduper.base.datalayer\u001b[0m:\u001b[36m608 \u001b[0m | \u001b[1mGetting vector-index\u001b[0m\n",
      "\u001b[32m2025-Feb-23 13:56:51.36\u001b[0m| \u001b[1mINFO    \u001b[0m | \u001b[36mDuncans-MBP.fritz.box\u001b[0m| \u001b[36msuperduper.base.datalayer\u001b[0m:\u001b[36m616 \u001b[0m | \u001b[1m{}\u001b[0m\n"
     ]
    },
    {
     "name": "stderr",
     "output_type": "stream",
     "text": [
      "[2025-02-23 13:56:51] httpx INFO HTTP Request: POST https://api.openai.com/v1/embeddings \"HTTP/1.1 200 OK\"\n",
      "[2025-02-23 13:56:53] httpx INFO HTTP Request: POST https://api.openai.com/v1/chat/completions \"HTTP/1.1 200 OK\"\n"
     ]
    },
    {
     "name": "stdout",
     "output_type": "stream",
     "text": [
      "Superduper is a project for building, deploying, and managing AI models with a data layer, compute layer, and component tracking.\n"
     ]
    }
   ],
   "source": [
    "if APPLY:\n",
    "    rag = db.load('RAGModel', 'simple_rag')\n",
    "    print(rag.predict('Tell me about the project'))"
   ]
  },
  {
   "cell_type": "markdown",
   "id": "5da0306b-0969-49ab-95c4-0eb93c39f515",
   "metadata": {},
   "source": [
    "You can now load the model elsewhere and make predictions using the following command."
   ]
  },
  {
   "cell_type": "markdown",
   "id": "f42119a4-6aef-46ec-a81d-cbe1167d8710",
   "metadata": {},
   "source": [
    "## Create template"
   ]
  },
  {
   "cell_type": "code",
   "execution_count": 28,
   "id": "2e850c03-33c6-4c88-95d3-d14146a6a0af",
   "metadata": {},
   "outputs": [],
   "source": [
    "from superduper import Template, Table, Schema\n",
    "from superduper.components.dataset import RemoteData\n",
    "\n",
    "template = Template(\n",
    "    'simple_rag',\n",
    "    template=app,\n",
    "    substitutions={\n",
    "        COLLECTION_NAME: 'table_name',\n",
    "        'text-embedding-ada-002': 'embedding_model',\n",
    "        'gpt-3.5-turbo': 'llm_model',\n",
    "    },\n",
    "    template_variables=['table_name', 'id_field', 'embedding_model', 'llm_model'],\n",
    "    default_tables=[\n",
    "        Table(\n",
    "            'sample_simple_rag',\n",
    "            fields={'x': 'str'},\n",
    "            data=RemoteData(\n",
    "                'superduper-docs',\n",
    "                getter=getter,\n",
    "            )\n",
    "        ),\n",
    "    ],\n",
    "    types={\n",
    "        'id_field': {\n",
    "            'type': 'str',\n",
    "            'default': '_id',\n",
    "        },\n",
    "        'embedding_model': {\n",
    "            'type': 'str',\n",
    "            'default': 'text-embedding-ada-002',\n",
    "            'choices': ['text-embedding-ada-002', 'nomic-embed-text:latest'],\n",
    "        },\n",
    "        'llm_model': {\n",
    "            'type': 'str',\n",
    "            'default': 'gpt-3.5-turbo',\n",
    "            'choices': ['gpt-3.5-turbo', 'gpt-4-turbo', 'llama3.1:8b']\n",
    "        },\n",
    "        'table_name': {\n",
    "            'type': 'str',\n",
    "            'default': SAMPLE_COLLECTION_NAME,\n",
    "        }\n",
    "    },\n",
    "    schema={\n",
    "        \"id_field\": \"id_field\",\n",
    "        \"embedding_model\": \"embedding_model\",\n",
    "        \"llm_model\": \"llm_model\",\n",
    "        \"table_name\": \"table_name\",\n",
    "    },\n",
    "    db=db\n",
    ")"
   ]
  },
  {
   "cell_type": "code",
   "execution_count": null,
   "id": "3ae5c709-9e9c-41cc-8710-e60f06793d04",
   "metadata": {},
   "outputs": [],
   "source": [
    "template.export('.')"
   ]
  }
 ],
 "metadata": {
  "kernelspec": {
   "display_name": "Python 3 (ipykernel)",
   "language": "python",
   "name": "python3"
  },
  "language_info": {
   "codemirror_mode": {
    "name": "ipython",
    "version": 3
   },
   "file_extension": ".py",
   "mimetype": "text/x-python",
   "name": "python",
   "nbconvert_exporter": "python",
   "pygments_lexer": "ipython3",
   "version": "3.10.13"
  }
 },
 "nbformat": 4,
 "nbformat_minor": 5
}
