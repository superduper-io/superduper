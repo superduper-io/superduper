{
 "cells": [
  {
   "cell_type": "markdown",
   "id": "dbab9c35-9c81-4b6b-838a-569dda0febe3",
   "metadata": {},
   "source": [
    "# PDF RAG\n",
    "\n",
    "This is a PDF-based RAG application. While answering questions, it accesses relevant information from the PDF and displays the corresponding paragraphs in the form of images."
   ]
  },
  {
   "cell_type": "code",
   "execution_count": 73,
   "id": "d77615ed-ca3f-4e91-b953-c4fead5ac436",
   "metadata": {
    "editable": true,
    "slideshow": {
     "slide_type": ""
    },
    "tags": [
     "parameters"
    ]
   },
   "outputs": [],
   "source": [
    "APPLY = True\n",
    "COLLECTION_NAME = '<var:table_name>' if not APPLY else 'sample_pdf_rag'"
   ]
  },
  {
   "cell_type": "code",
   "execution_count": 74,
   "id": "95e55ddd-45db-493f-8cc0-26ba2959160e",
   "metadata": {},
   "outputs": [],
   "source": [
    "from superduper import superduper, CFG\n",
    "CFG.bytes_encoding = 'str'\n",
    "CFG.native_json = False"
   ]
  },
  {
   "cell_type": "code",
   "execution_count": 135,
   "id": "b52e7cb0-a612-4c9d-85ec-9e95dd8ce8fa",
   "metadata": {},
   "outputs": [
    {
     "name": "stdout",
     "output_type": "stream",
     "text": [
      "\u001b[32m2024-Dec-04 00:19:50.30\u001b[0m| \u001b[1mINFO    \u001b[0m | \u001b[36mkartiks-MacBook-Air.local\u001b[0m| \u001b[36msuperduper.misc.plugins\u001b[0m:\u001b[36m13  \u001b[0m | \u001b[1mLoading plugin: mongodb\u001b[0m\n",
      "\u001b[32m2024-Dec-04 00:19:50.34\u001b[0m| \u001b[1mINFO    \u001b[0m | \u001b[36mkartiks-MacBook-Air.local\u001b[0m| \u001b[36msuperduper.base.datalayer\u001b[0m:\u001b[36m68  \u001b[0m | \u001b[1mBuilding Data Layer\u001b[0m\n",
      "\u001b[32m2024-Dec-04 00:19:50.35\u001b[0m| \u001b[1mINFO    \u001b[0m | \u001b[36mkartiks-MacBook-Air.local\u001b[0m| \u001b[36msuperduper.base.build\u001b[0m:\u001b[36m184 \u001b[0m | \u001b[1mConfiguration: \n",
      " +---------------+-----------------------------------+\n",
      "| Configuration |               Value               |\n",
      "+---------------+-----------------------------------+\n",
      "|  Data Backend | mongodb://localhost:27017/test_db |\n",
      "+---------------+-----------------------------------+\u001b[0m\n"
     ]
    }
   ],
   "source": [
    "db = superduper()"
   ]
  },
  {
   "cell_type": "code",
   "execution_count": null,
   "id": "76fdda75-70f6-4907-becd-6bcf916fac9f",
   "metadata": {},
   "outputs": [],
   "source": [
    "def getter():\n",
    "    #import subprocess\n",
    "    import os\n",
    "    #subprocess.run(['curl', '-O', 'https://superduperdb-public-demo.s3.amazonaws.com/pdfs.zip'])\n",
    "    #subprocess.run(['unzip', '-o', 'pdfs.zip'])\n",
    "    #subprocess.run(['rm', 'pdfs.zip'])\n",
    "    pdf_folder = \"/Users/kartiksharma/Work/superduperdb/code/superduper/small\"\n",
    "    pdf_names = [pdf for pdf in os.listdir(pdf_folder) if pdf.endswith(\".pdf\")]\n",
    "    pdf_paths = [os.path.join(pdf_folder, pdf) for pdf in pdf_names]\n",
    "    data = [{\"url\": pdf_path, \"file\": pdf_path} for pdf_path in pdf_paths]\n",
    "    return data"
   ]
  },
  {
   "cell_type": "code",
   "execution_count": null,
   "id": "e7f452d7-017d-4fea-a87d-2ccdb6276b79",
   "metadata": {},
   "outputs": [],
   "source": [
    "if APPLY:\n",
    "    data = getter()"
   ]
  },
  {
   "cell_type": "markdown",
   "id": "3b4e4001-84be-453c-902e-a5f0a8934472",
   "metadata": {},
   "source": [
    "## Create a table to store PDFs."
   ]
  },
  {
   "cell_type": "code",
   "execution_count": 54,
   "id": "c0eb6c25-f091-4099-b84c-5bafe55f0eb3",
   "metadata": {},
   "outputs": [
    {
     "name": "stdout",
     "output_type": "stream",
     "text": [
      "\u001b[32m2024-Dec-03 23:36:46.46\u001b[0m| \u001b[33m\u001b[1mWARNING \u001b[0m | \u001b[36mkartiks-MacBook-Air.local\u001b[0m| \u001b[36msuperduper.base.document\u001b[0m:\u001b[36m558 \u001b[0m | \u001b[33m\u001b[1mLeaf str already exists\u001b[0m\n",
      "\u001b[32m2024-Dec-03 23:36:46.47\u001b[0m| \u001b[1mINFO    \u001b[0m | \u001b[36mkartiks-MacBook-Air.local\u001b[0m| \u001b[36msuperduper.base.datalayer\u001b[0m:\u001b[36m621 \u001b[0m | \u001b[1mComponent (datatype, file) not found in cache, loading from db\u001b[0m\n",
      "\u001b[32m2024-Dec-03 23:36:46.47\u001b[0m| \u001b[1mINFO    \u001b[0m | \u001b[36mkartiks-MacBook-Air.local\u001b[0m| \u001b[36msuperduper.base.datalayer\u001b[0m:\u001b[36m627 \u001b[0m | \u001b[1mLoad (('datatype', 'file')) from metadata...\u001b[0m\n",
      "\u001b[32m2024-Dec-03 23:36:46.47\u001b[0m| \u001b[1mINFO    \u001b[0m | \u001b[36mkartiks-MacBook-Air.local\u001b[0m| \u001b[36msuperduper.base.apply\u001b[0m:\u001b[36m312 \u001b[0m | \u001b[1mFound new datatype:file:121dd11d21464f2b\u001b[0m\n",
      "\u001b[32m2024-Dec-03 23:36:46.47\u001b[0m| \u001b[1mINFO    \u001b[0m | \u001b[36mkartiks-MacBook-Air.local\u001b[0m| \u001b[36msuperduper.base.datalayer\u001b[0m:\u001b[36m621 \u001b[0m | \u001b[1mComponent (schema, myschema) not found in cache, loading from db\u001b[0m\n",
      "\u001b[32m2024-Dec-03 23:36:46.47\u001b[0m| \u001b[1mINFO    \u001b[0m | \u001b[36mkartiks-MacBook-Air.local\u001b[0m| \u001b[36msuperduper.base.datalayer\u001b[0m:\u001b[36m627 \u001b[0m | \u001b[1mLoad (('schema', 'myschema')) from metadata...\u001b[0m\n",
      "\u001b[32m2024-Dec-03 23:36:46.48\u001b[0m| \u001b[33m\u001b[1mWARNING \u001b[0m | \u001b[36mkartiks-MacBook-Air.local\u001b[0m| \u001b[36msuperduper.base.document\u001b[0m:\u001b[36m558 \u001b[0m | \u001b[33m\u001b[1mLeaf str already exists\u001b[0m\n",
      "\u001b[32m2024-Dec-03 23:36:46.48\u001b[0m| \u001b[1mINFO    \u001b[0m | \u001b[36mkartiks-MacBook-Air.local\u001b[0m| \u001b[36msuperduper.base.apply\u001b[0m:\u001b[36m312 \u001b[0m | \u001b[1mFound new schema:myschema:e76ac8e549e14592\u001b[0m\n",
      "\u001b[32m2024-Dec-03 23:36:46.48\u001b[0m| \u001b[1mINFO    \u001b[0m | \u001b[36mkartiks-MacBook-Air.local\u001b[0m| \u001b[36msuperduper.base.datalayer\u001b[0m:\u001b[36m621 \u001b[0m | \u001b[1mComponent (table, sample_pdf_rag) not found in cache, loading from db\u001b[0m\n",
      "\u001b[32m2024-Dec-03 23:36:46.48\u001b[0m| \u001b[1mINFO    \u001b[0m | \u001b[36mkartiks-MacBook-Air.local\u001b[0m| \u001b[36msuperduper.base.datalayer\u001b[0m:\u001b[36m627 \u001b[0m | \u001b[1mLoad (('table', 'sample_pdf_rag')) from metadata...\u001b[0m\n",
      "\u001b[32m2024-Dec-03 23:36:46.48\u001b[0m| \u001b[1mINFO    \u001b[0m | \u001b[36mkartiks-MacBook-Air.local\u001b[0m| \u001b[36msuperduper.base.apply\u001b[0m:\u001b[36m312 \u001b[0m | \u001b[1mFound new table:sample_pdf_rag:6e50f63c63cd442e\u001b[0m\n",
      "\u001b[32m2024-Dec-03 23:36:46.48\u001b[0m| \u001b[1mINFO    \u001b[0m | \u001b[36mkartiks-MacBook-Air.local\u001b[0m| \u001b[36msuperduper.base.apply\u001b[0m:\u001b[36m73  \u001b[0m | \u001b[1mFound these changes and/ or additions that need to be made:\u001b[0m\n",
      "\u001b[32m2024-Dec-03 23:36:46.48\u001b[0m| \u001b[1mINFO    \u001b[0m | \u001b[36mkartiks-MacBook-Air.local\u001b[0m| \u001b[36msuperduper.base.apply\u001b[0m:\u001b[36m75  \u001b[0m | \u001b[1m----------------------------------------------------------------------------------------------------\u001b[0m\n",
      "\u001b[32m2024-Dec-03 23:36:46.48\u001b[0m| \u001b[1mINFO    \u001b[0m | \u001b[36mkartiks-MacBook-Air.local\u001b[0m| \u001b[36msuperduper.base.apply\u001b[0m:\u001b[36m76  \u001b[0m | \u001b[1mMETADATA EVENTS:\u001b[0m\n",
      "\u001b[32m2024-Dec-03 23:36:46.48\u001b[0m| \u001b[1mINFO    \u001b[0m | \u001b[36mkartiks-MacBook-Air.local\u001b[0m| \u001b[36msuperduper.base.apply\u001b[0m:\u001b[36m77  \u001b[0m | \u001b[1m----------------------------------------------------------------------------------------------------\u001b[0m\n",
      "\u001b[32m2024-Dec-03 23:36:46.49\u001b[0m| \u001b[1mINFO    \u001b[0m | \u001b[36mkartiks-MacBook-Air.local\u001b[0m| \u001b[36msuperduper.base.apply\u001b[0m:\u001b[36m84  \u001b[0m | \u001b[1m[0]: datatype:file:121dd11d21464f2b: create ~ [1]\u001b[0m\n",
      "\u001b[32m2024-Dec-03 23:36:46.49\u001b[0m| \u001b[1mINFO    \u001b[0m | \u001b[36mkartiks-MacBook-Air.local\u001b[0m| \u001b[36msuperduper.base.apply\u001b[0m:\u001b[36m84  \u001b[0m | \u001b[1m[1]: schema:myschema:e76ac8e549e14592: create ~ [2]\u001b[0m\n",
      "\u001b[32m2024-Dec-03 23:36:46.49\u001b[0m| \u001b[1mINFO    \u001b[0m | \u001b[36mkartiks-MacBook-Air.local\u001b[0m| \u001b[36msuperduper.base.apply\u001b[0m:\u001b[36m88  \u001b[0m | \u001b[1m[2]: table:sample_pdf_rag:6e50f63c63cd442e: create\u001b[0m\n",
      "\u001b[32m2024-Dec-03 23:36:46.49\u001b[0m| \u001b[1mINFO    \u001b[0m | \u001b[36mkartiks-MacBook-Air.local\u001b[0m| \u001b[36msuperduper.base.apply\u001b[0m:\u001b[36m90  \u001b[0m | \u001b[1m----------------------------------------------------------------------------------------------------\u001b[0m\n",
      "\u001b[32m2024-Dec-03 23:36:46.49\u001b[0m| \u001b[1mINFO    \u001b[0m | \u001b[36mkartiks-MacBook-Air.local\u001b[0m| \u001b[36msuperduper.base.apply\u001b[0m:\u001b[36m91  \u001b[0m | \u001b[1mJOBS EVENTS:\u001b[0m\n",
      "\u001b[32m2024-Dec-03 23:36:46.49\u001b[0m| \u001b[1mINFO    \u001b[0m | \u001b[36mkartiks-MacBook-Air.local\u001b[0m| \u001b[36msuperduper.base.apply\u001b[0m:\u001b[36m92  \u001b[0m | \u001b[1m----------------------------------------------------------------------------------------------------\u001b[0m\n",
      "\u001b[32m2024-Dec-03 23:36:46.49\u001b[0m| \u001b[1mINFO    \u001b[0m | \u001b[36mkartiks-MacBook-Air.local\u001b[0m| \u001b[36msuperduper.base.apply\u001b[0m:\u001b[36m96  \u001b[0m | \u001b[1mNo job events...\u001b[0m\n",
      "\u001b[32m2024-Dec-03 23:36:46.49\u001b[0m| \u001b[1mINFO    \u001b[0m | \u001b[36mkartiks-MacBook-Air.local\u001b[0m| \u001b[36msuperduper.base.apply\u001b[0m:\u001b[36m107 \u001b[0m | \u001b[1m----------------------------------------------------------------------------------------------------\u001b[0m\n",
      "\u001b[32m2024-Dec-03 23:36:46.51\u001b[0m| \u001b[1mINFO    \u001b[0m | \u001b[36mkartiks-MacBook-Air.local\u001b[0m| \u001b[36msuperduper.base.datalayer\u001b[0m:\u001b[36m590 \u001b[0m | \u001b[1mComponent 121dd11d21464f2b not found in cache, loading from db with uuid\u001b[0m\n",
      "\u001b[32m2024-Dec-03 23:36:46.52\u001b[0m| \u001b[1mINFO    \u001b[0m | \u001b[36mkartiks-MacBook-Air.local\u001b[0m| \u001b[36msuperduper.base.datalayer\u001b[0m:\u001b[36m612 \u001b[0m | \u001b[1mAdding datatype:file:121dd11d21464f2b to cache\u001b[0m\n",
      "\u001b[32m2024-Dec-03 23:36:46.53\u001b[0m| \u001b[1mINFO    \u001b[0m | \u001b[36mkartiks-MacBook-Air.local\u001b[0m| \u001b[36msuperduper.components.component\u001b[0m:\u001b[36m594 \u001b[0m | \u001b[1mAdding datatype: file to cache\u001b[0m\n",
      "\u001b[32m2024-Dec-03 23:36:46.54\u001b[0m| \u001b[1mINFO    \u001b[0m | \u001b[36mkartiks-MacBook-Air.local\u001b[0m| \u001b[36msuperduper.base.datalayer\u001b[0m:\u001b[36m590 \u001b[0m | \u001b[1mComponent e76ac8e549e14592 not found in cache, loading from db with uuid\u001b[0m\n",
      "\u001b[32m2024-Dec-03 23:36:46.54\u001b[0m| \u001b[1mINFO    \u001b[0m | \u001b[36mkartiks-MacBook-Air.local\u001b[0m| \u001b[36msuperduper.base.datalayer\u001b[0m:\u001b[36m612 \u001b[0m | \u001b[1mAdding schema:myschema:e76ac8e549e14592 to cache\u001b[0m\n",
      "\u001b[32m2024-Dec-03 23:36:46.54\u001b[0m| \u001b[1mINFO    \u001b[0m | \u001b[36mkartiks-MacBook-Air.local\u001b[0m| \u001b[36msuperduper.components.component\u001b[0m:\u001b[36m594 \u001b[0m | \u001b[1mAdding schema: myschema to cache\u001b[0m\n",
      "\u001b[32m2024-Dec-03 23:36:46.55\u001b[0m| \u001b[1mINFO    \u001b[0m | \u001b[36mkartiks-MacBook-Air.local\u001b[0m| \u001b[36msuperduper.base.datalayer\u001b[0m:\u001b[36m590 \u001b[0m | \u001b[1mComponent 6e50f63c63cd442e not found in cache, loading from db with uuid\u001b[0m\n",
      "\u001b[32m2024-Dec-03 23:36:46.55\u001b[0m| \u001b[1mINFO    \u001b[0m | \u001b[36mkartiks-MacBook-Air.local\u001b[0m| \u001b[36msuperduper.base.datalayer\u001b[0m:\u001b[36m612 \u001b[0m | \u001b[1mAdding table:sample_pdf_rag:6e50f63c63cd442e to cache\u001b[0m\n",
      "\u001b[32m2024-Dec-03 23:36:46.56\u001b[0m| \u001b[33m\u001b[1mWARNING \u001b[0m | \u001b[36mkartiks-MacBook-Air.local\u001b[0m| \u001b[36msuperduper.backends.local.compute\u001b[0m:\u001b[36m49  \u001b[0m | \u001b[33m\u001b[1mCould not release futures for context 6e50f63c63cd442e\u001b[0m\n"
     ]
    }
   ],
   "source": [
    "import os\n",
    "from superduper import Schema, Table\n",
    "from superduper.components.datatype import file\n",
    "\n",
    "schema = Schema(identifier=\"myschema\", fields={'url': 'str', 'file': file})\n",
    "table = Table(identifier=COLLECTION_NAME, schema=schema)\n",
    "\n",
    "if APPLY:\n",
    "    db.apply(table, force=True)\n",
    "    #db[COLLECTION_NAME].insert(data).execute()"
   ]
  },
  {
   "cell_type": "markdown",
   "id": "6d96bdf0-e664-493b-8fc1-dee711b64e9e",
   "metadata": {},
   "source": [
    "## Split the PDF file into images for later result display"
   ]
  },
  {
   "cell_type": "code",
   "execution_count": 55,
   "id": "83e64072-920c-4e0d-bfa2-424fd0c5c1b1",
   "metadata": {},
   "outputs": [
    {
     "name": "stdout",
     "output_type": "stream",
     "text": [
      "\u001b[32m2024-Dec-03 23:36:57.70\u001b[0m| \u001b[33m\u001b[1mWARNING \u001b[0m | \u001b[36mkartiks-MacBook-Air.local\u001b[0m| \u001b[36msuperduper.components.listener\u001b[0m:\u001b[36m74  \u001b[0m | \u001b[33m\u001b[1moutput_table not found in listener.dict()\u001b[0m\n",
      "\u001b[32m2024-Dec-03 23:36:57.71\u001b[0m| \u001b[1mINFO    \u001b[0m | \u001b[36mkartiks-MacBook-Air.local\u001b[0m| \u001b[36msuperduper.base.apply\u001b[0m:\u001b[36m225 \u001b[0m | \u001b[1mFound identical datatype:file:121dd11d21464f2b\u001b[0m\n",
      "\u001b[32m2024-Dec-03 23:36:57.71\u001b[0m| \u001b[1mINFO    \u001b[0m | \u001b[36mkartiks-MacBook-Air.local\u001b[0m| \u001b[36msuperduper.base.datalayer\u001b[0m:\u001b[36m621 \u001b[0m | \u001b[1mComponent (model, split_image) not found in cache, loading from db\u001b[0m\n",
      "\u001b[32m2024-Dec-03 23:36:57.71\u001b[0m| \u001b[1mINFO    \u001b[0m | \u001b[36mkartiks-MacBook-Air.local\u001b[0m| \u001b[36msuperduper.base.datalayer\u001b[0m:\u001b[36m627 \u001b[0m | \u001b[1mLoad (('model', 'split_image')) from metadata...\u001b[0m\n",
      "\u001b[32m2024-Dec-03 23:36:57.72\u001b[0m| \u001b[1mINFO    \u001b[0m | \u001b[36mkartiks-MacBook-Air.local\u001b[0m| \u001b[36msuperduper.base.apply\u001b[0m:\u001b[36m312 \u001b[0m | \u001b[1mFound new model:split_image:2bf48621088043b0\u001b[0m\n",
      "\u001b[32m2024-Dec-03 23:36:57.75\u001b[0m| \u001b[33m\u001b[1mWARNING \u001b[0m | \u001b[36mkartiks-MacBook-Air.local\u001b[0m| \u001b[36msuperduper_mongodb.artifacts\u001b[0m:\u001b[36m111 \u001b[0m | \u001b[33m\u001b[1mFile 568534984ca7688b45c9a5caaa73a5756e1a78a6 already exists\u001b[0m\n",
      "\u001b[32m2024-Dec-03 23:36:57.77\u001b[0m| \u001b[1mINFO    \u001b[0m | \u001b[36mkartiks-MacBook-Air.local\u001b[0m| \u001b[36msuperduper.base.datalayer\u001b[0m:\u001b[36m621 \u001b[0m | \u001b[1mComponent (listener, split_image) not found in cache, loading from db\u001b[0m\n",
      "\u001b[32m2024-Dec-03 23:36:57.77\u001b[0m| \u001b[1mINFO    \u001b[0m | \u001b[36mkartiks-MacBook-Air.local\u001b[0m| \u001b[36msuperduper.base.datalayer\u001b[0m:\u001b[36m627 \u001b[0m | \u001b[1mLoad (('listener', 'split_image')) from metadata...\u001b[0m\n",
      "\u001b[32m2024-Dec-03 23:36:57.78\u001b[0m| \u001b[1mINFO    \u001b[0m | \u001b[36mkartiks-MacBook-Air.local\u001b[0m| \u001b[36msuperduper.base.apply\u001b[0m:\u001b[36m225 \u001b[0m | \u001b[1mFound identical datatype:file:121dd11d21464f2b\u001b[0m\n",
      "\u001b[32m2024-Dec-03 23:36:57.78\u001b[0m| \u001b[1mINFO    \u001b[0m | \u001b[36mkartiks-MacBook-Air.local\u001b[0m| \u001b[36msuperduper.base.datalayer\u001b[0m:\u001b[36m621 \u001b[0m | \u001b[1mComponent (schema, _schema/_outputs__split_image__dba4c23fd1984eea) not found in cache, loading from db\u001b[0m\n",
      "\u001b[32m2024-Dec-03 23:36:57.78\u001b[0m| \u001b[1mINFO    \u001b[0m | \u001b[36mkartiks-MacBook-Air.local\u001b[0m| \u001b[36msuperduper.base.datalayer\u001b[0m:\u001b[36m627 \u001b[0m | \u001b[1mLoad (('schema', '_schema/_outputs__split_image__dba4c23fd1984eea')) from metadata...\u001b[0m\n",
      "\u001b[32m2024-Dec-03 23:36:57.78\u001b[0m| \u001b[1mINFO    \u001b[0m | \u001b[36mkartiks-MacBook-Air.local\u001b[0m| \u001b[36msuperduper.base.apply\u001b[0m:\u001b[36m312 \u001b[0m | \u001b[1mFound new schema:_schema/_outputs__split_image__dba4c23fd1984eea:51e8d599a0a44229\u001b[0m\n",
      "\u001b[32m2024-Dec-03 23:36:57.78\u001b[0m| \u001b[1mINFO    \u001b[0m | \u001b[36mkartiks-MacBook-Air.local\u001b[0m| \u001b[36msuperduper.base.datalayer\u001b[0m:\u001b[36m621 \u001b[0m | \u001b[1mComponent (table, _outputs__split_image__dba4c23fd1984eea) not found in cache, loading from db\u001b[0m\n",
      "\u001b[32m2024-Dec-03 23:36:57.78\u001b[0m| \u001b[1mINFO    \u001b[0m | \u001b[36mkartiks-MacBook-Air.local\u001b[0m| \u001b[36msuperduper.base.datalayer\u001b[0m:\u001b[36m627 \u001b[0m | \u001b[1mLoad (('table', '_outputs__split_image__dba4c23fd1984eea')) from metadata...\u001b[0m\n",
      "\u001b[32m2024-Dec-03 23:36:57.78\u001b[0m| \u001b[1mINFO    \u001b[0m | \u001b[36mkartiks-MacBook-Air.local\u001b[0m| \u001b[36msuperduper.base.apply\u001b[0m:\u001b[36m312 \u001b[0m | \u001b[1mFound new table:_outputs__split_image__dba4c23fd1984eea:4d8121dbdcae4d19\u001b[0m\n",
      "\u001b[32m2024-Dec-03 23:36:57.78\u001b[0m| \u001b[1mINFO    \u001b[0m | \u001b[36mkartiks-MacBook-Air.local\u001b[0m| \u001b[36msuperduper.base.apply\u001b[0m:\u001b[36m312 \u001b[0m | \u001b[1mFound new listener:split_image:dba4c23fd1984eea\u001b[0m\n",
      "\u001b[32m2024-Dec-03 23:36:57.79\u001b[0m| \u001b[1mINFO    \u001b[0m | \u001b[36mkartiks-MacBook-Air.local\u001b[0m| \u001b[36msuperduper.base.apply\u001b[0m:\u001b[36m73  \u001b[0m | \u001b[1mFound these changes and/ or additions that need to be made:\u001b[0m\n",
      "\u001b[32m2024-Dec-03 23:36:57.79\u001b[0m| \u001b[1mINFO    \u001b[0m | \u001b[36mkartiks-MacBook-Air.local\u001b[0m| \u001b[36msuperduper.base.apply\u001b[0m:\u001b[36m75  \u001b[0m | \u001b[1m----------------------------------------------------------------------------------------------------\u001b[0m\n",
      "\u001b[32m2024-Dec-03 23:36:57.79\u001b[0m| \u001b[1mINFO    \u001b[0m | \u001b[36mkartiks-MacBook-Air.local\u001b[0m| \u001b[36msuperduper.base.apply\u001b[0m:\u001b[36m76  \u001b[0m | \u001b[1mMETADATA EVENTS:\u001b[0m\n",
      "\u001b[32m2024-Dec-03 23:36:57.79\u001b[0m| \u001b[1mINFO    \u001b[0m | \u001b[36mkartiks-MacBook-Air.local\u001b[0m| \u001b[36msuperduper.base.apply\u001b[0m:\u001b[36m77  \u001b[0m | \u001b[1m----------------------------------------------------------------------------------------------------\u001b[0m\n",
      "\u001b[32m2024-Dec-03 23:36:57.79\u001b[0m| \u001b[1mINFO    \u001b[0m | \u001b[36mkartiks-MacBook-Air.local\u001b[0m| \u001b[36msuperduper.base.apply\u001b[0m:\u001b[36m84  \u001b[0m | \u001b[1m[0]: model:split_image:2bf48621088043b0: create ~ [3]\u001b[0m\n",
      "\u001b[32m2024-Dec-03 23:36:57.79\u001b[0m| \u001b[1mINFO    \u001b[0m | \u001b[36mkartiks-MacBook-Air.local\u001b[0m| \u001b[36msuperduper.base.apply\u001b[0m:\u001b[36m84  \u001b[0m | \u001b[1m[1]: schema:_schema/_outputs__split_image__dba4c23fd1984eea:51e8d599a0a44229: create ~ [2]\u001b[0m\n",
      "\u001b[32m2024-Dec-03 23:36:57.79\u001b[0m| \u001b[1mINFO    \u001b[0m | \u001b[36mkartiks-MacBook-Air.local\u001b[0m| \u001b[36msuperduper.base.apply\u001b[0m:\u001b[36m84  \u001b[0m | \u001b[1m[2]: table:_outputs__split_image__dba4c23fd1984eea:4d8121dbdcae4d19: create ~ [3]\u001b[0m\n",
      "\u001b[32m2024-Dec-03 23:36:57.79\u001b[0m| \u001b[1mINFO    \u001b[0m | \u001b[36mkartiks-MacBook-Air.local\u001b[0m| \u001b[36msuperduper.base.apply\u001b[0m:\u001b[36m88  \u001b[0m | \u001b[1m[3]: listener:split_image:dba4c23fd1984eea: create\u001b[0m\n",
      "\u001b[32m2024-Dec-03 23:36:57.79\u001b[0m| \u001b[1mINFO    \u001b[0m | \u001b[36mkartiks-MacBook-Air.local\u001b[0m| \u001b[36msuperduper.base.apply\u001b[0m:\u001b[36m90  \u001b[0m | \u001b[1m----------------------------------------------------------------------------------------------------\u001b[0m\n",
      "\u001b[32m2024-Dec-03 23:36:57.79\u001b[0m| \u001b[1mINFO    \u001b[0m | \u001b[36mkartiks-MacBook-Air.local\u001b[0m| \u001b[36msuperduper.base.apply\u001b[0m:\u001b[36m91  \u001b[0m | \u001b[1mJOBS EVENTS:\u001b[0m\n",
      "\u001b[32m2024-Dec-03 23:36:57.79\u001b[0m| \u001b[1mINFO    \u001b[0m | \u001b[36mkartiks-MacBook-Air.local\u001b[0m| \u001b[36msuperduper.base.apply\u001b[0m:\u001b[36m92  \u001b[0m | \u001b[1m----------------------------------------------------------------------------------------------------\u001b[0m\n",
      "\u001b[32m2024-Dec-03 23:36:57.79\u001b[0m| \u001b[1mINFO    \u001b[0m | \u001b[36mkartiks-MacBook-Air.local\u001b[0m| \u001b[36msuperduper.base.apply\u001b[0m:\u001b[36m105 \u001b[0m | \u001b[1m[0]: listener:split_image:dba4c23fd1984eea.run: run\u001b[0m\n",
      "\u001b[32m2024-Dec-03 23:36:57.79\u001b[0m| \u001b[1mINFO    \u001b[0m | \u001b[36mkartiks-MacBook-Air.local\u001b[0m| \u001b[36msuperduper.base.apply\u001b[0m:\u001b[36m100 \u001b[0m | \u001b[1m[1]: listener:split_image:dba4c23fd1984eea.set_status: set_status ~ [0]\u001b[0m\n",
      "\u001b[32m2024-Dec-03 23:36:57.79\u001b[0m| \u001b[1mINFO    \u001b[0m | \u001b[36mkartiks-MacBook-Air.local\u001b[0m| \u001b[36msuperduper.base.apply\u001b[0m:\u001b[36m107 \u001b[0m | \u001b[1m----------------------------------------------------------------------------------------------------\u001b[0m\n",
      "\u001b[32m2024-Dec-03 23:36:57.79\u001b[0m| \u001b[1mINFO    \u001b[0m | \u001b[36mkartiks-MacBook-Air.local\u001b[0m| \u001b[36msuperduper.base.datalayer\u001b[0m:\u001b[36m590 \u001b[0m | \u001b[1mComponent 2bf48621088043b0 not found in cache, loading from db with uuid\u001b[0m\n",
      "\u001b[32m2024-Dec-03 23:36:57.80\u001b[0m| \u001b[1mINFO    \u001b[0m | \u001b[36mkartiks-MacBook-Air.local\u001b[0m| \u001b[36msuperduper.base.datalayer\u001b[0m:\u001b[36m612 \u001b[0m | \u001b[1mAdding model:split_image:2bf48621088043b0 to cache\u001b[0m\n",
      "\u001b[32m2024-Dec-03 23:36:57.80\u001b[0m| \u001b[1mINFO    \u001b[0m | \u001b[36mkartiks-MacBook-Air.local\u001b[0m| \u001b[36msuperduper.components.component\u001b[0m:\u001b[36m594 \u001b[0m | \u001b[1mAdding model: split_image to cache\u001b[0m\n",
      "\u001b[32m2024-Dec-03 23:36:57.80\u001b[0m| \u001b[1mINFO    \u001b[0m | \u001b[36mkartiks-MacBook-Air.local\u001b[0m| \u001b[36msuperduper.base.datalayer\u001b[0m:\u001b[36m590 \u001b[0m | \u001b[1mComponent 51e8d599a0a44229 not found in cache, loading from db with uuid\u001b[0m\n",
      "\u001b[32m2024-Dec-03 23:36:57.81\u001b[0m| \u001b[1mINFO    \u001b[0m | \u001b[36mkartiks-MacBook-Air.local\u001b[0m| \u001b[36msuperduper.base.datalayer\u001b[0m:\u001b[36m612 \u001b[0m | \u001b[1mAdding schema:_schema/_outputs__split_image__dba4c23fd1984eea:51e8d599a0a44229 to cache\u001b[0m\n",
      "\u001b[32m2024-Dec-03 23:36:57.81\u001b[0m| \u001b[1mINFO    \u001b[0m | \u001b[36mkartiks-MacBook-Air.local\u001b[0m| \u001b[36msuperduper.components.component\u001b[0m:\u001b[36m594 \u001b[0m | \u001b[1mAdding schema: _schema/_outputs__split_image__dba4c23fd1984eea to cache\u001b[0m\n",
      "\u001b[32m2024-Dec-03 23:36:57.82\u001b[0m| \u001b[1mINFO    \u001b[0m | \u001b[36mkartiks-MacBook-Air.local\u001b[0m| \u001b[36msuperduper.base.datalayer\u001b[0m:\u001b[36m590 \u001b[0m | \u001b[1mComponent 4d8121dbdcae4d19 not found in cache, loading from db with uuid\u001b[0m\n",
      "\u001b[32m2024-Dec-03 23:36:57.83\u001b[0m| \u001b[1mINFO    \u001b[0m | \u001b[36mkartiks-MacBook-Air.local\u001b[0m| \u001b[36msuperduper.base.datalayer\u001b[0m:\u001b[36m612 \u001b[0m | \u001b[1mAdding table:_outputs__split_image__dba4c23fd1984eea:4d8121dbdcae4d19 to cache\u001b[0m\n",
      "\u001b[32m2024-Dec-03 23:36:57.83\u001b[0m| \u001b[1mINFO    \u001b[0m | \u001b[36mkartiks-MacBook-Air.local\u001b[0m| \u001b[36msuperduper.base.datalayer\u001b[0m:\u001b[36m590 \u001b[0m | \u001b[1mComponent dba4c23fd1984eea not found in cache, loading from db with uuid\u001b[0m\n",
      "\u001b[32m2024-Dec-03 23:36:57.85\u001b[0m| \u001b[1mINFO    \u001b[0m | \u001b[36mkartiks-MacBook-Air.local\u001b[0m| \u001b[36msuperduper.base.datalayer\u001b[0m:\u001b[36m612 \u001b[0m | \u001b[1mAdding listener:split_image:dba4c23fd1984eea to cache\u001b[0m\n",
      "\u001b[32m2024-Dec-03 23:36:57.85\u001b[0m| \u001b[1mINFO    \u001b[0m | \u001b[36mkartiks-MacBook-Air.local\u001b[0m| \u001b[36msuperduper.components.component\u001b[0m:\u001b[36m594 \u001b[0m | \u001b[1mAdding listener: split_image to cache\u001b[0m\n",
      "\u001b[32m2024-Dec-03 23:36:57.88\u001b[0m| \u001b[1mINFO    \u001b[0m | \u001b[36mkartiks-MacBook-Air.local\u001b[0m| \u001b[36msuperduper.components.model\u001b[0m:\u001b[36m532 \u001b[0m | \u001b[1mRequesting prediction in db - [split_image] with predict_id split_image__dba4c23fd1984eea\n",
      "\u001b[0m\n"
     ]
    },
    {
     "name": "stderr",
     "output_type": "stream",
     "text": [
      "0it [00:00, ?it/s]\n"
     ]
    }
   ],
   "source": [
    "from superduper import ObjectModel, logging\n",
    "from pdf2image import convert_from_path\n",
    "import os\n",
    "\n",
    "\n",
    "def split_image(pdf_path):\n",
    "    logging.info(f\"Splitting images from {pdf_path}\")\n",
    "\n",
    "    image_folders = \"data/pdf-images\"\n",
    "    pdf_name = os.path.basename(pdf_path)\n",
    "    images = convert_from_path(pdf_path)\n",
    "    logging.info(f\"Number of images: {len(images)}\")\n",
    "\n",
    "    image_folder = os.path.join(image_folders, pdf_name)\n",
    "    if not os.path.exists(image_folder):\n",
    "        os.makedirs(image_folder)\n",
    "\n",
    "    data = []\n",
    "    for i, image in enumerate(images):\n",
    "        path = os.path.join(image_folder, f\"{i}.jpg\")\n",
    "        image.save(os.path.join(path))\n",
    "        data.append(path)\n",
    "    return data\n",
    "\n",
    "\n",
    "model_split_image = ObjectModel(\n",
    "    identifier=\"split_image\",\n",
    "    object=split_image,\n",
    "    datatype=file,\n",
    ")\n",
    "\n",
    "listener_split_image = model_split_image.to_listener(\n",
    "    key=\"file\",\n",
    "    select=db[COLLECTION_NAME].find(),\n",
    "    flatten=True,\n",
    ")\n",
    "\n",
    "if APPLY:\n",
    "    db.apply(listener_split_image, force=True)"
   ]
  },
  {
   "cell_type": "markdown",
   "id": "7a14dd50-1c52-4ebe-bdff-3c45e5277882",
   "metadata": {},
   "source": [
    "## Build a chunks model and return chunk results with coordinate information."
   ]
  },
  {
   "cell_type": "code",
   "execution_count": 56,
   "id": "75857086-8c8f-4109-a427-2c2f510cfa17",
   "metadata": {},
   "outputs": [],
   "source": [
    "def remove_sidebars(elements):\n",
    "    import re\n",
    "    from collections import defaultdict\n",
    "\n",
    "    from unstructured.documents.elements import ElementType\n",
    "\n",
    "    if not elements:\n",
    "        return elements\n",
    "    points_groups = defaultdict(list)\n",
    "    min_x = 99999999\n",
    "    max_x = 0\n",
    "    e2index = {e.id: i for i, e in enumerate(elements)}\n",
    "    for e in elements:\n",
    "        x_l = int(e.metadata.coordinates.points[0][0])\n",
    "        x_r = int(e.metadata.coordinates.points[2][0])\n",
    "        points_groups[(x_l, x_r)].append(e)\n",
    "        min_x = min(min_x, x_l)\n",
    "        max_x = max(max_x, x_r)\n",
    "    sidebars_elements = set()\n",
    "    for (x_l, x_r), es in points_groups.items():\n",
    "        first_id = e2index[es[0].id]\n",
    "        last_id = e2index[es[-1].id]\n",
    "        on_left = first_id == 0 and x_l == min_x\n",
    "        on_right = (last_id == len(elements) - 2) and x_r == max_x\n",
    "        loc_match = [on_left, on_right]\n",
    "        total_text = \"\".join(map(str, es))\n",
    "        condiction = [\n",
    "            any(loc_match),\n",
    "            len(es) >= 3,\n",
    "            re.findall(\"^[A-Z\\s\\d,]+$\", total_text),\n",
    "        ]\n",
    "        if not all(condiction):\n",
    "            continue\n",
    "        sidebars_elements.update(map(lambda x: x.id, es))\n",
    "        if on_left:\n",
    "            check_page_num_e = elements[last_id + 1]\n",
    "        else:\n",
    "            check_page_num_e = elements[-1]\n",
    "        if (\n",
    "            check_page_num_e.category == ElementType.UNCATEGORIZED_TEXT\n",
    "            and check_page_num_e.text.strip().isalnum()\n",
    "        ):\n",
    "            sidebars_elements.add(check_page_num_e.id)\n",
    "\n",
    "    elements = [e for e in elements if e.id not in sidebars_elements]\n",
    "    return elements\n",
    "\n",
    "\n",
    "def remove_annotation(elements):\n",
    "    from collections import Counter\n",
    "\n",
    "    from unstructured.documents.elements import ElementType\n",
    "\n",
    "    page_num = max(e.metadata.page_number for e in elements)\n",
    "    un_texts_counter = Counter(\n",
    "        [e.text for e in elements if e.category == ElementType.UNCATEGORIZED_TEXT]\n",
    "    )\n",
    "    rm_text = set()\n",
    "    for text, count in un_texts_counter.items():\n",
    "        if count / page_num >= 0.5:\n",
    "            rm_text.add(text)\n",
    "    elements = [e for e in elements if e.text not in rm_text]\n",
    "    return elements\n",
    "\n",
    "\n",
    "def create_chunk_and_metadatas(page_elements, stride=3, window=10):\n",
    "    page_elements = remove_sidebars(page_elements)\n",
    "    for index, page_element in enumerate(page_elements):\n",
    "        page_element.metadata.num = index\n",
    "    datas = []\n",
    "    for i in range(0, len(page_elements), stride):\n",
    "        windown_elements = page_elements[i : i + window]\n",
    "        chunk = \"\\n\".join([e.text for e in windown_elements])\n",
    "        source_elements = [e.to_dict() for e in windown_elements]\n",
    "        datas.append(\n",
    "            {\n",
    "                \"txt\": chunk,\n",
    "                \"source_elements\": source_elements,\n",
    "            }\n",
    "        )\n",
    "    return datas\n",
    "\n",
    "\n",
    "def get_chunks(pdf):\n",
    "    from collections import defaultdict\n",
    "\n",
    "    from unstructured.documents.coordinates import RelativeCoordinateSystem\n",
    "    from unstructured.partition.pdf import partition_pdf\n",
    "\n",
    "    elements = partition_pdf(pdf)\n",
    "    elements = remove_annotation(elements)\n",
    "\n",
    "    pages_elements = defaultdict(list)\n",
    "    for element in elements:\n",
    "        element.convert_coordinates_to_new_system(\n",
    "            RelativeCoordinateSystem(), in_place=True\n",
    "        )\n",
    "        pages_elements[element.metadata.page_number].append(element)\n",
    "\n",
    "    all_chunks_and_links = sum(\n",
    "        [\n",
    "            create_chunk_and_metadatas(page_elements)\n",
    "            for _, page_elements in pages_elements.items()\n",
    "        ],\n",
    "        [],\n",
    "    )\n",
    "    return all_chunks_and_links"
   ]
  },
  {
   "cell_type": "code",
   "execution_count": 57,
   "id": "8b6e62e1-f94f-4363-b534-8b6f52bf509e",
   "metadata": {},
   "outputs": [
    {
     "name": "stdout",
     "output_type": "stream",
     "text": [
      "\u001b[32m2024-Dec-03 23:37:25.27\u001b[0m| \u001b[33m\u001b[1mWARNING \u001b[0m | \u001b[36mkartiks-MacBook-Air.local\u001b[0m| \u001b[36msuperduper.components.listener\u001b[0m:\u001b[36m74  \u001b[0m | \u001b[33m\u001b[1moutput_table not found in listener.dict()\u001b[0m\n",
      "\u001b[32m2024-Dec-03 23:37:25.28\u001b[0m| \u001b[1mINFO    \u001b[0m | \u001b[36mkartiks-MacBook-Air.local\u001b[0m| \u001b[36msuperduper.base.datalayer\u001b[0m:\u001b[36m621 \u001b[0m | \u001b[1mComponent (model, chunk) not found in cache, loading from db\u001b[0m\n",
      "\u001b[32m2024-Dec-03 23:37:25.28\u001b[0m| \u001b[1mINFO    \u001b[0m | \u001b[36mkartiks-MacBook-Air.local\u001b[0m| \u001b[36msuperduper.base.datalayer\u001b[0m:\u001b[36m627 \u001b[0m | \u001b[1mLoad (('model', 'chunk')) from metadata...\u001b[0m\n",
      "\u001b[32m2024-Dec-03 23:37:25.29\u001b[0m| \u001b[1mINFO    \u001b[0m | \u001b[36mkartiks-MacBook-Air.local\u001b[0m| \u001b[36msuperduper.base.apply\u001b[0m:\u001b[36m312 \u001b[0m | \u001b[1mFound new model:chunk:3ea7689ae7834c5b\u001b[0m\n",
      "\u001b[32m2024-Dec-03 23:37:25.30\u001b[0m| \u001b[33m\u001b[1mWARNING \u001b[0m | \u001b[36mkartiks-MacBook-Air.local\u001b[0m| \u001b[36msuperduper_mongodb.artifacts\u001b[0m:\u001b[36m111 \u001b[0m | \u001b[33m\u001b[1mFile 1087871ffeeb5420a415b53f5e137701fd991584 already exists\u001b[0m\n",
      "\u001b[32m2024-Dec-03 23:37:25.33\u001b[0m| \u001b[1mINFO    \u001b[0m | \u001b[36mkartiks-MacBook-Air.local\u001b[0m| \u001b[36msuperduper.base.datalayer\u001b[0m:\u001b[36m621 \u001b[0m | \u001b[1mComponent (listener, chunk) not found in cache, loading from db\u001b[0m\n",
      "\u001b[32m2024-Dec-03 23:37:25.33\u001b[0m| \u001b[1mINFO    \u001b[0m | \u001b[36mkartiks-MacBook-Air.local\u001b[0m| \u001b[36msuperduper.base.datalayer\u001b[0m:\u001b[36m627 \u001b[0m | \u001b[1mLoad (('listener', 'chunk')) from metadata...\u001b[0m\n",
      "\u001b[32m2024-Dec-03 23:37:25.34\u001b[0m| \u001b[1mINFO    \u001b[0m | \u001b[36mkartiks-MacBook-Air.local\u001b[0m| \u001b[36msuperduper.base.datalayer\u001b[0m:\u001b[36m621 \u001b[0m | \u001b[1mComponent (schema, _schema/_outputs__chunk__2b26440ac7db46eb) not found in cache, loading from db\u001b[0m\n",
      "\u001b[32m2024-Dec-03 23:37:25.34\u001b[0m| \u001b[1mINFO    \u001b[0m | \u001b[36mkartiks-MacBook-Air.local\u001b[0m| \u001b[36msuperduper.base.datalayer\u001b[0m:\u001b[36m627 \u001b[0m | \u001b[1mLoad (('schema', '_schema/_outputs__chunk__2b26440ac7db46eb')) from metadata...\u001b[0m\n",
      "\u001b[32m2024-Dec-03 23:37:25.34\u001b[0m| \u001b[1mINFO    \u001b[0m | \u001b[36mkartiks-MacBook-Air.local\u001b[0m| \u001b[36msuperduper.base.apply\u001b[0m:\u001b[36m312 \u001b[0m | \u001b[1mFound new schema:_schema/_outputs__chunk__2b26440ac7db46eb:1dee42c82f704d74\u001b[0m\n",
      "\u001b[32m2024-Dec-03 23:37:25.34\u001b[0m| \u001b[1mINFO    \u001b[0m | \u001b[36mkartiks-MacBook-Air.local\u001b[0m| \u001b[36msuperduper.base.datalayer\u001b[0m:\u001b[36m621 \u001b[0m | \u001b[1mComponent (table, _outputs__chunk__2b26440ac7db46eb) not found in cache, loading from db\u001b[0m\n",
      "\u001b[32m2024-Dec-03 23:37:25.34\u001b[0m| \u001b[1mINFO    \u001b[0m | \u001b[36mkartiks-MacBook-Air.local\u001b[0m| \u001b[36msuperduper.base.datalayer\u001b[0m:\u001b[36m627 \u001b[0m | \u001b[1mLoad (('table', '_outputs__chunk__2b26440ac7db46eb')) from metadata...\u001b[0m\n",
      "\u001b[32m2024-Dec-03 23:37:25.34\u001b[0m| \u001b[1mINFO    \u001b[0m | \u001b[36mkartiks-MacBook-Air.local\u001b[0m| \u001b[36msuperduper.base.apply\u001b[0m:\u001b[36m312 \u001b[0m | \u001b[1mFound new table:_outputs__chunk__2b26440ac7db46eb:362b3bf859d74c92\u001b[0m\n",
      "\u001b[32m2024-Dec-03 23:37:25.34\u001b[0m| \u001b[1mINFO    \u001b[0m | \u001b[36mkartiks-MacBook-Air.local\u001b[0m| \u001b[36msuperduper.base.apply\u001b[0m:\u001b[36m312 \u001b[0m | \u001b[1mFound new listener:chunk:2b26440ac7db46eb\u001b[0m\n",
      "\u001b[32m2024-Dec-03 23:37:25.34\u001b[0m| \u001b[1mINFO    \u001b[0m | \u001b[36mkartiks-MacBook-Air.local\u001b[0m| \u001b[36msuperduper.base.apply\u001b[0m:\u001b[36m73  \u001b[0m | \u001b[1mFound these changes and/ or additions that need to be made:\u001b[0m\n",
      "\u001b[32m2024-Dec-03 23:37:25.34\u001b[0m| \u001b[1mINFO    \u001b[0m | \u001b[36mkartiks-MacBook-Air.local\u001b[0m| \u001b[36msuperduper.base.apply\u001b[0m:\u001b[36m75  \u001b[0m | \u001b[1m----------------------------------------------------------------------------------------------------\u001b[0m\n",
      "\u001b[32m2024-Dec-03 23:37:25.34\u001b[0m| \u001b[1mINFO    \u001b[0m | \u001b[36mkartiks-MacBook-Air.local\u001b[0m| \u001b[36msuperduper.base.apply\u001b[0m:\u001b[36m76  \u001b[0m | \u001b[1mMETADATA EVENTS:\u001b[0m\n",
      "\u001b[32m2024-Dec-03 23:37:25.34\u001b[0m| \u001b[1mINFO    \u001b[0m | \u001b[36mkartiks-MacBook-Air.local\u001b[0m| \u001b[36msuperduper.base.apply\u001b[0m:\u001b[36m77  \u001b[0m | \u001b[1m----------------------------------------------------------------------------------------------------\u001b[0m\n",
      "\u001b[32m2024-Dec-03 23:37:25.34\u001b[0m| \u001b[1mINFO    \u001b[0m | \u001b[36mkartiks-MacBook-Air.local\u001b[0m| \u001b[36msuperduper.base.apply\u001b[0m:\u001b[36m84  \u001b[0m | \u001b[1m[0]: model:chunk:3ea7689ae7834c5b: create ~ [3]\u001b[0m\n",
      "\u001b[32m2024-Dec-03 23:37:25.34\u001b[0m| \u001b[1mINFO    \u001b[0m | \u001b[36mkartiks-MacBook-Air.local\u001b[0m| \u001b[36msuperduper.base.apply\u001b[0m:\u001b[36m84  \u001b[0m | \u001b[1m[1]: schema:_schema/_outputs__chunk__2b26440ac7db46eb:1dee42c82f704d74: create ~ [2]\u001b[0m\n",
      "\u001b[32m2024-Dec-03 23:37:25.34\u001b[0m| \u001b[1mINFO    \u001b[0m | \u001b[36mkartiks-MacBook-Air.local\u001b[0m| \u001b[36msuperduper.base.apply\u001b[0m:\u001b[36m84  \u001b[0m | \u001b[1m[2]: table:_outputs__chunk__2b26440ac7db46eb:362b3bf859d74c92: create ~ [3]\u001b[0m\n",
      "\u001b[32m2024-Dec-03 23:37:25.34\u001b[0m| \u001b[1mINFO    \u001b[0m | \u001b[36mkartiks-MacBook-Air.local\u001b[0m| \u001b[36msuperduper.base.apply\u001b[0m:\u001b[36m88  \u001b[0m | \u001b[1m[3]: listener:chunk:2b26440ac7db46eb: create\u001b[0m\n",
      "\u001b[32m2024-Dec-03 23:37:25.34\u001b[0m| \u001b[1mINFO    \u001b[0m | \u001b[36mkartiks-MacBook-Air.local\u001b[0m| \u001b[36msuperduper.base.apply\u001b[0m:\u001b[36m90  \u001b[0m | \u001b[1m----------------------------------------------------------------------------------------------------\u001b[0m\n",
      "\u001b[32m2024-Dec-03 23:37:25.34\u001b[0m| \u001b[1mINFO    \u001b[0m | \u001b[36mkartiks-MacBook-Air.local\u001b[0m| \u001b[36msuperduper.base.apply\u001b[0m:\u001b[36m91  \u001b[0m | \u001b[1mJOBS EVENTS:\u001b[0m\n",
      "\u001b[32m2024-Dec-03 23:37:25.34\u001b[0m| \u001b[1mINFO    \u001b[0m | \u001b[36mkartiks-MacBook-Air.local\u001b[0m| \u001b[36msuperduper.base.apply\u001b[0m:\u001b[36m92  \u001b[0m | \u001b[1m----------------------------------------------------------------------------------------------------\u001b[0m\n",
      "\u001b[32m2024-Dec-03 23:37:25.34\u001b[0m| \u001b[1mINFO    \u001b[0m | \u001b[36mkartiks-MacBook-Air.local\u001b[0m| \u001b[36msuperduper.base.apply\u001b[0m:\u001b[36m105 \u001b[0m | \u001b[1m[0]: listener:chunk:2b26440ac7db46eb.run: run\u001b[0m\n",
      "\u001b[32m2024-Dec-03 23:37:25.34\u001b[0m| \u001b[1mINFO    \u001b[0m | \u001b[36mkartiks-MacBook-Air.local\u001b[0m| \u001b[36msuperduper.base.apply\u001b[0m:\u001b[36m100 \u001b[0m | \u001b[1m[1]: listener:chunk:2b26440ac7db46eb.set_status: set_status ~ [0]\u001b[0m\n",
      "\u001b[32m2024-Dec-03 23:37:25.34\u001b[0m| \u001b[1mINFO    \u001b[0m | \u001b[36mkartiks-MacBook-Air.local\u001b[0m| \u001b[36msuperduper.base.apply\u001b[0m:\u001b[36m107 \u001b[0m | \u001b[1m----------------------------------------------------------------------------------------------------\u001b[0m\n",
      "\u001b[32m2024-Dec-03 23:37:25.35\u001b[0m| \u001b[1mINFO    \u001b[0m | \u001b[36mkartiks-MacBook-Air.local\u001b[0m| \u001b[36msuperduper.base.datalayer\u001b[0m:\u001b[36m590 \u001b[0m | \u001b[1mComponent 3ea7689ae7834c5b not found in cache, loading from db with uuid\u001b[0m\n",
      "\u001b[32m2024-Dec-03 23:37:25.36\u001b[0m| \u001b[1mINFO    \u001b[0m | \u001b[36mkartiks-MacBook-Air.local\u001b[0m| \u001b[36msuperduper.base.datalayer\u001b[0m:\u001b[36m612 \u001b[0m | \u001b[1mAdding model:chunk:3ea7689ae7834c5b to cache\u001b[0m\n",
      "\u001b[32m2024-Dec-03 23:37:25.37\u001b[0m| \u001b[1mINFO    \u001b[0m | \u001b[36mkartiks-MacBook-Air.local\u001b[0m| \u001b[36msuperduper.components.component\u001b[0m:\u001b[36m594 \u001b[0m | \u001b[1mAdding model: chunk to cache\u001b[0m\n",
      "\u001b[32m2024-Dec-03 23:37:25.37\u001b[0m| \u001b[1mINFO    \u001b[0m | \u001b[36mkartiks-MacBook-Air.local\u001b[0m| \u001b[36msuperduper.base.datalayer\u001b[0m:\u001b[36m590 \u001b[0m | \u001b[1mComponent 1dee42c82f704d74 not found in cache, loading from db with uuid\u001b[0m\n",
      "\u001b[32m2024-Dec-03 23:37:25.38\u001b[0m| \u001b[1mINFO    \u001b[0m | \u001b[36mkartiks-MacBook-Air.local\u001b[0m| \u001b[36msuperduper.base.datalayer\u001b[0m:\u001b[36m612 \u001b[0m | \u001b[1mAdding schema:_schema/_outputs__chunk__2b26440ac7db46eb:1dee42c82f704d74 to cache\u001b[0m\n",
      "\u001b[32m2024-Dec-03 23:37:25.38\u001b[0m| \u001b[1mINFO    \u001b[0m | \u001b[36mkartiks-MacBook-Air.local\u001b[0m| \u001b[36msuperduper.components.component\u001b[0m:\u001b[36m594 \u001b[0m | \u001b[1mAdding schema: _schema/_outputs__chunk__2b26440ac7db46eb to cache\u001b[0m\n",
      "\u001b[32m2024-Dec-03 23:37:25.39\u001b[0m| \u001b[1mINFO    \u001b[0m | \u001b[36mkartiks-MacBook-Air.local\u001b[0m| \u001b[36msuperduper.base.datalayer\u001b[0m:\u001b[36m590 \u001b[0m | \u001b[1mComponent 362b3bf859d74c92 not found in cache, loading from db with uuid\u001b[0m\n",
      "\u001b[32m2024-Dec-03 23:37:25.39\u001b[0m| \u001b[1mINFO    \u001b[0m | \u001b[36mkartiks-MacBook-Air.local\u001b[0m| \u001b[36msuperduper.base.datalayer\u001b[0m:\u001b[36m612 \u001b[0m | \u001b[1mAdding table:_outputs__chunk__2b26440ac7db46eb:362b3bf859d74c92 to cache\u001b[0m\n",
      "\u001b[32m2024-Dec-03 23:37:25.40\u001b[0m| \u001b[1mINFO    \u001b[0m | \u001b[36mkartiks-MacBook-Air.local\u001b[0m| \u001b[36msuperduper.base.datalayer\u001b[0m:\u001b[36m590 \u001b[0m | \u001b[1mComponent 2b26440ac7db46eb not found in cache, loading from db with uuid\u001b[0m\n",
      "\u001b[32m2024-Dec-03 23:37:25.41\u001b[0m| \u001b[1mINFO    \u001b[0m | \u001b[36mkartiks-MacBook-Air.local\u001b[0m| \u001b[36msuperduper.base.datalayer\u001b[0m:\u001b[36m612 \u001b[0m | \u001b[1mAdding listener:chunk:2b26440ac7db46eb to cache\u001b[0m\n",
      "\u001b[32m2024-Dec-03 23:37:25.41\u001b[0m| \u001b[1mINFO    \u001b[0m | \u001b[36mkartiks-MacBook-Air.local\u001b[0m| \u001b[36msuperduper.components.component\u001b[0m:\u001b[36m594 \u001b[0m | \u001b[1mAdding listener: chunk to cache\u001b[0m\n",
      "\u001b[32m2024-Dec-03 23:37:25.42\u001b[0m| \u001b[1mINFO    \u001b[0m | \u001b[36mkartiks-MacBook-Air.local\u001b[0m| \u001b[36msuperduper.components.model\u001b[0m:\u001b[36m532 \u001b[0m | \u001b[1mRequesting prediction in db - [chunk] with predict_id chunk__2b26440ac7db46eb\n",
      "\u001b[0m\n"
     ]
    },
    {
     "name": "stderr",
     "output_type": "stream",
     "text": [
      "0it [00:00, ?it/s]\n"
     ]
    }
   ],
   "source": [
    "from superduper.components.schema import FieldType\n",
    "\n",
    "model_chunk = ObjectModel(\n",
    "    identifier=\"chunk\",\n",
    "    object=get_chunks,\n",
    "    datatype=FieldType(identifier=\"json\")\n",
    ")\n",
    "\n",
    "listener_chunk = model_chunk.to_listener(\n",
    "    key=\"file\",\n",
    "    select=db[COLLECTION_NAME].select(),\n",
    "    flatten=True,\n",
    ")\n",
    "\n",
    "if APPLY:\n",
    "    db.apply(listener_chunk, force=True)"
   ]
  },
  {
   "cell_type": "markdown",
   "id": "9eb48164-2cf8-4253-9b3f-b3ae37a6b5f3",
   "metadata": {},
   "source": [
    "## Build a vector index for vector search"
   ]
  },
  {
   "cell_type": "markdown",
   "id": "c0a27a8e-8982-48ba-975d-c102c26ef6a3",
   "metadata": {},
   "source": [
    "OpenAI:"
   ]
  },
  {
   "cell_type": "code",
   "execution_count": 58,
   "id": "39c90813-08f2-4629-b6fb-e8340e55a041",
   "metadata": {},
   "outputs": [],
   "source": [
    "from superduper_openai import OpenAIEmbedding\n",
    "os.environ['OPENAI_API_KEY'] = '<key>'\n",
    "openai_embedding = OpenAIEmbedding(identifier='text-embedding-ada-002')"
   ]
  },
  {
   "cell_type": "markdown",
   "id": "f887de01-5375-402a-aad2-4ecf7459717e",
   "metadata": {},
   "source": [
    "Sentence-transformers:"
   ]
  },
  {
   "cell_type": "code",
   "execution_count": 59,
   "id": "b2cc3a47-6bf9-4534-a6ef-f1c9e6aa4840",
   "metadata": {},
   "outputs": [],
   "source": [
    "import sentence_transformers\n",
    "from superduper_sentence_transformers import SentenceTransformer\n",
    "\n",
    "sentence_transformers_embedding = SentenceTransformer(\n",
    "    identifier=\"sentence-transformers-embedding\",\n",
    "    model=\"BAAI/bge-small-en\",\n",
    "    postprocess=lambda x: x.tolist(),\n",
    "    predict_kwargs={\"show_progress_bar\": True},\n",
    ")"
   ]
  },
  {
   "cell_type": "code",
   "execution_count": 60,
   "id": "89b9f956-6e6e-42bf-b9a1-86d685e759f8",
   "metadata": {},
   "outputs": [],
   "source": [
    "from superduper.components.model import ModelRouter\n",
    "\n",
    "model_embedding = ModelRouter(\n",
    "    'embedding',\n",
    "    models={'openai': openai_embedding, 'sentence_transformers': sentence_transformers_embedding},\n",
    "    model='<var:embedding_model>' if not APPLY else 'openai',\n",
    "    example='this is a test',\n",
    "    signature='singleton'\n",
    ")\n"
   ]
  },
  {
   "cell_type": "code",
   "execution_count": null,
   "id": "a4a48696-ef06-433f-943b-4c17087ab2af",
   "metadata": {},
   "outputs": [],
   "source": [
    "model_embedding.signature"
   ]
  },
  {
   "cell_type": "code",
   "execution_count": 61,
   "id": "918d0092-b01f-4881-9870-70ca49bef61c",
   "metadata": {},
   "outputs": [
    {
     "name": "stdout",
     "output_type": "stream",
     "text": [
      "\u001b[32m2024-Dec-03 23:37:39.27\u001b[0m| \u001b[1mINFO    \u001b[0m | \u001b[36mkartiks-MacBook-Air.local\u001b[0m| \u001b[36msuperduper.components.model\u001b[0m:\u001b[36m1327\u001b[0m | \u001b[1mPredicting with model openai\u001b[0m\n",
      "\u001b[32m2024-Dec-03 23:37:40.47\u001b[0m| \u001b[33m\u001b[1mWARNING \u001b[0m | \u001b[36mkartiks-MacBook-Air.local\u001b[0m| \u001b[36msuperduper.components.listener\u001b[0m:\u001b[36m74  \u001b[0m | \u001b[33m\u001b[1moutput_table not found in listener.dict()\u001b[0m\n",
      "\u001b[32m2024-Dec-03 23:37:40.47\u001b[0m| \u001b[1mINFO    \u001b[0m | \u001b[36mkartiks-MacBook-Air.local\u001b[0m| \u001b[36msuperduper.base.datalayer\u001b[0m:\u001b[36m621 \u001b[0m | \u001b[1mComponent (datatype, vector[1536]) not found in cache, loading from db\u001b[0m\n",
      "\u001b[32m2024-Dec-03 23:37:40.47\u001b[0m| \u001b[1mINFO    \u001b[0m | \u001b[36mkartiks-MacBook-Air.local\u001b[0m| \u001b[36msuperduper.base.datalayer\u001b[0m:\u001b[36m627 \u001b[0m | \u001b[1mLoad (('datatype', 'vector[1536]')) from metadata...\u001b[0m\n",
      "\u001b[32m2024-Dec-03 23:37:40.48\u001b[0m| \u001b[1mINFO    \u001b[0m | \u001b[36mkartiks-MacBook-Air.local\u001b[0m| \u001b[36msuperduper.base.apply\u001b[0m:\u001b[36m312 \u001b[0m | \u001b[1mFound new datatype:vector[1536]:3619f576961e4665\u001b[0m\n",
      "\u001b[32m2024-Dec-03 23:37:40.48\u001b[0m| \u001b[1mINFO    \u001b[0m | \u001b[36mkartiks-MacBook-Air.local\u001b[0m| \u001b[36msuperduper.base.datalayer\u001b[0m:\u001b[36m621 \u001b[0m | \u001b[1mComponent (model, text-embedding-ada-002) not found in cache, loading from db\u001b[0m\n",
      "\u001b[32m2024-Dec-03 23:37:40.48\u001b[0m| \u001b[1mINFO    \u001b[0m | \u001b[36mkartiks-MacBook-Air.local\u001b[0m| \u001b[36msuperduper.base.datalayer\u001b[0m:\u001b[36m627 \u001b[0m | \u001b[1mLoad (('model', 'text-embedding-ada-002')) from metadata...\u001b[0m\n",
      "\u001b[32m2024-Dec-03 23:37:40.48\u001b[0m| \u001b[1mINFO    \u001b[0m | \u001b[36mkartiks-MacBook-Air.local\u001b[0m| \u001b[36msuperduper.base.apply\u001b[0m:\u001b[36m312 \u001b[0m | \u001b[1mFound new model:text-embedding-ada-002:d2ba76d089ce47b1\u001b[0m\n",
      "\u001b[32m2024-Dec-03 23:37:43.11\u001b[0m| \u001b[1mINFO    \u001b[0m | \u001b[36mkartiks-MacBook-Air.local\u001b[0m| \u001b[36msuperduper.base.datalayer\u001b[0m:\u001b[36m621 \u001b[0m | \u001b[1mComponent (model, sentence-transformers-embedding) not found in cache, loading from db\u001b[0m\n",
      "\u001b[32m2024-Dec-03 23:37:43.11\u001b[0m| \u001b[1mINFO    \u001b[0m | \u001b[36mkartiks-MacBook-Air.local\u001b[0m| \u001b[36msuperduper.base.datalayer\u001b[0m:\u001b[36m627 \u001b[0m | \u001b[1mLoad (('model', 'sentence-transformers-embedding')) from metadata...\u001b[0m\n",
      "\u001b[32m2024-Dec-03 23:37:45.74\u001b[0m| \u001b[1mINFO    \u001b[0m | \u001b[36mkartiks-MacBook-Air.local\u001b[0m| \u001b[36msuperduper.base.apply\u001b[0m:\u001b[36m312 \u001b[0m | \u001b[1mFound new model:sentence-transformers-embedding:78127779f1ce4274\u001b[0m\n",
      "\u001b[32m2024-Dec-03 23:37:45.75\u001b[0m| \u001b[33m\u001b[1mWARNING \u001b[0m | \u001b[36mkartiks-MacBook-Air.local\u001b[0m| \u001b[36msuperduper_mongodb.artifacts\u001b[0m:\u001b[36m111 \u001b[0m | \u001b[33m\u001b[1mFile c190af19f02c96ce9f7c38409748ccfc98758827 already exists\u001b[0m\n",
      "\u001b[32m2024-Dec-03 23:37:45.77\u001b[0m| \u001b[1mINFO    \u001b[0m | \u001b[36mkartiks-MacBook-Air.local\u001b[0m| \u001b[36msuperduper.base.datalayer\u001b[0m:\u001b[36m621 \u001b[0m | \u001b[1mComponent (model, embedding) not found in cache, loading from db\u001b[0m\n",
      "\u001b[32m2024-Dec-03 23:37:45.77\u001b[0m| \u001b[1mINFO    \u001b[0m | \u001b[36mkartiks-MacBook-Air.local\u001b[0m| \u001b[36msuperduper.base.datalayer\u001b[0m:\u001b[36m627 \u001b[0m | \u001b[1mLoad (('model', 'embedding')) from metadata...\u001b[0m\n",
      "\u001b[32m2024-Dec-03 23:37:45.77\u001b[0m| \u001b[1mINFO    \u001b[0m | \u001b[36mkartiks-MacBook-Air.local\u001b[0m| \u001b[36msuperduper.base.apply\u001b[0m:\u001b[36m312 \u001b[0m | \u001b[1mFound new model:embedding:9fd831c2e417411a\u001b[0m\n",
      "\u001b[32m2024-Dec-03 23:37:45.77\u001b[0m| \u001b[1mINFO    \u001b[0m | \u001b[36mkartiks-MacBook-Air.local\u001b[0m| \u001b[36msuperduper.base.datalayer\u001b[0m:\u001b[36m621 \u001b[0m | \u001b[1mComponent (listener, embedding) not found in cache, loading from db\u001b[0m\n",
      "\u001b[32m2024-Dec-03 23:37:45.77\u001b[0m| \u001b[1mINFO    \u001b[0m | \u001b[36mkartiks-MacBook-Air.local\u001b[0m| \u001b[36msuperduper.base.datalayer\u001b[0m:\u001b[36m627 \u001b[0m | \u001b[1mLoad (('listener', 'embedding')) from metadata...\u001b[0m\n",
      "\u001b[32m2024-Dec-03 23:37:45.77\u001b[0m| \u001b[1mINFO    \u001b[0m | \u001b[36mkartiks-MacBook-Air.local\u001b[0m| \u001b[36msuperduper.base.datalayer\u001b[0m:\u001b[36m621 \u001b[0m | \u001b[1mComponent (datatype, vector[1536]) not found in cache, loading from db\u001b[0m\n",
      "\u001b[32m2024-Dec-03 23:37:45.77\u001b[0m| \u001b[1mINFO    \u001b[0m | \u001b[36mkartiks-MacBook-Air.local\u001b[0m| \u001b[36msuperduper.base.datalayer\u001b[0m:\u001b[36m627 \u001b[0m | \u001b[1mLoad (('datatype', 'vector[1536]')) from metadata...\u001b[0m\n",
      "\u001b[32m2024-Dec-03 23:37:45.77\u001b[0m| \u001b[1mINFO    \u001b[0m | \u001b[36mkartiks-MacBook-Air.local\u001b[0m| \u001b[36msuperduper.base.apply\u001b[0m:\u001b[36m312 \u001b[0m | \u001b[1mFound new datatype:vector[1536]:3619f576961e4665\u001b[0m\n",
      "\u001b[32m2024-Dec-03 23:37:45.77\u001b[0m| \u001b[1mINFO    \u001b[0m | \u001b[36mkartiks-MacBook-Air.local\u001b[0m| \u001b[36msuperduper.base.datalayer\u001b[0m:\u001b[36m621 \u001b[0m | \u001b[1mComponent (schema, _schema/_outputs__embedding__7974d9b7c0ec4635) not found in cache, loading from db\u001b[0m\n",
      "\u001b[32m2024-Dec-03 23:37:45.77\u001b[0m| \u001b[1mINFO    \u001b[0m | \u001b[36mkartiks-MacBook-Air.local\u001b[0m| \u001b[36msuperduper.base.datalayer\u001b[0m:\u001b[36m627 \u001b[0m | \u001b[1mLoad (('schema', '_schema/_outputs__embedding__7974d9b7c0ec4635')) from metadata...\u001b[0m\n",
      "\u001b[32m2024-Dec-03 23:37:45.78\u001b[0m| \u001b[33m\u001b[1mWARNING \u001b[0m | \u001b[36mkartiks-MacBook-Air.local\u001b[0m| \u001b[36msuperduper.base.document\u001b[0m:\u001b[36m558 \u001b[0m | \u001b[33m\u001b[1mLeaf ID already exists\u001b[0m\n",
      "\u001b[32m2024-Dec-03 23:37:45.78\u001b[0m| \u001b[1mINFO    \u001b[0m | \u001b[36mkartiks-MacBook-Air.local\u001b[0m| \u001b[36msuperduper.base.apply\u001b[0m:\u001b[36m312 \u001b[0m | \u001b[1mFound new schema:_schema/_outputs__embedding__7974d9b7c0ec4635:4b0e021e66a84bc1\u001b[0m\n",
      "\u001b[32m2024-Dec-03 23:37:45.78\u001b[0m| \u001b[1mINFO    \u001b[0m | \u001b[36mkartiks-MacBook-Air.local\u001b[0m| \u001b[36msuperduper.base.datalayer\u001b[0m:\u001b[36m621 \u001b[0m | \u001b[1mComponent (table, _outputs__embedding__7974d9b7c0ec4635) not found in cache, loading from db\u001b[0m\n",
      "\u001b[32m2024-Dec-03 23:37:45.78\u001b[0m| \u001b[1mINFO    \u001b[0m | \u001b[36mkartiks-MacBook-Air.local\u001b[0m| \u001b[36msuperduper.base.datalayer\u001b[0m:\u001b[36m627 \u001b[0m | \u001b[1mLoad (('table', '_outputs__embedding__7974d9b7c0ec4635')) from metadata...\u001b[0m\n",
      "\u001b[32m2024-Dec-03 23:37:45.78\u001b[0m| \u001b[1mINFO    \u001b[0m | \u001b[36mkartiks-MacBook-Air.local\u001b[0m| \u001b[36msuperduper.base.apply\u001b[0m:\u001b[36m312 \u001b[0m | \u001b[1mFound new table:_outputs__embedding__7974d9b7c0ec4635:d0602d7f46a7462b\u001b[0m\n",
      "\u001b[32m2024-Dec-03 23:37:45.78\u001b[0m| \u001b[33m\u001b[1mWARNING \u001b[0m | \u001b[36mkartiks-MacBook-Air.local\u001b[0m| \u001b[36msuperduper.base.document\u001b[0m:\u001b[36m558 \u001b[0m | \u001b[33m\u001b[1mLeaf ID already exists\u001b[0m\n",
      "\u001b[32m2024-Dec-03 23:37:45.78\u001b[0m| \u001b[1mINFO    \u001b[0m | \u001b[36mkartiks-MacBook-Air.local\u001b[0m| \u001b[36msuperduper.base.apply\u001b[0m:\u001b[36m312 \u001b[0m | \u001b[1mFound new listener:embedding:7974d9b7c0ec4635\u001b[0m\n",
      "\u001b[32m2024-Dec-03 23:37:45.78\u001b[0m| \u001b[1mINFO    \u001b[0m | \u001b[36mkartiks-MacBook-Air.local\u001b[0m| \u001b[36msuperduper.base.datalayer\u001b[0m:\u001b[36m621 \u001b[0m | \u001b[1mComponent (vector_index, vector-index) not found in cache, loading from db\u001b[0m\n",
      "\u001b[32m2024-Dec-03 23:37:45.78\u001b[0m| \u001b[1mINFO    \u001b[0m | \u001b[36mkartiks-MacBook-Air.local\u001b[0m| \u001b[36msuperduper.base.datalayer\u001b[0m:\u001b[36m627 \u001b[0m | \u001b[1mLoad (('vector_index', 'vector-index')) from metadata...\u001b[0m\n",
      "\u001b[32m2024-Dec-03 23:37:45.78\u001b[0m| \u001b[1mINFO    \u001b[0m | \u001b[36mkartiks-MacBook-Air.local\u001b[0m| \u001b[36msuperduper.base.apply\u001b[0m:\u001b[36m312 \u001b[0m | \u001b[1mFound new vector_index:vector-index:e87a555abc8d4d65\u001b[0m\n",
      "\u001b[32m2024-Dec-03 23:37:45.78\u001b[0m| \u001b[1mINFO    \u001b[0m | \u001b[36mkartiks-MacBook-Air.local\u001b[0m| \u001b[36msuperduper.base.apply\u001b[0m:\u001b[36m73  \u001b[0m | \u001b[1mFound these changes and/ or additions that need to be made:\u001b[0m\n",
      "\u001b[32m2024-Dec-03 23:37:45.78\u001b[0m| \u001b[1mINFO    \u001b[0m | \u001b[36mkartiks-MacBook-Air.local\u001b[0m| \u001b[36msuperduper.base.apply\u001b[0m:\u001b[36m75  \u001b[0m | \u001b[1m----------------------------------------------------------------------------------------------------\u001b[0m\n",
      "\u001b[32m2024-Dec-03 23:37:45.78\u001b[0m| \u001b[1mINFO    \u001b[0m | \u001b[36mkartiks-MacBook-Air.local\u001b[0m| \u001b[36msuperduper.base.apply\u001b[0m:\u001b[36m76  \u001b[0m | \u001b[1mMETADATA EVENTS:\u001b[0m\n",
      "\u001b[32m2024-Dec-03 23:37:45.78\u001b[0m| \u001b[1mINFO    \u001b[0m | \u001b[36mkartiks-MacBook-Air.local\u001b[0m| \u001b[36msuperduper.base.apply\u001b[0m:\u001b[36m77  \u001b[0m | \u001b[1m----------------------------------------------------------------------------------------------------\u001b[0m\n",
      "\u001b[32m2024-Dec-03 23:37:45.78\u001b[0m| \u001b[1mINFO    \u001b[0m | \u001b[36mkartiks-MacBook-Air.local\u001b[0m| \u001b[36msuperduper.base.apply\u001b[0m:\u001b[36m84  \u001b[0m | \u001b[1m[0]: datatype:vector[1536]:3619f576961e4665: create ~ [4]\u001b[0m\n",
      "\u001b[32m2024-Dec-03 23:37:45.78\u001b[0m| \u001b[1mINFO    \u001b[0m | \u001b[36mkartiks-MacBook-Air.local\u001b[0m| \u001b[36msuperduper.base.apply\u001b[0m:\u001b[36m84  \u001b[0m | \u001b[1m[1]: model:text-embedding-ada-002:d2ba76d089ce47b1: create ~ [3]\u001b[0m\n",
      "\u001b[32m2024-Dec-03 23:37:45.78\u001b[0m| \u001b[1mINFO    \u001b[0m | \u001b[36mkartiks-MacBook-Air.local\u001b[0m| \u001b[36msuperduper.base.apply\u001b[0m:\u001b[36m84  \u001b[0m | \u001b[1m[2]: model:sentence-transformers-embedding:78127779f1ce4274: create ~ [3]\u001b[0m\n",
      "\u001b[32m2024-Dec-03 23:37:45.78\u001b[0m| \u001b[1mINFO    \u001b[0m | \u001b[36mkartiks-MacBook-Air.local\u001b[0m| \u001b[36msuperduper.base.apply\u001b[0m:\u001b[36m84  \u001b[0m | \u001b[1m[3]: model:embedding:9fd831c2e417411a: create ~ [6]\u001b[0m\n",
      "\u001b[32m2024-Dec-03 23:37:45.78\u001b[0m| \u001b[1mINFO    \u001b[0m | \u001b[36mkartiks-MacBook-Air.local\u001b[0m| \u001b[36msuperduper.base.apply\u001b[0m:\u001b[36m84  \u001b[0m | \u001b[1m[4]: schema:_schema/_outputs__embedding__7974d9b7c0ec4635:4b0e021e66a84bc1: create ~ [5]\u001b[0m\n",
      "\u001b[32m2024-Dec-03 23:37:45.78\u001b[0m| \u001b[1mINFO    \u001b[0m | \u001b[36mkartiks-MacBook-Air.local\u001b[0m| \u001b[36msuperduper.base.apply\u001b[0m:\u001b[36m84  \u001b[0m | \u001b[1m[5]: table:_outputs__embedding__7974d9b7c0ec4635:d0602d7f46a7462b: create ~ [6]\u001b[0m\n",
      "\u001b[32m2024-Dec-03 23:37:45.78\u001b[0m| \u001b[1mINFO    \u001b[0m | \u001b[36mkartiks-MacBook-Air.local\u001b[0m| \u001b[36msuperduper.base.apply\u001b[0m:\u001b[36m84  \u001b[0m | \u001b[1m[6]: listener:embedding:7974d9b7c0ec4635: create ~ [7]\u001b[0m\n",
      "\u001b[32m2024-Dec-03 23:37:45.78\u001b[0m| \u001b[1mINFO    \u001b[0m | \u001b[36mkartiks-MacBook-Air.local\u001b[0m| \u001b[36msuperduper.base.apply\u001b[0m:\u001b[36m88  \u001b[0m | \u001b[1m[7]: vector_index:vector-index:e87a555abc8d4d65: create\u001b[0m\n",
      "\u001b[32m2024-Dec-03 23:37:45.78\u001b[0m| \u001b[1mINFO    \u001b[0m | \u001b[36mkartiks-MacBook-Air.local\u001b[0m| \u001b[36msuperduper.base.apply\u001b[0m:\u001b[36m90  \u001b[0m | \u001b[1m----------------------------------------------------------------------------------------------------\u001b[0m\n",
      "\u001b[32m2024-Dec-03 23:37:45.78\u001b[0m| \u001b[1mINFO    \u001b[0m | \u001b[36mkartiks-MacBook-Air.local\u001b[0m| \u001b[36msuperduper.base.apply\u001b[0m:\u001b[36m91  \u001b[0m | \u001b[1mJOBS EVENTS:\u001b[0m\n",
      "\u001b[32m2024-Dec-03 23:37:45.78\u001b[0m| \u001b[1mINFO    \u001b[0m | \u001b[36mkartiks-MacBook-Air.local\u001b[0m| \u001b[36msuperduper.base.apply\u001b[0m:\u001b[36m92  \u001b[0m | \u001b[1m----------------------------------------------------------------------------------------------------\u001b[0m\n",
      "\u001b[32m2024-Dec-03 23:37:45.78\u001b[0m| \u001b[1mINFO    \u001b[0m | \u001b[36mkartiks-MacBook-Air.local\u001b[0m| \u001b[36msuperduper.base.apply\u001b[0m:\u001b[36m105 \u001b[0m | \u001b[1m[0]: listener:embedding:7974d9b7c0ec4635.run: run\u001b[0m\n",
      "\u001b[32m2024-Dec-03 23:37:45.78\u001b[0m| \u001b[1mINFO    \u001b[0m | \u001b[36mkartiks-MacBook-Air.local\u001b[0m| \u001b[36msuperduper.base.apply\u001b[0m:\u001b[36m100 \u001b[0m | \u001b[1m[1]: listener:embedding:7974d9b7c0ec4635.set_status: set_status ~ [0]\u001b[0m\n",
      "\u001b[32m2024-Dec-03 23:37:45.78\u001b[0m| \u001b[1mINFO    \u001b[0m | \u001b[36mkartiks-MacBook-Air.local\u001b[0m| \u001b[36msuperduper.base.apply\u001b[0m:\u001b[36m100 \u001b[0m | \u001b[1m[2]: vector_index:vector-index:e87a555abc8d4d65.copy_vectors: copy_vectors ~ [0,1]\u001b[0m\n",
      "\u001b[32m2024-Dec-03 23:37:45.78\u001b[0m| \u001b[1mINFO    \u001b[0m | \u001b[36mkartiks-MacBook-Air.local\u001b[0m| \u001b[36msuperduper.base.apply\u001b[0m:\u001b[36m100 \u001b[0m | \u001b[1m[3]: vector_index:vector-index:e87a555abc8d4d65.set_status: set_status ~ [2]\u001b[0m\n",
      "\u001b[32m2024-Dec-03 23:37:45.78\u001b[0m| \u001b[1mINFO    \u001b[0m | \u001b[36mkartiks-MacBook-Air.local\u001b[0m| \u001b[36msuperduper.base.apply\u001b[0m:\u001b[36m107 \u001b[0m | \u001b[1m----------------------------------------------------------------------------------------------------\u001b[0m\n",
      "\u001b[32m2024-Dec-03 23:37:45.79\u001b[0m| \u001b[1mINFO    \u001b[0m | \u001b[36mkartiks-MacBook-Air.local\u001b[0m| \u001b[36msuperduper.base.datalayer\u001b[0m:\u001b[36m590 \u001b[0m | \u001b[1mComponent 3619f576961e4665 not found in cache, loading from db with uuid\u001b[0m\n",
      "\u001b[32m2024-Dec-03 23:37:45.79\u001b[0m| \u001b[1mINFO    \u001b[0m | \u001b[36mkartiks-MacBook-Air.local\u001b[0m| \u001b[36msuperduper.base.datalayer\u001b[0m:\u001b[36m612 \u001b[0m | \u001b[1mAdding datatype:vector[1536]:3619f576961e4665 to cache\u001b[0m\n",
      "\u001b[32m2024-Dec-03 23:37:45.79\u001b[0m| \u001b[1mINFO    \u001b[0m | \u001b[36mkartiks-MacBook-Air.local\u001b[0m| \u001b[36msuperduper.components.component\u001b[0m:\u001b[36m594 \u001b[0m | \u001b[1mAdding datatype: vector[1536] to cache\u001b[0m\n",
      "\u001b[32m2024-Dec-03 23:37:45.79\u001b[0m| \u001b[1mINFO    \u001b[0m | \u001b[36mkartiks-MacBook-Air.local\u001b[0m| \u001b[36msuperduper.base.datalayer\u001b[0m:\u001b[36m590 \u001b[0m | \u001b[1mComponent d2ba76d089ce47b1 not found in cache, loading from db with uuid\u001b[0m\n",
      "\u001b[32m2024-Dec-03 23:37:45.81\u001b[0m| \u001b[1mINFO    \u001b[0m | \u001b[36mkartiks-MacBook-Air.local\u001b[0m| \u001b[36msuperduper.base.datalayer\u001b[0m:\u001b[36m612 \u001b[0m | \u001b[1mAdding model:text-embedding-ada-002:d2ba76d089ce47b1 to cache\u001b[0m\n",
      "\u001b[32m2024-Dec-03 23:37:45.81\u001b[0m| \u001b[1mINFO    \u001b[0m | \u001b[36mkartiks-MacBook-Air.local\u001b[0m| \u001b[36msuperduper.components.component\u001b[0m:\u001b[36m594 \u001b[0m | \u001b[1mAdding model: text-embedding-ada-002 to cache\u001b[0m\n",
      "\u001b[32m2024-Dec-03 23:37:45.81\u001b[0m| \u001b[1mINFO    \u001b[0m | \u001b[36mkartiks-MacBook-Air.local\u001b[0m| \u001b[36msuperduper.base.datalayer\u001b[0m:\u001b[36m590 \u001b[0m | \u001b[1mComponent 78127779f1ce4274 not found in cache, loading from db with uuid\u001b[0m\n",
      "\u001b[32m2024-Dec-03 23:37:50.31\u001b[0m| \u001b[1mINFO    \u001b[0m | \u001b[36mkartiks-MacBook-Air.local\u001b[0m| \u001b[36msuperduper.base.datalayer\u001b[0m:\u001b[36m612 \u001b[0m | \u001b[1mAdding model:sentence-transformers-embedding:78127779f1ce4274 to cache\u001b[0m\n",
      "\u001b[32m2024-Dec-03 23:37:50.32\u001b[0m| \u001b[1mINFO    \u001b[0m | \u001b[36mkartiks-MacBook-Air.local\u001b[0m| \u001b[36msuperduper.components.component\u001b[0m:\u001b[36m594 \u001b[0m | \u001b[1mAdding model: sentence-transformers-embedding to cache\u001b[0m\n",
      "\u001b[32m2024-Dec-03 23:37:50.33\u001b[0m| \u001b[1mINFO    \u001b[0m | \u001b[36mkartiks-MacBook-Air.local\u001b[0m| \u001b[36msuperduper.base.datalayer\u001b[0m:\u001b[36m590 \u001b[0m | \u001b[1mComponent 9fd831c2e417411a not found in cache, loading from db with uuid\u001b[0m\n",
      "\u001b[32m2024-Dec-03 23:37:50.34\u001b[0m| \u001b[1mINFO    \u001b[0m | \u001b[36mkartiks-MacBook-Air.local\u001b[0m| \u001b[36msuperduper.base.datalayer\u001b[0m:\u001b[36m612 \u001b[0m | \u001b[1mAdding model:embedding:9fd831c2e417411a to cache\u001b[0m\n",
      "\u001b[32m2024-Dec-03 23:37:50.35\u001b[0m| \u001b[1mINFO    \u001b[0m | \u001b[36mkartiks-MacBook-Air.local\u001b[0m| \u001b[36msuperduper.components.component\u001b[0m:\u001b[36m594 \u001b[0m | \u001b[1mAdding model: embedding to cache\u001b[0m\n",
      "\u001b[32m2024-Dec-03 23:37:50.35\u001b[0m| \u001b[1mINFO    \u001b[0m | \u001b[36mkartiks-MacBook-Air.local\u001b[0m| \u001b[36msuperduper.base.datalayer\u001b[0m:\u001b[36m590 \u001b[0m | \u001b[1mComponent 4b0e021e66a84bc1 not found in cache, loading from db with uuid\u001b[0m\n",
      "\u001b[32m2024-Dec-03 23:37:50.36\u001b[0m| \u001b[1mINFO    \u001b[0m | \u001b[36mkartiks-MacBook-Air.local\u001b[0m| \u001b[36msuperduper.base.datalayer\u001b[0m:\u001b[36m612 \u001b[0m | \u001b[1mAdding schema:_schema/_outputs__embedding__7974d9b7c0ec4635:4b0e021e66a84bc1 to cache\u001b[0m\n",
      "\u001b[32m2024-Dec-03 23:37:50.37\u001b[0m| \u001b[1mINFO    \u001b[0m | \u001b[36mkartiks-MacBook-Air.local\u001b[0m| \u001b[36msuperduper.components.component\u001b[0m:\u001b[36m594 \u001b[0m | \u001b[1mAdding schema: _schema/_outputs__embedding__7974d9b7c0ec4635 to cache\u001b[0m\n",
      "\u001b[32m2024-Dec-03 23:37:50.38\u001b[0m| \u001b[1mINFO    \u001b[0m | \u001b[36mkartiks-MacBook-Air.local\u001b[0m| \u001b[36msuperduper.base.datalayer\u001b[0m:\u001b[36m590 \u001b[0m | \u001b[1mComponent d0602d7f46a7462b not found in cache, loading from db with uuid\u001b[0m\n",
      "\u001b[32m2024-Dec-03 23:37:50.39\u001b[0m| \u001b[1mINFO    \u001b[0m | \u001b[36mkartiks-MacBook-Air.local\u001b[0m| \u001b[36msuperduper.base.datalayer\u001b[0m:\u001b[36m612 \u001b[0m | \u001b[1mAdding table:_outputs__embedding__7974d9b7c0ec4635:d0602d7f46a7462b to cache\u001b[0m\n",
      "\u001b[32m2024-Dec-03 23:37:50.40\u001b[0m| \u001b[1mINFO    \u001b[0m | \u001b[36mkartiks-MacBook-Air.local\u001b[0m| \u001b[36msuperduper.base.datalayer\u001b[0m:\u001b[36m590 \u001b[0m | \u001b[1mComponent 7974d9b7c0ec4635 not found in cache, loading from db with uuid\u001b[0m\n",
      "\u001b[32m2024-Dec-03 23:37:50.42\u001b[0m| \u001b[1mINFO    \u001b[0m | \u001b[36mkartiks-MacBook-Air.local\u001b[0m| \u001b[36msuperduper.base.datalayer\u001b[0m:\u001b[36m612 \u001b[0m | \u001b[1mAdding listener:embedding:7974d9b7c0ec4635 to cache\u001b[0m\n",
      "\u001b[32m2024-Dec-03 23:37:50.43\u001b[0m| \u001b[1mINFO    \u001b[0m | \u001b[36mkartiks-MacBook-Air.local\u001b[0m| \u001b[36msuperduper.components.component\u001b[0m:\u001b[36m594 \u001b[0m | \u001b[1mAdding listener: embedding to cache\u001b[0m\n",
      "\u001b[32m2024-Dec-03 23:37:50.44\u001b[0m| \u001b[1mINFO    \u001b[0m | \u001b[36mkartiks-MacBook-Air.local\u001b[0m| \u001b[36msuperduper.base.datalayer\u001b[0m:\u001b[36m590 \u001b[0m | \u001b[1mComponent e87a555abc8d4d65 not found in cache, loading from db with uuid\u001b[0m\n",
      "\u001b[32m2024-Dec-03 23:37:50.45\u001b[0m| \u001b[1mINFO    \u001b[0m | \u001b[36mkartiks-MacBook-Air.local\u001b[0m| \u001b[36msuperduper.base.datalayer\u001b[0m:\u001b[36m612 \u001b[0m | \u001b[1mAdding vector_index:vector-index:e87a555abc8d4d65 to cache\u001b[0m\n",
      "\u001b[32m2024-Dec-03 23:37:50.45\u001b[0m| \u001b[1mINFO    \u001b[0m | \u001b[36mkartiks-MacBook-Air.local\u001b[0m| \u001b[36msuperduper.components.component\u001b[0m:\u001b[36m594 \u001b[0m | \u001b[1mAdding vector_index: vector-index to cache\u001b[0m\n",
      "\u001b[32m2024-Dec-03 23:37:50.46\u001b[0m| \u001b[1mINFO    \u001b[0m | \u001b[36mkartiks-MacBook-Air.local\u001b[0m| \u001b[36msuperduper.components.model\u001b[0m:\u001b[36m532 \u001b[0m | \u001b[1mRequesting prediction in db - [embedding] with predict_id embedding__7974d9b7c0ec4635\n",
      "\u001b[0m\n"
     ]
    },
    {
     "name": "stderr",
     "output_type": "stream",
     "text": [
      "0it [00:00, ?it/s]\n"
     ]
    }
   ],
   "source": [
    "from superduper_openai.model import OpenAIEmbedding\n",
    "from superduper import VectorIndex\n",
    "\n",
    "listener_embedding = model_embedding.to_listener(\n",
    "    key=f\"{listener_chunk.outputs}.txt\",\n",
    "    select=db[listener_chunk.outputs].select(),\n",
    ")\n",
    "\n",
    "vector_index = VectorIndex(\n",
    "    identifier=\"vector-index\",\n",
    "    indexing_listener=listener_embedding,\n",
    ")\n",
    "\n",
    "if APPLY:\n",
    "    db.apply(vector_index, force=True)\n"
   ]
  },
  {
   "cell_type": "markdown",
   "id": "4f991fc6-b0e2-48bf-9158-49281ceb1c7e",
   "metadata": {},
   "source": [
    "## Create a plugin\n",
    "\n",
    "When applying the processor, saves the plugin in the database, thereby saving the related dependencies as well.\n",
    "\n",
    "The processor will integrate the returned chunks information with the images, and return a visualized image.​"
   ]
  },
  {
   "cell_type": "code",
   "execution_count": 62,
   "id": "6c21a46e-3110-4ca9-b250-f4f87c8b144c",
   "metadata": {},
   "outputs": [],
   "source": [
    "from superduper import Plugin\n",
    "from utils import Processor\n",
    "\n",
    "processor = Processor(\n",
    "    identifier=\"processor\",\n",
    "    db=db,\n",
    "    chunk_key=listener_chunk.outputs,\n",
    "    split_image_key=listener_split_image.outputs,\n",
    "    plugins=[Plugin(path=\"./utils.py\")],\n",
    ")"
   ]
  },
  {
   "cell_type": "markdown",
   "id": "f8f43f76-a186-4c9f-9b0c-34caefab20d8",
   "metadata": {},
   "source": [
    "## Create a RAG model\n",
    "\n",
    "Create a RAG model to perform retrieval-augmented generation (RAG) and return the results."
   ]
  },
  {
   "cell_type": "code",
   "execution_count": 63,
   "id": "95d45bb3-c400-478f-9c03-1ef9f9364a5c",
   "metadata": {},
   "outputs": [],
   "source": [
    "from superduper import Model, logging\n",
    "\n",
    "\n",
    "class Rag(Model):\n",
    "    llm_model: Model\n",
    "    vector_index_name: str\n",
    "    prompt_template: str\n",
    "    processor: None | Model = None\n",
    "\n",
    "    def __post_init__(self, *args, **kwargs):\n",
    "        assert \"{context}\" in self.prompt_template, 'The prompt_template must include \"{context}\"'\n",
    "        assert \"{query}\" in self.prompt_template, 'The prompt_template must include \"{query}\"'\n",
    "        super().__post_init__(*args, **kwargs)\n",
    "\n",
    "    def init(self, db=None):\n",
    "        db = db or self.db\n",
    "        self.vector_index = self.db.load(\"vector_index\", self.vector_index_name)\n",
    "        super().init(db=db)\n",
    "        \n",
    "    \n",
    "    def predict(self, query, top_k=5, format_result=False):\n",
    "        vector_search_out = self.vector_search(query, top_k=top_k)\n",
    "        key = self.vector_index.indexing_listener.key\n",
    "        context = \"\\n\\n---\\n\\n\".join([x[key] for x in vector_search_out])\n",
    "        \n",
    "        prompt = self.prompt_template.format(context=context, query=query)\n",
    "        output = self.llm_model.predict(prompt)\n",
    "        result = {\n",
    "            \"answer\": output,\n",
    "            \"docs\": vector_search_out,\n",
    "        }\n",
    "        if format_result and self.processor:\n",
    "            result[\"images\"] = list(self.processor.predict(\n",
    "                vector_search_out,\n",
    "                match_text=output,\n",
    "            ))\n",
    "        return result\n",
    "\n",
    "    def vector_search(self, query, top_k=5, format_result=False):\n",
    "        logging.info(f\"Vector search query: {query}\")\n",
    "        select = self.db[self.vector_index.indexing_listener.select.table].like(\n",
    "            {self.vector_index.indexing_listener.key:query},\n",
    "            vector_index=self.vector_index.identifier, \n",
    "            n=top_k,\n",
    "        ).select()\n",
    "        out = select.execute()\n",
    "        if out:\n",
    "            out = sorted(out, key=lambda x: x[\"score\"], reverse=True)\n",
    "        return out"
   ]
  },
  {
   "cell_type": "code",
   "execution_count": 64,
   "id": "114f89ce-7d3e-42be-831a-85c77b9379de",
   "metadata": {},
   "outputs": [],
   "source": [
    "from superduper_openai import OpenAIChatCompletion\n",
    "\n",
    "llm_openai = OpenAIChatCompletion(identifier='llm-openai', model='gpt-3.5-turbo')"
   ]
  },
  {
   "cell_type": "code",
   "execution_count": 65,
   "id": "2ec90c63-a64a-42cd-ba14-8fa5de06b7ca",
   "metadata": {},
   "outputs": [
    {
     "ename": "TypeError",
     "evalue": "Anthropic.__post_init__() missing 1 required positional argument: 'example'",
     "output_type": "error",
     "traceback": [
      "\u001b[0;31m---------------------------------------------------------------------------\u001b[0m",
      "\u001b[0;31mTypeError\u001b[0m                                 Traceback (most recent call last)",
      "Cell \u001b[0;32mIn[65], line 8\u001b[0m\n\u001b[1;32m      1\u001b[0m \u001b[38;5;28;01mfrom\u001b[39;00m \u001b[38;5;21;01msuperduper_anthropic\u001b[39;00m \u001b[38;5;28;01mimport\u001b[39;00m AnthropicCompletions\n\u001b[1;32m      3\u001b[0m predict_kwargs \u001b[38;5;241m=\u001b[39m {\n\u001b[1;32m      4\u001b[0m     \u001b[38;5;124m\"\u001b[39m\u001b[38;5;124mmax_tokens\u001b[39m\u001b[38;5;124m\"\u001b[39m: \u001b[38;5;241m1024\u001b[39m,\n\u001b[1;32m      5\u001b[0m     \u001b[38;5;124m\"\u001b[39m\u001b[38;5;124mtemperature\u001b[39m\u001b[38;5;124m\"\u001b[39m: \u001b[38;5;241m0.8\u001b[39m,\n\u001b[1;32m      6\u001b[0m }\n\u001b[0;32m----> 8\u001b[0m llm_anthropic \u001b[38;5;241m=\u001b[39m \u001b[43mAnthropicCompletions\u001b[49m\u001b[43m(\u001b[49m\u001b[43midentifier\u001b[49m\u001b[38;5;241;43m=\u001b[39;49m\u001b[38;5;124;43m'\u001b[39;49m\u001b[38;5;124;43mllm-anthropic\u001b[39;49m\u001b[38;5;124;43m'\u001b[39;49m\u001b[43m,\u001b[49m\u001b[43m \u001b[49m\u001b[43mmodel\u001b[49m\u001b[38;5;241;43m=\u001b[39;49m\u001b[38;5;124;43m'\u001b[39;49m\u001b[38;5;124;43mclaude-2.1\u001b[39;49m\u001b[38;5;124;43m'\u001b[39;49m\u001b[43m,\u001b[49m\u001b[43m \u001b[49m\u001b[43mpredict_kwargs\u001b[49m\u001b[38;5;241;43m=\u001b[39;49m\u001b[43mpredict_kwargs\u001b[49m\u001b[43m)\u001b[49m\n",
      "File \u001b[0;32m<string>:27\u001b[0m, in \u001b[0;36m__init__\u001b[0;34m(self, identifier, db, uuid, upstream, plugins, cache, status, build_variables, build_template, signature, datatype, output_schema, model_update_kwargs, predict_kwargs, compute_kwargs, validation, metric_values, num_workers, serve, trainer, example, deploy, model, max_batch_size, client_kwargs, prompt)\u001b[0m\n",
      "\u001b[0;31mTypeError\u001b[0m: Anthropic.__post_init__() missing 1 required positional argument: 'example'"
     ]
    }
   ],
   "source": [
    "from superduper_anthropic import AnthropicCompletions\n",
    "\n",
    "predict_kwargs = {\n",
    "    \"max_tokens\": 1024,\n",
    "    \"temperature\": 0.8,\n",
    "}\n",
    "\n",
    "llm_anthropic = AnthropicCompletions(identifier='llm-anthropic', model='claude-2.1', predict_kwargs=predict_kwargs)"
   ]
  },
  {
   "cell_type": "code",
   "execution_count": null,
   "id": "04230ea7-0432-483e-831d-21681c4d443f",
   "metadata": {},
   "outputs": [],
   "source": [
    "from superduper_vllm import VllmCompletion\n",
    "\n",
    "predict_kwargs = {\n",
    "    \"max_tokens\": 1024,\n",
    "    \"temperature\": 0.8,\n",
    "}\n",
    "\n",
    "llm_vllm = VllmCompletion(\n",
    "    identifier=\"llm-vllm\",\n",
    "    vllm_params={\n",
    "        'model': 'TheBloke/Mistral-7B-Instruct-v0.2-AWQ',\n",
    "        \"gpu_memory_utilization\": 0.7,\n",
    "        \"max_model_len\": 1024,\n",
    "        \"quantization\": \"awq\",\n",
    "    },\n",
    "    predict_kwargs=predict_kwargs,\n",
    ")"
   ]
  },
  {
   "cell_type": "code",
   "execution_count": 66,
   "id": "7be8576d-2363-46a6-b326-b1e5f6cf0e20",
   "metadata": {},
   "outputs": [],
   "source": [
    "llm = ModelRouter(\n",
    "    'llm',\n",
    "    models={\n",
    "        'openai': llm_openai,\n",
    "        #'anthropic': llm_anthropic,\n",
    "        #'vllm': llm_vllm,\n",
    "    },\n",
    "    model='<var:llm_model>' if not APPLY else 'openai',\n",
    ")"
   ]
  },
  {
   "cell_type": "code",
   "execution_count": 67,
   "id": "6697652b-550b-4e48-b456-8c1b28554139",
   "metadata": {},
   "outputs": [],
   "source": [
    "from superduper_openai.model import OpenAIChatCompletion\n",
    "\n",
    "prompt_template = (\n",
    "    \"The following is a document and question\\n\"\n",
    "    \"Only provide a very concise answer\\n\"\n",
    "    \"Context:\\n\\n\"\n",
    "    \"{context}\\n\\n\"\n",
    "    \"Here's the question:{query}\\n\"\n",
    "    \"answer:\"\n",
    ")\n",
    "\n",
    "rag = Rag(identifier=\"rag\", llm_model=llm, vector_index_name=vector_index.identifier, prompt_template=prompt_template, db=db, processor=processor)"
   ]
  },
  {
   "cell_type": "code",
   "execution_count": 68,
   "id": "ecb81f74-1036-4a1f-87ec-023ce8dd2a0f",
   "metadata": {},
   "outputs": [
    {
     "name": "stdout",
     "output_type": "stream",
     "text": [
      "\u001b[32m2024-Dec-03 23:37:58.69\u001b[0m| \u001b[1mINFO    \u001b[0m | \u001b[36mkartiks-MacBook-Air.local\u001b[0m| \u001b[36msuperduper.base.datalayer\u001b[0m:\u001b[36m621 \u001b[0m | \u001b[1mComponent (model, llm-openai) not found in cache, loading from db\u001b[0m\n",
      "\u001b[32m2024-Dec-03 23:37:58.69\u001b[0m| \u001b[1mINFO    \u001b[0m | \u001b[36mkartiks-MacBook-Air.local\u001b[0m| \u001b[36msuperduper.base.datalayer\u001b[0m:\u001b[36m627 \u001b[0m | \u001b[1mLoad (('model', 'llm-openai')) from metadata...\u001b[0m\n",
      "\u001b[32m2024-Dec-03 23:37:58.69\u001b[0m| \u001b[1mINFO    \u001b[0m | \u001b[36mkartiks-MacBook-Air.local\u001b[0m| \u001b[36msuperduper.base.apply\u001b[0m:\u001b[36m312 \u001b[0m | \u001b[1mFound new model:llm-openai:a0698b169cd14975\u001b[0m\n",
      "\u001b[32m2024-Dec-03 23:37:58.69\u001b[0m| \u001b[1mINFO    \u001b[0m | \u001b[36mkartiks-MacBook-Air.local\u001b[0m| \u001b[36msuperduper.base.datalayer\u001b[0m:\u001b[36m621 \u001b[0m | \u001b[1mComponent (model, llm) not found in cache, loading from db\u001b[0m\n",
      "\u001b[32m2024-Dec-03 23:37:58.69\u001b[0m| \u001b[1mINFO    \u001b[0m | \u001b[36mkartiks-MacBook-Air.local\u001b[0m| \u001b[36msuperduper.base.datalayer\u001b[0m:\u001b[36m627 \u001b[0m | \u001b[1mLoad (('model', 'llm')) from metadata...\u001b[0m\n",
      "\u001b[32m2024-Dec-03 23:37:58.70\u001b[0m| \u001b[1mINFO    \u001b[0m | \u001b[36mkartiks-MacBook-Air.local\u001b[0m| \u001b[36msuperduper.base.apply\u001b[0m:\u001b[36m312 \u001b[0m | \u001b[1mFound new model:llm:db2b0deac88b4b64\u001b[0m\n",
      "\u001b[32m2024-Dec-03 23:37:58.70\u001b[0m| \u001b[1mINFO    \u001b[0m | \u001b[36mkartiks-MacBook-Air.local\u001b[0m| \u001b[36msuperduper.base.datalayer\u001b[0m:\u001b[36m621 \u001b[0m | \u001b[1mComponent (plugin, plugin-utils_py) not found in cache, loading from db\u001b[0m\n",
      "\u001b[32m2024-Dec-03 23:37:58.70\u001b[0m| \u001b[1mINFO    \u001b[0m | \u001b[36mkartiks-MacBook-Air.local\u001b[0m| \u001b[36msuperduper.base.datalayer\u001b[0m:\u001b[36m627 \u001b[0m | \u001b[1mLoad (('plugin', 'plugin-utils_py')) from metadata...\u001b[0m\n",
      "\u001b[32m2024-Dec-03 23:37:58.70\u001b[0m| \u001b[1mINFO    \u001b[0m | \u001b[36mkartiks-MacBook-Air.local\u001b[0m| \u001b[36msuperduper.base.apply\u001b[0m:\u001b[36m312 \u001b[0m | \u001b[1mFound new plugin:plugin-utils_py:d6e12755ff214d92\u001b[0m\n",
      "\u001b[32m2024-Dec-03 23:37:58.71\u001b[0m| \u001b[1mINFO    \u001b[0m | \u001b[36mkartiks-MacBook-Air.local\u001b[0m| \u001b[36msuperduper_mongodb.artifacts\u001b[0m:\u001b[36m128 \u001b[0m | \u001b[1mUploading file ./utils.py to GridFS with file_id 0b4d904bb053e289821fd6f15ea1911784736167\u001b[0m\n",
      "\u001b[32m2024-Dec-03 23:37:58.73\u001b[0m| \u001b[1mINFO    \u001b[0m | \u001b[36mkartiks-MacBook-Air.local\u001b[0m| \u001b[36msuperduper.base.datalayer\u001b[0m:\u001b[36m621 \u001b[0m | \u001b[1mComponent (model, processor) not found in cache, loading from db\u001b[0m\n",
      "\u001b[32m2024-Dec-03 23:37:58.73\u001b[0m| \u001b[1mINFO    \u001b[0m | \u001b[36mkartiks-MacBook-Air.local\u001b[0m| \u001b[36msuperduper.base.datalayer\u001b[0m:\u001b[36m627 \u001b[0m | \u001b[1mLoad (('model', 'processor')) from metadata...\u001b[0m\n",
      "\u001b[32m2024-Dec-03 23:37:58.73\u001b[0m| \u001b[1mINFO    \u001b[0m | \u001b[36mkartiks-MacBook-Air.local\u001b[0m| \u001b[36msuperduper.base.apply\u001b[0m:\u001b[36m312 \u001b[0m | \u001b[1mFound new model:processor:dc76106aad754bee\u001b[0m\n",
      "\u001b[32m2024-Dec-03 23:37:58.73\u001b[0m| \u001b[1mINFO    \u001b[0m | \u001b[36mkartiks-MacBook-Air.local\u001b[0m| \u001b[36msuperduper.base.datalayer\u001b[0m:\u001b[36m621 \u001b[0m | \u001b[1mComponent (model, rag) not found in cache, loading from db\u001b[0m\n",
      "\u001b[32m2024-Dec-03 23:37:58.73\u001b[0m| \u001b[1mINFO    \u001b[0m | \u001b[36mkartiks-MacBook-Air.local\u001b[0m| \u001b[36msuperduper.base.datalayer\u001b[0m:\u001b[36m627 \u001b[0m | \u001b[1mLoad (('model', 'rag')) from metadata...\u001b[0m\n",
      "\u001b[32m2024-Dec-03 23:37:58.75\u001b[0m| \u001b[1mINFO    \u001b[0m | \u001b[36mkartiks-MacBook-Air.local\u001b[0m| \u001b[36msuperduper.base.apply\u001b[0m:\u001b[36m312 \u001b[0m | \u001b[1mFound new model:rag:5b395ea9057043e3\u001b[0m\n",
      "\u001b[32m2024-Dec-03 23:37:58.75\u001b[0m| \u001b[33m\u001b[1mWARNING \u001b[0m | \u001b[36mkartiks-MacBook-Air.local\u001b[0m| \u001b[36msuperduper_mongodb.artifacts\u001b[0m:\u001b[36m111 \u001b[0m | \u001b[33m\u001b[1mFile 58d51953d88d26b2a08024f471d6896b12063698 already exists\u001b[0m\n",
      "\u001b[32m2024-Dec-03 23:37:58.78\u001b[0m| \u001b[1mINFO    \u001b[0m | \u001b[36mkartiks-MacBook-Air.local\u001b[0m| \u001b[36msuperduper.base.apply\u001b[0m:\u001b[36m73  \u001b[0m | \u001b[1mFound these changes and/ or additions that need to be made:\u001b[0m\n",
      "\u001b[32m2024-Dec-03 23:37:58.78\u001b[0m| \u001b[1mINFO    \u001b[0m | \u001b[36mkartiks-MacBook-Air.local\u001b[0m| \u001b[36msuperduper.base.apply\u001b[0m:\u001b[36m75  \u001b[0m | \u001b[1m----------------------------------------------------------------------------------------------------\u001b[0m\n",
      "\u001b[32m2024-Dec-03 23:37:58.78\u001b[0m| \u001b[1mINFO    \u001b[0m | \u001b[36mkartiks-MacBook-Air.local\u001b[0m| \u001b[36msuperduper.base.apply\u001b[0m:\u001b[36m76  \u001b[0m | \u001b[1mMETADATA EVENTS:\u001b[0m\n",
      "\u001b[32m2024-Dec-03 23:37:58.78\u001b[0m| \u001b[1mINFO    \u001b[0m | \u001b[36mkartiks-MacBook-Air.local\u001b[0m| \u001b[36msuperduper.base.apply\u001b[0m:\u001b[36m77  \u001b[0m | \u001b[1m----------------------------------------------------------------------------------------------------\u001b[0m\n",
      "\u001b[32m2024-Dec-03 23:37:58.78\u001b[0m| \u001b[1mINFO    \u001b[0m | \u001b[36mkartiks-MacBook-Air.local\u001b[0m| \u001b[36msuperduper.base.apply\u001b[0m:\u001b[36m84  \u001b[0m | \u001b[1m[0]: model:llm-openai:a0698b169cd14975: create ~ [1]\u001b[0m\n",
      "\u001b[32m2024-Dec-03 23:37:58.78\u001b[0m| \u001b[1mINFO    \u001b[0m | \u001b[36mkartiks-MacBook-Air.local\u001b[0m| \u001b[36msuperduper.base.apply\u001b[0m:\u001b[36m84  \u001b[0m | \u001b[1m[1]: model:llm:db2b0deac88b4b64: create ~ [4]\u001b[0m\n",
      "\u001b[32m2024-Dec-03 23:37:58.78\u001b[0m| \u001b[1mINFO    \u001b[0m | \u001b[36mkartiks-MacBook-Air.local\u001b[0m| \u001b[36msuperduper.base.apply\u001b[0m:\u001b[36m84  \u001b[0m | \u001b[1m[2]: plugin:plugin-utils_py:d6e12755ff214d92: create ~ [3]\u001b[0m\n",
      "\u001b[32m2024-Dec-03 23:37:58.78\u001b[0m| \u001b[1mINFO    \u001b[0m | \u001b[36mkartiks-MacBook-Air.local\u001b[0m| \u001b[36msuperduper.base.apply\u001b[0m:\u001b[36m84  \u001b[0m | \u001b[1m[3]: model:processor:dc76106aad754bee: create ~ [4]\u001b[0m\n",
      "\u001b[32m2024-Dec-03 23:37:58.78\u001b[0m| \u001b[1mINFO    \u001b[0m | \u001b[36mkartiks-MacBook-Air.local\u001b[0m| \u001b[36msuperduper.base.apply\u001b[0m:\u001b[36m88  \u001b[0m | \u001b[1m[4]: model:rag:5b395ea9057043e3: create\u001b[0m\n",
      "\u001b[32m2024-Dec-03 23:37:58.78\u001b[0m| \u001b[1mINFO    \u001b[0m | \u001b[36mkartiks-MacBook-Air.local\u001b[0m| \u001b[36msuperduper.base.apply\u001b[0m:\u001b[36m90  \u001b[0m | \u001b[1m----------------------------------------------------------------------------------------------------\u001b[0m\n",
      "\u001b[32m2024-Dec-03 23:37:58.78\u001b[0m| \u001b[1mINFO    \u001b[0m | \u001b[36mkartiks-MacBook-Air.local\u001b[0m| \u001b[36msuperduper.base.apply\u001b[0m:\u001b[36m91  \u001b[0m | \u001b[1mJOBS EVENTS:\u001b[0m\n",
      "\u001b[32m2024-Dec-03 23:37:58.78\u001b[0m| \u001b[1mINFO    \u001b[0m | \u001b[36mkartiks-MacBook-Air.local\u001b[0m| \u001b[36msuperduper.base.apply\u001b[0m:\u001b[36m92  \u001b[0m | \u001b[1m----------------------------------------------------------------------------------------------------\u001b[0m\n",
      "\u001b[32m2024-Dec-03 23:37:58.78\u001b[0m| \u001b[1mINFO    \u001b[0m | \u001b[36mkartiks-MacBook-Air.local\u001b[0m| \u001b[36msuperduper.base.apply\u001b[0m:\u001b[36m96  \u001b[0m | \u001b[1mNo job events...\u001b[0m\n",
      "\u001b[32m2024-Dec-03 23:37:58.78\u001b[0m| \u001b[1mINFO    \u001b[0m | \u001b[36mkartiks-MacBook-Air.local\u001b[0m| \u001b[36msuperduper.base.apply\u001b[0m:\u001b[36m107 \u001b[0m | \u001b[1m----------------------------------------------------------------------------------------------------\u001b[0m\n",
      "\u001b[32m2024-Dec-03 23:37:58.78\u001b[0m| \u001b[1mINFO    \u001b[0m | \u001b[36mkartiks-MacBook-Air.local\u001b[0m| \u001b[36msuperduper.base.datalayer\u001b[0m:\u001b[36m590 \u001b[0m | \u001b[1mComponent a0698b169cd14975 not found in cache, loading from db with uuid\u001b[0m\n",
      "\u001b[32m2024-Dec-03 23:37:58.81\u001b[0m| \u001b[1mINFO    \u001b[0m | \u001b[36mkartiks-MacBook-Air.local\u001b[0m| \u001b[36msuperduper.base.datalayer\u001b[0m:\u001b[36m612 \u001b[0m | \u001b[1mAdding model:llm-openai:a0698b169cd14975 to cache\u001b[0m\n",
      "\u001b[32m2024-Dec-03 23:37:58.81\u001b[0m| \u001b[1mINFO    \u001b[0m | \u001b[36mkartiks-MacBook-Air.local\u001b[0m| \u001b[36msuperduper.components.component\u001b[0m:\u001b[36m594 \u001b[0m | \u001b[1mAdding model: llm-openai to cache\u001b[0m\n",
      "\u001b[32m2024-Dec-03 23:37:58.81\u001b[0m| \u001b[1mINFO    \u001b[0m | \u001b[36mkartiks-MacBook-Air.local\u001b[0m| \u001b[36msuperduper.base.datalayer\u001b[0m:\u001b[36m590 \u001b[0m | \u001b[1mComponent db2b0deac88b4b64 not found in cache, loading from db with uuid\u001b[0m\n",
      "\u001b[32m2024-Dec-03 23:37:58.82\u001b[0m| \u001b[1mINFO    \u001b[0m | \u001b[36mkartiks-MacBook-Air.local\u001b[0m| \u001b[36msuperduper.base.datalayer\u001b[0m:\u001b[36m612 \u001b[0m | \u001b[1mAdding model:llm:db2b0deac88b4b64 to cache\u001b[0m\n",
      "\u001b[32m2024-Dec-03 23:37:58.82\u001b[0m| \u001b[1mINFO    \u001b[0m | \u001b[36mkartiks-MacBook-Air.local\u001b[0m| \u001b[36msuperduper.components.component\u001b[0m:\u001b[36m594 \u001b[0m | \u001b[1mAdding model: llm to cache\u001b[0m\n",
      "\u001b[32m2024-Dec-03 23:37:58.82\u001b[0m| \u001b[1mINFO    \u001b[0m | \u001b[36mkartiks-MacBook-Air.local\u001b[0m| \u001b[36msuperduper.base.datalayer\u001b[0m:\u001b[36m590 \u001b[0m | \u001b[1mComponent d6e12755ff214d92 not found in cache, loading from db with uuid\u001b[0m\n",
      "\u001b[32m2024-Dec-03 23:37:58.83\u001b[0m| \u001b[1mINFO    \u001b[0m | \u001b[36mkartiks-MacBook-Air.local\u001b[0m| \u001b[36msuperduper.components.plugin\u001b[0m:\u001b[36m106 \u001b[0m | \u001b[1mPreparing plugin plugin-utils_py\u001b[0m\n",
      "\u001b[32m2024-Dec-03 23:37:58.83\u001b[0m| \u001b[1mINFO    \u001b[0m | \u001b[36mkartiks-MacBook-Air.local\u001b[0m| \u001b[36msuperduper_mongodb.artifacts\u001b[0m:\u001b[36m205 \u001b[0m | \u001b[1mDownloading file_id 0b4d904bb053e289821fd6f15ea1911784736167 to /var/folders/jt/hrc4w0jj3fdcz0hfhg15fq0m0000gn/T/superduper/ArtifactStore/0b4d904bb053e289821fd6f15ea1911784736167/utils.py\u001b[0m\n",
      "\u001b[32m2024-Dec-03 23:37:58.83\u001b[0m| \u001b[1mINFO    \u001b[0m | \u001b[36mkartiks-MacBook-Air.local\u001b[0m| \u001b[36msuperduper_mongodb.artifacts\u001b[0m:\u001b[36m208 \u001b[0m | \u001b[1mDownloaded file_id 0b4d904bb053e289821fd6f15ea1911784736167 to /var/folders/jt/hrc4w0jj3fdcz0hfhg15fq0m0000gn/T/superduper/ArtifactStore/0b4d904bb053e289821fd6f15ea1911784736167/utils.py\u001b[0m\n",
      "\u001b[32m2024-Dec-03 23:37:58.84\u001b[0m| \u001b[1mINFO    \u001b[0m | \u001b[36mkartiks-MacBook-Air.local\u001b[0m| \u001b[36msuperduper.components.plugin\u001b[0m:\u001b[36m113 \u001b[0m | \u001b[1mDownloading plugin plugin-utils_py to /var/folders/jt/hrc4w0jj3fdcz0hfhg15fq0m0000gn/T/superduper/ArtifactStore/0b4d904bb053e289821fd6f15ea1911784736167/utils.py\u001b[0m\n",
      "\u001b[32m2024-Dec-03 23:37:58.84\u001b[0m| \u001b[1mINFO    \u001b[0m | \u001b[36mkartiks-MacBook-Air.local\u001b[0m| \u001b[36msuperduper.components.plugin\u001b[0m:\u001b[36m118 \u001b[0m | \u001b[1mCopying plugin [plugin-utils_py] to /Users/kartiksharma/.superduper/plugins/d6e12755ff214d92/utils.py\u001b[0m\n",
      "\u001b[32m2024-Dec-03 23:37:58.84\u001b[0m| \u001b[1mINFO    \u001b[0m | \u001b[36mkartiks-MacBook-Air.local\u001b[0m| \u001b[36msuperduper.base.datalayer\u001b[0m:\u001b[36m612 \u001b[0m | \u001b[1mAdding plugin:plugin-utils_py:d6e12755ff214d92 to cache\u001b[0m\n",
      "\u001b[32m2024-Dec-03 23:37:58.84\u001b[0m| \u001b[1mINFO    \u001b[0m | \u001b[36mkartiks-MacBook-Air.local\u001b[0m| \u001b[36msuperduper.components.component\u001b[0m:\u001b[36m594 \u001b[0m | \u001b[1mAdding plugin: plugin-utils_py to cache\u001b[0m\n",
      "\u001b[32m2024-Dec-03 23:37:58.84\u001b[0m| \u001b[1mINFO    \u001b[0m | \u001b[36mkartiks-MacBook-Air.local\u001b[0m| \u001b[36msuperduper.base.datalayer\u001b[0m:\u001b[36m590 \u001b[0m | \u001b[1mComponent dc76106aad754bee not found in cache, loading from db with uuid\u001b[0m\n",
      "\u001b[32m2024-Dec-03 23:37:58.85\u001b[0m| \u001b[1mINFO    \u001b[0m | \u001b[36mkartiks-MacBook-Air.local\u001b[0m| \u001b[36msuperduper.base.datalayer\u001b[0m:\u001b[36m612 \u001b[0m | \u001b[1mAdding model:processor:dc76106aad754bee to cache\u001b[0m\n",
      "\u001b[32m2024-Dec-03 23:37:58.85\u001b[0m| \u001b[1mINFO    \u001b[0m | \u001b[36mkartiks-MacBook-Air.local\u001b[0m| \u001b[36msuperduper.components.component\u001b[0m:\u001b[36m594 \u001b[0m | \u001b[1mAdding model: processor to cache\u001b[0m\n",
      "\u001b[32m2024-Dec-03 23:37:58.85\u001b[0m| \u001b[1mINFO    \u001b[0m | \u001b[36mkartiks-MacBook-Air.local\u001b[0m| \u001b[36msuperduper.base.datalayer\u001b[0m:\u001b[36m590 \u001b[0m | \u001b[1mComponent 5b395ea9057043e3 not found in cache, loading from db with uuid\u001b[0m\n",
      "\u001b[32m2024-Dec-03 23:37:58.87\u001b[0m| \u001b[1mINFO    \u001b[0m | \u001b[36mkartiks-MacBook-Air.local\u001b[0m| \u001b[36msuperduper.base.datalayer\u001b[0m:\u001b[36m612 \u001b[0m | \u001b[1mAdding model:rag:5b395ea9057043e3 to cache\u001b[0m\n",
      "\u001b[32m2024-Dec-03 23:37:58.87\u001b[0m| \u001b[1mINFO    \u001b[0m | \u001b[36mkartiks-MacBook-Air.local\u001b[0m| \u001b[36msuperduper.components.component\u001b[0m:\u001b[36m594 \u001b[0m | \u001b[1mAdding model: rag to cache\u001b[0m\n",
      "\u001b[32m2024-Dec-03 23:37:58.87\u001b[0m| \u001b[33m\u001b[1mWARNING \u001b[0m | \u001b[36mkartiks-MacBook-Air.local\u001b[0m| \u001b[36msuperduper.backends.local.compute\u001b[0m:\u001b[36m49  \u001b[0m | \u001b[33m\u001b[1mCould not release futures for context 5b395ea9057043e3\u001b[0m\n",
      "\u001b[32m2024-Dec-03 23:37:58.87\u001b[0m| \u001b[1mINFO    \u001b[0m | \u001b[36mkartiks-MacBook-Air.local\u001b[0m| \u001b[36m__main__\u001b[0m:\u001b[36m40  \u001b[0m | \u001b[1mVector search query: What is code of Premium Tech Tool 2 SA Source Address?\u001b[0m\n",
      "\u001b[32m2024-Dec-03 23:37:58.88\u001b[0m| \u001b[1mINFO    \u001b[0m | \u001b[36mkartiks-MacBook-Air.local\u001b[0m| \u001b[36msuperduper.base.datalayer\u001b[0m:\u001b[36m796 \u001b[0m | \u001b[1mGetting vector-index\u001b[0m\n",
      "\u001b[32m2024-Dec-03 23:37:58.88\u001b[0m| \u001b[1mINFO    \u001b[0m | \u001b[36mkartiks-MacBook-Air.local\u001b[0m| \u001b[36msuperduper.base.datalayer\u001b[0m:\u001b[36m804 \u001b[0m | \u001b[1m{}\u001b[0m\n",
      "\u001b[32m2024-Dec-03 23:37:58.88\u001b[0m| \u001b[1mINFO    \u001b[0m | \u001b[36mkartiks-MacBook-Air.local\u001b[0m| \u001b[36msuperduper.components.model\u001b[0m:\u001b[36m1327\u001b[0m | \u001b[1mPredicting with model openai\u001b[0m\n"
     ]
    },
    {
     "name": "stderr",
     "output_type": "stream",
     "text": [
      "\u001b[32m2024-Dec-03 23:37:59.72\u001b[0m| \u001b[31m\u001b[1mERROR   \u001b[0m | \u001b[36mkartiks-MacBook-Air.local\u001b[0m| \u001b[36msuperduper.backends.local.vector_search\u001b[0m:\u001b[36m146 \u001b[0m | \u001b[31m\u001b[1mTried to search on an empty vector database Vectors are not yet loaded in vector database. \n",
      "Please check if model outputs are ready.\u001b[0m\n"
     ]
    },
    {
     "name": "stdout",
     "output_type": "stream",
     "text": [
      "\u001b[32m2024-Dec-03 23:37:59.72\u001b[0m| \u001b[1mINFO    \u001b[0m | \u001b[36mkartiks-MacBook-Air.local\u001b[0m| \u001b[36msuperduper.components.model\u001b[0m:\u001b[36m1327\u001b[0m | \u001b[1mPredicting with model openai\u001b[0m\n"
     ]
    },
    {
     "data": {
      "text/markdown": [
       "The code for Premium Tech Tool 2 SA Source Address is PTT2-SA."
      ],
      "text/plain": [
       "<IPython.core.display.Markdown object>"
      ]
     },
     "metadata": {},
     "output_type": "display_data"
    }
   ],
   "source": [
    "from IPython.display import Image, Markdown, display\n",
    "\n",
    "if APPLY:\n",
    "    db.apply(rag, force=True)\n",
    "    result = rag.predict(\"What is code of Premium Tech Tool 2 SA Source Address?\", format_result=True)\n",
    "    \n",
    "    display(Markdown(result[\"answer\"]))\n",
    "    \n",
    "    for message, img in result[\"images\"]:\n",
    "        display(Markdown(message))\n",
    "        display(img)"
   ]
  },
  {
   "cell_type": "markdown",
   "id": "fde11162-e994-4621-af36-b5fa9bc3f258",
   "metadata": {},
   "source": [
    "## Create template"
   ]
  },
  {
   "cell_type": "code",
   "execution_count": 95,
   "id": "e81c270f-8be9-4050-a7df-07b62c17330c",
   "metadata": {},
   "outputs": [
    {
     "name": "stdout",
     "output_type": "stream",
     "text": [
      "\u001b[32m2024-Dec-03 23:51:18.71\u001b[0m| \u001b[1mINFO    \u001b[0m | \u001b[36mkartiks-MacBook-Air.local\u001b[0m| \u001b[36msuperduper.components.application\u001b[0m:\u001b[36m39  \u001b[0m | \u001b[1mResorting components based on topological order.\u001b[0m\n",
      "\u001b[32m2024-Dec-03 23:51:18.74\u001b[0m| \u001b[1mINFO    \u001b[0m | \u001b[36mkartiks-MacBook-Air.local\u001b[0m| \u001b[36msuperduper.components.application\u001b[0m:\u001b[36m56  \u001b[0m | \u001b[1mNew order of components: ['table:sample_pdf_rag:6e50f63c63cd442e', 'listener:split_image:dba4c23fd1984eea', 'listener:chunk:2b26440ac7db46eb', 'vector_index:vector-index:e87a555abc8d4d65', 'model:rag:5b395ea9057043e3']\u001b[0m\n"
     ]
    }
   ],
   "source": [
    "from superduper import Application\n",
    "\n",
    "app = Application(\n",
    "    'pdf-rag',\n",
    "    components=[\n",
    "        table,\n",
    "        listener_split_image,\n",
    "        listener_chunk,\n",
    "        vector_index,\n",
    "        rag\n",
    "    ]\n",
    ")\n"
   ]
  },
  {
   "cell_type": "code",
   "execution_count": 70,
   "id": "81346b3c-9c2d-4f40-a78d-b830ee74597d",
   "metadata": {
    "editable": true,
    "slideshow": {
     "slide_type": ""
    },
    "tags": []
   },
   "outputs": [
    {
     "name": "stdout",
     "output_type": "stream",
     "text": [
      "\u001b[32m2024-Dec-03 23:38:12.85\u001b[0m| \u001b[33m\u001b[1mWARNING \u001b[0m | \u001b[36mkartiks-MacBook-Air.local\u001b[0m| \u001b[36msuperduper.base.document\u001b[0m:\u001b[36m558 \u001b[0m | \u001b[33m\u001b[1mLeaf str already exists\u001b[0m\n",
      "\u001b[32m2024-Dec-03 23:38:12.85\u001b[0m| \u001b[33m\u001b[1mWARNING \u001b[0m | \u001b[36mkartiks-MacBook-Air.local\u001b[0m| \u001b[36msuperduper.components.listener\u001b[0m:\u001b[36m74  \u001b[0m | \u001b[33m\u001b[1moutput_table not found in listener.dict()\u001b[0m\n",
      "\u001b[32m2024-Dec-03 23:38:12.87\u001b[0m| \u001b[33m\u001b[1mWARNING \u001b[0m | \u001b[36mkartiks-MacBook-Air.local\u001b[0m| \u001b[36msuperduper.base.document\u001b[0m:\u001b[36m558 \u001b[0m | \u001b[33m\u001b[1mLeaf datatype:file already exists\u001b[0m\n",
      "\u001b[32m2024-Dec-03 23:38:12.87\u001b[0m| \u001b[33m\u001b[1mWARNING \u001b[0m | \u001b[36mkartiks-MacBook-Air.local\u001b[0m| \u001b[36msuperduper.components.listener\u001b[0m:\u001b[36m74  \u001b[0m | \u001b[33m\u001b[1moutput_table not found in listener.dict()\u001b[0m\n",
      "\u001b[32m2024-Dec-03 23:38:12.88\u001b[0m| \u001b[33m\u001b[1mWARNING \u001b[0m | \u001b[36mkartiks-MacBook-Air.local\u001b[0m| \u001b[36msuperduper.components.listener\u001b[0m:\u001b[36m74  \u001b[0m | \u001b[33m\u001b[1moutput_table not found in listener.dict()\u001b[0m\n"
     ]
    }
   ],
   "source": [
    "from superduper import Template, CFG, Table\n",
    "from superduper.components.dataset import RemoteData\n",
    "\n",
    "template = Template(\n",
    "    'pdf-rag',\n",
    "    db=db,\n",
    "    template=app,\n",
    "    substitutions={prompt_template: 'prompt_template', COLLECTION_NAME: 'table_name'},\n",
    "    template_variables=['table_name', 'prompt_template', 'llm_model', 'embedding_model'],\n",
    "    default_table=Table(\n",
    "        'sample_pdf_rag',\n",
    "        schema=Schema(\n",
    "            'sample_pdf_rag/schema',\n",
    "            fields={\"url\": \"str\", \"file\": file}\n",
    "        ),\n",
    "        data=RemoteData('sample_pdfs', getter=getter),\n",
    "    ),\n",
    "    types={\n",
    "        'prompt_template':{\n",
    "            'type': 'str',\n",
    "            'default': prompt_template\n",
    "        },\n",
    "        'table_name': {\n",
    "            'type': 'str',\n",
    "            'default': 'sample_pdf_rag'\n",
    "        },\n",
    "        'llm_model': {\n",
    "            'type': 'str',\n",
    "            'choices': ['openai', 'anthropic', 'vllm'],\n",
    "            'default': 'openai',\n",
    "        },\n",
    "        'embedding_model': {\n",
    "            'type': 'str',\n",
    "            'choices': ['openai', 'sentence_transformers'],\n",
    "            'default': 'openai',\n",
    "        },\n",
    "    }\n",
    ")"
   ]
  },
  {
   "cell_type": "code",
   "execution_count": 96,
   "id": "e82d71e0-ab21-48a2-849a-57e494ae3a2a",
   "metadata": {},
   "outputs": [
    {
     "name": "stdout",
     "output_type": "stream",
     "text": [
      "\u001b[32m2024-Dec-03 23:51:32.26\u001b[0m| \u001b[33m\u001b[1mWARNING \u001b[0m | \u001b[36mkartiks-MacBook-Air.local\u001b[0m| \u001b[36msuperduper.base.document\u001b[0m:\u001b[36m558 \u001b[0m | \u001b[33m\u001b[1mLeaf str already exists\u001b[0m\n",
      "\u001b[32m2024-Dec-03 23:51:32.27\u001b[0m| \u001b[33m\u001b[1mWARNING \u001b[0m | \u001b[36mkartiks-MacBook-Air.local\u001b[0m| \u001b[36msuperduper.components.listener\u001b[0m:\u001b[36m74  \u001b[0m | \u001b[33m\u001b[1moutput_table not found in listener.dict()\u001b[0m\n",
      "\u001b[32m2024-Dec-03 23:51:32.28\u001b[0m| \u001b[33m\u001b[1mWARNING \u001b[0m | \u001b[36mkartiks-MacBook-Air.local\u001b[0m| \u001b[36msuperduper.base.document\u001b[0m:\u001b[36m558 \u001b[0m | \u001b[33m\u001b[1mLeaf datatype:file already exists\u001b[0m\n",
      "\u001b[32m2024-Dec-03 23:51:32.28\u001b[0m| \u001b[33m\u001b[1mWARNING \u001b[0m | \u001b[36mkartiks-MacBook-Air.local\u001b[0m| \u001b[36msuperduper.components.listener\u001b[0m:\u001b[36m74  \u001b[0m | \u001b[33m\u001b[1moutput_table not found in listener.dict()\u001b[0m\n",
      "\u001b[32m2024-Dec-03 23:51:32.29\u001b[0m| \u001b[33m\u001b[1mWARNING \u001b[0m | \u001b[36mkartiks-MacBook-Air.local\u001b[0m| \u001b[36msuperduper.components.listener\u001b[0m:\u001b[36m74  \u001b[0m | \u001b[33m\u001b[1moutput_table not found in listener.dict()\u001b[0m\n"
     ]
    }
   ],
   "source": [
    "#db.apply(template)\n",
    "template.export(\".\")\n"
   ]
  },
  {
   "cell_type": "code",
   "execution_count": 76,
   "id": "c89ce6d3-d957-4fa5-9e03-906a2130088a",
   "metadata": {},
   "outputs": [
    {
     "name": "stdout",
     "output_type": "stream",
     "text": [
      "\u001b[32m2024-Dec-03 23:39:17.46\u001b[0m| \u001b[33m\u001b[1mWARNING \u001b[0m | \u001b[36mkartiks-MacBook-Air.local\u001b[0m| \u001b[36msuperduper_mongodb.artifacts\u001b[0m:\u001b[36m111 \u001b[0m | \u001b[33m\u001b[1mFile f276aeaf60d75391f430275e9f286f9a15a5933d already exists\u001b[0m\n",
      "\u001b[32m2024-Dec-03 23:39:17.50\u001b[0m| \u001b[33m\u001b[1mWARNING \u001b[0m | \u001b[36mkartiks-MacBook-Air.local\u001b[0m| \u001b[36msuperduper_mongodb.artifacts\u001b[0m:\u001b[36m111 \u001b[0m | \u001b[33m\u001b[1mFile 1db2546427804ee7161c5c5eedeb8521e6831413 already exists\u001b[0m\n",
      "\u001b[32m2024-Dec-03 23:39:17.54\u001b[0m| \u001b[33m\u001b[1mWARNING \u001b[0m | \u001b[36mkartiks-MacBook-Air.local\u001b[0m| \u001b[36msuperduper_mongodb.artifacts\u001b[0m:\u001b[36m111 \u001b[0m | \u001b[33m\u001b[1mFile 1087871ffeeb5420a415b53f5e137701fd991584 already exists\u001b[0m\n",
      "\u001b[32m2024-Dec-03 23:39:17.57\u001b[0m| \u001b[33m\u001b[1mWARNING \u001b[0m | \u001b[36mkartiks-MacBook-Air.local\u001b[0m| \u001b[36msuperduper_mongodb.artifacts\u001b[0m:\u001b[36m111 \u001b[0m | \u001b[33m\u001b[1mFile f9cdb1b37f64778b6d3e49c812bf0ca382161ac0 already exists\u001b[0m\n",
      "\u001b[32m2024-Dec-03 23:39:17.59\u001b[0m| \u001b[33m\u001b[1mWARNING \u001b[0m | \u001b[36mkartiks-MacBook-Air.local\u001b[0m| \u001b[36msuperduper_mongodb.artifacts\u001b[0m:\u001b[36m111 \u001b[0m | \u001b[33m\u001b[1mFile c190af19f02c96ce9f7c38409748ccfc98758827 already exists\u001b[0m\n",
      "\u001b[32m2024-Dec-03 23:39:17.61\u001b[0m| \u001b[33m\u001b[1mWARNING \u001b[0m | \u001b[36mkartiks-MacBook-Air.local\u001b[0m| \u001b[36msuperduper_mongodb.artifacts\u001b[0m:\u001b[36m111 \u001b[0m | \u001b[33m\u001b[1mFile 58d51953d88d26b2a08024f471d6896b12063698 already exists\u001b[0m\n",
      "\u001b[32m2024-Dec-03 23:39:17.63\u001b[0m| \u001b[33m\u001b[1mWARNING \u001b[0m | \u001b[36mkartiks-MacBook-Air.local\u001b[0m| \u001b[36msuperduper_mongodb.artifacts\u001b[0m:\u001b[36m111 \u001b[0m | \u001b[33m\u001b[1mFile a306e0ed6eecb5fd002ef781f9b24f8d73cc44cc already exists\u001b[0m\n",
      "\u001b[32m2024-Dec-03 23:39:17.64\u001b[0m| \u001b[33m\u001b[1mWARNING \u001b[0m | \u001b[36mkartiks-MacBook-Air.local\u001b[0m| \u001b[36msuperduper_mongodb.artifacts\u001b[0m:\u001b[36m111 \u001b[0m | \u001b[33m\u001b[1mFile d3583f01e9b6265ee55da8cbc49f771b7df88a1a already exists\u001b[0m\n",
      "\u001b[32m2024-Dec-03 23:39:17.66\u001b[0m| \u001b[33m\u001b[1mWARNING \u001b[0m | \u001b[36mkartiks-MacBook-Air.local\u001b[0m| \u001b[36msuperduper_mongodb.artifacts\u001b[0m:\u001b[36m111 \u001b[0m | \u001b[33m\u001b[1mFile bdba2e9a946ab0f953ea4fc5695757741189e8c3 already exists\u001b[0m\n",
      "\u001b[32m2024-Dec-03 23:39:17.68\u001b[0m| \u001b[33m\u001b[1mWARNING \u001b[0m | \u001b[36mkartiks-MacBook-Air.local\u001b[0m| \u001b[36msuperduper_mongodb.artifacts\u001b[0m:\u001b[36m111 \u001b[0m | \u001b[33m\u001b[1mFile 168ca61c9fd945101429646d8d26eb08ffa5b22b already exists\u001b[0m\n",
      "\u001b[32m2024-Dec-03 23:39:17.70\u001b[0m| \u001b[33m\u001b[1mWARNING \u001b[0m | \u001b[36mkartiks-MacBook-Air.local\u001b[0m| \u001b[36msuperduper_mongodb.artifacts\u001b[0m:\u001b[36m111 \u001b[0m | \u001b[33m\u001b[1mFile a868c0484be7b5e20eebc5dc67370b275a6ee72e already exists\u001b[0m\n",
      "\u001b[32m2024-Dec-03 23:39:17.71\u001b[0m| \u001b[33m\u001b[1mWARNING \u001b[0m | \u001b[36mkartiks-MacBook-Air.local\u001b[0m| \u001b[36msuperduper_mongodb.artifacts\u001b[0m:\u001b[36m111 \u001b[0m | \u001b[33m\u001b[1mFile 44db6ffe33f83e1174ff6ce4541538e136fcfdf0 already exists\u001b[0m\n",
      "\u001b[32m2024-Dec-03 23:39:17.73\u001b[0m| \u001b[33m\u001b[1mWARNING \u001b[0m | \u001b[36mkartiks-MacBook-Air.local\u001b[0m| \u001b[36msuperduper_mongodb.artifacts\u001b[0m:\u001b[36m111 \u001b[0m | \u001b[33m\u001b[1mFile 3d13bcd47e6a8a3f467070290a1b7300a10394ce already exists\u001b[0m\n",
      "\u001b[32m2024-Dec-03 23:39:17.74\u001b[0m| \u001b[33m\u001b[1mWARNING \u001b[0m | \u001b[36mkartiks-MacBook-Air.local\u001b[0m| \u001b[36msuperduper_mongodb.artifacts\u001b[0m:\u001b[36m111 \u001b[0m | \u001b[33m\u001b[1mFile 568534984ca7688b45c9a5caaa73a5756e1a78a6 already exists\u001b[0m\n",
      "\u001b[32m2024-Dec-03 23:39:17.76\u001b[0m| \u001b[33m\u001b[1mWARNING \u001b[0m | \u001b[36mkartiks-MacBook-Air.local\u001b[0m| \u001b[36msuperduper_mongodb.artifacts\u001b[0m:\u001b[36m111 \u001b[0m | \u001b[33m\u001b[1mFile 674dc97acbefef0b2b35361bdda8f1bde0705d94 already exists\u001b[0m\n",
      "\u001b[32m2024-Dec-03 23:39:17.78\u001b[0m| \u001b[33m\u001b[1mWARNING \u001b[0m | \u001b[36mkartiks-MacBook-Air.local\u001b[0m| \u001b[36msuperduper.base.document\u001b[0m:\u001b[36m558 \u001b[0m | \u001b[33m\u001b[1mLeaf str already exists\u001b[0m\n"
     ]
    }
   ],
   "source": [
    "app = Template.read('./', db=db)"
   ]
  },
  {
   "cell_type": "code",
   "execution_count": null,
   "id": "64078d6f-d439-4b3a-87df-e3965174fdbd",
   "metadata": {},
   "outputs": [],
   "source": [
    "app = db.load('template', 'pdf-rag')"
   ]
  },
  {
   "cell_type": "code",
   "execution_count": 81,
   "id": "81248456-9876-4393-895c-739851cddeb5",
   "metadata": {},
   "outputs": [
    {
     "name": "stdout",
     "output_type": "stream",
     "text": [
      "\u001b[32m2024-Dec-03 23:40:57.01\u001b[0m| \u001b[33m\u001b[1mWARNING \u001b[0m | \u001b[36mkartiks-MacBook-Air.local\u001b[0m| \u001b[36msuperduper.base.document\u001b[0m:\u001b[36m558 \u001b[0m | \u001b[33m\u001b[1mLeaf str already exists\u001b[0m\n",
      "\u001b[32m2024-Dec-03 23:40:57.02\u001b[0m| \u001b[33m\u001b[1mWARNING \u001b[0m | \u001b[36mkartiks-MacBook-Air.local\u001b[0m| \u001b[36msuperduper_mongodb.artifacts\u001b[0m:\u001b[36m111 \u001b[0m | \u001b[33m\u001b[1mFile f276aeaf60d75391f430275e9f286f9a15a5933d already exists\u001b[0m\n",
      "\u001b[32m2024-Dec-03 23:40:57.06\u001b[0m| \u001b[33m\u001b[1mWARNING \u001b[0m | \u001b[36mkartiks-MacBook-Air.local\u001b[0m| \u001b[36msuperduper_mongodb.artifacts\u001b[0m:\u001b[36m111 \u001b[0m | \u001b[33m\u001b[1mFile 1db2546427804ee7161c5c5eedeb8521e6831413 already exists\u001b[0m\n",
      "\u001b[32m2024-Dec-03 23:40:57.08\u001b[0m| \u001b[33m\u001b[1mWARNING \u001b[0m | \u001b[36mkartiks-MacBook-Air.local\u001b[0m| \u001b[36msuperduper_mongodb.artifacts\u001b[0m:\u001b[36m111 \u001b[0m | \u001b[33m\u001b[1mFile 1087871ffeeb5420a415b53f5e137701fd991584 already exists\u001b[0m\n",
      "\u001b[32m2024-Dec-03 23:40:57.11\u001b[0m| \u001b[33m\u001b[1mWARNING \u001b[0m | \u001b[36mkartiks-MacBook-Air.local\u001b[0m| \u001b[36msuperduper_mongodb.artifacts\u001b[0m:\u001b[36m111 \u001b[0m | \u001b[33m\u001b[1mFile f9cdb1b37f64778b6d3e49c812bf0ca382161ac0 already exists\u001b[0m\n",
      "\u001b[32m2024-Dec-03 23:40:57.13\u001b[0m| \u001b[33m\u001b[1mWARNING \u001b[0m | \u001b[36mkartiks-MacBook-Air.local\u001b[0m| \u001b[36msuperduper_mongodb.artifacts\u001b[0m:\u001b[36m111 \u001b[0m | \u001b[33m\u001b[1mFile c190af19f02c96ce9f7c38409748ccfc98758827 already exists\u001b[0m\n",
      "\u001b[32m2024-Dec-03 23:40:57.15\u001b[0m| \u001b[33m\u001b[1mWARNING \u001b[0m | \u001b[36mkartiks-MacBook-Air.local\u001b[0m| \u001b[36msuperduper_mongodb.artifacts\u001b[0m:\u001b[36m111 \u001b[0m | \u001b[33m\u001b[1mFile 58d51953d88d26b2a08024f471d6896b12063698 already exists\u001b[0m\n",
      "\u001b[32m2024-Dec-03 23:40:57.17\u001b[0m| \u001b[33m\u001b[1mWARNING \u001b[0m | \u001b[36mkartiks-MacBook-Air.local\u001b[0m| \u001b[36msuperduper_mongodb.artifacts\u001b[0m:\u001b[36m111 \u001b[0m | \u001b[33m\u001b[1mFile a306e0ed6eecb5fd002ef781f9b24f8d73cc44cc already exists\u001b[0m\n",
      "\u001b[32m2024-Dec-03 23:40:57.19\u001b[0m| \u001b[33m\u001b[1mWARNING \u001b[0m | \u001b[36mkartiks-MacBook-Air.local\u001b[0m| \u001b[36msuperduper_mongodb.artifacts\u001b[0m:\u001b[36m111 \u001b[0m | \u001b[33m\u001b[1mFile d3583f01e9b6265ee55da8cbc49f771b7df88a1a already exists\u001b[0m\n",
      "\u001b[32m2024-Dec-03 23:40:57.20\u001b[0m| \u001b[33m\u001b[1mWARNING \u001b[0m | \u001b[36mkartiks-MacBook-Air.local\u001b[0m| \u001b[36msuperduper_mongodb.artifacts\u001b[0m:\u001b[36m111 \u001b[0m | \u001b[33m\u001b[1mFile bdba2e9a946ab0f953ea4fc5695757741189e8c3 already exists\u001b[0m\n",
      "\u001b[32m2024-Dec-03 23:40:57.22\u001b[0m| \u001b[33m\u001b[1mWARNING \u001b[0m | \u001b[36mkartiks-MacBook-Air.local\u001b[0m| \u001b[36msuperduper_mongodb.artifacts\u001b[0m:\u001b[36m111 \u001b[0m | \u001b[33m\u001b[1mFile 168ca61c9fd945101429646d8d26eb08ffa5b22b already exists\u001b[0m\n",
      "\u001b[32m2024-Dec-03 23:40:57.24\u001b[0m| \u001b[33m\u001b[1mWARNING \u001b[0m | \u001b[36mkartiks-MacBook-Air.local\u001b[0m| \u001b[36msuperduper_mongodb.artifacts\u001b[0m:\u001b[36m111 \u001b[0m | \u001b[33m\u001b[1mFile a868c0484be7b5e20eebc5dc67370b275a6ee72e already exists\u001b[0m\n",
      "\u001b[32m2024-Dec-03 23:40:57.26\u001b[0m| \u001b[33m\u001b[1mWARNING \u001b[0m | \u001b[36mkartiks-MacBook-Air.local\u001b[0m| \u001b[36msuperduper_mongodb.artifacts\u001b[0m:\u001b[36m111 \u001b[0m | \u001b[33m\u001b[1mFile 44db6ffe33f83e1174ff6ce4541538e136fcfdf0 already exists\u001b[0m\n",
      "\u001b[32m2024-Dec-03 23:40:57.27\u001b[0m| \u001b[33m\u001b[1mWARNING \u001b[0m | \u001b[36mkartiks-MacBook-Air.local\u001b[0m| \u001b[36msuperduper_mongodb.artifacts\u001b[0m:\u001b[36m111 \u001b[0m | \u001b[33m\u001b[1mFile 3d13bcd47e6a8a3f467070290a1b7300a10394ce already exists\u001b[0m\n",
      "\u001b[32m2024-Dec-03 23:40:57.29\u001b[0m| \u001b[33m\u001b[1mWARNING \u001b[0m | \u001b[36mkartiks-MacBook-Air.local\u001b[0m| \u001b[36msuperduper_mongodb.artifacts\u001b[0m:\u001b[36m111 \u001b[0m | \u001b[33m\u001b[1mFile 568534984ca7688b45c9a5caaa73a5756e1a78a6 already exists\u001b[0m\n",
      "\u001b[32m2024-Dec-03 23:40:57.30\u001b[0m| \u001b[33m\u001b[1mWARNING \u001b[0m | \u001b[36mkartiks-MacBook-Air.local\u001b[0m| \u001b[36msuperduper_mongodb.artifacts\u001b[0m:\u001b[36m111 \u001b[0m | \u001b[33m\u001b[1mFile 674dc97acbefef0b2b35361bdda8f1bde0705d94 already exists\u001b[0m\n",
      "\u001b[32m2024-Dec-03 23:40:57.31\u001b[0m| \u001b[1mINFO    \u001b[0m | \u001b[36mkartiks-MacBook-Air.local\u001b[0m| \u001b[36msuperduper_mongodb.artifacts\u001b[0m:\u001b[36m128 \u001b[0m | \u001b[1mUploading file ./files/0b4d904bb053e289821fd6f15ea1911784736167/utils.py to GridFS with file_id 0b4d904bb053e289821fd6f15ea1911784736167\u001b[0m\n",
      "\u001b[32m2024-Dec-03 23:40:57.32\u001b[0m| \u001b[1mINFO    \u001b[0m | \u001b[36mkartiks-MacBook-Air.local\u001b[0m| \u001b[36msuperduper_mongodb.artifacts\u001b[0m:\u001b[36m128 \u001b[0m | \u001b[1mUploading file ./files/9498b7a11ec9428e68b04e01475a2d85/utils.py to GridFS with file_id 9498b7a11ec9428e68b04e01475a2d85\u001b[0m\n",
      "\u001b[32m2024-Dec-03 23:40:57.34\u001b[0m| \u001b[1mINFO    \u001b[0m | \u001b[36mkartiks-MacBook-Air.local\u001b[0m| \u001b[36msuperduper.base.datalayer\u001b[0m:\u001b[36m621 \u001b[0m | \u001b[1mComponent (datatype, file) not found in cache, loading from db\u001b[0m\n",
      "\u001b[32m2024-Dec-03 23:40:57.34\u001b[0m| \u001b[1mINFO    \u001b[0m | \u001b[36mkartiks-MacBook-Air.local\u001b[0m| \u001b[36msuperduper.base.datalayer\u001b[0m:\u001b[36m627 \u001b[0m | \u001b[1mLoad (('datatype', 'file')) from metadata...\u001b[0m\n",
      "\u001b[32m2024-Dec-03 23:40:57.34\u001b[0m| \u001b[1mINFO    \u001b[0m | \u001b[36mkartiks-MacBook-Air.local\u001b[0m| \u001b[36msuperduper.base.apply\u001b[0m:\u001b[36m312 \u001b[0m | \u001b[1mFound new datatype:file:121dd11d21464f2b\u001b[0m\n",
      "\u001b[32m2024-Dec-03 23:40:57.34\u001b[0m| \u001b[1mINFO    \u001b[0m | \u001b[36mkartiks-MacBook-Air.local\u001b[0m| \u001b[36msuperduper.base.datalayer\u001b[0m:\u001b[36m621 \u001b[0m | \u001b[1mComponent (schema, sample_pdf_rag/schema) not found in cache, loading from db\u001b[0m\n",
      "\u001b[32m2024-Dec-03 23:40:57.34\u001b[0m| \u001b[1mINFO    \u001b[0m | \u001b[36mkartiks-MacBook-Air.local\u001b[0m| \u001b[36msuperduper.base.datalayer\u001b[0m:\u001b[36m627 \u001b[0m | \u001b[1mLoad (('schema', 'sample_pdf_rag/schema')) from metadata...\u001b[0m\n",
      "\u001b[32m2024-Dec-03 23:40:57.35\u001b[0m| \u001b[33m\u001b[1mWARNING \u001b[0m | \u001b[36mkartiks-MacBook-Air.local\u001b[0m| \u001b[36msuperduper.base.document\u001b[0m:\u001b[36m558 \u001b[0m | \u001b[33m\u001b[1mLeaf str already exists\u001b[0m\n",
      "\u001b[32m2024-Dec-03 23:40:57.35\u001b[0m| \u001b[1mINFO    \u001b[0m | \u001b[36mkartiks-MacBook-Air.local\u001b[0m| \u001b[36msuperduper.base.apply\u001b[0m:\u001b[36m312 \u001b[0m | \u001b[1mFound new schema:sample_pdf_rag/schema:fb963abf6f1041eb\u001b[0m\n",
      "\u001b[32m2024-Dec-03 23:40:57.35\u001b[0m| \u001b[1mINFO    \u001b[0m | \u001b[36mkartiks-MacBook-Air.local\u001b[0m| \u001b[36msuperduper.base.datalayer\u001b[0m:\u001b[36m621 \u001b[0m | \u001b[1mComponent (dataset, sample_pdfs) not found in cache, loading from db\u001b[0m\n",
      "\u001b[32m2024-Dec-03 23:40:57.35\u001b[0m| \u001b[1mINFO    \u001b[0m | \u001b[36mkartiks-MacBook-Air.local\u001b[0m| \u001b[36msuperduper.base.datalayer\u001b[0m:\u001b[36m627 \u001b[0m | \u001b[1mLoad (('dataset', 'sample_pdfs')) from metadata...\u001b[0m\n",
      "\u001b[32m2024-Dec-03 23:40:57.35\u001b[0m| \u001b[1mINFO    \u001b[0m | \u001b[36mkartiks-MacBook-Air.local\u001b[0m| \u001b[36msuperduper.base.apply\u001b[0m:\u001b[36m312 \u001b[0m | \u001b[1mFound new dataset:sample_pdfs:a49980907c504046\u001b[0m\n",
      "\u001b[32m2024-Dec-03 23:40:57.37\u001b[0m| \u001b[1mINFO    \u001b[0m | \u001b[36mkartiks-MacBook-Air.local\u001b[0m| \u001b[36msuperduper.base.datalayer\u001b[0m:\u001b[36m621 \u001b[0m | \u001b[1mComponent (table, sample_pdf_rag) not found in cache, loading from db\u001b[0m\n",
      "\u001b[32m2024-Dec-03 23:40:57.37\u001b[0m| \u001b[1mINFO    \u001b[0m | \u001b[36mkartiks-MacBook-Air.local\u001b[0m| \u001b[36msuperduper.base.datalayer\u001b[0m:\u001b[36m627 \u001b[0m | \u001b[1mLoad (('table', 'sample_pdf_rag')) from metadata...\u001b[0m\n",
      "\u001b[32m2024-Dec-03 23:40:57.38\u001b[0m| \u001b[1mINFO    \u001b[0m | \u001b[36mkartiks-MacBook-Air.local\u001b[0m| \u001b[36msuperduper.base.apply\u001b[0m:\u001b[36m312 \u001b[0m | \u001b[1mFound new table:sample_pdf_rag:a517dec411304504\u001b[0m\n",
      "\u001b[32m2024-Dec-03 23:40:57.38\u001b[0m| \u001b[1mINFO    \u001b[0m | \u001b[36mkartiks-MacBook-Air.local\u001b[0m| \u001b[36msuperduper.base.datalayer\u001b[0m:\u001b[36m621 \u001b[0m | \u001b[1mComponent (template, pdf-rag) not found in cache, loading from db\u001b[0m\n",
      "\u001b[32m2024-Dec-03 23:40:57.38\u001b[0m| \u001b[1mINFO    \u001b[0m | \u001b[36mkartiks-MacBook-Air.local\u001b[0m| \u001b[36msuperduper.base.datalayer\u001b[0m:\u001b[36m627 \u001b[0m | \u001b[1mLoad (('template', 'pdf-rag')) from metadata...\u001b[0m\n",
      "\u001b[32m2024-Dec-03 23:40:57.38\u001b[0m| \u001b[1mINFO    \u001b[0m | \u001b[36mkartiks-MacBook-Air.local\u001b[0m| \u001b[36msuperduper.base.apply\u001b[0m:\u001b[36m312 \u001b[0m | \u001b[1mFound new template:pdf-rag:f1a53de11ece4f38\u001b[0m\n",
      "\u001b[32m2024-Dec-03 23:40:57.39\u001b[0m| \u001b[1mINFO    \u001b[0m | \u001b[36mkartiks-MacBook-Air.local\u001b[0m| \u001b[36msuperduper.base.apply\u001b[0m:\u001b[36m73  \u001b[0m | \u001b[1mFound these changes and/ or additions that need to be made:\u001b[0m\n",
      "\u001b[32m2024-Dec-03 23:40:57.39\u001b[0m| \u001b[1mINFO    \u001b[0m | \u001b[36mkartiks-MacBook-Air.local\u001b[0m| \u001b[36msuperduper.base.apply\u001b[0m:\u001b[36m75  \u001b[0m | \u001b[1m----------------------------------------------------------------------------------------------------\u001b[0m\n",
      "\u001b[32m2024-Dec-03 23:40:57.39\u001b[0m| \u001b[1mINFO    \u001b[0m | \u001b[36mkartiks-MacBook-Air.local\u001b[0m| \u001b[36msuperduper.base.apply\u001b[0m:\u001b[36m76  \u001b[0m | \u001b[1mMETADATA EVENTS:\u001b[0m\n",
      "\u001b[32m2024-Dec-03 23:40:57.39\u001b[0m| \u001b[1mINFO    \u001b[0m | \u001b[36mkartiks-MacBook-Air.local\u001b[0m| \u001b[36msuperduper.base.apply\u001b[0m:\u001b[36m77  \u001b[0m | \u001b[1m----------------------------------------------------------------------------------------------------\u001b[0m\n",
      "\u001b[32m2024-Dec-03 23:40:57.39\u001b[0m| \u001b[1mINFO    \u001b[0m | \u001b[36mkartiks-MacBook-Air.local\u001b[0m| \u001b[36msuperduper.base.apply\u001b[0m:\u001b[36m84  \u001b[0m | \u001b[1m[0]: datatype:file:121dd11d21464f2b: create ~ [1]\u001b[0m\n",
      "\u001b[32m2024-Dec-03 23:40:57.39\u001b[0m| \u001b[1mINFO    \u001b[0m | \u001b[36mkartiks-MacBook-Air.local\u001b[0m| \u001b[36msuperduper.base.apply\u001b[0m:\u001b[36m84  \u001b[0m | \u001b[1m[1]: schema:sample_pdf_rag/schema:fb963abf6f1041eb: create ~ [3]\u001b[0m\n",
      "\u001b[32m2024-Dec-03 23:40:57.39\u001b[0m| \u001b[1mINFO    \u001b[0m | \u001b[36mkartiks-MacBook-Air.local\u001b[0m| \u001b[36msuperduper.base.apply\u001b[0m:\u001b[36m84  \u001b[0m | \u001b[1m[2]: dataset:sample_pdfs:a49980907c504046: create ~ [3]\u001b[0m\n",
      "\u001b[32m2024-Dec-03 23:40:57.39\u001b[0m| \u001b[1mINFO    \u001b[0m | \u001b[36mkartiks-MacBook-Air.local\u001b[0m| \u001b[36msuperduper.base.apply\u001b[0m:\u001b[36m84  \u001b[0m | \u001b[1m[3]: table:sample_pdf_rag:a517dec411304504: create ~ [4]\u001b[0m\n",
      "\u001b[32m2024-Dec-03 23:40:57.39\u001b[0m| \u001b[1mINFO    \u001b[0m | \u001b[36mkartiks-MacBook-Air.local\u001b[0m| \u001b[36msuperduper.base.apply\u001b[0m:\u001b[36m88  \u001b[0m | \u001b[1m[4]: template:pdf-rag:f1a53de11ece4f38: create\u001b[0m\n",
      "\u001b[32m2024-Dec-03 23:40:57.39\u001b[0m| \u001b[1mINFO    \u001b[0m | \u001b[36mkartiks-MacBook-Air.local\u001b[0m| \u001b[36msuperduper.base.apply\u001b[0m:\u001b[36m90  \u001b[0m | \u001b[1m----------------------------------------------------------------------------------------------------\u001b[0m\n",
      "\u001b[32m2024-Dec-03 23:40:57.39\u001b[0m| \u001b[1mINFO    \u001b[0m | \u001b[36mkartiks-MacBook-Air.local\u001b[0m| \u001b[36msuperduper.base.apply\u001b[0m:\u001b[36m91  \u001b[0m | \u001b[1mJOBS EVENTS:\u001b[0m\n",
      "\u001b[32m2024-Dec-03 23:40:57.39\u001b[0m| \u001b[1mINFO    \u001b[0m | \u001b[36mkartiks-MacBook-Air.local\u001b[0m| \u001b[36msuperduper.base.apply\u001b[0m:\u001b[36m92  \u001b[0m | \u001b[1m----------------------------------------------------------------------------------------------------\u001b[0m\n",
      "\u001b[32m2024-Dec-03 23:40:57.39\u001b[0m| \u001b[1mINFO    \u001b[0m | \u001b[36mkartiks-MacBook-Air.local\u001b[0m| \u001b[36msuperduper.base.apply\u001b[0m:\u001b[36m105 \u001b[0m | \u001b[1m[0]: table:sample_pdf_rag:a517dec411304504.add_data: add_data\u001b[0m\n",
      "\u001b[32m2024-Dec-03 23:40:57.39\u001b[0m| \u001b[1mINFO    \u001b[0m | \u001b[36mkartiks-MacBook-Air.local\u001b[0m| \u001b[36msuperduper.base.apply\u001b[0m:\u001b[36m100 \u001b[0m | \u001b[1m[1]: table:sample_pdf_rag:a517dec411304504.set_status: set_status ~ [0]\u001b[0m\n",
      "\u001b[32m2024-Dec-03 23:40:57.39\u001b[0m| \u001b[1mINFO    \u001b[0m | \u001b[36mkartiks-MacBook-Air.local\u001b[0m| \u001b[36msuperduper.base.apply\u001b[0m:\u001b[36m107 \u001b[0m | \u001b[1m----------------------------------------------------------------------------------------------------\u001b[0m\n",
      "\u001b[1mPlease approve this deployment plan.\u001b[0m [Y/n]:"
     ]
    },
    {
     "name": "stdin",
     "output_type": "stream",
     "text": [
      "  y\n"
     ]
    },
    {
     "name": "stdout",
     "output_type": "stream",
     "text": [
      "\u001b[32m2024-Dec-03 23:40:59.92\u001b[0m| \u001b[1mINFO    \u001b[0m | \u001b[36mkartiks-MacBook-Air.local\u001b[0m| \u001b[36msuperduper.base.datalayer\u001b[0m:\u001b[36m590 \u001b[0m | \u001b[1mComponent 121dd11d21464f2b not found in cache, loading from db with uuid\u001b[0m\n",
      "\u001b[32m2024-Dec-03 23:40:59.93\u001b[0m| \u001b[1mINFO    \u001b[0m | \u001b[36mkartiks-MacBook-Air.local\u001b[0m| \u001b[36msuperduper.base.datalayer\u001b[0m:\u001b[36m612 \u001b[0m | \u001b[1mAdding datatype:file:121dd11d21464f2b to cache\u001b[0m\n",
      "\u001b[32m2024-Dec-03 23:40:59.95\u001b[0m| \u001b[1mINFO    \u001b[0m | \u001b[36mkartiks-MacBook-Air.local\u001b[0m| \u001b[36msuperduper.components.component\u001b[0m:\u001b[36m594 \u001b[0m | \u001b[1mAdding datatype: file to cache\u001b[0m\n",
      "\u001b[32m2024-Dec-03 23:40:59.95\u001b[0m| \u001b[1mINFO    \u001b[0m | \u001b[36mkartiks-MacBook-Air.local\u001b[0m| \u001b[36msuperduper.base.datalayer\u001b[0m:\u001b[36m590 \u001b[0m | \u001b[1mComponent fb963abf6f1041eb not found in cache, loading from db with uuid\u001b[0m\n",
      "\u001b[32m2024-Dec-03 23:40:59.96\u001b[0m| \u001b[1mINFO    \u001b[0m | \u001b[36mkartiks-MacBook-Air.local\u001b[0m| \u001b[36msuperduper.base.datalayer\u001b[0m:\u001b[36m612 \u001b[0m | \u001b[1mAdding schema:sample_pdf_rag/schema:fb963abf6f1041eb to cache\u001b[0m\n",
      "\u001b[32m2024-Dec-03 23:40:59.96\u001b[0m| \u001b[1mINFO    \u001b[0m | \u001b[36mkartiks-MacBook-Air.local\u001b[0m| \u001b[36msuperduper.components.component\u001b[0m:\u001b[36m594 \u001b[0m | \u001b[1mAdding schema: sample_pdf_rag/schema to cache\u001b[0m\n",
      "\u001b[32m2024-Dec-03 23:40:59.97\u001b[0m| \u001b[1mINFO    \u001b[0m | \u001b[36mkartiks-MacBook-Air.local\u001b[0m| \u001b[36msuperduper.base.datalayer\u001b[0m:\u001b[36m590 \u001b[0m | \u001b[1mComponent a49980907c504046 not found in cache, loading from db with uuid\u001b[0m\n",
      "\u001b[32m2024-Dec-03 23:40:59.97\u001b[0m| \u001b[1mINFO    \u001b[0m | \u001b[36mkartiks-MacBook-Air.local\u001b[0m| \u001b[36msuperduper.base.datalayer\u001b[0m:\u001b[36m612 \u001b[0m | \u001b[1mAdding dataset:sample_pdfs:a49980907c504046 to cache\u001b[0m\n",
      "\u001b[32m2024-Dec-03 23:40:59.97\u001b[0m| \u001b[1mINFO    \u001b[0m | \u001b[36mkartiks-MacBook-Air.local\u001b[0m| \u001b[36msuperduper.components.component\u001b[0m:\u001b[36m594 \u001b[0m | \u001b[1mAdding dataset: sample_pdfs to cache\u001b[0m\n",
      "\u001b[32m2024-Dec-03 23:40:59.98\u001b[0m| \u001b[1mINFO    \u001b[0m | \u001b[36mkartiks-MacBook-Air.local\u001b[0m| \u001b[36msuperduper.base.datalayer\u001b[0m:\u001b[36m590 \u001b[0m | \u001b[1mComponent a517dec411304504 not found in cache, loading from db with uuid\u001b[0m\n",
      "\u001b[32m2024-Dec-03 23:40:59.98\u001b[0m| \u001b[1mINFO    \u001b[0m | \u001b[36mkartiks-MacBook-Air.local\u001b[0m| \u001b[36msuperduper.base.datalayer\u001b[0m:\u001b[36m612 \u001b[0m | \u001b[1mAdding table:sample_pdf_rag:a517dec411304504 to cache\u001b[0m\n",
      "\u001b[32m2024-Dec-03 23:40:59.99\u001b[0m| \u001b[1mINFO    \u001b[0m | \u001b[36mkartiks-MacBook-Air.local\u001b[0m| \u001b[36msuperduper.base.datalayer\u001b[0m:\u001b[36m590 \u001b[0m | \u001b[1mComponent f1a53de11ece4f38 not found in cache, loading from db with uuid\u001b[0m\n",
      "\u001b[32m2024-Dec-03 23:41:00.00\u001b[0m| \u001b[1mINFO    \u001b[0m | \u001b[36mkartiks-MacBook-Air.local\u001b[0m| \u001b[36msuperduper.base.datalayer\u001b[0m:\u001b[36m612 \u001b[0m | \u001b[1mAdding template:pdf-rag:f1a53de11ece4f38 to cache\u001b[0m\n",
      "\u001b[32m2024-Dec-03 23:41:00.00\u001b[0m| \u001b[1mINFO    \u001b[0m | \u001b[36mkartiks-MacBook-Air.local\u001b[0m| \u001b[36msuperduper.components.component\u001b[0m:\u001b[36m594 \u001b[0m | \u001b[1mAdding template: pdf-rag to cache\u001b[0m\n",
      "\u001b[32m2024-Dec-03 23:41:00.03\u001b[0m| \u001b[1mINFO    \u001b[0m | \u001b[36mkartiks-MacBook-Air.local\u001b[0m| \u001b[36msuperduper_mongodb.artifacts\u001b[0m:\u001b[36m128 \u001b[0m | \u001b[1mUploading file /Users/kartiksharma/Work/superduperdb/code/superduper/small/mack-section-0.pdf to GridFS with file_id 0433eae5713ae63999ee687afd212d1fc2d39560\u001b[0m\n",
      "\u001b[32m2024-Dec-03 23:41:00.92\u001b[0m| \u001b[1mINFO    \u001b[0m | \u001b[36mkartiks-MacBook-Air.local\u001b[0m| \u001b[36msuperduper_mongodb.artifacts\u001b[0m:\u001b[36m128 \u001b[0m | \u001b[1mUploading file /Users/kartiksharma/Work/superduperdb/code/superduper/small/mack-section-5.pdf to GridFS with file_id 6015b03209ed267509ff0329964c786551093f97\u001b[0m\n",
      "\u001b[32m2024-Dec-03 23:41:01.13\u001b[0m| \u001b[1mINFO    \u001b[0m | \u001b[36mkartiks-MacBook-Air.local\u001b[0m| \u001b[36msuperduper.base.datalayer\u001b[0m:\u001b[36m309 \u001b[0m | \u001b[1mInserted 2 documents into sample_pdf_rag\u001b[0m\n"
     ]
    },
    {
     "data": {
      "text/plain": [
       "Template(identifier='pdf-rag', uuid='f1a53de11ece4f38', upstream=None, plugins=None, cache=True, status=<Status.ready: 'ready'>, build_variables=None, build_template=None, template={'_base': '?pdf-rag', '_builds': {'str': {'_path': 'superduper.components.schema.FieldType'}, 'datatype:file': {'_path': 'superduper.components.datatype.FileType', 'upstream': None, 'plugins': None, 'cache': True, 'build_variables': None, 'build_template': None}, 'schema:myschema': {'_path': 'superduper.components.schema.Schema', 'upstream': None, 'plugins': None, 'cache': True, 'build_variables': None, 'build_template': None, 'fields': {'url': '?str', 'file': '?datatype:file', '_fold': '?str'}}, 'table:<var:table_name>': {'_path': 'superduper.components.table.Table', 'upstream': None, 'plugins': None, 'cache': True, 'build_variables': None, 'build_template': None, 'schema': '?schema:myschema', 'primary_id': 'id', 'data': None}, 'model:split_image': {'_path': 'superduper.components.model.ObjectModel', 'upstream': None, 'plugins': None, 'cache': True, 'build_variables': None, 'build_template': None, 'signature': '*args,**kwargs', 'datatype': '?datatype:file', 'output_schema': None, 'model_update_kwargs': {}, 'predict_kwargs': {}, 'compute_kwargs': {}, 'validation': None, 'metric_values': {}, 'num_workers': 0, 'serve': False, 'trainer': None, 'deploy': False, 'object': '&:blob:568534984ca7688b45c9a5caaa73a5756e1a78a6', 'method': None}, 'sample-pdf-rag-find': {'_path': 'superduper_<var:databackend>.query.parse_query', 'documents': [], 'query': '<var:table_name>.find()'}, 'listener:split_image': {'_path': 'superduper.components.listener.Listener', 'upstream': None, 'plugins': None, 'cache': True, 'build_variables': None, 'build_template': None, 'key': 'file', 'model': '?model:split_image', 'predict_kwargs': {}, 'select': '?sample-pdf-rag-find', 'flatten': True}, 'json': {'_path': 'superduper.components.schema.FieldType'}, 'model:chunk': {'_path': 'superduper.components.model.ObjectModel', 'upstream': None, 'plugins': None, 'cache': True, 'build_variables': None, 'build_template': None, 'signature': '*args,**kwargs', 'datatype': '?json', 'output_schema': None, 'model_update_kwargs': {}, 'predict_kwargs': {}, 'compute_kwargs': {}, 'validation': None, 'metric_values': {}, 'num_workers': 0, 'serve': False, 'trainer': None, 'deploy': False, 'object': '&:blob:1087871ffeeb5420a415b53f5e137701fd991584', 'method': None}, 'sample-pdf-rag-select': {'_path': 'superduper_<var:databackend>.query.parse_query', 'documents': [], 'query': '<var:table_name>.select()'}, 'listener:chunk': {'_path': 'superduper.components.listener.Listener', 'upstream': None, 'plugins': None, 'cache': True, 'build_variables': None, 'build_template': None, 'key': 'file', 'model': '?model:chunk', 'predict_kwargs': {}, 'select': '?sample-pdf-rag-select', 'flatten': True}, 'datatype:vector[1536]': {'_path': 'superduper.components.datatype.Vector', 'upstream': None, 'plugins': None, 'cache': True, 'build_variables': None, 'build_template': None, 'shape': [1536], 'dtype': 'float32'}, 'model:text-embedding-ada-002': {'_path': 'superduper_openai.model.OpenAIEmbedding', 'upstream': None, 'plugins': None, 'cache': True, 'build_variables': None, 'build_template': None, 'signature': 'singleton', 'datatype': None, 'output_schema': None, 'model_update_kwargs': {}, 'predict_kwargs': {}, 'compute_kwargs': {}, 'validation': None, 'metric_values': {}, 'num_workers': 0, 'serve': False, 'trainer': None, 'deploy': False, 'model': 'text-embedding-ada-002', 'max_batch_size': 8, 'openai_api_key': None, 'openai_api_base': None, 'client_kwargs': {}, 'batch_size': 100}, 'model:sentence-transformers-embedding': {'_path': 'superduper_sentence_transformers.model.SentenceTransformer', 'preferred_devices': ['cuda', 'mps', 'cpu'], 'device': 'cpu', 'upstream': None, 'plugins': None, 'cache': True, 'build_variables': None, 'build_template': None, 'signature': 'singleton', 'datatype': None, 'output_schema': None, 'model_update_kwargs': {}, 'predict_kwargs': {'show_progress_bar': True}, 'compute_kwargs': {}, 'validation': None, 'metric_values': {}, 'num_workers': 0, 'serve': False, 'trainer': None, 'deploy': False, 'model': 'BAAI/bge-small-en', 'preprocess': None, 'postprocess': '&:blob:c190af19f02c96ce9f7c38409748ccfc98758827'}, 'model:embedding': {'_path': 'superduper.components.model.ModelRouter', 'upstream': None, 'plugins': None, 'cache': True, 'build_variables': None, 'build_template': None, 'signature': 'singleton', 'datatype': '?datatype:vector[1536]', 'output_schema': None, 'model_update_kwargs': {}, 'predict_kwargs': {}, 'compute_kwargs': {}, 'validation': None, 'metric_values': {}, 'num_workers': 0, 'serve': False, 'trainer': None, 'deploy': False, 'models': {'openai': '?model:text-embedding-ada-002', 'sentence_transformers': '?model:sentence-transformers-embedding'}, 'model': 'openai'}, 'outputs-chunk-?(listener:chunk.uuid)-select': {'_path': 'superduper_<var:databackend>.query.parse_query', 'documents': [], 'query': '<var:output_prefix>chunk__?(listener:chunk.uuid).select()'}, 'listener:embedding': {'_path': 'superduper.components.listener.Listener', 'upstream': ['?listener:chunk'], 'plugins': None, 'cache': True, 'build_variables': None, 'build_template': None, 'key': '<var:output_prefix>chunk__?(listener:chunk.uuid).txt', 'model': '?model:embedding', 'predict_kwargs': {}, 'select': '?outputs-chunk-?(listener:chunk.uuid)-select', 'flatten': False}, 'vector_index:vector-index': {'_path': 'superduper.components.vector_index.VectorIndex', 'upstream': None, 'plugins': None, 'cache': True, 'build_variables': None, 'build_template': None, 'indexing_listener': '?listener:embedding', 'compatible_listener': None, 'measure': 'cosine', 'metric_values': {}}, 'model:llm-openai': {'_path': 'superduper_openai.model.OpenAIChatCompletion', 'upstream': None, 'plugins': None, 'cache': True, 'build_variables': None, 'build_template': None, 'signature': 'singleton', 'datatype': 'str', 'output_schema': None, 'model_update_kwargs': {}, 'predict_kwargs': {}, 'compute_kwargs': {}, 'validation': None, 'metric_values': {}, 'num_workers': 0, 'serve': False, 'trainer': None, 'deploy': False, 'model': 'gpt-3.5-turbo', 'max_batch_size': 8, 'openai_api_key': None, 'openai_api_base': None, 'client_kwargs': {}, 'batch_size': 1, 'prompt': ''}, 'model:llm': {'_path': 'superduper.components.model.ModelRouter', 'upstream': None, 'plugins': None, 'cache': True, 'build_variables': None, 'build_template': None, 'signature': 'singleton', 'datatype': 'str', 'output_schema': None, 'model_update_kwargs': {}, 'predict_kwargs': {}, 'compute_kwargs': {}, 'validation': None, 'metric_values': {}, 'num_workers': 0, 'serve': False, 'trainer': None, 'deploy': False, 'models': {'openai': '?model:llm-openai'}, 'model': 'openai'}, 'plugin:plugin-utils_py': {'_path': 'superduper.components.plugin.Plugin', 'upstream': None, 'plugins': None, 'cache': True, 'build_variables': None, 'build_template': None, 'path': '&:file:0b4d904bb053e289821fd6f15ea1911784736167', 'cache_path': '~/.superduper/plugins'}, 'model:processor': {'_path': 'utils.Processor', 'upstream': None, 'plugins': ['?plugin:plugin-utils_py'], 'cache': True, 'build_variables': None, 'build_template': None, 'signature': '*args,**kwargs', 'datatype': None, 'output_schema': None, 'model_update_kwargs': {}, 'predict_kwargs': {}, 'compute_kwargs': {}, 'validation': None, 'metric_values': {}, 'num_workers': 0, 'serve': False, 'trainer': None, 'deploy': False, 'chunk_key': '<var:output_prefix>chunk__?(listener:chunk.uuid)', 'split_image_key': '<var:output_prefix>split_image__?(listener:split_image.uuid)'}, 'model:rag': {'_object': '&:blob:58d51953d88d26b2a08024f471d6896b12063698', 'upstream': None, 'plugins': None, 'cache': True, 'build_variables': None, 'build_template': None, 'signature': '*args,**kwargs', 'datatype': None, 'output_schema': None, 'model_update_kwargs': {}, 'predict_kwargs': {}, 'compute_kwargs': {}, 'validation': None, 'metric_values': {}, 'num_workers': 0, 'serve': False, 'trainer': None, 'deploy': False, 'llm_model': '?model:llm', 'vector_index_name': 'vector-index', 'prompt_template': '<var:prompt_template>', 'processor': '?model:processor'}, 'pdf-rag': {'_path': 'superduper.components.application.Application', 'upstream': None, 'plugins': None, 'cache': True, 'build_variables': None, 'build_template': None, 'components': ['?table:<var:table_name>', '?listener:split_image', '?listener:chunk', '?vector_index:vector-index', '?model:rag'], 'namespace': None, 'link': None, '_literals': ['template']}}, '_blobs': {}, '_files': {}}, template_variables=['table_name', 'prompt_template', 'llm_model', 'embedding_model'], types={'prompt_template': {'type': 'str', 'default': \"The following is a document and question\\nOnly provide a very concise answer\\nContext:\\n\\n{context}\\n\\nHere's the question:{query}\\nanswer:\"}, 'table_name': {'type': 'str', 'default': 'sample_pdf_rag'}, 'llm_model': {'type': 'str', 'choices': ['openai', 'anthropic', 'vllm'], 'default': 'openai'}, 'embedding_model': {'type': 'str', 'choices': ['openai', 'sentence_transformers'], 'default': 'openai'}}, schema=None, blobs=['f276aeaf60d75391f430275e9f286f9a15a5933d', '1db2546427804ee7161c5c5eedeb8521e6831413', '1087871ffeeb5420a415b53f5e137701fd991584', 'f9cdb1b37f64778b6d3e49c812bf0ca382161ac0', 'c190af19f02c96ce9f7c38409748ccfc98758827', '58d51953d88d26b2a08024f471d6896b12063698', 'a306e0ed6eecb5fd002ef781f9b24f8d73cc44cc', 'd3583f01e9b6265ee55da8cbc49f771b7df88a1a', 'bdba2e9a946ab0f953ea4fc5695757741189e8c3', '168ca61c9fd945101429646d8d26eb08ffa5b22b', 'a868c0484be7b5e20eebc5dc67370b275a6ee72e', '44db6ffe33f83e1174ff6ce4541538e136fcfdf0', '3d13bcd47e6a8a3f467070290a1b7300a10394ce', '568534984ca7688b45c9a5caaa73a5756e1a78a6', '674dc97acbefef0b2b35361bdda8f1bde0705d94'], files=['0b4d904bb053e289821fd6f15ea1911784736167', '9498b7a11ec9428e68b04e01475a2d85'], requirements=None, default_table=Table(identifier='sample_pdf_rag', uuid='a517dec411304504', upstream=None, plugins=None, cache=True, status=<Status.initializing: 'initializing'>, build_variables=None, build_template=None, schema=Schema(identifier='sample_pdf_rag/schema', uuid='fb963abf6f1041eb', upstream=None, plugins=None, cache=True, status=<Status.ready: 'ready'>, build_variables=None, build_template=None, fields={'url': FieldType(identifier='str', uuid='0ba486f949584e5c'), 'file': FileType(identifier='file', uuid='121dd11d21464f2b', upstream=None, plugins=None, cache=True, status=<Status.ready: 'ready'>, build_variables=None, build_template=None), '_fold': FieldType(identifier='str', uuid='0ba486f949584e5c')}), primary_id='id', data=RemoteData(identifier='sample_pdfs', uuid='a49980907c504046', upstream=None, plugins=None, cache=True, status=<Status.ready: 'ready'>, build_variables=None, build_template=None, getter=<function getter at 0x2e253bb50>)), queries=None)"
      ]
     },
     "execution_count": 81,
     "metadata": {},
     "output_type": "execute_result"
    }
   ],
   "source": [
    "db.apply(app)"
   ]
  },
  {
   "cell_type": "code",
   "execution_count": 89,
   "id": "ed6c6b8b-021f-4e11-8be2-896d2e4eeecf",
   "metadata": {},
   "outputs": [],
   "source": [
    "from superduper import Document, Component\n",
    "x = Document(app.template)"
   ]
  },
  {
   "cell_type": "code",
   "execution_count": 100,
   "id": "b6211d1a-f41b-483e-ad4b-43629b154ed8",
   "metadata": {},
   "outputs": [
    {
     "name": "stdout",
     "output_type": "stream",
     "text": [
      "\u001b[32m2024-Dec-03 23:54:52.69\u001b[0m| \u001b[1mINFO    \u001b[0m | \u001b[36mkartiks-MacBook-Air.local\u001b[0m| \u001b[36msuperduper.base.datalayer\u001b[0m:\u001b[36m590 \u001b[0m | \u001b[1mComponent 2b26440ac7db46eb not found in cache, loading from db with uuid\u001b[0m\n"
     ]
    },
    {
     "ename": "FileNotFoundError",
     "evalue": "Can't find 2b26440ac7db46eb in metadata",
     "output_type": "error",
     "traceback": [
      "\u001b[0;31m---------------------------------------------------------------------------\u001b[0m",
      "\u001b[0;31mKeyError\u001b[0m                                  Traceback (most recent call last)",
      "File \u001b[0;32m~/Work/superduperdb/code/superduper/superduper/base/datalayer.py:588\u001b[0m, in \u001b[0;36mDatalayer.load\u001b[0;34m(self, type_id, identifier, version, uuid, huuid, allow_hidden)\u001b[0m\n\u001b[1;32m    587\u001b[0m \u001b[38;5;28;01mtry\u001b[39;00m:\n\u001b[0;32m--> 588\u001b[0m     \u001b[38;5;28;01mreturn\u001b[39;00m \u001b[38;5;28;43mself\u001b[39;49m\u001b[38;5;241;43m.\u001b[39;49m\u001b[43mcluster\u001b[49m\u001b[38;5;241;43m.\u001b[39;49m\u001b[43mcache\u001b[49m\u001b[43m[\u001b[49m\u001b[43muuid\u001b[49m\u001b[43m]\u001b[49m\n\u001b[1;32m    589\u001b[0m \u001b[38;5;28;01mexcept\u001b[39;00m \u001b[38;5;167;01mKeyError\u001b[39;00m:\n",
      "File \u001b[0;32m~/Work/superduperdb/code/superduper/superduper/backends/local/cache.py:33\u001b[0m, in \u001b[0;36mLocalCache.__getitem__\u001b[0;34m(self, item)\u001b[0m\n\u001b[1;32m     32\u001b[0m     item \u001b[38;5;241m=\u001b[39m \u001b[38;5;28mself\u001b[39m\u001b[38;5;241m.\u001b[39m_component_to_uuid[item[\u001b[38;5;241m0\u001b[39m], item[\u001b[38;5;241m1\u001b[39m]]\n\u001b[0;32m---> 33\u001b[0m \u001b[38;5;28;01mreturn\u001b[39;00m \u001b[38;5;28;43mself\u001b[39;49m\u001b[38;5;241;43m.\u001b[39;49m\u001b[43m_cache\u001b[49m\u001b[43m[\u001b[49m\u001b[43mitem\u001b[49m\u001b[43m]\u001b[49m\n",
      "\u001b[0;31mKeyError\u001b[0m: '2b26440ac7db46eb'",
      "\nDuring handling of the above exception, another exception occurred:\n",
      "\u001b[0;31mFileNotFoundError\u001b[0m                         Traceback (most recent call last)",
      "Cell \u001b[0;32mIn[100], line 2\u001b[0m\n\u001b[1;32m      1\u001b[0m \u001b[38;5;28;01mfrom\u001b[39;00m \u001b[38;5;21;01msuperduper\u001b[39;00m \u001b[38;5;28;01mimport\u001b[39;00m Document, Component, Application\n\u001b[0;32m----> 2\u001b[0m app \u001b[38;5;241m=\u001b[39m \u001b[43mApplication\u001b[49m\u001b[38;5;241;43m.\u001b[39;49m\u001b[43mread\u001b[49m\u001b[43m(\u001b[49m\u001b[38;5;124;43m'\u001b[39;49m\u001b[38;5;124;43m./pdf-app/\u001b[39;49m\u001b[38;5;124;43m'\u001b[39;49m\u001b[43m,\u001b[49m\u001b[43m \u001b[49m\u001b[43mdb\u001b[49m\u001b[38;5;241;43m=\u001b[39;49m\u001b[43mdb\u001b[49m\u001b[43m)\u001b[49m\n",
      "File \u001b[0;32m~/Work/superduperdb/code/superduper/superduper/components/component.py:637\u001b[0m, in \u001b[0;36mComponent.read\u001b[0;34m(path, db)\u001b[0m\n\u001b[1;32m    634\u001b[0m             data \u001b[38;5;241m=\u001b[39m f\u001b[38;5;241m.\u001b[39mread()\n\u001b[1;32m    635\u001b[0m             db\u001b[38;5;241m.\u001b[39martifact_store\u001b[38;5;241m.\u001b[39mput_bytes(data, blob)\n\u001b[0;32m--> 637\u001b[0m     out \u001b[38;5;241m=\u001b[39m \u001b[43mDocument\u001b[49m\u001b[38;5;241;43m.\u001b[39;49m\u001b[43mdecode\u001b[49m\u001b[43m(\u001b[49m\u001b[43mconfig_object\u001b[49m\u001b[43m,\u001b[49m\u001b[43m \u001b[49m\u001b[43mdb\u001b[49m\u001b[38;5;241;43m=\u001b[39;49m\u001b[43mdb\u001b[49m\u001b[43m)\u001b[49m\u001b[38;5;241m.\u001b[39munpack()\n\u001b[1;32m    638\u001b[0m \u001b[38;5;28;01melse\u001b[39;00m:\n\u001b[1;32m    640\u001b[0m     \u001b[38;5;28;01mdef\u001b[39;00m \u001b[38;5;21mload_blob\u001b[39m(blob, loader\u001b[38;5;241m=\u001b[39m\u001b[38;5;28;01mNone\u001b[39;00m):\n",
      "File \u001b[0;32m~/Work/superduperdb/code/superduper/superduper/base/document.py:311\u001b[0m, in \u001b[0;36mDocument.decode\u001b[0;34m(cls, r, schema, db, getters)\u001b[0m\n\u001b[1;32m    308\u001b[0m     schema\u001b[38;5;241m.\u001b[39minit()\n\u001b[1;32m    309\u001b[0m     r \u001b[38;5;241m=\u001b[39m schema\u001b[38;5;241m.\u001b[39mdecode_data(r, getters)\n\u001b[0;32m--> 311\u001b[0m r \u001b[38;5;241m=\u001b[39m \u001b[43m_deep_flat_decode\u001b[49m\u001b[43m(\u001b[49m\n\u001b[1;32m    312\u001b[0m \u001b[43m    \u001b[49m\u001b[43m{\u001b[49m\u001b[43mk\u001b[49m\u001b[43m:\u001b[49m\u001b[43m \u001b[49m\u001b[43mv\u001b[49m\u001b[43m \u001b[49m\u001b[38;5;28;43;01mfor\u001b[39;49;00m\u001b[43m \u001b[49m\u001b[43mk\u001b[49m\u001b[43m,\u001b[49m\u001b[43m \u001b[49m\u001b[43mv\u001b[49m\u001b[43m \u001b[49m\u001b[38;5;129;43;01min\u001b[39;49;00m\u001b[43m \u001b[49m\u001b[43mr\u001b[49m\u001b[38;5;241;43m.\u001b[39;49m\u001b[43mitems\u001b[49m\u001b[43m(\u001b[49m\u001b[43m)\u001b[49m\u001b[43m \u001b[49m\u001b[38;5;28;43;01mif\u001b[39;49;00m\u001b[43m \u001b[49m\u001b[43mk\u001b[49m\u001b[43m \u001b[49m\u001b[38;5;129;43;01mnot\u001b[39;49;00m\u001b[43m \u001b[49m\u001b[38;5;129;43;01min\u001b[39;49;00m\u001b[43m \u001b[49m\u001b[43m(\u001b[49m\u001b[43mKEY_BUILDS\u001b[49m\u001b[43m,\u001b[49m\u001b[43m \u001b[49m\u001b[43mKEY_BLOBS\u001b[49m\u001b[43m,\u001b[49m\u001b[43m \u001b[49m\u001b[43mKEY_FILES\u001b[49m\u001b[43m)\u001b[49m\u001b[43m}\u001b[49m\u001b[43m,\u001b[49m\n\u001b[1;32m    313\u001b[0m \u001b[43m    \u001b[49m\u001b[43mbuilds\u001b[49m\u001b[38;5;241;43m=\u001b[39;49m\u001b[43mbuilds\u001b[49m\u001b[43m,\u001b[49m\n\u001b[1;32m    314\u001b[0m \u001b[43m    \u001b[49m\u001b[43mdb\u001b[49m\u001b[38;5;241;43m=\u001b[39;49m\u001b[43mdb\u001b[49m\u001b[43m,\u001b[49m\n\u001b[1;32m    315\u001b[0m \u001b[43m    \u001b[49m\u001b[43mgetters\u001b[49m\u001b[38;5;241;43m=\u001b[39;49m\u001b[43mgetters\u001b[49m\u001b[43m,\u001b[49m\n\u001b[1;32m    316\u001b[0m \u001b[43m\u001b[49m\u001b[43m)\u001b[49m\n\u001b[1;32m    318\u001b[0m \u001b[38;5;28;01mif\u001b[39;00m \u001b[38;5;28misinstance\u001b[39m(r, \u001b[38;5;28mdict\u001b[39m):\n\u001b[1;32m    319\u001b[0m     \u001b[38;5;28;01mreturn\u001b[39;00m Document(r, schema\u001b[38;5;241m=\u001b[39mschema)\n",
      "File \u001b[0;32m~/Work/superduperdb/code/superduper/superduper/base/document.py:653\u001b[0m, in \u001b[0;36m_deep_flat_decode\u001b[0;34m(r, builds, getters, db)\u001b[0m\n\u001b[1;32m    651\u001b[0m module \u001b[38;5;241m=\u001b[39m \u001b[38;5;124m'\u001b[39m\u001b[38;5;124m.\u001b[39m\u001b[38;5;124m'\u001b[39m\u001b[38;5;241m.\u001b[39mjoin(parts[:\u001b[38;5;241m-\u001b[39m\u001b[38;5;241m1\u001b[39m])\n\u001b[1;32m    652\u001b[0m dict_ \u001b[38;5;241m=\u001b[39m {k: v \u001b[38;5;28;01mfor\u001b[39;00m k, v \u001b[38;5;129;01min\u001b[39;00m r\u001b[38;5;241m.\u001b[39mitems() \u001b[38;5;28;01mif\u001b[39;00m k \u001b[38;5;241m!=\u001b[39m \u001b[38;5;124m'\u001b[39m\u001b[38;5;124m_path\u001b[39m\u001b[38;5;124m'\u001b[39m}\n\u001b[0;32m--> 653\u001b[0m dict_ \u001b[38;5;241m=\u001b[39m \u001b[43m_deep_flat_decode\u001b[49m\u001b[43m(\u001b[49m\u001b[43mdict_\u001b[49m\u001b[43m,\u001b[49m\u001b[43m \u001b[49m\u001b[43mbuilds\u001b[49m\u001b[43m,\u001b[49m\u001b[43m \u001b[49m\u001b[43mgetters\u001b[49m\u001b[38;5;241;43m=\u001b[39;49m\u001b[43mgetters\u001b[49m\u001b[43m,\u001b[49m\u001b[43m \u001b[49m\u001b[43mdb\u001b[49m\u001b[38;5;241;43m=\u001b[39;49m\u001b[43mdb\u001b[49m\u001b[43m)\u001b[49m\n\u001b[1;32m    654\u001b[0m instance \u001b[38;5;241m=\u001b[39m import_item(\u001b[38;5;28mcls\u001b[39m\u001b[38;5;241m=\u001b[39m\u001b[38;5;28mcls\u001b[39m, module\u001b[38;5;241m=\u001b[39mmodule, \u001b[38;5;28mdict\u001b[39m\u001b[38;5;241m=\u001b[39mdict_, db\u001b[38;5;241m=\u001b[39mdb)\n\u001b[1;32m    655\u001b[0m \u001b[38;5;28;01mreturn\u001b[39;00m instance\n",
      "File \u001b[0;32m~/Work/superduperdb/code/superduper/superduper/base/document.py:667\u001b[0m, in \u001b[0;36m_deep_flat_decode\u001b[0;34m(r, builds, getters, db)\u001b[0m\n\u001b[1;32m    665\u001b[0m \u001b[38;5;28;01mif\u001b[39;00m \u001b[38;5;28misinstance\u001b[39m(r, \u001b[38;5;28mdict\u001b[39m):\n\u001b[1;32m    666\u001b[0m     literals \u001b[38;5;241m=\u001b[39m r\u001b[38;5;241m.\u001b[39mget(\u001b[38;5;124m'\u001b[39m\u001b[38;5;124m_literals\u001b[39m\u001b[38;5;124m'\u001b[39m, [])\n\u001b[0;32m--> 667\u001b[0m     \u001b[38;5;28;01mreturn\u001b[39;00m {\n\u001b[1;32m    668\u001b[0m         _deep_flat_decode(k, builds, getters\u001b[38;5;241m=\u001b[39mgetters, db\u001b[38;5;241m=\u001b[39mdb): (\n\u001b[1;32m    669\u001b[0m             _deep_flat_decode(v, builds, getters\u001b[38;5;241m=\u001b[39mgetters, db\u001b[38;5;241m=\u001b[39mdb)\n\u001b[1;32m    670\u001b[0m             \u001b[38;5;28;01mif\u001b[39;00m k \u001b[38;5;129;01mnot\u001b[39;00m \u001b[38;5;129;01min\u001b[39;00m literals\n\u001b[1;32m    671\u001b[0m             \u001b[38;5;28;01melse\u001b[39;00m v\n\u001b[1;32m    672\u001b[0m         )\n\u001b[1;32m    673\u001b[0m         \u001b[38;5;28;01mfor\u001b[39;00m k, v \u001b[38;5;129;01min\u001b[39;00m r\u001b[38;5;241m.\u001b[39mitems()\n\u001b[1;32m    674\u001b[0m     }\n\u001b[1;32m    675\u001b[0m \u001b[38;5;28;01mif\u001b[39;00m \u001b[38;5;28misinstance\u001b[39m(r, \u001b[38;5;28mstr\u001b[39m) \u001b[38;5;129;01mand\u001b[39;00m \u001b[38;5;124m'\u001b[39m\u001b[38;5;124m?(\u001b[39m\u001b[38;5;124m'\u001b[39m \u001b[38;5;129;01min\u001b[39;00m r:\n\u001b[1;32m    676\u001b[0m     \u001b[38;5;28;01mimport\u001b[39;00m \u001b[38;5;21;01mre\u001b[39;00m\n",
      "File \u001b[0;32m~/Work/superduperdb/code/superduper/superduper/base/document.py:669\u001b[0m, in \u001b[0;36m<dictcomp>\u001b[0;34m(.0)\u001b[0m\n\u001b[1;32m    665\u001b[0m \u001b[38;5;28;01mif\u001b[39;00m \u001b[38;5;28misinstance\u001b[39m(r, \u001b[38;5;28mdict\u001b[39m):\n\u001b[1;32m    666\u001b[0m     literals \u001b[38;5;241m=\u001b[39m r\u001b[38;5;241m.\u001b[39mget(\u001b[38;5;124m'\u001b[39m\u001b[38;5;124m_literals\u001b[39m\u001b[38;5;124m'\u001b[39m, [])\n\u001b[1;32m    667\u001b[0m     \u001b[38;5;28;01mreturn\u001b[39;00m {\n\u001b[1;32m    668\u001b[0m         _deep_flat_decode(k, builds, getters\u001b[38;5;241m=\u001b[39mgetters, db\u001b[38;5;241m=\u001b[39mdb): (\n\u001b[0;32m--> 669\u001b[0m             \u001b[43m_deep_flat_decode\u001b[49m\u001b[43m(\u001b[49m\u001b[43mv\u001b[49m\u001b[43m,\u001b[49m\u001b[43m \u001b[49m\u001b[43mbuilds\u001b[49m\u001b[43m,\u001b[49m\u001b[43m \u001b[49m\u001b[43mgetters\u001b[49m\u001b[38;5;241;43m=\u001b[39;49m\u001b[43mgetters\u001b[49m\u001b[43m,\u001b[49m\u001b[43m \u001b[49m\u001b[43mdb\u001b[49m\u001b[38;5;241;43m=\u001b[39;49m\u001b[43mdb\u001b[49m\u001b[43m)\u001b[49m\n\u001b[1;32m    670\u001b[0m             \u001b[38;5;28;01mif\u001b[39;00m k \u001b[38;5;129;01mnot\u001b[39;00m \u001b[38;5;129;01min\u001b[39;00m literals\n\u001b[1;32m    671\u001b[0m             \u001b[38;5;28;01melse\u001b[39;00m v\n\u001b[1;32m    672\u001b[0m         )\n\u001b[1;32m    673\u001b[0m         \u001b[38;5;28;01mfor\u001b[39;00m k, v \u001b[38;5;129;01min\u001b[39;00m r\u001b[38;5;241m.\u001b[39mitems()\n\u001b[1;32m    674\u001b[0m     }\n\u001b[1;32m    675\u001b[0m \u001b[38;5;28;01mif\u001b[39;00m \u001b[38;5;28misinstance\u001b[39m(r, \u001b[38;5;28mstr\u001b[39m) \u001b[38;5;129;01mand\u001b[39;00m \u001b[38;5;124m'\u001b[39m\u001b[38;5;124m?(\u001b[39m\u001b[38;5;124m'\u001b[39m \u001b[38;5;129;01min\u001b[39;00m r:\n\u001b[1;32m    676\u001b[0m     \u001b[38;5;28;01mimport\u001b[39;00m \u001b[38;5;21;01mre\u001b[39;00m\n",
      "File \u001b[0;32m~/Work/superduperdb/code/superduper/superduper/base/document.py:646\u001b[0m, in \u001b[0;36m_deep_flat_decode\u001b[0;34m(r, builds, getters, db)\u001b[0m\n\u001b[1;32m    643\u001b[0m     \u001b[38;5;28;01mreturn\u001b[39;00m r\n\u001b[1;32m    644\u001b[0m \u001b[38;5;28;01mif\u001b[39;00m \u001b[38;5;28misinstance\u001b[39m(r, (\u001b[38;5;28mlist\u001b[39m, \u001b[38;5;28mtuple\u001b[39m)):\n\u001b[1;32m    645\u001b[0m     \u001b[38;5;28;01mreturn\u001b[39;00m \u001b[38;5;28mtype\u001b[39m(r)(\n\u001b[0;32m--> 646\u001b[0m         [_deep_flat_decode(x, builds, getters\u001b[38;5;241m=\u001b[39mgetters, db\u001b[38;5;241m=\u001b[39mdb) \u001b[38;5;28;01mfor\u001b[39;00m x \u001b[38;5;129;01min\u001b[39;00m r]\n\u001b[1;32m    647\u001b[0m     )\n\u001b[1;32m    648\u001b[0m \u001b[38;5;28;01mif\u001b[39;00m \u001b[38;5;28misinstance\u001b[39m(r, \u001b[38;5;28mdict\u001b[39m) \u001b[38;5;129;01mand\u001b[39;00m \u001b[38;5;124m'\u001b[39m\u001b[38;5;124m_path\u001b[39m\u001b[38;5;124m'\u001b[39m \u001b[38;5;129;01min\u001b[39;00m r \u001b[38;5;129;01mand\u001b[39;00m r[\u001b[38;5;124m'\u001b[39m\u001b[38;5;124m_path\u001b[39m\u001b[38;5;124m'\u001b[39m] \u001b[38;5;129;01mis\u001b[39;00m \u001b[38;5;129;01mnot\u001b[39;00m \u001b[38;5;28;01mNone\u001b[39;00m:\n\u001b[1;32m    649\u001b[0m     parts \u001b[38;5;241m=\u001b[39m r[\u001b[38;5;124m'\u001b[39m\u001b[38;5;124m_path\u001b[39m\u001b[38;5;124m'\u001b[39m]\u001b[38;5;241m.\u001b[39msplit(\u001b[38;5;124m'\u001b[39m\u001b[38;5;124m.\u001b[39m\u001b[38;5;124m'\u001b[39m)\n",
      "File \u001b[0;32m~/Work/superduperdb/code/superduper/superduper/base/document.py:646\u001b[0m, in \u001b[0;36m<listcomp>\u001b[0;34m(.0)\u001b[0m\n\u001b[1;32m    643\u001b[0m     \u001b[38;5;28;01mreturn\u001b[39;00m r\n\u001b[1;32m    644\u001b[0m \u001b[38;5;28;01mif\u001b[39;00m \u001b[38;5;28misinstance\u001b[39m(r, (\u001b[38;5;28mlist\u001b[39m, \u001b[38;5;28mtuple\u001b[39m)):\n\u001b[1;32m    645\u001b[0m     \u001b[38;5;28;01mreturn\u001b[39;00m \u001b[38;5;28mtype\u001b[39m(r)(\n\u001b[0;32m--> 646\u001b[0m         [\u001b[43m_deep_flat_decode\u001b[49m\u001b[43m(\u001b[49m\u001b[43mx\u001b[49m\u001b[43m,\u001b[49m\u001b[43m \u001b[49m\u001b[43mbuilds\u001b[49m\u001b[43m,\u001b[49m\u001b[43m \u001b[49m\u001b[43mgetters\u001b[49m\u001b[38;5;241;43m=\u001b[39;49m\u001b[43mgetters\u001b[49m\u001b[43m,\u001b[49m\u001b[43m \u001b[49m\u001b[43mdb\u001b[49m\u001b[38;5;241;43m=\u001b[39;49m\u001b[43mdb\u001b[49m\u001b[43m)\u001b[49m \u001b[38;5;28;01mfor\u001b[39;00m x \u001b[38;5;129;01min\u001b[39;00m r]\n\u001b[1;32m    647\u001b[0m     )\n\u001b[1;32m    648\u001b[0m \u001b[38;5;28;01mif\u001b[39;00m \u001b[38;5;28misinstance\u001b[39m(r, \u001b[38;5;28mdict\u001b[39m) \u001b[38;5;129;01mand\u001b[39;00m \u001b[38;5;124m'\u001b[39m\u001b[38;5;124m_path\u001b[39m\u001b[38;5;124m'\u001b[39m \u001b[38;5;129;01min\u001b[39;00m r \u001b[38;5;129;01mand\u001b[39;00m r[\u001b[38;5;124m'\u001b[39m\u001b[38;5;124m_path\u001b[39m\u001b[38;5;124m'\u001b[39m] \u001b[38;5;129;01mis\u001b[39;00m \u001b[38;5;129;01mnot\u001b[39;00m \u001b[38;5;28;01mNone\u001b[39;00m:\n\u001b[1;32m    649\u001b[0m     parts \u001b[38;5;241m=\u001b[39m r[\u001b[38;5;124m'\u001b[39m\u001b[38;5;124m_path\u001b[39m\u001b[38;5;124m'\u001b[39m]\u001b[38;5;241m.\u001b[39msplit(\u001b[38;5;124m'\u001b[39m\u001b[38;5;124m.\u001b[39m\u001b[38;5;124m'\u001b[39m)\n",
      "File \u001b[0;32m~/Work/superduperdb/code/superduper/superduper/base/document.py:687\u001b[0m, in \u001b[0;36m_deep_flat_decode\u001b[0;34m(r, builds, getters, db)\u001b[0m\n\u001b[1;32m    685\u001b[0m             \u001b[38;5;28;01mreturn\u001b[39;00m r\n\u001b[1;32m    686\u001b[0m \u001b[38;5;28;01mif\u001b[39;00m \u001b[38;5;28misinstance\u001b[39m(r, \u001b[38;5;28mstr\u001b[39m) \u001b[38;5;129;01mand\u001b[39;00m r\u001b[38;5;241m.\u001b[39mstartswith(\u001b[38;5;124m'\u001b[39m\u001b[38;5;124m?\u001b[39m\u001b[38;5;124m'\u001b[39m):\n\u001b[0;32m--> 687\u001b[0m     out \u001b[38;5;241m=\u001b[39m \u001b[43m_get_leaf_from_cache\u001b[49m\u001b[43m(\u001b[49m\u001b[43mr\u001b[49m\u001b[43m[\u001b[49m\u001b[38;5;241;43m1\u001b[39;49m\u001b[43m:\u001b[49m\u001b[43m]\u001b[49m\u001b[43m,\u001b[49m\u001b[43m \u001b[49m\u001b[43mbuilds\u001b[49m\u001b[43m,\u001b[49m\u001b[43m \u001b[49m\u001b[43mgetters\u001b[49m\u001b[38;5;241;43m=\u001b[39;49m\u001b[43mgetters\u001b[49m\u001b[43m,\u001b[49m\u001b[43m \u001b[49m\u001b[43mdb\u001b[49m\u001b[38;5;241;43m=\u001b[39;49m\u001b[43mdb\u001b[49m\u001b[43m)\u001b[49m\n\u001b[1;32m    688\u001b[0m     \u001b[38;5;28;01mreturn\u001b[39;00m out\n\u001b[1;32m    689\u001b[0m \u001b[38;5;28;01mif\u001b[39;00m \u001b[38;5;28misinstance\u001b[39m(r, \u001b[38;5;28mstr\u001b[39m) \u001b[38;5;129;01mand\u001b[39;00m r\u001b[38;5;241m.\u001b[39mstartswith(\u001b[38;5;124m'\u001b[39m\u001b[38;5;124m&\u001b[39m\u001b[38;5;124m'\u001b[39m):\n",
      "File \u001b[0;32m~/Work/superduperdb/code/superduper/superduper/base/document.py:610\u001b[0m, in \u001b[0;36m_get_leaf_from_cache\u001b[0;34m(k, builds, getters, db)\u001b[0m\n\u001b[1;32m    607\u001b[0m         \u001b[38;5;28;01mreturn\u001b[39;00m \u001b[38;5;28mgetattr\u001b[39m(leaf, attribute)\n\u001b[1;32m    608\u001b[0m     \u001b[38;5;28;01mreturn\u001b[39;00m leaf\n\u001b[0;32m--> 610\u001b[0m leaf \u001b[38;5;241m=\u001b[39m \u001b[43m_deep_flat_decode\u001b[49m\u001b[43m(\u001b[49m\u001b[43mbuilds\u001b[49m\u001b[43m[\u001b[49m\u001b[43mk\u001b[49m\u001b[43m]\u001b[49m\u001b[43m,\u001b[49m\u001b[43m \u001b[49m\u001b[43mbuilds\u001b[49m\u001b[43m,\u001b[49m\u001b[43m \u001b[49m\u001b[43mgetters\u001b[49m\u001b[38;5;241;43m=\u001b[39;49m\u001b[43mgetters\u001b[49m\u001b[43m,\u001b[49m\u001b[43m \u001b[49m\u001b[43mdb\u001b[49m\u001b[38;5;241;43m=\u001b[39;49m\u001b[43mdb\u001b[49m\u001b[43m)\u001b[49m\n\u001b[1;32m    612\u001b[0m builds[k] \u001b[38;5;241m=\u001b[39m leaf\n\u001b[1;32m    613\u001b[0m to_del \u001b[38;5;241m=\u001b[39m []\n",
      "File \u001b[0;32m~/Work/superduperdb/code/superduper/superduper/base/document.py:653\u001b[0m, in \u001b[0;36m_deep_flat_decode\u001b[0;34m(r, builds, getters, db)\u001b[0m\n\u001b[1;32m    651\u001b[0m module \u001b[38;5;241m=\u001b[39m \u001b[38;5;124m'\u001b[39m\u001b[38;5;124m.\u001b[39m\u001b[38;5;124m'\u001b[39m\u001b[38;5;241m.\u001b[39mjoin(parts[:\u001b[38;5;241m-\u001b[39m\u001b[38;5;241m1\u001b[39m])\n\u001b[1;32m    652\u001b[0m dict_ \u001b[38;5;241m=\u001b[39m {k: v \u001b[38;5;28;01mfor\u001b[39;00m k, v \u001b[38;5;129;01min\u001b[39;00m r\u001b[38;5;241m.\u001b[39mitems() \u001b[38;5;28;01mif\u001b[39;00m k \u001b[38;5;241m!=\u001b[39m \u001b[38;5;124m'\u001b[39m\u001b[38;5;124m_path\u001b[39m\u001b[38;5;124m'\u001b[39m}\n\u001b[0;32m--> 653\u001b[0m dict_ \u001b[38;5;241m=\u001b[39m \u001b[43m_deep_flat_decode\u001b[49m\u001b[43m(\u001b[49m\u001b[43mdict_\u001b[49m\u001b[43m,\u001b[49m\u001b[43m \u001b[49m\u001b[43mbuilds\u001b[49m\u001b[43m,\u001b[49m\u001b[43m \u001b[49m\u001b[43mgetters\u001b[49m\u001b[38;5;241;43m=\u001b[39;49m\u001b[43mgetters\u001b[49m\u001b[43m,\u001b[49m\u001b[43m \u001b[49m\u001b[43mdb\u001b[49m\u001b[38;5;241;43m=\u001b[39;49m\u001b[43mdb\u001b[49m\u001b[43m)\u001b[49m\n\u001b[1;32m    654\u001b[0m instance \u001b[38;5;241m=\u001b[39m import_item(\u001b[38;5;28mcls\u001b[39m\u001b[38;5;241m=\u001b[39m\u001b[38;5;28mcls\u001b[39m, module\u001b[38;5;241m=\u001b[39mmodule, \u001b[38;5;28mdict\u001b[39m\u001b[38;5;241m=\u001b[39mdict_, db\u001b[38;5;241m=\u001b[39mdb)\n\u001b[1;32m    655\u001b[0m \u001b[38;5;28;01mreturn\u001b[39;00m instance\n",
      "File \u001b[0;32m~/Work/superduperdb/code/superduper/superduper/base/document.py:667\u001b[0m, in \u001b[0;36m_deep_flat_decode\u001b[0;34m(r, builds, getters, db)\u001b[0m\n\u001b[1;32m    665\u001b[0m \u001b[38;5;28;01mif\u001b[39;00m \u001b[38;5;28misinstance\u001b[39m(r, \u001b[38;5;28mdict\u001b[39m):\n\u001b[1;32m    666\u001b[0m     literals \u001b[38;5;241m=\u001b[39m r\u001b[38;5;241m.\u001b[39mget(\u001b[38;5;124m'\u001b[39m\u001b[38;5;124m_literals\u001b[39m\u001b[38;5;124m'\u001b[39m, [])\n\u001b[0;32m--> 667\u001b[0m     \u001b[38;5;28;01mreturn\u001b[39;00m {\n\u001b[1;32m    668\u001b[0m         _deep_flat_decode(k, builds, getters\u001b[38;5;241m=\u001b[39mgetters, db\u001b[38;5;241m=\u001b[39mdb): (\n\u001b[1;32m    669\u001b[0m             _deep_flat_decode(v, builds, getters\u001b[38;5;241m=\u001b[39mgetters, db\u001b[38;5;241m=\u001b[39mdb)\n\u001b[1;32m    670\u001b[0m             \u001b[38;5;28;01mif\u001b[39;00m k \u001b[38;5;129;01mnot\u001b[39;00m \u001b[38;5;129;01min\u001b[39;00m literals\n\u001b[1;32m    671\u001b[0m             \u001b[38;5;28;01melse\u001b[39;00m v\n\u001b[1;32m    672\u001b[0m         )\n\u001b[1;32m    673\u001b[0m         \u001b[38;5;28;01mfor\u001b[39;00m k, v \u001b[38;5;129;01min\u001b[39;00m r\u001b[38;5;241m.\u001b[39mitems()\n\u001b[1;32m    674\u001b[0m     }\n\u001b[1;32m    675\u001b[0m \u001b[38;5;28;01mif\u001b[39;00m \u001b[38;5;28misinstance\u001b[39m(r, \u001b[38;5;28mstr\u001b[39m) \u001b[38;5;129;01mand\u001b[39;00m \u001b[38;5;124m'\u001b[39m\u001b[38;5;124m?(\u001b[39m\u001b[38;5;124m'\u001b[39m \u001b[38;5;129;01min\u001b[39;00m r:\n\u001b[1;32m    676\u001b[0m     \u001b[38;5;28;01mimport\u001b[39;00m \u001b[38;5;21;01mre\u001b[39;00m\n",
      "File \u001b[0;32m~/Work/superduperdb/code/superduper/superduper/base/document.py:669\u001b[0m, in \u001b[0;36m<dictcomp>\u001b[0;34m(.0)\u001b[0m\n\u001b[1;32m    665\u001b[0m \u001b[38;5;28;01mif\u001b[39;00m \u001b[38;5;28misinstance\u001b[39m(r, \u001b[38;5;28mdict\u001b[39m):\n\u001b[1;32m    666\u001b[0m     literals \u001b[38;5;241m=\u001b[39m r\u001b[38;5;241m.\u001b[39mget(\u001b[38;5;124m'\u001b[39m\u001b[38;5;124m_literals\u001b[39m\u001b[38;5;124m'\u001b[39m, [])\n\u001b[1;32m    667\u001b[0m     \u001b[38;5;28;01mreturn\u001b[39;00m {\n\u001b[1;32m    668\u001b[0m         _deep_flat_decode(k, builds, getters\u001b[38;5;241m=\u001b[39mgetters, db\u001b[38;5;241m=\u001b[39mdb): (\n\u001b[0;32m--> 669\u001b[0m             \u001b[43m_deep_flat_decode\u001b[49m\u001b[43m(\u001b[49m\u001b[43mv\u001b[49m\u001b[43m,\u001b[49m\u001b[43m \u001b[49m\u001b[43mbuilds\u001b[49m\u001b[43m,\u001b[49m\u001b[43m \u001b[49m\u001b[43mgetters\u001b[49m\u001b[38;5;241;43m=\u001b[39;49m\u001b[43mgetters\u001b[49m\u001b[43m,\u001b[49m\u001b[43m \u001b[49m\u001b[43mdb\u001b[49m\u001b[38;5;241;43m=\u001b[39;49m\u001b[43mdb\u001b[49m\u001b[43m)\u001b[49m\n\u001b[1;32m    670\u001b[0m             \u001b[38;5;28;01mif\u001b[39;00m k \u001b[38;5;129;01mnot\u001b[39;00m \u001b[38;5;129;01min\u001b[39;00m literals\n\u001b[1;32m    671\u001b[0m             \u001b[38;5;28;01melse\u001b[39;00m v\n\u001b[1;32m    672\u001b[0m         )\n\u001b[1;32m    673\u001b[0m         \u001b[38;5;28;01mfor\u001b[39;00m k, v \u001b[38;5;129;01min\u001b[39;00m r\u001b[38;5;241m.\u001b[39mitems()\n\u001b[1;32m    674\u001b[0m     }\n\u001b[1;32m    675\u001b[0m \u001b[38;5;28;01mif\u001b[39;00m \u001b[38;5;28misinstance\u001b[39m(r, \u001b[38;5;28mstr\u001b[39m) \u001b[38;5;129;01mand\u001b[39;00m \u001b[38;5;124m'\u001b[39m\u001b[38;5;124m?(\u001b[39m\u001b[38;5;124m'\u001b[39m \u001b[38;5;129;01min\u001b[39;00m r:\n\u001b[1;32m    676\u001b[0m     \u001b[38;5;28;01mimport\u001b[39;00m \u001b[38;5;21;01mre\u001b[39;00m\n",
      "File \u001b[0;32m~/Work/superduperdb/code/superduper/superduper/base/document.py:687\u001b[0m, in \u001b[0;36m_deep_flat_decode\u001b[0;34m(r, builds, getters, db)\u001b[0m\n\u001b[1;32m    685\u001b[0m             \u001b[38;5;28;01mreturn\u001b[39;00m r\n\u001b[1;32m    686\u001b[0m \u001b[38;5;28;01mif\u001b[39;00m \u001b[38;5;28misinstance\u001b[39m(r, \u001b[38;5;28mstr\u001b[39m) \u001b[38;5;129;01mand\u001b[39;00m r\u001b[38;5;241m.\u001b[39mstartswith(\u001b[38;5;124m'\u001b[39m\u001b[38;5;124m?\u001b[39m\u001b[38;5;124m'\u001b[39m):\n\u001b[0;32m--> 687\u001b[0m     out \u001b[38;5;241m=\u001b[39m \u001b[43m_get_leaf_from_cache\u001b[49m\u001b[43m(\u001b[49m\u001b[43mr\u001b[49m\u001b[43m[\u001b[49m\u001b[38;5;241;43m1\u001b[39;49m\u001b[43m:\u001b[49m\u001b[43m]\u001b[49m\u001b[43m,\u001b[49m\u001b[43m \u001b[49m\u001b[43mbuilds\u001b[49m\u001b[43m,\u001b[49m\u001b[43m \u001b[49m\u001b[43mgetters\u001b[49m\u001b[38;5;241;43m=\u001b[39;49m\u001b[43mgetters\u001b[49m\u001b[43m,\u001b[49m\u001b[43m \u001b[49m\u001b[43mdb\u001b[49m\u001b[38;5;241;43m=\u001b[39;49m\u001b[43mdb\u001b[49m\u001b[43m)\u001b[49m\n\u001b[1;32m    688\u001b[0m     \u001b[38;5;28;01mreturn\u001b[39;00m out\n\u001b[1;32m    689\u001b[0m \u001b[38;5;28;01mif\u001b[39;00m \u001b[38;5;28misinstance\u001b[39m(r, \u001b[38;5;28mstr\u001b[39m) \u001b[38;5;129;01mand\u001b[39;00m r\u001b[38;5;241m.\u001b[39mstartswith(\u001b[38;5;124m'\u001b[39m\u001b[38;5;124m&\u001b[39m\u001b[38;5;124m'\u001b[39m):\n",
      "File \u001b[0;32m~/Work/superduperdb/code/superduper/superduper/base/document.py:610\u001b[0m, in \u001b[0;36m_get_leaf_from_cache\u001b[0;34m(k, builds, getters, db)\u001b[0m\n\u001b[1;32m    607\u001b[0m         \u001b[38;5;28;01mreturn\u001b[39;00m \u001b[38;5;28mgetattr\u001b[39m(leaf, attribute)\n\u001b[1;32m    608\u001b[0m     \u001b[38;5;28;01mreturn\u001b[39;00m leaf\n\u001b[0;32m--> 610\u001b[0m leaf \u001b[38;5;241m=\u001b[39m \u001b[43m_deep_flat_decode\u001b[49m\u001b[43m(\u001b[49m\u001b[43mbuilds\u001b[49m\u001b[43m[\u001b[49m\u001b[43mk\u001b[49m\u001b[43m]\u001b[49m\u001b[43m,\u001b[49m\u001b[43m \u001b[49m\u001b[43mbuilds\u001b[49m\u001b[43m,\u001b[49m\u001b[43m \u001b[49m\u001b[43mgetters\u001b[49m\u001b[38;5;241;43m=\u001b[39;49m\u001b[43mgetters\u001b[49m\u001b[43m,\u001b[49m\u001b[43m \u001b[49m\u001b[43mdb\u001b[49m\u001b[38;5;241;43m=\u001b[39;49m\u001b[43mdb\u001b[49m\u001b[43m)\u001b[49m\n\u001b[1;32m    612\u001b[0m builds[k] \u001b[38;5;241m=\u001b[39m leaf\n\u001b[1;32m    613\u001b[0m to_del \u001b[38;5;241m=\u001b[39m []\n",
      "File \u001b[0;32m~/Work/superduperdb/code/superduper/superduper/base/document.py:653\u001b[0m, in \u001b[0;36m_deep_flat_decode\u001b[0;34m(r, builds, getters, db)\u001b[0m\n\u001b[1;32m    651\u001b[0m module \u001b[38;5;241m=\u001b[39m \u001b[38;5;124m'\u001b[39m\u001b[38;5;124m.\u001b[39m\u001b[38;5;124m'\u001b[39m\u001b[38;5;241m.\u001b[39mjoin(parts[:\u001b[38;5;241m-\u001b[39m\u001b[38;5;241m1\u001b[39m])\n\u001b[1;32m    652\u001b[0m dict_ \u001b[38;5;241m=\u001b[39m {k: v \u001b[38;5;28;01mfor\u001b[39;00m k, v \u001b[38;5;129;01min\u001b[39;00m r\u001b[38;5;241m.\u001b[39mitems() \u001b[38;5;28;01mif\u001b[39;00m k \u001b[38;5;241m!=\u001b[39m \u001b[38;5;124m'\u001b[39m\u001b[38;5;124m_path\u001b[39m\u001b[38;5;124m'\u001b[39m}\n\u001b[0;32m--> 653\u001b[0m dict_ \u001b[38;5;241m=\u001b[39m \u001b[43m_deep_flat_decode\u001b[49m\u001b[43m(\u001b[49m\u001b[43mdict_\u001b[49m\u001b[43m,\u001b[49m\u001b[43m \u001b[49m\u001b[43mbuilds\u001b[49m\u001b[43m,\u001b[49m\u001b[43m \u001b[49m\u001b[43mgetters\u001b[49m\u001b[38;5;241;43m=\u001b[39;49m\u001b[43mgetters\u001b[49m\u001b[43m,\u001b[49m\u001b[43m \u001b[49m\u001b[43mdb\u001b[49m\u001b[38;5;241;43m=\u001b[39;49m\u001b[43mdb\u001b[49m\u001b[43m)\u001b[49m\n\u001b[1;32m    654\u001b[0m instance \u001b[38;5;241m=\u001b[39m import_item(\u001b[38;5;28mcls\u001b[39m\u001b[38;5;241m=\u001b[39m\u001b[38;5;28mcls\u001b[39m, module\u001b[38;5;241m=\u001b[39mmodule, \u001b[38;5;28mdict\u001b[39m\u001b[38;5;241m=\u001b[39mdict_, db\u001b[38;5;241m=\u001b[39mdb)\n\u001b[1;32m    655\u001b[0m \u001b[38;5;28;01mreturn\u001b[39;00m instance\n",
      "File \u001b[0;32m~/Work/superduperdb/code/superduper/superduper/base/document.py:667\u001b[0m, in \u001b[0;36m_deep_flat_decode\u001b[0;34m(r, builds, getters, db)\u001b[0m\n\u001b[1;32m    665\u001b[0m \u001b[38;5;28;01mif\u001b[39;00m \u001b[38;5;28misinstance\u001b[39m(r, \u001b[38;5;28mdict\u001b[39m):\n\u001b[1;32m    666\u001b[0m     literals \u001b[38;5;241m=\u001b[39m r\u001b[38;5;241m.\u001b[39mget(\u001b[38;5;124m'\u001b[39m\u001b[38;5;124m_literals\u001b[39m\u001b[38;5;124m'\u001b[39m, [])\n\u001b[0;32m--> 667\u001b[0m     \u001b[38;5;28;01mreturn\u001b[39;00m {\n\u001b[1;32m    668\u001b[0m         _deep_flat_decode(k, builds, getters\u001b[38;5;241m=\u001b[39mgetters, db\u001b[38;5;241m=\u001b[39mdb): (\n\u001b[1;32m    669\u001b[0m             _deep_flat_decode(v, builds, getters\u001b[38;5;241m=\u001b[39mgetters, db\u001b[38;5;241m=\u001b[39mdb)\n\u001b[1;32m    670\u001b[0m             \u001b[38;5;28;01mif\u001b[39;00m k \u001b[38;5;129;01mnot\u001b[39;00m \u001b[38;5;129;01min\u001b[39;00m literals\n\u001b[1;32m    671\u001b[0m             \u001b[38;5;28;01melse\u001b[39;00m v\n\u001b[1;32m    672\u001b[0m         )\n\u001b[1;32m    673\u001b[0m         \u001b[38;5;28;01mfor\u001b[39;00m k, v \u001b[38;5;129;01min\u001b[39;00m r\u001b[38;5;241m.\u001b[39mitems()\n\u001b[1;32m    674\u001b[0m     }\n\u001b[1;32m    675\u001b[0m \u001b[38;5;28;01mif\u001b[39;00m \u001b[38;5;28misinstance\u001b[39m(r, \u001b[38;5;28mstr\u001b[39m) \u001b[38;5;129;01mand\u001b[39;00m \u001b[38;5;124m'\u001b[39m\u001b[38;5;124m?(\u001b[39m\u001b[38;5;124m'\u001b[39m \u001b[38;5;129;01min\u001b[39;00m r:\n\u001b[1;32m    676\u001b[0m     \u001b[38;5;28;01mimport\u001b[39;00m \u001b[38;5;21;01mre\u001b[39;00m\n",
      "File \u001b[0;32m~/Work/superduperdb/code/superduper/superduper/base/document.py:669\u001b[0m, in \u001b[0;36m<dictcomp>\u001b[0;34m(.0)\u001b[0m\n\u001b[1;32m    665\u001b[0m \u001b[38;5;28;01mif\u001b[39;00m \u001b[38;5;28misinstance\u001b[39m(r, \u001b[38;5;28mdict\u001b[39m):\n\u001b[1;32m    666\u001b[0m     literals \u001b[38;5;241m=\u001b[39m r\u001b[38;5;241m.\u001b[39mget(\u001b[38;5;124m'\u001b[39m\u001b[38;5;124m_literals\u001b[39m\u001b[38;5;124m'\u001b[39m, [])\n\u001b[1;32m    667\u001b[0m     \u001b[38;5;28;01mreturn\u001b[39;00m {\n\u001b[1;32m    668\u001b[0m         _deep_flat_decode(k, builds, getters\u001b[38;5;241m=\u001b[39mgetters, db\u001b[38;5;241m=\u001b[39mdb): (\n\u001b[0;32m--> 669\u001b[0m             \u001b[43m_deep_flat_decode\u001b[49m\u001b[43m(\u001b[49m\u001b[43mv\u001b[49m\u001b[43m,\u001b[49m\u001b[43m \u001b[49m\u001b[43mbuilds\u001b[49m\u001b[43m,\u001b[49m\u001b[43m \u001b[49m\u001b[43mgetters\u001b[49m\u001b[38;5;241;43m=\u001b[39;49m\u001b[43mgetters\u001b[49m\u001b[43m,\u001b[49m\u001b[43m \u001b[49m\u001b[43mdb\u001b[49m\u001b[38;5;241;43m=\u001b[39;49m\u001b[43mdb\u001b[49m\u001b[43m)\u001b[49m\n\u001b[1;32m    670\u001b[0m             \u001b[38;5;28;01mif\u001b[39;00m k \u001b[38;5;129;01mnot\u001b[39;00m \u001b[38;5;129;01min\u001b[39;00m literals\n\u001b[1;32m    671\u001b[0m             \u001b[38;5;28;01melse\u001b[39;00m v\n\u001b[1;32m    672\u001b[0m         )\n\u001b[1;32m    673\u001b[0m         \u001b[38;5;28;01mfor\u001b[39;00m k, v \u001b[38;5;129;01min\u001b[39;00m r\u001b[38;5;241m.\u001b[39mitems()\n\u001b[1;32m    674\u001b[0m     }\n\u001b[1;32m    675\u001b[0m \u001b[38;5;28;01mif\u001b[39;00m \u001b[38;5;28misinstance\u001b[39m(r, \u001b[38;5;28mstr\u001b[39m) \u001b[38;5;129;01mand\u001b[39;00m \u001b[38;5;124m'\u001b[39m\u001b[38;5;124m?(\u001b[39m\u001b[38;5;124m'\u001b[39m \u001b[38;5;129;01min\u001b[39;00m r:\n\u001b[1;32m    676\u001b[0m     \u001b[38;5;28;01mimport\u001b[39;00m \u001b[38;5;21;01mre\u001b[39;00m\n",
      "File \u001b[0;32m~/Work/superduperdb/code/superduper/superduper/base/document.py:646\u001b[0m, in \u001b[0;36m_deep_flat_decode\u001b[0;34m(r, builds, getters, db)\u001b[0m\n\u001b[1;32m    643\u001b[0m     \u001b[38;5;28;01mreturn\u001b[39;00m r\n\u001b[1;32m    644\u001b[0m \u001b[38;5;28;01mif\u001b[39;00m \u001b[38;5;28misinstance\u001b[39m(r, (\u001b[38;5;28mlist\u001b[39m, \u001b[38;5;28mtuple\u001b[39m)):\n\u001b[1;32m    645\u001b[0m     \u001b[38;5;28;01mreturn\u001b[39;00m \u001b[38;5;28mtype\u001b[39m(r)(\n\u001b[0;32m--> 646\u001b[0m         [_deep_flat_decode(x, builds, getters\u001b[38;5;241m=\u001b[39mgetters, db\u001b[38;5;241m=\u001b[39mdb) \u001b[38;5;28;01mfor\u001b[39;00m x \u001b[38;5;129;01min\u001b[39;00m r]\n\u001b[1;32m    647\u001b[0m     )\n\u001b[1;32m    648\u001b[0m \u001b[38;5;28;01mif\u001b[39;00m \u001b[38;5;28misinstance\u001b[39m(r, \u001b[38;5;28mdict\u001b[39m) \u001b[38;5;129;01mand\u001b[39;00m \u001b[38;5;124m'\u001b[39m\u001b[38;5;124m_path\u001b[39m\u001b[38;5;124m'\u001b[39m \u001b[38;5;129;01min\u001b[39;00m r \u001b[38;5;129;01mand\u001b[39;00m r[\u001b[38;5;124m'\u001b[39m\u001b[38;5;124m_path\u001b[39m\u001b[38;5;124m'\u001b[39m] \u001b[38;5;129;01mis\u001b[39;00m \u001b[38;5;129;01mnot\u001b[39;00m \u001b[38;5;28;01mNone\u001b[39;00m:\n\u001b[1;32m    649\u001b[0m     parts \u001b[38;5;241m=\u001b[39m r[\u001b[38;5;124m'\u001b[39m\u001b[38;5;124m_path\u001b[39m\u001b[38;5;124m'\u001b[39m]\u001b[38;5;241m.\u001b[39msplit(\u001b[38;5;124m'\u001b[39m\u001b[38;5;124m.\u001b[39m\u001b[38;5;124m'\u001b[39m)\n",
      "File \u001b[0;32m~/Work/superduperdb/code/superduper/superduper/base/document.py:646\u001b[0m, in \u001b[0;36m<listcomp>\u001b[0;34m(.0)\u001b[0m\n\u001b[1;32m    643\u001b[0m     \u001b[38;5;28;01mreturn\u001b[39;00m r\n\u001b[1;32m    644\u001b[0m \u001b[38;5;28;01mif\u001b[39;00m \u001b[38;5;28misinstance\u001b[39m(r, (\u001b[38;5;28mlist\u001b[39m, \u001b[38;5;28mtuple\u001b[39m)):\n\u001b[1;32m    645\u001b[0m     \u001b[38;5;28;01mreturn\u001b[39;00m \u001b[38;5;28mtype\u001b[39m(r)(\n\u001b[0;32m--> 646\u001b[0m         [\u001b[43m_deep_flat_decode\u001b[49m\u001b[43m(\u001b[49m\u001b[43mx\u001b[49m\u001b[43m,\u001b[49m\u001b[43m \u001b[49m\u001b[43mbuilds\u001b[49m\u001b[43m,\u001b[49m\u001b[43m \u001b[49m\u001b[43mgetters\u001b[49m\u001b[38;5;241;43m=\u001b[39;49m\u001b[43mgetters\u001b[49m\u001b[43m,\u001b[49m\u001b[43m \u001b[49m\u001b[43mdb\u001b[49m\u001b[38;5;241;43m=\u001b[39;49m\u001b[43mdb\u001b[49m\u001b[43m)\u001b[49m \u001b[38;5;28;01mfor\u001b[39;00m x \u001b[38;5;129;01min\u001b[39;00m r]\n\u001b[1;32m    647\u001b[0m     )\n\u001b[1;32m    648\u001b[0m \u001b[38;5;28;01mif\u001b[39;00m \u001b[38;5;28misinstance\u001b[39m(r, \u001b[38;5;28mdict\u001b[39m) \u001b[38;5;129;01mand\u001b[39;00m \u001b[38;5;124m'\u001b[39m\u001b[38;5;124m_path\u001b[39m\u001b[38;5;124m'\u001b[39m \u001b[38;5;129;01min\u001b[39;00m r \u001b[38;5;129;01mand\u001b[39;00m r[\u001b[38;5;124m'\u001b[39m\u001b[38;5;124m_path\u001b[39m\u001b[38;5;124m'\u001b[39m] \u001b[38;5;129;01mis\u001b[39;00m \u001b[38;5;129;01mnot\u001b[39;00m \u001b[38;5;28;01mNone\u001b[39;00m:\n\u001b[1;32m    649\u001b[0m     parts \u001b[38;5;241m=\u001b[39m r[\u001b[38;5;124m'\u001b[39m\u001b[38;5;124m_path\u001b[39m\u001b[38;5;124m'\u001b[39m]\u001b[38;5;241m.\u001b[39msplit(\u001b[38;5;124m'\u001b[39m\u001b[38;5;124m.\u001b[39m\u001b[38;5;124m'\u001b[39m)\n",
      "File \u001b[0;32m~/Work/superduperdb/code/superduper/superduper/base/document.py:692\u001b[0m, in \u001b[0;36m_deep_flat_decode\u001b[0;34m(r, builds, getters, db)\u001b[0m\n\u001b[1;32m    690\u001b[0m     \u001b[38;5;28;01massert\u001b[39;00m getters \u001b[38;5;129;01mis\u001b[39;00m \u001b[38;5;129;01mnot\u001b[39;00m \u001b[38;5;28;01mNone\u001b[39;00m\n\u001b[1;32m    691\u001b[0m     reference \u001b[38;5;241m=\u001b[39m parse_reference(r)\n\u001b[0;32m--> 692\u001b[0m     out \u001b[38;5;241m=\u001b[39m \u001b[43mgetters\u001b[49m\u001b[38;5;241;43m.\u001b[39;49m\u001b[43mrun\u001b[49m\u001b[43m(\u001b[49m\u001b[43mreference\u001b[49m\u001b[38;5;241;43m.\u001b[39;49m\u001b[43mname\u001b[49m\u001b[43m,\u001b[49m\u001b[43m \u001b[49m\u001b[43mreference\u001b[49m\u001b[38;5;241;43m.\u001b[39;49m\u001b[43mpath\u001b[49m\u001b[43m)\u001b[49m\n\u001b[1;32m    693\u001b[0m     \u001b[38;5;28;01mreturn\u001b[39;00m out\n\u001b[1;32m    694\u001b[0m \u001b[38;5;28;01mreturn\u001b[39;00m r\n",
      "File \u001b[0;32m~/Work/superduperdb/code/superduper/superduper/base/document.py:59\u001b[0m, in \u001b[0;36mGetters.run\u001b[0;34m(self, name, data)\u001b[0m\n\u001b[1;32m     57\u001b[0m     \u001b[38;5;28;01mreturn\u001b[39;00m data\n\u001b[1;32m     58\u001b[0m \u001b[38;5;28;01mfor\u001b[39;00m getter \u001b[38;5;129;01min\u001b[39;00m \u001b[38;5;28mself\u001b[39m\u001b[38;5;241m.\u001b[39m_getters[name]:\n\u001b[0;32m---> 59\u001b[0m     out \u001b[38;5;241m=\u001b[39m \u001b[43mgetter\u001b[49m\u001b[43m(\u001b[49m\u001b[43mdata\u001b[49m\u001b[43m)\u001b[49m\n\u001b[1;32m     60\u001b[0m     \u001b[38;5;28;01mif\u001b[39;00m out \u001b[38;5;129;01mis\u001b[39;00m \u001b[38;5;129;01mnot\u001b[39;00m \u001b[38;5;28;01mNone\u001b[39;00m:\n\u001b[1;32m     61\u001b[0m         \u001b[38;5;28;01mreturn\u001b[39;00m out\n",
      "File \u001b[0;32m~/Work/superduperdb/code/superduper/superduper/base/document.py:303\u001b[0m, in \u001b[0;36mDocument.decode.<locals>.<lambda>\u001b[0;34m(x)\u001b[0m\n\u001b[1;32m    300\u001b[0m     getters\u001b[38;5;241m.\u001b[39madd_getter(\u001b[38;5;124m'\u001b[39m\u001b[38;5;124mfile\u001b[39m\u001b[38;5;124m'\u001b[39m, my_getter)\n\u001b[1;32m    302\u001b[0m \u001b[38;5;28;01mif\u001b[39;00m db \u001b[38;5;129;01mis\u001b[39;00m \u001b[38;5;129;01mnot\u001b[39;00m \u001b[38;5;28;01mNone\u001b[39;00m:\n\u001b[0;32m--> 303\u001b[0m     getters\u001b[38;5;241m.\u001b[39madd_getter(\u001b[38;5;124m'\u001b[39m\u001b[38;5;124mcomponent\u001b[39m\u001b[38;5;124m'\u001b[39m, \u001b[38;5;28;01mlambda\u001b[39;00m x: \u001b[43m_get_component\u001b[49m\u001b[43m(\u001b[49m\u001b[43mdb\u001b[49m\u001b[43m,\u001b[49m\u001b[43m \u001b[49m\u001b[43mx\u001b[49m\u001b[43m)\u001b[49m)\n\u001b[1;32m    304\u001b[0m     getters\u001b[38;5;241m.\u001b[39madd_getter(\u001b[38;5;124m'\u001b[39m\u001b[38;5;124mblob\u001b[39m\u001b[38;5;124m'\u001b[39m, _get_blob_callback(db))\n\u001b[1;32m    305\u001b[0m     getters\u001b[38;5;241m.\u001b[39madd_getter(\u001b[38;5;124m'\u001b[39m\u001b[38;5;124mfile\u001b[39m\u001b[38;5;124m'\u001b[39m, _get_file_callback(db))\n",
      "File \u001b[0;32m~/Work/superduperdb/code/superduper/superduper/base/document.py:712\u001b[0m, in \u001b[0;36m_get_component\u001b[0;34m(db, path)\u001b[0m\n\u001b[1;32m    710\u001b[0m \u001b[38;5;28;01mif\u001b[39;00m \u001b[38;5;28mlen\u001b[39m(parts) \u001b[38;5;241m==\u001b[39m \u001b[38;5;241m3\u001b[39m:\n\u001b[1;32m    711\u001b[0m     \u001b[38;5;28;01mif\u001b[39;00m \u001b[38;5;129;01mnot\u001b[39;00m _check_if_version(parts[\u001b[38;5;241m2\u001b[39m]):\n\u001b[0;32m--> 712\u001b[0m         out \u001b[38;5;241m=\u001b[39m \u001b[43mdb\u001b[49m\u001b[38;5;241;43m.\u001b[39;49m\u001b[43mload\u001b[49m\u001b[43m(\u001b[49m\u001b[43muuid\u001b[49m\u001b[38;5;241;43m=\u001b[39;49m\u001b[43mparts\u001b[49m\u001b[43m[\u001b[49m\u001b[38;5;241;43m2\u001b[39;49m\u001b[43m]\u001b[49m\u001b[43m)\u001b[49m\n\u001b[1;32m    713\u001b[0m         \u001b[38;5;28;01mreturn\u001b[39;00m out\n\u001b[1;32m    714\u001b[0m     \u001b[38;5;28;01mreturn\u001b[39;00m db\u001b[38;5;241m.\u001b[39mload(type_id\u001b[38;5;241m=\u001b[39mparts[\u001b[38;5;241m0\u001b[39m], identifier\u001b[38;5;241m=\u001b[39mparts[\u001b[38;5;241m1\u001b[39m], version\u001b[38;5;241m=\u001b[39mparts[\u001b[38;5;241m2\u001b[39m])\n",
      "File \u001b[0;32m~/Work/superduperdb/code/superduper/superduper/base/datalayer.py:593\u001b[0m, in \u001b[0;36mDatalayer.load\u001b[0;34m(self, type_id, identifier, version, uuid, huuid, allow_hidden)\u001b[0m\n\u001b[1;32m    589\u001b[0m \u001b[38;5;28;01mexcept\u001b[39;00m \u001b[38;5;167;01mKeyError\u001b[39;00m:\n\u001b[1;32m    590\u001b[0m     logging\u001b[38;5;241m.\u001b[39minfo(\n\u001b[1;32m    591\u001b[0m         \u001b[38;5;124mf\u001b[39m\u001b[38;5;124m'\u001b[39m\u001b[38;5;124mComponent \u001b[39m\u001b[38;5;132;01m{\u001b[39;00muuid\u001b[38;5;132;01m}\u001b[39;00m\u001b[38;5;124m not found in cache, loading from db with uuid\u001b[39m\u001b[38;5;124m'\u001b[39m\n\u001b[1;32m    592\u001b[0m     )\n\u001b[0;32m--> 593\u001b[0m     info \u001b[38;5;241m=\u001b[39m \u001b[38;5;28;43mself\u001b[39;49m\u001b[38;5;241;43m.\u001b[39;49m\u001b[43mmetadata\u001b[49m\u001b[38;5;241;43m.\u001b[39;49m\u001b[43mget_component_by_uuid\u001b[49m\u001b[43m(\u001b[49m\n\u001b[1;32m    594\u001b[0m \u001b[43m        \u001b[49m\u001b[43muuid\u001b[49m\u001b[38;5;241;43m=\u001b[39;49m\u001b[43muuid\u001b[49m\u001b[43m,\u001b[49m\u001b[43m \u001b[49m\u001b[43mallow_hidden\u001b[49m\u001b[38;5;241;43m=\u001b[39;49m\u001b[43mallow_hidden\u001b[49m\n\u001b[1;32m    595\u001b[0m \u001b[43m    \u001b[49m\u001b[43m)\u001b[49m\n\u001b[1;32m    596\u001b[0m     \u001b[38;5;28;01mtry\u001b[39;00m:\n\u001b[1;32m    597\u001b[0m         class_schema \u001b[38;5;241m=\u001b[39m import_object(info[\u001b[38;5;124m'\u001b[39m\u001b[38;5;124m_path\u001b[39m\u001b[38;5;124m'\u001b[39m])\u001b[38;5;241m.\u001b[39mbuild_class_schema()\n",
      "File \u001b[0;32m~/Work/superduperdb/code/superduper/superduper/backends/base/data_backend.py:225\u001b[0m, in \u001b[0;36mDataBackendProxy._try_execute.<locals>.wrapper\u001b[0;34m(*args, **kwargs)\u001b[0m\n\u001b[1;32m    223\u001b[0m     \u001b[38;5;28;01mreturn\u001b[39;00m attr(\u001b[38;5;241m*\u001b[39margs, \u001b[38;5;241m*\u001b[39m\u001b[38;5;241m*\u001b[39mkwargs)\n\u001b[1;32m    224\u001b[0m \u001b[38;5;28;01melse\u001b[39;00m:\n\u001b[0;32m--> 225\u001b[0m     \u001b[38;5;28;01mraise\u001b[39;00m e\n",
      "File \u001b[0;32m~/Work/superduperdb/code/superduper/superduper/backends/base/data_backend.py:214\u001b[0m, in \u001b[0;36mDataBackendProxy._try_execute.<locals>.wrapper\u001b[0;34m(*args, **kwargs)\u001b[0m\n\u001b[1;32m    211\u001b[0m \u001b[38;5;129m@functools\u001b[39m\u001b[38;5;241m.\u001b[39mwraps(attr)\n\u001b[1;32m    212\u001b[0m \u001b[38;5;28;01mdef\u001b[39;00m \u001b[38;5;21mwrapper\u001b[39m(\u001b[38;5;241m*\u001b[39margs, \u001b[38;5;241m*\u001b[39m\u001b[38;5;241m*\u001b[39mkwargs):\n\u001b[1;32m    213\u001b[0m     \u001b[38;5;28;01mtry\u001b[39;00m:\n\u001b[0;32m--> 214\u001b[0m         \u001b[38;5;28;01mreturn\u001b[39;00m \u001b[43mattr\u001b[49m\u001b[43m(\u001b[49m\u001b[38;5;241;43m*\u001b[39;49m\u001b[43margs\u001b[49m\u001b[43m,\u001b[49m\u001b[43m \u001b[49m\u001b[38;5;241;43m*\u001b[39;49m\u001b[38;5;241;43m*\u001b[39;49m\u001b[43mkwargs\u001b[49m\u001b[43m)\u001b[49m\n\u001b[1;32m    215\u001b[0m     \u001b[38;5;28;01mexcept\u001b[39;00m \u001b[38;5;167;01mException\u001b[39;00m \u001b[38;5;28;01mas\u001b[39;00m e:\n\u001b[1;32m    216\u001b[0m         error_message \u001b[38;5;241m=\u001b[39m \u001b[38;5;28mstr\u001b[39m(e)\u001b[38;5;241m.\u001b[39mlower()\n",
      "File \u001b[0;32m~/Work/superduperdb/code/superduper/plugins/mongodb/superduper_mongodb/metadata.py:310\u001b[0m, in \u001b[0;36mMongoMetaDataStore.get_component_by_uuid\u001b[0;34m(self, uuid, allow_hidden)\u001b[0m\n\u001b[1;32m    308\u001b[0m r \u001b[38;5;241m=\u001b[39m \u001b[38;5;28mself\u001b[39m\u001b[38;5;241m.\u001b[39mcomponent_collection\u001b[38;5;241m.\u001b[39mfind_one({\u001b[38;5;124m'\u001b[39m\u001b[38;5;124muuid\u001b[39m\u001b[38;5;124m'\u001b[39m: uuid})\n\u001b[1;32m    309\u001b[0m \u001b[38;5;28;01mif\u001b[39;00m r \u001b[38;5;129;01mis\u001b[39;00m \u001b[38;5;28;01mNone\u001b[39;00m:\n\u001b[0;32m--> 310\u001b[0m     \u001b[38;5;28;01mraise\u001b[39;00m \u001b[38;5;167;01mFileNotFoundError\u001b[39;00m(\u001b[38;5;124mf\u001b[39m\u001b[38;5;124m'\u001b[39m\u001b[38;5;124mCan\u001b[39m\u001b[38;5;130;01m\\'\u001b[39;00m\u001b[38;5;124mt find \u001b[39m\u001b[38;5;132;01m{\u001b[39;00muuid\u001b[38;5;132;01m}\u001b[39;00m\u001b[38;5;124m in metadata\u001b[39m\u001b[38;5;124m'\u001b[39m)\n\u001b[1;32m    311\u001b[0m \u001b[38;5;28;01mreturn\u001b[39;00m \u001b[38;5;28mself\u001b[39m\u001b[38;5;241m.\u001b[39m_get_component(\n\u001b[1;32m    312\u001b[0m     type_id\u001b[38;5;241m=\u001b[39mr[\u001b[38;5;124m'\u001b[39m\u001b[38;5;124mtype_id\u001b[39m\u001b[38;5;124m'\u001b[39m],\n\u001b[1;32m    313\u001b[0m     identifier\u001b[38;5;241m=\u001b[39mr[\u001b[38;5;124m'\u001b[39m\u001b[38;5;124midentifier\u001b[39m\u001b[38;5;124m'\u001b[39m],\n\u001b[1;32m    314\u001b[0m     version\u001b[38;5;241m=\u001b[39mr[\u001b[38;5;124m'\u001b[39m\u001b[38;5;124mversion\u001b[39m\u001b[38;5;124m'\u001b[39m],\n\u001b[1;32m    315\u001b[0m     allow_hidden\u001b[38;5;241m=\u001b[39mallow_hidden,\n\u001b[1;32m    316\u001b[0m )\n",
      "\u001b[0;31mFileNotFoundError\u001b[0m: Can't find 2b26440ac7db46eb in metadata"
     ]
    }
   ],
   "source": [
    "from superduper import Document, Component, Application\n",
    "app = Application.read('./pdf-app/', db=db)"
   ]
  },
  {
   "cell_type": "code",
   "execution_count": 111,
   "id": "dea1522e-a6d2-49d6-b24d-cb9b3998f65f",
   "metadata": {},
   "outputs": [
    {
     "name": "stdout",
     "output_type": "stream",
     "text": [
      "\u001b[32m2024-Dec-03 23:57:26.34\u001b[0m| \u001b[33m\u001b[1mWARNING \u001b[0m | \u001b[36mkartiks-MacBook-Air.local\u001b[0m| \u001b[36msuperduper.base.document\u001b[0m:\u001b[36m558 \u001b[0m | \u001b[33m\u001b[1mLeaf str already exists\u001b[0m\n",
      "\u001b[32m2024-Dec-03 23:57:26.36\u001b[0m| \u001b[33m\u001b[1mWARNING \u001b[0m | \u001b[36mkartiks-MacBook-Air.local\u001b[0m| \u001b[36msuperduper.base.document\u001b[0m:\u001b[36m558 \u001b[0m | \u001b[33m\u001b[1mLeaf datatype:file already exists\u001b[0m\n",
      "\u001b[32m2024-Dec-03 23:57:26.36\u001b[0m| \u001b[33m\u001b[1mWARNING \u001b[0m | \u001b[36mkartiks-MacBook-Air.local\u001b[0m| \u001b[36msuperduper.base.document\u001b[0m:\u001b[36m558 \u001b[0m | \u001b[33m\u001b[1mLeaf datatype:file already exists\u001b[0m\n",
      "\u001b[32m2024-Dec-03 23:57:26.36\u001b[0m| \u001b[33m\u001b[1mWARNING \u001b[0m | \u001b[36mkartiks-MacBook-Air.local\u001b[0m| \u001b[36msuperduper.base.document\u001b[0m:\u001b[36m558 \u001b[0m | \u001b[33m\u001b[1mLeaf str already exists\u001b[0m\n",
      "\u001b[32m2024-Dec-03 23:57:26.37\u001b[0m| \u001b[33m\u001b[1mWARNING \u001b[0m | \u001b[36mkartiks-MacBook-Air.local\u001b[0m| \u001b[36msuperduper.base.document\u001b[0m:\u001b[36m558 \u001b[0m | \u001b[33m\u001b[1mLeaf ID already exists\u001b[0m\n",
      "\u001b[32m2024-Dec-03 23:57:26.37\u001b[0m| \u001b[33m\u001b[1mWARNING \u001b[0m | \u001b[36mkartiks-MacBook-Air.local\u001b[0m| \u001b[36msuperduper.base.document\u001b[0m:\u001b[36m558 \u001b[0m | \u001b[33m\u001b[1mLeaf json already exists\u001b[0m\n",
      "\u001b[32m2024-Dec-03 23:57:26.37\u001b[0m| \u001b[33m\u001b[1mWARNING \u001b[0m | \u001b[36mkartiks-MacBook-Air.local\u001b[0m| \u001b[36msuperduper.base.document\u001b[0m:\u001b[36m558 \u001b[0m | \u001b[33m\u001b[1mLeaf str already exists\u001b[0m\n",
      "\u001b[32m2024-Dec-03 23:57:28.99\u001b[0m| \u001b[33m\u001b[1mWARNING \u001b[0m | \u001b[36mkartiks-MacBook-Air.local\u001b[0m| \u001b[36msuperduper.base.document\u001b[0m:\u001b[36m558 \u001b[0m | \u001b[33m\u001b[1mLeaf ID already exists\u001b[0m\n",
      "\u001b[32m2024-Dec-03 23:57:28.99\u001b[0m| \u001b[33m\u001b[1mWARNING \u001b[0m | \u001b[36mkartiks-MacBook-Air.local\u001b[0m| \u001b[36msuperduper.base.document\u001b[0m:\u001b[36m558 \u001b[0m | \u001b[33m\u001b[1mLeaf ID already exists\u001b[0m\n",
      "\u001b[32m2024-Dec-03 23:57:28.99\u001b[0m| \u001b[33m\u001b[1mWARNING \u001b[0m | \u001b[36mkartiks-MacBook-Air.local\u001b[0m| \u001b[36msuperduper.base.document\u001b[0m:\u001b[36m558 \u001b[0m | \u001b[33m\u001b[1mLeaf datatype:vector[1536] already exists\u001b[0m\n",
      "\u001b[32m2024-Dec-03 23:57:28.99\u001b[0m| \u001b[33m\u001b[1mWARNING \u001b[0m | \u001b[36mkartiks-MacBook-Air.local\u001b[0m| \u001b[36msuperduper.base.document\u001b[0m:\u001b[36m558 \u001b[0m | \u001b[33m\u001b[1mLeaf str already exists\u001b[0m\n"
     ]
    }
   ],
   "source": [
    "x = app.encode()"
   ]
  },
  {
   "cell_type": "code",
   "execution_count": 130,
   "id": "4a57f68a-1d81-414f-9fe0-b4d5e17bebf4",
   "metadata": {},
   "outputs": [
    {
     "data": {
      "text/plain": [
       "dict_keys(['568534984ca7688b45c9a5caaa73a5756e1a78a6', '1087871ffeeb5420a415b53f5e137701fd991584', 'c190af19f02c96ce9f7c38409748ccfc98758827', '58d51953d88d26b2a08024f471d6896b12063698'])"
      ]
     },
     "execution_count": 130,
     "metadata": {},
     "output_type": "execute_result"
    }
   ],
   "source": [
    "x['_blobs'].keys()\n",
    "#new_app = Document.decode(x, db=db)['_base']"
   ]
  },
  {
   "cell_type": "code",
   "execution_count": null,
   "id": "bc47236a-221a-4975-914f-d57db903eb90",
   "metadata": {},
   "outputs": [],
   "source": [
    "#new_app.db = None\n",
    "db.apply(new_app)"
   ]
  },
  {
   "cell_type": "code",
   "execution_count": 139,
   "id": "5d5cbf70-fd0d-4696-bcc6-f23cdcc07ab1",
   "metadata": {},
   "outputs": [
    {
     "name": "stdout",
     "output_type": "stream",
     "text": [
      "\u001b[32m2024-Dec-04 00:31:16.85\u001b[0m| \u001b[1mINFO    \u001b[0m | \u001b[36mkartiks-MacBook-Air.local\u001b[0m| \u001b[36msuperduper.misc.plugins\u001b[0m:\u001b[36m13  \u001b[0m | \u001b[1mLoading plugin: mongodb\u001b[0m\n",
      "\u001b[32m2024-Dec-04 00:31:16.89\u001b[0m| \u001b[1mINFO    \u001b[0m | \u001b[36mkartiks-MacBook-Air.local\u001b[0m| \u001b[36msuperduper.base.datalayer\u001b[0m:\u001b[36m68  \u001b[0m | \u001b[1mBuilding Data Layer\u001b[0m\n",
      "\u001b[32m2024-Dec-04 00:31:16.90\u001b[0m| \u001b[1mINFO    \u001b[0m | \u001b[36mkartiks-MacBook-Air.local\u001b[0m| \u001b[36msuperduper.base.build\u001b[0m:\u001b[36m184 \u001b[0m | \u001b[1mConfiguration: \n",
      " +---------------+-----------------------------------+\n",
      "| Configuration |               Value               |\n",
      "+---------------+-----------------------------------+\n",
      "|  Data Backend | mongodb://localhost:27017/test_db |\n",
      "+---------------+-----------------------------------+\u001b[0m\n",
      "\u001b[32m2024-Dec-04 00:31:16.90\u001b[0m| \u001b[33m\u001b[1mWARNING \u001b[0m | \u001b[36mkartiks-MacBook-Air.local\u001b[0m| \u001b[36msuperduper_mongodb.artifacts\u001b[0m:\u001b[36m111 \u001b[0m | \u001b[33m\u001b[1mFile f276aeaf60d75391f430275e9f286f9a15a5933d already exists\u001b[0m\n",
      "\u001b[32m2024-Dec-04 00:31:16.92\u001b[0m| \u001b[33m\u001b[1mWARNING \u001b[0m | \u001b[36mkartiks-MacBook-Air.local\u001b[0m| \u001b[36msuperduper_mongodb.artifacts\u001b[0m:\u001b[36m111 \u001b[0m | \u001b[33m\u001b[1mFile 1db2546427804ee7161c5c5eedeb8521e6831413 already exists\u001b[0m\n",
      "\u001b[32m2024-Dec-04 00:31:16.94\u001b[0m| \u001b[33m\u001b[1mWARNING \u001b[0m | \u001b[36mkartiks-MacBook-Air.local\u001b[0m| \u001b[36msuperduper_mongodb.artifacts\u001b[0m:\u001b[36m111 \u001b[0m | \u001b[33m\u001b[1mFile 1087871ffeeb5420a415b53f5e137701fd991584 already exists\u001b[0m\n",
      "\u001b[32m2024-Dec-04 00:31:16.95\u001b[0m| \u001b[33m\u001b[1mWARNING \u001b[0m | \u001b[36mkartiks-MacBook-Air.local\u001b[0m| \u001b[36msuperduper_mongodb.artifacts\u001b[0m:\u001b[36m111 \u001b[0m | \u001b[33m\u001b[1mFile f9cdb1b37f64778b6d3e49c812bf0ca382161ac0 already exists\u001b[0m\n",
      "\u001b[32m2024-Dec-04 00:31:16.97\u001b[0m| \u001b[33m\u001b[1mWARNING \u001b[0m | \u001b[36mkartiks-MacBook-Air.local\u001b[0m| \u001b[36msuperduper_mongodb.artifacts\u001b[0m:\u001b[36m111 \u001b[0m | \u001b[33m\u001b[1mFile c190af19f02c96ce9f7c38409748ccfc98758827 already exists\u001b[0m\n",
      "\u001b[32m2024-Dec-04 00:31:16.98\u001b[0m| \u001b[33m\u001b[1mWARNING \u001b[0m | \u001b[36mkartiks-MacBook-Air.local\u001b[0m| \u001b[36msuperduper_mongodb.artifacts\u001b[0m:\u001b[36m111 \u001b[0m | \u001b[33m\u001b[1mFile 58d51953d88d26b2a08024f471d6896b12063698 already exists\u001b[0m\n",
      "\u001b[32m2024-Dec-04 00:31:16.99\u001b[0m| \u001b[33m\u001b[1mWARNING \u001b[0m | \u001b[36mkartiks-MacBook-Air.local\u001b[0m| \u001b[36msuperduper_mongodb.artifacts\u001b[0m:\u001b[36m111 \u001b[0m | \u001b[33m\u001b[1mFile a306e0ed6eecb5fd002ef781f9b24f8d73cc44cc already exists\u001b[0m\n",
      "\u001b[32m2024-Dec-04 00:31:17.01\u001b[0m| \u001b[33m\u001b[1mWARNING \u001b[0m | \u001b[36mkartiks-MacBook-Air.local\u001b[0m| \u001b[36msuperduper_mongodb.artifacts\u001b[0m:\u001b[36m111 \u001b[0m | \u001b[33m\u001b[1mFile d3583f01e9b6265ee55da8cbc49f771b7df88a1a already exists\u001b[0m\n",
      "\u001b[32m2024-Dec-04 00:31:17.02\u001b[0m| \u001b[33m\u001b[1mWARNING \u001b[0m | \u001b[36mkartiks-MacBook-Air.local\u001b[0m| \u001b[36msuperduper_mongodb.artifacts\u001b[0m:\u001b[36m111 \u001b[0m | \u001b[33m\u001b[1mFile bdba2e9a946ab0f953ea4fc5695757741189e8c3 already exists\u001b[0m\n",
      "\u001b[32m2024-Dec-04 00:31:17.04\u001b[0m| \u001b[33m\u001b[1mWARNING \u001b[0m | \u001b[36mkartiks-MacBook-Air.local\u001b[0m| \u001b[36msuperduper_mongodb.artifacts\u001b[0m:\u001b[36m111 \u001b[0m | \u001b[33m\u001b[1mFile 168ca61c9fd945101429646d8d26eb08ffa5b22b already exists\u001b[0m\n",
      "\u001b[32m2024-Dec-04 00:31:17.05\u001b[0m| \u001b[33m\u001b[1mWARNING \u001b[0m | \u001b[36mkartiks-MacBook-Air.local\u001b[0m| \u001b[36msuperduper_mongodb.artifacts\u001b[0m:\u001b[36m111 \u001b[0m | \u001b[33m\u001b[1mFile a868c0484be7b5e20eebc5dc67370b275a6ee72e already exists\u001b[0m\n",
      "\u001b[32m2024-Dec-04 00:31:17.06\u001b[0m| \u001b[33m\u001b[1mWARNING \u001b[0m | \u001b[36mkartiks-MacBook-Air.local\u001b[0m| \u001b[36msuperduper_mongodb.artifacts\u001b[0m:\u001b[36m111 \u001b[0m | \u001b[33m\u001b[1mFile 44db6ffe33f83e1174ff6ce4541538e136fcfdf0 already exists\u001b[0m\n",
      "\u001b[32m2024-Dec-04 00:31:17.08\u001b[0m| \u001b[33m\u001b[1mWARNING \u001b[0m | \u001b[36mkartiks-MacBook-Air.local\u001b[0m| \u001b[36msuperduper_mongodb.artifacts\u001b[0m:\u001b[36m111 \u001b[0m | \u001b[33m\u001b[1mFile 3d13bcd47e6a8a3f467070290a1b7300a10394ce already exists\u001b[0m\n",
      "\u001b[32m2024-Dec-04 00:31:17.09\u001b[0m| \u001b[33m\u001b[1mWARNING \u001b[0m | \u001b[36mkartiks-MacBook-Air.local\u001b[0m| \u001b[36msuperduper_mongodb.artifacts\u001b[0m:\u001b[36m111 \u001b[0m | \u001b[33m\u001b[1mFile 568534984ca7688b45c9a5caaa73a5756e1a78a6 already exists\u001b[0m\n",
      "\u001b[32m2024-Dec-04 00:31:17.11\u001b[0m| \u001b[33m\u001b[1mWARNING \u001b[0m | \u001b[36mkartiks-MacBook-Air.local\u001b[0m| \u001b[36msuperduper_mongodb.artifacts\u001b[0m:\u001b[36m111 \u001b[0m | \u001b[33m\u001b[1mFile 674dc97acbefef0b2b35361bdda8f1bde0705d94 already exists\u001b[0m\n",
      "\u001b[32m2024-Dec-04 00:31:17.13\u001b[0m| \u001b[33m\u001b[1mWARNING \u001b[0m | \u001b[36mkartiks-MacBook-Air.local\u001b[0m| \u001b[36msuperduper.base.document\u001b[0m:\u001b[36m558 \u001b[0m | \u001b[33m\u001b[1mLeaf str already exists\u001b[0m\n",
      "table:<var:table_name>\n",
      "superduper_<var:databackend>.query.parse_query\n",
      "<var:table_name>.find()\n",
      "superduper_<var:databackend>.query.parse_query\n",
      "<var:table_name>.select()\n",
      "superduper_<var:databackend>.query.parse_query\n",
      "<var:output_prefix>chunk__?(listener:chunk.uuid).select()\n",
      "<var:output_prefix>chunk__?(listener:chunk.uuid).txt\n",
      "<var:output_prefix>chunk__?(listener:chunk.uuid)\n",
      "<var:output_prefix>split_image__?(listener:split_image.uuid)\n",
      "?table:<var:table_name>\n",
      "\u001b[32m2024-Dec-04 00:31:21.36\u001b[0m| \u001b[1mINFO    \u001b[0m | \u001b[36mkartiks-MacBook-Air.local\u001b[0m| \u001b[36msuperduper.components.plugin\u001b[0m:\u001b[36m106 \u001b[0m | \u001b[1mPreparing plugin plugin-utils_py\u001b[0m\n",
      "\u001b[32m2024-Dec-04 00:31:21.36\u001b[0m| \u001b[1mINFO    \u001b[0m | \u001b[36mkartiks-MacBook-Air.local\u001b[0m| \u001b[36msuperduper.components.plugin\u001b[0m:\u001b[36m113 \u001b[0m | \u001b[1mDownloading plugin plugin-utils_py to ./files/0b4d904bb053e289821fd6f15ea1911784736167/utils.py\u001b[0m\n",
      "\u001b[32m2024-Dec-04 00:31:21.36\u001b[0m| \u001b[1mINFO    \u001b[0m | \u001b[36mkartiks-MacBook-Air.local\u001b[0m| \u001b[36msuperduper.components.plugin\u001b[0m:\u001b[36m118 \u001b[0m | \u001b[1mCopying plugin [plugin-utils_py] to /Users/kartiksharma/.superduper/plugins/7e4275b8a4b04f47/utils.py\u001b[0m\n",
      "\u001b[32m2024-Dec-04 00:31:21.38\u001b[0m| \u001b[1mINFO    \u001b[0m | \u001b[36mkartiks-MacBook-Air.local\u001b[0m| \u001b[36msuperduper.components.application\u001b[0m:\u001b[36m39  \u001b[0m | \u001b[1mResorting components based on topological order.\u001b[0m\n",
      "\u001b[32m2024-Dec-04 00:31:21.40\u001b[0m| \u001b[1mINFO    \u001b[0m | \u001b[36mkartiks-MacBook-Air.local\u001b[0m| \u001b[36msuperduper.components.application\u001b[0m:\u001b[36m56  \u001b[0m | \u001b[1mNew order of components: ['table:sample_pdf_rag:00a60074deda4aa2', 'listener:split_image:500d163f1b5441c0', 'listener:chunk:bd9e0bd435f54305', 'vector_index:vector-index:deda7809249b4fa7', 'model:rag:2c6b24ada50d41f6']\u001b[0m\n",
      "\u001b[32m2024-Dec-04 00:31:21.40\u001b[0m| \u001b[1mINFO    \u001b[0m | \u001b[36mkartiks-MacBook-Air.local\u001b[0m| \u001b[36msuperduper.base.datalayer\u001b[0m:\u001b[36m621 \u001b[0m | \u001b[1mComponent (vector_index, vector-index) not found in cache, loading from db\u001b[0m\n",
      "\u001b[32m2024-Dec-04 00:31:21.40\u001b[0m| \u001b[1mINFO    \u001b[0m | \u001b[36mkartiks-MacBook-Air.local\u001b[0m| \u001b[36msuperduper.base.datalayer\u001b[0m:\u001b[36m627 \u001b[0m | \u001b[1mLoad (('vector_index', 'vector-index')) from metadata...\u001b[0m\n"
     ]
    },
    {
     "ename": "FileNotFoundError",
     "evalue": "Can't find vector_index: vector-index in metadata",
     "output_type": "error",
     "traceback": [
      "\u001b[0;31m---------------------------------------------------------------------------\u001b[0m",
      "\u001b[0;31mKeyError\u001b[0m                                  Traceback (most recent call last)",
      "File \u001b[0;32m~/Work/superduperdb/code/superduper/superduper/base/datalayer.py:616\u001b[0m, in \u001b[0;36mDatalayer.load\u001b[0;34m(self, type_id, identifier, version, uuid, huuid, allow_hidden)\u001b[0m\n\u001b[1;32m    615\u001b[0m \u001b[38;5;28;01mtry\u001b[39;00m:\n\u001b[0;32m--> 616\u001b[0m     c \u001b[38;5;241m=\u001b[39m \u001b[38;5;28;43mself\u001b[39;49m\u001b[38;5;241;43m.\u001b[39;49m\u001b[43mcluster\u001b[49m\u001b[38;5;241;43m.\u001b[39;49m\u001b[43mcache\u001b[49m\u001b[43m[\u001b[49m\u001b[43mtype_id\u001b[49m\u001b[43m,\u001b[49m\u001b[43m \u001b[49m\u001b[43midentifier\u001b[49m\u001b[43m]\u001b[49m\n\u001b[1;32m    617\u001b[0m     logging\u001b[38;5;241m.\u001b[39mdebug(\n\u001b[1;32m    618\u001b[0m         \u001b[38;5;124mf\u001b[39m\u001b[38;5;124m'\u001b[39m\u001b[38;5;124mComponent \u001b[39m\u001b[38;5;132;01m{\u001b[39;00m(type_id,\u001b[38;5;250m \u001b[39midentifier)\u001b[38;5;132;01m}\u001b[39;00m\u001b[38;5;124m was found in cache...\u001b[39m\u001b[38;5;124m'\u001b[39m\n\u001b[1;32m    619\u001b[0m     )\n",
      "File \u001b[0;32m~/Work/superduperdb/code/superduper/superduper/backends/local/cache.py:32\u001b[0m, in \u001b[0;36mLocalCache.__getitem__\u001b[0;34m(self, item)\u001b[0m\n\u001b[1;32m     30\u001b[0m \u001b[38;5;28;01mif\u001b[39;00m \u001b[38;5;28misinstance\u001b[39m(item, \u001b[38;5;28mtuple\u001b[39m):\n\u001b[1;32m     31\u001b[0m     \u001b[38;5;66;03m# (type_id, identifier)\u001b[39;00m\n\u001b[0;32m---> 32\u001b[0m     item \u001b[38;5;241m=\u001b[39m \u001b[38;5;28;43mself\u001b[39;49m\u001b[38;5;241;43m.\u001b[39;49m\u001b[43m_component_to_uuid\u001b[49m\u001b[43m[\u001b[49m\u001b[43mitem\u001b[49m\u001b[43m[\u001b[49m\u001b[38;5;241;43m0\u001b[39;49m\u001b[43m]\u001b[49m\u001b[43m,\u001b[49m\u001b[43m \u001b[49m\u001b[43mitem\u001b[49m\u001b[43m[\u001b[49m\u001b[38;5;241;43m1\u001b[39;49m\u001b[43m]\u001b[49m\u001b[43m]\u001b[49m\n\u001b[1;32m     33\u001b[0m \u001b[38;5;28;01mreturn\u001b[39;00m \u001b[38;5;28mself\u001b[39m\u001b[38;5;241m.\u001b[39m_cache[item]\n",
      "\u001b[0;31mKeyError\u001b[0m: ('vector_index', 'vector-index')",
      "\nDuring handling of the above exception, another exception occurred:\n",
      "\u001b[0;31mIndexError\u001b[0m                                Traceback (most recent call last)",
      "File \u001b[0;32m~/Work/superduperdb/code/superduper/plugins/mongodb/superduper_mongodb/metadata.py:175\u001b[0m, in \u001b[0;36mMongoMetaDataStore.get_latest_version\u001b[0;34m(self, type_id, identifier, allow_hidden)\u001b[0m\n\u001b[1;32m    157\u001b[0m             \u001b[38;5;28;01mreturn\u001b[39;00m \u001b[38;5;28mself\u001b[39m\u001b[38;5;241m.\u001b[39mcomponent_collection\u001b[38;5;241m.\u001b[39mdistinct(\n\u001b[1;32m    158\u001b[0m                 \u001b[38;5;124m'\u001b[39m\u001b[38;5;124mversion\u001b[39m\u001b[38;5;124m'\u001b[39m,\n\u001b[1;32m    159\u001b[0m                 {\n\u001b[0;32m   (...)\u001b[0m\n\u001b[1;32m    172\u001b[0m                 },\n\u001b[1;32m    173\u001b[0m             )\n\u001b[0;32m--> 175\u001b[0m         \u001b[38;5;28;01mreturn\u001b[39;00m \u001b[38;5;28;43msorted\u001b[39;49m\u001b[43m(\u001b[49m\u001b[43mf\u001b[49m\u001b[43m(\u001b[49m\u001b[43m)\u001b[49m\u001b[43m)\u001b[49m\u001b[43m[\u001b[49m\u001b[38;5;241;43m-\u001b[39;49m\u001b[38;5;241;43m1\u001b[39;49m\u001b[43m]\u001b[49m\n\u001b[1;32m    176\u001b[0m \u001b[38;5;28;01mexcept\u001b[39;00m \u001b[38;5;167;01mIndexError\u001b[39;00m:\n",
      "\u001b[0;31mIndexError\u001b[0m: list index out of range",
      "\nDuring handling of the above exception, another exception occurred:\n",
      "\u001b[0;31mFileNotFoundError\u001b[0m                         Traceback (most recent call last)",
      "Cell \u001b[0;32mIn[139], line 3\u001b[0m\n\u001b[1;32m      1\u001b[0m db \u001b[38;5;241m=\u001b[39m superduper()\n\u001b[1;32m      2\u001b[0m template \u001b[38;5;241m=\u001b[39m Template\u001b[38;5;241m.\u001b[39mread(\u001b[38;5;124m'\u001b[39m\u001b[38;5;124m./\u001b[39m\u001b[38;5;124m'\u001b[39m, db\u001b[38;5;241m=\u001b[39mdb)\n\u001b[0;32m----> 3\u001b[0m \u001b[43mtemplate\u001b[49m\u001b[43m(\u001b[49m\u001b[43m)\u001b[49m\n",
      "File \u001b[0;32m~/Work/superduperdb/code/superduper/superduper/components/component.py:899\u001b[0m, in \u001b[0;36mensure_initialized.<locals>.wrapper\u001b[0;34m(self, *args, **kwargs)\u001b[0m\n\u001b[1;32m    897\u001b[0m     \u001b[38;5;28mself\u001b[39m\u001b[38;5;241m.\u001b[39m_is_initialized \u001b[38;5;241m=\u001b[39m \u001b[38;5;28;01mTrue\u001b[39;00m\n\u001b[1;32m    898\u001b[0m     logging\u001b[38;5;241m.\u001b[39mdebug(\u001b[38;5;124mf\u001b[39m\u001b[38;5;124m\"\u001b[39m\u001b[38;5;124mInitialized  \u001b[39m\u001b[38;5;132;01m{\u001b[39;00mmodel_message\u001b[38;5;132;01m}\u001b[39;00m\u001b[38;5;124m successfully\u001b[39m\u001b[38;5;124m\"\u001b[39m)\n\u001b[0;32m--> 899\u001b[0m \u001b[38;5;28;01mreturn\u001b[39;00m \u001b[43mfunc\u001b[49m\u001b[43m(\u001b[49m\u001b[38;5;28;43mself\u001b[39;49m\u001b[43m,\u001b[49m\u001b[43m \u001b[49m\u001b[38;5;241;43m*\u001b[39;49m\u001b[43margs\u001b[49m\u001b[43m,\u001b[49m\u001b[43m \u001b[49m\u001b[38;5;241;43m*\u001b[39;49m\u001b[38;5;241;43m*\u001b[39;49m\u001b[43mkwargs\u001b[49m\u001b[43m)\u001b[49m\n",
      "File \u001b[0;32m~/Work/superduperdb/code/superduper/superduper/components/template.py:75\u001b[0m, in \u001b[0;36m_BaseTemplate.__call__\u001b[0;34m(self, **kwargs)\u001b[0m\n\u001b[1;32m      0\u001b[0m <Error retrieving source code with stack_data see ipython/ipython#13598>\n",
      "File \u001b[0;32m~/Work/superduperdb/code/superduper/superduper/base/document.py:360\u001b[0m, in \u001b[0;36mDocument.unpack\u001b[0;34m(self, leaves_to_keep)\u001b[0m\n\u001b[1;32m    355\u001b[0m \u001b[38;5;28;01mdef\u001b[39;00m \u001b[38;5;21munpack\u001b[39m(\u001b[38;5;28mself\u001b[39m, leaves_to_keep: t\u001b[38;5;241m.\u001b[39mSequence \u001b[38;5;241m=\u001b[39m ()) \u001b[38;5;241m-\u001b[39m\u001b[38;5;241m>\u001b[39m t\u001b[38;5;241m.\u001b[39mAny:\n\u001b[1;32m    356\u001b[0m \u001b[38;5;250m    \u001b[39m\u001b[38;5;124;03m\"\"\"Returns the content, but with any encodables replaced by their contents.\u001b[39;00m\n\u001b[1;32m    357\u001b[0m \n\u001b[1;32m    358\u001b[0m \u001b[38;5;124;03m    :param leaves_to_keep: The types of leaves to keep.\u001b[39;00m\n\u001b[1;32m    359\u001b[0m \u001b[38;5;124;03m    \"\"\"\u001b[39;00m\n\u001b[0;32m--> 360\u001b[0m     out \u001b[38;5;241m=\u001b[39m \u001b[43m_unpack\u001b[49m\u001b[43m(\u001b[49m\u001b[38;5;28;43mself\u001b[39;49m\u001b[43m,\u001b[49m\u001b[43m \u001b[49m\u001b[43mleaves_to_keep\u001b[49m\u001b[38;5;241;43m=\u001b[39;49m\u001b[43mleaves_to_keep\u001b[49m\u001b[43m)\u001b[49m\n\u001b[1;32m    361\u001b[0m     \u001b[38;5;28;01mif\u001b[39;00m \u001b[38;5;28mself\u001b[39m\u001b[38;5;241m.\u001b[39mschema \u001b[38;5;129;01mis\u001b[39;00m \u001b[38;5;129;01mnot\u001b[39;00m \u001b[38;5;28;01mNone\u001b[39;00m:\n\u001b[1;32m    362\u001b[0m         out \u001b[38;5;241m=\u001b[39m \u001b[38;5;28mself\u001b[39m\u001b[38;5;241m.\u001b[39mdecode_blobs(\u001b[38;5;28mself\u001b[39m\u001b[38;5;241m.\u001b[39mschema, out)\n",
      "File \u001b[0;32m~/Work/superduperdb/code/superduper/superduper/base/document.py:457\u001b[0m, in \u001b[0;36m_unpack\u001b[0;34m(item, db, leaves_to_keep)\u001b[0m\n\u001b[1;32m    455\u001b[0m     \u001b[38;5;28;01mreturn\u001b[39;00m item\u001b[38;5;241m.\u001b[39munpack()\n\u001b[1;32m    456\u001b[0m \u001b[38;5;28;01melif\u001b[39;00m \u001b[38;5;28misinstance\u001b[39m(item, \u001b[38;5;28mdict\u001b[39m):\n\u001b[0;32m--> 457\u001b[0m     \u001b[38;5;28;01mreturn\u001b[39;00m {k: _unpack(v, leaves_to_keep\u001b[38;5;241m=\u001b[39mleaves_to_keep) \u001b[38;5;28;01mfor\u001b[39;00m k, v \u001b[38;5;129;01min\u001b[39;00m item\u001b[38;5;241m.\u001b[39mitems()}\n\u001b[1;32m    458\u001b[0m \u001b[38;5;28;01melif\u001b[39;00m \u001b[38;5;28misinstance\u001b[39m(item, \u001b[38;5;28mlist\u001b[39m):\n\u001b[1;32m    459\u001b[0m     \u001b[38;5;28;01mreturn\u001b[39;00m [_unpack(x, leaves_to_keep\u001b[38;5;241m=\u001b[39mleaves_to_keep) \u001b[38;5;28;01mfor\u001b[39;00m x \u001b[38;5;129;01min\u001b[39;00m item]\n",
      "File \u001b[0;32m~/Work/superduperdb/code/superduper/superduper/base/document.py:457\u001b[0m, in \u001b[0;36m<dictcomp>\u001b[0;34m(.0)\u001b[0m\n\u001b[1;32m    455\u001b[0m     \u001b[38;5;28;01mreturn\u001b[39;00m item\u001b[38;5;241m.\u001b[39munpack()\n\u001b[1;32m    456\u001b[0m \u001b[38;5;28;01melif\u001b[39;00m \u001b[38;5;28misinstance\u001b[39m(item, \u001b[38;5;28mdict\u001b[39m):\n\u001b[0;32m--> 457\u001b[0m     \u001b[38;5;28;01mreturn\u001b[39;00m {k: \u001b[43m_unpack\u001b[49m\u001b[43m(\u001b[49m\u001b[43mv\u001b[49m\u001b[43m,\u001b[49m\u001b[43m \u001b[49m\u001b[43mleaves_to_keep\u001b[49m\u001b[38;5;241;43m=\u001b[39;49m\u001b[43mleaves_to_keep\u001b[49m\u001b[43m)\u001b[49m \u001b[38;5;28;01mfor\u001b[39;00m k, v \u001b[38;5;129;01min\u001b[39;00m item\u001b[38;5;241m.\u001b[39mitems()}\n\u001b[1;32m    458\u001b[0m \u001b[38;5;28;01melif\u001b[39;00m \u001b[38;5;28misinstance\u001b[39m(item, \u001b[38;5;28mlist\u001b[39m):\n\u001b[1;32m    459\u001b[0m     \u001b[38;5;28;01mreturn\u001b[39;00m [_unpack(x, leaves_to_keep\u001b[38;5;241m=\u001b[39mleaves_to_keep) \u001b[38;5;28;01mfor\u001b[39;00m x \u001b[38;5;129;01min\u001b[39;00m item]\n",
      "File \u001b[0;32m~/Work/superduperdb/code/superduper/superduper/base/document.py:455\u001b[0m, in \u001b[0;36m_unpack\u001b[0;34m(item, db, leaves_to_keep)\u001b[0m\n\u001b[1;32m    453\u001b[0m \u001b[38;5;28;01mdef\u001b[39;00m \u001b[38;5;21m_unpack\u001b[39m(item: t\u001b[38;5;241m.\u001b[39mAny, db\u001b[38;5;241m=\u001b[39m\u001b[38;5;28;01mNone\u001b[39;00m, leaves_to_keep: t\u001b[38;5;241m.\u001b[39mSequence \u001b[38;5;241m=\u001b[39m ()) \u001b[38;5;241m-\u001b[39m\u001b[38;5;241m>\u001b[39m t\u001b[38;5;241m.\u001b[39mAny:\n\u001b[1;32m    454\u001b[0m     \u001b[38;5;28;01mif\u001b[39;00m \u001b[38;5;28misinstance\u001b[39m(item, Leaf) \u001b[38;5;129;01mand\u001b[39;00m \u001b[38;5;129;01mnot\u001b[39;00m \u001b[38;5;28misinstance\u001b[39m(item, \u001b[38;5;28mtuple\u001b[39m(leaves_to_keep)):\n\u001b[0;32m--> 455\u001b[0m         \u001b[38;5;28;01mreturn\u001b[39;00m \u001b[43mitem\u001b[49m\u001b[38;5;241;43m.\u001b[39;49m\u001b[43munpack\u001b[49m\u001b[43m(\u001b[49m\u001b[43m)\u001b[49m\n\u001b[1;32m    456\u001b[0m     \u001b[38;5;28;01melif\u001b[39;00m \u001b[38;5;28misinstance\u001b[39m(item, \u001b[38;5;28mdict\u001b[39m):\n\u001b[1;32m    457\u001b[0m         \u001b[38;5;28;01mreturn\u001b[39;00m {k: _unpack(v, leaves_to_keep\u001b[38;5;241m=\u001b[39mleaves_to_keep) \u001b[38;5;28;01mfor\u001b[39;00m k, v \u001b[38;5;129;01min\u001b[39;00m item\u001b[38;5;241m.\u001b[39mitems()}\n",
      "File \u001b[0;32m~/Work/superduperdb/code/superduper/superduper/components/component.py:558\u001b[0m, in \u001b[0;36mComponent.unpack\u001b[0;34m(self, db)\u001b[0m\n\u001b[1;32m    556\u001b[0m \u001b[38;5;28;01mfor\u001b[39;00m f \u001b[38;5;129;01min\u001b[39;00m dc\u001b[38;5;241m.\u001b[39mfields(\u001b[38;5;28mself\u001b[39m):\n\u001b[1;32m    557\u001b[0m     item \u001b[38;5;241m=\u001b[39m \u001b[38;5;28mgetattr\u001b[39m(\u001b[38;5;28mself\u001b[39m, f\u001b[38;5;241m.\u001b[39mname)\n\u001b[0;32m--> 558\u001b[0m     item \u001b[38;5;241m=\u001b[39m \u001b[43m_init\u001b[49m\u001b[43m(\u001b[49m\u001b[43mitem\u001b[49m\u001b[43m)\u001b[49m\n\u001b[1;32m    559\u001b[0m     \u001b[38;5;28;01mif\u001b[39;00m f\u001b[38;5;241m.\u001b[39mname \u001b[38;5;129;01min\u001b[39;00m \u001b[38;5;28mself\u001b[39m\u001b[38;5;241m.\u001b[39m_fields \u001b[38;5;129;01mand\u001b[39;00m \u001b[38;5;28misinstance\u001b[39m(item, \u001b[38;5;28mbytes\u001b[39m):\n\u001b[1;32m    560\u001b[0m         item \u001b[38;5;241m=\u001b[39m schema\u001b[38;5;241m.\u001b[39mfields[f\u001b[38;5;241m.\u001b[39mname]\u001b[38;5;241m.\u001b[39mdecode_data(item)\n",
      "File \u001b[0;32m~/Work/superduperdb/code/superduper/superduper/components/component.py:546\u001b[0m, in \u001b[0;36mComponent.unpack.<locals>._init\u001b[0;34m(item)\u001b[0m\n\u001b[1;32m    543\u001b[0m     \u001b[38;5;28;01mreturn\u001b[39;00m {k: _init(i) \u001b[38;5;28;01mfor\u001b[39;00m k, i \u001b[38;5;129;01min\u001b[39;00m item\u001b[38;5;241m.\u001b[39mitems()}\n\u001b[1;32m    545\u001b[0m \u001b[38;5;28;01mif\u001b[39;00m \u001b[38;5;28misinstance\u001b[39m(item, \u001b[38;5;28mlist\u001b[39m):\n\u001b[0;32m--> 546\u001b[0m     \u001b[38;5;28;01mreturn\u001b[39;00m [_init(i) \u001b[38;5;28;01mfor\u001b[39;00m i \u001b[38;5;129;01min\u001b[39;00m item]\n\u001b[1;32m    548\u001b[0m \u001b[38;5;28;01mif\u001b[39;00m \u001b[38;5;28misinstance\u001b[39m(item, Leaf):\n\u001b[1;32m    549\u001b[0m     item\u001b[38;5;241m.\u001b[39minit()\n",
      "File \u001b[0;32m~/Work/superduperdb/code/superduper/superduper/components/component.py:546\u001b[0m, in \u001b[0;36m<listcomp>\u001b[0;34m(.0)\u001b[0m\n\u001b[1;32m    543\u001b[0m     \u001b[38;5;28;01mreturn\u001b[39;00m {k: _init(i) \u001b[38;5;28;01mfor\u001b[39;00m k, i \u001b[38;5;129;01min\u001b[39;00m item\u001b[38;5;241m.\u001b[39mitems()}\n\u001b[1;32m    545\u001b[0m \u001b[38;5;28;01mif\u001b[39;00m \u001b[38;5;28misinstance\u001b[39m(item, \u001b[38;5;28mlist\u001b[39m):\n\u001b[0;32m--> 546\u001b[0m     \u001b[38;5;28;01mreturn\u001b[39;00m [\u001b[43m_init\u001b[49m\u001b[43m(\u001b[49m\u001b[43mi\u001b[49m\u001b[43m)\u001b[49m \u001b[38;5;28;01mfor\u001b[39;00m i \u001b[38;5;129;01min\u001b[39;00m item]\n\u001b[1;32m    548\u001b[0m \u001b[38;5;28;01mif\u001b[39;00m \u001b[38;5;28misinstance\u001b[39m(item, Leaf):\n\u001b[1;32m    549\u001b[0m     item\u001b[38;5;241m.\u001b[39minit()\n",
      "File \u001b[0;32m~/Work/superduperdb/code/superduper/superduper/components/component.py:539\u001b[0m, in \u001b[0;36mComponent.unpack.<locals>._init\u001b[0;34m(item)\u001b[0m\n\u001b[1;32m    537\u001b[0m \u001b[38;5;28;01mnonlocal\u001b[39;00m db\n\u001b[1;32m    538\u001b[0m \u001b[38;5;28;01mif\u001b[39;00m \u001b[38;5;28misinstance\u001b[39m(item, Component):\n\u001b[0;32m--> 539\u001b[0m     \u001b[43mitem\u001b[49m\u001b[38;5;241;43m.\u001b[39;49m\u001b[43minit\u001b[49m\u001b[43m(\u001b[49m\u001b[43mdb\u001b[49m\u001b[38;5;241;43m=\u001b[39;49m\u001b[43mdb\u001b[49m\u001b[43m)\u001b[49m\n\u001b[1;32m    540\u001b[0m     \u001b[38;5;28;01mreturn\u001b[39;00m item\n\u001b[1;32m    542\u001b[0m \u001b[38;5;28;01mif\u001b[39;00m \u001b[38;5;28misinstance\u001b[39m(item, \u001b[38;5;28mdict\u001b[39m):\n",
      "File \u001b[0;32m~/Work/superduperdb/code/superduper/superduper/components/model.py:334\u001b[0m, in \u001b[0;36minit_decorator.<locals>.wrapper\u001b[0;34m(self, *args, **kwargs)\u001b[0m\n\u001b[1;32m    332\u001b[0m \u001b[38;5;129m@wraps\u001b[39m(func)\n\u001b[1;32m    333\u001b[0m \u001b[38;5;28;01mdef\u001b[39;00m \u001b[38;5;21mwrapper\u001b[39m(\u001b[38;5;28mself\u001b[39m, \u001b[38;5;241m*\u001b[39margs, \u001b[38;5;241m*\u001b[39m\u001b[38;5;241m*\u001b[39mkwargs):\n\u001b[0;32m--> 334\u001b[0m     result \u001b[38;5;241m=\u001b[39m \u001b[43mfunc\u001b[49m\u001b[43m(\u001b[49m\u001b[38;5;28;43mself\u001b[39;49m\u001b[43m,\u001b[49m\u001b[43m \u001b[49m\u001b[38;5;241;43m*\u001b[39;49m\u001b[43margs\u001b[49m\u001b[43m,\u001b[49m\u001b[43m \u001b[49m\u001b[38;5;241;43m*\u001b[39;49m\u001b[38;5;241;43m*\u001b[39;49m\u001b[43mkwargs\u001b[49m\u001b[43m)\u001b[49m\n\u001b[1;32m    335\u001b[0m     \u001b[38;5;28mself\u001b[39m\u001b[38;5;241m.\u001b[39m_is_initialized \u001b[38;5;241m=\u001b[39m \u001b[38;5;28;01mTrue\u001b[39;00m\n\u001b[1;32m    336\u001b[0m     \u001b[38;5;28;01mreturn\u001b[39;00m result\n",
      "File \u001b[0;32m~/Work/superduperdb/code/superduper/superduper/components/model.py:334\u001b[0m, in \u001b[0;36minit_decorator.<locals>.wrapper\u001b[0;34m(self, *args, **kwargs)\u001b[0m\n\u001b[1;32m    332\u001b[0m \u001b[38;5;129m@wraps\u001b[39m(func)\n\u001b[1;32m    333\u001b[0m \u001b[38;5;28;01mdef\u001b[39;00m \u001b[38;5;21mwrapper\u001b[39m(\u001b[38;5;28mself\u001b[39m, \u001b[38;5;241m*\u001b[39margs, \u001b[38;5;241m*\u001b[39m\u001b[38;5;241m*\u001b[39mkwargs):\n\u001b[0;32m--> 334\u001b[0m     result \u001b[38;5;241m=\u001b[39m \u001b[43mfunc\u001b[49m\u001b[43m(\u001b[49m\u001b[38;5;28;43mself\u001b[39;49m\u001b[43m,\u001b[49m\u001b[43m \u001b[49m\u001b[38;5;241;43m*\u001b[39;49m\u001b[43margs\u001b[49m\u001b[43m,\u001b[49m\u001b[43m \u001b[49m\u001b[38;5;241;43m*\u001b[39;49m\u001b[38;5;241;43m*\u001b[39;49m\u001b[43mkwargs\u001b[49m\u001b[43m)\u001b[49m\n\u001b[1;32m    335\u001b[0m     \u001b[38;5;28mself\u001b[39m\u001b[38;5;241m.\u001b[39m_is_initialized \u001b[38;5;241m=\u001b[39m \u001b[38;5;28;01mTrue\u001b[39;00m\n\u001b[1;32m    336\u001b[0m     \u001b[38;5;28;01mreturn\u001b[39;00m result\n",
      "Cell \u001b[0;32mIn[63], line 17\u001b[0m, in \u001b[0;36mRag.init\u001b[0;34m(self, db)\u001b[0m\n\u001b[1;32m     15\u001b[0m \u001b[38;5;28;01mdef\u001b[39;00m \u001b[38;5;21minit\u001b[39m(\u001b[38;5;28mself\u001b[39m, db\u001b[38;5;241m=\u001b[39m\u001b[38;5;28;01mNone\u001b[39;00m):\n\u001b[1;32m     16\u001b[0m     db \u001b[38;5;241m=\u001b[39m db \u001b[38;5;129;01mor\u001b[39;00m \u001b[38;5;28mself\u001b[39m\u001b[38;5;241m.\u001b[39mdb\n\u001b[0;32m---> 17\u001b[0m     \u001b[38;5;28mself\u001b[39m\u001b[38;5;241m.\u001b[39mvector_index \u001b[38;5;241m=\u001b[39m \u001b[38;5;28;43mself\u001b[39;49m\u001b[38;5;241;43m.\u001b[39;49m\u001b[43mdb\u001b[49m\u001b[38;5;241;43m.\u001b[39;49m\u001b[43mload\u001b[49m\u001b[43m(\u001b[49m\u001b[38;5;124;43m\"\u001b[39;49m\u001b[38;5;124;43mvector_index\u001b[39;49m\u001b[38;5;124;43m\"\u001b[39;49m\u001b[43m,\u001b[49m\u001b[43m \u001b[49m\u001b[38;5;28;43mself\u001b[39;49m\u001b[38;5;241;43m.\u001b[39;49m\u001b[43mvector_index_name\u001b[49m\u001b[43m)\u001b[49m\n\u001b[1;32m     18\u001b[0m     \u001b[38;5;28msuper\u001b[39m()\u001b[38;5;241m.\u001b[39minit(db\u001b[38;5;241m=\u001b[39mdb)\n",
      "File \u001b[0;32m~/Work/superduperdb/code/superduper/superduper/base/datalayer.py:628\u001b[0m, in \u001b[0;36mDatalayer.load\u001b[0;34m(self, type_id, identifier, version, uuid, huuid, allow_hidden)\u001b[0m\n\u001b[1;32m    626\u001b[0m \u001b[38;5;28;01massert\u001b[39;00m identifier \u001b[38;5;129;01mis\u001b[39;00m \u001b[38;5;129;01mnot\u001b[39;00m \u001b[38;5;28;01mNone\u001b[39;00m\n\u001b[1;32m    627\u001b[0m logging\u001b[38;5;241m.\u001b[39minfo(\u001b[38;5;124mf\u001b[39m\u001b[38;5;124m'\u001b[39m\u001b[38;5;124mLoad (\u001b[39m\u001b[38;5;132;01m{\u001b[39;00mtype_id,\u001b[38;5;250m \u001b[39midentifier\u001b[38;5;132;01m}\u001b[39;00m\u001b[38;5;124m) from metadata...\u001b[39m\u001b[38;5;124m'\u001b[39m)\n\u001b[0;32m--> 628\u001b[0m info \u001b[38;5;241m=\u001b[39m \u001b[38;5;28;43mself\u001b[39;49m\u001b[38;5;241;43m.\u001b[39;49m\u001b[43mmetadata\u001b[49m\u001b[38;5;241;43m.\u001b[39;49m\u001b[43mget_component\u001b[49m\u001b[43m(\u001b[49m\n\u001b[1;32m    629\u001b[0m \u001b[43m    \u001b[49m\u001b[43mtype_id\u001b[49m\u001b[38;5;241;43m=\u001b[39;49m\u001b[43mtype_id\u001b[49m\u001b[43m,\u001b[49m\n\u001b[1;32m    630\u001b[0m \u001b[43m    \u001b[49m\u001b[43midentifier\u001b[49m\u001b[38;5;241;43m=\u001b[39;49m\u001b[43midentifier\u001b[49m\u001b[43m,\u001b[49m\n\u001b[1;32m    631\u001b[0m \u001b[43m    \u001b[49m\u001b[43mallow_hidden\u001b[49m\u001b[38;5;241;43m=\u001b[39;49m\u001b[43mallow_hidden\u001b[49m\u001b[43m,\u001b[49m\n\u001b[1;32m    632\u001b[0m \u001b[43m\u001b[49m\u001b[43m)\u001b[49m\n\u001b[1;32m    633\u001b[0m c \u001b[38;5;241m=\u001b[39m Document\u001b[38;5;241m.\u001b[39mdecode(info, db\u001b[38;5;241m=\u001b[39m\u001b[38;5;28mself\u001b[39m)\n\u001b[1;32m    634\u001b[0m c\u001b[38;5;241m.\u001b[39mdb \u001b[38;5;241m=\u001b[39m \u001b[38;5;28mself\u001b[39m\n",
      "File \u001b[0;32m~/Work/superduperdb/code/superduper/superduper/backends/base/data_backend.py:225\u001b[0m, in \u001b[0;36mDataBackendProxy._try_execute.<locals>.wrapper\u001b[0;34m(*args, **kwargs)\u001b[0m\n\u001b[1;32m    223\u001b[0m     \u001b[38;5;28;01mreturn\u001b[39;00m attr(\u001b[38;5;241m*\u001b[39margs, \u001b[38;5;241m*\u001b[39m\u001b[38;5;241m*\u001b[39mkwargs)\n\u001b[1;32m    224\u001b[0m \u001b[38;5;28;01melse\u001b[39;00m:\n\u001b[0;32m--> 225\u001b[0m     \u001b[38;5;28;01mraise\u001b[39;00m e\n",
      "File \u001b[0;32m~/Work/superduperdb/code/superduper/superduper/backends/base/data_backend.py:214\u001b[0m, in \u001b[0;36mDataBackendProxy._try_execute.<locals>.wrapper\u001b[0;34m(*args, **kwargs)\u001b[0m\n\u001b[1;32m    211\u001b[0m \u001b[38;5;129m@functools\u001b[39m\u001b[38;5;241m.\u001b[39mwraps(attr)\n\u001b[1;32m    212\u001b[0m \u001b[38;5;28;01mdef\u001b[39;00m \u001b[38;5;21mwrapper\u001b[39m(\u001b[38;5;241m*\u001b[39margs, \u001b[38;5;241m*\u001b[39m\u001b[38;5;241m*\u001b[39mkwargs):\n\u001b[1;32m    213\u001b[0m     \u001b[38;5;28;01mtry\u001b[39;00m:\n\u001b[0;32m--> 214\u001b[0m         \u001b[38;5;28;01mreturn\u001b[39;00m \u001b[43mattr\u001b[49m\u001b[43m(\u001b[49m\u001b[38;5;241;43m*\u001b[39;49m\u001b[43margs\u001b[49m\u001b[43m,\u001b[49m\u001b[43m \u001b[49m\u001b[38;5;241;43m*\u001b[39;49m\u001b[38;5;241;43m*\u001b[39;49m\u001b[43mkwargs\u001b[49m\u001b[43m)\u001b[49m\n\u001b[1;32m    215\u001b[0m     \u001b[38;5;28;01mexcept\u001b[39;00m \u001b[38;5;167;01mException\u001b[39;00m \u001b[38;5;28;01mas\u001b[39;00m e:\n\u001b[1;32m    216\u001b[0m         error_message \u001b[38;5;241m=\u001b[39m \u001b[38;5;28mstr\u001b[39m(e)\u001b[38;5;241m.\u001b[39mlower()\n",
      "File \u001b[0;32m~/Work/superduperdb/code/superduper/superduper/backends/base/metadata.py:388\u001b[0m, in \u001b[0;36mMetaDataStore.get_component\u001b[0;34m(self, type_id, identifier, version, allow_hidden)\u001b[0m\n\u001b[1;32m    379\u001b[0m \u001b[38;5;250m\u001b[39m\u001b[38;5;124;03m\"\"\"\u001b[39;00m\n\u001b[1;32m    380\u001b[0m \u001b[38;5;124;03mGet a component from the metadata store.\u001b[39;00m\n\u001b[1;32m    381\u001b[0m \n\u001b[0;32m   (...)\u001b[0m\n\u001b[1;32m    385\u001b[0m \u001b[38;5;124;03m:param allow_hidden: whether to allow hidden components\u001b[39;00m\n\u001b[1;32m    386\u001b[0m \u001b[38;5;124;03m\"\"\"\u001b[39;00m\n\u001b[1;32m    387\u001b[0m \u001b[38;5;28;01mif\u001b[39;00m version \u001b[38;5;129;01mis\u001b[39;00m \u001b[38;5;28;01mNone\u001b[39;00m:\n\u001b[0;32m--> 388\u001b[0m     version \u001b[38;5;241m=\u001b[39m \u001b[38;5;28;43mself\u001b[39;49m\u001b[38;5;241;43m.\u001b[39;49m\u001b[43mget_latest_version\u001b[49m\u001b[43m(\u001b[49m\n\u001b[1;32m    389\u001b[0m \u001b[43m        \u001b[49m\u001b[43mtype_id\u001b[49m\u001b[38;5;241;43m=\u001b[39;49m\u001b[43mtype_id\u001b[49m\u001b[43m,\u001b[49m\u001b[43m \u001b[49m\u001b[43midentifier\u001b[49m\u001b[38;5;241;43m=\u001b[39;49m\u001b[43midentifier\u001b[49m\u001b[43m,\u001b[49m\u001b[43m \u001b[49m\u001b[43mallow_hidden\u001b[49m\u001b[38;5;241;43m=\u001b[39;49m\u001b[43mallow_hidden\u001b[49m\n\u001b[1;32m    390\u001b[0m \u001b[43m    \u001b[49m\u001b[43m)\u001b[49m\n\u001b[1;32m    391\u001b[0m r \u001b[38;5;241m=\u001b[39m \u001b[38;5;28mself\u001b[39m\u001b[38;5;241m.\u001b[39m_get_component(\n\u001b[1;32m    392\u001b[0m     type_id\u001b[38;5;241m=\u001b[39mtype_id,\n\u001b[1;32m    393\u001b[0m     identifier\u001b[38;5;241m=\u001b[39midentifier,\n\u001b[1;32m    394\u001b[0m     version\u001b[38;5;241m=\u001b[39mversion,\n\u001b[1;32m    395\u001b[0m     allow_hidden\u001b[38;5;241m=\u001b[39mallow_hidden,\n\u001b[1;32m    396\u001b[0m )\n\u001b[1;32m    397\u001b[0m \u001b[38;5;28;01mif\u001b[39;00m r \u001b[38;5;129;01mis\u001b[39;00m \u001b[38;5;28;01mNone\u001b[39;00m:\n",
      "File \u001b[0;32m~/Work/superduperdb/code/superduper/plugins/mongodb/superduper_mongodb/metadata.py:177\u001b[0m, in \u001b[0;36mMongoMetaDataStore.get_latest_version\u001b[0;34m(self, type_id, identifier, allow_hidden)\u001b[0m\n\u001b[1;32m    175\u001b[0m         \u001b[38;5;28;01mreturn\u001b[39;00m \u001b[38;5;28msorted\u001b[39m(f())[\u001b[38;5;241m-\u001b[39m\u001b[38;5;241m1\u001b[39m]\n\u001b[1;32m    176\u001b[0m \u001b[38;5;28;01mexcept\u001b[39;00m \u001b[38;5;167;01mIndexError\u001b[39;00m:\n\u001b[0;32m--> 177\u001b[0m     \u001b[38;5;28;01mraise\u001b[39;00m \u001b[38;5;167;01mFileNotFoundError\u001b[39;00m(\u001b[38;5;124mf\u001b[39m\u001b[38;5;124m'\u001b[39m\u001b[38;5;124mCan\u001b[39m\u001b[38;5;130;01m\\'\u001b[39;00m\u001b[38;5;124mt find \u001b[39m\u001b[38;5;132;01m{\u001b[39;00mtype_id\u001b[38;5;132;01m}\u001b[39;00m\u001b[38;5;124m: \u001b[39m\u001b[38;5;132;01m{\u001b[39;00midentifier\u001b[38;5;132;01m}\u001b[39;00m\u001b[38;5;124m in metadata\u001b[39m\u001b[38;5;124m'\u001b[39m)\n",
      "\u001b[0;31mFileNotFoundError\u001b[0m: Can't find vector_index: vector-index in metadata"
     ]
    }
   ],
   "source": [
    "db = superduper()\n",
    "template = Template.read('./', db=db)\n",
    "template()"
   ]
  },
  {
   "cell_type": "code",
   "execution_count": null,
   "id": "db442ab1-65e8-4ba3-a8e5-9c2f2e808a6c",
   "metadata": {},
   "outputs": [],
   "source": []
  }
 ],
 "metadata": {
  "kernelspec": {
   "display_name": "Python 3 (ipykernel)",
   "language": "python",
   "name": "python3"
  },
  "language_info": {
   "codemirror_mode": {
    "name": "ipython",
    "version": 3
   },
   "file_extension": ".py",
   "mimetype": "text/x-python",
   "name": "python",
   "nbconvert_exporter": "python",
   "pygments_lexer": "ipython3",
   "version": "3.10.15"
  }
 },
 "nbformat": 4,
 "nbformat_minor": 5
}
