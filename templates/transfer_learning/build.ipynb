{
 "cells": [
  {
   "cell_type": "markdown",
   "id": "c288025e-2326-4e8b-ab52-6fb8a5f9560f",
   "metadata": {},
   "source": [
    "# Transfer learning"
   ]
  },
  {
   "cell_type": "code",
   "execution_count": 1,
   "id": "31135e11-42f2-4ca7-b2ed-491eb7d074ae",
   "metadata": {
    "editable": true,
    "slideshow": {
     "slide_type": ""
    },
    "tags": [
     "parameters"
    ]
   },
   "outputs": [],
   "source": [
    "APPLY = True\n",
    "EAGER = False\n",
    "COLLECTION_NAME = '<var:table_name>' if not APPLY else 'sample_transfer_learning'\n",
    "MODALITY = 'text'"
   ]
  },
  {
   "cell_type": "code",
   "execution_count": 2,
   "id": "cb029a5e-fedf-4f07-8a31-d220cfbfbb3d",
   "metadata": {},
   "outputs": [
    {
     "name": "stdout",
     "output_type": "stream",
     "text": [
      "\u001b[32m2025-Mar-22 15:40:00.38\u001b[0m| \u001b[1mINFO    \u001b[0m | \u001b[36mDuncans-MacBook-Pro.local\u001b[0m| \u001b[36msuperduper.misc.importing\u001b[0m:\u001b[36m13  \u001b[0m | \u001b[1mLoading plugin: mongodb\u001b[0m\n",
      "\u001b[32m2025-Mar-22 15:40:00.49\u001b[0m| \u001b[1mINFO    \u001b[0m | \u001b[36mDuncans-MacBook-Pro.local\u001b[0m| \u001b[36msuperduper.base.datalayer\u001b[0m:\u001b[36m51  \u001b[0m | \u001b[1mBuilding Data Layer\u001b[0m\n",
      "\u001b[32m2025-Mar-22 15:40:00.49\u001b[0m| \u001b[1mINFO    \u001b[0m | \u001b[36mDuncans-MacBook-Pro.local\u001b[0m| \u001b[36msuperduper.base.datalayer\u001b[0m:\u001b[36m68  \u001b[0m | \u001b[1mData Layer built\u001b[0m\n",
      "\u001b[32m2025-Mar-22 15:40:00.49\u001b[0m| \u001b[1mINFO    \u001b[0m | \u001b[36mDuncans-MacBook-Pro.local\u001b[0m| \u001b[36msuperduper.backends.base.cluster\u001b[0m:\u001b[36m109 \u001b[0m | \u001b[1mCluster initialized in 0.00 seconds.\u001b[0m\n",
      "\u001b[32m2025-Mar-22 15:40:00.49\u001b[0m| \u001b[1mINFO    \u001b[0m | \u001b[36mDuncans-MacBook-Pro.local\u001b[0m| \u001b[36msuperduper.base.build\u001b[0m:\u001b[36m148 \u001b[0m | \u001b[1mConfiguration: \n",
      " +----------------+-------------------------------+\n",
      "| Configuration  |             Value             |\n",
      "+----------------+-------------------------------+\n",
      "|  Data Backend  |      mongomock://test_db      |\n",
      "| Artifact Store | filesystem://./artifact_store |\n",
      "|     Cache      |           in-process          |\n",
      "+----------------+-------------------------------+\u001b[0m\n"
     ]
    }
   ],
   "source": [
    "from superduper import superduper, CFG\n",
    "\n",
    "db = superduper('mongomock://test_db')"
   ]
  },
  {
   "cell_type": "markdown",
   "id": "032c2e7b-3f54-4263-b778-0fef60596efb",
   "metadata": {},
   "source": [
    "<!-- TABS -->\n",
    "## Get useful sample data"
   ]
  },
  {
   "cell_type": "code",
   "execution_count": 3,
   "id": "547751e5",
   "metadata": {},
   "outputs": [],
   "source": [
    "def getter():\n",
    "    import json\n",
    "    import random\n",
    "    import subprocess\n",
    "\n",
    "    subprocess.run([\n",
    "        'curl', '-O', 'https://superduperdb-public-demo.s3.amazonaws.com/text_classification.json',\n",
    "    ])\n",
    "    with open(\"text_classification.json\", \"r\") as f:\n",
    "        data = json.load(f)\n",
    "    subprocess.run(['rm', 'text_classification.json'])\n",
    "    data = data[:200]\n",
    "    def fold(): return {True: 'valid', False: 'train'}[random.random() < 0.1]\n",
    "    data = [{**r, '_fold': fold()} for r in data]\n",
    "    return data"
   ]
  },
  {
   "cell_type": "markdown",
   "id": "eedb0bc4-826f-43fe-bd34-869bf69f2db0",
   "metadata": {},
   "source": [
    "After obtaining the data, we insert it into the database."
   ]
  },
  {
   "cell_type": "markdown",
   "id": "944ebee5",
   "metadata": {},
   "source": [
    "<!-- TABS -->\n",
    "## Insert simple data\n",
    "\n",
    "After turning on auto_schema, we can directly insert data, and superduper will automatically analyze the data type, and match the construction of the table and datatype."
   ]
  },
  {
   "cell_type": "code",
   "execution_count": 4,
   "id": "64d0f3b5",
   "metadata": {},
   "outputs": [
    {
     "name": "stderr",
     "output_type": "stream",
     "text": [
      "  % Total    % Received % Xferd  Average Speed   Time    Time     Time  Current\n",
      "                                 Dload  Upload   Total   Spent    Left  Speed\n",
      "  1 1298k    1 17003    0     0  16151      0  0:01:22  0:00:01  0:01:21 16208"
     ]
    },
    {
     "name": "stdout",
     "output_type": "stream",
     "text": [
      "\u001b[32m2025-Mar-22 15:40:15.47\u001b[0m| \u001b[1mINFO    \u001b[0m | \u001b[36mDuncans-MacBook-Pro.local\u001b[0m| \u001b[36msuperduper.base.datalayer\u001b[0m:\u001b[36m388 \u001b[0m | \u001b[1mLoad (('Table', 'sample_transfer_learning')) from metadata...\u001b[0m\n",
      "\u001b[32m2025-Mar-22 15:40:15.47\u001b[0m| \u001b[1mINFO    \u001b[0m | \u001b[36mDuncans-MacBook-Pro.local\u001b[0m| \u001b[36msuperduper.base.apply\u001b[0m:\u001b[36m94  \u001b[0m | \u001b[1mFound these changes and/ or additions that need to be made:\u001b[0m\n",
      "\u001b[32m2025-Mar-22 15:40:15.47\u001b[0m| \u001b[1mINFO    \u001b[0m | \u001b[36mDuncans-MacBook-Pro.local\u001b[0m| \u001b[36msuperduper.base.apply\u001b[0m:\u001b[36m96  \u001b[0m | \u001b[1m----------------------------------------------------------------------------------------------------\u001b[0m\n",
      "\u001b[32m2025-Mar-22 15:40:15.47\u001b[0m| \u001b[1mINFO    \u001b[0m | \u001b[36mDuncans-MacBook-Pro.local\u001b[0m| \u001b[36msuperduper.base.apply\u001b[0m:\u001b[36m97  \u001b[0m | \u001b[1mMETADATA EVENTS:\u001b[0m\n",
      "\u001b[32m2025-Mar-22 15:40:15.47\u001b[0m| \u001b[1mINFO    \u001b[0m | \u001b[36mDuncans-MacBook-Pro.local\u001b[0m| \u001b[36msuperduper.base.apply\u001b[0m:\u001b[36m98  \u001b[0m | \u001b[1m----------------------------------------------------------------------------------------------------\u001b[0m\n",
      "\u001b[32m2025-Mar-22 15:40:15.47\u001b[0m| \u001b[1mINFO    \u001b[0m | \u001b[36mDuncans-MacBook-Pro.local\u001b[0m| \u001b[36msuperduper.base.apply\u001b[0m:\u001b[36m109 \u001b[0m | \u001b[1m[0]: Table:sample_transfer_learning:ef45ff296b338bb99857f0fc7d0d3416: create\u001b[0m\n",
      "\u001b[32m2025-Mar-22 15:40:15.47\u001b[0m| \u001b[1mINFO    \u001b[0m | \u001b[36mDuncans-MacBook-Pro.local\u001b[0m| \u001b[36msuperduper.base.apply\u001b[0m:\u001b[36m111 \u001b[0m | \u001b[1m----------------------------------------------------------------------------------------------------\u001b[0m\n",
      "\u001b[32m2025-Mar-22 15:40:15.47\u001b[0m| \u001b[1mINFO    \u001b[0m | \u001b[36mDuncans-MacBook-Pro.local\u001b[0m| \u001b[36msuperduper.base.apply\u001b[0m:\u001b[36m112 \u001b[0m | \u001b[1mJOBS EVENTS:\u001b[0m\n",
      "\u001b[32m2025-Mar-22 15:40:15.47\u001b[0m| \u001b[1mINFO    \u001b[0m | \u001b[36mDuncans-MacBook-Pro.local\u001b[0m| \u001b[36msuperduper.base.apply\u001b[0m:\u001b[36m113 \u001b[0m | \u001b[1m----------------------------------------------------------------------------------------------------\u001b[0m\n",
      "\u001b[32m2025-Mar-22 15:40:15.47\u001b[0m| \u001b[1mINFO    \u001b[0m | \u001b[36mDuncans-MacBook-Pro.local\u001b[0m| \u001b[36msuperduper.base.apply\u001b[0m:\u001b[36m117 \u001b[0m | \u001b[1mNo job events...\u001b[0m\n",
      "\u001b[32m2025-Mar-22 15:40:15.47\u001b[0m| \u001b[1mINFO    \u001b[0m | \u001b[36mDuncans-MacBook-Pro.local\u001b[0m| \u001b[36msuperduper.base.apply\u001b[0m:\u001b[36m128 \u001b[0m | \u001b[1m----------------------------------------------------------------------------------------------------\u001b[0m\n",
      "\u001b[32m2025-Mar-22 15:40:15.47\u001b[0m| \u001b[1mINFO    \u001b[0m | \u001b[36mDuncans-MacBook-Pro.local\u001b[0m| \u001b[36msuperduper.base.event\u001b[0m:\u001b[36m142 \u001b[0m | \u001b[1mCreating superduper.components.table.Table:sample_transfer_learning:ef45ff296b338bb99857f0fc7d0d3416\u001b[0m\n",
      "\u001b[32m2025-Mar-22 15:40:15.47\u001b[0m| \u001b[1mINFO    \u001b[0m | \u001b[36mDuncans-MacBook-Pro.local\u001b[0m| \u001b[36msuperduper.base.datalayer\u001b[0m:\u001b[36m388 \u001b[0m | \u001b[1mLoad (('Table', 'Table')) from metadata...\u001b[0m\n",
      "\u001b[32m2025-Mar-22 15:40:15.48\u001b[0m| \u001b[33m\u001b[1mWARNING \u001b[0m | \u001b[36mDuncans-MacBook-Pro.local\u001b[0m| \u001b[36msuperduper.backends.local.compute\u001b[0m:\u001b[36m39  \u001b[0m | \u001b[33m\u001b[1mCould not release futures for context ef45ff296b338bb99857f0fc7d0d3416\u001b[0m\n",
      "\u001b[32m2025-Mar-22 15:40:15.48\u001b[0m| \u001b[1mINFO    \u001b[0m | \u001b[36mDuncans-MacBook-Pro.local\u001b[0m| \u001b[36msuperduper.base.datalayer\u001b[0m:\u001b[36m388 \u001b[0m | \u001b[1mLoad (('Table', 'sample_transfer_learning')) from metadata...\u001b[0m\n"
     ]
    },
    {
     "name": "stderr",
     "output_type": "stream",
     "text": [
      "100 1298k  100 1298k    0     0   711k      0  0:00:01  0:00:01 --:--:--  713k\n"
     ]
    }
   ],
   "source": [
    "if APPLY:\n",
    "    data = getter()\n",
    "    from superduper import Table\n",
    "\n",
    "    db.apply(\n",
    "        Table(\n",
    "            COLLECTION_NAME,\n",
    "            fields={'x': 'str', 'y': 'int'},\n",
    "        ),\n",
    "        force=True,\n",
    "    )\n",
    "    \n",
    "    ids = db[COLLECTION_NAME].insert(data)"
   ]
  },
  {
   "cell_type": "markdown",
   "id": "9e703b58-a46d-4b1f-98fd-f50d46b168fe",
   "metadata": {},
   "source": [
    "<!-- TABS -->\n",
    "## Compute features"
   ]
  },
  {
   "cell_type": "code",
   "execution_count": 5,
   "id": "ae2e1588-fec8-45a6-b678-fef05fc7b57f",
   "metadata": {},
   "outputs": [
    {
     "name": "stderr",
     "output_type": "stream",
     "text": [
      "[2025-03-22 15:40:21] datasets INFO PyTorch version 2.5.1 available.\n",
      "[2025-03-22 15:40:21] sentence_transformers.SentenceTransformer INFO Load pretrained SentenceTransformer: all-MiniLM-L6-v2\n"
     ]
    }
   ],
   "source": [
    "import sentence_transformers\n",
    "from superduper import Listener\n",
    "from superduper_sentence_transformers import SentenceTransformer\n",
    "\n",
    "\n",
    "embedding = SentenceTransformer(\n",
    "    identifier=\"embedding\",\n",
    "    model='all-MiniLM-L6-v2',\n",
    "    postprocess=lambda x: x.tolist(),\n",
    ")"
   ]
  },
  {
   "cell_type": "code",
   "execution_count": 7,
   "id": "4e4b0c27-d78c-4f2d-a45f-0ebd08cb2d61",
   "metadata": {},
   "outputs": [],
   "source": [
    "feature_extractor_listener = Listener(\n",
    "    model=embedding,\n",
    "    select=db[COLLECTION_NAME],\n",
    "    key='x',\n",
    "    identifier=\"features\"\n",
    ")\n",
    "\n",
    "\n",
    "if APPLY and EAGER:\n",
    "    feature_extractor_listener = db.apply(\n",
    "        feature_extractor_listener,\n",
    "        force=True,\n",
    "    )"
   ]
  },
  {
   "cell_type": "markdown",
   "id": "c2da0ab6-8fc0-41fc-b8c9-0f8a127d9e8d",
   "metadata": {},
   "source": [
    "<!-- TABS -->\n",
    "## Build and train classifier"
   ]
  },
  {
   "cell_type": "code",
   "execution_count": 8,
   "id": "d3b94fca-3a0b-433f-88cf-aab5b71b8596",
   "metadata": {},
   "outputs": [],
   "source": [
    "from superduper_sklearn import Estimator, SklearnTrainer\n",
    "from sklearn.svm import SVC\n",
    "\n",
    "\n",
    "scikit_model = Estimator(\n",
    "    identifier=\"my-model-scikit\",\n",
    "    object=SVC(),\n",
    "    trainer=SklearnTrainer(\n",
    "        \"my-scikit-trainer\",\n",
    "        key=(feature_extractor_listener.outputs, \"y\"),\n",
    "        select=db[COLLECTION_NAME].outputs(feature_extractor_listener.predict_id),\n",
    "    ),\n",
    "    upstream=[feature_extractor_listener],\n",
    ")"
   ]
  },
  {
   "cell_type": "markdown",
   "id": "1af37887-59bc-4e13-b3b1-fee7d6108473",
   "metadata": {},
   "source": [
    "Define a validation for evaluating the effect after training."
   ]
  },
  {
   "cell_type": "code",
   "execution_count": 9,
   "id": "94fb7506-2abc-41fe-b259-8c4922d79516",
   "metadata": {},
   "outputs": [],
   "source": [
    "from superduper import Dataset, Metric, Validation\n",
    "\n",
    "def acc(x, y):\n",
    "    return sum([xx == yy for xx, yy in zip(x, y)]) / len(x)\n",
    "\n",
    "accuracy = Metric(identifier=\"acc\", object=acc)\n",
    "\n",
    "t = db[COLLECTION_NAME]\n",
    "select = t.filter(t['_fold'] == 'valid').outputs(feature_extractor_listener.predict_id)\n",
    "\n",
    "validation = Validation(\n",
    "    \"transfer_learning_performance\",\n",
    "    key=(feature_extractor_listener.outputs, \"y\"),\n",
    "    datasets=[\n",
    "        Dataset(\n",
    "            identifier=\"my-valid\",\n",
    "            select=select,\n",
    "        )\n",
    "    ],\n",
    "    metrics=[accuracy],\n",
    ")\n",
    "scikit_model.validation = validation"
   ]
  },
  {
   "cell_type": "markdown",
   "id": "513478b1-2736-4fa5-bc2a-6fdb9c8e232d",
   "metadata": {},
   "source": [
    "If we execute the apply function, then the model will be added to the database, and because the model has a Trainer, it will perform training."
   ]
  },
  {
   "cell_type": "code",
   "execution_count": 10,
   "id": "79a39054-aef2-480a-a57e-7180914e6f7f",
   "metadata": {},
   "outputs": [],
   "source": [
    "if APPLY and EAGER:\n",
    "    db.apply(scikit_model, force=True)"
   ]
  },
  {
   "cell_type": "markdown",
   "id": "52ab9838-9e5e-4402-a572-bd8339020963",
   "metadata": {},
   "source": [
    "Get the training metrics"
   ]
  },
  {
   "cell_type": "code",
   "execution_count": 12,
   "id": "6d3ac98a-88d9-4812-a715-cfc62c5efe20",
   "metadata": {},
   "outputs": [],
   "source": [
    "from superduper import Application\n",
    "\n",
    "application = Application(\n",
    "    identifier='transfer-learning',\n",
    "    components=[feature_extractor_listener, scikit_model],\n",
    ")"
   ]
  },
  {
   "cell_type": "code",
   "execution_count": 13,
   "id": "c22b4b2e-30cc-494b-bb48-e7140fd219d5",
   "metadata": {},
   "outputs": [
    {
     "name": "stdout",
     "output_type": "stream",
     "text": [
      "\u001b[32m2025-Mar-22 15:40:57.31\u001b[0m| \u001b[1mINFO    \u001b[0m | \u001b[36mDuncans-MacBook-Pro.local\u001b[0m| \u001b[36msuperduper.base.datalayer\u001b[0m:\u001b[36m388 \u001b[0m | \u001b[1mLoad (('Application', 'transfer-learning')) from metadata...\u001b[0m\n",
      "\u001b[32m2025-Mar-22 15:40:57.31\u001b[0m| \u001b[1mINFO    \u001b[0m | \u001b[36mDuncans-MacBook-Pro.local\u001b[0m| \u001b[36msuperduper.base.datalayer\u001b[0m:\u001b[36m388 \u001b[0m | \u001b[1mLoad (('Listener', 'features')) from metadata...\u001b[0m\n",
      "\u001b[32m2025-Mar-22 15:40:57.31\u001b[0m| \u001b[1mINFO    \u001b[0m | \u001b[36mDuncans-MacBook-Pro.local\u001b[0m| \u001b[36msuperduper.base.datalayer\u001b[0m:\u001b[36m388 \u001b[0m | \u001b[1mLoad (('SentenceTransformer', 'embedding')) from metadata...\u001b[0m\n",
      "\u001b[32m2025-Mar-22 15:40:58.88\u001b[0m| \u001b[33m\u001b[1mWARNING \u001b[0m | \u001b[36mDuncans-MacBook-Pro.local\u001b[0m| \u001b[36msuperduper.base.artifacts\u001b[0m:\u001b[36m243 \u001b[0m | \u001b[33m\u001b[1mFile ./artifact_store/141a2f7ec61bf77731f5b2c8eb3c841e55b682660032932ce2eee4c54b7afd33 already exists\u001b[0m\n",
      "\u001b[32m2025-Mar-22 15:40:58.88\u001b[0m| \u001b[1mINFO    \u001b[0m | \u001b[36mDuncans-MacBook-Pro.local\u001b[0m| \u001b[36msuperduper.base.datalayer\u001b[0m:\u001b[36m388 \u001b[0m | \u001b[1mLoad (('Table', '_outputs__features__c1b5d86988903f267e496024ca7b7ad2')) from metadata...\u001b[0m\n",
      "\u001b[32m2025-Mar-22 15:40:58.89\u001b[0m| \u001b[1mINFO    \u001b[0m | \u001b[36mDuncans-MacBook-Pro.local\u001b[0m| \u001b[36msuperduper.base.datalayer\u001b[0m:\u001b[36m388 \u001b[0m | \u001b[1mLoad (('Estimator', 'my-model-scikit')) from metadata...\u001b[0m\n",
      "\u001b[32m2025-Mar-22 15:40:58.89\u001b[0m| \u001b[1mINFO    \u001b[0m | \u001b[36mDuncans-MacBook-Pro.local\u001b[0m| \u001b[36msuperduper.base.datalayer\u001b[0m:\u001b[36m388 \u001b[0m | \u001b[1mLoad (('Validation', 'transfer_learning_performance')) from metadata...\u001b[0m\n",
      "\u001b[32m2025-Mar-22 15:40:58.89\u001b[0m| \u001b[1mINFO    \u001b[0m | \u001b[36mDuncans-MacBook-Pro.local\u001b[0m| \u001b[36msuperduper.base.datalayer\u001b[0m:\u001b[36m388 \u001b[0m | \u001b[1mLoad (('Metric', 'acc')) from metadata...\u001b[0m\n",
      "\u001b[32m2025-Mar-22 15:40:58.90\u001b[0m| \u001b[33m\u001b[1mWARNING \u001b[0m | \u001b[36mDuncans-MacBook-Pro.local\u001b[0m| \u001b[36msuperduper.base.artifacts\u001b[0m:\u001b[36m243 \u001b[0m | \u001b[33m\u001b[1mFile ./artifact_store/70372525d418ce4e502875b1af9ff39083eee65892400a25b53c4d4003c9a5f1 already exists\u001b[0m\n",
      "\u001b[32m2025-Mar-22 15:40:58.90\u001b[0m| \u001b[1mINFO    \u001b[0m | \u001b[36mDuncans-MacBook-Pro.local\u001b[0m| \u001b[36msuperduper.base.datalayer\u001b[0m:\u001b[36m388 \u001b[0m | \u001b[1mLoad (('Dataset', 'my-valid')) from metadata...\u001b[0m\n",
      "\u001b[32m2025-Mar-22 15:40:58.90\u001b[0m| \u001b[1mINFO    \u001b[0m | \u001b[36mDuncans-MacBook-Pro.local\u001b[0m| \u001b[36msuperduper.base.datalayer\u001b[0m:\u001b[36m388 \u001b[0m | \u001b[1mLoad (('SklearnTrainer', 'my-scikit-trainer')) from metadata...\u001b[0m\n",
      "\u001b[32m2025-Mar-22 15:40:58.90\u001b[0m| \u001b[1mINFO    \u001b[0m | \u001b[36mDuncans-MacBook-Pro.local\u001b[0m| \u001b[36msuperduper.base.apply\u001b[0m:\u001b[36m94  \u001b[0m | \u001b[1mFound these changes and/ or additions that need to be made:\u001b[0m\n",
      "\u001b[32m2025-Mar-22 15:40:58.90\u001b[0m| \u001b[1mINFO    \u001b[0m | \u001b[36mDuncans-MacBook-Pro.local\u001b[0m| \u001b[36msuperduper.base.apply\u001b[0m:\u001b[36m96  \u001b[0m | \u001b[1m----------------------------------------------------------------------------------------------------\u001b[0m\n",
      "\u001b[32m2025-Mar-22 15:40:58.90\u001b[0m| \u001b[1mINFO    \u001b[0m | \u001b[36mDuncans-MacBook-Pro.local\u001b[0m| \u001b[36msuperduper.base.apply\u001b[0m:\u001b[36m97  \u001b[0m | \u001b[1mMETADATA EVENTS:\u001b[0m\n",
      "\u001b[32m2025-Mar-22 15:40:58.90\u001b[0m| \u001b[1mINFO    \u001b[0m | \u001b[36mDuncans-MacBook-Pro.local\u001b[0m| \u001b[36msuperduper.base.apply\u001b[0m:\u001b[36m98  \u001b[0m | \u001b[1m----------------------------------------------------------------------------------------------------\u001b[0m\n",
      "\u001b[32m2025-Mar-22 15:40:58.90\u001b[0m| \u001b[1mINFO    \u001b[0m | \u001b[36mDuncans-MacBook-Pro.local\u001b[0m| \u001b[36msuperduper.base.apply\u001b[0m:\u001b[36m105 \u001b[0m | \u001b[1m[0]: SentenceTransformer:embedding:34fa3ac0f2f9c2363b1ccab9b2b3f230: create ~ [2]\u001b[0m\n",
      "\u001b[32m2025-Mar-22 15:40:58.90\u001b[0m| \u001b[1mINFO    \u001b[0m | \u001b[36mDuncans-MacBook-Pro.local\u001b[0m| \u001b[36msuperduper.base.apply\u001b[0m:\u001b[36m105 \u001b[0m | \u001b[1m[1]: Table:_outputs__features__c1b5d86988903f267e496024ca7b7ad2:3fca116fb9070a3d6d2a61b4981af1db: create ~ [2]\u001b[0m\n",
      "\u001b[32m2025-Mar-22 15:40:58.90\u001b[0m| \u001b[1mINFO    \u001b[0m | \u001b[36mDuncans-MacBook-Pro.local\u001b[0m| \u001b[36msuperduper.base.apply\u001b[0m:\u001b[36m105 \u001b[0m | \u001b[1m[2]: Listener:features:c1b5d86988903f267e496024ca7b7ad2: create ~ [8]\u001b[0m\n",
      "\u001b[32m2025-Mar-22 15:40:58.90\u001b[0m| \u001b[1mINFO    \u001b[0m | \u001b[36mDuncans-MacBook-Pro.local\u001b[0m| \u001b[36msuperduper.base.apply\u001b[0m:\u001b[36m105 \u001b[0m | \u001b[1m[3]: Metric:acc:cde17886b07af996bfce00f458c3fe6b: create ~ [5]\u001b[0m\n",
      "\u001b[32m2025-Mar-22 15:40:58.90\u001b[0m| \u001b[1mINFO    \u001b[0m | \u001b[36mDuncans-MacBook-Pro.local\u001b[0m| \u001b[36msuperduper.base.apply\u001b[0m:\u001b[36m105 \u001b[0m | \u001b[1m[4]: Dataset:my-valid:12adf794870ae4d3cdfab246ffc87150: create ~ [5]\u001b[0m\n",
      "\u001b[32m2025-Mar-22 15:40:58.90\u001b[0m| \u001b[1mINFO    \u001b[0m | \u001b[36mDuncans-MacBook-Pro.local\u001b[0m| \u001b[36msuperduper.base.apply\u001b[0m:\u001b[36m105 \u001b[0m | \u001b[1m[5]: Validation:transfer_learning_performance:4202ee6740b6916a5c32720d0db8f15e: create ~ [7]\u001b[0m\n",
      "\u001b[32m2025-Mar-22 15:40:58.90\u001b[0m| \u001b[1mINFO    \u001b[0m | \u001b[36mDuncans-MacBook-Pro.local\u001b[0m| \u001b[36msuperduper.base.apply\u001b[0m:\u001b[36m105 \u001b[0m | \u001b[1m[6]: SklearnTrainer:my-scikit-trainer:d2a1d29b44511a630b97117c85d1f378: create ~ [7]\u001b[0m\n",
      "\u001b[32m2025-Mar-22 15:40:58.90\u001b[0m| \u001b[1mINFO    \u001b[0m | \u001b[36mDuncans-MacBook-Pro.local\u001b[0m| \u001b[36msuperduper.base.apply\u001b[0m:\u001b[36m105 \u001b[0m | \u001b[1m[7]: Estimator:my-model-scikit:a07667e9fc25a2e3f7519ad9a84cb74f: create ~ [8]\u001b[0m\n",
      "\u001b[32m2025-Mar-22 15:40:58.90\u001b[0m| \u001b[1mINFO    \u001b[0m | \u001b[36mDuncans-MacBook-Pro.local\u001b[0m| \u001b[36msuperduper.base.apply\u001b[0m:\u001b[36m109 \u001b[0m | \u001b[1m[8]: Application:transfer-learning:65670ab93440bd92357a549eedb0d5b6: create\u001b[0m\n",
      "\u001b[32m2025-Mar-22 15:40:58.90\u001b[0m| \u001b[1mINFO    \u001b[0m | \u001b[36mDuncans-MacBook-Pro.local\u001b[0m| \u001b[36msuperduper.base.apply\u001b[0m:\u001b[36m111 \u001b[0m | \u001b[1m----------------------------------------------------------------------------------------------------\u001b[0m\n",
      "\u001b[32m2025-Mar-22 15:40:58.90\u001b[0m| \u001b[1mINFO    \u001b[0m | \u001b[36mDuncans-MacBook-Pro.local\u001b[0m| \u001b[36msuperduper.base.apply\u001b[0m:\u001b[36m112 \u001b[0m | \u001b[1mJOBS EVENTS:\u001b[0m\n",
      "\u001b[32m2025-Mar-22 15:40:58.90\u001b[0m| \u001b[1mINFO    \u001b[0m | \u001b[36mDuncans-MacBook-Pro.local\u001b[0m| \u001b[36msuperduper.base.apply\u001b[0m:\u001b[36m113 \u001b[0m | \u001b[1m----------------------------------------------------------------------------------------------------\u001b[0m\n",
      "\u001b[32m2025-Mar-22 15:40:58.90\u001b[0m| \u001b[1mINFO    \u001b[0m | \u001b[36mDuncans-MacBook-Pro.local\u001b[0m| \u001b[36msuperduper.base.apply\u001b[0m:\u001b[36m126 \u001b[0m | \u001b[1m[0]: Listener:features:c1b5d86988903f267e496024ca7b7ad2.run: run\u001b[0m\n",
      "\u001b[32m2025-Mar-22 15:40:58.90\u001b[0m| \u001b[1mINFO    \u001b[0m | \u001b[36mDuncans-MacBook-Pro.local\u001b[0m| \u001b[36msuperduper.base.apply\u001b[0m:\u001b[36m121 \u001b[0m | \u001b[1m[1]: Listener:features:c1b5d86988903f267e496024ca7b7ad2.set_status: set_status ~ [0]\u001b[0m\n",
      "\u001b[32m2025-Mar-22 15:40:58.90\u001b[0m| \u001b[1mINFO    \u001b[0m | \u001b[36mDuncans-MacBook-Pro.local\u001b[0m| \u001b[36msuperduper.base.apply\u001b[0m:\u001b[36m121 \u001b[0m | \u001b[1m[2]: Estimator:my-model-scikit:a07667e9fc25a2e3f7519ad9a84cb74f.fit_in_db: fit_in_db ~ [0,1]\u001b[0m\n",
      "\u001b[32m2025-Mar-22 15:40:58.90\u001b[0m| \u001b[1mINFO    \u001b[0m | \u001b[36mDuncans-MacBook-Pro.local\u001b[0m| \u001b[36msuperduper.base.apply\u001b[0m:\u001b[36m121 \u001b[0m | \u001b[1m[3]: Estimator:my-model-scikit:a07667e9fc25a2e3f7519ad9a84cb74f.set_status: set_status ~ [2]\u001b[0m\n",
      "\u001b[32m2025-Mar-22 15:40:58.90\u001b[0m| \u001b[1mINFO    \u001b[0m | \u001b[36mDuncans-MacBook-Pro.local\u001b[0m| \u001b[36msuperduper.base.apply\u001b[0m:\u001b[36m128 \u001b[0m | \u001b[1m----------------------------------------------------------------------------------------------------\u001b[0m\n",
      "\u001b[1mPlease approve this deployment plan.\u001b[0m [Y/n]:"
     ]
    },
    {
     "name": "stdin",
     "output_type": "stream",
     "text": [
      "  \n"
     ]
    },
    {
     "name": "stdout",
     "output_type": "stream",
     "text": [
      "\u001b[32m2025-Mar-22 15:41:00.15\u001b[0m| \u001b[1mINFO    \u001b[0m | \u001b[36mDuncans-MacBook-Pro.local\u001b[0m| \u001b[36msuperduper.base.event\u001b[0m:\u001b[36m142 \u001b[0m | \u001b[1mCreating superduper_sentence_transformers.model.SentenceTransformer:embedding:34fa3ac0f2f9c2363b1ccab9b2b3f230\u001b[0m\n",
      "\u001b[32m2025-Mar-22 15:41:00.15\u001b[0m| \u001b[1mINFO    \u001b[0m | \u001b[36mDuncans-MacBook-Pro.local\u001b[0m| \u001b[36msuperduper.base.datalayer\u001b[0m:\u001b[36m388 \u001b[0m | \u001b[1mLoad (('Table', 'ArtifactRelations')) from metadata...\u001b[0m\n",
      "\u001b[32m2025-Mar-22 15:41:00.16\u001b[0m| \u001b[1mINFO    \u001b[0m | \u001b[36mDuncans-MacBook-Pro.local\u001b[0m| \u001b[36msuperduper.base.datalayer\u001b[0m:\u001b[36m388 \u001b[0m | \u001b[1mLoad (('Table', 'Table')) from metadata...\u001b[0m\n",
      "\u001b[32m2025-Mar-22 15:41:00.16\u001b[0m| \u001b[1mINFO    \u001b[0m | \u001b[36mDuncans-MacBook-Pro.local\u001b[0m| \u001b[36msuperduper.base.datalayer\u001b[0m:\u001b[36m388 \u001b[0m | \u001b[1mLoad (('Table', 'SentenceTransformer')) from metadata...\u001b[0m\n",
      "\u001b[32m2025-Mar-22 15:41:00.17\u001b[0m| \u001b[1mINFO    \u001b[0m | \u001b[36mDuncans-MacBook-Pro.local\u001b[0m| \u001b[36msuperduper.base.datalayer\u001b[0m:\u001b[36m388 \u001b[0m | \u001b[1mLoad (('Table', 'ParentChildAssociations')) from metadata...\u001b[0m\n",
      "\u001b[32m2025-Mar-22 15:41:00.17\u001b[0m| \u001b[1mINFO    \u001b[0m | \u001b[36mDuncans-MacBook-Pro.local\u001b[0m| \u001b[36msuperduper.base.event\u001b[0m:\u001b[36m142 \u001b[0m | \u001b[1mCreating superduper.components.table.Table:_outputs__features__c1b5d86988903f267e496024ca7b7ad2:3fca116fb9070a3d6d2a61b4981af1db\u001b[0m\n",
      "\u001b[32m2025-Mar-22 15:41:00.17\u001b[0m| \u001b[1mINFO    \u001b[0m | \u001b[36mDuncans-MacBook-Pro.local\u001b[0m| \u001b[36msuperduper.base.datalayer\u001b[0m:\u001b[36m388 \u001b[0m | \u001b[1mLoad (('Table', 'Table')) from metadata...\u001b[0m\n",
      "\u001b[32m2025-Mar-22 15:41:00.17\u001b[0m| \u001b[1mINFO    \u001b[0m | \u001b[36mDuncans-MacBook-Pro.local\u001b[0m| \u001b[36msuperduper.base.datalayer\u001b[0m:\u001b[36m388 \u001b[0m | \u001b[1mLoad (('Table', 'ParentChildAssociations')) from metadata...\u001b[0m\n",
      "\u001b[32m2025-Mar-22 15:41:00.17\u001b[0m| \u001b[1mINFO    \u001b[0m | \u001b[36mDuncans-MacBook-Pro.local\u001b[0m| \u001b[36msuperduper.base.event\u001b[0m:\u001b[36m142 \u001b[0m | \u001b[1mCreating superduper.components.listener.Listener:features:c1b5d86988903f267e496024ca7b7ad2\u001b[0m\n",
      "\u001b[32m2025-Mar-22 15:41:00.18\u001b[0m| \u001b[1mINFO    \u001b[0m | \u001b[36mDuncans-MacBook-Pro.local\u001b[0m| \u001b[36msuperduper.base.datalayer\u001b[0m:\u001b[36m388 \u001b[0m | \u001b[1mLoad (('Table', 'Table')) from metadata...\u001b[0m\n",
      "\u001b[32m2025-Mar-22 15:41:00.18\u001b[0m| \u001b[1mINFO    \u001b[0m | \u001b[36mDuncans-MacBook-Pro.local\u001b[0m| \u001b[36msuperduper.base.datalayer\u001b[0m:\u001b[36m388 \u001b[0m | \u001b[1mLoad (('Table', 'Listener')) from metadata...\u001b[0m\n",
      "\u001b[32m2025-Mar-22 15:41:00.19\u001b[0m| \u001b[1mINFO    \u001b[0m | \u001b[36mDuncans-MacBook-Pro.local\u001b[0m| \u001b[36msuperduper.base.datalayer\u001b[0m:\u001b[36m388 \u001b[0m | \u001b[1mLoad (('Table', 'ParentChildAssociations')) from metadata...\u001b[0m\n",
      "\u001b[32m2025-Mar-22 15:41:00.19\u001b[0m| \u001b[1mINFO    \u001b[0m | \u001b[36mDuncans-MacBook-Pro.local\u001b[0m| \u001b[36msuperduper.base.event\u001b[0m:\u001b[36m142 \u001b[0m | \u001b[1mCreating superduper.components.metric.Metric:acc:cde17886b07af996bfce00f458c3fe6b\u001b[0m\n",
      "\u001b[32m2025-Mar-22 15:41:00.19\u001b[0m| \u001b[1mINFO    \u001b[0m | \u001b[36mDuncans-MacBook-Pro.local\u001b[0m| \u001b[36msuperduper.base.datalayer\u001b[0m:\u001b[36m388 \u001b[0m | \u001b[1mLoad (('Table', 'ArtifactRelations')) from metadata...\u001b[0m\n",
      "\u001b[32m2025-Mar-22 15:41:00.19\u001b[0m| \u001b[1mINFO    \u001b[0m | \u001b[36mDuncans-MacBook-Pro.local\u001b[0m| \u001b[36msuperduper.base.datalayer\u001b[0m:\u001b[36m388 \u001b[0m | \u001b[1mLoad (('Table', 'Table')) from metadata...\u001b[0m\n",
      "\u001b[32m2025-Mar-22 15:41:00.20\u001b[0m| \u001b[1mINFO    \u001b[0m | \u001b[36mDuncans-MacBook-Pro.local\u001b[0m| \u001b[36msuperduper.base.datalayer\u001b[0m:\u001b[36m388 \u001b[0m | \u001b[1mLoad (('Table', 'Metric')) from metadata...\u001b[0m\n",
      "\u001b[32m2025-Mar-22 15:41:00.20\u001b[0m| \u001b[1mINFO    \u001b[0m | \u001b[36mDuncans-MacBook-Pro.local\u001b[0m| \u001b[36msuperduper.base.datalayer\u001b[0m:\u001b[36m388 \u001b[0m | \u001b[1mLoad (('Table', 'ParentChildAssociations')) from metadata...\u001b[0m\n",
      "\u001b[32m2025-Mar-22 15:41:00.20\u001b[0m| \u001b[1mINFO    \u001b[0m | \u001b[36mDuncans-MacBook-Pro.local\u001b[0m| \u001b[36msuperduper.base.event\u001b[0m:\u001b[36m142 \u001b[0m | \u001b[1mCreating superduper.components.dataset.Dataset:my-valid:12adf794870ae4d3cdfab246ffc87150\u001b[0m\n",
      "\u001b[32m2025-Mar-22 15:41:00.20\u001b[0m| \u001b[1mINFO    \u001b[0m | \u001b[36mDuncans-MacBook-Pro.local\u001b[0m| \u001b[36msuperduper.base.datalayer\u001b[0m:\u001b[36m388 \u001b[0m | \u001b[1mLoad (('Table', 'Table')) from metadata...\u001b[0m\n",
      "\u001b[32m2025-Mar-22 15:41:00.21\u001b[0m| \u001b[1mINFO    \u001b[0m | \u001b[36mDuncans-MacBook-Pro.local\u001b[0m| \u001b[36msuperduper.base.datalayer\u001b[0m:\u001b[36m388 \u001b[0m | \u001b[1mLoad (('Table', 'Dataset')) from metadata...\u001b[0m\n",
      "\u001b[32m2025-Mar-22 15:41:00.21\u001b[0m| \u001b[1mINFO    \u001b[0m | \u001b[36mDuncans-MacBook-Pro.local\u001b[0m| \u001b[36msuperduper.base.datalayer\u001b[0m:\u001b[36m388 \u001b[0m | \u001b[1mLoad (('Table', 'ParentChildAssociations')) from metadata...\u001b[0m\n",
      "\u001b[32m2025-Mar-22 15:41:00.21\u001b[0m| \u001b[1mINFO    \u001b[0m | \u001b[36mDuncans-MacBook-Pro.local\u001b[0m| \u001b[36msuperduper.base.event\u001b[0m:\u001b[36m142 \u001b[0m | \u001b[1mCreating superduper.components.model.Validation:transfer_learning_performance:4202ee6740b6916a5c32720d0db8f15e\u001b[0m\n",
      "\u001b[32m2025-Mar-22 15:41:00.21\u001b[0m| \u001b[1mINFO    \u001b[0m | \u001b[36mDuncans-MacBook-Pro.local\u001b[0m| \u001b[36msuperduper.base.datalayer\u001b[0m:\u001b[36m388 \u001b[0m | \u001b[1mLoad (('Table', 'Table')) from metadata...\u001b[0m\n",
      "\u001b[32m2025-Mar-22 15:41:00.21\u001b[0m| \u001b[1mINFO    \u001b[0m | \u001b[36mDuncans-MacBook-Pro.local\u001b[0m| \u001b[36msuperduper.base.datalayer\u001b[0m:\u001b[36m388 \u001b[0m | \u001b[1mLoad (('Table', 'Validation')) from metadata...\u001b[0m\n",
      "\u001b[32m2025-Mar-22 15:41:00.22\u001b[0m| \u001b[1mINFO    \u001b[0m | \u001b[36mDuncans-MacBook-Pro.local\u001b[0m| \u001b[36msuperduper.base.datalayer\u001b[0m:\u001b[36m388 \u001b[0m | \u001b[1mLoad (('Table', 'ParentChildAssociations')) from metadata...\u001b[0m\n",
      "\u001b[32m2025-Mar-22 15:41:00.22\u001b[0m| \u001b[1mINFO    \u001b[0m | \u001b[36mDuncans-MacBook-Pro.local\u001b[0m| \u001b[36msuperduper.base.event\u001b[0m:\u001b[36m142 \u001b[0m | \u001b[1mCreating superduper_sklearn.model.SklearnTrainer:my-scikit-trainer:d2a1d29b44511a630b97117c85d1f378\u001b[0m\n",
      "\u001b[32m2025-Mar-22 15:41:00.22\u001b[0m| \u001b[1mINFO    \u001b[0m | \u001b[36mDuncans-MacBook-Pro.local\u001b[0m| \u001b[36msuperduper.base.datalayer\u001b[0m:\u001b[36m388 \u001b[0m | \u001b[1mLoad (('Table', 'Table')) from metadata...\u001b[0m\n",
      "\u001b[32m2025-Mar-22 15:41:00.22\u001b[0m| \u001b[1mINFO    \u001b[0m | \u001b[36mDuncans-MacBook-Pro.local\u001b[0m| \u001b[36msuperduper.base.datalayer\u001b[0m:\u001b[36m388 \u001b[0m | \u001b[1mLoad (('Table', 'SklearnTrainer')) from metadata...\u001b[0m\n",
      "\u001b[32m2025-Mar-22 15:41:00.23\u001b[0m| \u001b[1mINFO    \u001b[0m | \u001b[36mDuncans-MacBook-Pro.local\u001b[0m| \u001b[36msuperduper.base.datalayer\u001b[0m:\u001b[36m388 \u001b[0m | \u001b[1mLoad (('Table', 'ParentChildAssociations')) from metadata...\u001b[0m\n",
      "\u001b[32m2025-Mar-22 15:41:00.23\u001b[0m| \u001b[1mINFO    \u001b[0m | \u001b[36mDuncans-MacBook-Pro.local\u001b[0m| \u001b[36msuperduper.base.event\u001b[0m:\u001b[36m142 \u001b[0m | \u001b[1mCreating superduper_sklearn.model.Estimator:my-model-scikit:a07667e9fc25a2e3f7519ad9a84cb74f\u001b[0m\n",
      "\u001b[32m2025-Mar-22 15:41:00.23\u001b[0m| \u001b[1mINFO    \u001b[0m | \u001b[36mDuncans-MacBook-Pro.local\u001b[0m| \u001b[36msuperduper.base.datalayer\u001b[0m:\u001b[36m388 \u001b[0m | \u001b[1mLoad (('Table', 'ArtifactRelations')) from metadata...\u001b[0m\n",
      "\u001b[32m2025-Mar-22 15:41:00.23\u001b[0m| \u001b[1mINFO    \u001b[0m | \u001b[36mDuncans-MacBook-Pro.local\u001b[0m| \u001b[36msuperduper.base.datalayer\u001b[0m:\u001b[36m388 \u001b[0m | \u001b[1mLoad (('Table', 'Table')) from metadata...\u001b[0m\n",
      "\u001b[32m2025-Mar-22 15:41:00.23\u001b[0m| \u001b[1mINFO    \u001b[0m | \u001b[36mDuncans-MacBook-Pro.local\u001b[0m| \u001b[36msuperduper.base.datalayer\u001b[0m:\u001b[36m388 \u001b[0m | \u001b[1mLoad (('Table', 'Estimator')) from metadata...\u001b[0m\n",
      "\u001b[32m2025-Mar-22 15:41:00.24\u001b[0m| \u001b[1mINFO    \u001b[0m | \u001b[36mDuncans-MacBook-Pro.local\u001b[0m| \u001b[36msuperduper.base.datalayer\u001b[0m:\u001b[36m388 \u001b[0m | \u001b[1mLoad (('Table', 'ParentChildAssociations')) from metadata...\u001b[0m\n",
      "\u001b[32m2025-Mar-22 15:41:00.24\u001b[0m| \u001b[1mINFO    \u001b[0m | \u001b[36mDuncans-MacBook-Pro.local\u001b[0m| \u001b[36msuperduper.base.event\u001b[0m:\u001b[36m142 \u001b[0m | \u001b[1mCreating superduper.components.application.Application:transfer-learning:65670ab93440bd92357a549eedb0d5b6\u001b[0m\n",
      "\u001b[32m2025-Mar-22 15:41:00.24\u001b[0m| \u001b[1mINFO    \u001b[0m | \u001b[36mDuncans-MacBook-Pro.local\u001b[0m| \u001b[36msuperduper.base.datalayer\u001b[0m:\u001b[36m388 \u001b[0m | \u001b[1mLoad (('Table', 'Table')) from metadata...\u001b[0m\n",
      "\u001b[32m2025-Mar-22 15:41:00.24\u001b[0m| \u001b[1mINFO    \u001b[0m | \u001b[36mDuncans-MacBook-Pro.local\u001b[0m| \u001b[36msuperduper.base.datalayer\u001b[0m:\u001b[36m388 \u001b[0m | \u001b[1mLoad (('Table', 'Application')) from metadata...\u001b[0m\n",
      "\u001b[32m2025-Mar-22 15:41:00.25\u001b[0m| \u001b[1mINFO    \u001b[0m | \u001b[36mDuncans-MacBook-Pro.local\u001b[0m| \u001b[36msuperduper.base.datalayer\u001b[0m:\u001b[36m388 \u001b[0m | \u001b[1mLoad (('Table', 'Job')) from metadata...\u001b[0m\n"
     ]
    },
    {
     "data": {
      "application/vnd.jupyter.widget-view+json": {
       "model_id": "eb52f10337594bcdb3f3bffc02bbfb5d",
       "version_major": 2,
       "version_minor": 0
      },
      "text/plain": [
       "Batches:   0%|          | 0/7 [00:00<?, ?it/s]"
      ]
     },
     "metadata": {},
     "output_type": "display_data"
    },
    {
     "name": "stdout",
     "output_type": "stream",
     "text": [
      "\u001b[32m2025-Mar-22 15:41:01.38\u001b[0m| \u001b[1mINFO    \u001b[0m | \u001b[36mDuncans-MacBook-Pro.local\u001b[0m| \u001b[36msuperduper.base.datalayer\u001b[0m:\u001b[36m388 \u001b[0m | \u001b[1mLoad (('Table', '_outputs__features__c1b5d86988903f267e496024ca7b7ad2')) from metadata...\u001b[0m\n",
      "\u001b[32m2025-Mar-22 15:41:01.41\u001b[0m| \u001b[1mINFO    \u001b[0m | \u001b[36mDuncans-MacBook-Pro.local\u001b[0m| \u001b[36msuperduper.base.datalayer\u001b[0m:\u001b[36m388 \u001b[0m | \u001b[1mLoad (('Table', 'Job')) from metadata...\u001b[0m\n",
      "\u001b[32m2025-Mar-22 15:41:01.45\u001b[0m| \u001b[1mINFO    \u001b[0m | \u001b[36mDuncans-MacBook-Pro.local\u001b[0m| \u001b[36msuperduper.base.datalayer\u001b[0m:\u001b[36m388 \u001b[0m | \u001b[1mLoad (('Table', 'Job')) from metadata...\u001b[0m\n",
      "\u001b[32m2025-Mar-22 15:41:01.61\u001b[0m| \u001b[1mINFO    \u001b[0m | \u001b[36mDuncans-MacBook-Pro.local\u001b[0m| \u001b[36msuperduper_sklearn.model\u001b[0m:\u001b[36m42  \u001b[0m | \u001b[1mLoading dataset into memory for Estimator.fit\u001b[0m\n"
     ]
    },
    {
     "name": "stderr",
     "output_type": "stream",
     "text": [
      "100%|█████████████████████████████████████████████████████████████████████████████████████████████████████████████████████████████████████████████████████████████████████████████████████████████████████████| 177/177 [00:00<00:00, 3405467.01it/s]\n"
     ]
    },
    {
     "name": "stdout",
     "output_type": "stream",
     "text": [
      "\u001b[32m2025-Mar-22 15:41:03.23\u001b[0m| \u001b[1mINFO    \u001b[0m | \u001b[36mDuncans-MacBook-Pro.local\u001b[0m| \u001b[36msuperduper.base.datalayer\u001b[0m:\u001b[36m388 \u001b[0m | \u001b[1mLoad (('Estimator', 'my-model-scikit')) from metadata...\u001b[0m\n",
      "\u001b[32m2025-Mar-22 15:41:03.24\u001b[0m| \u001b[1mINFO    \u001b[0m | \u001b[36mDuncans-MacBook-Pro.local\u001b[0m| \u001b[36msuperduper.base.datalayer\u001b[0m:\u001b[36m388 \u001b[0m | \u001b[1mLoad (('Listener', 'features')) from metadata...\u001b[0m\n",
      "\u001b[32m2025-Mar-22 15:41:03.24\u001b[0m| \u001b[1mINFO    \u001b[0m | \u001b[36mDuncans-MacBook-Pro.local\u001b[0m| \u001b[36msuperduper.base.datalayer\u001b[0m:\u001b[36m388 \u001b[0m | \u001b[1mLoad (('SentenceTransformer', 'embedding')) from metadata...\u001b[0m\n",
      "\u001b[32m2025-Mar-22 15:41:04.87\u001b[0m| \u001b[33m\u001b[1mWARNING \u001b[0m | \u001b[36mDuncans-MacBook-Pro.local\u001b[0m| \u001b[36msuperduper.base.artifacts\u001b[0m:\u001b[36m243 \u001b[0m | \u001b[33m\u001b[1mFile ./artifact_store/141a2f7ec61bf77731f5b2c8eb3c841e55b682660032932ce2eee4c54b7afd33 already exists\u001b[0m\n",
      "\u001b[32m2025-Mar-22 15:41:04.87\u001b[0m| \u001b[1mINFO    \u001b[0m | \u001b[36mDuncans-MacBook-Pro.local\u001b[0m| \u001b[36msuperduper.base.datalayer\u001b[0m:\u001b[36m388 \u001b[0m | \u001b[1mLoad (('Table', '_outputs__features__c1b5d86988903f267e496024ca7b7ad2')) from metadata...\u001b[0m\n",
      "\u001b[32m2025-Mar-22 15:41:04.88\u001b[0m| \u001b[1mINFO    \u001b[0m | \u001b[36mDuncans-MacBook-Pro.local\u001b[0m| \u001b[36msuperduper.base.datalayer\u001b[0m:\u001b[36m388 \u001b[0m | \u001b[1mLoad (('Validation', 'transfer_learning_performance')) from metadata...\u001b[0m\n",
      "\u001b[32m2025-Mar-22 15:41:04.88\u001b[0m| \u001b[1mINFO    \u001b[0m | \u001b[36mDuncans-MacBook-Pro.local\u001b[0m| \u001b[36msuperduper.base.datalayer\u001b[0m:\u001b[36m388 \u001b[0m | \u001b[1mLoad (('Metric', 'acc')) from metadata...\u001b[0m\n",
      "\u001b[32m2025-Mar-22 15:41:04.88\u001b[0m| \u001b[33m\u001b[1mWARNING \u001b[0m | \u001b[36mDuncans-MacBook-Pro.local\u001b[0m| \u001b[36msuperduper.base.artifacts\u001b[0m:\u001b[36m243 \u001b[0m | \u001b[33m\u001b[1mFile ./artifact_store/70372525d418ce4e502875b1af9ff39083eee65892400a25b53c4d4003c9a5f1 already exists\u001b[0m\n",
      "\u001b[32m2025-Mar-22 15:41:04.88\u001b[0m| \u001b[1mINFO    \u001b[0m | \u001b[36mDuncans-MacBook-Pro.local\u001b[0m| \u001b[36msuperduper.base.datalayer\u001b[0m:\u001b[36m388 \u001b[0m | \u001b[1mLoad (('Dataset', 'my-valid')) from metadata...\u001b[0m\n",
      "\u001b[32m2025-Mar-22 15:41:04.88\u001b[0m| \u001b[1mINFO    \u001b[0m | \u001b[36mDuncans-MacBook-Pro.local\u001b[0m| \u001b[36msuperduper.base.datalayer\u001b[0m:\u001b[36m388 \u001b[0m | \u001b[1mLoad (('SklearnTrainer', 'my-scikit-trainer')) from metadata...\u001b[0m\n",
      "\u001b[32m2025-Mar-22 15:41:04.89\u001b[0m| \u001b[1mINFO    \u001b[0m | \u001b[36mDuncans-MacBook-Pro.local\u001b[0m| \u001b[36msuperduper.base.apply\u001b[0m:\u001b[36m91  \u001b[0m | \u001b[1mFound this diff:\u001b[0m\n"
     ]
    },
    {
     "data": {
      "text/html": [
       "<pre style=\"white-space:pre;overflow-x:auto;line-height:normal;font-family:Menlo,'DejaVu Sans Mono',consolas,'Courier New',monospace\">my-model-scikit\n",
       "├── <span style=\"color: #808000; text-decoration-color: #808000; font-weight: bold\">my-model-scikit</span>\n",
       "│   └── <span style=\"color: #008080; text-decoration-color: #008080; font-weight: bold\">status: </span><span style=\"color: #000080; text-decoration-color: #000080; font-weight: bold\">update</span>\n",
       "├── <span style=\"color: #808000; text-decoration-color: #808000; font-weight: bold\">features</span>\n",
       "│   └── <span style=\"color: #008080; text-decoration-color: #008080; font-weight: bold\">status: </span><span style=\"color: #000080; text-decoration-color: #000080; font-weight: bold\">update</span>\n",
       "└── <span style=\"color: #808000; text-decoration-color: #808000; font-weight: bold\">embedding</span>\n",
       "    └── <span style=\"color: #008080; text-decoration-color: #008080; font-weight: bold\">status: </span><span style=\"color: #000080; text-decoration-color: #000080; font-weight: bold\">update</span>\n",
       "</pre>\n"
      ],
      "text/plain": [
       "my-model-scikit\n",
       "├── \u001b[1;33mmy-model-scikit\u001b[0m\n",
       "│   └── \u001b[1;36mstatus: \u001b[0m\u001b[1;34mupdate\u001b[0m\n",
       "├── \u001b[1;33mfeatures\u001b[0m\n",
       "│   └── \u001b[1;36mstatus: \u001b[0m\u001b[1;34mupdate\u001b[0m\n",
       "└── \u001b[1;33membedding\u001b[0m\n",
       "    └── \u001b[1;36mstatus: \u001b[0m\u001b[1;34mupdate\u001b[0m\n"
      ]
     },
     "metadata": {},
     "output_type": "display_data"
    },
    {
     "name": "stdout",
     "output_type": "stream",
     "text": [
      "\u001b[32m2025-Mar-22 15:41:04.89\u001b[0m| \u001b[1mINFO    \u001b[0m | \u001b[36mDuncans-MacBook-Pro.local\u001b[0m| \u001b[36msuperduper.base.apply\u001b[0m:\u001b[36m94  \u001b[0m | \u001b[1mFound these changes and/ or additions that need to be made:\u001b[0m\n",
      "\u001b[32m2025-Mar-22 15:41:04.89\u001b[0m| \u001b[1mINFO    \u001b[0m | \u001b[36mDuncans-MacBook-Pro.local\u001b[0m| \u001b[36msuperduper.base.apply\u001b[0m:\u001b[36m96  \u001b[0m | \u001b[1m----------------------------------------------------------------------------------------------------\u001b[0m\n",
      "\u001b[32m2025-Mar-22 15:41:04.89\u001b[0m| \u001b[1mINFO    \u001b[0m | \u001b[36mDuncans-MacBook-Pro.local\u001b[0m| \u001b[36msuperduper.base.apply\u001b[0m:\u001b[36m97  \u001b[0m | \u001b[1mMETADATA EVENTS:\u001b[0m\n",
      "\u001b[32m2025-Mar-22 15:41:04.89\u001b[0m| \u001b[1mINFO    \u001b[0m | \u001b[36mDuncans-MacBook-Pro.local\u001b[0m| \u001b[36msuperduper.base.apply\u001b[0m:\u001b[36m98  \u001b[0m | \u001b[1m----------------------------------------------------------------------------------------------------\u001b[0m\n",
      "\u001b[32m2025-Mar-22 15:41:04.89\u001b[0m| \u001b[1mINFO    \u001b[0m | \u001b[36mDuncans-MacBook-Pro.local\u001b[0m| \u001b[36msuperduper.base.apply\u001b[0m:\u001b[36m105 \u001b[0m | \u001b[1m[0]: SentenceTransformerembedding:34fa3ac0f2f9c2363b1ccab9b2b3f230: update ~ [1]\u001b[0m\n",
      "\u001b[32m2025-Mar-22 15:41:04.89\u001b[0m| \u001b[1mINFO    \u001b[0m | \u001b[36mDuncans-MacBook-Pro.local\u001b[0m| \u001b[36msuperduper.base.apply\u001b[0m:\u001b[36m105 \u001b[0m | \u001b[1m[1]: Listenerfeatures:c1b5d86988903f267e496024ca7b7ad2: update ~ [2]\u001b[0m\n",
      "\u001b[32m2025-Mar-22 15:41:04.89\u001b[0m| \u001b[1mINFO    \u001b[0m | \u001b[36mDuncans-MacBook-Pro.local\u001b[0m| \u001b[36msuperduper.base.apply\u001b[0m:\u001b[36m109 \u001b[0m | \u001b[1m[2]: Estimatormy-model-scikit:a07667e9fc25a2e3f7519ad9a84cb74f: update\u001b[0m\n",
      "\u001b[32m2025-Mar-22 15:41:04.89\u001b[0m| \u001b[1mINFO    \u001b[0m | \u001b[36mDuncans-MacBook-Pro.local\u001b[0m| \u001b[36msuperduper.base.apply\u001b[0m:\u001b[36m111 \u001b[0m | \u001b[1m----------------------------------------------------------------------------------------------------\u001b[0m\n",
      "\u001b[32m2025-Mar-22 15:41:04.89\u001b[0m| \u001b[1mINFO    \u001b[0m | \u001b[36mDuncans-MacBook-Pro.local\u001b[0m| \u001b[36msuperduper.base.apply\u001b[0m:\u001b[36m112 \u001b[0m | \u001b[1mJOBS EVENTS:\u001b[0m\n",
      "\u001b[32m2025-Mar-22 15:41:04.89\u001b[0m| \u001b[1mINFO    \u001b[0m | \u001b[36mDuncans-MacBook-Pro.local\u001b[0m| \u001b[36msuperduper.base.apply\u001b[0m:\u001b[36m113 \u001b[0m | \u001b[1m----------------------------------------------------------------------------------------------------\u001b[0m\n",
      "\u001b[32m2025-Mar-22 15:41:04.89\u001b[0m| \u001b[1mINFO    \u001b[0m | \u001b[36mDuncans-MacBook-Pro.local\u001b[0m| \u001b[36msuperduper.base.apply\u001b[0m:\u001b[36m117 \u001b[0m | \u001b[1mNo job events...\u001b[0m\n",
      "\u001b[32m2025-Mar-22 15:41:04.89\u001b[0m| \u001b[1mINFO    \u001b[0m | \u001b[36mDuncans-MacBook-Pro.local\u001b[0m| \u001b[36msuperduper.base.apply\u001b[0m:\u001b[36m128 \u001b[0m | \u001b[1m----------------------------------------------------------------------------------------------------\u001b[0m\n",
      "\u001b[32m2025-Mar-22 15:41:04.89\u001b[0m| \u001b[1mINFO    \u001b[0m | \u001b[36mDuncans-MacBook-Pro.local\u001b[0m| \u001b[36msuperduper.base.datalayer\u001b[0m:\u001b[36m388 \u001b[0m | \u001b[1mLoad (('Table', 'ArtifactRelations')) from metadata...\u001b[0m\n",
      "\u001b[32m2025-Mar-22 15:41:04.90\u001b[0m| \u001b[1mINFO    \u001b[0m | \u001b[36mDuncans-MacBook-Pro.local\u001b[0m| \u001b[36msuperduper.base.datalayer\u001b[0m:\u001b[36m388 \u001b[0m | \u001b[1mLoad (('Table', 'ArtifactRelations')) from metadata...\u001b[0m\n",
      "\u001b[32m2025-Mar-22 15:41:04.90\u001b[0m| \u001b[33m\u001b[1mWARNING \u001b[0m | \u001b[36mDuncans-MacBook-Pro.local\u001b[0m| \u001b[36msuperduper.backends.local.compute\u001b[0m:\u001b[36m39  \u001b[0m | \u001b[33m\u001b[1mCould not release futures for context a07667e9fc25a2e3f7519ad9a84cb74f\u001b[0m\n",
      "\u001b[32m2025-Mar-22 15:41:04.90\u001b[0m| \u001b[1mINFO    \u001b[0m | \u001b[36mDuncans-MacBook-Pro.local\u001b[0m| \u001b[36msuperduper.base.datalayer\u001b[0m:\u001b[36m388 \u001b[0m | \u001b[1mLoad (('Table', 'Job')) from metadata...\u001b[0m\n"
     ]
    }
   ],
   "source": [
    "if APPLY:\n",
    "    db.apply(application)"
   ]
  },
  {
   "cell_type": "code",
   "execution_count": 14,
   "id": "b7478a2a-3071-4d71-9ab8-95d7d7dd3d32",
   "metadata": {},
   "outputs": [
    {
     "name": "stdout",
     "output_type": "stream",
     "text": [
      "\u001b[32m2025-Mar-22 15:41:09.21\u001b[0m| \u001b[1mINFO    \u001b[0m | \u001b[36mDuncans-MacBook-Pro.local\u001b[0m| \u001b[36msuperduper.base.datalayer\u001b[0m:\u001b[36m388 \u001b[0m | \u001b[1mLoad (('Estimator', 'my-model-scikit')) from metadata...\u001b[0m\n",
      "{'my-valid/acc': 0.8695652173913043}\n"
     ]
    }
   ],
   "source": [
    "if APPLY:\n",
    "    model = db.load('Estimator', 'my-model-scikit')\n",
    "    print(model.metric_values)"
   ]
  },
  {
   "cell_type": "code",
   "execution_count": 16,
   "id": "00e5cd40-d5f5-4408-8f3b-857f1d4dd81e",
   "metadata": {},
   "outputs": [],
   "source": [
    "from superduper import Template, Table, Schema\n",
    "from superduper.components.dataset import RemoteData\n",
    "\n",
    "t = Template(\n",
    "    'transfer_learning',\n",
    "    default_tables=[Table(\n",
    "        'sample_transfer_learning',\n",
    "        fields={'x': 'str', 'y': 'int'},\n",
    "        data=RemoteData(\n",
    "            'text_classification',\n",
    "            getter=getter,\n",
    "        ),\n",
    "    )],\n",
    "    template=application,\n",
    "    substitutions={'docs': 'table_name', 'text': 'modality'},\n",
    "    template_variables=['table_name', 'framework', 'modality'],\n",
    "    types={\n",
    "        'table_name': {\n",
    "            'type': 'str',\n",
    "            'default': 'sample_transfer_learning',\n",
    "        },\n",
    "        'modality': {\n",
    "            'type': 'str',\n",
    "            'default': 'text',\n",
    "        },\n",
    "        'framework': {\n",
    "            'type': 'str',\n",
    "            'default': 'scikit-framework',\n",
    "        },\n",
    "    },\n",
    "    db=db\n",
    ")"
   ]
  },
  {
   "cell_type": "code",
   "execution_count": 17,
   "id": "d9c5253f-7b62-4a49-bbe4-b102375e6039",
   "metadata": {},
   "outputs": [],
   "source": [
    "t.export('.')"
   ]
  }
 ],
 "metadata": {
  "kernelspec": {
   "display_name": "Python 3 (ipykernel)",
   "language": "python",
   "name": "python3"
  },
  "language_info": {
   "codemirror_mode": {
    "name": "ipython",
    "version": 3
   },
   "file_extension": ".py",
   "mimetype": "text/x-python",
   "name": "python",
   "nbconvert_exporter": "python",
   "pygments_lexer": "ipython3",
   "version": "3.10.13"
  }
 },
 "nbformat": 4,
 "nbformat_minor": 5
}
