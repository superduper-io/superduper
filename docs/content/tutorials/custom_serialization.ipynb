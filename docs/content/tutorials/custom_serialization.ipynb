{
 "cells": [
  {
   "cell_type": "markdown",
   "id": "f61ff133-8cd2-4409-a1b5-f41e3aa57dc2",
   "metadata": {},
   "source": [
    "# Custom serialization\n",
    "\n",
    "In this tutorial, we demonstrate how developers can flexibily and portably define\n",
    "their own classes in `Superduper`. These may be exported with `Component.export` \n",
    "and transported to other `Superduper` deployments with `db.apply`."
   ]
  },
  {
   "cell_type": "markdown",
   "id": "0438a1f6-0fca-4f95-b05f-8178374db30a",
   "metadata": {},
   "source": [
    "To make our lives difficult, we'll include a data blob in the model, which should be serialized with the \n",
    "exported class:"
   ]
  },
  {
   "cell_type": "code",
   "execution_count": null,
   "id": "aee73a46-83f2-48c4-9d33-c5950a32df05",
   "metadata": {},
   "outputs": [],
   "source": [
    "!curl -O https://superduper-public-demo.s3.amazonaws.com/text.json\n",
    "import json\n",
    "\n",
    "with open('text.json') as f:\n",
    "    data = json.load(f)"
   ]
  },
  {
   "cell_type": "markdown",
   "id": "c0ac80a0-5949-4c3e-bdab-86bdb6e7851b",
   "metadata": {},
   "source": [
    "We'll define our own `Model` descendant, with a custom `.predict` method. \n",
    "We are free to define any of our own parameters to this class with a simple annotation in the header, since `Model` \n",
    "is a `dataclasses.dataclass`:"
   ]
  },
  {
   "cell_type": "code",
   "execution_count": null,
   "id": "bb3c4d7b-673e-4d6b-beae-a64232e1baf6",
   "metadata": {},
   "outputs": [],
   "source": [
    "from superduper import *\n",
    "\n",
    "\n",
    "requires_packages(['openai', None, None])\n",
    "\n",
    "\n",
    "class NewModel(Model):\n",
    "    a: int = 2\n",
    "    b: list\n",
    "\n",
    "    def predict(self, x):\n",
    "        return x * self.a"
   ]
  },
  {
   "cell_type": "markdown",
   "id": "369536a3-9988-4a7f-9679-41f47cf9296d",
   "metadata": {},
   "source": [
    "If we want `b` to be saved as a blob in the `db.artifact_store` we can simply\n",
    "annotate this in the `artifacts=...` parameter, supplying the serializer we would like to use:"
   ]
  },
  {
   "cell_type": "code",
   "execution_count": null,
   "id": "f3a3c6bb-224c-4092-a247-afe6cf92951b",
   "metadata": {},
   "outputs": [],
   "source": [
    "m = NewModel('test-hg', a=2, b=data, artifacts={'b': pickle_serializer})"
   ]
  },
  {
   "cell_type": "markdown",
   "id": "6c3c6e95-5597-4903-9433-07d48ac20e25",
   "metadata": {},
   "source": [
    "Now we can export the model:"
   ]
  },
  {
   "cell_type": "code",
   "execution_count": null,
   "id": "ee3aed43-6ee1-42f2-8a38-401c1dc2ba68",
   "metadata": {},
   "outputs": [],
   "source": [
    "m.export('test-hg')"
   ]
  },
  {
   "cell_type": "code",
   "execution_count": 7,
   "id": "007ba87a-6648-47f3-9794-6a5d02995200",
   "metadata": {},
   "outputs": [
    {
     "name": "stdout",
     "output_type": "stream",
     "text": [
      "{\n",
      "  \"_base\": \"?test-hg\",\n",
      "  \"_builds\": {\n",
      "    \"dill\": {\n",
      "      \"_path\": \"superduper.components.datatype.get_serializer\",\n",
      "      \"method\": \"dill\",\n",
      "      \"encodable\": \"artifact\"\n",
      "    },\n",
      "    \"d0cd766789b72ffd8cb3d56484b02d8262dcc9b4\": {\n",
      "      \"_path\": \"superduper.components.datatype.Artifact\",\n",
      "      \"datatype\": \"?dill\",\n",
      "      \"blob\": \"&:blob:d0cd766789b72ffd8cb3d56484b02d8262dcc9b4\"\n",
      "    },\n",
      "    \"pickle\": {\n",
      "      \"_path\": \"superduper.components.datatype.get_serializer\",\n",
      "      \"method\": \"pickle\",\n",
      "      \"encodable\": \"artifact\"\n",
      "    },\n",
      "    \"e149b30249df8e7e2785fbbb58054cbe898a3cfd\": {\n",
      "      \"_path\": \"superduper.components.datatype.Artifact\",\n",
      "      \"datatype\": \"?pickle\",\n",
      "      \"blob\": \"&:blob:e149b30249df8e7e2785fbbb58054cbe898a3cfd\"\n",
      "    },\n",
      "    \"test-hg\": {\n",
      "      \"_object\": \"?d0cd766789b72ffd8cb3d56484b02d8262dcc9b4\",\n",
      "      \"b\": \"?e149b30249df8e7e2785fbbb58054cbe898a3cfd\"\n",
      "    }\n",
      "  },\n",
      "  \"_files\": {}\n",
      "}"
     ]
    }
   ],
   "source": [
    "!cat test-hg/component.json"
   ]
  },
  {
   "cell_type": "code",
   "execution_count": 8,
   "id": "e6faecc8-6e2a-46c7-a4a1-2f4b855f3ec3",
   "metadata": {},
   "outputs": [
    {
     "name": "stdout",
     "output_type": "stream",
     "text": [
      "748ab67dbe58e1c269f83d72a77ad91cbc313c24\n",
      "d0cd766789b72ffd8cb3d56484b02d8262dcc9b4\n",
      "e149b30249df8e7e2785fbbb58054cbe898a3cfd\n"
     ]
    }
   ],
   "source": [
    "!ls test-hg/blobs/"
   ]
  },
  {
   "cell_type": "markdown",
   "id": "74eee78e-5a69-47eb-a800-edeed63cd324",
   "metadata": {},
   "source": [
    "The following cell works even after restarting the kernel.\n",
    "That means the exported component is now completely portable!"
   ]
  },
  {
   "cell_type": "code",
   "execution_count": 9,
   "id": "9eeda746-0a75-4d2e-8470-e85e774d772e",
   "metadata": {},
   "outputs": [
    {
     "data": {
      "text/plain": [
       "4"
      ]
     },
     "execution_count": 9,
     "metadata": {},
     "output_type": "execute_result"
    }
   ],
   "source": [
    "from superduper import *\n",
    "\n",
    "c = Component.read('test-hg')\n",
    "\n",
    "c.predict(2)"
   ]
  }
 ],
 "metadata": {
  "kernelspec": {
   "display_name": "Python 3 (ipykernel)",
   "language": "python",
   "name": "python3"
  },
  "language_info": {
   "codemirror_mode": {
    "name": "ipython",
    "version": 3
   },
   "file_extension": ".py",
   "mimetype": "text/x-python",
   "name": "python",
   "nbconvert_exporter": "python",
   "pygments_lexer": "ipython3",
   "version": "3.11.7"
  }
 },
 "nbformat": 4,
 "nbformat_minor": 5
}
