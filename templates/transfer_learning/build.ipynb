{
 "cells": [
  {
   "cell_type": "markdown",
   "id": "c288025e-2326-4e8b-ab52-6fb8a5f9560f",
   "metadata": {},
   "source": [
    "# Transfer learning"
   ]
  },
  {
   "cell_type": "code",
   "execution_count": null,
   "id": "31135e11-42f2-4ca7-b2ed-491eb7d074ae",
   "metadata": {
    "editable": true,
    "slideshow": {
     "slide_type": ""
    },
    "tags": [
     "parameters"
    ]
   },
   "outputs": [],
   "source": [
    "APPLY = False\n",
    "COLLECTION_NAME = '<var:table_name>' if not APPLY else 'sample_transfer_learning'\n",
    "MODALITY = 'text'"
   ]
  },
  {
   "cell_type": "code",
   "execution_count": null,
   "id": "cb029a5e-fedf-4f07-8a31-d220cfbfbb3d",
   "metadata": {},
   "outputs": [],
   "source": [
    "from superduper import superduper, CFG\n",
    "\n",
    "db = superduper('mongomock://test_db')"
   ]
  },
  {
   "cell_type": "markdown",
   "id": "032c2e7b-3f54-4263-b778-0fef60596efb",
   "metadata": {},
   "source": [
    "<!-- TABS -->\n",
    "## Get useful sample data"
   ]
  },
  {
   "cell_type": "code",
   "execution_count": null,
   "id": "547751e5",
   "metadata": {},
   "outputs": [],
   "source": [
    "def getter(modality='text'):\n",
    "    import json\n",
    "    import subprocess\n",
    "\n",
    "    if modality == 'text': \n",
    "        subprocess.run([\n",
    "            'curl', '-O', 'https://superduperdb-public-demo.s3.amazonaws.com/text_classification.json',\n",
    "        ])\n",
    "        with open(\"text_classification.json\", \"r\") as f:\n",
    "            data = json.load(f)\n",
    "        subprocess.run(['rm', 'text_classification.json'])\n",
    "        data = data[:200]\n",
    "    else:\n",
    "        subprocess.run([\n",
    "            'curl', '-O', 'https://superduperdb-public-demo.s3.amazonaws.com/images_classification.zip',\n",
    "        ])\n",
    "        subprocess.run(['unzip', 'images_classification.zip'])\n",
    "        subprocess.run(['rm', 'images_classification.zip'])\n",
    "        import json\n",
    "        from PIL import Image\n",
    "        with open('images/images.json', 'r') as f:\n",
    "            data = json.load(f)\n",
    "        data = [{'x': Image.open(d['image_path']), 'y': d['label']} for d in data]\n",
    "    return data"
   ]
  },
  {
   "cell_type": "markdown",
   "id": "eedb0bc4-826f-43fe-bd34-869bf69f2db0",
   "metadata": {},
   "source": [
    "After obtaining the data, we insert it into the database."
   ]
  },
  {
   "cell_type": "markdown",
   "id": "944ebee5",
   "metadata": {},
   "source": [
    "<!-- TABS -->\n",
    "## Insert simple data\n",
    "\n",
    "After turning on auto_schema, we can directly insert data, and superduper will automatically analyze the data type, and match the construction of the table and datatype."
   ]
  },
  {
   "cell_type": "code",
   "execution_count": null,
   "id": "64d0f3b5",
   "metadata": {},
   "outputs": [],
   "source": [
    "if APPLY:\n",
    "    from superduper import Document\n",
    "    ids = db[COLLECTION_NAME].insert([Document(r) for r in data]).execute()"
   ]
  },
  {
   "cell_type": "markdown",
   "id": "9e703b58-a46d-4b1f-98fd-f50d46b168fe",
   "metadata": {},
   "source": [
    "<!-- TABS -->\n",
    "## Compute features"
   ]
  },
  {
   "cell_type": "code",
   "execution_count": null,
   "id": "ae2e1588-fec8-45a6-b678-fef05fc7b57f",
   "metadata": {},
   "outputs": [],
   "source": [
    "import sentence_transformers\n",
    "from superduper import vector, Listener\n",
    "from superduper_sentence_transformers import SentenceTransformer\n",
    "\n",
    "\n",
    "superdupermodel_text = SentenceTransformer(\n",
    "    identifier=\"embedding\",\n",
    "    model='all-MiniLM-L6-v2',\n",
    "    postprocess=lambda x: x.tolist(),\n",
    ")"
   ]
  },
  {
   "cell_type": "code",
   "execution_count": null,
   "id": "17de589c-4d75-4483-b2ca-77d5c25c2fb8",
   "metadata": {},
   "outputs": [],
   "source": [
    "import torchvision\n",
    "from torchvision import transforms\n",
    "from superduper_torch import TorchModel\n",
    "from superduper import Listener, imported\n",
    "from PIL import Image\n",
    "\n",
    "\n",
    "class TorchVisionEmbedding:\n",
    "    def __init__(self):\n",
    "        self.resnet = models.resnet18(pretrained=True)\n",
    "        self.resnet.eval()\n",
    "\n",
    "\n",
    "def preprocess(image):\n",
    "    preprocess = preprocess = transforms.Compose([\n",
    "        transforms.Resize(256),\n",
    "        transforms.CenterCrop(224),\n",
    "        transforms.ToTensor(),\n",
    "        transforms.Normalize(mean=[0.485, 0.456, 0.406], std=[0.229, 0.224, 0.225]),\n",
    "    ])\n",
    "    tensor_image = preprocess(image)\n",
    "    return tensor_image\n",
    "\n",
    "\n",
    "resnet = imported(torchvision.models.resnet18)(pretrained=True)\n",
    "\n",
    "superdupermodel_image = TorchModel(\n",
    "    identifier='my-vision-model',\n",
    "    object=resnet,\n",
    "    preprocess=preprocess,\n",
    "    postprocess=lambda x: x.numpy().tolist()\n",
    ")"
   ]
  },
  {
   "cell_type": "code",
   "execution_count": null,
   "id": "f095265c-769f-4720-9ac7-92a87ea88cd2",
   "metadata": {},
   "outputs": [],
   "source": [
    "from superduper.components.model import ModelRouter\n",
    "\n",
    "\n",
    "feature_extractor = ModelRouter(\n",
    "    'feature_extractor',\n",
    "    models={\n",
    "        'text': superdupermodel_text,\n",
    "        'image': superdupermodel_image,\n",
    "    },\n",
    "    model=MODALITY,\n",
    ")"
   ]
  },
  {
   "cell_type": "code",
   "execution_count": null,
   "id": "4e4b0c27-d78c-4f2d-a45f-0ebd08cb2d61",
   "metadata": {},
   "outputs": [],
   "source": [
    "feature_extractor_listener = Listener(\n",
    "    model=feature_extractor,\n",
    "    select=db[COLLECTION_NAME].select(),\n",
    "    key='x',\n",
    "    identifier=\"features\"\n",
    ")\n",
    "\n",
    "\n",
    "if APPLY:\n",
    "    feature_extractor_listener = db.apply(\n",
    "        feature_extractor_listener,\n",
    "        force=True,\n",
    "    )"
   ]
  },
  {
   "cell_type": "markdown",
   "id": "c2da0ab6-8fc0-41fc-b8c9-0f8a127d9e8d",
   "metadata": {},
   "source": [
    "<!-- TABS -->\n",
    "## Build and train classifier"
   ]
  },
  {
   "cell_type": "code",
   "execution_count": null,
   "id": "d3b94fca-3a0b-433f-88cf-aab5b71b8596",
   "metadata": {},
   "outputs": [],
   "source": [
    "from superduper_sklearn import Estimator, SklearnTrainer\n",
    "from sklearn.svm import SVC\n",
    "\n",
    "\n",
    "scikit_model = Estimator(\n",
    "    identifier=\"my-model-scikit\",\n",
    "    object=SVC(),\n",
    "    trainer=SklearnTrainer(\n",
    "        \"my-scikit-trainer\",\n",
    "        key=(feature_extractor_listener.outputs, \"y\"),\n",
    "        select=db[COLLECTION_NAME].outputs(feature_extractor_listener.predict_id),\n",
    "    ),\n",
    ")"
   ]
  },
  {
   "cell_type": "code",
   "execution_count": null,
   "id": "5256e0fb-db16-411e-a1c1-8d44feb26c29",
   "metadata": {},
   "outputs": [],
   "source": [
    "import torch\n",
    "from torch import nn\n",
    "from superduper_torch.model import TorchModel\n",
    "from superduper_torch.training import TorchTrainer\n",
    "from torch.nn.functional import cross_entropy\n",
    "\n",
    "\n",
    "class SimpleModel(nn.Module):\n",
    "    def __init__(self, input_size=16, hidden_size=32, num_classes=2):\n",
    "        super(SimpleModel, self).__init__()\n",
    "        self.hidden_size = hidden_size\n",
    "        self.fc1 = None\n",
    "        self.relu = nn.ReLU()\n",
    "        self.fc2 = nn.Linear(hidden_size, num_classes)\n",
    "\n",
    "    def forward(self, x):\n",
    "        input_size = x.size(1)\n",
    "        if self.fc1 is None:\n",
    "            self.fc1 = nn.Linear(input_size, self.hidden_size)\n",
    "\n",
    "        out = self.fc1(x)\n",
    "        out = self.relu(out)\n",
    "        out = self.fc2(out)\n",
    "        return out\n",
    "\n",
    "\n",
    "preprocess = lambda x: torch.tensor(x)\n",
    "\n",
    "\n",
    "def postprocess(x):\n",
    "    return int(x.topk(1)[1].item())\n",
    "\n",
    "\n",
    "def data_transform(features, label):\n",
    "    return torch.tensor(features), label\n",
    "\n",
    "\n",
    "model = SimpleModel(num_classes=2)\n",
    "torch_model = TorchModel(\n",
    "    identifier='my-model-torch',\n",
    "    object=model,\n",
    "    preprocess=preprocess,\n",
    "    postprocess=postprocess,\n",
    "    trainer=TorchTrainer(\n",
    "        key=(feature_extractor_listener.outputs, 'y'),\n",
    "        identifier='my-torch-trainer',\n",
    "        objective=cross_entropy,\n",
    "        loader_kwargs={'batch_size': 10},\n",
    "        max_iterations=1000,\n",
    "        validation_interval=100,\n",
    "        select=db[COLLECTION_NAME].outputs(feature_extractor_listener.predict_id),\n",
    "        transform=data_transform,\n",
    "    ),\n",
    ")"
   ]
  },
  {
   "cell_type": "markdown",
   "id": "1af37887-59bc-4e13-b3b1-fee7d6108473",
   "metadata": {},
   "source": [
    "Define a validation for evaluating the effect after training."
   ]
  },
  {
   "cell_type": "code",
   "execution_count": null,
   "id": "94fb7506-2abc-41fe-b259-8c4922d79516",
   "metadata": {},
   "outputs": [],
   "source": [
    "from superduper import Dataset, Metric, Validation\n",
    "\n",
    "def acc(x, y):\n",
    "    return sum([xx == yy for xx, yy in zip(x, y)]) / len(x)\n",
    "\n",
    "accuracy = Metric(identifier=\"acc\", object=acc)\n",
    "validation = Validation(\n",
    "    \"transfer_learning_performance\",\n",
    "    key=(feature_extractor_listener.outputs, \"y\"),\n",
    "    datasets=[\n",
    "        Dataset(\n",
    "            identifier=\"my-valid\",\n",
    "            select=db[COLLECTION_NAME].outputs(feature_extractor_listener.predict_id).add_fold('valid')\n",
    "        )\n",
    "    ],\n",
    "    metrics=[accuracy],\n",
    ")\n",
    "scikit_model.validation = validation\n",
    "torch_model.validation = validation"
   ]
  },
  {
   "cell_type": "markdown",
   "id": "513478b1-2736-4fa5-bc2a-6fdb9c8e232d",
   "metadata": {},
   "source": [
    "If we execute the apply function, then the model will be added to the database, and because the model has a Trainer, it will perform training tasks."
   ]
  },
  {
   "cell_type": "code",
   "execution_count": null,
   "id": "052d13a9-b7f2-486c-a910-d55b8bb29a7b",
   "metadata": {},
   "outputs": [],
   "source": [
    "estimator = ModelRouter(\n",
    "    'estimator',\n",
    "    models={\n",
    "        'scikit-framework': scikit_model,\n",
    "        'torch-framework': torch_model,\n",
    "    },\n",
    "    model='scikit-framework',\n",
    ")"
   ]
  },
  {
   "cell_type": "code",
   "execution_count": null,
   "id": "79a39054-aef2-480a-a57e-7180914e6f7f",
   "metadata": {},
   "outputs": [],
   "source": [
    "if APPLY:\n",
    "    db.apply(estimator, force=True)"
   ]
  },
  {
   "cell_type": "markdown",
   "id": "52ab9838-9e5e-4402-a572-bd8339020963",
   "metadata": {},
   "source": [
    "Get the training metrics"
   ]
  },
  {
   "cell_type": "code",
   "execution_count": null,
   "id": "b7478a2a-3071-4d71-9ab8-95d7d7dd3d32",
   "metadata": {},
   "outputs": [],
   "source": [
    "if APPLY:\n",
    "    model = db.load('model', 'my-model-scikit')\n",
    "    model.metric_values"
   ]
  },
  {
   "cell_type": "code",
   "execution_count": null,
   "id": "6d3ac98a-88d9-4812-a715-cfc62c5efe20",
   "metadata": {},
   "outputs": [],
   "source": [
    "from superduper import Application\n",
    "\n",
    "application = Application(\n",
    "    identifier='transfer-learning',\n",
    "    components=[feature_extractor_listener, estimator],\n",
    ")"
   ]
  },
  {
   "cell_type": "code",
   "execution_count": null,
   "id": "00e5cd40-d5f5-4408-8f3b-857f1d4dd81e",
   "metadata": {},
   "outputs": [],
   "source": [
    "from superduper import Template, Table, Schema\n",
    "from superduper.components.dataset import RemoteData\n",
    "\n",
    "t = Template(\n",
    "    'transfer_learning',\n",
    "    default_table=Table(\n",
    "        'sample_transfer_learning',\n",
    "        schema=Schema(\n",
    "            'sample_transfer_learning/schema',\n",
    "            fields={'x': 'str', 'y': 'int'},\n",
    "        ),\n",
    "        data=RemoteData(\n",
    "            'text_classification',\n",
    "            getter=getter,\n",
    "        ),\n",
    "    ),\n",
    "    template=application,\n",
    "    substitutions={'docs': 'table_name', 'text': 'modality'},\n",
    "    template_variables=['table_name', 'framework', 'modality'],\n",
    "    types={\n",
    "        'table_name': {\n",
    "            'type': 'str',\n",
    "            'default': 'sample_transfer_learning',\n",
    "        },\n",
    "        'modality': {\n",
    "            'type': 'str',\n",
    "            'default': 'text',\n",
    "        },\n",
    "        'framework': {\n",
    "            'type': 'str',\n",
    "            'default': 'scikit-framework',\n",
    "        },\n",
    "    }\n",
    ")"
   ]
  },
  {
   "cell_type": "code",
   "execution_count": null,
   "id": "d9c5253f-7b62-4a49-bbe4-b102375e6039",
   "metadata": {},
   "outputs": [],
   "source": [
    "t.export('.')"
   ]
  }
 ],
 "metadata": {
  "kernelspec": {
   "display_name": "Python 3 (ipykernel)",
   "language": "python",
   "name": "python3"
  },
  "language_info": {
   "codemirror_mode": {
    "name": "ipython",
    "version": 3
   },
   "file_extension": ".py",
   "mimetype": "text/x-python",
   "name": "python",
   "nbconvert_exporter": "python",
   "pygments_lexer": "ipython3",
   "version": "3.10.13"
  }
 },
 "nbformat": 4,
 "nbformat_minor": 5
}
