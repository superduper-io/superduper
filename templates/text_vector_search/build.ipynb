{
 "cells": [
  {
   "cell_type": "markdown",
   "id": "38c1a328-fd86-4c5f-bd54-b8664f433608",
   "metadata": {
    "editable": true,
    "slideshow": {
     "slide_type": ""
    },
    "tags": []
   },
   "source": [
    "# Text vector search"
   ]
  },
  {
   "cell_type": "markdown",
   "id": "32f8484d-2e35-472a-9b24-1a30ec1d144b",
   "metadata": {},
   "source": [
    "<!-- TABS -->\n",
    "## Connect to superduper"
   ]
  },
  {
   "cell_type": "markdown",
   "id": "06d66021-ce62-4021-a2c5-158dee92b3bb",
   "metadata": {},
   "source": [
    ":::note\n",
    "Note that this is only relevant if you are running superduper in development mode.\n",
    "Otherwise refer to \"Configuring your production system\".\n",
    ":::"
   ]
  },
  {
   "cell_type": "code",
   "execution_count": 2,
   "id": "3ef70f6d-a189-460a-8864-241a689624e2",
   "metadata": {
    "editable": true,
    "slideshow": {
     "slide_type": ""
    },
    "tags": [
     "parameters"
    ]
   },
   "outputs": [],
   "source": [
    "APPLY = True\n",
    "COLLECTION_NAME = '<var:table_name>' if not APPLY else 'sample_text_vector_search'"
   ]
  },
  {
   "cell_type": "code",
   "execution_count": 3,
   "id": "cb029a5e-fedf-4f07-8a31-d220cfbfbb3d",
   "metadata": {},
   "outputs": [
    {
     "name": "stdout",
     "output_type": "stream",
     "text": [
      "\u001b[32m2025-Jan-13 12:45:15.81\u001b[0m| \u001b[1mINFO    \u001b[0m | \u001b[36mDuncans-MBP.fritz.box\u001b[0m| \u001b[36msuperduper.misc.plugins\u001b[0m:\u001b[36m13  \u001b[0m | \u001b[1mLoading plugin: mongodb\u001b[0m\n",
      "\u001b[32m2025-Jan-13 12:45:15.87\u001b[0m| \u001b[1mINFO    \u001b[0m | \u001b[36mDuncans-MBP.fritz.box\u001b[0m| \u001b[36msuperduper.base.datalayer\u001b[0m:\u001b[36m64  \u001b[0m | \u001b[1mBuilding Data Layer\u001b[0m\n",
      "\u001b[32m2025-Jan-13 12:45:15.87\u001b[0m| \u001b[1mINFO    \u001b[0m | \u001b[36mDuncans-MBP.fritz.box\u001b[0m| \u001b[36msuperduper.base.datalayer\u001b[0m:\u001b[36m79  \u001b[0m | \u001b[1mData Layer built\u001b[0m\n",
      "\u001b[32m2025-Jan-13 12:45:15.87\u001b[0m| \u001b[1mINFO    \u001b[0m | \u001b[36mDuncans-MBP.fritz.box\u001b[0m| \u001b[36msuperduper.backends.base.cluster\u001b[0m:\u001b[36m99  \u001b[0m | \u001b[1mCluster initialized in 0.00 seconds.\u001b[0m\n",
      "\u001b[32m2025-Jan-13 12:45:15.87\u001b[0m| \u001b[1mINFO    \u001b[0m | \u001b[36mDuncans-MBP.fritz.box\u001b[0m| \u001b[36msuperduper.base.build\u001b[0m:\u001b[36m184 \u001b[0m | \u001b[1mConfiguration: \n",
      " +---------------+----------------------+\n",
      "| Configuration |        Value         |\n",
      "+---------------+----------------------+\n",
      "|  Data Backend | mongomock:///test_db |\n",
      "+---------------+----------------------+\u001b[0m\n"
     ]
    }
   ],
   "source": [
    "from superduper import superduper\n",
    "\n",
    "db = superduper('mongomock:///test_db')"
   ]
  },
  {
   "cell_type": "markdown",
   "id": "032c2e7b-3f54-4263-b778-0fef60596efb",
   "metadata": {},
   "source": [
    "<!-- TABS -->\n",
    "## Get useful sample data"
   ]
  },
  {
   "cell_type": "code",
   "execution_count": 4,
   "id": "4e7902bd",
   "metadata": {},
   "outputs": [],
   "source": [
    "import json\n",
    "import requests\n",
    "import io\n",
    "\n",
    "def getter():\n",
    "    response = requests.get('https://superduperdb-public-demo.s3.amazonaws.com/text.json')\n",
    "    return json.loads(response.content.decode('utf-8'))"
   ]
  },
  {
   "cell_type": "code",
   "execution_count": 5,
   "id": "24ad2cd3-65d9-41c9-82b9-e6e9700828fa",
   "metadata": {},
   "outputs": [],
   "source": [
    "if APPLY:\n",
    "    data = getter()"
   ]
  },
  {
   "cell_type": "markdown",
   "id": "9ede8ae1",
   "metadata": {},
   "source": [
    "<!-- TABS -->\n",
    "## Insert simple data\n",
    "\n",
    "After turning on auto_schema, we can directly insert data, and superduper will automatically analyze the data type, and match the construction of the table and datatype."
   ]
  },
  {
   "cell_type": "code",
   "execution_count": 6,
   "id": "c5965fdf",
   "metadata": {},
   "outputs": [
    {
     "name": "stdout",
     "output_type": "stream",
     "text": [
      "\u001b[32m2025-Jan-13 12:45:21.08\u001b[0m| \u001b[1mINFO    \u001b[0m | \u001b[36mDuncans-MBP.fritz.box\u001b[0m| \u001b[36msuperduper.base.datalayer\u001b[0m:\u001b[36m593 \u001b[0m | \u001b[1mComponent (table, sample_text_vector_search) not found in cache, loading from db\u001b[0m\n",
      "\u001b[32m2025-Jan-13 12:45:21.08\u001b[0m| \u001b[1mINFO    \u001b[0m | \u001b[36mDuncans-MBP.fritz.box\u001b[0m| \u001b[36msuperduper.base.datalayer\u001b[0m:\u001b[36m599 \u001b[0m | \u001b[1mLoad (('table', 'sample_text_vector_search')) from metadata...\u001b[0m\n",
      "\u001b[32m2025-Jan-13 12:45:21.08\u001b[0m| \u001b[1mINFO    \u001b[0m | \u001b[36mDuncans-MBP.fritz.box\u001b[0m| \u001b[36msuperduper.base.datalayer\u001b[0m:\u001b[36m331 \u001b[0m | \u001b[1mTable sample_text_vector_search does not exist, auto creating...\u001b[0m\n",
      "\u001b[32m2025-Jan-13 12:45:21.57\u001b[0m| \u001b[33m\u001b[1mWARNING \u001b[0m | \u001b[36mDuncans-MBP.fritz.box\u001b[0m| \u001b[36msuperduper.misc.annotations\u001b[0m:\u001b[36m296 \u001b[0m | \u001b[33m\u001b[1m`superduper.ext.torch` is deprecated and will be removed in a future release. Please insteall `superduper_torch` and use `from superduper_torch import *` instead.\u001b[0m\n",
      "\u001b[32m2025-Jan-13 12:45:21.59\u001b[0m| \u001b[33m\u001b[1mWARNING \u001b[0m | \u001b[36mDuncans-MBP.fritz.box\u001b[0m| \u001b[36msuperduper.misc.annotations\u001b[0m:\u001b[36m296 \u001b[0m | \u001b[33m\u001b[1m`superduper.ext.pillow` is deprecated and will be removed in a future release. Please insteall `superduper_pillow` and use `from superduper_pillow import *` instead.\u001b[0m\n",
      "\u001b[32m2025-Jan-13 12:45:21.59\u001b[0m| \u001b[1mINFO    \u001b[0m | \u001b[36mDuncans-MBP.fritz.box\u001b[0m| \u001b[36msuperduper.base.datalayer\u001b[0m:\u001b[36m337 \u001b[0m | \u001b[1mCreating table sample_text_vector_search with schema {('_fold', 'str'), ('x', 'str')}\u001b[0m\n",
      "\u001b[32m2025-Jan-13 12:45:21.59\u001b[0m| \u001b[33m\u001b[1mWARNING \u001b[0m | \u001b[36mDuncans-MBP.fritz.box\u001b[0m| \u001b[36msuperduper.base.document\u001b[0m:\u001b[36m564 \u001b[0m | \u001b[33m\u001b[1mLeaf str already exists\u001b[0m\n",
      "\u001b[32m2025-Jan-13 12:45:21.59\u001b[0m| \u001b[1mINFO    \u001b[0m | \u001b[36mDuncans-MBP.fritz.box\u001b[0m| \u001b[36msuperduper.base.datalayer\u001b[0m:\u001b[36m593 \u001b[0m | \u001b[1mComponent (schema, AUTO-_fold=<class 'str'>&x=<class 'str'>) not found in cache, loading from db\u001b[0m\n",
      "\u001b[32m2025-Jan-13 12:45:21.59\u001b[0m| \u001b[1mINFO    \u001b[0m | \u001b[36mDuncans-MBP.fritz.box\u001b[0m| \u001b[36msuperduper.base.datalayer\u001b[0m:\u001b[36m599 \u001b[0m | \u001b[1mLoad (('schema', \"AUTO-_fold=<class 'str'>&x=<class 'str'>\")) from metadata...\u001b[0m\n",
      "\u001b[32m2025-Jan-13 12:45:21.59\u001b[0m| \u001b[33m\u001b[1mWARNING \u001b[0m | \u001b[36mDuncans-MBP.fritz.box\u001b[0m| \u001b[36msuperduper.base.document\u001b[0m:\u001b[36m564 \u001b[0m | \u001b[33m\u001b[1mLeaf str already exists\u001b[0m\n",
      "\u001b[32m2025-Jan-13 12:45:21.59\u001b[0m| \u001b[1mINFO    \u001b[0m | \u001b[36mDuncans-MBP.fritz.box\u001b[0m| \u001b[36msuperduper.base.apply\u001b[0m:\u001b[36m359 \u001b[0m | \u001b[1mFound new schema:AUTO-_fold=<class 'str'>&x=<class 'str'>:18535d4b96fa41b7\u001b[0m\n",
      "\u001b[32m2025-Jan-13 12:45:21.59\u001b[0m| \u001b[1mINFO    \u001b[0m | \u001b[36mDuncans-MBP.fritz.box\u001b[0m| \u001b[36msuperduper.base.datalayer\u001b[0m:\u001b[36m593 \u001b[0m | \u001b[1mComponent (table, sample_text_vector_search) not found in cache, loading from db\u001b[0m\n",
      "\u001b[32m2025-Jan-13 12:45:21.59\u001b[0m| \u001b[1mINFO    \u001b[0m | \u001b[36mDuncans-MBP.fritz.box\u001b[0m| \u001b[36msuperduper.base.datalayer\u001b[0m:\u001b[36m599 \u001b[0m | \u001b[1mLoad (('table', 'sample_text_vector_search')) from metadata...\u001b[0m\n",
      "\u001b[32m2025-Jan-13 12:45:21.59\u001b[0m| \u001b[1mINFO    \u001b[0m | \u001b[36mDuncans-MBP.fritz.box\u001b[0m| \u001b[36msuperduper.base.apply\u001b[0m:\u001b[36m359 \u001b[0m | \u001b[1mFound new table:sample_text_vector_search:80e5106c020643c9\u001b[0m\n",
      "\u001b[32m2025-Jan-13 12:45:21.59\u001b[0m| \u001b[1mINFO    \u001b[0m | \u001b[36mDuncans-MBP.fritz.box\u001b[0m| \u001b[36msuperduper.base.apply\u001b[0m:\u001b[36m79  \u001b[0m | \u001b[1mFound these changes and/ or additions that need to be made:\u001b[0m\n",
      "\u001b[32m2025-Jan-13 12:45:21.59\u001b[0m| \u001b[1mINFO    \u001b[0m | \u001b[36mDuncans-MBP.fritz.box\u001b[0m| \u001b[36msuperduper.base.apply\u001b[0m:\u001b[36m81  \u001b[0m | \u001b[1m----------------------------------------------------------------------------------------------------\u001b[0m\n",
      "\u001b[32m2025-Jan-13 12:45:21.59\u001b[0m| \u001b[1mINFO    \u001b[0m | \u001b[36mDuncans-MBP.fritz.box\u001b[0m| \u001b[36msuperduper.base.apply\u001b[0m:\u001b[36m82  \u001b[0m | \u001b[1mMETADATA EVENTS:\u001b[0m\n",
      "\u001b[32m2025-Jan-13 12:45:21.59\u001b[0m| \u001b[1mINFO    \u001b[0m | \u001b[36mDuncans-MBP.fritz.box\u001b[0m| \u001b[36msuperduper.base.apply\u001b[0m:\u001b[36m83  \u001b[0m | \u001b[1m----------------------------------------------------------------------------------------------------\u001b[0m\n",
      "\u001b[32m2025-Jan-13 12:45:21.59\u001b[0m| \u001b[1mINFO    \u001b[0m | \u001b[36mDuncans-MBP.fritz.box\u001b[0m| \u001b[36msuperduper.base.apply\u001b[0m:\u001b[36m90  \u001b[0m | \u001b[1m[0]: schema:AUTO-_fold=<class 'str'>&x=<class 'str'>:18535d4b96fa41b7: create ~ [1]\u001b[0m\n",
      "\u001b[32m2025-Jan-13 12:45:21.59\u001b[0m| \u001b[1mINFO    \u001b[0m | \u001b[36mDuncans-MBP.fritz.box\u001b[0m| \u001b[36msuperduper.base.apply\u001b[0m:\u001b[36m94  \u001b[0m | \u001b[1m[1]: table:sample_text_vector_search:80e5106c020643c9: create\u001b[0m\n",
      "\u001b[32m2025-Jan-13 12:45:21.59\u001b[0m| \u001b[1mINFO    \u001b[0m | \u001b[36mDuncans-MBP.fritz.box\u001b[0m| \u001b[36msuperduper.base.apply\u001b[0m:\u001b[36m96  \u001b[0m | \u001b[1m----------------------------------------------------------------------------------------------------\u001b[0m\n",
      "\u001b[32m2025-Jan-13 12:45:21.59\u001b[0m| \u001b[1mINFO    \u001b[0m | \u001b[36mDuncans-MBP.fritz.box\u001b[0m| \u001b[36msuperduper.base.apply\u001b[0m:\u001b[36m97  \u001b[0m | \u001b[1mJOBS EVENTS:\u001b[0m\n",
      "\u001b[32m2025-Jan-13 12:45:21.59\u001b[0m| \u001b[1mINFO    \u001b[0m | \u001b[36mDuncans-MBP.fritz.box\u001b[0m| \u001b[36msuperduper.base.apply\u001b[0m:\u001b[36m98  \u001b[0m | \u001b[1m----------------------------------------------------------------------------------------------------\u001b[0m\n",
      "\u001b[32m2025-Jan-13 12:45:21.59\u001b[0m| \u001b[1mINFO    \u001b[0m | \u001b[36mDuncans-MBP.fritz.box\u001b[0m| \u001b[36msuperduper.base.apply\u001b[0m:\u001b[36m102 \u001b[0m | \u001b[1mNo job events...\u001b[0m\n",
      "\u001b[32m2025-Jan-13 12:45:21.59\u001b[0m| \u001b[1mINFO    \u001b[0m | \u001b[36mDuncans-MBP.fritz.box\u001b[0m| \u001b[36msuperduper.base.apply\u001b[0m:\u001b[36m113 \u001b[0m | \u001b[1m----------------------------------------------------------------------------------------------------\u001b[0m\n",
      "\u001b[32m2025-Jan-13 12:45:21.59\u001b[0m| \u001b[1mINFO    \u001b[0m | \u001b[36mDuncans-MBP.fritz.box\u001b[0m| \u001b[36msuperduper.base.datalayer\u001b[0m:\u001b[36m562 \u001b[0m | \u001b[1mComponent 18535d4b96fa41b7 not found in cache, loading from db with uuid\u001b[0m\n",
      "\u001b[32m2025-Jan-13 12:45:21.59\u001b[0m| \u001b[1mINFO    \u001b[0m | \u001b[36mDuncans-MBP.fritz.box\u001b[0m| \u001b[36msuperduper.base.datalayer\u001b[0m:\u001b[36m584 \u001b[0m | \u001b[1mAdding schema:AUTO-_fold=<class 'str'>&x=<class 'str'>:18535d4b96fa41b7 to cache\u001b[0m\n",
      "\u001b[32m2025-Jan-13 12:45:21.59\u001b[0m| \u001b[1mINFO    \u001b[0m | \u001b[36mDuncans-MBP.fritz.box\u001b[0m| \u001b[36msuperduper.components.component\u001b[0m:\u001b[36m620 \u001b[0m | \u001b[1mAdding schema: AUTO-_fold=<class 'str'>&x=<class 'str'> to cache\u001b[0m\n",
      "\u001b[32m2025-Jan-13 12:45:21.59\u001b[0m| \u001b[1mINFO    \u001b[0m | \u001b[36mDuncans-MBP.fritz.box\u001b[0m| \u001b[36msuperduper.base.datalayer\u001b[0m:\u001b[36m562 \u001b[0m | \u001b[1mComponent 80e5106c020643c9 not found in cache, loading from db with uuid\u001b[0m\n",
      "\u001b[32m2025-Jan-13 12:45:21.59\u001b[0m| \u001b[1mINFO    \u001b[0m | \u001b[36mDuncans-MBP.fritz.box\u001b[0m| \u001b[36msuperduper.base.datalayer\u001b[0m:\u001b[36m584 \u001b[0m | \u001b[1mAdding table:sample_text_vector_search:80e5106c020643c9 to cache\u001b[0m\n",
      "\u001b[32m2025-Jan-13 12:45:21.59\u001b[0m| \u001b[33m\u001b[1mWARNING \u001b[0m | \u001b[36mDuncans-MBP.fritz.box\u001b[0m| \u001b[36msuperduper.backends.local.compute\u001b[0m:\u001b[36m52  \u001b[0m | \u001b[33m\u001b[1mCould not release futures for context 80e5106c020643c9\u001b[0m\n",
      "\u001b[32m2025-Jan-13 12:45:21.59\u001b[0m| \u001b[1mINFO    \u001b[0m | \u001b[36mDuncans-MBP.fritz.box\u001b[0m| \u001b[36msuperduper.backends.local.queue\u001b[0m:\u001b[36m120 \u001b[0m | \u001b[1mConsumed all events\u001b[0m\n",
      "\u001b[32m2025-Jan-13 12:45:21.63\u001b[0m| \u001b[1mINFO    \u001b[0m | \u001b[36mDuncans-MBP.fritz.box\u001b[0m| \u001b[36msuperduper.base.datalayer\u001b[0m:\u001b[36m310 \u001b[0m | \u001b[1mInserted 187 documents into sample_text_vector_search\u001b[0m\n"
     ]
    }
   ],
   "source": [
    "if APPLY:\n",
    "    from superduper import Document\n",
    "    ids = db.execute(db[COLLECTION_NAME].insert([Document({'x': x}) for x in data]))"
   ]
  },
  {
   "cell_type": "markdown",
   "id": "54fea927-ee4a-44cd-aaf2-634b574c316d",
   "metadata": {},
   "source": [
    "## Apply a chunker for search"
   ]
  },
  {
   "cell_type": "markdown",
   "id": "06d90bda-e8c4-494e-a38c-837fb63689ae",
   "metadata": {},
   "source": [
    ":::note\n",
    "Note that applying a chunker is ***not*** mandatory for search.\n",
    "If your data is already chunked (e.g. short text snippets or audio) or if you\n",
    "are searching through something like images, which can't be chunked, then this\n",
    "won't be necessary.\n",
    ":::"
   ]
  },
  {
   "cell_type": "code",
   "execution_count": 7,
   "id": "2d20eaa0-a416-4483-938e-23f79845739a",
   "metadata": {},
   "outputs": [],
   "source": [
    "from superduper import Model\n",
    "\n",
    "class Chunker(Model):\n",
    "    chunk_size: int = 200\n",
    "    signature: str = 'singleton'\n",
    "\n",
    "    def predict(self, text):\n",
    "        text = text.split()\n",
    "        chunks = [' '.join(text[i:i + self.chunk_size]) for i in range(0, len(text), self.chunk_size)]\n",
    "        return chunks"
   ]
  },
  {
   "cell_type": "markdown",
   "id": "b33a16f9-3bac-45bb-80ac-3ccf265dce5f",
   "metadata": {},
   "source": [
    "Now we apply this chunker to the data by wrapping the chunker in `Listener`:"
   ]
  },
  {
   "cell_type": "code",
   "execution_count": 8,
   "id": "93d21872-d4dc-40dc-abab-fb07ba102ea3",
   "metadata": {},
   "outputs": [],
   "source": [
    "from superduper import Listener\n",
    "\n",
    "upstream_listener = Listener(\n",
    "    model=Chunker('chunk_model', chunk_size=200, example='test ' * 50),\n",
    "    select=db[COLLECTION_NAME].select(),\n",
    "    key='x',\n",
    "    identifier=f'chunker_{COLLECTION_NAME}',\n",
    "    flatten=True,\n",
    ")"
   ]
  },
  {
   "cell_type": "code",
   "execution_count": 9,
   "id": "31900eec-b516-4bef-939e-2e8f46252b12",
   "metadata": {},
   "outputs": [
    {
     "name": "stdout",
     "output_type": "stream",
     "text": [
      "\u001b[32m2025-Jan-13 12:45:27.83\u001b[0m| \u001b[33m\u001b[1mWARNING \u001b[0m | \u001b[36mDuncans-MBP.fritz.box\u001b[0m| \u001b[36msuperduper.components.listener\u001b[0m:\u001b[36m76  \u001b[0m | \u001b[33m\u001b[1moutput_table not found in listener.dict()\u001b[0m\n",
      "\u001b[32m2025-Jan-13 12:45:27.84\u001b[0m| \u001b[1mINFO    \u001b[0m | \u001b[36mDuncans-MBP.fritz.box\u001b[0m| \u001b[36msuperduper.base.datalayer\u001b[0m:\u001b[36m593 \u001b[0m | \u001b[1mComponent (model, chunk_model) not found in cache, loading from db\u001b[0m\n",
      "\u001b[32m2025-Jan-13 12:45:27.84\u001b[0m| \u001b[1mINFO    \u001b[0m | \u001b[36mDuncans-MBP.fritz.box\u001b[0m| \u001b[36msuperduper.base.datalayer\u001b[0m:\u001b[36m599 \u001b[0m | \u001b[1mLoad (('model', 'chunk_model')) from metadata...\u001b[0m\n",
      "\u001b[32m2025-Jan-13 12:45:27.84\u001b[0m| \u001b[1mINFO    \u001b[0m | \u001b[36mDuncans-MBP.fritz.box\u001b[0m| \u001b[36msuperduper.base.apply\u001b[0m:\u001b[36m359 \u001b[0m | \u001b[1mFound new model:chunk_model:76436da6a29d4031\u001b[0m\n",
      "\u001b[32m2025-Jan-13 12:45:27.85\u001b[0m| \u001b[1mINFO    \u001b[0m | \u001b[36mDuncans-MBP.fritz.box\u001b[0m| \u001b[36msuperduper.base.datalayer\u001b[0m:\u001b[36m593 \u001b[0m | \u001b[1mComponent (listener, chunker_sample_text_vector_search) not found in cache, loading from db\u001b[0m\n",
      "\u001b[32m2025-Jan-13 12:45:27.85\u001b[0m| \u001b[1mINFO    \u001b[0m | \u001b[36mDuncans-MBP.fritz.box\u001b[0m| \u001b[36msuperduper.base.datalayer\u001b[0m:\u001b[36m599 \u001b[0m | \u001b[1mLoad (('listener', 'chunker_sample_text_vector_search')) from metadata...\u001b[0m\n",
      "\u001b[32m2025-Jan-13 12:45:27.85\u001b[0m| \u001b[1mINFO    \u001b[0m | \u001b[36mDuncans-MBP.fritz.box\u001b[0m| \u001b[36msuperduper.base.datalayer\u001b[0m:\u001b[36m593 \u001b[0m | \u001b[1mComponent (schema, _schema/_outputs__chunker_sample_text_vector_search__fc9ea0798a1e47e3) not found in cache, loading from db\u001b[0m\n",
      "\u001b[32m2025-Jan-13 12:45:27.85\u001b[0m| \u001b[1mINFO    \u001b[0m | \u001b[36mDuncans-MBP.fritz.box\u001b[0m| \u001b[36msuperduper.base.datalayer\u001b[0m:\u001b[36m599 \u001b[0m | \u001b[1mLoad (('schema', '_schema/_outputs__chunker_sample_text_vector_search__fc9ea0798a1e47e3')) from metadata...\u001b[0m\n",
      "\u001b[32m2025-Jan-13 12:45:27.85\u001b[0m| \u001b[33m\u001b[1mWARNING \u001b[0m | \u001b[36mDuncans-MBP.fritz.box\u001b[0m| \u001b[36msuperduper.base.document\u001b[0m:\u001b[36m564 \u001b[0m | \u001b[33m\u001b[1mLeaf ID already exists\u001b[0m\n",
      "\u001b[32m2025-Jan-13 12:45:27.85\u001b[0m| \u001b[33m\u001b[1mWARNING \u001b[0m | \u001b[36mDuncans-MBP.fritz.box\u001b[0m| \u001b[36msuperduper.base.document\u001b[0m:\u001b[36m564 \u001b[0m | \u001b[33m\u001b[1mLeaf str already exists\u001b[0m\n",
      "\u001b[32m2025-Jan-13 12:45:27.85\u001b[0m| \u001b[1mINFO    \u001b[0m | \u001b[36mDuncans-MBP.fritz.box\u001b[0m| \u001b[36msuperduper.base.apply\u001b[0m:\u001b[36m359 \u001b[0m | \u001b[1mFound new schema:_schema/_outputs__chunker_sample_text_vector_search__fc9ea0798a1e47e3:42833b24795c4e6b\u001b[0m\n",
      "\u001b[32m2025-Jan-13 12:45:27.85\u001b[0m| \u001b[1mINFO    \u001b[0m | \u001b[36mDuncans-MBP.fritz.box\u001b[0m| \u001b[36msuperduper.base.datalayer\u001b[0m:\u001b[36m593 \u001b[0m | \u001b[1mComponent (table, _outputs__chunker_sample_text_vector_search__fc9ea0798a1e47e3) not found in cache, loading from db\u001b[0m\n",
      "\u001b[32m2025-Jan-13 12:45:27.85\u001b[0m| \u001b[1mINFO    \u001b[0m | \u001b[36mDuncans-MBP.fritz.box\u001b[0m| \u001b[36msuperduper.base.datalayer\u001b[0m:\u001b[36m599 \u001b[0m | \u001b[1mLoad (('table', '_outputs__chunker_sample_text_vector_search__fc9ea0798a1e47e3')) from metadata...\u001b[0m\n",
      "\u001b[32m2025-Jan-13 12:45:27.85\u001b[0m| \u001b[1mINFO    \u001b[0m | \u001b[36mDuncans-MBP.fritz.box\u001b[0m| \u001b[36msuperduper.base.apply\u001b[0m:\u001b[36m359 \u001b[0m | \u001b[1mFound new table:_outputs__chunker_sample_text_vector_search__fc9ea0798a1e47e3:c711f72a2dbc4133\u001b[0m\n",
      "\u001b[32m2025-Jan-13 12:45:27.85\u001b[0m| \u001b[33m\u001b[1mWARNING \u001b[0m | \u001b[36mDuncans-MBP.fritz.box\u001b[0m| \u001b[36msuperduper.base.document\u001b[0m:\u001b[36m564 \u001b[0m | \u001b[33m\u001b[1mLeaf ID already exists\u001b[0m\n",
      "\u001b[32m2025-Jan-13 12:45:27.85\u001b[0m| \u001b[33m\u001b[1mWARNING \u001b[0m | \u001b[36mDuncans-MBP.fritz.box\u001b[0m| \u001b[36msuperduper.base.document\u001b[0m:\u001b[36m564 \u001b[0m | \u001b[33m\u001b[1mLeaf str already exists\u001b[0m\n",
      "\u001b[32m2025-Jan-13 12:45:27.85\u001b[0m| \u001b[1mINFO    \u001b[0m | \u001b[36mDuncans-MBP.fritz.box\u001b[0m| \u001b[36msuperduper.base.apply\u001b[0m:\u001b[36m359 \u001b[0m | \u001b[1mFound new listener:chunker_sample_text_vector_search:fc9ea0798a1e47e3\u001b[0m\n",
      "\u001b[32m2025-Jan-13 12:45:27.85\u001b[0m| \u001b[1mINFO    \u001b[0m | \u001b[36mDuncans-MBP.fritz.box\u001b[0m| \u001b[36msuperduper.base.apply\u001b[0m:\u001b[36m79  \u001b[0m | \u001b[1mFound these changes and/ or additions that need to be made:\u001b[0m\n",
      "\u001b[32m2025-Jan-13 12:45:27.85\u001b[0m| \u001b[1mINFO    \u001b[0m | \u001b[36mDuncans-MBP.fritz.box\u001b[0m| \u001b[36msuperduper.base.apply\u001b[0m:\u001b[36m81  \u001b[0m | \u001b[1m----------------------------------------------------------------------------------------------------\u001b[0m\n",
      "\u001b[32m2025-Jan-13 12:45:27.85\u001b[0m| \u001b[1mINFO    \u001b[0m | \u001b[36mDuncans-MBP.fritz.box\u001b[0m| \u001b[36msuperduper.base.apply\u001b[0m:\u001b[36m82  \u001b[0m | \u001b[1mMETADATA EVENTS:\u001b[0m\n",
      "\u001b[32m2025-Jan-13 12:45:27.85\u001b[0m| \u001b[1mINFO    \u001b[0m | \u001b[36mDuncans-MBP.fritz.box\u001b[0m| \u001b[36msuperduper.base.apply\u001b[0m:\u001b[36m83  \u001b[0m | \u001b[1m----------------------------------------------------------------------------------------------------\u001b[0m\n",
      "\u001b[32m2025-Jan-13 12:45:27.85\u001b[0m| \u001b[1mINFO    \u001b[0m | \u001b[36mDuncans-MBP.fritz.box\u001b[0m| \u001b[36msuperduper.base.apply\u001b[0m:\u001b[36m90  \u001b[0m | \u001b[1m[0]: model:chunk_model:76436da6a29d4031: create ~ [3]\u001b[0m\n",
      "\u001b[32m2025-Jan-13 12:45:27.85\u001b[0m| \u001b[1mINFO    \u001b[0m | \u001b[36mDuncans-MBP.fritz.box\u001b[0m| \u001b[36msuperduper.base.apply\u001b[0m:\u001b[36m90  \u001b[0m | \u001b[1m[1]: schema:_schema/_outputs__chunker_sample_text_vector_search__fc9ea0798a1e47e3:42833b24795c4e6b: create ~ [2]\u001b[0m\n",
      "\u001b[32m2025-Jan-13 12:45:27.85\u001b[0m| \u001b[1mINFO    \u001b[0m | \u001b[36mDuncans-MBP.fritz.box\u001b[0m| \u001b[36msuperduper.base.apply\u001b[0m:\u001b[36m90  \u001b[0m | \u001b[1m[2]: table:_outputs__chunker_sample_text_vector_search__fc9ea0798a1e47e3:c711f72a2dbc4133: create ~ [3]\u001b[0m\n",
      "\u001b[32m2025-Jan-13 12:45:27.85\u001b[0m| \u001b[1mINFO    \u001b[0m | \u001b[36mDuncans-MBP.fritz.box\u001b[0m| \u001b[36msuperduper.base.apply\u001b[0m:\u001b[36m94  \u001b[0m | \u001b[1m[3]: listener:chunker_sample_text_vector_search:fc9ea0798a1e47e3: create\u001b[0m\n",
      "\u001b[32m2025-Jan-13 12:45:27.85\u001b[0m| \u001b[1mINFO    \u001b[0m | \u001b[36mDuncans-MBP.fritz.box\u001b[0m| \u001b[36msuperduper.base.apply\u001b[0m:\u001b[36m96  \u001b[0m | \u001b[1m----------------------------------------------------------------------------------------------------\u001b[0m\n",
      "\u001b[32m2025-Jan-13 12:45:27.85\u001b[0m| \u001b[1mINFO    \u001b[0m | \u001b[36mDuncans-MBP.fritz.box\u001b[0m| \u001b[36msuperduper.base.apply\u001b[0m:\u001b[36m97  \u001b[0m | \u001b[1mJOBS EVENTS:\u001b[0m\n",
      "\u001b[32m2025-Jan-13 12:45:27.85\u001b[0m| \u001b[1mINFO    \u001b[0m | \u001b[36mDuncans-MBP.fritz.box\u001b[0m| \u001b[36msuperduper.base.apply\u001b[0m:\u001b[36m98  \u001b[0m | \u001b[1m----------------------------------------------------------------------------------------------------\u001b[0m\n",
      "\u001b[32m2025-Jan-13 12:45:27.85\u001b[0m| \u001b[1mINFO    \u001b[0m | \u001b[36mDuncans-MBP.fritz.box\u001b[0m| \u001b[36msuperduper.base.apply\u001b[0m:\u001b[36m111 \u001b[0m | \u001b[1m[0]: listener:chunker_sample_text_vector_search:fc9ea0798a1e47e3.run: run\u001b[0m\n",
      "\u001b[32m2025-Jan-13 12:45:27.85\u001b[0m| \u001b[1mINFO    \u001b[0m | \u001b[36mDuncans-MBP.fritz.box\u001b[0m| \u001b[36msuperduper.base.apply\u001b[0m:\u001b[36m106 \u001b[0m | \u001b[1m[1]: listener:chunker_sample_text_vector_search:fc9ea0798a1e47e3.set_status: set_status ~ [0]\u001b[0m\n",
      "\u001b[32m2025-Jan-13 12:45:27.85\u001b[0m| \u001b[1mINFO    \u001b[0m | \u001b[36mDuncans-MBP.fritz.box\u001b[0m| \u001b[36msuperduper.base.apply\u001b[0m:\u001b[36m113 \u001b[0m | \u001b[1m----------------------------------------------------------------------------------------------------\u001b[0m\n",
      "\u001b[32m2025-Jan-13 12:45:27.85\u001b[0m| \u001b[1mINFO    \u001b[0m | \u001b[36mDuncans-MBP.fritz.box\u001b[0m| \u001b[36msuperduper.base.datalayer\u001b[0m:\u001b[36m562 \u001b[0m | \u001b[1mComponent 76436da6a29d4031 not found in cache, loading from db with uuid\u001b[0m\n",
      "\u001b[32m2025-Jan-13 12:45:27.85\u001b[0m| \u001b[1mINFO    \u001b[0m | \u001b[36mDuncans-MBP.fritz.box\u001b[0m| \u001b[36msuperduper.base.datalayer\u001b[0m:\u001b[36m584 \u001b[0m | \u001b[1mAdding model:chunk_model:76436da6a29d4031 to cache\u001b[0m\n",
      "\u001b[32m2025-Jan-13 12:45:27.85\u001b[0m| \u001b[1mINFO    \u001b[0m | \u001b[36mDuncans-MBP.fritz.box\u001b[0m| \u001b[36msuperduper.components.component\u001b[0m:\u001b[36m620 \u001b[0m | \u001b[1mAdding model: chunk_model to cache\u001b[0m\n",
      "\u001b[32m2025-Jan-13 12:45:27.85\u001b[0m| \u001b[1mINFO    \u001b[0m | \u001b[36mDuncans-MBP.fritz.box\u001b[0m| \u001b[36msuperduper.base.datalayer\u001b[0m:\u001b[36m562 \u001b[0m | \u001b[1mComponent 42833b24795c4e6b not found in cache, loading from db with uuid\u001b[0m\n",
      "\u001b[32m2025-Jan-13 12:45:27.85\u001b[0m| \u001b[1mINFO    \u001b[0m | \u001b[36mDuncans-MBP.fritz.box\u001b[0m| \u001b[36msuperduper.base.datalayer\u001b[0m:\u001b[36m584 \u001b[0m | \u001b[1mAdding schema:_schema/_outputs__chunker_sample_text_vector_search__fc9ea0798a1e47e3:42833b24795c4e6b to cache\u001b[0m\n",
      "\u001b[32m2025-Jan-13 12:45:27.85\u001b[0m| \u001b[1mINFO    \u001b[0m | \u001b[36mDuncans-MBP.fritz.box\u001b[0m| \u001b[36msuperduper.components.component\u001b[0m:\u001b[36m620 \u001b[0m | \u001b[1mAdding schema: _schema/_outputs__chunker_sample_text_vector_search__fc9ea0798a1e47e3 to cache\u001b[0m\n",
      "\u001b[32m2025-Jan-13 12:45:27.86\u001b[0m| \u001b[1mINFO    \u001b[0m | \u001b[36mDuncans-MBP.fritz.box\u001b[0m| \u001b[36msuperduper.base.datalayer\u001b[0m:\u001b[36m562 \u001b[0m | \u001b[1mComponent c711f72a2dbc4133 not found in cache, loading from db with uuid\u001b[0m\n",
      "\u001b[32m2025-Jan-13 12:45:27.86\u001b[0m| \u001b[1mINFO    \u001b[0m | \u001b[36mDuncans-MBP.fritz.box\u001b[0m| \u001b[36msuperduper.base.datalayer\u001b[0m:\u001b[36m584 \u001b[0m | \u001b[1mAdding table:_outputs__chunker_sample_text_vector_search__fc9ea0798a1e47e3:c711f72a2dbc4133 to cache\u001b[0m\n",
      "\u001b[32m2025-Jan-13 12:45:27.86\u001b[0m| \u001b[1mINFO    \u001b[0m | \u001b[36mDuncans-MBP.fritz.box\u001b[0m| \u001b[36msuperduper.base.datalayer\u001b[0m:\u001b[36m562 \u001b[0m | \u001b[1mComponent fc9ea0798a1e47e3 not found in cache, loading from db with uuid\u001b[0m\n",
      "\u001b[32m2025-Jan-13 12:45:27.86\u001b[0m| \u001b[1mINFO    \u001b[0m | \u001b[36mDuncans-MBP.fritz.box\u001b[0m| \u001b[36msuperduper.base.datalayer\u001b[0m:\u001b[36m584 \u001b[0m | \u001b[1mAdding listener:chunker_sample_text_vector_search:fc9ea0798a1e47e3 to cache\u001b[0m\n",
      "\u001b[32m2025-Jan-13 12:45:27.86\u001b[0m| \u001b[1mINFO    \u001b[0m | \u001b[36mDuncans-MBP.fritz.box\u001b[0m| \u001b[36msuperduper.components.component\u001b[0m:\u001b[36m620 \u001b[0m | \u001b[1mAdding listener: chunker_sample_text_vector_search to cache\u001b[0m\n",
      "\u001b[32m2025-Jan-13 12:45:27.86\u001b[0m| \u001b[1mINFO    \u001b[0m | \u001b[36mDuncans-MBP.fritz.box\u001b[0m| \u001b[36msuperduper.components.model\u001b[0m:\u001b[36m539 \u001b[0m | \u001b[1mRequesting prediction in db - [chunk_model] with predict_id chunker_sample_text_vector_search__fc9ea0798a1e47e3\n",
      "\u001b[0m\n"
     ]
    },
    {
     "name": "stderr",
     "output_type": "stream",
     "text": [
      "187it [00:00, 29373.64it/s]"
     ]
    },
    {
     "name": "stdout",
     "output_type": "stream",
     "text": [
      "\u001b[32m2025-Jan-13 12:45:27.88\u001b[0m| \u001b[1mINFO    \u001b[0m | \u001b[36mDuncans-MBP.fritz.box\u001b[0m| \u001b[36msuperduper.components.model\u001b[0m:\u001b[36m672 \u001b[0m | \u001b[1mAdding 187 model outputs to `db`\u001b[0m\n",
      "\u001b[32m2025-Jan-13 12:45:27.97\u001b[0m| \u001b[1mINFO    \u001b[0m | \u001b[36mDuncans-MBP.fritz.box\u001b[0m| \u001b[36msuperduper.base.datalayer\u001b[0m:\u001b[36m310 \u001b[0m | \u001b[1mInserted 336 documents into _outputs__chunker_sample_text_vector_search__fc9ea0798a1e47e3\u001b[0m\n",
      "\u001b[32m2025-Jan-13 12:45:27.97\u001b[0m| \u001b[1mINFO    \u001b[0m | \u001b[36mDuncans-MBP.fritz.box\u001b[0m| \u001b[36msuperduper.backends.local.queue\u001b[0m:\u001b[36m120 \u001b[0m | \u001b[1mConsumed all events\u001b[0m\n"
     ]
    },
    {
     "name": "stderr",
     "output_type": "stream",
     "text": [
      "\n"
     ]
    }
   ],
   "source": [
    "if APPLY:\n",
    "    db.apply(upstream_listener, force=True)"
   ]
  },
  {
   "cell_type": "markdown",
   "id": "7c5377c0-4c9b-4ba9-8f08-5e866b9220b5",
   "metadata": {},
   "source": [
    "## Select outputs of upstream listener"
   ]
  },
  {
   "cell_type": "markdown",
   "id": "809f5f62-95c3-483b-ae74-a5cdb5c1c83d",
   "metadata": {},
   "source": [
    ":::note\n",
    "This is useful if you have performed a first step, such as pre-computing \n",
    "features, or chunking your data. You can use this query to \n",
    "operate on those outputs.\n",
    ":::"
   ]
  },
  {
   "cell_type": "markdown",
   "id": "c9a2cd87-723f-4cee-87c7-9b8181c9e54b",
   "metadata": {},
   "source": [
    "<!-- TABS -->\n",
    "## Build text embedding model"
   ]
  },
  {
   "cell_type": "markdown",
   "id": "10753ea4-9893-4056-813d-7d6ddf78ce02",
   "metadata": {},
   "source": [
    "OpenAI:"
   ]
  },
  {
   "cell_type": "code",
   "execution_count": 10,
   "id": "a9b1f538-65ca-499e-b6d0-2dd733f81723",
   "metadata": {},
   "outputs": [],
   "source": [
    "from superduper.components.datatype import Vector\n",
    "from superduper_openai import OpenAIEmbedding\n",
    "\n",
    "openai_embedding = OpenAIEmbedding(\n",
    "    identifier='text-embedding-ada-002',\n",
    "    datatype=Vector(shape=(1536,)),\n",
    ")"
   ]
  },
  {
   "cell_type": "markdown",
   "id": "39314098-8462-4de9-8240-09005b928a86",
   "metadata": {},
   "source": [
    "Sentence-transformers"
   ]
  },
  {
   "cell_type": "code",
   "execution_count": 11,
   "id": "3b4a9a60-41df-461d-b165-1d136ee25694",
   "metadata": {},
   "outputs": [],
   "source": [
    "from superduper_sentence_transformers import SentenceTransformer\n",
    "\n",
    "sentence_transformers_embedding = SentenceTransformer(\n",
    "    identifier=\"sentence-transformers-embedding\",\n",
    "    model=\"BAAI/bge-small-en\",\n",
    "    datatype=Vector(shape=(1024,)),\n",
    "    postprocess=lambda x: x.numpy(),\n",
    "    predict_kwargs={\"show_progress_bar\": True},\n",
    ")"
   ]
  },
  {
   "cell_type": "code",
   "execution_count": 12,
   "id": "1882dadc-878a-48d1-add7-e2931f9ec395",
   "metadata": {},
   "outputs": [],
   "source": [
    "from superduper.components.model import ModelRouter\n",
    "\n",
    "embedding_model = ModelRouter(\n",
    "    'embedding',\n",
    "    models={'openai': openai_embedding, 'sentence_transformers': sentence_transformers_embedding},\n",
    "    model='<var:embedding_model>' if not APPLY else 'openai',\n",
    "    example='this is a test',\n",
    ")"
   ]
  },
  {
   "cell_type": "markdown",
   "id": "f31843db-8638-458a-a770-96a79041be88",
   "metadata": {},
   "source": [
    "## Create vector-index"
   ]
  },
  {
   "cell_type": "code",
   "execution_count": 13,
   "id": "4663fa4b-c2ec-427d-bf8b-b8b109cc2ccf",
   "metadata": {},
   "outputs": [],
   "source": [
    "from superduper import VectorIndex, Listener\n",
    "\n",
    "vector_index_name = f'vector-index-{COLLECTION_NAME}'\n",
    "\n",
    "vector_index = VectorIndex(\n",
    "    vector_index_name,\n",
    "    indexing_listener=Listener(\n",
    "        key=upstream_listener.outputs,\n",
    "        select=db[upstream_listener.outputs].select(),\n",
    "        model=embedding_model,\n",
    "        identifier=f'embedding-listener-{COLLECTION_NAME}',\n",
    "        upstream=[upstream_listener],\n",
    "    )\n",
    ")"
   ]
  },
  {
   "cell_type": "code",
   "execution_count": 14,
   "id": "509c3505-54c5-4e68-84ec-3df8bea0fd74",
   "metadata": {},
   "outputs": [
    {
     "name": "stdout",
     "output_type": "stream",
     "text": [
      "\u001b[32m2025-Jan-13 12:45:38.58\u001b[0m| \u001b[33m\u001b[1mWARNING \u001b[0m | \u001b[36mDuncans-MBP.fritz.box\u001b[0m| \u001b[36msuperduper.base.document\u001b[0m:\u001b[36m564 \u001b[0m | \u001b[33m\u001b[1mLeaf ID already exists\u001b[0m\n",
      "\u001b[32m2025-Jan-13 12:45:38.58\u001b[0m| \u001b[33m\u001b[1mWARNING \u001b[0m | \u001b[36mDuncans-MBP.fritz.box\u001b[0m| \u001b[36msuperduper.base.document\u001b[0m:\u001b[36m564 \u001b[0m | \u001b[33m\u001b[1mLeaf str already exists\u001b[0m\n",
      "\u001b[32m2025-Jan-13 12:45:40.20\u001b[0m| \u001b[33m\u001b[1mWARNING \u001b[0m | \u001b[36mDuncans-MBP.fritz.box\u001b[0m| \u001b[36msuperduper.components.listener\u001b[0m:\u001b[36m76  \u001b[0m | \u001b[33m\u001b[1moutput_table not found in listener.dict()\u001b[0m\n",
      "\u001b[32m2025-Jan-13 12:45:40.20\u001b[0m| \u001b[33m\u001b[1mWARNING \u001b[0m | \u001b[36mDuncans-MBP.fritz.box\u001b[0m| \u001b[36msuperduper.components.listener\u001b[0m:\u001b[36m76  \u001b[0m | \u001b[33m\u001b[1moutput_table not found in listener.dict()\u001b[0m\n",
      "\u001b[32m2025-Jan-13 12:45:40.21\u001b[0m| \u001b[1mINFO    \u001b[0m | \u001b[36mDuncans-MBP.fritz.box\u001b[0m| \u001b[36msuperduper.base.apply\u001b[0m:\u001b[36m265 \u001b[0m | \u001b[1mFound identical model:chunk_model:76436da6a29d4031\u001b[0m\n",
      "\u001b[32m2025-Jan-13 12:45:40.21\u001b[0m| \u001b[1mINFO    \u001b[0m | \u001b[36mDuncans-MBP.fritz.box\u001b[0m| \u001b[36msuperduper.base.apply\u001b[0m:\u001b[36m341 \u001b[0m | \u001b[1mFound update model:chunk_model:76436da6a29d4031\u001b[0m\n",
      "\u001b[32m2025-Jan-13 12:45:40.21\u001b[0m| \u001b[33m\u001b[1mWARNING \u001b[0m | \u001b[36mDuncans-MBP.fritz.box\u001b[0m| \u001b[36msuperduper.backends.local.artifacts\u001b[0m:\u001b[36m87  \u001b[0m | \u001b[33m\u001b[1mFile /tmp/test_db/85d22fdc19a5621624255e5a6a0c9427d82370fd already exists\u001b[0m\n",
      "\u001b[32m2025-Jan-13 12:45:40.21\u001b[0m| \u001b[33m\u001b[1mWARNING \u001b[0m | \u001b[36mDuncans-MBP.fritz.box\u001b[0m| \u001b[36msuperduper.components.listener\u001b[0m:\u001b[36m76  \u001b[0m | \u001b[33m\u001b[1moutput_table not found in listener.dict()\u001b[0m\n",
      "\u001b[32m2025-Jan-13 12:45:40.21\u001b[0m| \u001b[1mINFO    \u001b[0m | \u001b[36mDuncans-MBP.fritz.box\u001b[0m| \u001b[36msuperduper.base.apply\u001b[0m:\u001b[36m265 \u001b[0m | \u001b[1mFound identical listener:chunker_sample_text_vector_search:fc9ea0798a1e47e3\u001b[0m\n",
      "\u001b[32m2025-Jan-13 12:45:40.21\u001b[0m| \u001b[1mINFO    \u001b[0m | \u001b[36mDuncans-MBP.fritz.box\u001b[0m| \u001b[36msuperduper.base.datalayer\u001b[0m:\u001b[36m593 \u001b[0m | \u001b[1mComponent (datatype, vector[1536]) not found in cache, loading from db\u001b[0m\n",
      "\u001b[32m2025-Jan-13 12:45:40.21\u001b[0m| \u001b[1mINFO    \u001b[0m | \u001b[36mDuncans-MBP.fritz.box\u001b[0m| \u001b[36msuperduper.base.datalayer\u001b[0m:\u001b[36m599 \u001b[0m | \u001b[1mLoad (('datatype', 'vector[1536]')) from metadata...\u001b[0m\n",
      "\u001b[32m2025-Jan-13 12:45:40.21\u001b[0m| \u001b[1mINFO    \u001b[0m | \u001b[36mDuncans-MBP.fritz.box\u001b[0m| \u001b[36msuperduper.base.apply\u001b[0m:\u001b[36m359 \u001b[0m | \u001b[1mFound new datatype:vector[1536]:e9e26ef6bb634368\u001b[0m\n",
      "\u001b[32m2025-Jan-13 12:45:40.21\u001b[0m| \u001b[1mINFO    \u001b[0m | \u001b[36mDuncans-MBP.fritz.box\u001b[0m| \u001b[36msuperduper.base.datalayer\u001b[0m:\u001b[36m593 \u001b[0m | \u001b[1mComponent (datatype, vector[1536]) not found in cache, loading from db\u001b[0m\n",
      "\u001b[32m2025-Jan-13 12:45:40.21\u001b[0m| \u001b[1mINFO    \u001b[0m | \u001b[36mDuncans-MBP.fritz.box\u001b[0m| \u001b[36msuperduper.base.datalayer\u001b[0m:\u001b[36m599 \u001b[0m | \u001b[1mLoad (('datatype', 'vector[1536]')) from metadata...\u001b[0m\n",
      "\u001b[32m2025-Jan-13 12:45:40.21\u001b[0m| \u001b[1mINFO    \u001b[0m | \u001b[36mDuncans-MBP.fritz.box\u001b[0m| \u001b[36msuperduper.base.apply\u001b[0m:\u001b[36m359 \u001b[0m | \u001b[1mFound new datatype:vector[1536]:e9e26ef6bb634368\u001b[0m\n",
      "\u001b[32m2025-Jan-13 12:45:40.21\u001b[0m| \u001b[1mINFO    \u001b[0m | \u001b[36mDuncans-MBP.fritz.box\u001b[0m| \u001b[36msuperduper.base.datalayer\u001b[0m:\u001b[36m593 \u001b[0m | \u001b[1mComponent (model, text-embedding-ada-002) not found in cache, loading from db\u001b[0m\n",
      "\u001b[32m2025-Jan-13 12:45:40.21\u001b[0m| \u001b[1mINFO    \u001b[0m | \u001b[36mDuncans-MBP.fritz.box\u001b[0m| \u001b[36msuperduper.base.datalayer\u001b[0m:\u001b[36m599 \u001b[0m | \u001b[1mLoad (('model', 'text-embedding-ada-002')) from metadata...\u001b[0m\n",
      "\u001b[32m2025-Jan-13 12:45:40.21\u001b[0m| \u001b[1mINFO    \u001b[0m | \u001b[36mDuncans-MBP.fritz.box\u001b[0m| \u001b[36msuperduper.base.apply\u001b[0m:\u001b[36m359 \u001b[0m | \u001b[1mFound new model:text-embedding-ada-002:3e31764f95194743\u001b[0m\n",
      "\u001b[32m2025-Jan-13 12:45:41.81\u001b[0m| \u001b[1mINFO    \u001b[0m | \u001b[36mDuncans-MBP.fritz.box\u001b[0m| \u001b[36msuperduper.base.datalayer\u001b[0m:\u001b[36m593 \u001b[0m | \u001b[1mComponent (datatype, vector[1024]) not found in cache, loading from db\u001b[0m\n",
      "\u001b[32m2025-Jan-13 12:45:41.81\u001b[0m| \u001b[1mINFO    \u001b[0m | \u001b[36mDuncans-MBP.fritz.box\u001b[0m| \u001b[36msuperduper.base.datalayer\u001b[0m:\u001b[36m599 \u001b[0m | \u001b[1mLoad (('datatype', 'vector[1024]')) from metadata...\u001b[0m\n",
      "\u001b[32m2025-Jan-13 12:45:41.81\u001b[0m| \u001b[1mINFO    \u001b[0m | \u001b[36mDuncans-MBP.fritz.box\u001b[0m| \u001b[36msuperduper.base.apply\u001b[0m:\u001b[36m359 \u001b[0m | \u001b[1mFound new datatype:vector[1024]:0c566132f6904c4d\u001b[0m\n",
      "\u001b[32m2025-Jan-13 12:45:41.81\u001b[0m| \u001b[1mINFO    \u001b[0m | \u001b[36mDuncans-MBP.fritz.box\u001b[0m| \u001b[36msuperduper.base.datalayer\u001b[0m:\u001b[36m593 \u001b[0m | \u001b[1mComponent (model, sentence-transformers-embedding) not found in cache, loading from db\u001b[0m\n",
      "\u001b[32m2025-Jan-13 12:45:41.81\u001b[0m| \u001b[1mINFO    \u001b[0m | \u001b[36mDuncans-MBP.fritz.box\u001b[0m| \u001b[36msuperduper.base.datalayer\u001b[0m:\u001b[36m599 \u001b[0m | \u001b[1mLoad (('model', 'sentence-transformers-embedding')) from metadata...\u001b[0m\n",
      "\u001b[32m2025-Jan-13 12:45:43.40\u001b[0m| \u001b[1mINFO    \u001b[0m | \u001b[36mDuncans-MBP.fritz.box\u001b[0m| \u001b[36msuperduper.base.apply\u001b[0m:\u001b[36m359 \u001b[0m | \u001b[1mFound new model:sentence-transformers-embedding:c4a58443ed784eb0\u001b[0m\n",
      "\u001b[32m2025-Jan-13 12:45:43.40\u001b[0m| \u001b[1mINFO    \u001b[0m | \u001b[36mDuncans-MBP.fritz.box\u001b[0m| \u001b[36msuperduper.base.datalayer\u001b[0m:\u001b[36m593 \u001b[0m | \u001b[1mComponent (model, embedding) not found in cache, loading from db\u001b[0m\n",
      "\u001b[32m2025-Jan-13 12:45:43.40\u001b[0m| \u001b[1mINFO    \u001b[0m | \u001b[36mDuncans-MBP.fritz.box\u001b[0m| \u001b[36msuperduper.base.datalayer\u001b[0m:\u001b[36m599 \u001b[0m | \u001b[1mLoad (('model', 'embedding')) from metadata...\u001b[0m\n",
      "\u001b[32m2025-Jan-13 12:45:43.40\u001b[0m| \u001b[1mINFO    \u001b[0m | \u001b[36mDuncans-MBP.fritz.box\u001b[0m| \u001b[36msuperduper.base.apply\u001b[0m:\u001b[36m359 \u001b[0m | \u001b[1mFound new model:embedding:fd3c36cfbfde4e04\u001b[0m\n",
      "\u001b[32m2025-Jan-13 12:45:43.40\u001b[0m| \u001b[1mINFO    \u001b[0m | \u001b[36mDuncans-MBP.fritz.box\u001b[0m| \u001b[36msuperduper.base.datalayer\u001b[0m:\u001b[36m593 \u001b[0m | \u001b[1mComponent (listener, embedding-listener-sample_text_vector_search) not found in cache, loading from db\u001b[0m\n",
      "\u001b[32m2025-Jan-13 12:45:43.40\u001b[0m| \u001b[1mINFO    \u001b[0m | \u001b[36mDuncans-MBP.fritz.box\u001b[0m| \u001b[36msuperduper.base.datalayer\u001b[0m:\u001b[36m599 \u001b[0m | \u001b[1mLoad (('listener', 'embedding-listener-sample_text_vector_search')) from metadata...\u001b[0m\n",
      "\u001b[32m2025-Jan-13 12:45:43.40\u001b[0m| \u001b[1mINFO    \u001b[0m | \u001b[36mDuncans-MBP.fritz.box\u001b[0m| \u001b[36msuperduper.base.datalayer\u001b[0m:\u001b[36m593 \u001b[0m | \u001b[1mComponent (datatype, vector[1536]) not found in cache, loading from db\u001b[0m\n",
      "\u001b[32m2025-Jan-13 12:45:43.40\u001b[0m| \u001b[1mINFO    \u001b[0m | \u001b[36mDuncans-MBP.fritz.box\u001b[0m| \u001b[36msuperduper.base.datalayer\u001b[0m:\u001b[36m599 \u001b[0m | \u001b[1mLoad (('datatype', 'vector[1536]')) from metadata...\u001b[0m\n",
      "\u001b[32m2025-Jan-13 12:45:43.40\u001b[0m| \u001b[1mINFO    \u001b[0m | \u001b[36mDuncans-MBP.fritz.box\u001b[0m| \u001b[36msuperduper.base.apply\u001b[0m:\u001b[36m359 \u001b[0m | \u001b[1mFound new datatype:vector[1536]:e9e26ef6bb634368\u001b[0m\n",
      "\u001b[32m2025-Jan-13 12:45:43.40\u001b[0m| \u001b[1mINFO    \u001b[0m | \u001b[36mDuncans-MBP.fritz.box\u001b[0m| \u001b[36msuperduper.base.datalayer\u001b[0m:\u001b[36m593 \u001b[0m | \u001b[1mComponent (schema, _schema/_outputs__embedding-listener-sample_text_vector_search__13c7d67953a04170) not found in cache, loading from db\u001b[0m\n",
      "\u001b[32m2025-Jan-13 12:45:43.40\u001b[0m| \u001b[1mINFO    \u001b[0m | \u001b[36mDuncans-MBP.fritz.box\u001b[0m| \u001b[36msuperduper.base.datalayer\u001b[0m:\u001b[36m599 \u001b[0m | \u001b[1mLoad (('schema', '_schema/_outputs__embedding-listener-sample_text_vector_search__13c7d67953a04170')) from metadata...\u001b[0m\n",
      "\u001b[32m2025-Jan-13 12:45:43.40\u001b[0m| \u001b[1mINFO    \u001b[0m | \u001b[36mDuncans-MBP.fritz.box\u001b[0m| \u001b[36msuperduper.base.apply\u001b[0m:\u001b[36m359 \u001b[0m | \u001b[1mFound new schema:_schema/_outputs__embedding-listener-sample_text_vector_search__13c7d67953a04170:82a3cf50da9a4514\u001b[0m\n",
      "\u001b[32m2025-Jan-13 12:45:43.40\u001b[0m| \u001b[1mINFO    \u001b[0m | \u001b[36mDuncans-MBP.fritz.box\u001b[0m| \u001b[36msuperduper.base.datalayer\u001b[0m:\u001b[36m593 \u001b[0m | \u001b[1mComponent (table, _outputs__embedding-listener-sample_text_vector_search__13c7d67953a04170) not found in cache, loading from db\u001b[0m\n",
      "\u001b[32m2025-Jan-13 12:45:43.40\u001b[0m| \u001b[1mINFO    \u001b[0m | \u001b[36mDuncans-MBP.fritz.box\u001b[0m| \u001b[36msuperduper.base.datalayer\u001b[0m:\u001b[36m599 \u001b[0m | \u001b[1mLoad (('table', '_outputs__embedding-listener-sample_text_vector_search__13c7d67953a04170')) from metadata...\u001b[0m\n",
      "\u001b[32m2025-Jan-13 12:45:43.40\u001b[0m| \u001b[1mINFO    \u001b[0m | \u001b[36mDuncans-MBP.fritz.box\u001b[0m| \u001b[36msuperduper.base.apply\u001b[0m:\u001b[36m359 \u001b[0m | \u001b[1mFound new table:_outputs__embedding-listener-sample_text_vector_search__13c7d67953a04170:edc043ae710a4c05\u001b[0m\n",
      "\u001b[32m2025-Jan-13 12:45:43.40\u001b[0m| \u001b[1mINFO    \u001b[0m | \u001b[36mDuncans-MBP.fritz.box\u001b[0m| \u001b[36msuperduper.base.apply\u001b[0m:\u001b[36m359 \u001b[0m | \u001b[1mFound new listener:embedding-listener-sample_text_vector_search:13c7d67953a04170\u001b[0m\n",
      "\u001b[32m2025-Jan-13 12:45:43.40\u001b[0m| \u001b[1mINFO    \u001b[0m | \u001b[36mDuncans-MBP.fritz.box\u001b[0m| \u001b[36msuperduper.base.datalayer\u001b[0m:\u001b[36m593 \u001b[0m | \u001b[1mComponent (vector_index, vector-index-sample_text_vector_search) not found in cache, loading from db\u001b[0m\n",
      "\u001b[32m2025-Jan-13 12:45:43.40\u001b[0m| \u001b[1mINFO    \u001b[0m | \u001b[36mDuncans-MBP.fritz.box\u001b[0m| \u001b[36msuperduper.base.datalayer\u001b[0m:\u001b[36m599 \u001b[0m | \u001b[1mLoad (('vector_index', 'vector-index-sample_text_vector_search')) from metadata...\u001b[0m\n",
      "\u001b[32m2025-Jan-13 12:45:43.40\u001b[0m| \u001b[1mINFO    \u001b[0m | \u001b[36mDuncans-MBP.fritz.box\u001b[0m| \u001b[36msuperduper.base.apply\u001b[0m:\u001b[36m359 \u001b[0m | \u001b[1mFound new vector_index:vector-index-sample_text_vector_search:3a06ad54829f4776\u001b[0m\n",
      "\u001b[32m2025-Jan-13 12:45:43.40\u001b[0m| \u001b[1mINFO    \u001b[0m | \u001b[36mDuncans-MBP.fritz.box\u001b[0m| \u001b[36msuperduper.base.apply\u001b[0m:\u001b[36m73  \u001b[0m | \u001b[1mFound this diff:\u001b[0m\n"
     ]
    },
    {
     "data": {
      "text/html": [
       "<pre style=\"white-space:pre;overflow-x:auto;line-height:normal;font-family:Menlo,'DejaVu Sans Mono',consolas,'Courier New',monospace\">vector-index-sample_text_vector_search\n",
       "└── <span style=\"color: #808000; text-decoration-color: #808000; font-weight: bold\">chunk_model</span>\n",
       "    ├── <span style=\"color: #008080; text-decoration-color: #008080; font-weight: bold\">status: </span><span style=\"color: #000080; text-decoration-color: #000080; font-weight: bold\">update</span>\n",
       "    ├── <span style=\"color: #808000; text-decoration-color: #808000; font-weight: bold\">changes</span>\n",
       "    │   └── <span style=\"color: #008080; text-decoration-color: #008080; font-weight: bold\">_object: </span><span style=\"color: #008000; text-decoration-color: #008000; font-weight: bold\">&amp;:blob:85d22fdc19a5621624255e5a6a0c9427d82370fd</span>\n",
       "    └── <span style=\"color: #008080; text-decoration-color: #008080; font-weight: bold\">type_id: </span><span style=\"color: #008000; text-decoration-color: #008000; font-weight: bold\">model</span>\n",
       "</pre>\n"
      ],
      "text/plain": [
       "vector-index-sample_text_vector_search\n",
       "└── \u001b[1;33mchunk_model\u001b[0m\n",
       "    ├── \u001b[1;36mstatus: \u001b[0m\u001b[1;34mupdate\u001b[0m\n",
       "    ├── \u001b[1;33mchanges\u001b[0m\n",
       "    │   └── \u001b[1;36m_object: \u001b[0m\u001b[1;32m&:blob:85d22fdc19a5621624255e5a6a0c9427d82370fd\u001b[0m\n",
       "    └── \u001b[1;36mtype_id: \u001b[0m\u001b[1;32mmodel\u001b[0m\n"
      ]
     },
     "metadata": {},
     "output_type": "display_data"
    },
    {
     "name": "stdout",
     "output_type": "stream",
     "text": [
      "\u001b[32m2025-Jan-13 12:45:43.40\u001b[0m| \u001b[1mINFO    \u001b[0m | \u001b[36mDuncans-MBP.fritz.box\u001b[0m| \u001b[36msuperduper.base.apply\u001b[0m:\u001b[36m79  \u001b[0m | \u001b[1mFound these changes and/ or additions that need to be made:\u001b[0m\n",
      "\u001b[32m2025-Jan-13 12:45:43.40\u001b[0m| \u001b[1mINFO    \u001b[0m | \u001b[36mDuncans-MBP.fritz.box\u001b[0m| \u001b[36msuperduper.base.apply\u001b[0m:\u001b[36m81  \u001b[0m | \u001b[1m----------------------------------------------------------------------------------------------------\u001b[0m\n",
      "\u001b[32m2025-Jan-13 12:45:43.40\u001b[0m| \u001b[1mINFO    \u001b[0m | \u001b[36mDuncans-MBP.fritz.box\u001b[0m| \u001b[36msuperduper.base.apply\u001b[0m:\u001b[36m82  \u001b[0m | \u001b[1mMETADATA EVENTS:\u001b[0m\n",
      "\u001b[32m2025-Jan-13 12:45:43.40\u001b[0m| \u001b[1mINFO    \u001b[0m | \u001b[36mDuncans-MBP.fritz.box\u001b[0m| \u001b[36msuperduper.base.apply\u001b[0m:\u001b[36m83  \u001b[0m | \u001b[1m----------------------------------------------------------------------------------------------------\u001b[0m\n",
      "\u001b[32m2025-Jan-13 12:45:43.40\u001b[0m| \u001b[1mINFO    \u001b[0m | \u001b[36mDuncans-MBP.fritz.box\u001b[0m| \u001b[36msuperduper.base.apply\u001b[0m:\u001b[36m92  \u001b[0m | \u001b[1m[0]: model:chunk_model:76436da6a29d4031: update\u001b[0m\n",
      "\u001b[32m2025-Jan-13 12:45:43.40\u001b[0m| \u001b[1mINFO    \u001b[0m | \u001b[36mDuncans-MBP.fritz.box\u001b[0m| \u001b[36msuperduper.base.apply\u001b[0m:\u001b[36m90  \u001b[0m | \u001b[1m[1]: datatype:vector[1536]:e9e26ef6bb634368: create ~ [6]\u001b[0m\n",
      "\u001b[32m2025-Jan-13 12:45:43.40\u001b[0m| \u001b[1mINFO    \u001b[0m | \u001b[36mDuncans-MBP.fritz.box\u001b[0m| \u001b[36msuperduper.base.apply\u001b[0m:\u001b[36m90  \u001b[0m | \u001b[1m[2]: model:text-embedding-ada-002:3e31764f95194743: create ~ [5]\u001b[0m\n",
      "\u001b[32m2025-Jan-13 12:45:43.40\u001b[0m| \u001b[1mINFO    \u001b[0m | \u001b[36mDuncans-MBP.fritz.box\u001b[0m| \u001b[36msuperduper.base.apply\u001b[0m:\u001b[36m90  \u001b[0m | \u001b[1m[3]: datatype:vector[1024]:0c566132f6904c4d: create ~ [4]\u001b[0m\n",
      "\u001b[32m2025-Jan-13 12:45:43.40\u001b[0m| \u001b[1mINFO    \u001b[0m | \u001b[36mDuncans-MBP.fritz.box\u001b[0m| \u001b[36msuperduper.base.apply\u001b[0m:\u001b[36m90  \u001b[0m | \u001b[1m[4]: model:sentence-transformers-embedding:c4a58443ed784eb0: create ~ [5]\u001b[0m\n",
      "\u001b[32m2025-Jan-13 12:45:43.40\u001b[0m| \u001b[1mINFO    \u001b[0m | \u001b[36mDuncans-MBP.fritz.box\u001b[0m| \u001b[36msuperduper.base.apply\u001b[0m:\u001b[36m90  \u001b[0m | \u001b[1m[5]: model:embedding:fd3c36cfbfde4e04: create ~ [8]\u001b[0m\n",
      "\u001b[32m2025-Jan-13 12:45:43.40\u001b[0m| \u001b[1mINFO    \u001b[0m | \u001b[36mDuncans-MBP.fritz.box\u001b[0m| \u001b[36msuperduper.base.apply\u001b[0m:\u001b[36m90  \u001b[0m | \u001b[1m[6]: schema:_schema/_outputs__embedding-listener-sample_text_vector_search__13c7d67953a04170:82a3cf50da9a4514: create ~ [7]\u001b[0m\n",
      "\u001b[32m2025-Jan-13 12:45:43.40\u001b[0m| \u001b[1mINFO    \u001b[0m | \u001b[36mDuncans-MBP.fritz.box\u001b[0m| \u001b[36msuperduper.base.apply\u001b[0m:\u001b[36m90  \u001b[0m | \u001b[1m[7]: table:_outputs__embedding-listener-sample_text_vector_search__13c7d67953a04170:edc043ae710a4c05: create ~ [8]\u001b[0m\n",
      "\u001b[32m2025-Jan-13 12:45:43.40\u001b[0m| \u001b[1mINFO    \u001b[0m | \u001b[36mDuncans-MBP.fritz.box\u001b[0m| \u001b[36msuperduper.base.apply\u001b[0m:\u001b[36m90  \u001b[0m | \u001b[1m[8]: listener:embedding-listener-sample_text_vector_search:13c7d67953a04170: create ~ [9]\u001b[0m\n",
      "\u001b[32m2025-Jan-13 12:45:43.40\u001b[0m| \u001b[1mINFO    \u001b[0m | \u001b[36mDuncans-MBP.fritz.box\u001b[0m| \u001b[36msuperduper.base.apply\u001b[0m:\u001b[36m94  \u001b[0m | \u001b[1m[9]: vector_index:vector-index-sample_text_vector_search:3a06ad54829f4776: create\u001b[0m\n",
      "\u001b[32m2025-Jan-13 12:45:43.40\u001b[0m| \u001b[1mINFO    \u001b[0m | \u001b[36mDuncans-MBP.fritz.box\u001b[0m| \u001b[36msuperduper.base.apply\u001b[0m:\u001b[36m96  \u001b[0m | \u001b[1m----------------------------------------------------------------------------------------------------\u001b[0m\n",
      "\u001b[32m2025-Jan-13 12:45:43.40\u001b[0m| \u001b[1mINFO    \u001b[0m | \u001b[36mDuncans-MBP.fritz.box\u001b[0m| \u001b[36msuperduper.base.apply\u001b[0m:\u001b[36m97  \u001b[0m | \u001b[1mJOBS EVENTS:\u001b[0m\n",
      "\u001b[32m2025-Jan-13 12:45:43.40\u001b[0m| \u001b[1mINFO    \u001b[0m | \u001b[36mDuncans-MBP.fritz.box\u001b[0m| \u001b[36msuperduper.base.apply\u001b[0m:\u001b[36m98  \u001b[0m | \u001b[1m----------------------------------------------------------------------------------------------------\u001b[0m\n",
      "\u001b[32m2025-Jan-13 12:45:43.40\u001b[0m| \u001b[1mINFO    \u001b[0m | \u001b[36mDuncans-MBP.fritz.box\u001b[0m| \u001b[36msuperduper.base.apply\u001b[0m:\u001b[36m111 \u001b[0m | \u001b[1m[0]: listener:embedding-listener-sample_text_vector_search:13c7d67953a04170.run: run\u001b[0m\n",
      "\u001b[32m2025-Jan-13 12:45:43.40\u001b[0m| \u001b[1mINFO    \u001b[0m | \u001b[36mDuncans-MBP.fritz.box\u001b[0m| \u001b[36msuperduper.base.apply\u001b[0m:\u001b[36m106 \u001b[0m | \u001b[1m[1]: listener:embedding-listener-sample_text_vector_search:13c7d67953a04170.set_status: set_status ~ [0]\u001b[0m\n",
      "\u001b[32m2025-Jan-13 12:45:43.40\u001b[0m| \u001b[1mINFO    \u001b[0m | \u001b[36mDuncans-MBP.fritz.box\u001b[0m| \u001b[36msuperduper.base.apply\u001b[0m:\u001b[36m106 \u001b[0m | \u001b[1m[2]: vector_index:vector-index-sample_text_vector_search:3a06ad54829f4776.copy_vectors: copy_vectors ~ [0,1]\u001b[0m\n",
      "\u001b[32m2025-Jan-13 12:45:43.40\u001b[0m| \u001b[1mINFO    \u001b[0m | \u001b[36mDuncans-MBP.fritz.box\u001b[0m| \u001b[36msuperduper.base.apply\u001b[0m:\u001b[36m106 \u001b[0m | \u001b[1m[3]: vector_index:vector-index-sample_text_vector_search:3a06ad54829f4776.set_status: set_status ~ [2]\u001b[0m\n",
      "\u001b[32m2025-Jan-13 12:45:43.40\u001b[0m| \u001b[1mINFO    \u001b[0m | \u001b[36mDuncans-MBP.fritz.box\u001b[0m| \u001b[36msuperduper.base.apply\u001b[0m:\u001b[36m113 \u001b[0m | \u001b[1m----------------------------------------------------------------------------------------------------\u001b[0m\n",
      "\u001b[32m2025-Jan-13 12:45:43.40\u001b[0m| \u001b[1mINFO    \u001b[0m | \u001b[36mDuncans-MBP.fritz.box\u001b[0m| \u001b[36msuperduper.base.datalayer\u001b[0m:\u001b[36m562 \u001b[0m | \u001b[1mComponent e9e26ef6bb634368 not found in cache, loading from db with uuid\u001b[0m\n",
      "\u001b[32m2025-Jan-13 12:45:43.41\u001b[0m| \u001b[1mINFO    \u001b[0m | \u001b[36mDuncans-MBP.fritz.box\u001b[0m| \u001b[36msuperduper.base.datalayer\u001b[0m:\u001b[36m584 \u001b[0m | \u001b[1mAdding datatype:vector[1536]:e9e26ef6bb634368 to cache\u001b[0m\n",
      "\u001b[32m2025-Jan-13 12:45:43.41\u001b[0m| \u001b[1mINFO    \u001b[0m | \u001b[36mDuncans-MBP.fritz.box\u001b[0m| \u001b[36msuperduper.components.component\u001b[0m:\u001b[36m620 \u001b[0m | \u001b[1mAdding datatype: vector[1536] to cache\u001b[0m\n",
      "\u001b[32m2025-Jan-13 12:45:43.41\u001b[0m| \u001b[1mINFO    \u001b[0m | \u001b[36mDuncans-MBP.fritz.box\u001b[0m| \u001b[36msuperduper.base.datalayer\u001b[0m:\u001b[36m562 \u001b[0m | \u001b[1mComponent 3e31764f95194743 not found in cache, loading from db with uuid\u001b[0m\n",
      "\u001b[32m2025-Jan-13 12:45:43.41\u001b[0m| \u001b[1mINFO    \u001b[0m | \u001b[36mDuncans-MBP.fritz.box\u001b[0m| \u001b[36msuperduper.base.datalayer\u001b[0m:\u001b[36m584 \u001b[0m | \u001b[1mAdding model:text-embedding-ada-002:3e31764f95194743 to cache\u001b[0m\n",
      "\u001b[32m2025-Jan-13 12:45:43.41\u001b[0m| \u001b[1mINFO    \u001b[0m | \u001b[36mDuncans-MBP.fritz.box\u001b[0m| \u001b[36msuperduper.components.component\u001b[0m:\u001b[36m620 \u001b[0m | \u001b[1mAdding model: text-embedding-ada-002 to cache\u001b[0m\n",
      "\u001b[32m2025-Jan-13 12:45:43.41\u001b[0m| \u001b[1mINFO    \u001b[0m | \u001b[36mDuncans-MBP.fritz.box\u001b[0m| \u001b[36msuperduper.base.datalayer\u001b[0m:\u001b[36m562 \u001b[0m | \u001b[1mComponent 0c566132f6904c4d not found in cache, loading from db with uuid\u001b[0m\n",
      "\u001b[32m2025-Jan-13 12:45:43.41\u001b[0m| \u001b[1mINFO    \u001b[0m | \u001b[36mDuncans-MBP.fritz.box\u001b[0m| \u001b[36msuperduper.base.datalayer\u001b[0m:\u001b[36m584 \u001b[0m | \u001b[1mAdding datatype:vector[1024]:0c566132f6904c4d to cache\u001b[0m\n",
      "\u001b[32m2025-Jan-13 12:45:43.41\u001b[0m| \u001b[1mINFO    \u001b[0m | \u001b[36mDuncans-MBP.fritz.box\u001b[0m| \u001b[36msuperduper.components.component\u001b[0m:\u001b[36m620 \u001b[0m | \u001b[1mAdding datatype: vector[1024] to cache\u001b[0m\n",
      "\u001b[32m2025-Jan-13 12:45:43.41\u001b[0m| \u001b[1mINFO    \u001b[0m | \u001b[36mDuncans-MBP.fritz.box\u001b[0m| \u001b[36msuperduper.base.datalayer\u001b[0m:\u001b[36m562 \u001b[0m | \u001b[1mComponent c4a58443ed784eb0 not found in cache, loading from db with uuid\u001b[0m\n",
      "\u001b[32m2025-Jan-13 12:45:44.98\u001b[0m| \u001b[1mINFO    \u001b[0m | \u001b[36mDuncans-MBP.fritz.box\u001b[0m| \u001b[36msuperduper.base.datalayer\u001b[0m:\u001b[36m584 \u001b[0m | \u001b[1mAdding model:sentence-transformers-embedding:c4a58443ed784eb0 to cache\u001b[0m\n",
      "\u001b[32m2025-Jan-13 12:45:44.98\u001b[0m| \u001b[1mINFO    \u001b[0m | \u001b[36mDuncans-MBP.fritz.box\u001b[0m| \u001b[36msuperduper.components.component\u001b[0m:\u001b[36m620 \u001b[0m | \u001b[1mAdding model: sentence-transformers-embedding to cache\u001b[0m\n",
      "\u001b[32m2025-Jan-13 12:45:44.98\u001b[0m| \u001b[1mINFO    \u001b[0m | \u001b[36mDuncans-MBP.fritz.box\u001b[0m| \u001b[36msuperduper.base.datalayer\u001b[0m:\u001b[36m562 \u001b[0m | \u001b[1mComponent fd3c36cfbfde4e04 not found in cache, loading from db with uuid\u001b[0m\n",
      "\u001b[32m2025-Jan-13 12:45:44.98\u001b[0m| \u001b[1mINFO    \u001b[0m | \u001b[36mDuncans-MBP.fritz.box\u001b[0m| \u001b[36msuperduper.base.datalayer\u001b[0m:\u001b[36m584 \u001b[0m | \u001b[1mAdding model:embedding:fd3c36cfbfde4e04 to cache\u001b[0m\n",
      "\u001b[32m2025-Jan-13 12:45:44.98\u001b[0m| \u001b[1mINFO    \u001b[0m | \u001b[36mDuncans-MBP.fritz.box\u001b[0m| \u001b[36msuperduper.components.component\u001b[0m:\u001b[36m620 \u001b[0m | \u001b[1mAdding model: embedding to cache\u001b[0m\n",
      "\u001b[32m2025-Jan-13 12:45:44.98\u001b[0m| \u001b[1mINFO    \u001b[0m | \u001b[36mDuncans-MBP.fritz.box\u001b[0m| \u001b[36msuperduper.base.datalayer\u001b[0m:\u001b[36m562 \u001b[0m | \u001b[1mComponent 82a3cf50da9a4514 not found in cache, loading from db with uuid\u001b[0m\n",
      "\u001b[32m2025-Jan-13 12:45:44.98\u001b[0m| \u001b[1mINFO    \u001b[0m | \u001b[36mDuncans-MBP.fritz.box\u001b[0m| \u001b[36msuperduper.base.datalayer\u001b[0m:\u001b[36m584 \u001b[0m | \u001b[1mAdding schema:_schema/_outputs__embedding-listener-sample_text_vector_search__13c7d67953a04170:82a3cf50da9a4514 to cache\u001b[0m\n",
      "\u001b[32m2025-Jan-13 12:45:44.98\u001b[0m| \u001b[1mINFO    \u001b[0m | \u001b[36mDuncans-MBP.fritz.box\u001b[0m| \u001b[36msuperduper.components.component\u001b[0m:\u001b[36m620 \u001b[0m | \u001b[1mAdding schema: _schema/_outputs__embedding-listener-sample_text_vector_search__13c7d67953a04170 to cache\u001b[0m\n",
      "\u001b[32m2025-Jan-13 12:45:44.98\u001b[0m| \u001b[1mINFO    \u001b[0m | \u001b[36mDuncans-MBP.fritz.box\u001b[0m| \u001b[36msuperduper.base.datalayer\u001b[0m:\u001b[36m562 \u001b[0m | \u001b[1mComponent edc043ae710a4c05 not found in cache, loading from db with uuid\u001b[0m\n",
      "\u001b[32m2025-Jan-13 12:45:44.98\u001b[0m| \u001b[1mINFO    \u001b[0m | \u001b[36mDuncans-MBP.fritz.box\u001b[0m| \u001b[36msuperduper.base.datalayer\u001b[0m:\u001b[36m584 \u001b[0m | \u001b[1mAdding table:_outputs__embedding-listener-sample_text_vector_search__13c7d67953a04170:edc043ae710a4c05 to cache\u001b[0m\n",
      "\u001b[32m2025-Jan-13 12:45:44.98\u001b[0m| \u001b[1mINFO    \u001b[0m | \u001b[36mDuncans-MBP.fritz.box\u001b[0m| \u001b[36msuperduper.base.datalayer\u001b[0m:\u001b[36m562 \u001b[0m | \u001b[1mComponent 13c7d67953a04170 not found in cache, loading from db with uuid\u001b[0m\n",
      "\u001b[32m2025-Jan-13 12:45:44.98\u001b[0m| \u001b[1mINFO    \u001b[0m | \u001b[36mDuncans-MBP.fritz.box\u001b[0m| \u001b[36msuperduper.base.datalayer\u001b[0m:\u001b[36m562 \u001b[0m | \u001b[1mComponent fc9ea0798a1e47e3 not found in cache, loading from db with uuid\u001b[0m\n",
      "\u001b[32m2025-Jan-13 12:45:44.98\u001b[0m| \u001b[1mINFO    \u001b[0m | \u001b[36mDuncans-MBP.fritz.box\u001b[0m| \u001b[36msuperduper.base.datalayer\u001b[0m:\u001b[36m562 \u001b[0m | \u001b[1mComponent 76436da6a29d4031 not found in cache, loading from db with uuid\u001b[0m\n",
      "\u001b[32m2025-Jan-13 12:45:44.99\u001b[0m| \u001b[1mINFO    \u001b[0m | \u001b[36mDuncans-MBP.fritz.box\u001b[0m| \u001b[36msuperduper.base.datalayer\u001b[0m:\u001b[36m584 \u001b[0m | \u001b[1mAdding model:chunk_model:76436da6a29d4031 to cache\u001b[0m\n",
      "\u001b[32m2025-Jan-13 12:45:44.99\u001b[0m| \u001b[1mINFO    \u001b[0m | \u001b[36mDuncans-MBP.fritz.box\u001b[0m| \u001b[36msuperduper.base.datalayer\u001b[0m:\u001b[36m584 \u001b[0m | \u001b[1mAdding listener:chunker_sample_text_vector_search:fc9ea0798a1e47e3 to cache\u001b[0m\n",
      "\u001b[32m2025-Jan-13 12:45:45.00\u001b[0m| \u001b[1mINFO    \u001b[0m | \u001b[36mDuncans-MBP.fritz.box\u001b[0m| \u001b[36msuperduper.base.datalayer\u001b[0m:\u001b[36m584 \u001b[0m | \u001b[1mAdding listener:embedding-listener-sample_text_vector_search:13c7d67953a04170 to cache\u001b[0m\n",
      "\u001b[32m2025-Jan-13 12:45:45.00\u001b[0m| \u001b[1mINFO    \u001b[0m | \u001b[36mDuncans-MBP.fritz.box\u001b[0m| \u001b[36msuperduper.components.component\u001b[0m:\u001b[36m620 \u001b[0m | \u001b[1mAdding listener: embedding-listener-sample_text_vector_search to cache\u001b[0m\n",
      "\u001b[32m2025-Jan-13 12:45:45.00\u001b[0m| \u001b[1mINFO    \u001b[0m | \u001b[36mDuncans-MBP.fritz.box\u001b[0m| \u001b[36msuperduper.base.datalayer\u001b[0m:\u001b[36m562 \u001b[0m | \u001b[1mComponent 3a06ad54829f4776 not found in cache, loading from db with uuid\u001b[0m\n",
      "\u001b[32m2025-Jan-13 12:45:45.00\u001b[0m| \u001b[1mINFO    \u001b[0m | \u001b[36mDuncans-MBP.fritz.box\u001b[0m| \u001b[36msuperduper.base.datalayer\u001b[0m:\u001b[36m584 \u001b[0m | \u001b[1mAdding vector_index:vector-index-sample_text_vector_search:3a06ad54829f4776 to cache\u001b[0m\n",
      "\u001b[32m2025-Jan-13 12:45:45.00\u001b[0m| \u001b[1mINFO    \u001b[0m | \u001b[36mDuncans-MBP.fritz.box\u001b[0m| \u001b[36msuperduper.components.component\u001b[0m:\u001b[36m620 \u001b[0m | \u001b[1mAdding vector_index: vector-index-sample_text_vector_search to cache\u001b[0m\n",
      "\u001b[32m2025-Jan-13 12:45:45.56\u001b[0m| \u001b[1mINFO    \u001b[0m | \u001b[36mDuncans-MBP.fritz.box\u001b[0m| \u001b[36msuperduper.components.model\u001b[0m:\u001b[36m539 \u001b[0m | \u001b[1mRequesting prediction in db - [embedding] with predict_id embedding-listener-sample_text_vector_search__13c7d67953a04170\n",
      "\u001b[0m\n"
     ]
    },
    {
     "name": "stderr",
     "output_type": "stream",
     "text": [
      "336it [00:00, 17893.20it/s]\n"
     ]
    },
    {
     "name": "stdout",
     "output_type": "stream",
     "text": [
      "\u001b[32m2025-Jan-13 12:45:45.63\u001b[0m| \u001b[1mINFO    \u001b[0m | \u001b[36mDuncans-MBP.fritz.box\u001b[0m| \u001b[36msuperduper.components.model\u001b[0m:\u001b[36m1345\u001b[0m | \u001b[1mPredicting with model openai\u001b[0m\n"
     ]
    },
    {
     "name": "stderr",
     "output_type": "stream",
     "text": [
      "100%|██████████████████████████████████████████████████████████████████████████████████████████████████████████████████████████████████████████████████████████████████████████████████████████████████████████████████| 4/4 [00:06<00:00,  1.66s/it]\n"
     ]
    },
    {
     "name": "stdout",
     "output_type": "stream",
     "text": [
      "\u001b[32m2025-Jan-13 12:45:52.25\u001b[0m| \u001b[1mINFO    \u001b[0m | \u001b[36mDuncans-MBP.fritz.box\u001b[0m| \u001b[36msuperduper.components.model\u001b[0m:\u001b[36m672 \u001b[0m | \u001b[1mAdding 336 model outputs to `db`\u001b[0m\n",
      "\u001b[32m2025-Jan-13 12:45:53.85\u001b[0m| \u001b[1mINFO    \u001b[0m | \u001b[36mDuncans-MBP.fritz.box\u001b[0m| \u001b[36msuperduper.base.datalayer\u001b[0m:\u001b[36m310 \u001b[0m | \u001b[1mInserted 336 documents into _outputs__embedding-listener-sample_text_vector_search__13c7d67953a04170\u001b[0m\n",
      "\u001b[32m2025-Jan-13 12:45:54.01\u001b[0m| \u001b[1mINFO    \u001b[0m | \u001b[36mDuncans-MBP.fritz.box\u001b[0m| \u001b[36msuperduper.backends.local.queue\u001b[0m:\u001b[36m120 \u001b[0m | \u001b[1mConsumed all events\u001b[0m\n"
     ]
    }
   ],
   "source": [
    "if APPLY:\n",
    "    db.apply(vector_index, force=True)"
   ]
  },
  {
   "cell_type": "markdown",
   "id": "183bf5b6-4644-4e4c-b65b-e6bafdc6b49f",
   "metadata": {},
   "source": [
    "By applying the RAG model to the database, it will subsequently be accessible for use in other services."
   ]
  },
  {
   "cell_type": "code",
   "execution_count": 15,
   "id": "e6787c78-4b14-4a72-818b-450408a74331",
   "metadata": {},
   "outputs": [
    {
     "name": "stdout",
     "output_type": "stream",
     "text": [
      "\u001b[32m2025-Jan-13 12:45:56.04\u001b[0m| \u001b[1mINFO    \u001b[0m | \u001b[36mDuncans-MBP.fritz.box\u001b[0m| \u001b[36msuperduper.components.application\u001b[0m:\u001b[36m39  \u001b[0m | \u001b[1mResorting components based on topological order.\u001b[0m\n",
      "\u001b[32m2025-Jan-13 12:45:56.04\u001b[0m| \u001b[1mINFO    \u001b[0m | \u001b[36mDuncans-MBP.fritz.box\u001b[0m| \u001b[36msuperduper.components.application\u001b[0m:\u001b[36m56  \u001b[0m | \u001b[1mNew order of components: ['listener:chunker_sample_text_vector_search:fc9ea0798a1e47e3', 'vector_index:vector-index-sample_text_vector_search:3a06ad54829f4776']\u001b[0m\n"
     ]
    }
   ],
   "source": [
    "from superduper import Application\n",
    "\n",
    "app = Application(\n",
    "    f'text-vector-search-app-{COLLECTION_NAME}',\n",
    "    components=[\n",
    "        upstream_listener,\n",
    "        vector_index,\n",
    "    ]\n",
    ")"
   ]
  },
  {
   "cell_type": "code",
   "execution_count": 16,
   "id": "e7c16557-af76-4e70-83d9-2984e19a9554",
   "metadata": {},
   "outputs": [
    {
     "name": "stdout",
     "output_type": "stream",
     "text": [
      "\u001b[32m2025-Jan-13 12:45:58.23\u001b[0m| \u001b[33m\u001b[1mWARNING \u001b[0m | \u001b[36mDuncans-MBP.fritz.box\u001b[0m| \u001b[36msuperduper.base.document\u001b[0m:\u001b[36m564 \u001b[0m | \u001b[33m\u001b[1mLeaf ID already exists\u001b[0m\n",
      "\u001b[32m2025-Jan-13 12:45:58.23\u001b[0m| \u001b[33m\u001b[1mWARNING \u001b[0m | \u001b[36mDuncans-MBP.fritz.box\u001b[0m| \u001b[36msuperduper.base.document\u001b[0m:\u001b[36m564 \u001b[0m | \u001b[33m\u001b[1mLeaf str already exists\u001b[0m\n",
      "\u001b[32m2025-Jan-13 12:45:58.24\u001b[0m| \u001b[33m\u001b[1mWARNING \u001b[0m | \u001b[36mDuncans-MBP.fritz.box\u001b[0m| \u001b[36msuperduper.base.document\u001b[0m:\u001b[36m564 \u001b[0m | \u001b[33m\u001b[1mLeaf ID already exists\u001b[0m\n",
      "\u001b[32m2025-Jan-13 12:45:58.24\u001b[0m| \u001b[33m\u001b[1mWARNING \u001b[0m | \u001b[36mDuncans-MBP.fritz.box\u001b[0m| \u001b[36msuperduper.base.document\u001b[0m:\u001b[36m564 \u001b[0m | \u001b[33m\u001b[1mLeaf str already exists\u001b[0m\n",
      "\u001b[32m2025-Jan-13 12:45:59.86\u001b[0m| \u001b[33m\u001b[1mWARNING \u001b[0m | \u001b[36mDuncans-MBP.fritz.box\u001b[0m| \u001b[36msuperduper.base.document\u001b[0m:\u001b[36m564 \u001b[0m | \u001b[33m\u001b[1mLeaf ID already exists\u001b[0m\n",
      "\u001b[32m2025-Jan-13 12:45:59.86\u001b[0m| \u001b[33m\u001b[1mWARNING \u001b[0m | \u001b[36mDuncans-MBP.fritz.box\u001b[0m| \u001b[36msuperduper.base.document\u001b[0m:\u001b[36m564 \u001b[0m | \u001b[33m\u001b[1mLeaf str already exists\u001b[0m\n",
      "\u001b[32m2025-Jan-13 12:45:59.86\u001b[0m| \u001b[33m\u001b[1mWARNING \u001b[0m | \u001b[36mDuncans-MBP.fritz.box\u001b[0m| \u001b[36msuperduper.base.document\u001b[0m:\u001b[36m564 \u001b[0m | \u001b[33m\u001b[1mLeaf ID already exists\u001b[0m\n",
      "\u001b[32m2025-Jan-13 12:45:59.86\u001b[0m| \u001b[33m\u001b[1mWARNING \u001b[0m | \u001b[36mDuncans-MBP.fritz.box\u001b[0m| \u001b[36msuperduper.base.document\u001b[0m:\u001b[36m564 \u001b[0m | \u001b[33m\u001b[1mLeaf str already exists\u001b[0m\n",
      "\u001b[32m2025-Jan-13 12:46:01.49\u001b[0m| \u001b[33m\u001b[1mWARNING \u001b[0m | \u001b[36mDuncans-MBP.fritz.box\u001b[0m| \u001b[36msuperduper.components.listener\u001b[0m:\u001b[36m76  \u001b[0m | \u001b[33m\u001b[1moutput_table not found in listener.dict()\u001b[0m\n",
      "\u001b[32m2025-Jan-13 12:46:01.50\u001b[0m| \u001b[1mINFO    \u001b[0m | \u001b[36mDuncans-MBP.fritz.box\u001b[0m| \u001b[36msuperduper.base.apply\u001b[0m:\u001b[36m265 \u001b[0m | \u001b[1mFound identical model:chunk_model:76436da6a29d4031\u001b[0m\n",
      "\u001b[32m2025-Jan-13 12:46:01.50\u001b[0m| \u001b[1mINFO    \u001b[0m | \u001b[36mDuncans-MBP.fritz.box\u001b[0m| \u001b[36msuperduper.base.apply\u001b[0m:\u001b[36m341 \u001b[0m | \u001b[1mFound update model:chunk_model:76436da6a29d4031\u001b[0m\n",
      "\u001b[32m2025-Jan-13 12:46:01.50\u001b[0m| \u001b[33m\u001b[1mWARNING \u001b[0m | \u001b[36mDuncans-MBP.fritz.box\u001b[0m| \u001b[36msuperduper.backends.local.artifacts\u001b[0m:\u001b[36m87  \u001b[0m | \u001b[33m\u001b[1mFile /tmp/test_db/85d22fdc19a5621624255e5a6a0c9427d82370fd already exists\u001b[0m\n",
      "\u001b[32m2025-Jan-13 12:46:01.50\u001b[0m| \u001b[33m\u001b[1mWARNING \u001b[0m | \u001b[36mDuncans-MBP.fritz.box\u001b[0m| \u001b[36msuperduper.components.listener\u001b[0m:\u001b[36m76  \u001b[0m | \u001b[33m\u001b[1moutput_table not found in listener.dict()\u001b[0m\n",
      "\u001b[32m2025-Jan-13 12:46:01.50\u001b[0m| \u001b[1mINFO    \u001b[0m | \u001b[36mDuncans-MBP.fritz.box\u001b[0m| \u001b[36msuperduper.base.apply\u001b[0m:\u001b[36m265 \u001b[0m | \u001b[1mFound identical listener:chunker_sample_text_vector_search:fc9ea0798a1e47e3\u001b[0m\n",
      "\u001b[32m2025-Jan-13 12:46:01.50\u001b[0m| \u001b[33m\u001b[1mWARNING \u001b[0m | \u001b[36mDuncans-MBP.fritz.box\u001b[0m| \u001b[36msuperduper.components.listener\u001b[0m:\u001b[36m76  \u001b[0m | \u001b[33m\u001b[1moutput_table not found in listener.dict()\u001b[0m\n",
      "\u001b[32m2025-Jan-13 12:46:01.50\u001b[0m| \u001b[33m\u001b[1mWARNING \u001b[0m | \u001b[36mDuncans-MBP.fritz.box\u001b[0m| \u001b[36msuperduper.components.listener\u001b[0m:\u001b[36m76  \u001b[0m | \u001b[33m\u001b[1moutput_table not found in listener.dict()\u001b[0m\n",
      "\u001b[32m2025-Jan-13 12:46:01.51\u001b[0m| \u001b[1mINFO    \u001b[0m | \u001b[36mDuncans-MBP.fritz.box\u001b[0m| \u001b[36msuperduper.base.apply\u001b[0m:\u001b[36m265 \u001b[0m | \u001b[1mFound identical model:chunk_model:76436da6a29d4031\u001b[0m\n",
      "\u001b[32m2025-Jan-13 12:46:01.51\u001b[0m| \u001b[1mINFO    \u001b[0m | \u001b[36mDuncans-MBP.fritz.box\u001b[0m| \u001b[36msuperduper.base.apply\u001b[0m:\u001b[36m341 \u001b[0m | \u001b[1mFound update model:chunk_model:76436da6a29d4031\u001b[0m\n",
      "\u001b[32m2025-Jan-13 12:46:01.51\u001b[0m| \u001b[33m\u001b[1mWARNING \u001b[0m | \u001b[36mDuncans-MBP.fritz.box\u001b[0m| \u001b[36msuperduper.backends.local.artifacts\u001b[0m:\u001b[36m87  \u001b[0m | \u001b[33m\u001b[1mFile /tmp/test_db/85d22fdc19a5621624255e5a6a0c9427d82370fd already exists\u001b[0m\n",
      "\u001b[32m2025-Jan-13 12:46:01.51\u001b[0m| \u001b[33m\u001b[1mWARNING \u001b[0m | \u001b[36mDuncans-MBP.fritz.box\u001b[0m| \u001b[36msuperduper.components.listener\u001b[0m:\u001b[36m76  \u001b[0m | \u001b[33m\u001b[1moutput_table not found in listener.dict()\u001b[0m\n",
      "\u001b[32m2025-Jan-13 12:46:01.51\u001b[0m| \u001b[1mINFO    \u001b[0m | \u001b[36mDuncans-MBP.fritz.box\u001b[0m| \u001b[36msuperduper.base.apply\u001b[0m:\u001b[36m265 \u001b[0m | \u001b[1mFound identical listener:chunker_sample_text_vector_search:fc9ea0798a1e47e3\u001b[0m\n",
      "\u001b[32m2025-Jan-13 12:46:01.51\u001b[0m| \u001b[1mINFO    \u001b[0m | \u001b[36mDuncans-MBP.fritz.box\u001b[0m| \u001b[36msuperduper.base.apply\u001b[0m:\u001b[36m265 \u001b[0m | \u001b[1mFound identical datatype:vector[1536]:e9e26ef6bb634368\u001b[0m\n",
      "\u001b[32m2025-Jan-13 12:46:01.51\u001b[0m| \u001b[1mINFO    \u001b[0m | \u001b[36mDuncans-MBP.fritz.box\u001b[0m| \u001b[36msuperduper.base.apply\u001b[0m:\u001b[36m341 \u001b[0m | \u001b[1mFound update datatype:vector[1536]:e9e26ef6bb634368\u001b[0m\n",
      "\u001b[32m2025-Jan-13 12:46:01.51\u001b[0m| \u001b[1mINFO    \u001b[0m | \u001b[36mDuncans-MBP.fritz.box\u001b[0m| \u001b[36msuperduper.base.apply\u001b[0m:\u001b[36m265 \u001b[0m | \u001b[1mFound identical datatype:vector[1536]:e9e26ef6bb634368\u001b[0m\n",
      "\u001b[32m2025-Jan-13 12:46:01.51\u001b[0m| \u001b[1mINFO    \u001b[0m | \u001b[36mDuncans-MBP.fritz.box\u001b[0m| \u001b[36msuperduper.base.apply\u001b[0m:\u001b[36m341 \u001b[0m | \u001b[1mFound update datatype:vector[1536]:e9e26ef6bb634368\u001b[0m\n",
      "\u001b[32m2025-Jan-13 12:46:01.51\u001b[0m| \u001b[1mINFO    \u001b[0m | \u001b[36mDuncans-MBP.fritz.box\u001b[0m| \u001b[36msuperduper.base.apply\u001b[0m:\u001b[36m265 \u001b[0m | \u001b[1mFound identical model:text-embedding-ada-002:3e31764f95194743\u001b[0m\n",
      "\u001b[32m2025-Jan-13 12:46:03.12\u001b[0m| \u001b[1mINFO    \u001b[0m | \u001b[36mDuncans-MBP.fritz.box\u001b[0m| \u001b[36msuperduper.base.apply\u001b[0m:\u001b[36m265 \u001b[0m | \u001b[1mFound identical datatype:vector[1024]:0c566132f6904c4d\u001b[0m\n",
      "\u001b[32m2025-Jan-13 12:46:03.12\u001b[0m| \u001b[1mINFO    \u001b[0m | \u001b[36mDuncans-MBP.fritz.box\u001b[0m| \u001b[36msuperduper.base.apply\u001b[0m:\u001b[36m341 \u001b[0m | \u001b[1mFound update datatype:vector[1024]:0c566132f6904c4d\u001b[0m\n",
      "\u001b[32m2025-Jan-13 12:46:04.73\u001b[0m| \u001b[1mINFO    \u001b[0m | \u001b[36mDuncans-MBP.fritz.box\u001b[0m| \u001b[36msuperduper.base.apply\u001b[0m:\u001b[36m265 \u001b[0m | \u001b[1mFound identical model:sentence-transformers-embedding:c4a58443ed784eb0\u001b[0m\n",
      "\u001b[32m2025-Jan-13 12:46:06.34\u001b[0m| \u001b[1mINFO    \u001b[0m | \u001b[36mDuncans-MBP.fritz.box\u001b[0m| \u001b[36msuperduper.base.apply\u001b[0m:\u001b[36m341 \u001b[0m | \u001b[1mFound update model:sentence-transformers-embedding:c4a58443ed784eb0\u001b[0m\n",
      "\u001b[32m2025-Jan-13 12:46:06.34\u001b[0m| \u001b[33m\u001b[1mWARNING \u001b[0m | \u001b[36mDuncans-MBP.fritz.box\u001b[0m| \u001b[36msuperduper.backends.local.artifacts\u001b[0m:\u001b[36m87  \u001b[0m | \u001b[33m\u001b[1mFile /tmp/test_db/7e3797ba5e8838fba8c62d6fe57f2cfe04a96e95 already exists\u001b[0m\n",
      "\u001b[32m2025-Jan-13 12:46:06.34\u001b[0m| \u001b[1mINFO    \u001b[0m | \u001b[36mDuncans-MBP.fritz.box\u001b[0m| \u001b[36msuperduper.base.apply\u001b[0m:\u001b[36m265 \u001b[0m | \u001b[1mFound identical model:embedding:fd3c36cfbfde4e04\u001b[0m\n",
      "\u001b[32m2025-Jan-13 12:46:06.34\u001b[0m| \u001b[1mINFO    \u001b[0m | \u001b[36mDuncans-MBP.fritz.box\u001b[0m| \u001b[36msuperduper.base.apply\u001b[0m:\u001b[36m341 \u001b[0m | \u001b[1mFound update model:embedding:fd3c36cfbfde4e04\u001b[0m\n",
      "\u001b[32m2025-Jan-13 12:46:06.34\u001b[0m| \u001b[33m\u001b[1mWARNING \u001b[0m | \u001b[36mDuncans-MBP.fritz.box\u001b[0m| \u001b[36msuperduper.components.listener\u001b[0m:\u001b[36m76  \u001b[0m | \u001b[33m\u001b[1moutput_table not found in listener.dict()\u001b[0m\n",
      "\u001b[32m2025-Jan-13 12:46:06.34\u001b[0m| \u001b[1mINFO    \u001b[0m | \u001b[36mDuncans-MBP.fritz.box\u001b[0m| \u001b[36msuperduper.base.apply\u001b[0m:\u001b[36m265 \u001b[0m | \u001b[1mFound identical listener:embedding-listener-sample_text_vector_search:13c7d67953a04170\u001b[0m\n",
      "\u001b[32m2025-Jan-13 12:46:06.34\u001b[0m| \u001b[1mINFO    \u001b[0m | \u001b[36mDuncans-MBP.fritz.box\u001b[0m| \u001b[36msuperduper.base.apply\u001b[0m:\u001b[36m265 \u001b[0m | \u001b[1mFound identical vector_index:vector-index-sample_text_vector_search:3a06ad54829f4776\u001b[0m\n",
      "\u001b[32m2025-Jan-13 12:46:06.34\u001b[0m| \u001b[1mINFO    \u001b[0m | \u001b[36mDuncans-MBP.fritz.box\u001b[0m| \u001b[36msuperduper.base.datalayer\u001b[0m:\u001b[36m593 \u001b[0m | \u001b[1mComponent (application, text-vector-search-app-sample_text_vector_search) not found in cache, loading from db\u001b[0m\n",
      "\u001b[32m2025-Jan-13 12:46:06.34\u001b[0m| \u001b[1mINFO    \u001b[0m | \u001b[36mDuncans-MBP.fritz.box\u001b[0m| \u001b[36msuperduper.base.datalayer\u001b[0m:\u001b[36m599 \u001b[0m | \u001b[1mLoad (('application', 'text-vector-search-app-sample_text_vector_search')) from metadata...\u001b[0m\n",
      "\u001b[32m2025-Jan-13 12:46:06.34\u001b[0m| \u001b[1mINFO    \u001b[0m | \u001b[36mDuncans-MBP.fritz.box\u001b[0m| \u001b[36msuperduper.base.apply\u001b[0m:\u001b[36m359 \u001b[0m | \u001b[1mFound new application:text-vector-search-app-sample_text_vector_search:01fa05cfe5af4d85\u001b[0m\n",
      "\u001b[32m2025-Jan-13 12:46:06.34\u001b[0m| \u001b[1mINFO    \u001b[0m | \u001b[36mDuncans-MBP.fritz.box\u001b[0m| \u001b[36msuperduper.base.apply\u001b[0m:\u001b[36m73  \u001b[0m | \u001b[1mFound this diff:\u001b[0m\n"
     ]
    },
    {
     "data": {
      "text/html": [
       "<pre style=\"white-space:pre;overflow-x:auto;line-height:normal;font-family:Menlo,'DejaVu Sans Mono',consolas,'Courier New',monospace\">text-vector-search-app-sample_text_vector_search\n",
       "├── <span style=\"color: #808000; text-decoration-color: #808000; font-weight: bold\">chunk_model</span>\n",
       "│   ├── <span style=\"color: #008080; text-decoration-color: #008080; font-weight: bold\">status: </span><span style=\"color: #000080; text-decoration-color: #000080; font-weight: bold\">update</span>\n",
       "│   ├── <span style=\"color: #808000; text-decoration-color: #808000; font-weight: bold\">changes</span>\n",
       "│   │   └── <span style=\"color: #008080; text-decoration-color: #008080; font-weight: bold\">_object: </span><span style=\"color: #008000; text-decoration-color: #008000; font-weight: bold\">&amp;:blob:85d22fdc19a5621624255e5a6a0c9427d82370fd</span>\n",
       "│   └── <span style=\"color: #008080; text-decoration-color: #008080; font-weight: bold\">type_id: </span><span style=\"color: #008000; text-decoration-color: #008000; font-weight: bold\">model</span>\n",
       "├── <span style=\"color: #808000; text-decoration-color: #808000; font-weight: bold\">vector[1536]</span>\n",
       "│   ├── <span style=\"color: #008080; text-decoration-color: #008080; font-weight: bold\">status: </span><span style=\"color: #000080; text-decoration-color: #000080; font-weight: bold\">update</span>\n",
       "│   ├── <span style=\"color: #808000; text-decoration-color: #808000; font-weight: bold\">changes</span>\n",
       "│   │   └── <span style=\"color: #008080; text-decoration-color: #008080; font-weight: bold\">shape: </span><span style=\"color: #008000; text-decoration-color: #008000; font-weight: bold\">(1536,)</span>\n",
       "│   └── <span style=\"color: #008080; text-decoration-color: #008080; font-weight: bold\">type_id: </span><span style=\"color: #008000; text-decoration-color: #008000; font-weight: bold\">datatype</span>\n",
       "├── <span style=\"color: #808000; text-decoration-color: #808000; font-weight: bold\">vector[1024]</span>\n",
       "│   ├── <span style=\"color: #008080; text-decoration-color: #008080; font-weight: bold\">status: </span><span style=\"color: #000080; text-decoration-color: #000080; font-weight: bold\">update</span>\n",
       "│   ├── <span style=\"color: #808000; text-decoration-color: #808000; font-weight: bold\">changes</span>\n",
       "│   │   └── <span style=\"color: #008080; text-decoration-color: #008080; font-weight: bold\">shape: </span><span style=\"color: #008000; text-decoration-color: #008000; font-weight: bold\">(1024,)</span>\n",
       "│   └── <span style=\"color: #008080; text-decoration-color: #008080; font-weight: bold\">type_id: </span><span style=\"color: #008000; text-decoration-color: #008000; font-weight: bold\">datatype</span>\n",
       "├── <span style=\"color: #808000; text-decoration-color: #808000; font-weight: bold\">sentence-transformers-embedding</span>\n",
       "│   ├── <span style=\"color: #008080; text-decoration-color: #008080; font-weight: bold\">status: </span><span style=\"color: #000080; text-decoration-color: #000080; font-weight: bold\">update</span>\n",
       "│   ├── <span style=\"color: #808000; text-decoration-color: #808000; font-weight: bold\">changes</span>\n",
       "│   │   ├── <span style=\"color: #008080; text-decoration-color: #008080; font-weight: bold\">preferred_devices: </span><span style=\"color: #008000; text-decoration-color: #008000; font-weight: bold\">('cuda', 'mps', 'cpu')</span>\n",
       "│   │   └── <span style=\"color: #008080; text-decoration-color: #008080; font-weight: bold\">postprocess: </span><span style=\"color: #008000; text-decoration-color: #008000; font-weight: bold\">&amp;:blob:7e3797ba5e8838fba8c62d6fe57f2cfe04a96e95</span>\n",
       "│   └── <span style=\"color: #008080; text-decoration-color: #008080; font-weight: bold\">type_id: </span><span style=\"color: #008000; text-decoration-color: #008000; font-weight: bold\">model</span>\n",
       "└── <span style=\"color: #808000; text-decoration-color: #808000; font-weight: bold\">embedding</span>\n",
       "    ├── <span style=\"color: #008080; text-decoration-color: #008080; font-weight: bold\">status: </span><span style=\"color: #000080; text-decoration-color: #000080; font-weight: bold\">update</span>\n",
       "    ├── <span style=\"color: #808000; text-decoration-color: #808000; font-weight: bold\">changes</span>\n",
       "    │   └── <span style=\"color: #008080; text-decoration-color: #008080; font-weight: bold\">signature: </span><span style=\"color: #008000; text-decoration-color: #008000; font-weight: bold\">*args,**kwargs</span>\n",
       "    └── <span style=\"color: #008080; text-decoration-color: #008080; font-weight: bold\">type_id: </span><span style=\"color: #008000; text-decoration-color: #008000; font-weight: bold\">model</span>\n",
       "</pre>\n"
      ],
      "text/plain": [
       "text-vector-search-app-sample_text_vector_search\n",
       "├── \u001b[1;33mchunk_model\u001b[0m\n",
       "│   ├── \u001b[1;36mstatus: \u001b[0m\u001b[1;34mupdate\u001b[0m\n",
       "│   ├── \u001b[1;33mchanges\u001b[0m\n",
       "│   │   └── \u001b[1;36m_object: \u001b[0m\u001b[1;32m&:blob:85d22fdc19a5621624255e5a6a0c9427d82370fd\u001b[0m\n",
       "│   └── \u001b[1;36mtype_id: \u001b[0m\u001b[1;32mmodel\u001b[0m\n",
       "├── \u001b[1;33mvector[1536]\u001b[0m\n",
       "│   ├── \u001b[1;36mstatus: \u001b[0m\u001b[1;34mupdate\u001b[0m\n",
       "│   ├── \u001b[1;33mchanges\u001b[0m\n",
       "│   │   └── \u001b[1;36mshape: \u001b[0m\u001b[1;32m(1536,)\u001b[0m\n",
       "│   └── \u001b[1;36mtype_id: \u001b[0m\u001b[1;32mdatatype\u001b[0m\n",
       "├── \u001b[1;33mvector[1024]\u001b[0m\n",
       "│   ├── \u001b[1;36mstatus: \u001b[0m\u001b[1;34mupdate\u001b[0m\n",
       "│   ├── \u001b[1;33mchanges\u001b[0m\n",
       "│   │   └── \u001b[1;36mshape: \u001b[0m\u001b[1;32m(1024,)\u001b[0m\n",
       "│   └── \u001b[1;36mtype_id: \u001b[0m\u001b[1;32mdatatype\u001b[0m\n",
       "├── \u001b[1;33msentence-transformers-embedding\u001b[0m\n",
       "│   ├── \u001b[1;36mstatus: \u001b[0m\u001b[1;34mupdate\u001b[0m\n",
       "│   ├── \u001b[1;33mchanges\u001b[0m\n",
       "│   │   ├── \u001b[1;36mpreferred_devices: \u001b[0m\u001b[1;32m('cuda', 'mps', 'cpu')\u001b[0m\n",
       "│   │   └── \u001b[1;36mpostprocess: \u001b[0m\u001b[1;32m&:blob:7e3797ba5e8838fba8c62d6fe57f2cfe04a96e95\u001b[0m\n",
       "│   └── \u001b[1;36mtype_id: \u001b[0m\u001b[1;32mmodel\u001b[0m\n",
       "└── \u001b[1;33membedding\u001b[0m\n",
       "    ├── \u001b[1;36mstatus: \u001b[0m\u001b[1;34mupdate\u001b[0m\n",
       "    ├── \u001b[1;33mchanges\u001b[0m\n",
       "    │   └── \u001b[1;36msignature: \u001b[0m\u001b[1;32m*args,**kwargs\u001b[0m\n",
       "    └── \u001b[1;36mtype_id: \u001b[0m\u001b[1;32mmodel\u001b[0m\n"
      ]
     },
     "metadata": {},
     "output_type": "display_data"
    },
    {
     "name": "stdout",
     "output_type": "stream",
     "text": [
      "\u001b[32m2025-Jan-13 12:46:06.35\u001b[0m| \u001b[1mINFO    \u001b[0m | \u001b[36mDuncans-MBP.fritz.box\u001b[0m| \u001b[36msuperduper.base.apply\u001b[0m:\u001b[36m79  \u001b[0m | \u001b[1mFound these changes and/ or additions that need to be made:\u001b[0m\n",
      "\u001b[32m2025-Jan-13 12:46:06.35\u001b[0m| \u001b[1mINFO    \u001b[0m | \u001b[36mDuncans-MBP.fritz.box\u001b[0m| \u001b[36msuperduper.base.apply\u001b[0m:\u001b[36m81  \u001b[0m | \u001b[1m----------------------------------------------------------------------------------------------------\u001b[0m\n",
      "\u001b[32m2025-Jan-13 12:46:06.35\u001b[0m| \u001b[1mINFO    \u001b[0m | \u001b[36mDuncans-MBP.fritz.box\u001b[0m| \u001b[36msuperduper.base.apply\u001b[0m:\u001b[36m82  \u001b[0m | \u001b[1mMETADATA EVENTS:\u001b[0m\n",
      "\u001b[32m2025-Jan-13 12:46:06.35\u001b[0m| \u001b[1mINFO    \u001b[0m | \u001b[36mDuncans-MBP.fritz.box\u001b[0m| \u001b[36msuperduper.base.apply\u001b[0m:\u001b[36m83  \u001b[0m | \u001b[1m----------------------------------------------------------------------------------------------------\u001b[0m\n",
      "\u001b[32m2025-Jan-13 12:46:06.35\u001b[0m| \u001b[1mINFO    \u001b[0m | \u001b[36mDuncans-MBP.fritz.box\u001b[0m| \u001b[36msuperduper.base.apply\u001b[0m:\u001b[36m92  \u001b[0m | \u001b[1m[0]: model:chunk_model:76436da6a29d4031: update\u001b[0m\n",
      "\u001b[32m2025-Jan-13 12:46:06.35\u001b[0m| \u001b[1mINFO    \u001b[0m | \u001b[36mDuncans-MBP.fritz.box\u001b[0m| \u001b[36msuperduper.base.apply\u001b[0m:\u001b[36m92  \u001b[0m | \u001b[1m[1]: datatype:vector[1536]:e9e26ef6bb634368: update\u001b[0m\n",
      "\u001b[32m2025-Jan-13 12:46:06.35\u001b[0m| \u001b[1mINFO    \u001b[0m | \u001b[36mDuncans-MBP.fritz.box\u001b[0m| \u001b[36msuperduper.base.apply\u001b[0m:\u001b[36m90  \u001b[0m | \u001b[1m[2]: datatype:vector[1024]:0c566132f6904c4d: update ~ [3]\u001b[0m\n",
      "\u001b[32m2025-Jan-13 12:46:06.35\u001b[0m| \u001b[1mINFO    \u001b[0m | \u001b[36mDuncans-MBP.fritz.box\u001b[0m| \u001b[36msuperduper.base.apply\u001b[0m:\u001b[36m90  \u001b[0m | \u001b[1m[3]: model:sentence-transformers-embedding:c4a58443ed784eb0: update ~ [4]\u001b[0m\n",
      "\u001b[32m2025-Jan-13 12:46:06.35\u001b[0m| \u001b[1mINFO    \u001b[0m | \u001b[36mDuncans-MBP.fritz.box\u001b[0m| \u001b[36msuperduper.base.apply\u001b[0m:\u001b[36m92  \u001b[0m | \u001b[1m[4]: model:embedding:fd3c36cfbfde4e04: update\u001b[0m\n",
      "\u001b[32m2025-Jan-13 12:46:06.35\u001b[0m| \u001b[1mINFO    \u001b[0m | \u001b[36mDuncans-MBP.fritz.box\u001b[0m| \u001b[36msuperduper.base.apply\u001b[0m:\u001b[36m94  \u001b[0m | \u001b[1m[5]: application:text-vector-search-app-sample_text_vector_search:01fa05cfe5af4d85: create\u001b[0m\n",
      "\u001b[32m2025-Jan-13 12:46:06.35\u001b[0m| \u001b[1mINFO    \u001b[0m | \u001b[36mDuncans-MBP.fritz.box\u001b[0m| \u001b[36msuperduper.base.apply\u001b[0m:\u001b[36m96  \u001b[0m | \u001b[1m----------------------------------------------------------------------------------------------------\u001b[0m\n",
      "\u001b[32m2025-Jan-13 12:46:06.35\u001b[0m| \u001b[1mINFO    \u001b[0m | \u001b[36mDuncans-MBP.fritz.box\u001b[0m| \u001b[36msuperduper.base.apply\u001b[0m:\u001b[36m97  \u001b[0m | \u001b[1mJOBS EVENTS:\u001b[0m\n",
      "\u001b[32m2025-Jan-13 12:46:06.35\u001b[0m| \u001b[1mINFO    \u001b[0m | \u001b[36mDuncans-MBP.fritz.box\u001b[0m| \u001b[36msuperduper.base.apply\u001b[0m:\u001b[36m98  \u001b[0m | \u001b[1m----------------------------------------------------------------------------------------------------\u001b[0m\n",
      "\u001b[32m2025-Jan-13 12:46:06.35\u001b[0m| \u001b[1mINFO    \u001b[0m | \u001b[36mDuncans-MBP.fritz.box\u001b[0m| \u001b[36msuperduper.base.apply\u001b[0m:\u001b[36m102 \u001b[0m | \u001b[1mNo job events...\u001b[0m\n",
      "\u001b[32m2025-Jan-13 12:46:06.35\u001b[0m| \u001b[1mINFO    \u001b[0m | \u001b[36mDuncans-MBP.fritz.box\u001b[0m| \u001b[36msuperduper.base.apply\u001b[0m:\u001b[36m113 \u001b[0m | \u001b[1m----------------------------------------------------------------------------------------------------\u001b[0m\n",
      "\u001b[32m2025-Jan-13 12:46:06.35\u001b[0m| \u001b[1mINFO    \u001b[0m | \u001b[36mDuncans-MBP.fritz.box\u001b[0m| \u001b[36msuperduper.base.datalayer\u001b[0m:\u001b[36m562 \u001b[0m | \u001b[1mComponent 01fa05cfe5af4d85 not found in cache, loading from db with uuid\u001b[0m\n",
      "\u001b[32m2025-Jan-13 12:46:06.35\u001b[0m| \u001b[1mINFO    \u001b[0m | \u001b[36mDuncans-MBP.fritz.box\u001b[0m| \u001b[36msuperduper.base.datalayer\u001b[0m:\u001b[36m562 \u001b[0m | \u001b[1mComponent fc9ea0798a1e47e3 not found in cache, loading from db with uuid\u001b[0m\n",
      "\u001b[32m2025-Jan-13 12:46:06.35\u001b[0m| \u001b[1mINFO    \u001b[0m | \u001b[36mDuncans-MBP.fritz.box\u001b[0m| \u001b[36msuperduper.base.datalayer\u001b[0m:\u001b[36m562 \u001b[0m | \u001b[1mComponent 76436da6a29d4031 not found in cache, loading from db with uuid\u001b[0m\n",
      "\u001b[32m2025-Jan-13 12:46:06.35\u001b[0m| \u001b[1mINFO    \u001b[0m | \u001b[36mDuncans-MBP.fritz.box\u001b[0m| \u001b[36msuperduper.base.datalayer\u001b[0m:\u001b[36m584 \u001b[0m | \u001b[1mAdding model:chunk_model:76436da6a29d4031 to cache\u001b[0m\n",
      "\u001b[32m2025-Jan-13 12:46:06.35\u001b[0m| \u001b[1mINFO    \u001b[0m | \u001b[36mDuncans-MBP.fritz.box\u001b[0m| \u001b[36msuperduper.base.datalayer\u001b[0m:\u001b[36m584 \u001b[0m | \u001b[1mAdding listener:chunker_sample_text_vector_search:fc9ea0798a1e47e3 to cache\u001b[0m\n",
      "\u001b[32m2025-Jan-13 12:46:06.35\u001b[0m| \u001b[1mINFO    \u001b[0m | \u001b[36mDuncans-MBP.fritz.box\u001b[0m| \u001b[36msuperduper.base.datalayer\u001b[0m:\u001b[36m562 \u001b[0m | \u001b[1mComponent 3a06ad54829f4776 not found in cache, loading from db with uuid\u001b[0m\n",
      "\u001b[32m2025-Jan-13 12:46:06.35\u001b[0m| \u001b[1mINFO    \u001b[0m | \u001b[36mDuncans-MBP.fritz.box\u001b[0m| \u001b[36msuperduper.base.datalayer\u001b[0m:\u001b[36m562 \u001b[0m | \u001b[1mComponent 13c7d67953a04170 not found in cache, loading from db with uuid\u001b[0m\n",
      "\u001b[32m2025-Jan-13 12:46:06.35\u001b[0m| \u001b[1mINFO    \u001b[0m | \u001b[36mDuncans-MBP.fritz.box\u001b[0m| \u001b[36msuperduper.base.datalayer\u001b[0m:\u001b[36m562 \u001b[0m | \u001b[1mComponent fd3c36cfbfde4e04 not found in cache, loading from db with uuid\u001b[0m\n",
      "\u001b[32m2025-Jan-13 12:46:06.35\u001b[0m| \u001b[1mINFO    \u001b[0m | \u001b[36mDuncans-MBP.fritz.box\u001b[0m| \u001b[36msuperduper.base.datalayer\u001b[0m:\u001b[36m562 \u001b[0m | \u001b[1mComponent e9e26ef6bb634368 not found in cache, loading from db with uuid\u001b[0m\n",
      "\u001b[32m2025-Jan-13 12:46:06.35\u001b[0m| \u001b[1mINFO    \u001b[0m | \u001b[36mDuncans-MBP.fritz.box\u001b[0m| \u001b[36msuperduper.base.datalayer\u001b[0m:\u001b[36m584 \u001b[0m | \u001b[1mAdding datatype:vector[1536]:e9e26ef6bb634368 to cache\u001b[0m\n",
      "\u001b[32m2025-Jan-13 12:46:06.35\u001b[0m| \u001b[1mINFO    \u001b[0m | \u001b[36mDuncans-MBP.fritz.box\u001b[0m| \u001b[36msuperduper.base.datalayer\u001b[0m:\u001b[36m562 \u001b[0m | \u001b[1mComponent c4a58443ed784eb0 not found in cache, loading from db with uuid\u001b[0m\n",
      "\u001b[32m2025-Jan-13 12:46:06.35\u001b[0m| \u001b[1mINFO    \u001b[0m | \u001b[36mDuncans-MBP.fritz.box\u001b[0m| \u001b[36msuperduper.base.datalayer\u001b[0m:\u001b[36m562 \u001b[0m | \u001b[1mComponent 0c566132f6904c4d not found in cache, loading from db with uuid\u001b[0m\n",
      "\u001b[32m2025-Jan-13 12:46:06.35\u001b[0m| \u001b[1mINFO    \u001b[0m | \u001b[36mDuncans-MBP.fritz.box\u001b[0m| \u001b[36msuperduper.base.datalayer\u001b[0m:\u001b[36m584 \u001b[0m | \u001b[1mAdding datatype:vector[1024]:0c566132f6904c4d to cache\u001b[0m\n",
      "\u001b[32m2025-Jan-13 12:46:08.04\u001b[0m| \u001b[1mINFO    \u001b[0m | \u001b[36mDuncans-MBP.fritz.box\u001b[0m| \u001b[36msuperduper.base.datalayer\u001b[0m:\u001b[36m584 \u001b[0m | \u001b[1mAdding model:sentence-transformers-embedding:c4a58443ed784eb0 to cache\u001b[0m\n",
      "\u001b[32m2025-Jan-13 12:46:08.04\u001b[0m| \u001b[1mINFO    \u001b[0m | \u001b[36mDuncans-MBP.fritz.box\u001b[0m| \u001b[36msuperduper.base.datalayer\u001b[0m:\u001b[36m584 \u001b[0m | \u001b[1mAdding model:embedding:fd3c36cfbfde4e04 to cache\u001b[0m\n",
      "\u001b[32m2025-Jan-13 12:46:08.05\u001b[0m| \u001b[1mINFO    \u001b[0m | \u001b[36mDuncans-MBP.fritz.box\u001b[0m| \u001b[36msuperduper.base.datalayer\u001b[0m:\u001b[36m584 \u001b[0m | \u001b[1mAdding listener:embedding-listener-sample_text_vector_search:13c7d67953a04170 to cache\u001b[0m\n",
      "\u001b[32m2025-Jan-13 12:46:08.05\u001b[0m| \u001b[1mINFO    \u001b[0m | \u001b[36mDuncans-MBP.fritz.box\u001b[0m| \u001b[36msuperduper.base.datalayer\u001b[0m:\u001b[36m584 \u001b[0m | \u001b[1mAdding vector_index:vector-index-sample_text_vector_search:3a06ad54829f4776 to cache\u001b[0m\n",
      "\u001b[32m2025-Jan-13 12:46:08.05\u001b[0m| \u001b[1mINFO    \u001b[0m | \u001b[36mDuncans-MBP.fritz.box\u001b[0m| \u001b[36msuperduper.components.application\u001b[0m:\u001b[36m39  \u001b[0m | \u001b[1mResorting components based on topological order.\u001b[0m\n",
      "\u001b[32m2025-Jan-13 12:46:08.05\u001b[0m| \u001b[1mINFO    \u001b[0m | \u001b[36mDuncans-MBP.fritz.box\u001b[0m| \u001b[36msuperduper.components.application\u001b[0m:\u001b[36m56  \u001b[0m | \u001b[1mNew order of components: ['listener:chunker_sample_text_vector_search:fc9ea0798a1e47e3', 'vector_index:vector-index-sample_text_vector_search:3a06ad54829f4776']\u001b[0m\n",
      "\u001b[32m2025-Jan-13 12:46:08.05\u001b[0m| \u001b[1mINFO    \u001b[0m | \u001b[36mDuncans-MBP.fritz.box\u001b[0m| \u001b[36msuperduper.base.datalayer\u001b[0m:\u001b[36m584 \u001b[0m | \u001b[1mAdding application:text-vector-search-app-sample_text_vector_search:01fa05cfe5af4d85 to cache\u001b[0m\n",
      "\u001b[32m2025-Jan-13 12:46:08.05\u001b[0m| \u001b[1mINFO    \u001b[0m | \u001b[36mDuncans-MBP.fritz.box\u001b[0m| \u001b[36msuperduper.components.component\u001b[0m:\u001b[36m620 \u001b[0m | \u001b[1mAdding application: text-vector-search-app-sample_text_vector_search to cache\u001b[0m\n",
      "\u001b[32m2025-Jan-13 12:46:08.05\u001b[0m| \u001b[33m\u001b[1mWARNING \u001b[0m | \u001b[36mDuncans-MBP.fritz.box\u001b[0m| \u001b[36msuperduper.backends.local.compute\u001b[0m:\u001b[36m52  \u001b[0m | \u001b[33m\u001b[1mCould not release futures for context 01fa05cfe5af4d85\u001b[0m\n",
      "\u001b[32m2025-Jan-13 12:46:08.05\u001b[0m| \u001b[1mINFO    \u001b[0m | \u001b[36mDuncans-MBP.fritz.box\u001b[0m| \u001b[36msuperduper.backends.local.queue\u001b[0m:\u001b[36m120 \u001b[0m | \u001b[1mConsumed all events\u001b[0m\n"
     ]
    }
   ],
   "source": [
    "if APPLY:\n",
    "    db.apply(app, force=True)"
   ]
  },
  {
   "cell_type": "markdown",
   "id": "5da0306b-0969-49ab-95c4-0eb93c39f515",
   "metadata": {},
   "source": [
    "You can now load the model elsewhere and make predictions using the following command."
   ]
  },
  {
   "cell_type": "code",
   "execution_count": 17,
   "id": "bc2f668a-63c4-49ff-a9cc-93d65b500037",
   "metadata": {},
   "outputs": [],
   "source": [
    "search_term = 'tell me about the use of pylance and vector-search'\n",
    "\n",
    "vector_search_query = db[f'_outputs__chunker_{COLLECTION_NAME}'].like(\n",
    "    {f'_outputs__chunker_{COLLECTION_NAME}': search_term},\n",
    "    n=10,\n",
    "    vector_index=vector_index_name,\n",
    ").select()"
   ]
  },
  {
   "cell_type": "code",
   "execution_count": 19,
   "id": "3866a0ab-8e72-4dc4-8a91-9ffe73f17faf",
   "metadata": {},
   "outputs": [
    {
     "name": "stdout",
     "output_type": "stream",
     "text": [
      "\u001b[32m2025-Jan-13 12:46:23.20\u001b[0m| \u001b[33m\u001b[1mWARNING \u001b[0m | \u001b[36mDuncans-MBP.fritz.box\u001b[0m| \u001b[36msuperduper.backends.base.query\u001b[0m:\u001b[36m497 \u001b[0m | \u001b[33m\u001b[1mError in completing UUIDs from cache: 'chunker_sample_text_vector_search'\u001b[0m\n",
      "\u001b[32m2025-Jan-13 12:46:23.20\u001b[0m| \u001b[33m\u001b[1mWARNING \u001b[0m | \u001b[36mDuncans-MBP.fritz.box\u001b[0m| \u001b[36msuperduper.backends.base.query\u001b[0m:\u001b[36m497 \u001b[0m | \u001b[33m\u001b[1mError in completing UUIDs from cache: 'chunker_sample_text_vector_search'\u001b[0m\n",
      "\u001b[32m2025-Jan-13 12:46:23.21\u001b[0m| \u001b[1mINFO    \u001b[0m | \u001b[36mDuncans-MBP.fritz.box\u001b[0m| \u001b[36msuperduper.base.datalayer\u001b[0m:\u001b[36m802 \u001b[0m | \u001b[1mGetting vector-index\u001b[0m\n",
      "\u001b[32m2025-Jan-13 12:46:23.21\u001b[0m| \u001b[1mINFO    \u001b[0m | \u001b[36mDuncans-MBP.fritz.box\u001b[0m| \u001b[36msuperduper.base.datalayer\u001b[0m:\u001b[36m810 \u001b[0m | \u001b[1m{}\u001b[0m\n",
      "\u001b[32m2025-Jan-13 12:46:23.21\u001b[0m| \u001b[1mINFO    \u001b[0m | \u001b[36mDuncans-MBP.fritz.box\u001b[0m| \u001b[36msuperduper.components.model\u001b[0m:\u001b[36m1335\u001b[0m | \u001b[1mPredicting with model openai\u001b[0m\n",
      "[Document({'_outputs__chunker_sample_text_vector_search__fc9ea0798a1e47e3': \"--- sidebar_position: 7 --- # Vector-search Superduper allows users to implement vector-search in their database by either using in-database functionality, or via a sidecar implementation with `lance` and `FastAPI`. ## Philosophy In Superduper, from a user point-of-view vector-search isn't a completely different beast than other ways of using the system: - The vector-preparation is exactly the same as preparing outputs with any model, with the special difference that the outputs are vectors, arrays or tensors. - Vector-searches are just another type of database query which happen to use the stored vectors. ## Algorithm Here is a schematic of how vector-search works: ![](/img/vector-search.png) ## Explanation A vector-search query has the schematic form: ```python table_or_collection .like(Document(<dict-to-search-with>)) # the operand is vectorized using registered models .filter_results(*args, **kwargs) # the results of vector-search are filtered ``` ```python table_or_collection .filter_results(*args, **kwargs) # the results of vector-search are filtered .like(Document(<dict-to-search-with>)) # the operand is vectorized using registered models ``` ...or The type of such a query is a `CompoundSelect`. It's 2 parts are the vector-search part (`like`) and the filtering part (`select`). In the first case, the operand of `like` is dispatched to a **model**, which converts this into a **vector**. The **vector** is compared to\", '_source': ObjectId('6784fcd119d4c1b9dcc1fbe3'), '_fold': 'train', '_id': ObjectId('6784fcd719d4c1b9dcc1fcac'), 'score': 0.7684114776353503}), Document({'_outputs__chunker_sample_text_vector_search__fc9ea0798a1e47e3': '# Setting up vector-search Setting up vector-search involves \"applying\" a `VectorIndex` component to the datalayer `db`. Read [here](../apply_api/vector_index.md) for information about how to do this.', '_source': ObjectId('6784fcd119d4c1b9dcc1fc08'), '_fold': 'train', '_id': ObjectId('6784fcd719d4c1b9dcc1fce2'), 'score': 0.773540619922358}), Document({'_outputs__chunker_sample_text_vector_search__fc9ea0798a1e47e3': \"# Vector-search Superduper aims to provide first-class support for vector-search, including embedding computation in preparation and run-time, as well as executing the fast vector-comparison and returning results in a way compatible with standard database queries. ## Read more ```mdx-code-block import DocCardList from '@theme/DocCardList'; <DocCardList /> ```\", '_source': ObjectId('6784fcd119d4c1b9dcc1fc0a'), '_fold': 'train', '_id': ObjectId('6784fcd719d4c1b9dcc1fce4'), 'score': 0.7492101084688868}), Document({'_outputs__chunker_sample_text_vector_search__fc9ea0798a1e47e3': \"# Vector search queries Vector search queries are built with the `.like` operator. This allows developers to combine standard database with vector-search queries. The philosophy is that developers do not need to convert their inputs into vector's themselves. Rather, this is taken care by the specified [`VectorIndex` component](../apply_api/vector_index). The basic schematic for vector-search queries is: ```python table_or_collection .like(Document(<dict-to-search-with>), vector_index='<my-vector-index>') # the operand is vectorized using registered models .filter_results(*args, **kwargs) # the results of vector-search are filtered ``` ***or...*** ```python table_or_collection .filter_results(*args, **kwargs) # the results of vector-search are filtered .like(Document(<dict-to-search-with>), vector_index='<my-vector-index>') # the operand is vectorized using registered models ``` ## MongoDB ```python from superduper.ext.pillow import pil_image from superduper import Document my_image = PIL.Image.open('test/material/data/test_image.png') q = db['my_collection'].find({'brand': 'Nike'}).like(Document({'img': pil_image(my_image)}), vector_index='<my-vector-index>') results = q.execute() ``` ## SQL ```python t = db['my_table'] t.filter(t.brand == 'Nike').like(Document({'img': pil_image(my_image)})) results = db.execute(q) ```\", '_source': ObjectId('6784fcd119d4c1b9dcc1fc0d'), '_fold': 'train', '_id': ObjectId('6784fcd719d4c1b9dcc1fce7'), 'score': 0.7684180625522918}), Document({'_outputs__chunker_sample_text_vector_search__fc9ea0798a1e47e3': \"# Using a database's native vector search Databases increasingly include their own vector-comparison and search operations (comparing one vector with others). In order to use this, include this configuration in your configuration setup: ```yaml cluster: vector_search: type: native ``` ***or*** ```bash export SUPERDUPER_CLUSTER_VECTOR_SEARCH_TYPE=native ``` If `superduper` detects this configuration, it uses the inbuilt mechanism of your `db.databackend` to perform the vector-comparison. Currently Superduper supports the native implementation of these databases: - MongoDB Atlas More integrations are on the way.\", '_source': ObjectId('6784fcd119d4c1b9dcc1fc12'), '_fold': 'train', '_id': ObjectId('6784fcd719d4c1b9dcc1fcec'), 'score': 0.7577405965464794}), Document({'_outputs__chunker_sample_text_vector_search__fc9ea0798a1e47e3': \"# Sidecar vector-comparison integration For databases which don't have their own vector-search implementation, Superduper offers 2 integrations: - In memory vector-search - Lance vector-search To configure these, add one of the following options to your configuration: ```yaml cluster: vector_search: type: in_memory|lance ``` ***or*** ```bash export SUPERDUPER_CLUSTER_VECTOR_SEARCH_TYPE='in_memory|lance' ``` In this case, whenever a developer executes a vector-search query including `.like`, execution of the similarity and sorting computations of vectors is outsourced to a sidecar implementation which is managed by `superduper`.\", '_source': ObjectId('6784fcd119d4c1b9dcc1fc17'), '_fold': 'train', '_id': ObjectId('6784fcd719d4c1b9dcc1fcf5'), 'score': 0.7740747083993689}), Document({'_outputs__chunker_sample_text_vector_search__fc9ea0798a1e47e3': 'vector in vector search with id and vector.', '_source': ObjectId('6784fcd119d4c1b9dcc1fc5b'), '_fold': 'train', '_id': ObjectId('6784fcd719d4c1b9dcc1fd7c'), 'score': 0.7987755650051955}), Document({'_outputs__chunker_sample_text_vector_search__fc9ea0798a1e47e3': \"db.apply(vector_index, force=True) ``` By applying the RAG model to the database, it will subsequently be accessible for use in other services. ```python from superduper import Application app = Application( f'text-vector-search-app-{COLLECTION_NAME}', components=[ upstream_listener, vector_index, ] ) ``` ```python if APPLY: db.apply(app, force=True) ``` You can now load the model elsewhere and make predictions using the following command. ```python search_term = 'tell me about the use of pylance and vector-search' vector_search_query = db[f'_outputs__chunker_{COLLECTION_NAME}'].like( {f'_outputs__chunker_{COLLECTION_NAME}': search_term}, n=10, vector_index=vector_index_name, ).select() ``` ```python if APPLY: vector_search_query.tolist() ``` ```python from superduper import QueryTemplate, CFG qt = QueryTemplate( 'vector_search', template=vector_search_query, substitutions={ COLLECTION_NAME: 'table_name', search_term: 'search_term', CFG.output_prefix: 'output_prefix', 'mongodb': 'data_backend', }, types={ 'search_term': { 'type': 'str', 'default': 'enter your question here...', }, 'table_name': { 'type': 'str', 'default': 'sample_text_vector_search' }, 'output_prefix': { 'type': 'str', 'default': CFG.output_prefix }, 'data_backend': { 'type': 'mongodb', 'choices': ['mongodb', 'ibis'], 'default': 'mongodb' } } ) ``` ## Create template ```python from superduper import Template, CFG, Table, Schema template = Template( 'text_vector_search', template=app, default_table=Table( 'sample_text_vector_search', data=data, schema=Schema('sample_text_vector_search/schema', fields={'x': 'str'}), ), queries=[qt], substitutions={COLLECTION_NAME: 'table_name', CFG.output_prefix: 'output_prefix', 'mongodb': 'data_backend'}, template_variables=['embedding_model', 'table_name', 'output_prefix', 'data_backend'], types={ 'id_field': { 'type': 'str', 'default': '_id', }, 'embedding_model': { 'type': 'str', 'choices': ['openai', 'sentence_transformers'], 'default': 'openai', }, 'table_name': { 'type': 'str', 'default': 'sample_text_vector_search' },\", '_source': ObjectId('6784fcd119d4c1b9dcc1fc72'), '_fold': 'train', '_id': ObjectId('6784fcd719d4c1b9dcc1fda9'), 'score': 0.7438603105136885}), Document({'_outputs__chunker_sample_text_vector_search__fc9ea0798a1e47e3': 'superduper.components.vector_index import sqlvector output_datatype = sqlvector(shape=(1024,)) ``` Then define two models, one for text embedding and one for image embedding. ```python import clip from superduper import vector, imported from superduper_torch import TorchModel vit = imported(clip.load)(\"ViT-B/32\", device=\\'cpu\\') # Create a TorchModel for text encoding compatible_model = TorchModel( identifier=\\'clip_text\\', object=vit[0], preprocess=lambda x: clip.tokenize(x)[0], postprocess=lambda x: x.tolist(), datatype=output_datatype, forward_method=\\'encode_text\\', ) # Create a TorchModel for visual encoding model = TorchModel( identifier=\\'clip_image\\', object=vit[0].visual, preprocess=vit[1], postprocess=lambda x: x.tolist(), datatype=output_datatype, ) ``` Because we use multimodal models, we define different keys to specify which model to use for embedding calculations in the vector_index. ## Create vector-index ```python from superduper import VectorIndex, Listener vector_index = VectorIndex( \\'my-vector-index\\', indexing_listener=Listener( key=upstream_listener.outputs + \\'.image\\', select=db[upstream_listener.outputs].select(), model=model, identifier=f\\'{model.identifier}-listener\\' ), compatible_listener=Listener( key=\\'text\\', model=compatible_model, select=None, identifier=\\'compatible-listener\\', ), upstream=[upstream_listener], ) ``` ```python if APPLY: db.apply(vector_index) ``` ```python from superduper import Application app = Application( \\'video-search\\', components=[ upstream_listener, vector_index, ] ) ``` ```python if APPLY: db.apply(app) ``` ## Perform a vector search We can perform the vector searches using text description: ```python from superduper import Document item = Document({\\'text\\': \"A single red and a blue player battle for the ball\"}) ``` ```python from superduper import Document item = Document({\\'text\\': \"Some monkeys playing\"}) ``` Once we', '_source': ObjectId('6784fcd119d4c1b9dcc1fc74'), '_fold': 'train', '_id': ObjectId('6784fcd719d4c1b9dcc1fdb1'), 'score': 0.7342224801536652}), Document({'_outputs__chunker_sample_text_vector_search__fc9ea0798a1e47e3': \"have this search target, we can execute a search as follows. ## Visualize Results ```python if APPLY: from IPython.display import display select = db[upstream_listener.outputs].like(item, vector_index='my-vector-index', n=5).select() for result in select.execute(): display(Document(result.unpack())[upstream_listener.outputs + '.image']) ``` ```python from superduper import Template t = Template('video-search-template', template=app, substitutions={'docs': 'content_table'}) ``` ```python t.export('.') ```\", '_source': ObjectId('6784fcd119d4c1b9dcc1fc74'), '_fold': 'train', '_id': ObjectId('6784fcd719d4c1b9dcc1fdb2'), 'score': 0.7448783939029276})]\n"
     ]
    }
   ],
   "source": [
    "if APPLY:\n",
    "    print(vector_search_query.tolist())"
   ]
  },
  {
   "cell_type": "code",
   "execution_count": 21,
   "id": "3ecffe2d-82f2-43cb-ba9e-56d56f1c7412",
   "metadata": {},
   "outputs": [],
   "source": [
    "from superduper import QueryTemplate, CFG\n",
    "\n",
    "qt = QueryTemplate(\n",
    "    'vector_search',\n",
    "    template=vector_search_query,\n",
    "    substitutions={\n",
    "        COLLECTION_NAME: 'table_name',\n",
    "        search_term: 'search_term',\n",
    "        'mongodb': 'data_backend',\n",
    "    },\n",
    "    types={\n",
    "        'search_term': {\n",
    "            'type': 'str',\n",
    "            'default': 'enter your question here...',\n",
    "        },\n",
    "        'table_name': {\n",
    "            'type': 'str',\n",
    "            'default': 'sample_text_vector_search'\n",
    "        },\n",
    "        'data_backend': {\n",
    "            'type': 'mongodb',\n",
    "            'choices': ['mongodb', 'ibis'],\n",
    "            'default': 'mongodb'\n",
    "        }\n",
    "    },\n",
    "    db=db\n",
    ")"
   ]
  },
  {
   "cell_type": "markdown",
   "id": "f42119a4-6aef-46ec-a81d-cbe1167d8710",
   "metadata": {},
   "source": [
    "## Create template"
   ]
  },
  {
   "cell_type": "code",
   "execution_count": 23,
   "id": "2e850c03-33c6-4c88-95d3-d14146a6a0af",
   "metadata": {},
   "outputs": [
    {
     "name": "stdout",
     "output_type": "stream",
     "text": [
      "\u001b[32m2025-Jan-13 12:46:50.73\u001b[0m| \u001b[33m\u001b[1mWARNING \u001b[0m | \u001b[36mDuncans-MBP.fritz.box\u001b[0m| \u001b[36msuperduper.components.listener\u001b[0m:\u001b[36m76  \u001b[0m | \u001b[33m\u001b[1moutput_table not found in listener.dict()\u001b[0m\n",
      "\u001b[32m2025-Jan-13 12:46:50.74\u001b[0m| \u001b[33m\u001b[1mWARNING \u001b[0m | \u001b[36mDuncans-MBP.fritz.box\u001b[0m| \u001b[36msuperduper.components.listener\u001b[0m:\u001b[36m76  \u001b[0m | \u001b[33m\u001b[1moutput_table not found in listener.dict()\u001b[0m\n",
      "\u001b[32m2025-Jan-13 12:46:50.74\u001b[0m| \u001b[33m\u001b[1mWARNING \u001b[0m | \u001b[36mDuncans-MBP.fritz.box\u001b[0m| \u001b[36msuperduper.base.document\u001b[0m:\u001b[36m564 \u001b[0m | \u001b[33m\u001b[1mLeaf listener:chunker_sample_text_vector_search already exists\u001b[0m\n",
      "\u001b[32m2025-Jan-13 12:46:50.74\u001b[0m| \u001b[33m\u001b[1mWARNING \u001b[0m | \u001b[36mDuncans-MBP.fritz.box\u001b[0m| \u001b[36msuperduper.components.listener\u001b[0m:\u001b[36m76  \u001b[0m | \u001b[33m\u001b[1moutput_table not found in listener.dict()\u001b[0m\n",
      "\u001b[32m2025-Jan-13 12:46:50.74\u001b[0m| \u001b[33m\u001b[1mWARNING \u001b[0m | \u001b[36mDuncans-MBP.fritz.box\u001b[0m| \u001b[36msuperduper.base.document\u001b[0m:\u001b[36m564 \u001b[0m | \u001b[33m\u001b[1mLeaf model:chunk_model already exists\u001b[0m\n",
      "\u001b[32m2025-Jan-13 12:46:50.75\u001b[0m| \u001b[33m\u001b[1mWARNING \u001b[0m | \u001b[36mDuncans-MBP.fritz.box\u001b[0m| \u001b[36msuperduper.base.document\u001b[0m:\u001b[36m564 \u001b[0m | \u001b[33m\u001b[1mLeaf str already exists\u001b[0m\n",
      "\u001b[32m2025-Jan-13 12:46:50.75\u001b[0m| \u001b[33m\u001b[1mWARNING \u001b[0m | \u001b[36mDuncans-MBP.fritz.box\u001b[0m| \u001b[36msuperduper.base.document\u001b[0m:\u001b[36m564 \u001b[0m | \u001b[33m\u001b[1mLeaf sample-text-vector-search-select already exists\u001b[0m\n",
      "\u001b[32m2025-Jan-13 12:46:50.75\u001b[0m| \u001b[33m\u001b[1mWARNING \u001b[0m | \u001b[36mDuncans-MBP.fritz.box\u001b[0m| \u001b[36msuperduper.base.document\u001b[0m:\u001b[36m564 \u001b[0m | \u001b[33m\u001b[1mLeaf datatype:vector[1536] already exists\u001b[0m\n"
     ]
    }
   ],
   "source": [
    "from superduper import Template, CFG, Table, Schema\n",
    "from superduper.components.dataset import RemoteData\n",
    "\n",
    "template = Template(\n",
    "    'text_vector_search',\n",
    "    template=app,\n",
    "    default_tables=[Table(\n",
    "        'sample_text_vector_search',\n",
    "        schema=Schema('sample_text_vector_search/schema', fields={'x': 'str'}),\n",
    "        data=RemoteData(\n",
    "            'superduper-docs',\n",
    "            getter=getter,\n",
    "        )\n",
    "    )],\n",
    "    queries=[qt],\n",
    "    substitutions={COLLECTION_NAME: 'table_name', 'mongodb': 'data_backend'},\n",
    "    template_variables=['embedding_model', 'table_name', 'data_backend'],\n",
    "    types={\n",
    "        'embedding_model': {\n",
    "            'type': 'str',\n",
    "            'choices': ['openai', 'sentence_transformers'],\n",
    "            'default': 'openai',\n",
    "        },\n",
    "        'table_name': {\n",
    "            'type': 'str',\n",
    "            'default': 'sample_text_vector_search'\n",
    "        },\n",
    "        'data_backend': {\n",
    "            'type': 'mongodb',\n",
    "            'choices': ['mongodb', 'ibis'],\n",
    "            'default': 'mongodb'\n",
    "        }\n",
    "    },\n",
    "    db=db\n",
    ")"
   ]
  },
  {
   "cell_type": "code",
   "execution_count": 24,
   "id": "8924ba0d-7c01-4d6c-87fb-245531db7506",
   "metadata": {},
   "outputs": [
    {
     "name": "stdout",
     "output_type": "stream",
     "text": [
      "\u001b[32m2025-Jan-13 12:46:52.96\u001b[0m| \u001b[33m\u001b[1mWARNING \u001b[0m | \u001b[36mDuncans-MBP.fritz.box\u001b[0m| \u001b[36msuperduper.base.document\u001b[0m:\u001b[36m564 \u001b[0m | \u001b[33m\u001b[1mLeaf str already exists\u001b[0m\n"
     ]
    }
   ],
   "source": [
    "template.export('.')"
   ]
  }
 ],
 "metadata": {
  "kernelspec": {
   "display_name": "Python 3 (ipykernel)",
   "language": "python",
   "name": "python3"
  },
  "language_info": {
   "codemirror_mode": {
    "name": "ipython",
    "version": 3
   },
   "file_extension": ".py",
   "mimetype": "text/x-python",
   "name": "python",
   "nbconvert_exporter": "python",
   "pygments_lexer": "ipython3",
   "version": "3.10.13"
  }
 },
 "nbformat": 4,
 "nbformat_minor": 5
}
