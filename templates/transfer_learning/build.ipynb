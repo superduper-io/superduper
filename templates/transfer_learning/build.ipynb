{
 "cells": [
  {
   "cell_type": "markdown",
   "id": "c288025e-2326-4e8b-ab52-6fb8a5f9560f",
   "metadata": {},
   "source": [
    "# Transfer learning"
   ]
  },
  {
   "cell_type": "code",
   "execution_count": null,
   "id": "31135e11-42f2-4ca7-b2ed-491eb7d074ae",
   "metadata": {
    "editable": true,
    "slideshow": {
     "slide_type": ""
    },
    "tags": [
     "parameters"
    ]
   },
   "outputs": [],
   "source": [
    "APPLY = True\n",
    "EAGER = False\n",
    "COLLECTION_NAME = '<var:table_name>' if not APPLY else 'sample_transfer_learning'\n",
    "MODALITY = 'text'"
   ]
  },
  {
   "cell_type": "code",
   "execution_count": null,
   "id": "cb029a5e-fedf-4f07-8a31-d220cfbfbb3d",
   "metadata": {},
   "outputs": [],
   "source": [
    "from superduper import superduper, CFG\n",
    "\n",
    "db = superduper('mongomock://test_db')"
   ]
  },
  {
   "cell_type": "markdown",
   "id": "032c2e7b-3f54-4263-b778-0fef60596efb",
   "metadata": {},
   "source": [
    "<!-- TABS -->\n",
    "## Get useful sample data"
   ]
  },
  {
   "cell_type": "code",
   "execution_count": null,
   "id": "547751e5",
   "metadata": {},
   "outputs": [],
   "source": [
    "def getter():\n",
    "    import json\n",
    "    import random\n",
    "    import subprocess\n",
    "\n",
    "    subprocess.run([\n",
    "        'curl', '-O', 'https://superduperdb-public-demo.s3.amazonaws.com/text_classification.json',\n",
    "    ])\n",
    "    with open(\"text_classification.json\", \"r\") as f:\n",
    "        data = json.load(f)\n",
    "    subprocess.run(['rm', 'text_classification.json'])\n",
    "    data = data[:200]\n",
    "    def fold(): return {True: 'valid', False: 'train'}[random.random() < 0.1]\n",
    "    data = [{**r, '_fold': fold()} for r in data]\n",
    "    return data"
   ]
  },
  {
   "cell_type": "markdown",
   "id": "eedb0bc4-826f-43fe-bd34-869bf69f2db0",
   "metadata": {},
   "source": [
    "After obtaining the data, we insert it into the database."
   ]
  },
  {
   "cell_type": "markdown",
   "id": "944ebee5",
   "metadata": {},
   "source": [
    "<!-- TABS -->\n",
    "## Insert simple data\n",
    "\n",
    "After turning on auto_schema, we can directly insert data, and superduper will automatically analyze the data type, and match the construction of the table and datatype."
   ]
  },
  {
   "cell_type": "code",
   "execution_count": null,
   "id": "64d0f3b5",
   "metadata": {},
   "outputs": [],
   "source": [
    "if APPLY:\n",
    "    data = getter()\n",
    "    from superduper import Table\n",
    "\n",
    "    db.apply(\n",
    "        Table(\n",
    "            COLLECTION_NAME,\n",
    "            fields={'x': 'str', 'y': 'int'},\n",
    "        ),\n",
    "        force=True,\n",
    "    )\n",
    "    \n",
    "    ids = db[COLLECTION_NAME].insert(data)"
   ]
  },
  {
   "cell_type": "markdown",
   "id": "9e703b58-a46d-4b1f-98fd-f50d46b168fe",
   "metadata": {},
   "source": [
    "<!-- TABS -->\n",
    "## Compute features"
   ]
  },
  {
   "cell_type": "code",
   "execution_count": null,
   "id": "ae2e1588-fec8-45a6-b678-fef05fc7b57f",
   "metadata": {},
   "outputs": [],
   "source": [
    "import sentence_transformers\n",
    "from superduper import Listener\n",
    "from superduper_sentence_transformers import SentenceTransformer\n",
    "\n",
    "\n",
    "embedding = SentenceTransformer(\n",
    "    identifier=\"embedding\",\n",
    "    model='all-MiniLM-L6-v2',\n",
    "    postprocess=lambda x: x.tolist(),\n",
    ")"
   ]
  },
  {
   "cell_type": "code",
   "execution_count": null,
   "id": "4e4b0c27-d78c-4f2d-a45f-0ebd08cb2d61",
   "metadata": {},
   "outputs": [],
   "source": [
    "feature_extractor_listener = Listener(\n",
    "    model=embedding,\n",
    "    select=db[COLLECTION_NAME],\n",
    "    key='x',\n",
    "    identifier=\"features\"\n",
    ")\n",
    "\n",
    "if APPLY and EAGER:\n",
    "    feature_extractor_listener = db.apply(\n",
    "        feature_extractor_listener,\n",
    "        force=True,\n",
    "    )"
   ]
  },
  {
   "cell_type": "markdown",
   "id": "c2da0ab6-8fc0-41fc-b8c9-0f8a127d9e8d",
   "metadata": {},
   "source": [
    "<!-- TABS -->\n",
    "## Build and train classifier"
   ]
  },
  {
   "cell_type": "code",
   "execution_count": null,
   "id": "d3b94fca-3a0b-433f-88cf-aab5b71b8596",
   "metadata": {},
   "outputs": [],
   "source": [
    "from superduper_sklearn import Estimator, SklearnTrainer\n",
    "from sklearn.svm import SVC\n",
    "\n",
    "\n",
    "scikit_model = Estimator(\n",
    "    identifier=\"my-model-scikit\",\n",
    "    object=SVC(),\n",
    "    trainer=SklearnTrainer(\n",
    "        \"my-scikit-trainer\",\n",
    "        key=(feature_extractor_listener.outputs, \"y\"),\n",
    "        select=db[COLLECTION_NAME].outputs(feature_extractor_listener.predict_id),\n",
    "    ),\n",
    "    upstream=[feature_extractor_listener],\n",
    ")"
   ]
  },
  {
   "cell_type": "markdown",
   "id": "1af37887-59bc-4e13-b3b1-fee7d6108473",
   "metadata": {},
   "source": [
    "Define a validation for evaluating the effect after training."
   ]
  },
  {
   "cell_type": "code",
   "execution_count": null,
   "id": "94fb7506-2abc-41fe-b259-8c4922d79516",
   "metadata": {},
   "outputs": [],
   "source": [
    "from superduper import Dataset, Metric, Validation\n",
    "\n",
    "def acc(x, y):\n",
    "    return sum([xx == yy for xx, yy in zip(x, y)]) / len(x)\n",
    "\n",
    "accuracy = Metric(identifier=\"acc\", object=acc)\n",
    "\n",
    "t = db[COLLECTION_NAME]\n",
    "select = t.filter(t['_fold'] == 'valid').outputs(feature_extractor_listener.predict_id)\n",
    "\n",
    "validation = Validation(\n",
    "    \"transfer_learning_performance\",\n",
    "    key=(feature_extractor_listener.outputs, \"y\"),\n",
    "    datasets=[\n",
    "        Dataset(\n",
    "            identifier=\"my-valid\",\n",
    "            select=select,\n",
    "        )\n",
    "    ],\n",
    "    metrics=[accuracy],\n",
    ")\n",
    "scikit_model.validation = validation"
   ]
  },
  {
   "cell_type": "markdown",
   "id": "513478b1-2736-4fa5-bc2a-6fdb9c8e232d",
   "metadata": {},
   "source": [
    "If we execute the apply function, then the model will be added to the database, and because the model has a Trainer, it will perform training."
   ]
  },
  {
   "cell_type": "code",
   "execution_count": null,
   "id": "79a39054-aef2-480a-a57e-7180914e6f7f",
   "metadata": {},
   "outputs": [],
   "source": [
    "if APPLY and EAGER:\n",
    "    db.apply(scikit_model, force=True)"
   ]
  },
  {
   "cell_type": "markdown",
   "id": "52ab9838-9e5e-4402-a572-bd8339020963",
   "metadata": {},
   "source": [
    "Get the training metrics"
   ]
  },
  {
   "cell_type": "code",
   "execution_count": null,
   "id": "6d3ac98a-88d9-4812-a715-cfc62c5efe20",
   "metadata": {},
   "outputs": [],
   "source": [
    "from superduper import Application\n",
    "\n",
    "application = Application(\n",
    "    identifier='transfer-learning',\n",
    "    components=[feature_extractor_listener, scikit_model],\n",
    ")"
   ]
  },
  {
   "cell_type": "code",
   "execution_count": null,
   "id": "c22b4b2e-30cc-494b-bb48-e7140fd219d5",
   "metadata": {},
   "outputs": [],
   "source": [
    "if APPLY:\n",
    "    db.apply(application, force=True)"
   ]
  },
  {
   "cell_type": "code",
   "execution_count": null,
   "id": "b7478a2a-3071-4d71-9ab8-95d7d7dd3d32",
   "metadata": {},
   "outputs": [],
   "source": [
    "if APPLY:\n",
    "    model = db.load('Estimator', 'my-model-scikit')\n",
    "    print(model.metric_values)"
   ]
  },
  {
   "cell_type": "code",
   "execution_count": null,
   "id": "00e5cd40-d5f5-4408-8f3b-857f1d4dd81e",
   "metadata": {},
   "outputs": [],
   "source": [
    "from superduper import Template, Table, Schema\n",
    "from superduper.components.dataset import RemoteData\n",
    "\n",
    "t = Template(\n",
    "    'transfer_learning',\n",
    "    default_tables=[Table(\n",
    "        'sample_transfer_learning',\n",
    "        fields={'x': 'str', 'y': 'int'},\n",
    "        data=RemoteData(\n",
    "            'text_classification',\n",
    "            getter=getter,\n",
    "        ),\n",
    "    )],\n",
    "    template=application,\n",
    "    substitutions={'docs': 'table_name', 'text': 'modality'},\n",
    "    template_variables=['table_name', 'framework', 'modality'],\n",
    "    types={\n",
    "        'table_name': {\n",
    "            'type': 'str',\n",
    "            'default': 'sample_transfer_learning',\n",
    "        },\n",
    "        'modality': {\n",
    "            'type': 'str',\n",
    "            'default': 'text',\n",
    "        },\n",
    "        'framework': {\n",
    "            'type': 'str',\n",
    "            'default': 'scikit-framework',\n",
    "        },\n",
    "    },\n",
    "    db=db\n",
    ")"
   ]
  },
  {
   "cell_type": "code",
   "execution_count": null,
   "id": "d9c5253f-7b62-4a49-bbe4-b102375e6039",
   "metadata": {},
   "outputs": [],
   "source": [
    "t.export('.')"
   ]
  }
 ],
 "metadata": {
  "kernelspec": {
   "display_name": "Python 3 (ipykernel)",
   "language": "python",
   "name": "python3"
  },
  "language_info": {
   "codemirror_mode": {
    "name": "ipython",
    "version": 3
   },
   "file_extension": ".py",
   "mimetype": "text/x-python",
   "name": "python",
   "nbconvert_exporter": "python",
   "pygments_lexer": "ipython3",
   "version": "3.10.13"
  }
 },
 "nbformat": 4,
 "nbformat_minor": 5
}
