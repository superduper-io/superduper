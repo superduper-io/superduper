{
 "cells": [
  {
   "cell_type": "markdown",
   "id": "38c1a328-fd86-4c5f-bd54-b8664f433608",
   "metadata": {},
   "source": [
    "# Retrieval augmented generation"
   ]
  },
  {
   "cell_type": "markdown",
   "id": "32f8484d-2e35-472a-9b24-1a30ec1d144b",
   "metadata": {},
   "source": [
    "<!-- TABS -->\n",
    "## Connect to superduper"
   ]
  },
  {
   "cell_type": "markdown",
   "id": "06d66021-ce62-4021-a2c5-158dee92b3bb",
   "metadata": {},
   "source": [
    ":::note\n",
    "Note that this is only relevant if you are running superduper in development mode.\n",
    "Otherwise refer to \"Configuring your production system\".\n",
    ":::"
   ]
  },
  {
   "cell_type": "code",
   "execution_count": 1,
   "id": "3ef70f6d-a189-460a-8864-241a689624e2",
   "metadata": {
    "editable": true,
    "slideshow": {
     "slide_type": ""
    },
    "tags": [
     "parameters"
    ]
   },
   "outputs": [],
   "source": [
    "APPLY = True\n",
    "COLLECTION_NAME = '<var:table_name>' if not APPLY else 'sample_rag'\n",
    "ID_FIELD = '<var:id_field>' if not APPLY else 'id'"
   ]
  },
  {
   "cell_type": "code",
   "execution_count": 2,
   "id": "cb029a5e-fedf-4f07-8a31-d220cfbfbb3d",
   "metadata": {},
   "outputs": [
    {
     "name": "stdout",
     "output_type": "stream",
     "text": [
      "\u001b[32m2025-Jan-13 12:30:50.28\u001b[0m| \u001b[1mINFO    \u001b[0m | \u001b[36mDuncans-MBP.fritz.box\u001b[0m| \u001b[36msuperduper.misc.plugins\u001b[0m:\u001b[36m13  \u001b[0m | \u001b[1mLoading plugin: mongodb\u001b[0m\n",
      "\u001b[32m2025-Jan-13 12:30:50.35\u001b[0m| \u001b[1mINFO    \u001b[0m | \u001b[36mDuncans-MBP.fritz.box\u001b[0m| \u001b[36msuperduper.base.datalayer\u001b[0m:\u001b[36m64  \u001b[0m | \u001b[1mBuilding Data Layer\u001b[0m\n",
      "\u001b[32m2025-Jan-13 12:30:50.35\u001b[0m| \u001b[1mINFO    \u001b[0m | \u001b[36mDuncans-MBP.fritz.box\u001b[0m| \u001b[36msuperduper.base.datalayer\u001b[0m:\u001b[36m79  \u001b[0m | \u001b[1mData Layer built\u001b[0m\n",
      "\u001b[32m2025-Jan-13 12:30:50.35\u001b[0m| \u001b[1mINFO    \u001b[0m | \u001b[36mDuncans-MBP.fritz.box\u001b[0m| \u001b[36msuperduper.backends.base.cluster\u001b[0m:\u001b[36m99  \u001b[0m | \u001b[1mCluster initialized in 0.00 seconds.\u001b[0m\n",
      "\u001b[32m2025-Jan-13 12:30:50.35\u001b[0m| \u001b[1mINFO    \u001b[0m | \u001b[36mDuncans-MBP.fritz.box\u001b[0m| \u001b[36msuperduper.base.build\u001b[0m:\u001b[36m184 \u001b[0m | \u001b[1mConfiguration: \n",
      " +---------------+---------------------+\n",
      "| Configuration |        Value        |\n",
      "+---------------+---------------------+\n",
      "|  Data Backend | mongomock://test_db |\n",
      "+---------------+---------------------+\u001b[0m\n"
     ]
    }
   ],
   "source": [
    "from superduper import superduper, CFG\n",
    "\n",
    "CFG.bytes_encoding = 'str'\n",
    "CFG.json_native = False\n",
    "\n",
    "db = superduper('mongomock://test_db')"
   ]
  },
  {
   "cell_type": "code",
   "execution_count": 3,
   "id": "ceccbac5-3ad5-4083-8e46-17d9ddaa1747",
   "metadata": {},
   "outputs": [],
   "source": [
    "import json\n",
    "import requests\n",
    "import io\n",
    "\n",
    "def getter():\n",
    "    response = requests.get('https://superduperdb-public-demo.s3.amazonaws.com/text.json')\n",
    "    data = json.loads(response.content.decode('utf-8'))\n",
    "    return [{'x': r} for r in data]"
   ]
  },
  {
   "cell_type": "code",
   "execution_count": 4,
   "id": "7130214e-2d7e-4fd8-9057-5b417a4503c5",
   "metadata": {},
   "outputs": [],
   "source": [
    "if APPLY:\n",
    "    data = getter()"
   ]
  },
  {
   "cell_type": "markdown",
   "id": "9ede8ae1",
   "metadata": {},
   "source": [
    "<!-- TABS -->\n",
    "## Insert simple data\n",
    "\n",
    "After turning on auto_schema, we can directly insert data, and superduper will automatically analyze the data type, and match the construction of the table and datatype."
   ]
  },
  {
   "cell_type": "code",
   "execution_count": 5,
   "id": "c5965fdf",
   "metadata": {},
   "outputs": [
    {
     "name": "stdout",
     "output_type": "stream",
     "text": [
      "\u001b[32m2025-Jan-13 12:30:51.37\u001b[0m| \u001b[1mINFO    \u001b[0m | \u001b[36mDuncans-MBP.fritz.box\u001b[0m| \u001b[36msuperduper.base.datalayer\u001b[0m:\u001b[36m593 \u001b[0m | \u001b[1mComponent (table, sample_rag) not found in cache, loading from db\u001b[0m\n",
      "\u001b[32m2025-Jan-13 12:30:51.37\u001b[0m| \u001b[1mINFO    \u001b[0m | \u001b[36mDuncans-MBP.fritz.box\u001b[0m| \u001b[36msuperduper.base.datalayer\u001b[0m:\u001b[36m599 \u001b[0m | \u001b[1mLoad (('table', 'sample_rag')) from metadata...\u001b[0m\n",
      "\u001b[32m2025-Jan-13 12:30:51.37\u001b[0m| \u001b[1mINFO    \u001b[0m | \u001b[36mDuncans-MBP.fritz.box\u001b[0m| \u001b[36msuperduper.base.datalayer\u001b[0m:\u001b[36m331 \u001b[0m | \u001b[1mTable sample_rag does not exist, auto creating...\u001b[0m\n",
      "\u001b[32m2025-Jan-13 12:30:51.89\u001b[0m| \u001b[33m\u001b[1mWARNING \u001b[0m | \u001b[36mDuncans-MBP.fritz.box\u001b[0m| \u001b[36msuperduper.misc.annotations\u001b[0m:\u001b[36m296 \u001b[0m | \u001b[33m\u001b[1m`superduper.ext.torch` is deprecated and will be removed in a future release. Please insteall `superduper_torch` and use `from superduper_torch import *` instead.\u001b[0m\n",
      "\u001b[32m2025-Jan-13 12:30:51.90\u001b[0m| \u001b[33m\u001b[1mWARNING \u001b[0m | \u001b[36mDuncans-MBP.fritz.box\u001b[0m| \u001b[36msuperduper.misc.annotations\u001b[0m:\u001b[36m296 \u001b[0m | \u001b[33m\u001b[1m`superduper.ext.pillow` is deprecated and will be removed in a future release. Please insteall `superduper_pillow` and use `from superduper_pillow import *` instead.\u001b[0m\n",
      "\u001b[32m2025-Jan-13 12:30:51.90\u001b[0m| \u001b[1mINFO    \u001b[0m | \u001b[36mDuncans-MBP.fritz.box\u001b[0m| \u001b[36msuperduper.base.datalayer\u001b[0m:\u001b[36m337 \u001b[0m | \u001b[1mCreating table sample_rag with schema {('_fold', 'str'), ('x', 'str')}\u001b[0m\n",
      "\u001b[32m2025-Jan-13 12:30:51.90\u001b[0m| \u001b[33m\u001b[1mWARNING \u001b[0m | \u001b[36mDuncans-MBP.fritz.box\u001b[0m| \u001b[36msuperduper.base.document\u001b[0m:\u001b[36m564 \u001b[0m | \u001b[33m\u001b[1mLeaf str already exists\u001b[0m\n",
      "\u001b[32m2025-Jan-13 12:30:51.90\u001b[0m| \u001b[1mINFO    \u001b[0m | \u001b[36mDuncans-MBP.fritz.box\u001b[0m| \u001b[36msuperduper.base.datalayer\u001b[0m:\u001b[36m593 \u001b[0m | \u001b[1mComponent (schema, AUTO-_fold=<class 'str'>&x=<class 'str'>) not found in cache, loading from db\u001b[0m\n",
      "\u001b[32m2025-Jan-13 12:30:51.90\u001b[0m| \u001b[1mINFO    \u001b[0m | \u001b[36mDuncans-MBP.fritz.box\u001b[0m| \u001b[36msuperduper.base.datalayer\u001b[0m:\u001b[36m599 \u001b[0m | \u001b[1mLoad (('schema', \"AUTO-_fold=<class 'str'>&x=<class 'str'>\")) from metadata...\u001b[0m\n",
      "\u001b[32m2025-Jan-13 12:30:51.90\u001b[0m| \u001b[33m\u001b[1mWARNING \u001b[0m | \u001b[36mDuncans-MBP.fritz.box\u001b[0m| \u001b[36msuperduper.base.document\u001b[0m:\u001b[36m564 \u001b[0m | \u001b[33m\u001b[1mLeaf str already exists\u001b[0m\n",
      "\u001b[32m2025-Jan-13 12:30:51.90\u001b[0m| \u001b[1mINFO    \u001b[0m | \u001b[36mDuncans-MBP.fritz.box\u001b[0m| \u001b[36msuperduper.base.apply\u001b[0m:\u001b[36m359 \u001b[0m | \u001b[1mFound new schema:AUTO-_fold=<class 'str'>&x=<class 'str'>:8544b2c033954acc\u001b[0m\n",
      "\u001b[32m2025-Jan-13 12:30:51.90\u001b[0m| \u001b[1mINFO    \u001b[0m | \u001b[36mDuncans-MBP.fritz.box\u001b[0m| \u001b[36msuperduper.base.datalayer\u001b[0m:\u001b[36m593 \u001b[0m | \u001b[1mComponent (table, sample_rag) not found in cache, loading from db\u001b[0m\n",
      "\u001b[32m2025-Jan-13 12:30:51.90\u001b[0m| \u001b[1mINFO    \u001b[0m | \u001b[36mDuncans-MBP.fritz.box\u001b[0m| \u001b[36msuperduper.base.datalayer\u001b[0m:\u001b[36m599 \u001b[0m | \u001b[1mLoad (('table', 'sample_rag')) from metadata...\u001b[0m\n",
      "\u001b[32m2025-Jan-13 12:30:51.90\u001b[0m| \u001b[1mINFO    \u001b[0m | \u001b[36mDuncans-MBP.fritz.box\u001b[0m| \u001b[36msuperduper.base.apply\u001b[0m:\u001b[36m359 \u001b[0m | \u001b[1mFound new table:sample_rag:18a6c1021d324b7c\u001b[0m\n",
      "\u001b[32m2025-Jan-13 12:30:51.90\u001b[0m| \u001b[1mINFO    \u001b[0m | \u001b[36mDuncans-MBP.fritz.box\u001b[0m| \u001b[36msuperduper.base.apply\u001b[0m:\u001b[36m79  \u001b[0m | \u001b[1mFound these changes and/ or additions that need to be made:\u001b[0m\n",
      "\u001b[32m2025-Jan-13 12:30:51.90\u001b[0m| \u001b[1mINFO    \u001b[0m | \u001b[36mDuncans-MBP.fritz.box\u001b[0m| \u001b[36msuperduper.base.apply\u001b[0m:\u001b[36m81  \u001b[0m | \u001b[1m----------------------------------------------------------------------------------------------------\u001b[0m\n",
      "\u001b[32m2025-Jan-13 12:30:51.90\u001b[0m| \u001b[1mINFO    \u001b[0m | \u001b[36mDuncans-MBP.fritz.box\u001b[0m| \u001b[36msuperduper.base.apply\u001b[0m:\u001b[36m82  \u001b[0m | \u001b[1mMETADATA EVENTS:\u001b[0m\n",
      "\u001b[32m2025-Jan-13 12:30:51.90\u001b[0m| \u001b[1mINFO    \u001b[0m | \u001b[36mDuncans-MBP.fritz.box\u001b[0m| \u001b[36msuperduper.base.apply\u001b[0m:\u001b[36m83  \u001b[0m | \u001b[1m----------------------------------------------------------------------------------------------------\u001b[0m\n",
      "\u001b[32m2025-Jan-13 12:30:51.90\u001b[0m| \u001b[1mINFO    \u001b[0m | \u001b[36mDuncans-MBP.fritz.box\u001b[0m| \u001b[36msuperduper.base.apply\u001b[0m:\u001b[36m90  \u001b[0m | \u001b[1m[0]: schema:AUTO-_fold=<class 'str'>&x=<class 'str'>:8544b2c033954acc: create ~ [1]\u001b[0m\n",
      "\u001b[32m2025-Jan-13 12:30:51.90\u001b[0m| \u001b[1mINFO    \u001b[0m | \u001b[36mDuncans-MBP.fritz.box\u001b[0m| \u001b[36msuperduper.base.apply\u001b[0m:\u001b[36m94  \u001b[0m | \u001b[1m[1]: table:sample_rag:18a6c1021d324b7c: create\u001b[0m\n",
      "\u001b[32m2025-Jan-13 12:30:51.90\u001b[0m| \u001b[1mINFO    \u001b[0m | \u001b[36mDuncans-MBP.fritz.box\u001b[0m| \u001b[36msuperduper.base.apply\u001b[0m:\u001b[36m96  \u001b[0m | \u001b[1m----------------------------------------------------------------------------------------------------\u001b[0m\n",
      "\u001b[32m2025-Jan-13 12:30:51.90\u001b[0m| \u001b[1mINFO    \u001b[0m | \u001b[36mDuncans-MBP.fritz.box\u001b[0m| \u001b[36msuperduper.base.apply\u001b[0m:\u001b[36m97  \u001b[0m | \u001b[1mJOBS EVENTS:\u001b[0m\n",
      "\u001b[32m2025-Jan-13 12:30:51.90\u001b[0m| \u001b[1mINFO    \u001b[0m | \u001b[36mDuncans-MBP.fritz.box\u001b[0m| \u001b[36msuperduper.base.apply\u001b[0m:\u001b[36m98  \u001b[0m | \u001b[1m----------------------------------------------------------------------------------------------------\u001b[0m\n",
      "\u001b[32m2025-Jan-13 12:30:51.90\u001b[0m| \u001b[1mINFO    \u001b[0m | \u001b[36mDuncans-MBP.fritz.box\u001b[0m| \u001b[36msuperduper.base.apply\u001b[0m:\u001b[36m102 \u001b[0m | \u001b[1mNo job events...\u001b[0m\n",
      "\u001b[32m2025-Jan-13 12:30:51.90\u001b[0m| \u001b[1mINFO    \u001b[0m | \u001b[36mDuncans-MBP.fritz.box\u001b[0m| \u001b[36msuperduper.base.apply\u001b[0m:\u001b[36m113 \u001b[0m | \u001b[1m----------------------------------------------------------------------------------------------------\u001b[0m\n",
      "\u001b[32m2025-Jan-13 12:30:51.90\u001b[0m| \u001b[1mINFO    \u001b[0m | \u001b[36mDuncans-MBP.fritz.box\u001b[0m| \u001b[36msuperduper.base.datalayer\u001b[0m:\u001b[36m562 \u001b[0m | \u001b[1mComponent 8544b2c033954acc not found in cache, loading from db with uuid\u001b[0m\n",
      "\u001b[32m2025-Jan-13 12:30:51.90\u001b[0m| \u001b[1mINFO    \u001b[0m | \u001b[36mDuncans-MBP.fritz.box\u001b[0m| \u001b[36msuperduper.base.datalayer\u001b[0m:\u001b[36m584 \u001b[0m | \u001b[1mAdding schema:AUTO-_fold=<class 'str'>&x=<class 'str'>:8544b2c033954acc to cache\u001b[0m\n",
      "\u001b[32m2025-Jan-13 12:30:51.90\u001b[0m| \u001b[1mINFO    \u001b[0m | \u001b[36mDuncans-MBP.fritz.box\u001b[0m| \u001b[36msuperduper.components.component\u001b[0m:\u001b[36m620 \u001b[0m | \u001b[1mAdding schema: AUTO-_fold=<class 'str'>&x=<class 'str'> to cache\u001b[0m\n",
      "\u001b[32m2025-Jan-13 12:30:51.90\u001b[0m| \u001b[1mINFO    \u001b[0m | \u001b[36mDuncans-MBP.fritz.box\u001b[0m| \u001b[36msuperduper.base.datalayer\u001b[0m:\u001b[36m562 \u001b[0m | \u001b[1mComponent 18a6c1021d324b7c not found in cache, loading from db with uuid\u001b[0m\n",
      "\u001b[32m2025-Jan-13 12:30:51.90\u001b[0m| \u001b[1mINFO    \u001b[0m | \u001b[36mDuncans-MBP.fritz.box\u001b[0m| \u001b[36msuperduper.base.datalayer\u001b[0m:\u001b[36m584 \u001b[0m | \u001b[1mAdding table:sample_rag:18a6c1021d324b7c to cache\u001b[0m\n",
      "\u001b[32m2025-Jan-13 12:30:51.90\u001b[0m| \u001b[33m\u001b[1mWARNING \u001b[0m | \u001b[36mDuncans-MBP.fritz.box\u001b[0m| \u001b[36msuperduper.backends.local.compute\u001b[0m:\u001b[36m52  \u001b[0m | \u001b[33m\u001b[1mCould not release futures for context 18a6c1021d324b7c\u001b[0m\n",
      "\u001b[32m2025-Jan-13 12:30:51.90\u001b[0m| \u001b[1mINFO    \u001b[0m | \u001b[36mDuncans-MBP.fritz.box\u001b[0m| \u001b[36msuperduper.backends.local.queue\u001b[0m:\u001b[36m120 \u001b[0m | \u001b[1mConsumed all events\u001b[0m\n",
      "\u001b[32m2025-Jan-13 12:30:51.94\u001b[0m| \u001b[1mINFO    \u001b[0m | \u001b[36mDuncans-MBP.fritz.box\u001b[0m| \u001b[36msuperduper.base.datalayer\u001b[0m:\u001b[36m310 \u001b[0m | \u001b[1mInserted 187 documents into sample_rag\u001b[0m\n"
     ]
    }
   ],
   "source": [
    "if APPLY:\n",
    "    from superduper import Document\n",
    "    ids = db.execute(db[COLLECTION_NAME].insert([Document(r) for r in data]))"
   ]
  },
  {
   "cell_type": "markdown",
   "id": "54fea927-ee4a-44cd-aaf2-634b574c316d",
   "metadata": {},
   "source": [
    "<!-- TABS -->\n",
    "## Apply a chunker for search"
   ]
  },
  {
   "cell_type": "markdown",
   "id": "06d90bda-e8c4-494e-a38c-837fb63689ae",
   "metadata": {},
   "source": [
    ":::note\n",
    "Note that applying a chunker is ***not*** mandatory for search.\n",
    "If your data is already chunked (e.g. short text snippets or audio) or if you\n",
    "are searching through something like images, which can't be chunked, then this\n",
    "won't be necessary.\n",
    ":::"
   ]
  },
  {
   "cell_type": "code",
   "execution_count": 6,
   "id": "2d20eaa0-a416-4483-938e-23f79845739a",
   "metadata": {},
   "outputs": [],
   "source": [
    "from superduper import Model\n",
    "\n",
    "\n",
    "class Chunker(Model):\n",
    "    chunk_size: int = 200\n",
    "    signature: str = 'singleton'\n",
    "\n",
    "    def predict(self, text):\n",
    "        text = text.split()\n",
    "        chunks = [' '.join(text[i:i + self.chunk_size]) for i in range(0, len(text), self.chunk_size)]\n",
    "        return chunks"
   ]
  },
  {
   "cell_type": "markdown",
   "id": "b33a16f9-3bac-45bb-80ac-3ccf265dce5f",
   "metadata": {},
   "source": [
    "Now we apply this chunker to the data by wrapping the chunker in `Listener`:"
   ]
  },
  {
   "cell_type": "code",
   "execution_count": 7,
   "id": "93d21872-d4dc-40dc-abab-fb07ba102ea3",
   "metadata": {},
   "outputs": [],
   "source": [
    "from superduper import Listener\n",
    "\n",
    "\n",
    "upstream_listener = Listener(\n",
    "    model=Chunker(identifier='chunker'),\n",
    "    select=db[COLLECTION_NAME].select(ID_FIELD, 'x'),\n",
    "    key='x',\n",
    "    identifier='chunker',\n",
    "    flatten=True,\n",
    ")"
   ]
  },
  {
   "cell_type": "code",
   "execution_count": 8,
   "id": "31900eec-b516-4bef-939e-2e8f46252b12",
   "metadata": {},
   "outputs": [
    {
     "name": "stdout",
     "output_type": "stream",
     "text": [
      "\u001b[32m2025-Jan-13 12:30:51.95\u001b[0m| \u001b[33m\u001b[1mWARNING \u001b[0m | \u001b[36mDuncans-MBP.fritz.box\u001b[0m| \u001b[36msuperduper.components.listener\u001b[0m:\u001b[36m76  \u001b[0m | \u001b[33m\u001b[1moutput_table not found in listener.dict()\u001b[0m\n",
      "\u001b[32m2025-Jan-13 12:30:51.96\u001b[0m| \u001b[1mINFO    \u001b[0m | \u001b[36mDuncans-MBP.fritz.box\u001b[0m| \u001b[36msuperduper.base.datalayer\u001b[0m:\u001b[36m593 \u001b[0m | \u001b[1mComponent (model, chunker) not found in cache, loading from db\u001b[0m\n",
      "\u001b[32m2025-Jan-13 12:30:51.96\u001b[0m| \u001b[1mINFO    \u001b[0m | \u001b[36mDuncans-MBP.fritz.box\u001b[0m| \u001b[36msuperduper.base.datalayer\u001b[0m:\u001b[36m599 \u001b[0m | \u001b[1mLoad (('model', 'chunker')) from metadata...\u001b[0m\n",
      "\u001b[32m2025-Jan-13 12:30:51.96\u001b[0m| \u001b[1mINFO    \u001b[0m | \u001b[36mDuncans-MBP.fritz.box\u001b[0m| \u001b[36msuperduper.base.apply\u001b[0m:\u001b[36m359 \u001b[0m | \u001b[1mFound new model:chunker:db30a0cd385740f3\u001b[0m\n",
      "\u001b[32m2025-Jan-13 12:30:51.96\u001b[0m| \u001b[1mINFO    \u001b[0m | \u001b[36mDuncans-MBP.fritz.box\u001b[0m| \u001b[36msuperduper.base.datalayer\u001b[0m:\u001b[36m593 \u001b[0m | \u001b[1mComponent (listener, chunker) not found in cache, loading from db\u001b[0m\n",
      "\u001b[32m2025-Jan-13 12:30:51.96\u001b[0m| \u001b[1mINFO    \u001b[0m | \u001b[36mDuncans-MBP.fritz.box\u001b[0m| \u001b[36msuperduper.base.datalayer\u001b[0m:\u001b[36m599 \u001b[0m | \u001b[1mLoad (('listener', 'chunker')) from metadata...\u001b[0m\n",
      "\u001b[32m2025-Jan-13 12:30:51.96\u001b[0m| \u001b[1mINFO    \u001b[0m | \u001b[36mDuncans-MBP.fritz.box\u001b[0m| \u001b[36msuperduper.base.datalayer\u001b[0m:\u001b[36m593 \u001b[0m | \u001b[1mComponent (schema, _schema/_outputs__chunker__c287b7208d19494e) not found in cache, loading from db\u001b[0m\n",
      "\u001b[32m2025-Jan-13 12:30:51.96\u001b[0m| \u001b[1mINFO    \u001b[0m | \u001b[36mDuncans-MBP.fritz.box\u001b[0m| \u001b[36msuperduper.base.datalayer\u001b[0m:\u001b[36m599 \u001b[0m | \u001b[1mLoad (('schema', '_schema/_outputs__chunker__c287b7208d19494e')) from metadata...\u001b[0m\n",
      "\u001b[32m2025-Jan-13 12:30:51.96\u001b[0m| \u001b[33m\u001b[1mWARNING \u001b[0m | \u001b[36mDuncans-MBP.fritz.box\u001b[0m| \u001b[36msuperduper.base.document\u001b[0m:\u001b[36m564 \u001b[0m | \u001b[33m\u001b[1mLeaf ID already exists\u001b[0m\n",
      "\u001b[32m2025-Jan-13 12:30:51.96\u001b[0m| \u001b[33m\u001b[1mWARNING \u001b[0m | \u001b[36mDuncans-MBP.fritz.box\u001b[0m| \u001b[36msuperduper.base.document\u001b[0m:\u001b[36m564 \u001b[0m | \u001b[33m\u001b[1mLeaf str already exists\u001b[0m\n",
      "\u001b[32m2025-Jan-13 12:30:51.96\u001b[0m| \u001b[1mINFO    \u001b[0m | \u001b[36mDuncans-MBP.fritz.box\u001b[0m| \u001b[36msuperduper.base.apply\u001b[0m:\u001b[36m359 \u001b[0m | \u001b[1mFound new schema:_schema/_outputs__chunker__c287b7208d19494e:c7275e80ffae414f\u001b[0m\n",
      "\u001b[32m2025-Jan-13 12:30:51.96\u001b[0m| \u001b[1mINFO    \u001b[0m | \u001b[36mDuncans-MBP.fritz.box\u001b[0m| \u001b[36msuperduper.base.datalayer\u001b[0m:\u001b[36m593 \u001b[0m | \u001b[1mComponent (table, _outputs__chunker__c287b7208d19494e) not found in cache, loading from db\u001b[0m\n",
      "\u001b[32m2025-Jan-13 12:30:51.96\u001b[0m| \u001b[1mINFO    \u001b[0m | \u001b[36mDuncans-MBP.fritz.box\u001b[0m| \u001b[36msuperduper.base.datalayer\u001b[0m:\u001b[36m599 \u001b[0m | \u001b[1mLoad (('table', '_outputs__chunker__c287b7208d19494e')) from metadata...\u001b[0m\n",
      "\u001b[32m2025-Jan-13 12:30:51.96\u001b[0m| \u001b[1mINFO    \u001b[0m | \u001b[36mDuncans-MBP.fritz.box\u001b[0m| \u001b[36msuperduper.base.apply\u001b[0m:\u001b[36m359 \u001b[0m | \u001b[1mFound new table:_outputs__chunker__c287b7208d19494e:0b4ecf356eb14a8c\u001b[0m\n",
      "\u001b[32m2025-Jan-13 12:30:51.96\u001b[0m| \u001b[33m\u001b[1mWARNING \u001b[0m | \u001b[36mDuncans-MBP.fritz.box\u001b[0m| \u001b[36msuperduper.base.document\u001b[0m:\u001b[36m564 \u001b[0m | \u001b[33m\u001b[1mLeaf ID already exists\u001b[0m\n",
      "\u001b[32m2025-Jan-13 12:30:51.96\u001b[0m| \u001b[33m\u001b[1mWARNING \u001b[0m | \u001b[36mDuncans-MBP.fritz.box\u001b[0m| \u001b[36msuperduper.base.document\u001b[0m:\u001b[36m564 \u001b[0m | \u001b[33m\u001b[1mLeaf str already exists\u001b[0m\n",
      "\u001b[32m2025-Jan-13 12:30:51.96\u001b[0m| \u001b[1mINFO    \u001b[0m | \u001b[36mDuncans-MBP.fritz.box\u001b[0m| \u001b[36msuperduper.base.apply\u001b[0m:\u001b[36m359 \u001b[0m | \u001b[1mFound new listener:chunker:c287b7208d19494e\u001b[0m\n",
      "\u001b[32m2025-Jan-13 12:30:51.96\u001b[0m| \u001b[1mINFO    \u001b[0m | \u001b[36mDuncans-MBP.fritz.box\u001b[0m| \u001b[36msuperduper.base.apply\u001b[0m:\u001b[36m79  \u001b[0m | \u001b[1mFound these changes and/ or additions that need to be made:\u001b[0m\n",
      "\u001b[32m2025-Jan-13 12:30:51.96\u001b[0m| \u001b[1mINFO    \u001b[0m | \u001b[36mDuncans-MBP.fritz.box\u001b[0m| \u001b[36msuperduper.base.apply\u001b[0m:\u001b[36m81  \u001b[0m | \u001b[1m----------------------------------------------------------------------------------------------------\u001b[0m\n",
      "\u001b[32m2025-Jan-13 12:30:51.96\u001b[0m| \u001b[1mINFO    \u001b[0m | \u001b[36mDuncans-MBP.fritz.box\u001b[0m| \u001b[36msuperduper.base.apply\u001b[0m:\u001b[36m82  \u001b[0m | \u001b[1mMETADATA EVENTS:\u001b[0m\n",
      "\u001b[32m2025-Jan-13 12:30:51.96\u001b[0m| \u001b[1mINFO    \u001b[0m | \u001b[36mDuncans-MBP.fritz.box\u001b[0m| \u001b[36msuperduper.base.apply\u001b[0m:\u001b[36m83  \u001b[0m | \u001b[1m----------------------------------------------------------------------------------------------------\u001b[0m\n",
      "\u001b[32m2025-Jan-13 12:30:51.96\u001b[0m| \u001b[1mINFO    \u001b[0m | \u001b[36mDuncans-MBP.fritz.box\u001b[0m| \u001b[36msuperduper.base.apply\u001b[0m:\u001b[36m90  \u001b[0m | \u001b[1m[0]: model:chunker:db30a0cd385740f3: create ~ [3]\u001b[0m\n",
      "\u001b[32m2025-Jan-13 12:30:51.96\u001b[0m| \u001b[1mINFO    \u001b[0m | \u001b[36mDuncans-MBP.fritz.box\u001b[0m| \u001b[36msuperduper.base.apply\u001b[0m:\u001b[36m90  \u001b[0m | \u001b[1m[1]: schema:_schema/_outputs__chunker__c287b7208d19494e:c7275e80ffae414f: create ~ [2]\u001b[0m\n",
      "\u001b[32m2025-Jan-13 12:30:51.96\u001b[0m| \u001b[1mINFO    \u001b[0m | \u001b[36mDuncans-MBP.fritz.box\u001b[0m| \u001b[36msuperduper.base.apply\u001b[0m:\u001b[36m90  \u001b[0m | \u001b[1m[2]: table:_outputs__chunker__c287b7208d19494e:0b4ecf356eb14a8c: create ~ [3]\u001b[0m\n",
      "\u001b[32m2025-Jan-13 12:30:51.96\u001b[0m| \u001b[1mINFO    \u001b[0m | \u001b[36mDuncans-MBP.fritz.box\u001b[0m| \u001b[36msuperduper.base.apply\u001b[0m:\u001b[36m94  \u001b[0m | \u001b[1m[3]: listener:chunker:c287b7208d19494e: create\u001b[0m\n",
      "\u001b[32m2025-Jan-13 12:30:51.96\u001b[0m| \u001b[1mINFO    \u001b[0m | \u001b[36mDuncans-MBP.fritz.box\u001b[0m| \u001b[36msuperduper.base.apply\u001b[0m:\u001b[36m96  \u001b[0m | \u001b[1m----------------------------------------------------------------------------------------------------\u001b[0m\n",
      "\u001b[32m2025-Jan-13 12:30:51.96\u001b[0m| \u001b[1mINFO    \u001b[0m | \u001b[36mDuncans-MBP.fritz.box\u001b[0m| \u001b[36msuperduper.base.apply\u001b[0m:\u001b[36m97  \u001b[0m | \u001b[1mJOBS EVENTS:\u001b[0m\n",
      "\u001b[32m2025-Jan-13 12:30:51.96\u001b[0m| \u001b[1mINFO    \u001b[0m | \u001b[36mDuncans-MBP.fritz.box\u001b[0m| \u001b[36msuperduper.base.apply\u001b[0m:\u001b[36m98  \u001b[0m | \u001b[1m----------------------------------------------------------------------------------------------------\u001b[0m\n",
      "\u001b[32m2025-Jan-13 12:30:51.96\u001b[0m| \u001b[1mINFO    \u001b[0m | \u001b[36mDuncans-MBP.fritz.box\u001b[0m| \u001b[36msuperduper.base.apply\u001b[0m:\u001b[36m111 \u001b[0m | \u001b[1m[0]: listener:chunker:c287b7208d19494e.run: run\u001b[0m\n",
      "\u001b[32m2025-Jan-13 12:30:51.96\u001b[0m| \u001b[1mINFO    \u001b[0m | \u001b[36mDuncans-MBP.fritz.box\u001b[0m| \u001b[36msuperduper.base.apply\u001b[0m:\u001b[36m106 \u001b[0m | \u001b[1m[1]: listener:chunker:c287b7208d19494e.set_status: set_status ~ [0]\u001b[0m\n",
      "\u001b[32m2025-Jan-13 12:30:51.96\u001b[0m| \u001b[1mINFO    \u001b[0m | \u001b[36mDuncans-MBP.fritz.box\u001b[0m| \u001b[36msuperduper.base.apply\u001b[0m:\u001b[36m113 \u001b[0m | \u001b[1m----------------------------------------------------------------------------------------------------\u001b[0m\n",
      "\u001b[32m2025-Jan-13 12:30:51.96\u001b[0m| \u001b[1mINFO    \u001b[0m | \u001b[36mDuncans-MBP.fritz.box\u001b[0m| \u001b[36msuperduper.base.datalayer\u001b[0m:\u001b[36m562 \u001b[0m | \u001b[1mComponent db30a0cd385740f3 not found in cache, loading from db with uuid\u001b[0m\n",
      "\u001b[32m2025-Jan-13 12:30:51.96\u001b[0m| \u001b[1mINFO    \u001b[0m | \u001b[36mDuncans-MBP.fritz.box\u001b[0m| \u001b[36msuperduper.base.datalayer\u001b[0m:\u001b[36m584 \u001b[0m | \u001b[1mAdding model:chunker:db30a0cd385740f3 to cache\u001b[0m\n",
      "\u001b[32m2025-Jan-13 12:30:51.96\u001b[0m| \u001b[1mINFO    \u001b[0m | \u001b[36mDuncans-MBP.fritz.box\u001b[0m| \u001b[36msuperduper.components.component\u001b[0m:\u001b[36m620 \u001b[0m | \u001b[1mAdding model: chunker to cache\u001b[0m\n",
      "\u001b[32m2025-Jan-13 12:30:51.96\u001b[0m| \u001b[1mINFO    \u001b[0m | \u001b[36mDuncans-MBP.fritz.box\u001b[0m| \u001b[36msuperduper.base.datalayer\u001b[0m:\u001b[36m562 \u001b[0m | \u001b[1mComponent c7275e80ffae414f not found in cache, loading from db with uuid\u001b[0m\n",
      "\u001b[32m2025-Jan-13 12:30:51.96\u001b[0m| \u001b[1mINFO    \u001b[0m | \u001b[36mDuncans-MBP.fritz.box\u001b[0m| \u001b[36msuperduper.base.datalayer\u001b[0m:\u001b[36m584 \u001b[0m | \u001b[1mAdding schema:_schema/_outputs__chunker__c287b7208d19494e:c7275e80ffae414f to cache\u001b[0m\n",
      "\u001b[32m2025-Jan-13 12:30:51.96\u001b[0m| \u001b[1mINFO    \u001b[0m | \u001b[36mDuncans-MBP.fritz.box\u001b[0m| \u001b[36msuperduper.components.component\u001b[0m:\u001b[36m620 \u001b[0m | \u001b[1mAdding schema: _schema/_outputs__chunker__c287b7208d19494e to cache\u001b[0m\n",
      "\u001b[32m2025-Jan-13 12:30:51.96\u001b[0m| \u001b[1mINFO    \u001b[0m | \u001b[36mDuncans-MBP.fritz.box\u001b[0m| \u001b[36msuperduper.base.datalayer\u001b[0m:\u001b[36m562 \u001b[0m | \u001b[1mComponent 0b4ecf356eb14a8c not found in cache, loading from db with uuid\u001b[0m\n",
      "\u001b[32m2025-Jan-13 12:30:51.96\u001b[0m| \u001b[1mINFO    \u001b[0m | \u001b[36mDuncans-MBP.fritz.box\u001b[0m| \u001b[36msuperduper.base.datalayer\u001b[0m:\u001b[36m584 \u001b[0m | \u001b[1mAdding table:_outputs__chunker__c287b7208d19494e:0b4ecf356eb14a8c to cache\u001b[0m\n",
      "\u001b[32m2025-Jan-13 12:30:51.96\u001b[0m| \u001b[1mINFO    \u001b[0m | \u001b[36mDuncans-MBP.fritz.box\u001b[0m| \u001b[36msuperduper.base.datalayer\u001b[0m:\u001b[36m562 \u001b[0m | \u001b[1mComponent c287b7208d19494e not found in cache, loading from db with uuid\u001b[0m\n",
      "\u001b[32m2025-Jan-13 12:30:51.97\u001b[0m| \u001b[1mINFO    \u001b[0m | \u001b[36mDuncans-MBP.fritz.box\u001b[0m| \u001b[36msuperduper.base.datalayer\u001b[0m:\u001b[36m584 \u001b[0m | \u001b[1mAdding listener:chunker:c287b7208d19494e to cache\u001b[0m\n",
      "\u001b[32m2025-Jan-13 12:30:51.97\u001b[0m| \u001b[1mINFO    \u001b[0m | \u001b[36mDuncans-MBP.fritz.box\u001b[0m| \u001b[36msuperduper.components.component\u001b[0m:\u001b[36m620 \u001b[0m | \u001b[1mAdding listener: chunker to cache\u001b[0m\n",
      "\u001b[32m2025-Jan-13 12:30:51.97\u001b[0m| \u001b[1mINFO    \u001b[0m | \u001b[36mDuncans-MBP.fritz.box\u001b[0m| \u001b[36msuperduper.components.model\u001b[0m:\u001b[36m539 \u001b[0m | \u001b[1mRequesting prediction in db - [chunker] with predict_id chunker__c287b7208d19494e\n",
      "\u001b[0m\n"
     ]
    },
    {
     "name": "stderr",
     "output_type": "stream",
     "text": [
      "187it [00:00, 47101.54it/s]"
     ]
    },
    {
     "name": "stdout",
     "output_type": "stream",
     "text": [
      "\u001b[32m2025-Jan-13 12:30:51.98\u001b[0m| \u001b[1mINFO    \u001b[0m | \u001b[36mDuncans-MBP.fritz.box\u001b[0m| \u001b[36msuperduper.components.model\u001b[0m:\u001b[36m672 \u001b[0m | \u001b[1mAdding 187 model outputs to `db`\u001b[0m\n",
      "\u001b[32m2025-Jan-13 12:30:52.06\u001b[0m| \u001b[1mINFO    \u001b[0m | \u001b[36mDuncans-MBP.fritz.box\u001b[0m| \u001b[36msuperduper.base.datalayer\u001b[0m:\u001b[36m310 \u001b[0m | \u001b[1mInserted 336 documents into _outputs__chunker__c287b7208d19494e\u001b[0m\n",
      "\u001b[32m2025-Jan-13 12:30:52.06\u001b[0m| \u001b[1mINFO    \u001b[0m | \u001b[36mDuncans-MBP.fritz.box\u001b[0m| \u001b[36msuperduper.backends.local.queue\u001b[0m:\u001b[36m120 \u001b[0m | \u001b[1mConsumed all events\u001b[0m\n"
     ]
    },
    {
     "name": "stderr",
     "output_type": "stream",
     "text": [
      "\n"
     ]
    }
   ],
   "source": [
    "if APPLY:\n",
    "    db.apply(upstream_listener, force=True)"
   ]
  },
  {
   "cell_type": "markdown",
   "id": "7c5377c0-4c9b-4ba9-8f08-5e866b9220b5",
   "metadata": {},
   "source": [
    "## Select outputs of upstream listener"
   ]
  },
  {
   "cell_type": "markdown",
   "id": "809f5f62-95c3-483b-ae74-a5cdb5c1c83d",
   "metadata": {},
   "source": [
    ":::note\n",
    "This is useful if you have performed a first step, such as pre-computing \n",
    "features, or chunking your data. You can use this query to \n",
    "operate on those outputs.\n",
    ":::"
   ]
  },
  {
   "cell_type": "markdown",
   "id": "c9a2cd87-723f-4cee-87c7-9b8181c9e54b",
   "metadata": {},
   "source": [
    "<!-- TABS -->\n",
    "## Build text embedding model"
   ]
  },
  {
   "cell_type": "markdown",
   "id": "10753ea4-9893-4056-813d-7d6ddf78ce02",
   "metadata": {},
   "source": [
    "OpenAI:"
   ]
  },
  {
   "cell_type": "code",
   "execution_count": 9,
   "id": "a9b1f538-65ca-499e-b6d0-2dd733f81723",
   "metadata": {},
   "outputs": [],
   "source": [
    "import os\n",
    "\n",
    "from superduper_openai import OpenAIEmbedding\n",
    "from superduper.components.datatype import Vector\n",
    "\n",
    "openai_embedding = OpenAIEmbedding(identifier='text-embedding-ada-002' , datatype=Vector(shape=(1536,)))"
   ]
  },
  {
   "cell_type": "markdown",
   "id": "39314098-8462-4de9-8240-09005b928a86",
   "metadata": {},
   "source": [
    "Sentence-transformers"
   ]
  },
  {
   "cell_type": "code",
   "execution_count": 10,
   "id": "3b4a9a60-41df-461d-b165-1d136ee25694",
   "metadata": {},
   "outputs": [],
   "source": [
    "import sentence_transformers\n",
    "from superduper_sentence_transformers import SentenceTransformer\n",
    "\n",
    "sentence_transformers_embedding = SentenceTransformer(\n",
    "    identifier=\"sentence-transformers-embedding\",\n",
    "    model=\"BAAI/bge-small-en\",\n",
    "    datatype=Vector(shape=(1024,)),\n",
    "    postprocess=lambda x: x.tolist(),\n",
    "    predict_kwargs={\"show_progress_bar\": True},\n",
    ")"
   ]
  },
  {
   "cell_type": "code",
   "execution_count": 11,
   "id": "1882dadc-878a-48d1-add7-e2931f9ec395",
   "metadata": {},
   "outputs": [],
   "source": [
    "from superduper.components.model import ModelRouter\n",
    "from superduper.components.datatype import Vector\n",
    "\n",
    "embedding_model = ModelRouter(\n",
    "    'embedding',\n",
    "    models={'openai': openai_embedding, 'sentence_transformers': sentence_transformers_embedding},\n",
    "    model='<var:embedding_model>' if not APPLY else 'openai',\n",
    "    example='this is a test',\n",
    ")"
   ]
  },
  {
   "cell_type": "markdown",
   "id": "f31843db-8638-458a-a770-96a79041be88",
   "metadata": {},
   "source": [
    "## Create vector-index"
   ]
  },
  {
   "cell_type": "code",
   "execution_count": 12,
   "id": "4663fa4b-c2ec-427d-bf8b-b8b109cc2ccf",
   "metadata": {},
   "outputs": [],
   "source": [
    "from superduper import VectorIndex, Listener\n",
    "\n",
    "vector_index_name = 'vectorindex'\n",
    "\n",
    "vector_index = VectorIndex(\n",
    "    vector_index_name,\n",
    "    indexing_listener=Listener(\n",
    "        key=upstream_listener.outputs,\n",
    "        select=db[upstream_listener.outputs].select(ID_FIELD, '_source', upstream_listener.outputs),\n",
    "        model=embedding_model,\n",
    "        identifier='embeddinglistener',\n",
    "        upstream=[upstream_listener],\n",
    "    )\n",
    ")"
   ]
  },
  {
   "cell_type": "code",
   "execution_count": 13,
   "id": "509c3505-54c5-4e68-84ec-3df8bea0fd74",
   "metadata": {},
   "outputs": [
    {
     "name": "stdout",
     "output_type": "stream",
     "text": [
      "\u001b[32m2025-Jan-13 12:30:55.46\u001b[0m| \u001b[33m\u001b[1mWARNING \u001b[0m | \u001b[36mDuncans-MBP.fritz.box\u001b[0m| \u001b[36msuperduper.base.document\u001b[0m:\u001b[36m564 \u001b[0m | \u001b[33m\u001b[1mLeaf ID already exists\u001b[0m\n",
      "\u001b[32m2025-Jan-13 12:30:55.46\u001b[0m| \u001b[33m\u001b[1mWARNING \u001b[0m | \u001b[36mDuncans-MBP.fritz.box\u001b[0m| \u001b[36msuperduper.base.document\u001b[0m:\u001b[36m564 \u001b[0m | \u001b[33m\u001b[1mLeaf str already exists\u001b[0m\n",
      "\u001b[32m2025-Jan-13 12:30:57.04\u001b[0m| \u001b[33m\u001b[1mWARNING \u001b[0m | \u001b[36mDuncans-MBP.fritz.box\u001b[0m| \u001b[36msuperduper.components.listener\u001b[0m:\u001b[36m76  \u001b[0m | \u001b[33m\u001b[1moutput_table not found in listener.dict()\u001b[0m\n",
      "\u001b[32m2025-Jan-13 12:30:57.05\u001b[0m| \u001b[33m\u001b[1mWARNING \u001b[0m | \u001b[36mDuncans-MBP.fritz.box\u001b[0m| \u001b[36msuperduper.components.listener\u001b[0m:\u001b[36m76  \u001b[0m | \u001b[33m\u001b[1moutput_table not found in listener.dict()\u001b[0m\n",
      "\u001b[32m2025-Jan-13 12:30:57.05\u001b[0m| \u001b[1mINFO    \u001b[0m | \u001b[36mDuncans-MBP.fritz.box\u001b[0m| \u001b[36msuperduper.base.apply\u001b[0m:\u001b[36m265 \u001b[0m | \u001b[1mFound identical model:chunker:db30a0cd385740f3\u001b[0m\n",
      "\u001b[32m2025-Jan-13 12:30:57.06\u001b[0m| \u001b[1mINFO    \u001b[0m | \u001b[36mDuncans-MBP.fritz.box\u001b[0m| \u001b[36msuperduper.base.apply\u001b[0m:\u001b[36m341 \u001b[0m | \u001b[1mFound update model:chunker:db30a0cd385740f3\u001b[0m\n",
      "\u001b[32m2025-Jan-13 12:30:57.06\u001b[0m| \u001b[33m\u001b[1mWARNING \u001b[0m | \u001b[36mDuncans-MBP.fritz.box\u001b[0m| \u001b[36msuperduper.backends.local.artifacts\u001b[0m:\u001b[36m87  \u001b[0m | \u001b[33m\u001b[1mFile /tmp/test_db/3d17ec69b27fea98f37d8b1e17e19691aaa0789b already exists\u001b[0m\n",
      "\u001b[32m2025-Jan-13 12:30:57.06\u001b[0m| \u001b[33m\u001b[1mWARNING \u001b[0m | \u001b[36mDuncans-MBP.fritz.box\u001b[0m| \u001b[36msuperduper.components.listener\u001b[0m:\u001b[36m76  \u001b[0m | \u001b[33m\u001b[1moutput_table not found in listener.dict()\u001b[0m\n",
      "\u001b[32m2025-Jan-13 12:30:57.06\u001b[0m| \u001b[1mINFO    \u001b[0m | \u001b[36mDuncans-MBP.fritz.box\u001b[0m| \u001b[36msuperduper.base.apply\u001b[0m:\u001b[36m265 \u001b[0m | \u001b[1mFound identical listener:chunker:c287b7208d19494e\u001b[0m\n",
      "\u001b[32m2025-Jan-13 12:30:57.06\u001b[0m| \u001b[1mINFO    \u001b[0m | \u001b[36mDuncans-MBP.fritz.box\u001b[0m| \u001b[36msuperduper.base.datalayer\u001b[0m:\u001b[36m593 \u001b[0m | \u001b[1mComponent (datatype, vector[1536]) not found in cache, loading from db\u001b[0m\n",
      "\u001b[32m2025-Jan-13 12:30:57.06\u001b[0m| \u001b[1mINFO    \u001b[0m | \u001b[36mDuncans-MBP.fritz.box\u001b[0m| \u001b[36msuperduper.base.datalayer\u001b[0m:\u001b[36m599 \u001b[0m | \u001b[1mLoad (('datatype', 'vector[1536]')) from metadata...\u001b[0m\n",
      "\u001b[32m2025-Jan-13 12:30:57.06\u001b[0m| \u001b[1mINFO    \u001b[0m | \u001b[36mDuncans-MBP.fritz.box\u001b[0m| \u001b[36msuperduper.base.apply\u001b[0m:\u001b[36m359 \u001b[0m | \u001b[1mFound new datatype:vector[1536]:68a778b97abd494e\u001b[0m\n",
      "\u001b[32m2025-Jan-13 12:30:57.06\u001b[0m| \u001b[1mINFO    \u001b[0m | \u001b[36mDuncans-MBP.fritz.box\u001b[0m| \u001b[36msuperduper.base.datalayer\u001b[0m:\u001b[36m593 \u001b[0m | \u001b[1mComponent (datatype, vector[1536]) not found in cache, loading from db\u001b[0m\n",
      "\u001b[32m2025-Jan-13 12:30:57.06\u001b[0m| \u001b[1mINFO    \u001b[0m | \u001b[36mDuncans-MBP.fritz.box\u001b[0m| \u001b[36msuperduper.base.datalayer\u001b[0m:\u001b[36m599 \u001b[0m | \u001b[1mLoad (('datatype', 'vector[1536]')) from metadata...\u001b[0m\n",
      "\u001b[32m2025-Jan-13 12:30:57.06\u001b[0m| \u001b[1mINFO    \u001b[0m | \u001b[36mDuncans-MBP.fritz.box\u001b[0m| \u001b[36msuperduper.base.apply\u001b[0m:\u001b[36m359 \u001b[0m | \u001b[1mFound new datatype:vector[1536]:68a778b97abd494e\u001b[0m\n",
      "\u001b[32m2025-Jan-13 12:30:57.06\u001b[0m| \u001b[1mINFO    \u001b[0m | \u001b[36mDuncans-MBP.fritz.box\u001b[0m| \u001b[36msuperduper.base.datalayer\u001b[0m:\u001b[36m593 \u001b[0m | \u001b[1mComponent (model, text-embedding-ada-002) not found in cache, loading from db\u001b[0m\n",
      "\u001b[32m2025-Jan-13 12:30:57.06\u001b[0m| \u001b[1mINFO    \u001b[0m | \u001b[36mDuncans-MBP.fritz.box\u001b[0m| \u001b[36msuperduper.base.datalayer\u001b[0m:\u001b[36m599 \u001b[0m | \u001b[1mLoad (('model', 'text-embedding-ada-002')) from metadata...\u001b[0m\n",
      "\u001b[32m2025-Jan-13 12:30:57.06\u001b[0m| \u001b[1mINFO    \u001b[0m | \u001b[36mDuncans-MBP.fritz.box\u001b[0m| \u001b[36msuperduper.base.apply\u001b[0m:\u001b[36m359 \u001b[0m | \u001b[1mFound new model:text-embedding-ada-002:2cac6459947147c3\u001b[0m\n",
      "\u001b[32m2025-Jan-13 12:30:58.66\u001b[0m| \u001b[1mINFO    \u001b[0m | \u001b[36mDuncans-MBP.fritz.box\u001b[0m| \u001b[36msuperduper.base.datalayer\u001b[0m:\u001b[36m593 \u001b[0m | \u001b[1mComponent (datatype, vector[1024]) not found in cache, loading from db\u001b[0m\n",
      "\u001b[32m2025-Jan-13 12:30:58.66\u001b[0m| \u001b[1mINFO    \u001b[0m | \u001b[36mDuncans-MBP.fritz.box\u001b[0m| \u001b[36msuperduper.base.datalayer\u001b[0m:\u001b[36m599 \u001b[0m | \u001b[1mLoad (('datatype', 'vector[1024]')) from metadata...\u001b[0m\n",
      "\u001b[32m2025-Jan-13 12:30:58.66\u001b[0m| \u001b[1mINFO    \u001b[0m | \u001b[36mDuncans-MBP.fritz.box\u001b[0m| \u001b[36msuperduper.base.apply\u001b[0m:\u001b[36m359 \u001b[0m | \u001b[1mFound new datatype:vector[1024]:410a10d549b64f50\u001b[0m\n",
      "\u001b[32m2025-Jan-13 12:30:58.66\u001b[0m| \u001b[1mINFO    \u001b[0m | \u001b[36mDuncans-MBP.fritz.box\u001b[0m| \u001b[36msuperduper.base.datalayer\u001b[0m:\u001b[36m593 \u001b[0m | \u001b[1mComponent (model, sentence-transformers-embedding) not found in cache, loading from db\u001b[0m\n",
      "\u001b[32m2025-Jan-13 12:30:58.66\u001b[0m| \u001b[1mINFO    \u001b[0m | \u001b[36mDuncans-MBP.fritz.box\u001b[0m| \u001b[36msuperduper.base.datalayer\u001b[0m:\u001b[36m599 \u001b[0m | \u001b[1mLoad (('model', 'sentence-transformers-embedding')) from metadata...\u001b[0m\n",
      "\u001b[32m2025-Jan-13 12:31:00.31\u001b[0m| \u001b[1mINFO    \u001b[0m | \u001b[36mDuncans-MBP.fritz.box\u001b[0m| \u001b[36msuperduper.base.apply\u001b[0m:\u001b[36m359 \u001b[0m | \u001b[1mFound new model:sentence-transformers-embedding:e272e295c8ba4fb4\u001b[0m\n",
      "\u001b[32m2025-Jan-13 12:31:00.31\u001b[0m| \u001b[1mINFO    \u001b[0m | \u001b[36mDuncans-MBP.fritz.box\u001b[0m| \u001b[36msuperduper.base.datalayer\u001b[0m:\u001b[36m593 \u001b[0m | \u001b[1mComponent (model, embedding) not found in cache, loading from db\u001b[0m\n",
      "\u001b[32m2025-Jan-13 12:31:00.31\u001b[0m| \u001b[1mINFO    \u001b[0m | \u001b[36mDuncans-MBP.fritz.box\u001b[0m| \u001b[36msuperduper.base.datalayer\u001b[0m:\u001b[36m599 \u001b[0m | \u001b[1mLoad (('model', 'embedding')) from metadata...\u001b[0m\n",
      "\u001b[32m2025-Jan-13 12:31:00.31\u001b[0m| \u001b[1mINFO    \u001b[0m | \u001b[36mDuncans-MBP.fritz.box\u001b[0m| \u001b[36msuperduper.base.apply\u001b[0m:\u001b[36m359 \u001b[0m | \u001b[1mFound new model:embedding:ddc3f5f8b8af4fbd\u001b[0m\n",
      "\u001b[32m2025-Jan-13 12:31:00.31\u001b[0m| \u001b[1mINFO    \u001b[0m | \u001b[36mDuncans-MBP.fritz.box\u001b[0m| \u001b[36msuperduper.base.datalayer\u001b[0m:\u001b[36m593 \u001b[0m | \u001b[1mComponent (listener, embeddinglistener) not found in cache, loading from db\u001b[0m\n",
      "\u001b[32m2025-Jan-13 12:31:00.31\u001b[0m| \u001b[1mINFO    \u001b[0m | \u001b[36mDuncans-MBP.fritz.box\u001b[0m| \u001b[36msuperduper.base.datalayer\u001b[0m:\u001b[36m599 \u001b[0m | \u001b[1mLoad (('listener', 'embeddinglistener')) from metadata...\u001b[0m\n",
      "\u001b[32m2025-Jan-13 12:31:00.31\u001b[0m| \u001b[1mINFO    \u001b[0m | \u001b[36mDuncans-MBP.fritz.box\u001b[0m| \u001b[36msuperduper.base.datalayer\u001b[0m:\u001b[36m593 \u001b[0m | \u001b[1mComponent (datatype, vector[1536]) not found in cache, loading from db\u001b[0m\n",
      "\u001b[32m2025-Jan-13 12:31:00.31\u001b[0m| \u001b[1mINFO    \u001b[0m | \u001b[36mDuncans-MBP.fritz.box\u001b[0m| \u001b[36msuperduper.base.datalayer\u001b[0m:\u001b[36m599 \u001b[0m | \u001b[1mLoad (('datatype', 'vector[1536]')) from metadata...\u001b[0m\n",
      "\u001b[32m2025-Jan-13 12:31:00.31\u001b[0m| \u001b[1mINFO    \u001b[0m | \u001b[36mDuncans-MBP.fritz.box\u001b[0m| \u001b[36msuperduper.base.apply\u001b[0m:\u001b[36m359 \u001b[0m | \u001b[1mFound new datatype:vector[1536]:68a778b97abd494e\u001b[0m\n",
      "\u001b[32m2025-Jan-13 12:31:00.31\u001b[0m| \u001b[1mINFO    \u001b[0m | \u001b[36mDuncans-MBP.fritz.box\u001b[0m| \u001b[36msuperduper.base.datalayer\u001b[0m:\u001b[36m593 \u001b[0m | \u001b[1mComponent (schema, _schema/_outputs__embeddinglistener__772ac0c8786e4153) not found in cache, loading from db\u001b[0m\n",
      "\u001b[32m2025-Jan-13 12:31:00.31\u001b[0m| \u001b[1mINFO    \u001b[0m | \u001b[36mDuncans-MBP.fritz.box\u001b[0m| \u001b[36msuperduper.base.datalayer\u001b[0m:\u001b[36m599 \u001b[0m | \u001b[1mLoad (('schema', '_schema/_outputs__embeddinglistener__772ac0c8786e4153')) from metadata...\u001b[0m\n",
      "\u001b[32m2025-Jan-13 12:31:00.31\u001b[0m| \u001b[1mINFO    \u001b[0m | \u001b[36mDuncans-MBP.fritz.box\u001b[0m| \u001b[36msuperduper.base.apply\u001b[0m:\u001b[36m359 \u001b[0m | \u001b[1mFound new schema:_schema/_outputs__embeddinglistener__772ac0c8786e4153:601431597c724c0a\u001b[0m\n",
      "\u001b[32m2025-Jan-13 12:31:00.31\u001b[0m| \u001b[1mINFO    \u001b[0m | \u001b[36mDuncans-MBP.fritz.box\u001b[0m| \u001b[36msuperduper.base.datalayer\u001b[0m:\u001b[36m593 \u001b[0m | \u001b[1mComponent (table, _outputs__embeddinglistener__772ac0c8786e4153) not found in cache, loading from db\u001b[0m\n",
      "\u001b[32m2025-Jan-13 12:31:00.31\u001b[0m| \u001b[1mINFO    \u001b[0m | \u001b[36mDuncans-MBP.fritz.box\u001b[0m| \u001b[36msuperduper.base.datalayer\u001b[0m:\u001b[36m599 \u001b[0m | \u001b[1mLoad (('table', '_outputs__embeddinglistener__772ac0c8786e4153')) from metadata...\u001b[0m\n",
      "\u001b[32m2025-Jan-13 12:31:00.31\u001b[0m| \u001b[1mINFO    \u001b[0m | \u001b[36mDuncans-MBP.fritz.box\u001b[0m| \u001b[36msuperduper.base.apply\u001b[0m:\u001b[36m359 \u001b[0m | \u001b[1mFound new table:_outputs__embeddinglistener__772ac0c8786e4153:9e87285cccf743db\u001b[0m\n",
      "\u001b[32m2025-Jan-13 12:31:00.31\u001b[0m| \u001b[1mINFO    \u001b[0m | \u001b[36mDuncans-MBP.fritz.box\u001b[0m| \u001b[36msuperduper.base.apply\u001b[0m:\u001b[36m359 \u001b[0m | \u001b[1mFound new listener:embeddinglistener:772ac0c8786e4153\u001b[0m\n",
      "\u001b[32m2025-Jan-13 12:31:00.31\u001b[0m| \u001b[1mINFO    \u001b[0m | \u001b[36mDuncans-MBP.fritz.box\u001b[0m| \u001b[36msuperduper.base.datalayer\u001b[0m:\u001b[36m593 \u001b[0m | \u001b[1mComponent (vector_index, vectorindex) not found in cache, loading from db\u001b[0m\n",
      "\u001b[32m2025-Jan-13 12:31:00.31\u001b[0m| \u001b[1mINFO    \u001b[0m | \u001b[36mDuncans-MBP.fritz.box\u001b[0m| \u001b[36msuperduper.base.datalayer\u001b[0m:\u001b[36m599 \u001b[0m | \u001b[1mLoad (('vector_index', 'vectorindex')) from metadata...\u001b[0m\n",
      "\u001b[32m2025-Jan-13 12:31:00.31\u001b[0m| \u001b[1mINFO    \u001b[0m | \u001b[36mDuncans-MBP.fritz.box\u001b[0m| \u001b[36msuperduper.base.apply\u001b[0m:\u001b[36m359 \u001b[0m | \u001b[1mFound new vector_index:vectorindex:dbeadf90742041b2\u001b[0m\n",
      "\u001b[32m2025-Jan-13 12:31:00.31\u001b[0m| \u001b[1mINFO    \u001b[0m | \u001b[36mDuncans-MBP.fritz.box\u001b[0m| \u001b[36msuperduper.base.apply\u001b[0m:\u001b[36m73  \u001b[0m | \u001b[1mFound this diff:\u001b[0m\n"
     ]
    },
    {
     "data": {
      "text/html": [
       "<pre style=\"white-space:pre;overflow-x:auto;line-height:normal;font-family:Menlo,'DejaVu Sans Mono',consolas,'Courier New',monospace\">vectorindex\n",
       "└── <span style=\"color: #808000; text-decoration-color: #808000; font-weight: bold\">chunker</span>\n",
       "    ├── <span style=\"color: #008080; text-decoration-color: #008080; font-weight: bold\">status: </span><span style=\"color: #000080; text-decoration-color: #000080; font-weight: bold\">update</span>\n",
       "    ├── <span style=\"color: #808000; text-decoration-color: #808000; font-weight: bold\">changes</span>\n",
       "    │   └── <span style=\"color: #008080; text-decoration-color: #008080; font-weight: bold\">_object: </span><span style=\"color: #008000; text-decoration-color: #008000; font-weight: bold\">&amp;:blob:3d17ec69b27fea98f37d8b1e17e19691aaa0789b</span>\n",
       "    └── <span style=\"color: #008080; text-decoration-color: #008080; font-weight: bold\">type_id: </span><span style=\"color: #008000; text-decoration-color: #008000; font-weight: bold\">model</span>\n",
       "</pre>\n"
      ],
      "text/plain": [
       "vectorindex\n",
       "└── \u001b[1;33mchunker\u001b[0m\n",
       "    ├── \u001b[1;36mstatus: \u001b[0m\u001b[1;34mupdate\u001b[0m\n",
       "    ├── \u001b[1;33mchanges\u001b[0m\n",
       "    │   └── \u001b[1;36m_object: \u001b[0m\u001b[1;32m&:blob:3d17ec69b27fea98f37d8b1e17e19691aaa0789b\u001b[0m\n",
       "    └── \u001b[1;36mtype_id: \u001b[0m\u001b[1;32mmodel\u001b[0m\n"
      ]
     },
     "metadata": {},
     "output_type": "display_data"
    },
    {
     "name": "stdout",
     "output_type": "stream",
     "text": [
      "\u001b[32m2025-Jan-13 12:31:00.32\u001b[0m| \u001b[1mINFO    \u001b[0m | \u001b[36mDuncans-MBP.fritz.box\u001b[0m| \u001b[36msuperduper.base.apply\u001b[0m:\u001b[36m79  \u001b[0m | \u001b[1mFound these changes and/ or additions that need to be made:\u001b[0m\n",
      "\u001b[32m2025-Jan-13 12:31:00.32\u001b[0m| \u001b[1mINFO    \u001b[0m | \u001b[36mDuncans-MBP.fritz.box\u001b[0m| \u001b[36msuperduper.base.apply\u001b[0m:\u001b[36m81  \u001b[0m | \u001b[1m----------------------------------------------------------------------------------------------------\u001b[0m\n",
      "\u001b[32m2025-Jan-13 12:31:00.32\u001b[0m| \u001b[1mINFO    \u001b[0m | \u001b[36mDuncans-MBP.fritz.box\u001b[0m| \u001b[36msuperduper.base.apply\u001b[0m:\u001b[36m82  \u001b[0m | \u001b[1mMETADATA EVENTS:\u001b[0m\n",
      "\u001b[32m2025-Jan-13 12:31:00.32\u001b[0m| \u001b[1mINFO    \u001b[0m | \u001b[36mDuncans-MBP.fritz.box\u001b[0m| \u001b[36msuperduper.base.apply\u001b[0m:\u001b[36m83  \u001b[0m | \u001b[1m----------------------------------------------------------------------------------------------------\u001b[0m\n",
      "\u001b[32m2025-Jan-13 12:31:00.32\u001b[0m| \u001b[1mINFO    \u001b[0m | \u001b[36mDuncans-MBP.fritz.box\u001b[0m| \u001b[36msuperduper.base.apply\u001b[0m:\u001b[36m92  \u001b[0m | \u001b[1m[0]: model:chunker:db30a0cd385740f3: update\u001b[0m\n",
      "\u001b[32m2025-Jan-13 12:31:00.32\u001b[0m| \u001b[1mINFO    \u001b[0m | \u001b[36mDuncans-MBP.fritz.box\u001b[0m| \u001b[36msuperduper.base.apply\u001b[0m:\u001b[36m90  \u001b[0m | \u001b[1m[1]: datatype:vector[1536]:68a778b97abd494e: create ~ [6]\u001b[0m\n",
      "\u001b[32m2025-Jan-13 12:31:00.32\u001b[0m| \u001b[1mINFO    \u001b[0m | \u001b[36mDuncans-MBP.fritz.box\u001b[0m| \u001b[36msuperduper.base.apply\u001b[0m:\u001b[36m90  \u001b[0m | \u001b[1m[2]: model:text-embedding-ada-002:2cac6459947147c3: create ~ [5]\u001b[0m\n",
      "\u001b[32m2025-Jan-13 12:31:00.32\u001b[0m| \u001b[1mINFO    \u001b[0m | \u001b[36mDuncans-MBP.fritz.box\u001b[0m| \u001b[36msuperduper.base.apply\u001b[0m:\u001b[36m90  \u001b[0m | \u001b[1m[3]: datatype:vector[1024]:410a10d549b64f50: create ~ [4]\u001b[0m\n",
      "\u001b[32m2025-Jan-13 12:31:00.32\u001b[0m| \u001b[1mINFO    \u001b[0m | \u001b[36mDuncans-MBP.fritz.box\u001b[0m| \u001b[36msuperduper.base.apply\u001b[0m:\u001b[36m90  \u001b[0m | \u001b[1m[4]: model:sentence-transformers-embedding:e272e295c8ba4fb4: create ~ [5]\u001b[0m\n",
      "\u001b[32m2025-Jan-13 12:31:00.32\u001b[0m| \u001b[1mINFO    \u001b[0m | \u001b[36mDuncans-MBP.fritz.box\u001b[0m| \u001b[36msuperduper.base.apply\u001b[0m:\u001b[36m90  \u001b[0m | \u001b[1m[5]: model:embedding:ddc3f5f8b8af4fbd: create ~ [8]\u001b[0m\n",
      "\u001b[32m2025-Jan-13 12:31:00.32\u001b[0m| \u001b[1mINFO    \u001b[0m | \u001b[36mDuncans-MBP.fritz.box\u001b[0m| \u001b[36msuperduper.base.apply\u001b[0m:\u001b[36m90  \u001b[0m | \u001b[1m[6]: schema:_schema/_outputs__embeddinglistener__772ac0c8786e4153:601431597c724c0a: create ~ [7]\u001b[0m\n",
      "\u001b[32m2025-Jan-13 12:31:00.32\u001b[0m| \u001b[1mINFO    \u001b[0m | \u001b[36mDuncans-MBP.fritz.box\u001b[0m| \u001b[36msuperduper.base.apply\u001b[0m:\u001b[36m90  \u001b[0m | \u001b[1m[7]: table:_outputs__embeddinglistener__772ac0c8786e4153:9e87285cccf743db: create ~ [8]\u001b[0m\n",
      "\u001b[32m2025-Jan-13 12:31:00.32\u001b[0m| \u001b[1mINFO    \u001b[0m | \u001b[36mDuncans-MBP.fritz.box\u001b[0m| \u001b[36msuperduper.base.apply\u001b[0m:\u001b[36m90  \u001b[0m | \u001b[1m[8]: listener:embeddinglistener:772ac0c8786e4153: create ~ [9]\u001b[0m\n",
      "\u001b[32m2025-Jan-13 12:31:00.32\u001b[0m| \u001b[1mINFO    \u001b[0m | \u001b[36mDuncans-MBP.fritz.box\u001b[0m| \u001b[36msuperduper.base.apply\u001b[0m:\u001b[36m94  \u001b[0m | \u001b[1m[9]: vector_index:vectorindex:dbeadf90742041b2: create\u001b[0m\n",
      "\u001b[32m2025-Jan-13 12:31:00.32\u001b[0m| \u001b[1mINFO    \u001b[0m | \u001b[36mDuncans-MBP.fritz.box\u001b[0m| \u001b[36msuperduper.base.apply\u001b[0m:\u001b[36m96  \u001b[0m | \u001b[1m----------------------------------------------------------------------------------------------------\u001b[0m\n",
      "\u001b[32m2025-Jan-13 12:31:00.32\u001b[0m| \u001b[1mINFO    \u001b[0m | \u001b[36mDuncans-MBP.fritz.box\u001b[0m| \u001b[36msuperduper.base.apply\u001b[0m:\u001b[36m97  \u001b[0m | \u001b[1mJOBS EVENTS:\u001b[0m\n",
      "\u001b[32m2025-Jan-13 12:31:00.32\u001b[0m| \u001b[1mINFO    \u001b[0m | \u001b[36mDuncans-MBP.fritz.box\u001b[0m| \u001b[36msuperduper.base.apply\u001b[0m:\u001b[36m98  \u001b[0m | \u001b[1m----------------------------------------------------------------------------------------------------\u001b[0m\n",
      "\u001b[32m2025-Jan-13 12:31:00.32\u001b[0m| \u001b[1mINFO    \u001b[0m | \u001b[36mDuncans-MBP.fritz.box\u001b[0m| \u001b[36msuperduper.base.apply\u001b[0m:\u001b[36m111 \u001b[0m | \u001b[1m[0]: listener:embeddinglistener:772ac0c8786e4153.run: run\u001b[0m\n",
      "\u001b[32m2025-Jan-13 12:31:00.32\u001b[0m| \u001b[1mINFO    \u001b[0m | \u001b[36mDuncans-MBP.fritz.box\u001b[0m| \u001b[36msuperduper.base.apply\u001b[0m:\u001b[36m106 \u001b[0m | \u001b[1m[1]: listener:embeddinglistener:772ac0c8786e4153.set_status: set_status ~ [0]\u001b[0m\n",
      "\u001b[32m2025-Jan-13 12:31:00.32\u001b[0m| \u001b[1mINFO    \u001b[0m | \u001b[36mDuncans-MBP.fritz.box\u001b[0m| \u001b[36msuperduper.base.apply\u001b[0m:\u001b[36m106 \u001b[0m | \u001b[1m[2]: vector_index:vectorindex:dbeadf90742041b2.copy_vectors: copy_vectors ~ [0,1]\u001b[0m\n",
      "\u001b[32m2025-Jan-13 12:31:00.32\u001b[0m| \u001b[1mINFO    \u001b[0m | \u001b[36mDuncans-MBP.fritz.box\u001b[0m| \u001b[36msuperduper.base.apply\u001b[0m:\u001b[36m106 \u001b[0m | \u001b[1m[3]: vector_index:vectorindex:dbeadf90742041b2.set_status: set_status ~ [2]\u001b[0m\n",
      "\u001b[32m2025-Jan-13 12:31:00.32\u001b[0m| \u001b[1mINFO    \u001b[0m | \u001b[36mDuncans-MBP.fritz.box\u001b[0m| \u001b[36msuperduper.base.apply\u001b[0m:\u001b[36m113 \u001b[0m | \u001b[1m----------------------------------------------------------------------------------------------------\u001b[0m\n",
      "\u001b[32m2025-Jan-13 12:31:00.32\u001b[0m| \u001b[1mINFO    \u001b[0m | \u001b[36mDuncans-MBP.fritz.box\u001b[0m| \u001b[36msuperduper.base.datalayer\u001b[0m:\u001b[36m562 \u001b[0m | \u001b[1mComponent 68a778b97abd494e not found in cache, loading from db with uuid\u001b[0m\n",
      "\u001b[32m2025-Jan-13 12:31:00.32\u001b[0m| \u001b[1mINFO    \u001b[0m | \u001b[36mDuncans-MBP.fritz.box\u001b[0m| \u001b[36msuperduper.base.datalayer\u001b[0m:\u001b[36m584 \u001b[0m | \u001b[1mAdding datatype:vector[1536]:68a778b97abd494e to cache\u001b[0m\n",
      "\u001b[32m2025-Jan-13 12:31:00.32\u001b[0m| \u001b[1mINFO    \u001b[0m | \u001b[36mDuncans-MBP.fritz.box\u001b[0m| \u001b[36msuperduper.components.component\u001b[0m:\u001b[36m620 \u001b[0m | \u001b[1mAdding datatype: vector[1536] to cache\u001b[0m\n",
      "\u001b[32m2025-Jan-13 12:31:00.32\u001b[0m| \u001b[1mINFO    \u001b[0m | \u001b[36mDuncans-MBP.fritz.box\u001b[0m| \u001b[36msuperduper.base.datalayer\u001b[0m:\u001b[36m562 \u001b[0m | \u001b[1mComponent 2cac6459947147c3 not found in cache, loading from db with uuid\u001b[0m\n",
      "\u001b[32m2025-Jan-13 12:31:00.32\u001b[0m| \u001b[1mINFO    \u001b[0m | \u001b[36mDuncans-MBP.fritz.box\u001b[0m| \u001b[36msuperduper.base.datalayer\u001b[0m:\u001b[36m584 \u001b[0m | \u001b[1mAdding model:text-embedding-ada-002:2cac6459947147c3 to cache\u001b[0m\n",
      "\u001b[32m2025-Jan-13 12:31:00.32\u001b[0m| \u001b[1mINFO    \u001b[0m | \u001b[36mDuncans-MBP.fritz.box\u001b[0m| \u001b[36msuperduper.components.component\u001b[0m:\u001b[36m620 \u001b[0m | \u001b[1mAdding model: text-embedding-ada-002 to cache\u001b[0m\n",
      "\u001b[32m2025-Jan-13 12:31:00.32\u001b[0m| \u001b[1mINFO    \u001b[0m | \u001b[36mDuncans-MBP.fritz.box\u001b[0m| \u001b[36msuperduper.base.datalayer\u001b[0m:\u001b[36m562 \u001b[0m | \u001b[1mComponent 410a10d549b64f50 not found in cache, loading from db with uuid\u001b[0m\n",
      "\u001b[32m2025-Jan-13 12:31:00.32\u001b[0m| \u001b[1mINFO    \u001b[0m | \u001b[36mDuncans-MBP.fritz.box\u001b[0m| \u001b[36msuperduper.base.datalayer\u001b[0m:\u001b[36m584 \u001b[0m | \u001b[1mAdding datatype:vector[1024]:410a10d549b64f50 to cache\u001b[0m\n",
      "\u001b[32m2025-Jan-13 12:31:00.32\u001b[0m| \u001b[1mINFO    \u001b[0m | \u001b[36mDuncans-MBP.fritz.box\u001b[0m| \u001b[36msuperduper.components.component\u001b[0m:\u001b[36m620 \u001b[0m | \u001b[1mAdding datatype: vector[1024] to cache\u001b[0m\n",
      "\u001b[32m2025-Jan-13 12:31:00.32\u001b[0m| \u001b[1mINFO    \u001b[0m | \u001b[36mDuncans-MBP.fritz.box\u001b[0m| \u001b[36msuperduper.base.datalayer\u001b[0m:\u001b[36m562 \u001b[0m | \u001b[1mComponent e272e295c8ba4fb4 not found in cache, loading from db with uuid\u001b[0m\n",
      "\u001b[32m2025-Jan-13 12:31:01.89\u001b[0m| \u001b[1mINFO    \u001b[0m | \u001b[36mDuncans-MBP.fritz.box\u001b[0m| \u001b[36msuperduper.base.datalayer\u001b[0m:\u001b[36m584 \u001b[0m | \u001b[1mAdding model:sentence-transformers-embedding:e272e295c8ba4fb4 to cache\u001b[0m\n",
      "\u001b[32m2025-Jan-13 12:31:01.90\u001b[0m| \u001b[1mINFO    \u001b[0m | \u001b[36mDuncans-MBP.fritz.box\u001b[0m| \u001b[36msuperduper.components.component\u001b[0m:\u001b[36m620 \u001b[0m | \u001b[1mAdding model: sentence-transformers-embedding to cache\u001b[0m\n",
      "\u001b[32m2025-Jan-13 12:31:01.90\u001b[0m| \u001b[1mINFO    \u001b[0m | \u001b[36mDuncans-MBP.fritz.box\u001b[0m| \u001b[36msuperduper.base.datalayer\u001b[0m:\u001b[36m562 \u001b[0m | \u001b[1mComponent ddc3f5f8b8af4fbd not found in cache, loading from db with uuid\u001b[0m\n",
      "\u001b[32m2025-Jan-13 12:31:01.90\u001b[0m| \u001b[1mINFO    \u001b[0m | \u001b[36mDuncans-MBP.fritz.box\u001b[0m| \u001b[36msuperduper.base.datalayer\u001b[0m:\u001b[36m584 \u001b[0m | \u001b[1mAdding model:embedding:ddc3f5f8b8af4fbd to cache\u001b[0m\n",
      "\u001b[32m2025-Jan-13 12:31:01.90\u001b[0m| \u001b[1mINFO    \u001b[0m | \u001b[36mDuncans-MBP.fritz.box\u001b[0m| \u001b[36msuperduper.components.component\u001b[0m:\u001b[36m620 \u001b[0m | \u001b[1mAdding model: embedding to cache\u001b[0m\n",
      "\u001b[32m2025-Jan-13 12:31:01.90\u001b[0m| \u001b[1mINFO    \u001b[0m | \u001b[36mDuncans-MBP.fritz.box\u001b[0m| \u001b[36msuperduper.base.datalayer\u001b[0m:\u001b[36m562 \u001b[0m | \u001b[1mComponent 601431597c724c0a not found in cache, loading from db with uuid\u001b[0m\n",
      "\u001b[32m2025-Jan-13 12:31:01.90\u001b[0m| \u001b[1mINFO    \u001b[0m | \u001b[36mDuncans-MBP.fritz.box\u001b[0m| \u001b[36msuperduper.base.datalayer\u001b[0m:\u001b[36m584 \u001b[0m | \u001b[1mAdding schema:_schema/_outputs__embeddinglistener__772ac0c8786e4153:601431597c724c0a to cache\u001b[0m\n",
      "\u001b[32m2025-Jan-13 12:31:01.90\u001b[0m| \u001b[1mINFO    \u001b[0m | \u001b[36mDuncans-MBP.fritz.box\u001b[0m| \u001b[36msuperduper.components.component\u001b[0m:\u001b[36m620 \u001b[0m | \u001b[1mAdding schema: _schema/_outputs__embeddinglistener__772ac0c8786e4153 to cache\u001b[0m\n",
      "\u001b[32m2025-Jan-13 12:31:01.90\u001b[0m| \u001b[1mINFO    \u001b[0m | \u001b[36mDuncans-MBP.fritz.box\u001b[0m| \u001b[36msuperduper.base.datalayer\u001b[0m:\u001b[36m562 \u001b[0m | \u001b[1mComponent 9e87285cccf743db not found in cache, loading from db with uuid\u001b[0m\n",
      "\u001b[32m2025-Jan-13 12:31:01.90\u001b[0m| \u001b[1mINFO    \u001b[0m | \u001b[36mDuncans-MBP.fritz.box\u001b[0m| \u001b[36msuperduper.base.datalayer\u001b[0m:\u001b[36m584 \u001b[0m | \u001b[1mAdding table:_outputs__embeddinglistener__772ac0c8786e4153:9e87285cccf743db to cache\u001b[0m\n",
      "\u001b[32m2025-Jan-13 12:31:01.90\u001b[0m| \u001b[1mINFO    \u001b[0m | \u001b[36mDuncans-MBP.fritz.box\u001b[0m| \u001b[36msuperduper.base.datalayer\u001b[0m:\u001b[36m562 \u001b[0m | \u001b[1mComponent 772ac0c8786e4153 not found in cache, loading from db with uuid\u001b[0m\n",
      "\u001b[32m2025-Jan-13 12:31:01.90\u001b[0m| \u001b[1mINFO    \u001b[0m | \u001b[36mDuncans-MBP.fritz.box\u001b[0m| \u001b[36msuperduper.base.datalayer\u001b[0m:\u001b[36m562 \u001b[0m | \u001b[1mComponent c287b7208d19494e not found in cache, loading from db with uuid\u001b[0m\n",
      "\u001b[32m2025-Jan-13 12:31:01.91\u001b[0m| \u001b[1mINFO    \u001b[0m | \u001b[36mDuncans-MBP.fritz.box\u001b[0m| \u001b[36msuperduper.base.datalayer\u001b[0m:\u001b[36m562 \u001b[0m | \u001b[1mComponent db30a0cd385740f3 not found in cache, loading from db with uuid\u001b[0m\n",
      "\u001b[32m2025-Jan-13 12:31:01.91\u001b[0m| \u001b[1mINFO    \u001b[0m | \u001b[36mDuncans-MBP.fritz.box\u001b[0m| \u001b[36msuperduper.base.datalayer\u001b[0m:\u001b[36m584 \u001b[0m | \u001b[1mAdding model:chunker:db30a0cd385740f3 to cache\u001b[0m\n",
      "\u001b[32m2025-Jan-13 12:31:01.91\u001b[0m| \u001b[1mINFO    \u001b[0m | \u001b[36mDuncans-MBP.fritz.box\u001b[0m| \u001b[36msuperduper.base.datalayer\u001b[0m:\u001b[36m584 \u001b[0m | \u001b[1mAdding listener:chunker:c287b7208d19494e to cache\u001b[0m\n",
      "\u001b[32m2025-Jan-13 12:31:01.92\u001b[0m| \u001b[1mINFO    \u001b[0m | \u001b[36mDuncans-MBP.fritz.box\u001b[0m| \u001b[36msuperduper.base.datalayer\u001b[0m:\u001b[36m584 \u001b[0m | \u001b[1mAdding listener:embeddinglistener:772ac0c8786e4153 to cache\u001b[0m\n",
      "\u001b[32m2025-Jan-13 12:31:01.92\u001b[0m| \u001b[1mINFO    \u001b[0m | \u001b[36mDuncans-MBP.fritz.box\u001b[0m| \u001b[36msuperduper.components.component\u001b[0m:\u001b[36m620 \u001b[0m | \u001b[1mAdding listener: embeddinglistener to cache\u001b[0m\n",
      "\u001b[32m2025-Jan-13 12:31:01.92\u001b[0m| \u001b[1mINFO    \u001b[0m | \u001b[36mDuncans-MBP.fritz.box\u001b[0m| \u001b[36msuperduper.base.datalayer\u001b[0m:\u001b[36m562 \u001b[0m | \u001b[1mComponent dbeadf90742041b2 not found in cache, loading from db with uuid\u001b[0m\n",
      "\u001b[32m2025-Jan-13 12:31:01.92\u001b[0m| \u001b[1mINFO    \u001b[0m | \u001b[36mDuncans-MBP.fritz.box\u001b[0m| \u001b[36msuperduper.base.datalayer\u001b[0m:\u001b[36m584 \u001b[0m | \u001b[1mAdding vector_index:vectorindex:dbeadf90742041b2 to cache\u001b[0m\n",
      "\u001b[32m2025-Jan-13 12:31:01.92\u001b[0m| \u001b[1mINFO    \u001b[0m | \u001b[36mDuncans-MBP.fritz.box\u001b[0m| \u001b[36msuperduper.components.component\u001b[0m:\u001b[36m620 \u001b[0m | \u001b[1mAdding vector_index: vectorindex to cache\u001b[0m\n",
      "\u001b[32m2025-Jan-13 12:31:02.78\u001b[0m| \u001b[1mINFO    \u001b[0m | \u001b[36mDuncans-MBP.fritz.box\u001b[0m| \u001b[36msuperduper.components.model\u001b[0m:\u001b[36m539 \u001b[0m | \u001b[1mRequesting prediction in db - [embedding] with predict_id embeddinglistener__772ac0c8786e4153\n",
      "\u001b[0m\n"
     ]
    },
    {
     "name": "stderr",
     "output_type": "stream",
     "text": [
      "336it [00:00, 18935.91it/s]\n"
     ]
    },
    {
     "name": "stdout",
     "output_type": "stream",
     "text": [
      "\u001b[32m2025-Jan-13 12:31:02.85\u001b[0m| \u001b[1mINFO    \u001b[0m | \u001b[36mDuncans-MBP.fritz.box\u001b[0m| \u001b[36msuperduper.components.model\u001b[0m:\u001b[36m1345\u001b[0m | \u001b[1mPredicting with model openai\u001b[0m\n"
     ]
    },
    {
     "name": "stderr",
     "output_type": "stream",
     "text": [
      "100%|██████████████████████████████████████████████████████████████████████████████████████████████████████████████████████████████████████████████████████████████████████████████████████████████████████████████████| 4/4 [00:06<00:00,  1.63s/it]\n"
     ]
    },
    {
     "name": "stdout",
     "output_type": "stream",
     "text": [
      "\u001b[32m2025-Jan-13 12:31:09.37\u001b[0m| \u001b[1mINFO    \u001b[0m | \u001b[36mDuncans-MBP.fritz.box\u001b[0m| \u001b[36msuperduper.components.model\u001b[0m:\u001b[36m672 \u001b[0m | \u001b[1mAdding 336 model outputs to `db`\u001b[0m\n",
      "\u001b[32m2025-Jan-13 12:31:10.99\u001b[0m| \u001b[1mINFO    \u001b[0m | \u001b[36mDuncans-MBP.fritz.box\u001b[0m| \u001b[36msuperduper.base.datalayer\u001b[0m:\u001b[36m310 \u001b[0m | \u001b[1mInserted 336 documents into _outputs__embeddinglistener__772ac0c8786e4153\u001b[0m\n",
      "\u001b[32m2025-Jan-13 12:31:11.15\u001b[0m| \u001b[1mINFO    \u001b[0m | \u001b[36mDuncans-MBP.fritz.box\u001b[0m| \u001b[36msuperduper.backends.local.queue\u001b[0m:\u001b[36m120 \u001b[0m | \u001b[1mConsumed all events\u001b[0m\n"
     ]
    }
   ],
   "source": [
    "if APPLY:\n",
    "    db.apply(vector_index, force=True)"
   ]
  },
  {
   "cell_type": "markdown",
   "id": "1179a67b-4e40-496b-9851-98f32d42faa0",
   "metadata": {},
   "source": [
    "<!-- TABS -->\n",
    "## Build LLM"
   ]
  },
  {
   "cell_type": "code",
   "execution_count": 14,
   "id": "f98e5ff4",
   "metadata": {},
   "outputs": [],
   "source": [
    "from superduper_openai import OpenAIChatCompletion\n",
    "\n",
    "llm_openai = OpenAIChatCompletion(identifier='llm-openai', model='gpt-3.5-turbo')"
   ]
  },
  {
   "cell_type": "code",
   "execution_count": 15,
   "id": "9bf39c47",
   "metadata": {},
   "outputs": [],
   "source": [
    "from superduper_anthropic import AnthropicCompletions\n",
    "\n",
    "predict_kwargs = {\n",
    "    \"max_tokens\": 1024,\n",
    "    \"temperature\": 0.8,\n",
    "}\n",
    "\n",
    "llm_anthropic = AnthropicCompletions(identifier='llm-anthropic', model='claude-2.1', predict_kwargs=predict_kwargs)"
   ]
  },
  {
   "cell_type": "code",
   "execution_count": 16,
   "id": "95e48deb",
   "metadata": {},
   "outputs": [
    {
     "name": "stdout",
     "output_type": "stream",
     "text": [
      "\u001b[32m2025-Jan-13 12:31:11.20\u001b[0m| \u001b[1mINFO    \u001b[0m | \u001b[36mDuncans-MBP.fritz.box\u001b[0m| \u001b[36msuperduper_vllm.model\u001b[0m:\u001b[36m31  \u001b[0m | \u001b[1mSetting num_gpus to 1\u001b[0m\n"
     ]
    }
   ],
   "source": [
    "from superduper_vllm import VllmCompletion\n",
    "\n",
    "predict_kwargs = {\n",
    "    \"max_tokens\": 1024,\n",
    "    \"temperature\": 0.8,\n",
    "}\n",
    "\n",
    "llm_vllm = VllmCompletion(\n",
    "    identifier=\"llm-vllm\",\n",
    "    vllm_params={\n",
    "        'model': 'TheBloke/Mistral-7B-Instruct-v0.2-AWQ',\n",
    "        \"gpu_memory_utilization\": 0.7,\n",
    "        \"max_model_len\": 1024,\n",
    "        \"quantization\": \"awq\",\n",
    "    },\n",
    "    predict_kwargs=predict_kwargs,\n",
    ")"
   ]
  },
  {
   "cell_type": "code",
   "execution_count": 17,
   "id": "f8c6a34f-692f-4338-a40d-c2b5acfbaf4e",
   "metadata": {},
   "outputs": [],
   "source": [
    "llm = ModelRouter(\n",
    "    'llm',\n",
    "    models={\n",
    "        'openai': llm_openai,\n",
    "        'anthropic': llm_anthropic,\n",
    "        'vllm': llm_vllm,\n",
    "    },\n",
    "    model='<var:llm_model>' if not APPLY else 'openai',\n",
    ")"
   ]
  },
  {
   "cell_type": "markdown",
   "id": "60ae6203-dcc4-493c-a8f8-f727f0f75778",
   "metadata": {},
   "source": [
    "## Answer question with LLM"
   ]
  },
  {
   "cell_type": "code",
   "execution_count": 18,
   "id": "44baeb09-6f35-4cf2-b814-46283a59f7e9",
   "metadata": {},
   "outputs": [],
   "source": [
    "from superduper import model\n",
    "from superduper.components.model import RAGModel\n",
    "\n",
    "prompt_template = (\n",
    "    \"Use the following context snippets, these snippets are not ordered!, Answer the question based on this context.\\n\"\n",
    "    \"{context}\\n\\n\"\n",
    "    \"Here's the question: {query}\"\n",
    ")\n",
    "\n",
    "rag = RAGModel(\n",
    "    'rag-model',\n",
    "    select=db[upstream_listener.outputs].select().like({upstream_listener.outputs: '<var:query>'}, vector_index=vector_index_name, n=5),\n",
    "    prompt_template=prompt_template,\n",
    "    key=upstream_listener.outputs,\n",
    "    llm=llm,\n",
    ")"
   ]
  },
  {
   "cell_type": "code",
   "execution_count": 19,
   "id": "2d3a0d3a-da1c-41ec-b16c-f281c46ad794",
   "metadata": {},
   "outputs": [
    {
     "name": "stdout",
     "output_type": "stream",
     "text": [
      "\u001b[32m2025-Jan-13 12:31:11.21\u001b[0m| \u001b[1mINFO    \u001b[0m | \u001b[36mDuncans-MBP.fritz.box\u001b[0m| \u001b[36msuperduper.base.datalayer\u001b[0m:\u001b[36m593 \u001b[0m | \u001b[1mComponent (model, llm-openai) not found in cache, loading from db\u001b[0m\n",
      "\u001b[32m2025-Jan-13 12:31:11.21\u001b[0m| \u001b[1mINFO    \u001b[0m | \u001b[36mDuncans-MBP.fritz.box\u001b[0m| \u001b[36msuperduper.base.datalayer\u001b[0m:\u001b[36m599 \u001b[0m | \u001b[1mLoad (('model', 'llm-openai')) from metadata...\u001b[0m\n",
      "\u001b[32m2025-Jan-13 12:31:11.21\u001b[0m| \u001b[1mINFO    \u001b[0m | \u001b[36mDuncans-MBP.fritz.box\u001b[0m| \u001b[36msuperduper.base.apply\u001b[0m:\u001b[36m359 \u001b[0m | \u001b[1mFound new model:llm-openai:6afc7764b1bd4861\u001b[0m\n",
      "\u001b[32m2025-Jan-13 12:31:11.21\u001b[0m| \u001b[1mINFO    \u001b[0m | \u001b[36mDuncans-MBP.fritz.box\u001b[0m| \u001b[36msuperduper.base.datalayer\u001b[0m:\u001b[36m593 \u001b[0m | \u001b[1mComponent (model, llm-anthropic) not found in cache, loading from db\u001b[0m\n",
      "\u001b[32m2025-Jan-13 12:31:11.21\u001b[0m| \u001b[1mINFO    \u001b[0m | \u001b[36mDuncans-MBP.fritz.box\u001b[0m| \u001b[36msuperduper.base.datalayer\u001b[0m:\u001b[36m599 \u001b[0m | \u001b[1mLoad (('model', 'llm-anthropic')) from metadata...\u001b[0m\n",
      "\u001b[32m2025-Jan-13 12:31:11.21\u001b[0m| \u001b[1mINFO    \u001b[0m | \u001b[36mDuncans-MBP.fritz.box\u001b[0m| \u001b[36msuperduper.base.apply\u001b[0m:\u001b[36m359 \u001b[0m | \u001b[1mFound new model:llm-anthropic:68ef079ea5cd44d0\u001b[0m\n",
      "\u001b[32m2025-Jan-13 12:31:11.21\u001b[0m| \u001b[1mINFO    \u001b[0m | \u001b[36mDuncans-MBP.fritz.box\u001b[0m| \u001b[36msuperduper.base.datalayer\u001b[0m:\u001b[36m593 \u001b[0m | \u001b[1mComponent (model, llm-vllm) not found in cache, loading from db\u001b[0m\n",
      "\u001b[32m2025-Jan-13 12:31:11.21\u001b[0m| \u001b[1mINFO    \u001b[0m | \u001b[36mDuncans-MBP.fritz.box\u001b[0m| \u001b[36msuperduper.base.datalayer\u001b[0m:\u001b[36m599 \u001b[0m | \u001b[1mLoad (('model', 'llm-vllm')) from metadata...\u001b[0m\n",
      "\u001b[32m2025-Jan-13 12:31:11.21\u001b[0m| \u001b[1mINFO    \u001b[0m | \u001b[36mDuncans-MBP.fritz.box\u001b[0m| \u001b[36msuperduper.base.apply\u001b[0m:\u001b[36m359 \u001b[0m | \u001b[1mFound new model:llm-vllm:cdbfc548ab844210\u001b[0m\n",
      "\u001b[32m2025-Jan-13 12:31:11.21\u001b[0m| \u001b[1mINFO    \u001b[0m | \u001b[36mDuncans-MBP.fritz.box\u001b[0m| \u001b[36msuperduper.base.datalayer\u001b[0m:\u001b[36m593 \u001b[0m | \u001b[1mComponent (model, llm) not found in cache, loading from db\u001b[0m\n",
      "\u001b[32m2025-Jan-13 12:31:11.21\u001b[0m| \u001b[1mINFO    \u001b[0m | \u001b[36mDuncans-MBP.fritz.box\u001b[0m| \u001b[36msuperduper.base.datalayer\u001b[0m:\u001b[36m599 \u001b[0m | \u001b[1mLoad (('model', 'llm')) from metadata...\u001b[0m\n",
      "\u001b[32m2025-Jan-13 12:31:11.21\u001b[0m| \u001b[1mINFO    \u001b[0m | \u001b[36mDuncans-MBP.fritz.box\u001b[0m| \u001b[36msuperduper.base.apply\u001b[0m:\u001b[36m359 \u001b[0m | \u001b[1mFound new model:llm:af0f388be6aa401e\u001b[0m\n",
      "\u001b[32m2025-Jan-13 12:31:11.21\u001b[0m| \u001b[1mINFO    \u001b[0m | \u001b[36mDuncans-MBP.fritz.box\u001b[0m| \u001b[36msuperduper.base.datalayer\u001b[0m:\u001b[36m593 \u001b[0m | \u001b[1mComponent (model, rag-model) not found in cache, loading from db\u001b[0m\n",
      "\u001b[32m2025-Jan-13 12:31:11.21\u001b[0m| \u001b[1mINFO    \u001b[0m | \u001b[36mDuncans-MBP.fritz.box\u001b[0m| \u001b[36msuperduper.base.datalayer\u001b[0m:\u001b[36m599 \u001b[0m | \u001b[1mLoad (('model', 'rag-model')) from metadata...\u001b[0m\n",
      "\u001b[32m2025-Jan-13 12:31:11.21\u001b[0m| \u001b[1mINFO    \u001b[0m | \u001b[36mDuncans-MBP.fritz.box\u001b[0m| \u001b[36msuperduper.base.apply\u001b[0m:\u001b[36m359 \u001b[0m | \u001b[1mFound new model:rag-model:079efb7994944436\u001b[0m\n",
      "\u001b[32m2025-Jan-13 12:31:11.21\u001b[0m| \u001b[1mINFO    \u001b[0m | \u001b[36mDuncans-MBP.fritz.box\u001b[0m| \u001b[36msuperduper.base.apply\u001b[0m:\u001b[36m79  \u001b[0m | \u001b[1mFound these changes and/ or additions that need to be made:\u001b[0m\n",
      "\u001b[32m2025-Jan-13 12:31:11.21\u001b[0m| \u001b[1mINFO    \u001b[0m | \u001b[36mDuncans-MBP.fritz.box\u001b[0m| \u001b[36msuperduper.base.apply\u001b[0m:\u001b[36m81  \u001b[0m | \u001b[1m----------------------------------------------------------------------------------------------------\u001b[0m\n",
      "\u001b[32m2025-Jan-13 12:31:11.21\u001b[0m| \u001b[1mINFO    \u001b[0m | \u001b[36mDuncans-MBP.fritz.box\u001b[0m| \u001b[36msuperduper.base.apply\u001b[0m:\u001b[36m82  \u001b[0m | \u001b[1mMETADATA EVENTS:\u001b[0m\n",
      "\u001b[32m2025-Jan-13 12:31:11.21\u001b[0m| \u001b[1mINFO    \u001b[0m | \u001b[36mDuncans-MBP.fritz.box\u001b[0m| \u001b[36msuperduper.base.apply\u001b[0m:\u001b[36m83  \u001b[0m | \u001b[1m----------------------------------------------------------------------------------------------------\u001b[0m\n",
      "\u001b[32m2025-Jan-13 12:31:11.21\u001b[0m| \u001b[1mINFO    \u001b[0m | \u001b[36mDuncans-MBP.fritz.box\u001b[0m| \u001b[36msuperduper.base.apply\u001b[0m:\u001b[36m90  \u001b[0m | \u001b[1m[0]: model:llm-openai:6afc7764b1bd4861: create ~ [3]\u001b[0m\n",
      "\u001b[32m2025-Jan-13 12:31:11.21\u001b[0m| \u001b[1mINFO    \u001b[0m | \u001b[36mDuncans-MBP.fritz.box\u001b[0m| \u001b[36msuperduper.base.apply\u001b[0m:\u001b[36m90  \u001b[0m | \u001b[1m[1]: model:llm-anthropic:68ef079ea5cd44d0: create ~ [3]\u001b[0m\n",
      "\u001b[32m2025-Jan-13 12:31:11.21\u001b[0m| \u001b[1mINFO    \u001b[0m | \u001b[36mDuncans-MBP.fritz.box\u001b[0m| \u001b[36msuperduper.base.apply\u001b[0m:\u001b[36m90  \u001b[0m | \u001b[1m[2]: model:llm-vllm:cdbfc548ab844210: create ~ [3]\u001b[0m\n",
      "\u001b[32m2025-Jan-13 12:31:11.21\u001b[0m| \u001b[1mINFO    \u001b[0m | \u001b[36mDuncans-MBP.fritz.box\u001b[0m| \u001b[36msuperduper.base.apply\u001b[0m:\u001b[36m90  \u001b[0m | \u001b[1m[3]: model:llm:af0f388be6aa401e: create ~ [4]\u001b[0m\n",
      "\u001b[32m2025-Jan-13 12:31:11.21\u001b[0m| \u001b[1mINFO    \u001b[0m | \u001b[36mDuncans-MBP.fritz.box\u001b[0m| \u001b[36msuperduper.base.apply\u001b[0m:\u001b[36m94  \u001b[0m | \u001b[1m[4]: model:rag-model:079efb7994944436: create\u001b[0m\n",
      "\u001b[32m2025-Jan-13 12:31:11.21\u001b[0m| \u001b[1mINFO    \u001b[0m | \u001b[36mDuncans-MBP.fritz.box\u001b[0m| \u001b[36msuperduper.base.apply\u001b[0m:\u001b[36m96  \u001b[0m | \u001b[1m----------------------------------------------------------------------------------------------------\u001b[0m\n",
      "\u001b[32m2025-Jan-13 12:31:11.21\u001b[0m| \u001b[1mINFO    \u001b[0m | \u001b[36mDuncans-MBP.fritz.box\u001b[0m| \u001b[36msuperduper.base.apply\u001b[0m:\u001b[36m97  \u001b[0m | \u001b[1mJOBS EVENTS:\u001b[0m\n",
      "\u001b[32m2025-Jan-13 12:31:11.21\u001b[0m| \u001b[1mINFO    \u001b[0m | \u001b[36mDuncans-MBP.fritz.box\u001b[0m| \u001b[36msuperduper.base.apply\u001b[0m:\u001b[36m98  \u001b[0m | \u001b[1m----------------------------------------------------------------------------------------------------\u001b[0m\n",
      "\u001b[32m2025-Jan-13 12:31:11.21\u001b[0m| \u001b[1mINFO    \u001b[0m | \u001b[36mDuncans-MBP.fritz.box\u001b[0m| \u001b[36msuperduper.base.apply\u001b[0m:\u001b[36m102 \u001b[0m | \u001b[1mNo job events...\u001b[0m\n",
      "\u001b[32m2025-Jan-13 12:31:11.21\u001b[0m| \u001b[1mINFO    \u001b[0m | \u001b[36mDuncans-MBP.fritz.box\u001b[0m| \u001b[36msuperduper.base.apply\u001b[0m:\u001b[36m113 \u001b[0m | \u001b[1m----------------------------------------------------------------------------------------------------\u001b[0m\n",
      "\u001b[32m2025-Jan-13 12:31:11.21\u001b[0m| \u001b[1mINFO    \u001b[0m | \u001b[36mDuncans-MBP.fritz.box\u001b[0m| \u001b[36msuperduper.base.datalayer\u001b[0m:\u001b[36m562 \u001b[0m | \u001b[1mComponent 6afc7764b1bd4861 not found in cache, loading from db with uuid\u001b[0m\n",
      "\u001b[32m2025-Jan-13 12:31:11.21\u001b[0m| \u001b[1mINFO    \u001b[0m | \u001b[36mDuncans-MBP.fritz.box\u001b[0m| \u001b[36msuperduper.base.datalayer\u001b[0m:\u001b[36m584 \u001b[0m | \u001b[1mAdding model:llm-openai:6afc7764b1bd4861 to cache\u001b[0m\n",
      "\u001b[32m2025-Jan-13 12:31:11.21\u001b[0m| \u001b[1mINFO    \u001b[0m | \u001b[36mDuncans-MBP.fritz.box\u001b[0m| \u001b[36msuperduper.components.component\u001b[0m:\u001b[36m620 \u001b[0m | \u001b[1mAdding model: llm-openai to cache\u001b[0m\n",
      "\u001b[32m2025-Jan-13 12:31:11.21\u001b[0m| \u001b[1mINFO    \u001b[0m | \u001b[36mDuncans-MBP.fritz.box\u001b[0m| \u001b[36msuperduper.base.datalayer\u001b[0m:\u001b[36m562 \u001b[0m | \u001b[1mComponent 68ef079ea5cd44d0 not found in cache, loading from db with uuid\u001b[0m\n",
      "\u001b[32m2025-Jan-13 12:31:11.21\u001b[0m| \u001b[1mINFO    \u001b[0m | \u001b[36mDuncans-MBP.fritz.box\u001b[0m| \u001b[36msuperduper.base.datalayer\u001b[0m:\u001b[36m584 \u001b[0m | \u001b[1mAdding model:llm-anthropic:68ef079ea5cd44d0 to cache\u001b[0m\n",
      "\u001b[32m2025-Jan-13 12:31:11.21\u001b[0m| \u001b[1mINFO    \u001b[0m | \u001b[36mDuncans-MBP.fritz.box\u001b[0m| \u001b[36msuperduper.components.component\u001b[0m:\u001b[36m620 \u001b[0m | \u001b[1mAdding model: llm-anthropic to cache\u001b[0m\n",
      "\u001b[32m2025-Jan-13 12:31:11.21\u001b[0m| \u001b[1mINFO    \u001b[0m | \u001b[36mDuncans-MBP.fritz.box\u001b[0m| \u001b[36msuperduper.base.datalayer\u001b[0m:\u001b[36m562 \u001b[0m | \u001b[1mComponent cdbfc548ab844210 not found in cache, loading from db with uuid\u001b[0m\n",
      "\u001b[32m2025-Jan-13 12:31:11.21\u001b[0m| \u001b[1mINFO    \u001b[0m | \u001b[36mDuncans-MBP.fritz.box\u001b[0m| \u001b[36msuperduper_vllm.model\u001b[0m:\u001b[36m31  \u001b[0m | \u001b[1mSetting num_gpus to 1\u001b[0m\n",
      "\u001b[32m2025-Jan-13 12:31:11.21\u001b[0m| \u001b[1mINFO    \u001b[0m | \u001b[36mDuncans-MBP.fritz.box\u001b[0m| \u001b[36msuperduper.base.datalayer\u001b[0m:\u001b[36m584 \u001b[0m | \u001b[1mAdding model:llm-vllm:cdbfc548ab844210 to cache\u001b[0m\n",
      "\u001b[32m2025-Jan-13 12:31:11.21\u001b[0m| \u001b[1mINFO    \u001b[0m | \u001b[36mDuncans-MBP.fritz.box\u001b[0m| \u001b[36msuperduper.components.component\u001b[0m:\u001b[36m620 \u001b[0m | \u001b[1mAdding model: llm-vllm to cache\u001b[0m\n",
      "\u001b[32m2025-Jan-13 12:31:11.21\u001b[0m| \u001b[1mINFO    \u001b[0m | \u001b[36mDuncans-MBP.fritz.box\u001b[0m| \u001b[36msuperduper.base.datalayer\u001b[0m:\u001b[36m562 \u001b[0m | \u001b[1mComponent af0f388be6aa401e not found in cache, loading from db with uuid\u001b[0m\n",
      "\u001b[32m2025-Jan-13 12:31:11.21\u001b[0m| \u001b[1mINFO    \u001b[0m | \u001b[36mDuncans-MBP.fritz.box\u001b[0m| \u001b[36msuperduper.base.datalayer\u001b[0m:\u001b[36m584 \u001b[0m | \u001b[1mAdding model:llm:af0f388be6aa401e to cache\u001b[0m\n",
      "\u001b[32m2025-Jan-13 12:31:11.21\u001b[0m| \u001b[1mINFO    \u001b[0m | \u001b[36mDuncans-MBP.fritz.box\u001b[0m| \u001b[36msuperduper.components.component\u001b[0m:\u001b[36m620 \u001b[0m | \u001b[1mAdding model: llm to cache\u001b[0m\n",
      "\u001b[32m2025-Jan-13 12:31:11.21\u001b[0m| \u001b[1mINFO    \u001b[0m | \u001b[36mDuncans-MBP.fritz.box\u001b[0m| \u001b[36msuperduper.base.datalayer\u001b[0m:\u001b[36m562 \u001b[0m | \u001b[1mComponent 079efb7994944436 not found in cache, loading from db with uuid\u001b[0m\n",
      "\u001b[32m2025-Jan-13 12:31:11.21\u001b[0m| \u001b[1mINFO    \u001b[0m | \u001b[36mDuncans-MBP.fritz.box\u001b[0m| \u001b[36msuperduper.base.datalayer\u001b[0m:\u001b[36m584 \u001b[0m | \u001b[1mAdding model:rag-model:079efb7994944436 to cache\u001b[0m\n",
      "\u001b[32m2025-Jan-13 12:31:11.21\u001b[0m| \u001b[1mINFO    \u001b[0m | \u001b[36mDuncans-MBP.fritz.box\u001b[0m| \u001b[36msuperduper.components.component\u001b[0m:\u001b[36m620 \u001b[0m | \u001b[1mAdding model: rag-model to cache\u001b[0m\n",
      "\u001b[32m2025-Jan-13 12:31:11.21\u001b[0m| \u001b[33m\u001b[1mWARNING \u001b[0m | \u001b[36mDuncans-MBP.fritz.box\u001b[0m| \u001b[36msuperduper.backends.local.compute\u001b[0m:\u001b[36m52  \u001b[0m | \u001b[33m\u001b[1mCould not release futures for context 079efb7994944436\u001b[0m\n",
      "\u001b[32m2025-Jan-13 12:31:11.21\u001b[0m| \u001b[1mINFO    \u001b[0m | \u001b[36mDuncans-MBP.fritz.box\u001b[0m| \u001b[36msuperduper.backends.local.queue\u001b[0m:\u001b[36m120 \u001b[0m | \u001b[1mConsumed all events\u001b[0m\n"
     ]
    }
   ],
   "source": [
    "if APPLY:\n",
    "    db.apply(rag, force=True)"
   ]
  },
  {
   "cell_type": "code",
   "execution_count": 20,
   "id": "2a82ea22-9694-4c65-b72f-c89ae49d1ab2",
   "metadata": {},
   "outputs": [
    {
     "name": "stdout",
     "output_type": "stream",
     "text": [
      "\u001b[32m2025-Jan-13 12:31:11.24\u001b[0m| \u001b[1mINFO    \u001b[0m | \u001b[36mDuncans-MBP.fritz.box\u001b[0m| \u001b[36msuperduper.base.datalayer\u001b[0m:\u001b[36m802 \u001b[0m | \u001b[1mGetting vector-index\u001b[0m\n",
      "\u001b[32m2025-Jan-13 12:31:11.24\u001b[0m| \u001b[1mINFO    \u001b[0m | \u001b[36mDuncans-MBP.fritz.box\u001b[0m| \u001b[36msuperduper.base.datalayer\u001b[0m:\u001b[36m810 \u001b[0m | \u001b[1m{}\u001b[0m\n",
      "\u001b[32m2025-Jan-13 12:31:11.24\u001b[0m| \u001b[1mINFO    \u001b[0m | \u001b[36mDuncans-MBP.fritz.box\u001b[0m| \u001b[36msuperduper.components.model\u001b[0m:\u001b[36m1335\u001b[0m | \u001b[1mPredicting with model openai\u001b[0m\n",
      "\u001b[32m2025-Jan-13 12:31:11.55\u001b[0m| \u001b[1mINFO    \u001b[0m | \u001b[36mDuncans-MBP.fritz.box\u001b[0m| \u001b[36msuperduper.base.datalayer\u001b[0m:\u001b[36m802 \u001b[0m | \u001b[1mGetting vector-index\u001b[0m\n",
      "\u001b[32m2025-Jan-13 12:31:11.56\u001b[0m| \u001b[1mINFO    \u001b[0m | \u001b[36mDuncans-MBP.fritz.box\u001b[0m| \u001b[36msuperduper.base.datalayer\u001b[0m:\u001b[36m810 \u001b[0m | \u001b[1m{}\u001b[0m\n",
      "\u001b[32m2025-Jan-13 12:31:11.56\u001b[0m| \u001b[1mINFO    \u001b[0m | \u001b[36mDuncans-MBP.fritz.box\u001b[0m| \u001b[36msuperduper.components.model\u001b[0m:\u001b[36m1335\u001b[0m | \u001b[1mPredicting with model openai\u001b[0m\n",
      "\u001b[32m2025-Jan-13 12:31:11.95\u001b[0m| \u001b[1mINFO    \u001b[0m | \u001b[36mDuncans-MBP.fritz.box\u001b[0m| \u001b[36msuperduper.components.model\u001b[0m:\u001b[36m1335\u001b[0m | \u001b[1mPredicting with model openai\u001b[0m\n",
      "Vector-search is a feature in Superduper that allows users to implement vector-search in their database using in-database functionality or through a sidecar implementation with `lance` and `FastAPI`. It involves preparing vectors, arrays, or tensors as outputs and using them in database queries. A vector-search query has a schematic form where the operand is vectorized using registered models and the results are filtered. Superduper aims to provide first-class support for vector-search, including embedding computation in preparation and run-time, fast vector-comparison, and returning results compatible with standard database queries. Additionally, databases can include their own native vector-comparison and search operations, which Superduper supports by configuring the cluster to use the inbuilt mechanism of the database backend, such as MongoDB Atlas.\n"
     ]
    }
   ],
   "source": [
    "if APPLY:\n",
    "    print(rag.predict('Tell me about vector-search'))"
   ]
  },
  {
   "cell_type": "markdown",
   "id": "183bf5b6-4644-4e4c-b65b-e6bafdc6b49f",
   "metadata": {},
   "source": [
    "By applying the RAG model to the database, it will subsequently be accessible for use in other services."
   ]
  },
  {
   "cell_type": "code",
   "execution_count": 21,
   "id": "e6787c78-4b14-4a72-818b-450408a74331",
   "metadata": {},
   "outputs": [
    {
     "name": "stdout",
     "output_type": "stream",
     "text": [
      "\u001b[32m2025-Jan-13 12:31:13.84\u001b[0m| \u001b[1mINFO    \u001b[0m | \u001b[36mDuncans-MBP.fritz.box\u001b[0m| \u001b[36msuperduper.components.application\u001b[0m:\u001b[36m39  \u001b[0m | \u001b[1mResorting components based on topological order.\u001b[0m\n",
      "\u001b[32m2025-Jan-13 12:31:13.84\u001b[0m| \u001b[1mINFO    \u001b[0m | \u001b[36mDuncans-MBP.fritz.box\u001b[0m| \u001b[36msuperduper.components.application\u001b[0m:\u001b[36m56  \u001b[0m | \u001b[1mNew order of components: ['listener:chunker:c287b7208d19494e', 'vector_index:vectorindex:dbeadf90742041b2', 'model:rag-model:079efb7994944436']\u001b[0m\n"
     ]
    }
   ],
   "source": [
    "from superduper import Application\n",
    "\n",
    "app = Application(\n",
    "    'rag-app',\n",
    "    components=[\n",
    "        upstream_listener,\n",
    "        vector_index,\n",
    "        rag,\n",
    "    ]\n",
    ")"
   ]
  },
  {
   "cell_type": "code",
   "execution_count": 22,
   "id": "e7c16557-af76-4e70-83d9-2984e19a9554",
   "metadata": {},
   "outputs": [
    {
     "name": "stdout",
     "output_type": "stream",
     "text": [
      "\u001b[32m2025-Jan-13 12:31:13.86\u001b[0m| \u001b[33m\u001b[1mWARNING \u001b[0m | \u001b[36mDuncans-MBP.fritz.box\u001b[0m| \u001b[36msuperduper.base.document\u001b[0m:\u001b[36m564 \u001b[0m | \u001b[33m\u001b[1mLeaf ID already exists\u001b[0m\n",
      "\u001b[32m2025-Jan-13 12:31:13.86\u001b[0m| \u001b[33m\u001b[1mWARNING \u001b[0m | \u001b[36mDuncans-MBP.fritz.box\u001b[0m| \u001b[36msuperduper.base.document\u001b[0m:\u001b[36m564 \u001b[0m | \u001b[33m\u001b[1mLeaf str already exists\u001b[0m\n",
      "\u001b[32m2025-Jan-13 12:31:13.87\u001b[0m| \u001b[33m\u001b[1mWARNING \u001b[0m | \u001b[36mDuncans-MBP.fritz.box\u001b[0m| \u001b[36msuperduper.base.document\u001b[0m:\u001b[36m564 \u001b[0m | \u001b[33m\u001b[1mLeaf ID already exists\u001b[0m\n",
      "\u001b[32m2025-Jan-13 12:31:13.87\u001b[0m| \u001b[33m\u001b[1mWARNING \u001b[0m | \u001b[36mDuncans-MBP.fritz.box\u001b[0m| \u001b[36msuperduper.base.document\u001b[0m:\u001b[36m564 \u001b[0m | \u001b[33m\u001b[1mLeaf str already exists\u001b[0m\n",
      "\u001b[32m2025-Jan-13 12:31:15.46\u001b[0m| \u001b[33m\u001b[1mWARNING \u001b[0m | \u001b[36mDuncans-MBP.fritz.box\u001b[0m| \u001b[36msuperduper.base.document\u001b[0m:\u001b[36m564 \u001b[0m | \u001b[33m\u001b[1mLeaf ID already exists\u001b[0m\n",
      "\u001b[32m2025-Jan-13 12:31:15.46\u001b[0m| \u001b[33m\u001b[1mWARNING \u001b[0m | \u001b[36mDuncans-MBP.fritz.box\u001b[0m| \u001b[36msuperduper.base.document\u001b[0m:\u001b[36m564 \u001b[0m | \u001b[33m\u001b[1mLeaf str already exists\u001b[0m\n",
      "\u001b[32m2025-Jan-13 12:31:15.47\u001b[0m| \u001b[33m\u001b[1mWARNING \u001b[0m | \u001b[36mDuncans-MBP.fritz.box\u001b[0m| \u001b[36msuperduper.base.document\u001b[0m:\u001b[36m564 \u001b[0m | \u001b[33m\u001b[1mLeaf ID already exists\u001b[0m\n",
      "\u001b[32m2025-Jan-13 12:31:15.47\u001b[0m| \u001b[33m\u001b[1mWARNING \u001b[0m | \u001b[36mDuncans-MBP.fritz.box\u001b[0m| \u001b[36msuperduper.base.document\u001b[0m:\u001b[36m564 \u001b[0m | \u001b[33m\u001b[1mLeaf str already exists\u001b[0m\n",
      "\u001b[32m2025-Jan-13 12:31:17.05\u001b[0m| \u001b[33m\u001b[1mWARNING \u001b[0m | \u001b[36mDuncans-MBP.fritz.box\u001b[0m| \u001b[36msuperduper.components.listener\u001b[0m:\u001b[36m76  \u001b[0m | \u001b[33m\u001b[1moutput_table not found in listener.dict()\u001b[0m\n",
      "\u001b[32m2025-Jan-13 12:31:17.06\u001b[0m| \u001b[1mINFO    \u001b[0m | \u001b[36mDuncans-MBP.fritz.box\u001b[0m| \u001b[36msuperduper.base.apply\u001b[0m:\u001b[36m265 \u001b[0m | \u001b[1mFound identical model:chunker:db30a0cd385740f3\u001b[0m\n",
      "\u001b[32m2025-Jan-13 12:31:17.06\u001b[0m| \u001b[1mINFO    \u001b[0m | \u001b[36mDuncans-MBP.fritz.box\u001b[0m| \u001b[36msuperduper.base.apply\u001b[0m:\u001b[36m341 \u001b[0m | \u001b[1mFound update model:chunker:db30a0cd385740f3\u001b[0m\n",
      "\u001b[32m2025-Jan-13 12:31:17.06\u001b[0m| \u001b[33m\u001b[1mWARNING \u001b[0m | \u001b[36mDuncans-MBP.fritz.box\u001b[0m| \u001b[36msuperduper.backends.local.artifacts\u001b[0m:\u001b[36m87  \u001b[0m | \u001b[33m\u001b[1mFile /tmp/test_db/3d17ec69b27fea98f37d8b1e17e19691aaa0789b already exists\u001b[0m\n",
      "\u001b[32m2025-Jan-13 12:31:17.06\u001b[0m| \u001b[33m\u001b[1mWARNING \u001b[0m | \u001b[36mDuncans-MBP.fritz.box\u001b[0m| \u001b[36msuperduper.components.listener\u001b[0m:\u001b[36m76  \u001b[0m | \u001b[33m\u001b[1moutput_table not found in listener.dict()\u001b[0m\n",
      "\u001b[32m2025-Jan-13 12:31:17.06\u001b[0m| \u001b[1mINFO    \u001b[0m | \u001b[36mDuncans-MBP.fritz.box\u001b[0m| \u001b[36msuperduper.base.apply\u001b[0m:\u001b[36m265 \u001b[0m | \u001b[1mFound identical listener:chunker:c287b7208d19494e\u001b[0m\n",
      "\u001b[32m2025-Jan-13 12:31:17.06\u001b[0m| \u001b[33m\u001b[1mWARNING \u001b[0m | \u001b[36mDuncans-MBP.fritz.box\u001b[0m| \u001b[36msuperduper.components.listener\u001b[0m:\u001b[36m76  \u001b[0m | \u001b[33m\u001b[1moutput_table not found in listener.dict()\u001b[0m\n",
      "\u001b[32m2025-Jan-13 12:31:17.06\u001b[0m| \u001b[33m\u001b[1mWARNING \u001b[0m | \u001b[36mDuncans-MBP.fritz.box\u001b[0m| \u001b[36msuperduper.components.listener\u001b[0m:\u001b[36m76  \u001b[0m | \u001b[33m\u001b[1moutput_table not found in listener.dict()\u001b[0m\n",
      "\u001b[32m2025-Jan-13 12:31:17.07\u001b[0m| \u001b[1mINFO    \u001b[0m | \u001b[36mDuncans-MBP.fritz.box\u001b[0m| \u001b[36msuperduper.base.apply\u001b[0m:\u001b[36m265 \u001b[0m | \u001b[1mFound identical model:chunker:db30a0cd385740f3\u001b[0m\n",
      "\u001b[32m2025-Jan-13 12:31:17.07\u001b[0m| \u001b[1mINFO    \u001b[0m | \u001b[36mDuncans-MBP.fritz.box\u001b[0m| \u001b[36msuperduper.base.apply\u001b[0m:\u001b[36m341 \u001b[0m | \u001b[1mFound update model:chunker:db30a0cd385740f3\u001b[0m\n",
      "\u001b[32m2025-Jan-13 12:31:17.07\u001b[0m| \u001b[33m\u001b[1mWARNING \u001b[0m | \u001b[36mDuncans-MBP.fritz.box\u001b[0m| \u001b[36msuperduper.backends.local.artifacts\u001b[0m:\u001b[36m87  \u001b[0m | \u001b[33m\u001b[1mFile /tmp/test_db/3d17ec69b27fea98f37d8b1e17e19691aaa0789b already exists\u001b[0m\n",
      "\u001b[32m2025-Jan-13 12:31:17.07\u001b[0m| \u001b[33m\u001b[1mWARNING \u001b[0m | \u001b[36mDuncans-MBP.fritz.box\u001b[0m| \u001b[36msuperduper.components.listener\u001b[0m:\u001b[36m76  \u001b[0m | \u001b[33m\u001b[1moutput_table not found in listener.dict()\u001b[0m\n",
      "\u001b[32m2025-Jan-13 12:31:17.07\u001b[0m| \u001b[1mINFO    \u001b[0m | \u001b[36mDuncans-MBP.fritz.box\u001b[0m| \u001b[36msuperduper.base.apply\u001b[0m:\u001b[36m265 \u001b[0m | \u001b[1mFound identical listener:chunker:c287b7208d19494e\u001b[0m\n",
      "\u001b[32m2025-Jan-13 12:31:17.08\u001b[0m| \u001b[1mINFO    \u001b[0m | \u001b[36mDuncans-MBP.fritz.box\u001b[0m| \u001b[36msuperduper.base.apply\u001b[0m:\u001b[36m265 \u001b[0m | \u001b[1mFound identical datatype:vector[1536]:68a778b97abd494e\u001b[0m\n",
      "\u001b[32m2025-Jan-13 12:31:17.08\u001b[0m| \u001b[1mINFO    \u001b[0m | \u001b[36mDuncans-MBP.fritz.box\u001b[0m| \u001b[36msuperduper.base.apply\u001b[0m:\u001b[36m341 \u001b[0m | \u001b[1mFound update datatype:vector[1536]:68a778b97abd494e\u001b[0m\n",
      "\u001b[32m2025-Jan-13 12:31:17.08\u001b[0m| \u001b[1mINFO    \u001b[0m | \u001b[36mDuncans-MBP.fritz.box\u001b[0m| \u001b[36msuperduper.base.apply\u001b[0m:\u001b[36m265 \u001b[0m | \u001b[1mFound identical datatype:vector[1536]:68a778b97abd494e\u001b[0m\n",
      "\u001b[32m2025-Jan-13 12:31:17.08\u001b[0m| \u001b[1mINFO    \u001b[0m | \u001b[36mDuncans-MBP.fritz.box\u001b[0m| \u001b[36msuperduper.base.apply\u001b[0m:\u001b[36m341 \u001b[0m | \u001b[1mFound update datatype:vector[1536]:68a778b97abd494e\u001b[0m\n",
      "\u001b[32m2025-Jan-13 12:31:17.08\u001b[0m| \u001b[1mINFO    \u001b[0m | \u001b[36mDuncans-MBP.fritz.box\u001b[0m| \u001b[36msuperduper.base.apply\u001b[0m:\u001b[36m265 \u001b[0m | \u001b[1mFound identical model:text-embedding-ada-002:2cac6459947147c3\u001b[0m\n",
      "\u001b[32m2025-Jan-13 12:31:18.65\u001b[0m| \u001b[1mINFO    \u001b[0m | \u001b[36mDuncans-MBP.fritz.box\u001b[0m| \u001b[36msuperduper.base.apply\u001b[0m:\u001b[36m265 \u001b[0m | \u001b[1mFound identical datatype:vector[1024]:410a10d549b64f50\u001b[0m\n",
      "\u001b[32m2025-Jan-13 12:31:18.65\u001b[0m| \u001b[1mINFO    \u001b[0m | \u001b[36mDuncans-MBP.fritz.box\u001b[0m| \u001b[36msuperduper.base.apply\u001b[0m:\u001b[36m341 \u001b[0m | \u001b[1mFound update datatype:vector[1024]:410a10d549b64f50\u001b[0m\n",
      "\u001b[32m2025-Jan-13 12:31:20.31\u001b[0m| \u001b[1mINFO    \u001b[0m | \u001b[36mDuncans-MBP.fritz.box\u001b[0m| \u001b[36msuperduper.base.apply\u001b[0m:\u001b[36m265 \u001b[0m | \u001b[1mFound identical model:sentence-transformers-embedding:e272e295c8ba4fb4\u001b[0m\n",
      "\u001b[32m2025-Jan-13 12:31:21.90\u001b[0m| \u001b[1mINFO    \u001b[0m | \u001b[36mDuncans-MBP.fritz.box\u001b[0m| \u001b[36msuperduper.base.apply\u001b[0m:\u001b[36m341 \u001b[0m | \u001b[1mFound update model:sentence-transformers-embedding:e272e295c8ba4fb4\u001b[0m\n",
      "\u001b[32m2025-Jan-13 12:31:21.90\u001b[0m| \u001b[33m\u001b[1mWARNING \u001b[0m | \u001b[36mDuncans-MBP.fritz.box\u001b[0m| \u001b[36msuperduper.backends.local.artifacts\u001b[0m:\u001b[36m87  \u001b[0m | \u001b[33m\u001b[1mFile /tmp/test_db/ea6966092543717b01973a0109bd917ecd83bf38 already exists\u001b[0m\n",
      "\u001b[32m2025-Jan-13 12:31:21.90\u001b[0m| \u001b[1mINFO    \u001b[0m | \u001b[36mDuncans-MBP.fritz.box\u001b[0m| \u001b[36msuperduper.base.apply\u001b[0m:\u001b[36m265 \u001b[0m | \u001b[1mFound identical model:embedding:ddc3f5f8b8af4fbd\u001b[0m\n",
      "\u001b[32m2025-Jan-13 12:31:21.90\u001b[0m| \u001b[1mINFO    \u001b[0m | \u001b[36mDuncans-MBP.fritz.box\u001b[0m| \u001b[36msuperduper.base.apply\u001b[0m:\u001b[36m341 \u001b[0m | \u001b[1mFound update model:embedding:ddc3f5f8b8af4fbd\u001b[0m\n",
      "\u001b[32m2025-Jan-13 12:31:21.90\u001b[0m| \u001b[33m\u001b[1mWARNING \u001b[0m | \u001b[36mDuncans-MBP.fritz.box\u001b[0m| \u001b[36msuperduper.components.listener\u001b[0m:\u001b[36m76  \u001b[0m | \u001b[33m\u001b[1moutput_table not found in listener.dict()\u001b[0m\n",
      "\u001b[32m2025-Jan-13 12:31:21.90\u001b[0m| \u001b[1mINFO    \u001b[0m | \u001b[36mDuncans-MBP.fritz.box\u001b[0m| \u001b[36msuperduper.base.apply\u001b[0m:\u001b[36m265 \u001b[0m | \u001b[1mFound identical listener:embeddinglistener:772ac0c8786e4153\u001b[0m\n",
      "\u001b[32m2025-Jan-13 12:31:21.90\u001b[0m| \u001b[1mINFO    \u001b[0m | \u001b[36mDuncans-MBP.fritz.box\u001b[0m| \u001b[36msuperduper.base.apply\u001b[0m:\u001b[36m265 \u001b[0m | \u001b[1mFound identical vector_index:vectorindex:dbeadf90742041b2\u001b[0m\n",
      "\u001b[32m2025-Jan-13 12:31:21.90\u001b[0m| \u001b[1mINFO    \u001b[0m | \u001b[36mDuncans-MBP.fritz.box\u001b[0m| \u001b[36msuperduper.base.apply\u001b[0m:\u001b[36m265 \u001b[0m | \u001b[1mFound identical model:llm-openai:6afc7764b1bd4861\u001b[0m\n",
      "\u001b[32m2025-Jan-13 12:31:21.90\u001b[0m| \u001b[1mINFO    \u001b[0m | \u001b[36mDuncans-MBP.fritz.box\u001b[0m| \u001b[36msuperduper.base.apply\u001b[0m:\u001b[36m265 \u001b[0m | \u001b[1mFound identical model:llm-anthropic:68ef079ea5cd44d0\u001b[0m\n",
      "\u001b[32m2025-Jan-13 12:31:21.90\u001b[0m| \u001b[1mINFO    \u001b[0m | \u001b[36mDuncans-MBP.fritz.box\u001b[0m| \u001b[36msuperduper.base.apply\u001b[0m:\u001b[36m265 \u001b[0m | \u001b[1mFound identical model:llm-vllm:cdbfc548ab844210\u001b[0m\n",
      "\u001b[32m2025-Jan-13 12:31:21.90\u001b[0m| \u001b[1mINFO    \u001b[0m | \u001b[36mDuncans-MBP.fritz.box\u001b[0m| \u001b[36msuperduper.base.apply\u001b[0m:\u001b[36m265 \u001b[0m | \u001b[1mFound identical model:llm:af0f388be6aa401e\u001b[0m\n",
      "\u001b[32m2025-Jan-13 12:31:21.90\u001b[0m| \u001b[1mINFO    \u001b[0m | \u001b[36mDuncans-MBP.fritz.box\u001b[0m| \u001b[36msuperduper.base.apply\u001b[0m:\u001b[36m341 \u001b[0m | \u001b[1mFound update model:llm:af0f388be6aa401e\u001b[0m\n",
      "\u001b[32m2025-Jan-13 12:31:21.90\u001b[0m| \u001b[1mINFO    \u001b[0m | \u001b[36mDuncans-MBP.fritz.box\u001b[0m| \u001b[36msuperduper.base.apply\u001b[0m:\u001b[36m265 \u001b[0m | \u001b[1mFound identical model:rag-model:079efb7994944436\u001b[0m\n",
      "\u001b[32m2025-Jan-13 12:31:21.90\u001b[0m| \u001b[1mINFO    \u001b[0m | \u001b[36mDuncans-MBP.fritz.box\u001b[0m| \u001b[36msuperduper.base.datalayer\u001b[0m:\u001b[36m593 \u001b[0m | \u001b[1mComponent (application, rag-app) not found in cache, loading from db\u001b[0m\n",
      "\u001b[32m2025-Jan-13 12:31:21.90\u001b[0m| \u001b[1mINFO    \u001b[0m | \u001b[36mDuncans-MBP.fritz.box\u001b[0m| \u001b[36msuperduper.base.datalayer\u001b[0m:\u001b[36m599 \u001b[0m | \u001b[1mLoad (('application', 'rag-app')) from metadata...\u001b[0m\n",
      "\u001b[32m2025-Jan-13 12:31:21.90\u001b[0m| \u001b[1mINFO    \u001b[0m | \u001b[36mDuncans-MBP.fritz.box\u001b[0m| \u001b[36msuperduper.base.apply\u001b[0m:\u001b[36m359 \u001b[0m | \u001b[1mFound new application:rag-app:26889e5848ea4225\u001b[0m\n",
      "\u001b[32m2025-Jan-13 12:31:21.90\u001b[0m| \u001b[1mINFO    \u001b[0m | \u001b[36mDuncans-MBP.fritz.box\u001b[0m| \u001b[36msuperduper.base.apply\u001b[0m:\u001b[36m73  \u001b[0m | \u001b[1mFound this diff:\u001b[0m\n"
     ]
    },
    {
     "data": {
      "text/html": [
       "<pre style=\"white-space:pre;overflow-x:auto;line-height:normal;font-family:Menlo,'DejaVu Sans Mono',consolas,'Courier New',monospace\">rag-app\n",
       "├── <span style=\"color: #808000; text-decoration-color: #808000; font-weight: bold\">chunker</span>\n",
       "│   ├── <span style=\"color: #008080; text-decoration-color: #008080; font-weight: bold\">status: </span><span style=\"color: #000080; text-decoration-color: #000080; font-weight: bold\">update</span>\n",
       "│   ├── <span style=\"color: #808000; text-decoration-color: #808000; font-weight: bold\">changes</span>\n",
       "│   │   └── <span style=\"color: #008080; text-decoration-color: #008080; font-weight: bold\">_object: </span><span style=\"color: #008000; text-decoration-color: #008000; font-weight: bold\">&amp;:blob:3d17ec69b27fea98f37d8b1e17e19691aaa0789b</span>\n",
       "│   └── <span style=\"color: #008080; text-decoration-color: #008080; font-weight: bold\">type_id: </span><span style=\"color: #008000; text-decoration-color: #008000; font-weight: bold\">model</span>\n",
       "├── <span style=\"color: #808000; text-decoration-color: #808000; font-weight: bold\">vector[1536]</span>\n",
       "│   ├── <span style=\"color: #008080; text-decoration-color: #008080; font-weight: bold\">status: </span><span style=\"color: #000080; text-decoration-color: #000080; font-weight: bold\">update</span>\n",
       "│   ├── <span style=\"color: #808000; text-decoration-color: #808000; font-weight: bold\">changes</span>\n",
       "│   │   └── <span style=\"color: #008080; text-decoration-color: #008080; font-weight: bold\">shape: </span><span style=\"color: #008000; text-decoration-color: #008000; font-weight: bold\">(1536,)</span>\n",
       "│   └── <span style=\"color: #008080; text-decoration-color: #008080; font-weight: bold\">type_id: </span><span style=\"color: #008000; text-decoration-color: #008000; font-weight: bold\">datatype</span>\n",
       "├── <span style=\"color: #808000; text-decoration-color: #808000; font-weight: bold\">vector[1024]</span>\n",
       "│   ├── <span style=\"color: #008080; text-decoration-color: #008080; font-weight: bold\">status: </span><span style=\"color: #000080; text-decoration-color: #000080; font-weight: bold\">update</span>\n",
       "│   ├── <span style=\"color: #808000; text-decoration-color: #808000; font-weight: bold\">changes</span>\n",
       "│   │   └── <span style=\"color: #008080; text-decoration-color: #008080; font-weight: bold\">shape: </span><span style=\"color: #008000; text-decoration-color: #008000; font-weight: bold\">(1024,)</span>\n",
       "│   └── <span style=\"color: #008080; text-decoration-color: #008080; font-weight: bold\">type_id: </span><span style=\"color: #008000; text-decoration-color: #008000; font-weight: bold\">datatype</span>\n",
       "├── <span style=\"color: #808000; text-decoration-color: #808000; font-weight: bold\">sentence-transformers-embedding</span>\n",
       "│   ├── <span style=\"color: #008080; text-decoration-color: #008080; font-weight: bold\">status: </span><span style=\"color: #000080; text-decoration-color: #000080; font-weight: bold\">update</span>\n",
       "│   ├── <span style=\"color: #808000; text-decoration-color: #808000; font-weight: bold\">changes</span>\n",
       "│   │   ├── <span style=\"color: #008080; text-decoration-color: #008080; font-weight: bold\">preferred_devices: </span><span style=\"color: #008000; text-decoration-color: #008000; font-weight: bold\">('cuda', 'mps', 'cpu')</span>\n",
       "│   │   └── <span style=\"color: #008080; text-decoration-color: #008080; font-weight: bold\">postprocess: </span><span style=\"color: #008000; text-decoration-color: #008000; font-weight: bold\">&amp;:blob:ea6966092543717b01973a0109bd917ecd83bf38</span>\n",
       "│   └── <span style=\"color: #008080; text-decoration-color: #008080; font-weight: bold\">type_id: </span><span style=\"color: #008000; text-decoration-color: #008000; font-weight: bold\">model</span>\n",
       "├── <span style=\"color: #808000; text-decoration-color: #808000; font-weight: bold\">embedding</span>\n",
       "│   ├── <span style=\"color: #008080; text-decoration-color: #008080; font-weight: bold\">status: </span><span style=\"color: #000080; text-decoration-color: #000080; font-weight: bold\">update</span>\n",
       "│   ├── <span style=\"color: #808000; text-decoration-color: #808000; font-weight: bold\">changes</span>\n",
       "│   │   └── <span style=\"color: #008080; text-decoration-color: #008080; font-weight: bold\">signature: </span><span style=\"color: #008000; text-decoration-color: #008000; font-weight: bold\">*args,**kwargs</span>\n",
       "│   └── <span style=\"color: #008080; text-decoration-color: #008080; font-weight: bold\">type_id: </span><span style=\"color: #008000; text-decoration-color: #008000; font-weight: bold\">model</span>\n",
       "└── <span style=\"color: #808000; text-decoration-color: #808000; font-weight: bold\">llm</span>\n",
       "    ├── <span style=\"color: #008080; text-decoration-color: #008080; font-weight: bold\">status: </span><span style=\"color: #000080; text-decoration-color: #000080; font-weight: bold\">update</span>\n",
       "    ├── <span style=\"color: #808000; text-decoration-color: #808000; font-weight: bold\">changes</span>\n",
       "    │   └── <span style=\"color: #008080; text-decoration-color: #008080; font-weight: bold\">signature: </span><span style=\"color: #008000; text-decoration-color: #008000; font-weight: bold\">singleton</span>\n",
       "    └── <span style=\"color: #008080; text-decoration-color: #008080; font-weight: bold\">type_id: </span><span style=\"color: #008000; text-decoration-color: #008000; font-weight: bold\">model</span>\n",
       "</pre>\n"
      ],
      "text/plain": [
       "rag-app\n",
       "├── \u001b[1;33mchunker\u001b[0m\n",
       "│   ├── \u001b[1;36mstatus: \u001b[0m\u001b[1;34mupdate\u001b[0m\n",
       "│   ├── \u001b[1;33mchanges\u001b[0m\n",
       "│   │   └── \u001b[1;36m_object: \u001b[0m\u001b[1;32m&:blob:3d17ec69b27fea98f37d8b1e17e19691aaa0789b\u001b[0m\n",
       "│   └── \u001b[1;36mtype_id: \u001b[0m\u001b[1;32mmodel\u001b[0m\n",
       "├── \u001b[1;33mvector[1536]\u001b[0m\n",
       "│   ├── \u001b[1;36mstatus: \u001b[0m\u001b[1;34mupdate\u001b[0m\n",
       "│   ├── \u001b[1;33mchanges\u001b[0m\n",
       "│   │   └── \u001b[1;36mshape: \u001b[0m\u001b[1;32m(1536,)\u001b[0m\n",
       "│   └── \u001b[1;36mtype_id: \u001b[0m\u001b[1;32mdatatype\u001b[0m\n",
       "├── \u001b[1;33mvector[1024]\u001b[0m\n",
       "│   ├── \u001b[1;36mstatus: \u001b[0m\u001b[1;34mupdate\u001b[0m\n",
       "│   ├── \u001b[1;33mchanges\u001b[0m\n",
       "│   │   └── \u001b[1;36mshape: \u001b[0m\u001b[1;32m(1024,)\u001b[0m\n",
       "│   └── \u001b[1;36mtype_id: \u001b[0m\u001b[1;32mdatatype\u001b[0m\n",
       "├── \u001b[1;33msentence-transformers-embedding\u001b[0m\n",
       "│   ├── \u001b[1;36mstatus: \u001b[0m\u001b[1;34mupdate\u001b[0m\n",
       "│   ├── \u001b[1;33mchanges\u001b[0m\n",
       "│   │   ├── \u001b[1;36mpreferred_devices: \u001b[0m\u001b[1;32m('cuda', 'mps', 'cpu')\u001b[0m\n",
       "│   │   └── \u001b[1;36mpostprocess: \u001b[0m\u001b[1;32m&:blob:ea6966092543717b01973a0109bd917ecd83bf38\u001b[0m\n",
       "│   └── \u001b[1;36mtype_id: \u001b[0m\u001b[1;32mmodel\u001b[0m\n",
       "├── \u001b[1;33membedding\u001b[0m\n",
       "│   ├── \u001b[1;36mstatus: \u001b[0m\u001b[1;34mupdate\u001b[0m\n",
       "│   ├── \u001b[1;33mchanges\u001b[0m\n",
       "│   │   └── \u001b[1;36msignature: \u001b[0m\u001b[1;32m*args,**kwargs\u001b[0m\n",
       "│   └── \u001b[1;36mtype_id: \u001b[0m\u001b[1;32mmodel\u001b[0m\n",
       "└── \u001b[1;33mllm\u001b[0m\n",
       "    ├── \u001b[1;36mstatus: \u001b[0m\u001b[1;34mupdate\u001b[0m\n",
       "    ├── \u001b[1;33mchanges\u001b[0m\n",
       "    │   └── \u001b[1;36msignature: \u001b[0m\u001b[1;32msingleton\u001b[0m\n",
       "    └── \u001b[1;36mtype_id: \u001b[0m\u001b[1;32mmodel\u001b[0m\n"
      ]
     },
     "metadata": {},
     "output_type": "display_data"
    },
    {
     "name": "stdout",
     "output_type": "stream",
     "text": [
      "\u001b[32m2025-Jan-13 12:31:21.91\u001b[0m| \u001b[1mINFO    \u001b[0m | \u001b[36mDuncans-MBP.fritz.box\u001b[0m| \u001b[36msuperduper.base.apply\u001b[0m:\u001b[36m79  \u001b[0m | \u001b[1mFound these changes and/ or additions that need to be made:\u001b[0m\n",
      "\u001b[32m2025-Jan-13 12:31:21.91\u001b[0m| \u001b[1mINFO    \u001b[0m | \u001b[36mDuncans-MBP.fritz.box\u001b[0m| \u001b[36msuperduper.base.apply\u001b[0m:\u001b[36m81  \u001b[0m | \u001b[1m----------------------------------------------------------------------------------------------------\u001b[0m\n",
      "\u001b[32m2025-Jan-13 12:31:21.91\u001b[0m| \u001b[1mINFO    \u001b[0m | \u001b[36mDuncans-MBP.fritz.box\u001b[0m| \u001b[36msuperduper.base.apply\u001b[0m:\u001b[36m82  \u001b[0m | \u001b[1mMETADATA EVENTS:\u001b[0m\n",
      "\u001b[32m2025-Jan-13 12:31:21.91\u001b[0m| \u001b[1mINFO    \u001b[0m | \u001b[36mDuncans-MBP.fritz.box\u001b[0m| \u001b[36msuperduper.base.apply\u001b[0m:\u001b[36m83  \u001b[0m | \u001b[1m----------------------------------------------------------------------------------------------------\u001b[0m\n",
      "\u001b[32m2025-Jan-13 12:31:21.91\u001b[0m| \u001b[1mINFO    \u001b[0m | \u001b[36mDuncans-MBP.fritz.box\u001b[0m| \u001b[36msuperduper.base.apply\u001b[0m:\u001b[36m92  \u001b[0m | \u001b[1m[0]: model:chunker:db30a0cd385740f3: update\u001b[0m\n",
      "\u001b[32m2025-Jan-13 12:31:21.91\u001b[0m| \u001b[1mINFO    \u001b[0m | \u001b[36mDuncans-MBP.fritz.box\u001b[0m| \u001b[36msuperduper.base.apply\u001b[0m:\u001b[36m92  \u001b[0m | \u001b[1m[1]: datatype:vector[1536]:68a778b97abd494e: update\u001b[0m\n",
      "\u001b[32m2025-Jan-13 12:31:21.91\u001b[0m| \u001b[1mINFO    \u001b[0m | \u001b[36mDuncans-MBP.fritz.box\u001b[0m| \u001b[36msuperduper.base.apply\u001b[0m:\u001b[36m90  \u001b[0m | \u001b[1m[2]: datatype:vector[1024]:410a10d549b64f50: update ~ [3]\u001b[0m\n",
      "\u001b[32m2025-Jan-13 12:31:21.91\u001b[0m| \u001b[1mINFO    \u001b[0m | \u001b[36mDuncans-MBP.fritz.box\u001b[0m| \u001b[36msuperduper.base.apply\u001b[0m:\u001b[36m90  \u001b[0m | \u001b[1m[3]: model:sentence-transformers-embedding:e272e295c8ba4fb4: update ~ [4]\u001b[0m\n",
      "\u001b[32m2025-Jan-13 12:31:21.91\u001b[0m| \u001b[1mINFO    \u001b[0m | \u001b[36mDuncans-MBP.fritz.box\u001b[0m| \u001b[36msuperduper.base.apply\u001b[0m:\u001b[36m92  \u001b[0m | \u001b[1m[4]: model:embedding:ddc3f5f8b8af4fbd: update\u001b[0m\n",
      "\u001b[32m2025-Jan-13 12:31:21.91\u001b[0m| \u001b[1mINFO    \u001b[0m | \u001b[36mDuncans-MBP.fritz.box\u001b[0m| \u001b[36msuperduper.base.apply\u001b[0m:\u001b[36m92  \u001b[0m | \u001b[1m[5]: model:llm:af0f388be6aa401e: update\u001b[0m\n",
      "\u001b[32m2025-Jan-13 12:31:21.91\u001b[0m| \u001b[1mINFO    \u001b[0m | \u001b[36mDuncans-MBP.fritz.box\u001b[0m| \u001b[36msuperduper.base.apply\u001b[0m:\u001b[36m94  \u001b[0m | \u001b[1m[6]: application:rag-app:26889e5848ea4225: create\u001b[0m\n",
      "\u001b[32m2025-Jan-13 12:31:21.91\u001b[0m| \u001b[1mINFO    \u001b[0m | \u001b[36mDuncans-MBP.fritz.box\u001b[0m| \u001b[36msuperduper.base.apply\u001b[0m:\u001b[36m96  \u001b[0m | \u001b[1m----------------------------------------------------------------------------------------------------\u001b[0m\n",
      "\u001b[32m2025-Jan-13 12:31:21.91\u001b[0m| \u001b[1mINFO    \u001b[0m | \u001b[36mDuncans-MBP.fritz.box\u001b[0m| \u001b[36msuperduper.base.apply\u001b[0m:\u001b[36m97  \u001b[0m | \u001b[1mJOBS EVENTS:\u001b[0m\n",
      "\u001b[32m2025-Jan-13 12:31:21.91\u001b[0m| \u001b[1mINFO    \u001b[0m | \u001b[36mDuncans-MBP.fritz.box\u001b[0m| \u001b[36msuperduper.base.apply\u001b[0m:\u001b[36m98  \u001b[0m | \u001b[1m----------------------------------------------------------------------------------------------------\u001b[0m\n",
      "\u001b[32m2025-Jan-13 12:31:21.91\u001b[0m| \u001b[1mINFO    \u001b[0m | \u001b[36mDuncans-MBP.fritz.box\u001b[0m| \u001b[36msuperduper.base.apply\u001b[0m:\u001b[36m102 \u001b[0m | \u001b[1mNo job events...\u001b[0m\n",
      "\u001b[32m2025-Jan-13 12:31:21.91\u001b[0m| \u001b[1mINFO    \u001b[0m | \u001b[36mDuncans-MBP.fritz.box\u001b[0m| \u001b[36msuperduper.base.apply\u001b[0m:\u001b[36m113 \u001b[0m | \u001b[1m----------------------------------------------------------------------------------------------------\u001b[0m\n",
      "\u001b[32m2025-Jan-13 12:31:21.91\u001b[0m| \u001b[1mINFO    \u001b[0m | \u001b[36mDuncans-MBP.fritz.box\u001b[0m| \u001b[36msuperduper.base.datalayer\u001b[0m:\u001b[36m562 \u001b[0m | \u001b[1mComponent 26889e5848ea4225 not found in cache, loading from db with uuid\u001b[0m\n",
      "\u001b[32m2025-Jan-13 12:31:21.91\u001b[0m| \u001b[1mINFO    \u001b[0m | \u001b[36mDuncans-MBP.fritz.box\u001b[0m| \u001b[36msuperduper.base.datalayer\u001b[0m:\u001b[36m562 \u001b[0m | \u001b[1mComponent c287b7208d19494e not found in cache, loading from db with uuid\u001b[0m\n",
      "\u001b[32m2025-Jan-13 12:31:21.91\u001b[0m| \u001b[1mINFO    \u001b[0m | \u001b[36mDuncans-MBP.fritz.box\u001b[0m| \u001b[36msuperduper.base.datalayer\u001b[0m:\u001b[36m562 \u001b[0m | \u001b[1mComponent db30a0cd385740f3 not found in cache, loading from db with uuid\u001b[0m\n",
      "\u001b[32m2025-Jan-13 12:31:21.91\u001b[0m| \u001b[1mINFO    \u001b[0m | \u001b[36mDuncans-MBP.fritz.box\u001b[0m| \u001b[36msuperduper.base.datalayer\u001b[0m:\u001b[36m584 \u001b[0m | \u001b[1mAdding model:chunker:db30a0cd385740f3 to cache\u001b[0m\n",
      "\u001b[32m2025-Jan-13 12:31:21.91\u001b[0m| \u001b[1mINFO    \u001b[0m | \u001b[36mDuncans-MBP.fritz.box\u001b[0m| \u001b[36msuperduper.base.datalayer\u001b[0m:\u001b[36m584 \u001b[0m | \u001b[1mAdding listener:chunker:c287b7208d19494e to cache\u001b[0m\n",
      "\u001b[32m2025-Jan-13 12:31:21.91\u001b[0m| \u001b[1mINFO    \u001b[0m | \u001b[36mDuncans-MBP.fritz.box\u001b[0m| \u001b[36msuperduper.base.datalayer\u001b[0m:\u001b[36m562 \u001b[0m | \u001b[1mComponent dbeadf90742041b2 not found in cache, loading from db with uuid\u001b[0m\n",
      "\u001b[32m2025-Jan-13 12:31:21.91\u001b[0m| \u001b[1mINFO    \u001b[0m | \u001b[36mDuncans-MBP.fritz.box\u001b[0m| \u001b[36msuperduper.base.datalayer\u001b[0m:\u001b[36m562 \u001b[0m | \u001b[1mComponent 772ac0c8786e4153 not found in cache, loading from db with uuid\u001b[0m\n",
      "\u001b[32m2025-Jan-13 12:31:21.91\u001b[0m| \u001b[1mINFO    \u001b[0m | \u001b[36mDuncans-MBP.fritz.box\u001b[0m| \u001b[36msuperduper.base.datalayer\u001b[0m:\u001b[36m562 \u001b[0m | \u001b[1mComponent ddc3f5f8b8af4fbd not found in cache, loading from db with uuid\u001b[0m\n",
      "\u001b[32m2025-Jan-13 12:31:21.91\u001b[0m| \u001b[1mINFO    \u001b[0m | \u001b[36mDuncans-MBP.fritz.box\u001b[0m| \u001b[36msuperduper.base.datalayer\u001b[0m:\u001b[36m562 \u001b[0m | \u001b[1mComponent 68a778b97abd494e not found in cache, loading from db with uuid\u001b[0m\n",
      "\u001b[32m2025-Jan-13 12:31:21.91\u001b[0m| \u001b[1mINFO    \u001b[0m | \u001b[36mDuncans-MBP.fritz.box\u001b[0m| \u001b[36msuperduper.base.datalayer\u001b[0m:\u001b[36m584 \u001b[0m | \u001b[1mAdding datatype:vector[1536]:68a778b97abd494e to cache\u001b[0m\n",
      "\u001b[32m2025-Jan-13 12:31:21.91\u001b[0m| \u001b[1mINFO    \u001b[0m | \u001b[36mDuncans-MBP.fritz.box\u001b[0m| \u001b[36msuperduper.base.datalayer\u001b[0m:\u001b[36m562 \u001b[0m | \u001b[1mComponent e272e295c8ba4fb4 not found in cache, loading from db with uuid\u001b[0m\n",
      "\u001b[32m2025-Jan-13 12:31:21.91\u001b[0m| \u001b[1mINFO    \u001b[0m | \u001b[36mDuncans-MBP.fritz.box\u001b[0m| \u001b[36msuperduper.base.datalayer\u001b[0m:\u001b[36m562 \u001b[0m | \u001b[1mComponent 410a10d549b64f50 not found in cache, loading from db with uuid\u001b[0m\n",
      "\u001b[32m2025-Jan-13 12:31:21.92\u001b[0m| \u001b[1mINFO    \u001b[0m | \u001b[36mDuncans-MBP.fritz.box\u001b[0m| \u001b[36msuperduper.base.datalayer\u001b[0m:\u001b[36m584 \u001b[0m | \u001b[1mAdding datatype:vector[1024]:410a10d549b64f50 to cache\u001b[0m\n",
      "\u001b[32m2025-Jan-13 12:31:23.65\u001b[0m| \u001b[1mINFO    \u001b[0m | \u001b[36mDuncans-MBP.fritz.box\u001b[0m| \u001b[36msuperduper.base.datalayer\u001b[0m:\u001b[36m584 \u001b[0m | \u001b[1mAdding model:sentence-transformers-embedding:e272e295c8ba4fb4 to cache\u001b[0m\n",
      "\u001b[32m2025-Jan-13 12:31:23.65\u001b[0m| \u001b[1mINFO    \u001b[0m | \u001b[36mDuncans-MBP.fritz.box\u001b[0m| \u001b[36msuperduper.base.datalayer\u001b[0m:\u001b[36m584 \u001b[0m | \u001b[1mAdding model:embedding:ddc3f5f8b8af4fbd to cache\u001b[0m\n",
      "\u001b[32m2025-Jan-13 12:31:23.65\u001b[0m| \u001b[1mINFO    \u001b[0m | \u001b[36mDuncans-MBP.fritz.box\u001b[0m| \u001b[36msuperduper.base.datalayer\u001b[0m:\u001b[36m584 \u001b[0m | \u001b[1mAdding listener:embeddinglistener:772ac0c8786e4153 to cache\u001b[0m\n",
      "\u001b[32m2025-Jan-13 12:31:23.65\u001b[0m| \u001b[1mINFO    \u001b[0m | \u001b[36mDuncans-MBP.fritz.box\u001b[0m| \u001b[36msuperduper.base.datalayer\u001b[0m:\u001b[36m584 \u001b[0m | \u001b[1mAdding vector_index:vectorindex:dbeadf90742041b2 to cache\u001b[0m\n",
      "\u001b[32m2025-Jan-13 12:31:23.65\u001b[0m| \u001b[1mINFO    \u001b[0m | \u001b[36mDuncans-MBP.fritz.box\u001b[0m| \u001b[36msuperduper.base.datalayer\u001b[0m:\u001b[36m562 \u001b[0m | \u001b[1mComponent 079efb7994944436 not found in cache, loading from db with uuid\u001b[0m\n",
      "\u001b[32m2025-Jan-13 12:31:23.66\u001b[0m| \u001b[1mINFO    \u001b[0m | \u001b[36mDuncans-MBP.fritz.box\u001b[0m| \u001b[36msuperduper.base.datalayer\u001b[0m:\u001b[36m562 \u001b[0m | \u001b[1mComponent af0f388be6aa401e not found in cache, loading from db with uuid\u001b[0m\n",
      "\u001b[32m2025-Jan-13 12:31:23.66\u001b[0m| \u001b[1mINFO    \u001b[0m | \u001b[36mDuncans-MBP.fritz.box\u001b[0m| \u001b[36msuperduper.base.datalayer\u001b[0m:\u001b[36m584 \u001b[0m | \u001b[1mAdding model:llm:af0f388be6aa401e to cache\u001b[0m\n",
      "\u001b[32m2025-Jan-13 12:31:23.66\u001b[0m| \u001b[1mINFO    \u001b[0m | \u001b[36mDuncans-MBP.fritz.box\u001b[0m| \u001b[36msuperduper.base.datalayer\u001b[0m:\u001b[36m584 \u001b[0m | \u001b[1mAdding model:rag-model:079efb7994944436 to cache\u001b[0m\n",
      "\u001b[32m2025-Jan-13 12:31:23.66\u001b[0m| \u001b[1mINFO    \u001b[0m | \u001b[36mDuncans-MBP.fritz.box\u001b[0m| \u001b[36msuperduper.components.application\u001b[0m:\u001b[36m39  \u001b[0m | \u001b[1mResorting components based on topological order.\u001b[0m\n",
      "\u001b[32m2025-Jan-13 12:31:23.66\u001b[0m| \u001b[1mINFO    \u001b[0m | \u001b[36mDuncans-MBP.fritz.box\u001b[0m| \u001b[36msuperduper.components.application\u001b[0m:\u001b[36m56  \u001b[0m | \u001b[1mNew order of components: ['listener:chunker:c287b7208d19494e', 'vector_index:vectorindex:dbeadf90742041b2', 'model:rag-model:079efb7994944436']\u001b[0m\n",
      "\u001b[32m2025-Jan-13 12:31:23.66\u001b[0m| \u001b[1mINFO    \u001b[0m | \u001b[36mDuncans-MBP.fritz.box\u001b[0m| \u001b[36msuperduper.base.datalayer\u001b[0m:\u001b[36m584 \u001b[0m | \u001b[1mAdding application:rag-app:26889e5848ea4225 to cache\u001b[0m\n",
      "\u001b[32m2025-Jan-13 12:31:23.66\u001b[0m| \u001b[1mINFO    \u001b[0m | \u001b[36mDuncans-MBP.fritz.box\u001b[0m| \u001b[36msuperduper.components.component\u001b[0m:\u001b[36m620 \u001b[0m | \u001b[1mAdding application: rag-app to cache\u001b[0m\n",
      "\u001b[32m2025-Jan-13 12:31:23.66\u001b[0m| \u001b[33m\u001b[1mWARNING \u001b[0m | \u001b[36mDuncans-MBP.fritz.box\u001b[0m| \u001b[36msuperduper.backends.local.compute\u001b[0m:\u001b[36m52  \u001b[0m | \u001b[33m\u001b[1mCould not release futures for context 26889e5848ea4225\u001b[0m\n",
      "\u001b[32m2025-Jan-13 12:31:23.66\u001b[0m| \u001b[1mINFO    \u001b[0m | \u001b[36mDuncans-MBP.fritz.box\u001b[0m| \u001b[36msuperduper.backends.local.queue\u001b[0m:\u001b[36m120 \u001b[0m | \u001b[1mConsumed all events\u001b[0m\n"
     ]
    }
   ],
   "source": [
    "if APPLY:\n",
    "    db.apply(app, force=True)"
   ]
  },
  {
   "cell_type": "markdown",
   "id": "5da0306b-0969-49ab-95c4-0eb93c39f515",
   "metadata": {},
   "source": [
    "You can now load the model elsewhere and make predictions using the following command."
   ]
  },
  {
   "cell_type": "markdown",
   "id": "f42119a4-6aef-46ec-a81d-cbe1167d8710",
   "metadata": {},
   "source": [
    "## Create template"
   ]
  },
  {
   "cell_type": "code",
   "execution_count": 24,
   "id": "2e850c03-33c6-4c88-95d3-d14146a6a0af",
   "metadata": {},
   "outputs": [
    {
     "name": "stdout",
     "output_type": "stream",
     "text": [
      "\u001b[32m2025-Jan-13 12:33:03.81\u001b[0m| \u001b[33m\u001b[1mWARNING \u001b[0m | \u001b[36mDuncans-MBP.fritz.box\u001b[0m| \u001b[36msuperduper.components.listener\u001b[0m:\u001b[36m76  \u001b[0m | \u001b[33m\u001b[1moutput_table not found in listener.dict()\u001b[0m\n",
      "\u001b[32m2025-Jan-13 12:33:03.83\u001b[0m| \u001b[33m\u001b[1mWARNING \u001b[0m | \u001b[36mDuncans-MBP.fritz.box\u001b[0m| \u001b[36msuperduper.components.listener\u001b[0m:\u001b[36m76  \u001b[0m | \u001b[33m\u001b[1moutput_table not found in listener.dict()\u001b[0m\n",
      "\u001b[32m2025-Jan-13 12:33:03.83\u001b[0m| \u001b[33m\u001b[1mWARNING \u001b[0m | \u001b[36mDuncans-MBP.fritz.box\u001b[0m| \u001b[36msuperduper.base.document\u001b[0m:\u001b[36m564 \u001b[0m | \u001b[33m\u001b[1mLeaf listener:chunker already exists\u001b[0m\n",
      "\u001b[32m2025-Jan-13 12:33:03.83\u001b[0m| \u001b[33m\u001b[1mWARNING \u001b[0m | \u001b[36mDuncans-MBP.fritz.box\u001b[0m| \u001b[36msuperduper.components.listener\u001b[0m:\u001b[36m76  \u001b[0m | \u001b[33m\u001b[1moutput_table not found in listener.dict()\u001b[0m\n",
      "\u001b[32m2025-Jan-13 12:33:03.83\u001b[0m| \u001b[33m\u001b[1mWARNING \u001b[0m | \u001b[36mDuncans-MBP.fritz.box\u001b[0m| \u001b[36msuperduper.base.document\u001b[0m:\u001b[36m564 \u001b[0m | \u001b[33m\u001b[1mLeaf model:chunker already exists\u001b[0m\n",
      "\u001b[32m2025-Jan-13 12:33:03.84\u001b[0m| \u001b[33m\u001b[1mWARNING \u001b[0m | \u001b[36mDuncans-MBP.fritz.box\u001b[0m| \u001b[36msuperduper.base.document\u001b[0m:\u001b[36m564 \u001b[0m | \u001b[33m\u001b[1mLeaf str already exists\u001b[0m\n",
      "\u001b[32m2025-Jan-13 12:33:03.84\u001b[0m| \u001b[33m\u001b[1mWARNING \u001b[0m | \u001b[36mDuncans-MBP.fritz.box\u001b[0m| \u001b[36msuperduper.base.document\u001b[0m:\u001b[36m564 \u001b[0m | \u001b[33m\u001b[1mLeaf sample-rag-select-id-x already exists\u001b[0m\n",
      "\u001b[32m2025-Jan-13 12:33:03.84\u001b[0m| \u001b[33m\u001b[1mWARNING \u001b[0m | \u001b[36mDuncans-MBP.fritz.box\u001b[0m| \u001b[36msuperduper.base.document\u001b[0m:\u001b[36m564 \u001b[0m | \u001b[33m\u001b[1mLeaf datatype:vector[1536] already exists\u001b[0m\n"
     ]
    }
   ],
   "source": [
    "from superduper import Template, Table, Schema\n",
    "from superduper.components.dataset import RemoteData\n",
    "\n",
    "\n",
    "template = Template(\n",
    "    'rag',\n",
    "    template=app,\n",
    "    default_tables=[Table(\n",
    "        'sample_rag',\n",
    "        schema=Schema(\n",
    "            'sample_rag/schema',\n",
    "            fields={'txt': 'str'},\n",
    "        ),\n",
    "        data=RemoteData(\n",
    "            'superduper-docs',\n",
    "            getter=getter,\n",
    "        )\n",
    "    )],\n",
    "    substitutions={COLLECTION_NAME: 'table_name'},\n",
    "    template_variables=['llm_model', 'embedding_model', 'table_name', 'id_field'],\n",
    "    types={\n",
    "        'id_field': {\n",
    "            'type': 'str',\n",
    "            'default': '_id',\n",
    "        },\n",
    "        'llm_model': {\n",
    "            'type': 'str',\n",
    "            'choices': ['openai', 'anthropic', 'vllm', 'llamacpp'],\n",
    "            'default': 'openai',\n",
    "        },\n",
    "        'embedding_model': {\n",
    "            'type': 'str',\n",
    "            'choices': ['openai', 'sentence_transformers'],\n",
    "            'default': 'openai',\n",
    "        },\n",
    "        'table_name': {\n",
    "            'type': 'str',\n",
    "            'default': 'sample_rag'\n",
    "        },\n",
    "    },\n",
    "    db=db\n",
    ")"
   ]
  },
  {
   "cell_type": "code",
   "execution_count": 25,
   "id": "8924ba0d-7c01-4d6c-87fb-245531db7506",
   "metadata": {},
   "outputs": [
    {
     "name": "stdout",
     "output_type": "stream",
     "text": [
      "\u001b[32m2025-Jan-13 12:35:53.15\u001b[0m| \u001b[33m\u001b[1mWARNING \u001b[0m | \u001b[36mDuncans-MBP.fritz.box\u001b[0m| \u001b[36msuperduper.base.document\u001b[0m:\u001b[36m564 \u001b[0m | \u001b[33m\u001b[1mLeaf str already exists\u001b[0m\n"
     ]
    }
   ],
   "source": [
    "template.export('.')"
   ]
  }
 ],
 "metadata": {
  "kernelspec": {
   "display_name": "Python 3 (ipykernel)",
   "language": "python",
   "name": "python3"
  },
  "language_info": {
   "codemirror_mode": {
    "name": "ipython",
    "version": 3
   },
   "file_extension": ".py",
   "mimetype": "text/x-python",
   "name": "python",
   "nbconvert_exporter": "python",
   "pygments_lexer": "ipython3",
   "version": "3.10.13"
  }
 },
 "nbformat": 4,
 "nbformat_minor": 5
}
