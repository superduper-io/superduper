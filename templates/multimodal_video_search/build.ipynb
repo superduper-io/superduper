{
 "cells": [
  {
   "cell_type": "markdown",
   "id": "38c1a328-fd86-4c5f-bd54-b8664f433608",
   "metadata": {},
   "source": [
    "<!-- TABS -->\n",
    "# Multimodal vector search - Video"
   ]
  },
  {
   "cell_type": "markdown",
   "id": "32f8484d-2e35-472a-9b24-1a30ec1d144b",
   "metadata": {},
   "source": [
    "<!-- TABS -->\n",
    "## Connect to superduper"
   ]
  },
  {
   "cell_type": "code",
   "execution_count": null,
   "id": "cb029a5e-fedf-4f07-8a31-d220cfbfbb3d",
   "metadata": {},
   "outputs": [],
   "source": [
    "from superduper import superduper\n",
    "  \n",
    "db = superduper('mongomock://test_db')"
   ]
  },
  {
   "cell_type": "markdown",
   "id": "032c2e7b-3f54-4263-b778-0fef60596efb",
   "metadata": {},
   "source": [
    "<!-- TABS -->\n",
    "## Get useful sample data"
   ]
  },
  {
   "cell_type": "code",
   "execution_count": null,
   "id": "1b6f7ccb",
   "metadata": {},
   "outputs": [],
   "source": [
    "!curl -O https://superduperdb-public-demo.s3.amazonaws.com/videos.zip && unzip videos.zip\n",
    "import os\n",
    "from superduper.ext.pillow import pil_image\n",
    "\n",
    "data = [f'videos/{x}' for x in os.listdir('./videos')]\n",
    "sample_datapoint = data[-1]\n",
    "\n",
    "chunked_model_datatype = pil_image\n",
    "\n",
    "datas = [{'x': d} for d in data[:3]]"
   ]
  },
  {
   "cell_type": "markdown",
   "id": "b31257e4-06fa-4cc7-9626-bb4d03fdc029",
   "metadata": {},
   "source": [
    "<!-- TABS -->\n",
    "## Create datatype"
   ]
  },
  {
   "cell_type": "markdown",
   "id": "43284218",
   "metadata": {},
   "source": [
    "SuperduperDB supports automatic data conversion, so users don’t need to worry about the compatibility of different data formats (`PIL.Image`, `numpy.array`, `pandas.DataFrame`, etc.) with the database.\n",
    "\n",
    "It also supports custom data conversion methods for transforming data, such as defining the following Datatype."
   ]
  },
  {
   "cell_type": "code",
   "execution_count": null,
   "id": "e844c762-3391-401d-9047-ed8617a9c946",
   "metadata": {},
   "outputs": [],
   "source": [
    "from superduper import DataType\n",
    "\n",
    "# Create an instance of the Encoder with the identifier 'video_on_file' and load_hybrid set to False\n",
    "datatype = DataType(\n",
    "    identifier='video_on_file',\n",
    "    encodable='file',\n",
    ")"
   ]
  },
  {
   "cell_type": "markdown",
   "id": "9026acd8",
   "metadata": {},
   "source": [
    "<!-- TABS -->\n",
    "## Setup tables or collections"
   ]
  },
  {
   "cell_type": "code",
   "execution_count": null,
   "id": "9c2f0083",
   "metadata": {},
   "outputs": [],
   "source": [
    "from superduper.components.table import Table\n",
    "from superduper import Schema\n",
    "\n",
    "schema = Schema(identifier=\"schema\", fields={\"x\": datatype})\n",
    "table = Table(\"docs\", schema=schema)"
   ]
  },
  {
   "cell_type": "code",
   "execution_count": null,
   "id": "d7967a6b-bb77-48ae-a40f-829547eb08c3",
   "metadata": {},
   "outputs": [],
   "source": [
    "db.apply(table)"
   ]
  },
  {
   "cell_type": "code",
   "execution_count": null,
   "id": "e2e5422a-a05e-4692-8be0-23b2d8fd504d",
   "metadata": {},
   "outputs": [],
   "source": [
    "db['docs'].insert(datas).execute()"
   ]
  },
  {
   "cell_type": "markdown",
   "id": "54fea927-ee4a-44cd-aaf2-634b574c316d",
   "metadata": {},
   "source": [
    "<!-- TABS -->\n",
    "## Apply a chunker for search"
   ]
  },
  {
   "cell_type": "markdown",
   "id": "06d90bda-e8c4-494e-a38c-837fb63689ae",
   "metadata": {},
   "source": [
    ":::note\n",
    "Note that applying a chunker is ***not*** mandatory for search.\n",
    "If your data is already chunked (e.g. short text snippets or audio) or if you\n",
    "are searching through something like images, which can't be chunked, then this\n",
    "won't be necessary.\n",
    ":::"
   ]
  },
  {
   "cell_type": "code",
   "execution_count": null,
   "id": "f093a6d0-9d2f-4ecf-b1bd-0027302c62de",
   "metadata": {},
   "outputs": [],
   "source": [
    "# !pip install opencv-python\n",
    "import cv2\n",
    "import tqdm\n",
    "from PIL import Image\n",
    "from superduper.ext.pillow import pil_image\n",
    "from superduper import model, Schema\n",
    "\n",
    "\n",
    "@model(\n",
    "    flatten=True,\n",
    "    model_update_kwargs={},\n",
    ")\n",
    "def chunker(video_file):\n",
    "    # Set the sampling frequency for frames\n",
    "    sample_freq = 10\n",
    "    \n",
    "    # Open the video file using OpenCV\n",
    "    cap = cv2.VideoCapture(video_file)\n",
    "    \n",
    "    # Initialize variables\n",
    "    frame_count = 0\n",
    "    fps = cap.get(cv2.CAP_PROP_FPS)\n",
    "    extracted_frames = []\n",
    "    progress = tqdm.tqdm()\n",
    "\n",
    "    # Iterate through video frames\n",
    "    while True:\n",
    "        ret, frame = cap.read()\n",
    "        if not ret:\n",
    "            break\n",
    "        \n",
    "        # Get the current timestamp based on frame count and FPS\n",
    "        current_timestamp = frame_count // fps\n",
    "        \n",
    "        # Sample frames based on the specified frequency\n",
    "        if frame_count % sample_freq == 0:\n",
    "            extracted_frames.append({\n",
    "                'image': Image.fromarray(frame[:,:,::-1]),  # Convert BGR to RGB\n",
    "                'current_timestamp': current_timestamp,\n",
    "            })\n",
    "        frame_count += 1\n",
    "        progress.update(1)\n",
    "    \n",
    "    # Release resources\n",
    "    cap.release()\n",
    "    cv2.destroyAllWindows()\n",
    "    \n",
    "    # Return the list of extracted frames\n",
    "    return extracted_frames"
   ]
  },
  {
   "cell_type": "markdown",
   "id": "b33a16f9-3bac-45bb-80ac-3ccf265dce5f",
   "metadata": {},
   "source": [
    "Now we apply this chunker to the data by wrapping the chunker in `Listener`:"
   ]
  },
  {
   "cell_type": "code",
   "execution_count": null,
   "id": "93d21872-d4dc-40dc-abab-fb07ba102ea3",
   "metadata": {},
   "outputs": [],
   "source": [
    "from superduper import Listener\n",
    "\n",
    "upstream_listener = Listener(\n",
    "    model=chunker,\n",
    "    select=db['docs'].select(),\n",
    "    key='x',\n",
    "    uuid='chunker',\n",
    "    identifier='chunker',\n",
    "    upstream=[table]\n",
    ")"
   ]
  },
  {
   "cell_type": "code",
   "execution_count": null,
   "id": "0616e1e3-a5e0-4891-94b2-55ec0074cffa",
   "metadata": {},
   "outputs": [],
   "source": [
    "db.apply(upstream_listener)"
   ]
  },
  {
   "cell_type": "markdown",
   "id": "907721f8-d5bf-4623-8871-3ab9a05001d7",
   "metadata": {},
   "source": [
    "## Build multimodal embedding models"
   ]
  },
  {
   "cell_type": "markdown",
   "id": "033e1eaf-2cdb-499a-ba83-cf080a1a6fda",
   "metadata": {},
   "source": [
    "We define the output data type of a model as a vector for vector transformation."
   ]
  },
  {
   "cell_type": "code",
   "execution_count": null,
   "id": "28848ff1-45ab-4926-8676-777edf237347",
   "metadata": {},
   "outputs": [],
   "source": [
    "# <tab: MongoDB>\n",
    "from superduper.components.vector_index import vector\n",
    "output_datatype = vector(shape=(1024,))"
   ]
  },
  {
   "cell_type": "code",
   "execution_count": null,
   "id": "6acf66c5-7369-4aa8-a8a0-5842bd17b469",
   "metadata": {},
   "outputs": [],
   "source": [
    "# <tab: SQL>\n",
    "from superduper.components.vector_index import sqlvector\n",
    "output_datatype = sqlvector(shape=(1024,))"
   ]
  },
  {
   "cell_type": "markdown",
   "id": "143bf946-64b7-4452-8d20-44f2f9ae3fd6",
   "metadata": {},
   "source": [
    "Then define two models, one for text embedding and one for image embedding."
   ]
  },
  {
   "cell_type": "code",
   "execution_count": null,
   "id": "f33513d3-9f86-4108-8f8b-4a6251bdd9fd",
   "metadata": {},
   "outputs": [],
   "source": [
    "# !pip install git+https://github.com/openai/CLIP.git\n",
    "import clip\n",
    "from superduper import vector\n",
    "from superduper_torch import TorchModel\n",
    "\n",
    "# Load the CLIP model and obtain the preprocessing function\n",
    "model, preprocess = clip.load(\"ViT-B/32\", device='cpu')\n",
    "\n",
    "# Create a TorchModel for text encoding\n",
    "compatible_model = TorchModel(\n",
    "    identifier='clip_text', # Unique identifier for the model\n",
    "    object=model, # CLIP model\n",
    "    preprocess=lambda x: clip.tokenize(x)[0],  # Model input preprocessing using CLIP \n",
    "    postprocess=lambda x: x.tolist(), # Convert the model output to a list\n",
    "    datatype=output_datatype,  # Vector encoder with shape (1024,)\n",
    "    forward_method='encode_text', # Use the 'encode_text' method for forward pass \n",
    ")\n",
    "\n",
    "# Create a TorchModel for visual encoding\n",
    "model = TorchModel(\n",
    "    identifier='clip_image',  # Unique identifier for the model\n",
    "    object=model.visual,  # Visual part of the CLIP model    \n",
    "    preprocess=preprocess, # Visual preprocessing using CLIP\n",
    "    postprocess=lambda x: x.tolist(), # Convert the output to a list \n",
    "    datatype=output_datatype, # Vector encoder with shape (1024,)\n",
    ")"
   ]
  },
  {
   "cell_type": "markdown",
   "id": "3d0119da-9cfd-4a60-8847-c3bfdf37697f",
   "metadata": {},
   "source": [
    "Because we use multimodal models, we define different keys to specify which model to use for embedding calculations in the vector_index."
   ]
  },
  {
   "cell_type": "markdown",
   "id": "41b8b40d-3750-4d7b-aa60-62e07b734b04",
   "metadata": {},
   "source": [
    "## Create vector-index"
   ]
  },
  {
   "cell_type": "code",
   "execution_count": null,
   "id": "4cede653",
   "metadata": {},
   "outputs": [],
   "source": [
    "from superduper import VectorIndex, Listener\n",
    "\n",
    "vector_index = VectorIndex(\n",
    "    'my-vector-index',\n",
    "    indexing_listener=Listener(\n",
    "        key=upstream_listener.outputs + '.image',      # the `Document` key `model` should ingest to create embedding\n",
    "        select=db[upstream_listener.outputs].select(),       # a `Select` query telling which data to search over\n",
    "        model=model,         # a `_Predictor` how to convert data to embeddings\n",
    "        identifier=f'{model.identifier}-listener'\n",
    "    ),\n",
    "    compatible_listener=Listener(\n",
    "        key='text',      # the `Document` key `model` should ingest to create embedding\n",
    "        model=compatible_model,         # a `_Predictor` how to convert data to embeddings\n",
    "        select=None,\n",
    "        identifier='compatible-listener',\n",
    "    ),\n",
    "    upstream=[upstream_listener],\n",
    ")"
   ]
  },
  {
   "cell_type": "code",
   "execution_count": null,
   "id": "d8fcd960-2246-40bf-ac9f-3efda1a61dc7",
   "metadata": {},
   "outputs": [],
   "source": [
    "db.apply(vector_index)"
   ]
  },
  {
   "cell_type": "code",
   "execution_count": null,
   "id": "3ff1904a-c71d-4294-b7d6-e89d9f0f12b1",
   "metadata": {},
   "outputs": [],
   "source": [
    "from superduper import Application\n",
    "\n",
    "app = Application(\n",
    "    'video-search',\n",
    "    components=[\n",
    "        upstream_listener,\n",
    "        vector_index,\n",
    "    ]\n",
    ")"
   ]
  },
  {
   "cell_type": "code",
   "execution_count": null,
   "id": "c1cf1a8b-53ce-4201-9741-e2525f4da116",
   "metadata": {},
   "outputs": [],
   "source": [
    "db.apply(app)"
   ]
  },
  {
   "cell_type": "markdown",
   "id": "b8a87f9d-581a-419a-81b8-a743250413e9",
   "metadata": {},
   "source": [
    "## Perform a vector search\n",
    "\n",
    "We can perform the vector searches using text description:"
   ]
  },
  {
   "cell_type": "code",
   "execution_count": null,
   "id": "ce565823-4655-488c-8684-2240107fa30d",
   "metadata": {},
   "outputs": [],
   "source": [
    "from superduper import Document\n",
    "item = Document({'text': \"A single red and a blue player battle for the ball\"})"
   ]
  },
  {
   "cell_type": "code",
   "execution_count": null,
   "id": "79fb039e-ab88-4773-94d3-9d1a3f942429",
   "metadata": {},
   "outputs": [],
   "source": [
    "from superduper import Document\n",
    "item = Document({'text': \"Some monkeys playing\"})"
   ]
  },
  {
   "cell_type": "markdown",
   "id": "fc3ba07d-1124-4d94-a117-60d2e72581f7",
   "metadata": {},
   "source": [
    "Once we have this search target, we can execute a search as follows."
   ]
  },
  {
   "cell_type": "code",
   "execution_count": null,
   "id": "a061de0b-2694-4b36-844c-7753a465360f",
   "metadata": {},
   "outputs": [],
   "source": [
    "select = db[upstream_listener.outputs].like(item, vector_index='my-vector-index', n=5).select()\n",
    "results = list(db.execute(select))"
   ]
  },
  {
   "cell_type": "markdown",
   "id": "9b6d9af9-a012-42bd-aad4-31b92d089caa",
   "metadata": {},
   "source": [
    "## Visualize Results"
   ]
  },
  {
   "cell_type": "code",
   "execution_count": null,
   "id": "9e2ecea5-3a58-457c-ac50-ddc742484f2d",
   "metadata": {},
   "outputs": [],
   "source": [
    "from IPython.display import display\n",
    "for result in results:\n",
    "    display(Document(result.unpack())[upstream_listener.outputs + '.image'])"
   ]
  },
  {
   "cell_type": "markdown",
   "id": "693b4878-39a2-444d-8e17-72a00e6c246d",
   "metadata": {},
   "source": [
    "## Check the system stays updated\n",
    "\n",
    "You can add new data; once the data is added, all related models will perform calculations according to the underlying constructed model and listener, simultaneously updating the vector index to ensure that each query uses the latest data."
   ]
  },
  {
   "cell_type": "code",
   "execution_count": null,
   "id": "5ef97f5a-bb41-46ca-a85e-489824741216",
   "metadata": {},
   "outputs": [],
   "source": [
    "new_datas = [{'x': data[-1]}]\n",
    "ids = db['docs'].insert(new_datas).execute()"
   ]
  },
  {
   "cell_type": "code",
   "execution_count": null,
   "id": "b4781429-a91d-45d8-bbb7-429b0ac82110",
   "metadata": {},
   "outputs": [],
   "source": [
    "from superduper import Template\n",
    "\n",
    "t = Template('video-search-template', template=app, substitutions={'docs': 'content_table'})"
   ]
  },
  {
   "cell_type": "code",
   "execution_count": null,
   "id": "24f15780-1ecc-475e-96c3-4875724deb96",
   "metadata": {},
   "outputs": [],
   "source": [
    "t.export('.')"
   ]
  }
 ],
 "metadata": {
  "kernelspec": {
   "display_name": "Python 3 (ipykernel)",
   "language": "python",
   "name": "python3"
  },
  "language_info": {
   "codemirror_mode": {
    "name": "ipython",
    "version": 3
   },
   "file_extension": ".py",
   "mimetype": "text/x-python",
   "name": "python",
   "nbconvert_exporter": "python",
   "pygments_lexer": "ipython3",
   "version": "3.11.7"
  }
 },
 "nbformat": 4,
 "nbformat_minor": 5
}
