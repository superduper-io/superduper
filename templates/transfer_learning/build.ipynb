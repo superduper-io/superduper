{
 "cells": [
  {
   "cell_type": "markdown",
   "id": "c288025e-2326-4e8b-ab52-6fb8a5f9560f",
   "metadata": {},
   "source": [
    "<!-- TABS -->\n",
    "# Transfer learning"
   ]
  },
  {
   "cell_type": "markdown",
   "id": "32f8484d-2e35-472a-9b24-1a30ec1d144b",
   "metadata": {},
   "source": [
    "<!-- TABS -->\n",
    "## Connect to superduper"
   ]
  },
  {
   "cell_type": "code",
   "execution_count": 1,
   "id": "cb029a5e-fedf-4f07-8a31-d220cfbfbb3d",
   "metadata": {},
   "outputs": [
    {
     "name": "stdout",
     "output_type": "stream",
     "text": [
      "\u001b[32m2024-Aug-29 09:58:40.80\u001b[0m| \u001b[1mINFO    \u001b[0m | \u001b[36m61dd1d33-89ef-4bdf-b9ad-25ea2309f260.fritz.box\u001b[0m| \u001b[36msuperduper.misc.plugins\u001b[0m:\u001b[36m13  \u001b[0m | \u001b[1mLoading plugin: mongodb\u001b[0m\n",
      "\u001b[32m2024-Aug-29 09:58:40.96\u001b[0m| \u001b[1mINFO    \u001b[0m | \u001b[36m61dd1d33-89ef-4bdf-b9ad-25ea2309f260.fritz.box\u001b[0m| \u001b[36msuperduper.base.datalayer\u001b[0m:\u001b[36m103 \u001b[0m | \u001b[1mBuilding Data Layer\u001b[0m\n",
      "\u001b[32m2024-Aug-29 09:58:40.96\u001b[0m| \u001b[1mINFO    \u001b[0m | \u001b[36m61dd1d33-89ef-4bdf-b9ad-25ea2309f260.fritz.box\u001b[0m| \u001b[36msuperduper.base.build\u001b[0m:\u001b[36m171 \u001b[0m | \u001b[1mConfiguration: \n",
      " +---------------+----------------------+\n",
      "| Configuration |        Value         |\n",
      "+---------------+----------------------+\n",
      "|  Data Backend | mongomock:///test_db |\n",
      "+---------------+----------------------+\u001b[0m\n"
     ]
    }
   ],
   "source": [
    "from superduper import superduper\n",
    "\n",
    "db = superduper('mongomock:///test_db')"
   ]
  },
  {
   "cell_type": "markdown",
   "id": "032c2e7b-3f54-4263-b778-0fef60596efb",
   "metadata": {},
   "source": [
    "<!-- TABS -->\n",
    "## Get useful sample data"
   ]
  },
  {
   "cell_type": "code",
   "execution_count": null,
   "id": "547751e5",
   "metadata": {},
   "outputs": [],
   "source": [
    "# <tab: Text-Classification>\n",
    "!curl -O https://superduperdb-public-demo.s3.amazonaws.com/text_classification.json\n",
    "import json\n",
    "\n",
    "with open(\"text_classification.json\", \"r\") as f:\n",
    "    data = json.load(f)\n",
    "num_classes = 2"
   ]
  },
  {
   "cell_type": "code",
   "execution_count": null,
   "id": "a1411746-e124-4c80-95ba-a5ca5e4ea8ed",
   "metadata": {},
   "outputs": [],
   "source": [
    "len(data)"
   ]
  },
  {
   "cell_type": "code",
   "execution_count": null,
   "id": "1b28f6bf",
   "metadata": {},
   "outputs": [],
   "source": [
    "# <tab: Image-Classification>\n",
    "!curl -O https://superduperdb-public-demo.s3.amazonaws.com/images_classification.zip && unzip images_classification.zip\n",
    "import json\n",
    "from PIL import Image\n",
    "\n",
    "with open('images/images.json', 'r') as f:\n",
    "    data = json.load(f)\n",
    "    \n",
    "data = [{'x': Image.open(d['image_path']), 'y': d['label']} for d in data]\n",
    "num_classes = 2"
   ]
  },
  {
   "cell_type": "markdown",
   "id": "eedb0bc4-826f-43fe-bd34-869bf69f2db0",
   "metadata": {},
   "source": [
    "After obtaining the data, we insert it into the database."
   ]
  },
  {
   "cell_type": "code",
   "execution_count": null,
   "id": "7598ec1a-4f23-46f0-ae9f-617bce855e65",
   "metadata": {},
   "outputs": [],
   "source": [
    "# <tab: Text-Classification>\n",
    "datas = [{'txt': d['x'], 'label': d['y']} for d in data]"
   ]
  },
  {
   "cell_type": "code",
   "execution_count": null,
   "id": "89e856c2-7407-431f-a7de-3a6d51d17be6",
   "metadata": {},
   "outputs": [],
   "source": [
    "# <tab: Image-Classification>\n",
    "datas = [{'image': d['x'], 'label': d['y']} for d in data]"
   ]
  },
  {
   "cell_type": "markdown",
   "id": "944ebee5",
   "metadata": {},
   "source": [
    "<!-- TABS -->\n",
    "## Insert simple data\n",
    "\n",
    "After turning on auto_schema, we can directly insert data, and superduper will automatically analyze the data type, and match the construction of the table and datatype."
   ]
  },
  {
   "cell_type": "code",
   "execution_count": null,
   "id": "64d0f3b5",
   "metadata": {},
   "outputs": [],
   "source": [
    "from superduper import Document\n",
    "\n",
    "table_or_collection = db['documents']\n",
    "\n",
    "ids = db.execute(table_or_collection.insert([Document(data) for data in datas]))\n",
    "select = table_or_collection.select()"
   ]
  },
  {
   "cell_type": "markdown",
   "id": "9e703b58-a46d-4b1f-98fd-f50d46b168fe",
   "metadata": {},
   "source": [
    "<!-- TABS -->\n",
    "## Compute features"
   ]
  },
  {
   "cell_type": "code",
   "execution_count": null,
   "id": "97c875b6-06f0-449f-aeb4-8029642766ff",
   "metadata": {},
   "outputs": [],
   "source": [
    "!pip install ../../plugins/sentence_transformers"
   ]
  },
  {
   "cell_type": "code",
   "execution_count": null,
   "id": "ae2e1588-fec8-45a6-b678-fef05fc7b57f",
   "metadata": {},
   "outputs": [],
   "source": [
    "# <tab: Text>\n",
    "key = 'txt'\n",
    "import sentence_transformers\n",
    "from superduper import vector, Listener\n",
    "from superduper_sentence_transformers import SentenceTransformer\n",
    "\n",
    "superdupermodel = SentenceTransformer(\n",
    "    identifier=\"embedding\",\n",
    "    object=sentence_transformers.SentenceTransformer(\"sentence-transformers/all-MiniLM-L6-v2\"),\n",
    "    postprocess=lambda x: x.tolist(),\n",
    ")\n",
    "\n",
    "jobs, listener = db.apply(\n",
    "    Listener(\n",
    "        model=superdupermodel,\n",
    "        select=select,\n",
    "        key=key,\n",
    "        identifier=\"features\"\n",
    "    )\n",
    ")"
   ]
  },
  {
   "cell_type": "code",
   "execution_count": null,
   "id": "17de589c-4d75-4483-b2ca-77d5c25c2fb8",
   "metadata": {},
   "outputs": [],
   "source": [
    "# <tab: Image>\n",
    "key = 'image'\n",
    "import torchvision.models as models\n",
    "from torchvision import transforms\n",
    "from superduper_torch import TorchModel\n",
    "from superduper import Listener\n",
    "from PIL import Image\n",
    "\n",
    "class TorchVisionEmbedding:\n",
    "    def __init__(self):\n",
    "        # Load the pre-trained ResNet-18 model\n",
    "        self.resnet = models.resnet18(pretrained=True)\n",
    "        \n",
    "        # Set the model to evaluation mode\n",
    "        self.resnet.eval()\n",
    "        \n",
    "    def preprocess(self, image):\n",
    "        # Preprocess the image\n",
    "        preprocess = preprocess = transforms.Compose([\n",
    "            transforms.Resize(256),\n",
    "            transforms.CenterCrop(224),\n",
    "            transforms.ToTensor(),\n",
    "            transforms.Normalize(mean=[0.485, 0.456, 0.406], std=[0.229, 0.224, 0.225]),\n",
    "        ])\n",
    "        tensor_image = preprocess(image)\n",
    "        return tensor_image\n",
    "        \n",
    "model = TorchVisionEmbedding()\n",
    "superdupermodel = TorchModel(identifier='my-vision-model-torch', object=model.resnet, preprocess=model.preprocess, postprocess=lambda x: x.numpy().tolist())\n",
    "\n",
    "jobs, listener = db.apply(\n",
    "    Listener(\n",
    "        model=superdupermodel,\n",
    "        select=select,\n",
    "        key=key,\n",
    "        identifier=\"features\"\n",
    "    )\n",
    ")"
   ]
  },
  {
   "cell_type": "markdown",
   "id": "3d9329cd-1ef3-4997-ba2f-9353091907a8",
   "metadata": {},
   "source": [
    "## Choose features key from feature listener"
   ]
  },
  {
   "cell_type": "code",
   "execution_count": null,
   "id": "9651e3a6-89f3-41db-80e6-afc294f4daa1",
   "metadata": {},
   "outputs": [],
   "source": [
    "input_key = listener.outputs\n",
    "training_select = select.outputs(listener.predict_id)"
   ]
  },
  {
   "cell_type": "markdown",
   "id": "ea4ddf88-468b-4ca5-b78b-37f8c3231ef7",
   "metadata": {},
   "source": [
    "We can find the calculated feature data from the database."
   ]
  },
  {
   "cell_type": "code",
   "execution_count": null,
   "id": "aa1b85e7-a562-4efe-8af1-16889bd35bf7",
   "metadata": {},
   "outputs": [],
   "source": [
    "feature = list(training_select.limit(1).execute())[0][input_key]\n",
    "feature_size = len(feature)"
   ]
  },
  {
   "cell_type": "markdown",
   "id": "c2da0ab6-8fc0-41fc-b8c9-0f8a127d9e8d",
   "metadata": {},
   "source": [
    "<!-- TABS -->\n",
    "## Build and train classifier"
   ]
  },
  {
   "cell_type": "code",
   "execution_count": null,
   "id": "b5dc409a-6b38-4570-997e-47055d8196b3",
   "metadata": {},
   "outputs": [],
   "source": [
    "!pip install ../../plugins/sklearn/"
   ]
  },
  {
   "cell_type": "code",
   "execution_count": null,
   "id": "d3b94fca-3a0b-433f-88cf-aab5b71b8596",
   "metadata": {},
   "outputs": [],
   "source": [
    "# <tab: Scikit-Learn>\n",
    "from superduper_sklearn import Estimator, SklearnTrainer\n",
    "from sklearn.svm import SVC\n",
    "\n",
    "model = Estimator(\n",
    "    identifier=\"my-model\",\n",
    "    object=SVC(),\n",
    "    trainer=SklearnTrainer(\n",
    "        \"my-trainer\",\n",
    "        key=(input_key, \"label\"),\n",
    "        select=training_select,\n",
    "    ),\n",
    ")"
   ]
  },
  {
   "cell_type": "code",
   "execution_count": null,
   "id": "5256e0fb-db16-411e-a1c1-8d44feb26c29",
   "metadata": {},
   "outputs": [],
   "source": [
    "# <tab: Torch>\n",
    "import torch\n",
    "from torch import nn\n",
    "from superduper_torch.model import TorchModel\n",
    "from superduper_torch.training import TorchTrainer\n",
    "from torch.nn.functional import cross_entropy\n",
    "\n",
    "\n",
    "class SimpleModel(nn.Module):\n",
    "    def __init__(self, input_size=16, hidden_size=32, num_classes=3):\n",
    "        super(SimpleModel, self).__init__()\n",
    "        self.fc1 = nn.Linear(input_size, hidden_size)\n",
    "        self.relu = nn.ReLU()\n",
    "        self.fc2 = nn.Linear(hidden_size, num_classes)\n",
    "\n",
    "    def forward(self, x):\n",
    "        out = self.fc1(x)\n",
    "        out = self.relu(out)\n",
    "        out = self.fc2(out)\n",
    "        return out\n",
    "\n",
    "preprocess = lambda x: torch.tensor(x)\n",
    "\n",
    "# Postprocess function for the model output    \n",
    "def postprocess(x):\n",
    "    return int(x.topk(1)[1].item())\n",
    "\n",
    "def data_transform(features, label):\n",
    "    return torch.tensor(features), label\n",
    "\n",
    "# Create a Logistic Regression model\n",
    "# feature_length is the input feature size\n",
    "model = SimpleModel(feature_size, num_classes=num_classes)\n",
    "model = TorchModel(\n",
    "    identifier='my-model',\n",
    "    object=model,         \n",
    "    preprocess=preprocess,\n",
    "    postprocess=postprocess,\n",
    "    trainer=TorchTrainer(\n",
    "        key=(input_key, 'label'),\n",
    "        identifier='my_trainer',\n",
    "        objective=cross_entropy,\n",
    "        loader_kwargs={'batch_size': 10},\n",
    "        max_iterations=1000,\n",
    "        validation_interval=100,\n",
    "        select=select,\n",
    "        transform=data_transform,\n",
    "    ),\n",
    ")"
   ]
  },
  {
   "cell_type": "markdown",
   "id": "1af37887-59bc-4e13-b3b1-fee7d6108473",
   "metadata": {},
   "source": [
    "Define a validation for evaluating the effect after training."
   ]
  },
  {
   "cell_type": "code",
   "execution_count": null,
   "id": "94fb7506-2abc-41fe-b259-8c4922d79516",
   "metadata": {},
   "outputs": [],
   "source": [
    "from superduper import Dataset, Metric, Validation\n",
    "\n",
    "def acc(x, y):\n",
    "    return sum([xx == yy for xx, yy in zip(x, y)]) / len(x)\n",
    "\n",
    "\n",
    "accuracy = Metric(identifier=\"acc\", object=acc)\n",
    "validation = Validation(\n",
    "    \"transfer_learning_performance\",\n",
    "    key=(input_key, \"label\"),\n",
    "    datasets=[\n",
    "        Dataset(identifier=\"my-valid\", select=training_select.add_fold('valid'))\n",
    "    ],\n",
    "    metrics=[accuracy],\n",
    ")\n",
    "model.validation = validation"
   ]
  },
  {
   "cell_type": "code",
   "execution_count": 2,
   "id": "16db1a9c-08e2-4adf-8619-1910b029d73f",
   "metadata": {},
   "outputs": [],
   "source": [
    "q = db['documents'].select()"
   ]
  },
  {
   "cell_type": "code",
   "execution_count": null,
   "id": "b92fe145-c34e-4fc6-9a65-76e2b1c0359a",
   "metadata": {},
   "outputs": [],
   "source": [
    "list(training_select.limit(1).filter({}).execute())"
   ]
  },
  {
   "cell_type": "code",
   "execution_count": null,
   "id": "f243937c-1a0f-4e56-9f0a-1548d6f5f768",
   "metadata": {},
   "outputs": [],
   "source": [
    "training_select['_fold']"
   ]
  },
  {
   "cell_type": "markdown",
   "id": "513478b1-2736-4fa5-bc2a-6fdb9c8e232d",
   "metadata": {},
   "source": [
    "If we execute the apply function, then the model will be added to the database, and because the model has a Trainer, it will perform training tasks."
   ]
  },
  {
   "cell_type": "code",
   "execution_count": null,
   "id": "79a39054-aef2-480a-a57e-7180914e6f7f",
   "metadata": {},
   "outputs": [],
   "source": [
    "db.apply(model)"
   ]
  },
  {
   "cell_type": "markdown",
   "id": "52ab9838-9e5e-4402-a572-bd8339020963",
   "metadata": {},
   "source": [
    "Get the training metrics"
   ]
  },
  {
   "cell_type": "code",
   "execution_count": null,
   "id": "b7478a2a-3071-4d71-9ab8-95d7d7dd3d32",
   "metadata": {},
   "outputs": [],
   "source": [
    "# <tab: Scikit-Learn>\n",
    "# Load the model from the database\n",
    "model = db.load('model', model.identifier)\n",
    "model.metric_values"
   ]
  },
  {
   "cell_type": "code",
   "execution_count": null,
   "id": "8096e816-06b3-4d7f-8660-f8715f759109",
   "metadata": {},
   "outputs": [],
   "source": [
    "# <tab: Torch>\n",
    "!pip -q install matplotlib\n",
    "from matplotlib import pyplot as plt\n",
    "\n",
    "# Load the model from the database\n",
    "model = db.load('model', model.identifier)\n",
    "\n",
    "# Plot the accuracy values\n",
    "plt.plot(model.trainer.metric_values['my-valid/acc'])\n",
    "plt.show()"
   ]
  }
 ],
 "metadata": {
  "kernelspec": {
   "display_name": "Python 3 (ipykernel)",
   "language": "python",
   "name": "python3"
  },
  "language_info": {
   "codemirror_mode": {
    "name": "ipython",
    "version": 3
   },
   "file_extension": ".py",
   "mimetype": "text/x-python",
   "name": "python",
   "nbconvert_exporter": "python",
   "pygments_lexer": "ipython3",
   "version": "3.11.7"
  }
 },
 "nbformat": 4,
 "nbformat_minor": 5
}
