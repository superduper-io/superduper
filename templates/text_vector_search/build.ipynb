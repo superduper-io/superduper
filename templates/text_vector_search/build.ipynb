{
 "cells": [
  {
   "cell_type": "markdown",
   "id": "38c1a328-fd86-4c5f-bd54-b8664f433608",
   "metadata": {},
   "source": [
    "<!-- TABS -->\n",
    "# Text Vector Search"
   ]
  },
  {
   "cell_type": "markdown",
   "id": "084e3781-098d-477a-a123-fe90661b7d57",
   "metadata": {},
   "source": [
    "You'll find this example as well as the saved template in the main repository of `superduper`.\n",
    "See [here](https://github.com/superduper-io/superduper/tree/main/templates/text_vector_search).\n",
    "\n",
    "If you'd like to modify the template, or practice building it yourself, then you can rerun the `build.ipynb` notebook\n",
    "in the template directory"
   ]
  },
  {
   "cell_type": "markdown",
   "id": "32f8484d-2e35-472a-9b24-1a30ec1d144b",
   "metadata": {},
   "source": [
    "<!-- TABS -->\n",
    "## Connect to superduper"
   ]
  },
  {
   "cell_type": "code",
   "execution_count": 1,
   "id": "cb029a5e-fedf-4f07-8a31-d220cfbfbb3d",
   "metadata": {},
   "outputs": [
    {
     "name": "stdout",
     "output_type": "stream",
     "text": [
      "\u001b[32m2024-Aug-23 14:38:44.94\u001b[0m| \u001b[1mINFO    \u001b[0m | \u001b[36mDuncans-MacBook-Pro.local\u001b[0m| \u001b[36msuperduper.misc.plugins\u001b[0m:\u001b[36m13  \u001b[0m | \u001b[1mLoading plugin: mongodb\u001b[0m\n",
      "\u001b[32m2024-Aug-23 14:38:45.01\u001b[0m| \u001b[1mINFO    \u001b[0m | \u001b[36mDuncans-MacBook-Pro.local\u001b[0m| \u001b[36msuperduper.base.datalayer\u001b[0m:\u001b[36m103 \u001b[0m | \u001b[1mBuilding Data Layer\u001b[0m\n",
      "\u001b[32m2024-Aug-23 14:38:45.01\u001b[0m| \u001b[1mINFO    \u001b[0m | \u001b[36mDuncans-MacBook-Pro.local\u001b[0m| \u001b[36msuperduper.base.build\u001b[0m:\u001b[36m171 \u001b[0m | \u001b[1mConfiguration: \n",
      " +---------------+---------------------+\n",
      "| Configuration |        Value        |\n",
      "+---------------+---------------------+\n",
      "|  Data Backend | mongomock://test_db |\n",
      "+---------------+---------------------+\u001b[0m\n"
     ]
    }
   ],
   "source": [
    "from superduper import superduper\n",
    "\n",
    "db = superduper('mongomock://test_db')"
   ]
  },
  {
   "cell_type": "markdown",
   "id": "032c2e7b-3f54-4263-b778-0fef60596efb",
   "metadata": {},
   "source": [
    "<!-- TABS -->\n",
    "## Get useful sample data"
   ]
  },
  {
   "cell_type": "code",
   "execution_count": 2,
   "id": "4e7902bd",
   "metadata": {},
   "outputs": [
    {
     "name": "stdout",
     "output_type": "stream",
     "text": [
      "  % Total    % Received % Xferd  Average Speed   Time    Time     Time  Current\n",
      "                                 Dload  Upload   Total   Spent    Left  Speed\n",
      "100  720k  100  720k    0     0   277k      0  0:00:02  0:00:02 --:--:--  278k\n"
     ]
    }
   ],
   "source": [
    "# <tab: Text>\n",
    "!curl -O https://superduperdb-public-demo.s3.amazonaws.com/text.json\n",
    "import json\n",
    "\n",
    "with open('text.json', 'r') as f:\n",
    "    data = json.load(f)"
   ]
  },
  {
   "cell_type": "code",
   "execution_count": null,
   "id": "33486ec7-0316-4e0c-a409-c09ab4c16669",
   "metadata": {},
   "outputs": [],
   "source": [
    "# <tab: PDF>\n",
    "!curl -O https://superduperdb-public-demo.s3.amazonaws.com/pdfs.zip && unzip -o pdfs.zip\n",
    "import os\n",
    "\n",
    "data = [f'pdfs/{x}' for x in os.listdir('./pdfs') if x.endswith('.pdf')]"
   ]
  },
  {
   "cell_type": "code",
   "execution_count": 3,
   "id": "b745ed54-3818-4685-a3b5-6ab4e2afc44d",
   "metadata": {},
   "outputs": [],
   "source": [
    "datas = [{'x': d} for d in data]"
   ]
  },
  {
   "cell_type": "markdown",
   "id": "b31257e4-06fa-4cc7-9626-bb4d03fdc029",
   "metadata": {},
   "source": [
    "<!-- TABS -->\n",
    "## Create datatype"
   ]
  },
  {
   "cell_type": "markdown",
   "id": "43284218",
   "metadata": {},
   "source": [
    "SuperduperDB supports automatic data conversion, so users don’t need to worry about the compatibility of different data formats (`PIL.Image`, `numpy.array`, `pandas.DataFrame`, etc.) with the database.\n",
    "\n",
    "It also supports custom data conversion methods for transforming data, such as defining the following Datatype."
   ]
  },
  {
   "cell_type": "code",
   "execution_count": 4,
   "id": "07d8d341-c751-4ad9-bd69-f35435fe5d61",
   "metadata": {},
   "outputs": [],
   "source": [
    "# <tab: Text>\n",
    "datatype = 'str'"
   ]
  },
  {
   "cell_type": "code",
   "execution_count": null,
   "id": "c486d4fe",
   "metadata": {},
   "outputs": [],
   "source": [
    "# <tab: PDF>\n",
    "from superduper import DataType\n",
    "\n",
    "# By creating a datatype and setting its encodable attribute to “file” for saving PDF files, \n",
    "# all datatypes encoded as “file” will have their corresponding files uploaded to the artifact store. \n",
    "# References will be recorded in the database, and the files will be downloaded locally when needed. \n",
    "\n",
    "datatype = DataType('pdf', encodable='file')"
   ]
  },
  {
   "cell_type": "markdown",
   "id": "4a61904f",
   "metadata": {},
   "source": [
    "<!-- TABS -->\n",
    "## Setup tables or collections"
   ]
  },
  {
   "cell_type": "code",
   "execution_count": 5,
   "id": "e108cc49",
   "metadata": {},
   "outputs": [],
   "source": [
    "from superduper.components.table import Table\n",
    "from superduper import Schema\n",
    "\n",
    "schema = Schema(identifier=\"schema\", fields={\"x\": datatype})\n",
    "table = Table(\"docs\", schema=schema)\n",
    "select = db['docs'].select()"
   ]
  },
  {
   "cell_type": "markdown",
   "id": "54fea927-ee4a-44cd-aaf2-634b574c316d",
   "metadata": {},
   "source": [
    "<!-- TABS -->\n",
    "## Apply a chunker for search"
   ]
  },
  {
   "cell_type": "markdown",
   "id": "06d90bda-e8c4-494e-a38c-837fb63689ae",
   "metadata": {},
   "source": [
    ":::note\n",
    "Note that applying a chunker is ***not*** mandatory for search.\n",
    "If your data is already chunked (e.g. short text snippets or audio) or if you\n",
    "are searching through something like images, which can't be chunked, then this\n",
    "won't be necessary.\n",
    ":::"
   ]
  },
  {
   "cell_type": "code",
   "execution_count": 6,
   "id": "2d20eaa0-a416-4483-938e-23f79845739a",
   "metadata": {},
   "outputs": [],
   "source": [
    "# <tab: Text>\n",
    "from superduper import model\n",
    "\n",
    "CHUNK_SIZE = 200\n",
    "\n",
    "@model(flatten=True, model_update_kwargs={'document_embedded': False})\n",
    "def chunker(text):\n",
    "    text = text.split()\n",
    "    chunks = [' '.join(text[i:i + CHUNK_SIZE]) for i in range(0, len(text), CHUNK_SIZE)]\n",
    "    return chunks"
   ]
  },
  {
   "cell_type": "code",
   "execution_count": null,
   "id": "facd7dc0-fffa-40d8-af72-2b9e4852ad79",
   "metadata": {},
   "outputs": [],
   "source": [
    "# <tab: PDF>\n",
    "!pip install -q \"unstructured[pdf]\"\n",
    "from superduper import model\n",
    "from unstructured.partition.pdf import partition_pdf\n",
    "\n",
    "CHUNK_SIZE = 500\n",
    "\n",
    "@model(flatten=True)\n",
    "def chunker(pdf_file):\n",
    "    elements = partition_pdf(pdf_file)\n",
    "    text = '\\n'.join([e.text for e in elements])\n",
    "    chunks = [text[i:i + CHUNK_SIZE] for i in range(0, len(text), CHUNK_SIZE)]\n",
    "    return chunks"
   ]
  },
  {
   "cell_type": "markdown",
   "id": "b33a16f9-3bac-45bb-80ac-3ccf265dce5f",
   "metadata": {},
   "source": [
    "Now we wrap this chunker as a `Listener`, so that it processes incoming data"
   ]
  },
  {
   "cell_type": "code",
   "execution_count": 7,
   "id": "93d21872-d4dc-40dc-abab-fb07ba102ea3",
   "metadata": {},
   "outputs": [],
   "source": [
    "from superduper import Listener\n",
    "\n",
    "upstream_listener = Listener(\n",
    "    model=chunker,\n",
    "    select=db['docs'].select(),\n",
    "    key='x',\n",
    "    uuid=\"chunk\",\n",
    "    identifier='chunker',\n",
    ")"
   ]
  },
  {
   "cell_type": "markdown",
   "id": "7c5377c0-4c9b-4ba9-8f08-5e866b9220b5",
   "metadata": {},
   "source": [
    "## Select outputs of upstream listener"
   ]
  },
  {
   "cell_type": "markdown",
   "id": "809f5f62-95c3-483b-ae74-a5cdb5c1c83d",
   "metadata": {},
   "source": [
    ":::note\n",
    "This is useful if you have performed a first step, such as pre-computing \n",
    "features, or chunking your data. You can use this query to \n",
    "operate on those outputs.\n",
    ":::"
   ]
  },
  {
   "cell_type": "code",
   "execution_count": 8,
   "id": "e49b116d-34f5-438a-995e-a8bd59e1dd80",
   "metadata": {},
   "outputs": [
    {
     "data": {
      "text/plain": [
       "'_outputs__chunker'"
      ]
     },
     "execution_count": 8,
     "metadata": {},
     "output_type": "execute_result"
    }
   ],
   "source": [
    "indexing_key = upstream_listener.outputs\n",
    "indexing_key"
   ]
  },
  {
   "cell_type": "markdown",
   "id": "c9a2cd87-723f-4cee-87c7-9b8181c9e54b",
   "metadata": {},
   "source": [
    "<!-- TABS -->\n",
    "## Build text embedding model"
   ]
  },
  {
   "cell_type": "code",
   "execution_count": 9,
   "id": "a9b1f538-65ca-499e-b6d0-2dd733f81723",
   "metadata": {},
   "outputs": [],
   "source": [
    "# <tab: OpenAI>\n",
    "from superduper_openai import OpenAIEmbedding\n",
    "import os\n",
    "\n",
    "os.environ['OPENAI_API_KEY'] = 'sk-<secret>'\n",
    "\n",
    "embedding_model = OpenAIEmbedding(identifier='text-embedding-ada-002')"
   ]
  },
  {
   "cell_type": "code",
   "execution_count": null,
   "id": "e83facd8-8823-492f-a2c6-659f38d8e6ec",
   "metadata": {},
   "outputs": [],
   "source": [
    "# <tab: JinaAI>\n",
    "import os\n",
    "from superduper_jina import JinaEmbedding\n",
    "\n",
    "os.environ[\"JINA_API_KEY\"] = \"jina_xxxx\"\n",
    " \n",
    "# define the model\n",
    "embedding_model = JinaEmbedding(identifier='jina-embeddings-v2-base-en')"
   ]
  },
  {
   "cell_type": "code",
   "execution_count": null,
   "id": "3b4a9a60-41df-461d-b165-1d136ee25694",
   "metadata": {},
   "outputs": [],
   "source": [
    "# <tab: Sentence-Transformers>\n",
    "!pip install sentence-transformers\n",
    "from superduper import vector\n",
    "import sentence_transformers\n",
    "from superduper_sentence_transformers import SentenceTransformer\n",
    "\n",
    "embedding_model = SentenceTransformer(\n",
    "    identifier=\"embedding\",\n",
    "    object=sentence_transformers.SentenceTransformer(\"BAAI/bge-small-en\"),\n",
    "    datatype=vector(shape=(1024,)),\n",
    "    postprocess=lambda x: x.tolist(),\n",
    "    predict_kwargs={\"show_progress_bar\": True},\n",
    ")"
   ]
  },
  {
   "cell_type": "code",
   "execution_count": null,
   "id": "b9b238cf-56d5-44b4-87b0-9d8d55bdf36f",
   "metadata": {},
   "outputs": [],
   "source": [
    "print(len(embedding_model.predict(\"What is superduper\")))"
   ]
  },
  {
   "cell_type": "markdown",
   "id": "41b8b40d-3750-4d7b-aa60-62e07b734b04",
   "metadata": {},
   "source": [
    "## Create vector-index"
   ]
  },
  {
   "cell_type": "code",
   "execution_count": 10,
   "id": "66ee3ff4-880e-477b-bbdf-5b8d89c56de2",
   "metadata": {},
   "outputs": [],
   "source": [
    "vector_index_name = 'my-vector-index'"
   ]
  },
  {
   "cell_type": "code",
   "execution_count": 11,
   "id": "ffba61c1-2ec8-4411-870a-228439ce4ba5",
   "metadata": {},
   "outputs": [],
   "source": [
    "from superduper import VectorIndex, Listener\n",
    "\n",
    "vector_index = VectorIndex(\n",
    "    vector_index_name,\n",
    "    indexing_listener=Listener(\n",
    "        key=indexing_key,              # the `Document` key `model` should ingest to create embedding\n",
    "        select=db[indexing_key].select(),                 # a `Select` query telling which data to search over\n",
    "        model=embedding_model,         # a `_Predictor` how to convert data to embeddings\n",
    "        identifier=f'{embedding_model.identifier}-listener',\n",
    "        upstream=[table, upstream_listener],              # this makes sure that the table is already set up when the other components are triggered\n",
    "    )\n",
    ")"
   ]
  },
  {
   "cell_type": "code",
   "execution_count": 13,
   "id": "5da538d1-d222-434f-bb34-7f828b013a23",
   "metadata": {},
   "outputs": [],
   "source": [
    "from superduper import Application\n",
    "\n",
    "application = Application(\n",
    "    'text-vector-search', \n",
    "    components=[\n",
    "        table,\n",
    "        upstream_listener,\n",
    "        vector_index,\n",
    "    ]\n",
    ")"
   ]
  },
  {
   "cell_type": "code",
   "execution_count": 14,
   "id": "5fd30f32-da4c-4ba1-a44c-ef2f8d968ddf",
   "metadata": {},
   "outputs": [
    {
     "name": "stdout",
     "output_type": "stream",
     "text": [
      "\u001b[32m2024-Aug-23 14:40:30.87\u001b[0m| \u001b[33m\u001b[1mWARNING \u001b[0m | \u001b[36mDuncans-MacBook-Pro.local\u001b[0m| \u001b[36msuperduper.base.document\u001b[0m:\u001b[36m415 \u001b[0m | \u001b[33m\u001b[1mLeaf str already exists\u001b[0m\n",
      "\u001b[32m2024-Aug-23 14:40:30.87\u001b[0m| \u001b[33m\u001b[1mWARNING \u001b[0m | \u001b[36mDuncans-MacBook-Pro.local\u001b[0m| \u001b[36msuperduper.base.document\u001b[0m:\u001b[36m415 \u001b[0m | \u001b[33m\u001b[1mLeaf str already exists\u001b[0m\n",
      "\u001b[32m2024-Aug-23 14:40:30.87\u001b[0m| \u001b[33m\u001b[1mWARNING \u001b[0m | \u001b[36mDuncans-MacBook-Pro.local\u001b[0m| \u001b[36msuperduper.base.document\u001b[0m:\u001b[36m415 \u001b[0m | \u001b[33m\u001b[1mLeaf str already exists\u001b[0m\n",
      "\u001b[32m2024-Aug-23 14:40:30.88\u001b[0m| \u001b[1mINFO    \u001b[0m | \u001b[36mDuncans-MacBook-Pro.local\u001b[0m| \u001b[36msuperduper.components.listener\u001b[0m:\u001b[36m94  \u001b[0m | \u001b[1mRequesting listener setup on CDC service\u001b[0m\n",
      "\u001b[32m2024-Aug-23 14:40:30.88\u001b[0m| \u001b[1mINFO    \u001b[0m | \u001b[36mDuncans-MacBook-Pro.local\u001b[0m| \u001b[36msuperduper.components.listener\u001b[0m:\u001b[36m104 \u001b[0m | \u001b[1mSkipping listener setup on CDC service since no URI is set\u001b[0m\n",
      "\u001b[32m2024-Aug-23 14:40:30.90\u001b[0m| \u001b[1mINFO    \u001b[0m | \u001b[36mDuncans-MacBook-Pro.local\u001b[0m| \u001b[36msuperduper.components.listener\u001b[0m:\u001b[36m94  \u001b[0m | \u001b[1mRequesting listener setup on CDC service\u001b[0m\n",
      "\u001b[32m2024-Aug-23 14:40:30.90\u001b[0m| \u001b[1mINFO    \u001b[0m | \u001b[36mDuncans-MacBook-Pro.local\u001b[0m| \u001b[36msuperduper.components.listener\u001b[0m:\u001b[36m104 \u001b[0m | \u001b[1mSkipping listener setup on CDC service since no URI is set\u001b[0m\n",
      "\u001b[32m2024-Aug-23 14:40:30.92\u001b[0m| \u001b[1mINFO    \u001b[0m | \u001b[36mDuncans-MacBook-Pro.local\u001b[0m| \u001b[36msuperduper.components.vector_index\u001b[0m:\u001b[36m54  \u001b[0m | \u001b[1mLoading vectors of vector-index: 'my-vector-index'\u001b[0m\n",
      "\u001b[32m2024-Aug-23 14:40:30.92\u001b[0m| \u001b[1mINFO    \u001b[0m | \u001b[36mDuncans-MacBook-Pro.local\u001b[0m| \u001b[36msuperduper.components.vector_index\u001b[0m:\u001b[36m62  \u001b[0m | \u001b[1m_outputs__text-embedding-ada-002-listener.select()\u001b[0m\n"
     ]
    },
    {
     "name": "stderr",
     "output_type": "stream",
     "text": [
      "Loading vectors into vector-table...: 0it [00:00, ?it/s]"
     ]
    },
    {
     "name": "stdout",
     "output_type": "stream",
     "text": [
      "\u001b[32m2024-Aug-23 14:40:30.92\u001b[0m| \u001b[1mINFO    \u001b[0m | \u001b[36mDuncans-MacBook-Pro.local\u001b[0m| \u001b[36msuperduper.components.vector_index\u001b[0m:\u001b[36m97  \u001b[0m | \u001b[1mLoaded 0 vectors into vector index succesfully\u001b[0m\n"
     ]
    },
    {
     "name": "stderr",
     "output_type": "stream",
     "text": [
      "\n"
     ]
    },
    {
     "data": {
      "text/plain": [
       "([],\n",
       " Application(identifier='text-vector-search', uuid='ba67055ba77d40ffa73d5cd3a17118aa', upstream=None, plugins=None, cache=False, components=[Table(identifier='documents', uuid='d05bd908810a43988dbe41c2167644f0', upstream=None, plugins=None, cache=False, schema=Schema(identifier='schema', uuid='ea43dd0a76f749afb3b416925715c3c1', upstream=None, plugins=None, cache=False, fields={'x': FieldType(identifier='str', uuid='9426229dbd614d10b476e979a96f148f'), '_fold': FieldType(identifier='str', uuid='2de7977645d2435aacc4d8e6c1e1d573')}), primary_id='id'), Listener(identifier='chunker', uuid='chunk', upstream=None, plugins=None, cache=False, key='x', model=ObjectModel(identifier='chunker', uuid='3855aff339c84bf78af50c537c61b5ba', upstream=None, plugins=None, cache=False, signature='*args,**kwargs', datatype=None, output_schema=None, flatten=True, model_update_kwargs={'document_embedded': False}, predict_kwargs={}, compute_kwargs={}, validation=None, metric_values={}, num_workers=0, object=<function chunker at 0x121a87e20>), select=documents.select(), predict_kwargs={}, predict_id='chunker'), VectorIndex(identifier='my-vector-index', uuid='7c319ebb1d794e3a9d37990a71fd3a9f', upstream=None, plugins=None, cache=False, indexing_listener=Listener(identifier='text-embedding-ada-002-listener', uuid='ae8e2071d35342e585c5ca1f64067583', upstream=[Table(identifier='documents', uuid='d05bd908810a43988dbe41c2167644f0', upstream=None, plugins=None, cache=False, schema=Schema(identifier='schema', uuid='ea43dd0a76f749afb3b416925715c3c1', upstream=None, plugins=None, cache=False, fields={'x': FieldType(identifier='str', uuid='9426229dbd614d10b476e979a96f148f'), '_fold': FieldType(identifier='str', uuid='2de7977645d2435aacc4d8e6c1e1d573')}), primary_id='id'), Listener(identifier='chunker', uuid='chunk', upstream=None, plugins=None, cache=False, key='x', model=ObjectModel(identifier='chunker', uuid='3855aff339c84bf78af50c537c61b5ba', upstream=None, plugins=None, cache=False, signature='*args,**kwargs', datatype=None, output_schema=None, flatten=True, model_update_kwargs={'document_embedded': False}, predict_kwargs={}, compute_kwargs={}, validation=None, metric_values={}, num_workers=0, object=<function chunker at 0x121a87e20>), select=documents.select(), predict_kwargs={}, predict_id='chunker')], plugins=None, cache=False, key='_outputs__chunker', model=OpenAIEmbedding(identifier='text-embedding-ada-002', uuid='31aa9703bbd740898bf6cd7112f41c69', upstream=None, plugins=None, cache=False, signature='singleton', datatype=DataType(identifier='vector[1536]', uuid='8189760e319d49caa494229916610895', upstream=None, plugins=None, cache=False, encoder=None, decoder=None, info=None, shape=(1536,), directory=None, encodable='native', bytes_encoding=<BytesEncoding.BYTES: 'Bytes'>, intermediate_type='bytes', media_type=None), output_schema=None, flatten=False, model_update_kwargs={}, predict_kwargs={}, compute_kwargs={}, validation=None, metric_values={}, num_workers=0, model='text-embedding-ada-002', max_batch_size=8, openai_api_key=None, openai_api_base=None, client_kwargs={}, shape=(1536,), batch_size=100), select=_outputs__chunker.select(), predict_kwargs={}, predict_id='text-embedding-ada-002-listener'), compatible_listener=None, measure=<VectorIndexMeasureType.cosine: 'cosine'>, metric_values={})], namespace=[{'type_id': 'table', 'identifier': 'documents'}, {'type_id': 'listener', 'identifier': 'chunker'}, {'type_id': 'vector_index', 'identifier': 'my-vector-index'}, {'type_id': 'schema', 'identifier': 'schema'}, {'type_id': 'model', 'identifier': 'chunker'}, {'type_id': 'listener', 'identifier': 'text-embedding-ada-002-listener'}, {'type_id': 'model', 'identifier': 'text-embedding-ada-002'}]))"
      ]
     },
     "execution_count": 14,
     "metadata": {},
     "output_type": "execute_result"
    }
   ],
   "source": [
    "db.apply(application)"
   ]
  },
  {
   "cell_type": "code",
   "execution_count": 16,
   "id": "f633f85b-7b66-4d6b-a670-e354cacb46a0",
   "metadata": {},
   "outputs": [
    {
     "name": "stdout",
     "output_type": "stream",
     "text": [
      "\u001b[32m2024-Aug-23 14:41:01.10\u001b[0m| \u001b[33m\u001b[1mWARNING \u001b[0m | \u001b[36mDuncans-MacBook-Pro.local\u001b[0m| \u001b[36msuperduper.base.document\u001b[0m:\u001b[36m415 \u001b[0m | \u001b[33m\u001b[1mLeaf str already exists\u001b[0m\n",
      "\u001b[32m2024-Aug-23 14:41:01.10\u001b[0m| \u001b[33m\u001b[1mWARNING \u001b[0m | \u001b[36mDuncans-MacBook-Pro.local\u001b[0m| \u001b[36msuperduper.base.document\u001b[0m:\u001b[36m415 \u001b[0m | \u001b[33m\u001b[1mLeaf documents already exists\u001b[0m\n",
      "\u001b[32m2024-Aug-23 14:41:01.10\u001b[0m| \u001b[33m\u001b[1mWARNING \u001b[0m | \u001b[36mDuncans-MacBook-Pro.local\u001b[0m| \u001b[36msuperduper.base.document\u001b[0m:\u001b[36m415 \u001b[0m | \u001b[33m\u001b[1mLeaf schema already exists\u001b[0m\n",
      "\u001b[32m2024-Aug-23 14:41:01.10\u001b[0m| \u001b[33m\u001b[1mWARNING \u001b[0m | \u001b[36mDuncans-MacBook-Pro.local\u001b[0m| \u001b[36msuperduper.base.document\u001b[0m:\u001b[36m415 \u001b[0m | \u001b[33m\u001b[1mLeaf str already exists\u001b[0m\n",
      "\u001b[32m2024-Aug-23 14:41:01.10\u001b[0m| \u001b[33m\u001b[1mWARNING \u001b[0m | \u001b[36mDuncans-MacBook-Pro.local\u001b[0m| \u001b[36msuperduper.base.document\u001b[0m:\u001b[36m415 \u001b[0m | \u001b[33m\u001b[1mLeaf str already exists\u001b[0m\n",
      "\u001b[32m2024-Aug-23 14:41:01.10\u001b[0m| \u001b[33m\u001b[1mWARNING \u001b[0m | \u001b[36mDuncans-MacBook-Pro.local\u001b[0m| \u001b[36msuperduper.base.document\u001b[0m:\u001b[36m415 \u001b[0m | \u001b[33m\u001b[1mLeaf chunker already exists\u001b[0m\n",
      "\u001b[32m2024-Aug-23 14:41:01.10\u001b[0m| \u001b[33m\u001b[1mWARNING \u001b[0m | \u001b[36mDuncans-MacBook-Pro.local\u001b[0m| \u001b[36msuperduper.base.document\u001b[0m:\u001b[36m415 \u001b[0m | \u001b[33m\u001b[1mLeaf chunker already exists\u001b[0m\n",
      "\u001b[32m2024-Aug-23 14:41:01.10\u001b[0m| \u001b[33m\u001b[1mWARNING \u001b[0m | \u001b[36mDuncans-MacBook-Pro.local\u001b[0m| \u001b[36msuperduper.base.document\u001b[0m:\u001b[36m415 \u001b[0m | \u001b[33m\u001b[1mLeaf dill_lazy already exists\u001b[0m\n",
      "\u001b[32m2024-Aug-23 14:41:01.10\u001b[0m| \u001b[33m\u001b[1mWARNING \u001b[0m | \u001b[36mDuncans-MacBook-Pro.local\u001b[0m| \u001b[36msuperduper.base.document\u001b[0m:\u001b[36m415 \u001b[0m | \u001b[33m\u001b[1mLeaf documents-select already exists\u001b[0m\n",
      "\u001b[32m2024-Aug-23 14:41:01.11\u001b[0m| \u001b[33m\u001b[1mWARNING \u001b[0m | \u001b[36mDuncans-MacBook-Pro.local\u001b[0m| \u001b[36msuperduper.base.document\u001b[0m:\u001b[36m415 \u001b[0m | \u001b[33m\u001b[1mLeaf str already exists\u001b[0m\n",
      "\u001b[32m2024-Aug-23 14:41:01.11\u001b[0m| \u001b[33m\u001b[1mWARNING \u001b[0m | \u001b[36mDuncans-MacBook-Pro.local\u001b[0m| \u001b[36msuperduper.base.document\u001b[0m:\u001b[36m415 \u001b[0m | \u001b[33m\u001b[1mLeaf documents already exists\u001b[0m\n",
      "\u001b[32m2024-Aug-23 14:41:01.11\u001b[0m| \u001b[33m\u001b[1mWARNING \u001b[0m | \u001b[36mDuncans-MacBook-Pro.local\u001b[0m| \u001b[36msuperduper.base.document\u001b[0m:\u001b[36m415 \u001b[0m | \u001b[33m\u001b[1mLeaf schema already exists\u001b[0m\n",
      "\u001b[32m2024-Aug-23 14:41:01.11\u001b[0m| \u001b[33m\u001b[1mWARNING \u001b[0m | \u001b[36mDuncans-MacBook-Pro.local\u001b[0m| \u001b[36msuperduper.base.document\u001b[0m:\u001b[36m415 \u001b[0m | \u001b[33m\u001b[1mLeaf str already exists\u001b[0m\n",
      "\u001b[32m2024-Aug-23 14:41:01.11\u001b[0m| \u001b[33m\u001b[1mWARNING \u001b[0m | \u001b[36mDuncans-MacBook-Pro.local\u001b[0m| \u001b[36msuperduper.base.document\u001b[0m:\u001b[36m415 \u001b[0m | \u001b[33m\u001b[1mLeaf str already exists\u001b[0m\n",
      "\u001b[32m2024-Aug-23 14:41:01.11\u001b[0m| \u001b[33m\u001b[1mWARNING \u001b[0m | \u001b[36mDuncans-MacBook-Pro.local\u001b[0m| \u001b[36msuperduper.base.document\u001b[0m:\u001b[36m415 \u001b[0m | \u001b[33m\u001b[1mLeaf chunker already exists\u001b[0m\n",
      "\u001b[32m2024-Aug-23 14:41:01.11\u001b[0m| \u001b[33m\u001b[1mWARNING \u001b[0m | \u001b[36mDuncans-MacBook-Pro.local\u001b[0m| \u001b[36msuperduper.base.document\u001b[0m:\u001b[36m415 \u001b[0m | \u001b[33m\u001b[1mLeaf chunker already exists\u001b[0m\n",
      "\u001b[32m2024-Aug-23 14:41:01.11\u001b[0m| \u001b[33m\u001b[1mWARNING \u001b[0m | \u001b[36mDuncans-MacBook-Pro.local\u001b[0m| \u001b[36msuperduper.base.document\u001b[0m:\u001b[36m415 \u001b[0m | \u001b[33m\u001b[1mLeaf dill_lazy already exists\u001b[0m\n",
      "\u001b[32m2024-Aug-23 14:41:01.11\u001b[0m| \u001b[33m\u001b[1mWARNING \u001b[0m | \u001b[36mDuncans-MacBook-Pro.local\u001b[0m| \u001b[36msuperduper.base.document\u001b[0m:\u001b[36m415 \u001b[0m | \u001b[33m\u001b[1mLeaf documents-select already exists\u001b[0m\n"
     ]
    },
    {
     "data": {
      "text/html": [
       "<pre style=\"white-space:pre;overflow-x:auto;line-height:normal;font-family:Menlo,'DejaVu Sans Mono',consolas,'Courier New',monospace\"><span style=\"color: #008000; text-decoration-color: #008000; font-weight: bold\">╭────────────────────────────────────────────── text-vector-search ───────────────────────────────────────────────╮</span>\n",
       "<span style=\"color: #008000; text-decoration-color: #008000; font-weight: bold\">│</span> <span style=\"color: #800080; text-decoration-color: #800080\">identifier</span>: <span style=\"color: #000080; text-decoration-color: #000080\">text-vector-search</span>                                                                                  <span style=\"color: #008000; text-decoration-color: #008000; font-weight: bold\">│</span>\n",
       "<span style=\"color: #008000; text-decoration-color: #008000; font-weight: bold\">│</span> <span style=\"color: #800080; text-decoration-color: #800080\">uuid</span>: <span style=\"color: #000080; text-decoration-color: #000080\">ba67055ba77d40ffa73d5cd3a17118aa</span>                                                                          <span style=\"color: #008000; text-decoration-color: #008000; font-weight: bold\">│</span>\n",
       "<span style=\"color: #008000; text-decoration-color: #008000; font-weight: bold\">│</span> <span style=\"color: #800080; text-decoration-color: #800080\">cache</span>: <span style=\"color: #000080; text-decoration-color: #000080\">False</span>                                                                                                    <span style=\"color: #008000; text-decoration-color: #008000; font-weight: bold\">│</span>\n",
       "<span style=\"color: #008000; text-decoration-color: #008000; font-weight: bold\">│</span> <span style=\"color: #800080; text-decoration-color: #800080\">components</span>: <span style=\"color: #000080; text-decoration-color: #000080\">[\"Table(identifier='documents', uuid='d05bd908810a43...\", \"Listener(identifier='chunker', </span>          <span style=\"color: #008000; text-decoration-color: #008000; font-weight: bold\">│</span>\n",
       "<span style=\"color: #008000; text-decoration-color: #008000; font-weight: bold\">│</span> <span style=\"color: #000080; text-decoration-color: #000080\">uuid='chunk', upstr...\", \"VectorIndex(identifier='my-vector-index', uuid='7c...\"]</span>                               <span style=\"color: #008000; text-decoration-color: #008000; font-weight: bold\">│</span>\n",
       "<span style=\"color: #008000; text-decoration-color: #008000; font-weight: bold\">│</span> <span style=\"color: #800080; text-decoration-color: #800080\">namespace</span>: <span style=\"color: #000080; text-decoration-color: #000080\">[\"{'type_id': 'table', 'identifier': 'documents'}\", \"{'type_id': 'listener', 'identifier': </span>          <span style=\"color: #008000; text-decoration-color: #008000; font-weight: bold\">│</span>\n",
       "<span style=\"color: #008000; text-decoration-color: #008000; font-weight: bold\">│</span> <span style=\"color: #000080; text-decoration-color: #000080\">'chunker'}\", \"{'type_id': 'vector_index', 'identifier': 'my-vector-index'}\", \"{'type_id': 'schema', </span>            <span style=\"color: #008000; text-decoration-color: #008000; font-weight: bold\">│</span>\n",
       "<span style=\"color: #008000; text-decoration-color: #008000; font-weight: bold\">│</span> <span style=\"color: #000080; text-decoration-color: #000080\">'identifier': 'schema'}\", \"{'type_id': 'model', 'identifier': 'chunker'}\", \"{'type_id': 'listener', </span>            <span style=\"color: #008000; text-decoration-color: #008000; font-weight: bold\">│</span>\n",
       "<span style=\"color: #008000; text-decoration-color: #008000; font-weight: bold\">│</span> <span style=\"color: #000080; text-decoration-color: #000080\">'identifier': 'text-embedding-ada-002-listener'}\", \"{'type_id': 'model', 'identifier': </span>                         <span style=\"color: #008000; text-decoration-color: #008000; font-weight: bold\">│</span>\n",
       "<span style=\"color: #008000; text-decoration-color: #008000; font-weight: bold\">│</span> <span style=\"color: #000080; text-decoration-color: #000080\">'text-embedding-ada-002'}\"]</span>                                                                                     <span style=\"color: #008000; text-decoration-color: #008000; font-weight: bold\">│</span>\n",
       "<span style=\"color: #008000; text-decoration-color: #008000; font-weight: bold\">│</span> <span style=\"color: #800080; text-decoration-color: #800080\">_db</span>: <span style=\"color: #000080; text-decoration-color: #000080\">&lt;superduper.base.datalayer.Datalayer object at 0x121816010&gt;</span>                                                <span style=\"color: #008000; text-decoration-color: #008000; font-weight: bold\">│</span>\n",
       "<span style=\"color: #008000; text-decoration-color: #008000; font-weight: bold\">│</span> <span style=\"color: #800080; text-decoration-color: #800080\">version</span>: <span style=\"color: #000080; text-decoration-color: #000080\">0</span>                                                                                                      <span style=\"color: #008000; text-decoration-color: #008000; font-weight: bold\">│</span>\n",
       "<span style=\"color: #008000; text-decoration-color: #008000; font-weight: bold\">╰─────────────────────────────────────────────────────────────────────────────────────────────────────────────────╯</span>\n",
       "<span style=\"color: #000080; text-decoration-color: #000080\">╭────────────────────────────────────────────── Component Metadata ───────────────────────────────────────────────╮</span>\n",
       "<span style=\"color: #000080; text-decoration-color: #000080\">│</span> <span style=\"color: #808000; text-decoration-color: #808000\">Leaves</span>                                                                                                          <span style=\"color: #000080; text-decoration-color: #000080\">│</span>\n",
       "<span style=\"color: #000080; text-decoration-color: #000080\">╰─────────────────────────────────────────────────────────────────────────────────────────────────────────────────╯</span>\n",
       "</pre>\n"
      ],
      "text/plain": [
       "\u001b[1;32m╭─\u001b[0m\u001b[1;32m─────────────────────────────────────────────\u001b[0m\u001b[1;32m text-vector-search \u001b[0m\u001b[1;32m──────────────────────────────────────────────\u001b[0m\u001b[1;32m─╮\u001b[0m\n",
       "\u001b[1;32m│\u001b[0m \u001b[35midentifier\u001b[0m: \u001b[34mtext-vector-search\u001b[0m                                                                                  \u001b[1;32m│\u001b[0m\n",
       "\u001b[1;32m│\u001b[0m \u001b[35muuid\u001b[0m: \u001b[34mba67055ba77d40ffa73d5cd3a17118aa\u001b[0m                                                                          \u001b[1;32m│\u001b[0m\n",
       "\u001b[1;32m│\u001b[0m \u001b[35mcache\u001b[0m: \u001b[34mFalse\u001b[0m                                                                                                    \u001b[1;32m│\u001b[0m\n",
       "\u001b[1;32m│\u001b[0m \u001b[35mcomponents\u001b[0m: \u001b[34m[\"Table(identifier='documents', uuid='d05bd908810a43...\", \"Listener(identifier='chunker', \u001b[0m          \u001b[1;32m│\u001b[0m\n",
       "\u001b[1;32m│\u001b[0m \u001b[34muuid='chunk', upstr...\", \"VectorIndex(identifier='my-vector-index', uuid='7c...\"]\u001b[0m                               \u001b[1;32m│\u001b[0m\n",
       "\u001b[1;32m│\u001b[0m \u001b[35mnamespace\u001b[0m: \u001b[34m[\"{'type_id': 'table', 'identifier': 'documents'}\", \"{'type_id': 'listener', 'identifier': \u001b[0m          \u001b[1;32m│\u001b[0m\n",
       "\u001b[1;32m│\u001b[0m \u001b[34m'chunker'}\", \"{'type_id': 'vector_index', 'identifier': 'my-vector-index'}\", \"{'type_id': 'schema', \u001b[0m            \u001b[1;32m│\u001b[0m\n",
       "\u001b[1;32m│\u001b[0m \u001b[34m'identifier': 'schema'}\", \"{'type_id': 'model', 'identifier': 'chunker'}\", \"{'type_id': 'listener', \u001b[0m            \u001b[1;32m│\u001b[0m\n",
       "\u001b[1;32m│\u001b[0m \u001b[34m'identifier': 'text-embedding-ada-002-listener'}\", \"{'type_id': 'model', 'identifier': \u001b[0m                         \u001b[1;32m│\u001b[0m\n",
       "\u001b[1;32m│\u001b[0m \u001b[34m'text-embedding-ada-002'}\"]\u001b[0m                                                                                     \u001b[1;32m│\u001b[0m\n",
       "\u001b[1;32m│\u001b[0m \u001b[35m_db\u001b[0m: \u001b[34m<superduper.base.datalayer.Datalayer object at 0x121816010>\u001b[0m                                                \u001b[1;32m│\u001b[0m\n",
       "\u001b[1;32m│\u001b[0m \u001b[35mversion\u001b[0m: \u001b[34m0\u001b[0m                                                                                                      \u001b[1;32m│\u001b[0m\n",
       "\u001b[1;32m╰─────────────────────────────────────────────────────────────────────────────────────────────────────────────────╯\u001b[0m\n",
       "\u001b[34m╭─\u001b[0m\u001b[34m─────────────────────────────────────────────\u001b[0m\u001b[34m Component Metadata \u001b[0m\u001b[34m──────────────────────────────────────────────\u001b[0m\u001b[34m─╮\u001b[0m\n",
       "\u001b[34m│\u001b[0m \u001b[33mLeaves\u001b[0m                                                                                                          \u001b[34m│\u001b[0m\n",
       "\u001b[34m╰─────────────────────────────────────────────────────────────────────────────────────────────────────────────────╯\u001b[0m\n"
      ]
     },
     "metadata": {},
     "output_type": "display_data"
    },
    {
     "data": {
      "text/html": [
       "<pre style=\"white-space:pre;overflow-x:auto;line-height:normal;font-family:Menlo,'DejaVu Sans Mono',consolas,'Courier New',monospace\"><span style=\"color: #008000; text-decoration-color: #008000; font-weight: bold\">Component Map: text-vector-search</span>\n",
       "<span style=\"color: #008000; text-decoration-color: #008000\">┣━━ </span><span style=\"color: #808000; text-decoration-color: #808000\">str: superduper.components.schema.FieldType(2de7977645d2435aacc4d8e6c1e1d573)</span>\n",
       "<span style=\"color: #008000; text-decoration-color: #008000\">┃   ┣━━ </span><span style=\"color: #800080; text-decoration-color: #800080\">_path</span><span style=\"color: #000080; text-decoration-color: #000080\">: superduper.components.schema.FieldType</span>\n",
       "<span style=\"color: #008000; text-decoration-color: #008000\">┃   ┗━━ </span><span style=\"color: #800080; text-decoration-color: #800080\">uuid</span><span style=\"color: #000080; text-decoration-color: #000080\">: 2de7977645d2435aacc4d8e6c1e1d573</span>\n",
       "<span style=\"color: #008000; text-decoration-color: #008000\">┣━━ </span><span style=\"color: #808000; text-decoration-color: #808000\">schema: superduper.components.schema.Schema(ea43dd0a76f749afb3b416925715c3c1)</span>\n",
       "<span style=\"color: #008000; text-decoration-color: #008000\">┃   ┣━━ </span><span style=\"color: #800080; text-decoration-color: #800080\">_path</span><span style=\"color: #000080; text-decoration-color: #000080\">: superduper.components.schema.Schema</span>\n",
       "<span style=\"color: #008000; text-decoration-color: #008000\">┃   ┣━━ </span><span style=\"color: #800080; text-decoration-color: #800080\">uuid</span><span style=\"color: #000080; text-decoration-color: #000080\">: ea43dd0a76f749afb3b416925715c3c1</span>\n",
       "<span style=\"color: #008000; text-decoration-color: #008000\">┃   ┣━━ </span><span style=\"color: #800080; text-decoration-color: #800080\">upstream</span><span style=\"color: #000080; text-decoration-color: #000080\">: None</span>\n",
       "<span style=\"color: #008000; text-decoration-color: #008000\">┃   ┣━━ </span><span style=\"color: #800080; text-decoration-color: #800080\">plugins</span><span style=\"color: #000080; text-decoration-color: #000080\">: None</span>\n",
       "<span style=\"color: #008000; text-decoration-color: #008000\">┃   ┣━━ </span><span style=\"color: #800080; text-decoration-color: #800080\">cache</span><span style=\"color: #000080; text-decoration-color: #000080\">: False</span>\n",
       "<span style=\"color: #008000; text-decoration-color: #008000\">┃   ┣━━ </span><span style=\"color: #800080; text-decoration-color: #800080\">fields</span><span style=\"color: #000080; text-decoration-color: #000080\">: {'x': '?str', '_fold': '?str'}</span>\n",
       "<span style=\"color: #008000; text-decoration-color: #008000\">┃   ┣━━ </span><span style=\"color: #800080; text-decoration-color: #800080\">type_id</span><span style=\"color: #000080; text-decoration-color: #000080\">: schema</span>\n",
       "<span style=\"color: #008000; text-decoration-color: #008000\">┃   ┣━━ </span><span style=\"color: #800080; text-decoration-color: #800080\">version</span><span style=\"color: #000080; text-decoration-color: #000080\">: 0</span>\n",
       "<span style=\"color: #008000; text-decoration-color: #008000\">┃   ┗━━ </span><span style=\"color: #800080; text-decoration-color: #800080\">hidden</span><span style=\"color: #000080; text-decoration-color: #000080\">: False</span>\n",
       "<span style=\"color: #008000; text-decoration-color: #008000\">┣━━ </span><span style=\"color: #808000; text-decoration-color: #808000\">documents: superduper.components.table.Table(d05bd908810a43988dbe41c2167644f0)</span>\n",
       "<span style=\"color: #008000; text-decoration-color: #008000\">┃   ┣━━ </span><span style=\"color: #800080; text-decoration-color: #800080\">_path</span><span style=\"color: #000080; text-decoration-color: #000080\">: superduper.components.table.Table</span>\n",
       "<span style=\"color: #008000; text-decoration-color: #008000\">┃   ┣━━ </span><span style=\"color: #800080; text-decoration-color: #800080\">uuid</span><span style=\"color: #000080; text-decoration-color: #000080\">: d05bd908810a43988dbe41c2167644f0</span>\n",
       "<span style=\"color: #008000; text-decoration-color: #008000\">┃   ┣━━ </span><span style=\"color: #800080; text-decoration-color: #800080\">upstream</span><span style=\"color: #000080; text-decoration-color: #000080\">: None</span>\n",
       "<span style=\"color: #008000; text-decoration-color: #008000\">┃   ┣━━ </span><span style=\"color: #800080; text-decoration-color: #800080\">plugins</span><span style=\"color: #000080; text-decoration-color: #000080\">: None</span>\n",
       "<span style=\"color: #008000; text-decoration-color: #008000\">┃   ┣━━ </span><span style=\"color: #800080; text-decoration-color: #800080\">cache</span><span style=\"color: #000080; text-decoration-color: #000080\">: False</span>\n",
       "<span style=\"color: #008000; text-decoration-color: #008000\">┃   ┣━━ </span><span style=\"color: #800080; text-decoration-color: #800080\">schema</span><span style=\"color: #000080; text-decoration-color: #000080\">: ?schema</span>\n",
       "<span style=\"color: #008000; text-decoration-color: #008000\">┃   ┣━━ </span><span style=\"color: #800080; text-decoration-color: #800080\">primary_id</span><span style=\"color: #000080; text-decoration-color: #000080\">: id</span>\n",
       "<span style=\"color: #008000; text-decoration-color: #008000\">┃   ┣━━ </span><span style=\"color: #800080; text-decoration-color: #800080\">type_id</span><span style=\"color: #000080; text-decoration-color: #000080\">: table</span>\n",
       "<span style=\"color: #008000; text-decoration-color: #008000\">┃   ┣━━ </span><span style=\"color: #800080; text-decoration-color: #800080\">version</span><span style=\"color: #000080; text-decoration-color: #000080\">: 0</span>\n",
       "<span style=\"color: #008000; text-decoration-color: #008000\">┃   ┗━━ </span><span style=\"color: #800080; text-decoration-color: #800080\">hidden</span><span style=\"color: #000080; text-decoration-color: #000080\">: False</span>\n",
       "<span style=\"color: #008000; text-decoration-color: #008000\">┣━━ </span><span style=\"color: #808000; text-decoration-color: #808000\">dill_lazy: superduper.components.datatype.get_serializer(0541e537287843c387e54b9f2ed666c5)</span>\n",
       "<span style=\"color: #008000; text-decoration-color: #008000\">┃   ┣━━ </span><span style=\"color: #800080; text-decoration-color: #800080\">_path</span><span style=\"color: #000080; text-decoration-color: #000080\">: superduper.components.datatype.get_serializer</span>\n",
       "<span style=\"color: #008000; text-decoration-color: #008000\">┃   ┣━━ </span><span style=\"color: #800080; text-decoration-color: #800080\">method</span><span style=\"color: #000080; text-decoration-color: #000080\">: dill</span>\n",
       "<span style=\"color: #008000; text-decoration-color: #008000\">┃   ┣━━ </span><span style=\"color: #800080; text-decoration-color: #800080\">encodable</span><span style=\"color: #000080; text-decoration-color: #000080\">: lazy_artifact</span>\n",
       "<span style=\"color: #008000; text-decoration-color: #008000\">┃   ┣━━ </span><span style=\"color: #800080; text-decoration-color: #800080\">type_id</span><span style=\"color: #000080; text-decoration-color: #000080\">: datatype</span>\n",
       "<span style=\"color: #008000; text-decoration-color: #008000\">┃   ┣━━ </span><span style=\"color: #800080; text-decoration-color: #800080\">version</span><span style=\"color: #000080; text-decoration-color: #000080\">: None</span>\n",
       "<span style=\"color: #008000; text-decoration-color: #008000\">┃   ┗━━ </span><span style=\"color: #800080; text-decoration-color: #800080\">uuid</span><span style=\"color: #000080; text-decoration-color: #000080\">: 0541e537287843c387e54b9f2ed666c5</span>\n",
       "<span style=\"color: #008000; text-decoration-color: #008000\">┣━━ </span><span style=\"color: #808000; text-decoration-color: #808000\">03c2d3eed85dc1daff9b9ef78206e90a0f3e8f41: </span>\n",
       "<span style=\"color: #008000; text-decoration-color: #008000\">┃   </span><span style=\"color: #808000; text-decoration-color: #808000\">superduper.components.datatype.LazyArtifact(07b8aead20534d35a2d1ae74bc02c97f)</span>\n",
       "<span style=\"color: #008000; text-decoration-color: #008000\">┃   ┣━━ </span><span style=\"color: #800080; text-decoration-color: #800080\">_path</span><span style=\"color: #000080; text-decoration-color: #000080\">: superduper.components.datatype.LazyArtifact</span>\n",
       "<span style=\"color: #008000; text-decoration-color: #008000\">┃   ┣━━ </span><span style=\"color: #800080; text-decoration-color: #800080\">uuid</span><span style=\"color: #000080; text-decoration-color: #000080\">: 07b8aead20534d35a2d1ae74bc02c97f</span>\n",
       "<span style=\"color: #008000; text-decoration-color: #008000\">┃   ┣━━ </span><span style=\"color: #800080; text-decoration-color: #800080\">datatype</span><span style=\"color: #000080; text-decoration-color: #000080\">: ?dill_lazy</span>\n",
       "<span style=\"color: #008000; text-decoration-color: #008000\">┃   ┣━━ </span><span style=\"color: #800080; text-decoration-color: #800080\">uri</span><span style=\"color: #000080; text-decoration-color: #000080\">: None</span>\n",
       "<span style=\"color: #008000; text-decoration-color: #008000\">┃   ┗━━ </span><span style=\"color: #800080; text-decoration-color: #800080\">blob</span><span style=\"color: #000080; text-decoration-color: #000080\">: &amp;:blob:03c2d3eed85dc1daff9b9ef78206e90a0f3e8f41</span>\n",
       "<span style=\"color: #008000; text-decoration-color: #008000\">┣━━ </span><span style=\"color: #808000; text-decoration-color: #808000\">chunker: superduper.components.listener.Listener(chunk)</span>\n",
       "<span style=\"color: #008000; text-decoration-color: #008000\">┃   ┣━━ </span><span style=\"color: #800080; text-decoration-color: #800080\">_path</span><span style=\"color: #000080; text-decoration-color: #000080\">: superduper.components.listener.Listener</span>\n",
       "<span style=\"color: #008000; text-decoration-color: #008000\">┃   ┣━━ </span><span style=\"color: #800080; text-decoration-color: #800080\">uuid</span><span style=\"color: #000080; text-decoration-color: #000080\">: chunk</span>\n",
       "<span style=\"color: #008000; text-decoration-color: #008000\">┃   ┣━━ </span><span style=\"color: #800080; text-decoration-color: #800080\">upstream</span><span style=\"color: #000080; text-decoration-color: #000080\">: None</span>\n",
       "<span style=\"color: #008000; text-decoration-color: #008000\">┃   ┣━━ </span><span style=\"color: #800080; text-decoration-color: #800080\">plugins</span><span style=\"color: #000080; text-decoration-color: #000080\">: None</span>\n",
       "<span style=\"color: #008000; text-decoration-color: #008000\">┃   ┣━━ </span><span style=\"color: #800080; text-decoration-color: #800080\">cache</span><span style=\"color: #000080; text-decoration-color: #000080\">: False</span>\n",
       "<span style=\"color: #008000; text-decoration-color: #008000\">┃   ┣━━ </span><span style=\"color: #800080; text-decoration-color: #800080\">key</span><span style=\"color: #000080; text-decoration-color: #000080\">: x</span>\n",
       "<span style=\"color: #008000; text-decoration-color: #008000\">┃   ┣━━ </span><span style=\"color: #800080; text-decoration-color: #800080\">model</span><span style=\"color: #000080; text-decoration-color: #000080\">: ?chunker</span>\n",
       "<span style=\"color: #008000; text-decoration-color: #008000\">┃   ┣━━ </span><span style=\"color: #800080; text-decoration-color: #800080\">select</span><span style=\"color: #000080; text-decoration-color: #000080\">: ?documents-select</span>\n",
       "<span style=\"color: #008000; text-decoration-color: #008000\">┃   ┣━━ </span><span style=\"color: #800080; text-decoration-color: #800080\">predict_kwargs</span><span style=\"color: #000080; text-decoration-color: #000080\">: {}</span>\n",
       "<span style=\"color: #008000; text-decoration-color: #008000\">┃   ┣━━ </span><span style=\"color: #800080; text-decoration-color: #800080\">predict_id</span><span style=\"color: #000080; text-decoration-color: #000080\">: chunker</span>\n",
       "<span style=\"color: #008000; text-decoration-color: #008000\">┃   ┣━━ </span><span style=\"color: #800080; text-decoration-color: #800080\">type_id</span><span style=\"color: #000080; text-decoration-color: #000080\">: listener</span>\n",
       "<span style=\"color: #008000; text-decoration-color: #008000\">┃   ┣━━ </span><span style=\"color: #800080; text-decoration-color: #800080\">version</span><span style=\"color: #000080; text-decoration-color: #000080\">: 0</span>\n",
       "<span style=\"color: #008000; text-decoration-color: #008000\">┃   ┗━━ </span><span style=\"color: #800080; text-decoration-color: #800080\">hidden</span><span style=\"color: #000080; text-decoration-color: #000080\">: False</span>\n",
       "<span style=\"color: #008000; text-decoration-color: #008000\">┣━━ </span><span style=\"color: #808000; text-decoration-color: #808000\">documents-select: superduper_mongodb.query.parse_query(None)</span>\n",
       "<span style=\"color: #008000; text-decoration-color: #008000\">┃   ┣━━ </span><span style=\"color: #800080; text-decoration-color: #800080\">_path</span><span style=\"color: #000080; text-decoration-color: #000080\">: superduper_mongodb.query.parse_query</span>\n",
       "<span style=\"color: #008000; text-decoration-color: #008000\">┃   ┣━━ </span><span style=\"color: #800080; text-decoration-color: #800080\">documents</span><span style=\"color: #000080; text-decoration-color: #000080\">: []</span>\n",
       "<span style=\"color: #008000; text-decoration-color: #008000\">┃   ┗━━ </span><span style=\"color: #800080; text-decoration-color: #800080\">query</span><span style=\"color: #000080; text-decoration-color: #000080\">: documents.select()</span>\n",
       "<span style=\"color: #008000; text-decoration-color: #008000\">┣━━ </span><span style=\"color: #808000; text-decoration-color: #808000\">vector[1536]: superduper.components.vector_index.vector(8189760e319d49caa494229916610895)</span>\n",
       "<span style=\"color: #008000; text-decoration-color: #008000\">┃   ┣━━ </span><span style=\"color: #800080; text-decoration-color: #800080\">_path</span><span style=\"color: #000080; text-decoration-color: #000080\">: superduper.components.vector_index.vector</span>\n",
       "<span style=\"color: #008000; text-decoration-color: #008000\">┃   ┣━━ </span><span style=\"color: #800080; text-decoration-color: #800080\">shape</span><span style=\"color: #000080; text-decoration-color: #000080\">: (1536,)</span>\n",
       "<span style=\"color: #008000; text-decoration-color: #008000\">┃   ┣━━ </span><span style=\"color: #800080; text-decoration-color: #800080\">type_id</span><span style=\"color: #000080; text-decoration-color: #000080\">: datatype</span>\n",
       "<span style=\"color: #008000; text-decoration-color: #008000\">┃   ┣━━ </span><span style=\"color: #800080; text-decoration-color: #800080\">version</span><span style=\"color: #000080; text-decoration-color: #000080\">: None</span>\n",
       "<span style=\"color: #008000; text-decoration-color: #008000\">┃   ┗━━ </span><span style=\"color: #800080; text-decoration-color: #800080\">uuid</span><span style=\"color: #000080; text-decoration-color: #000080\">: 8189760e319d49caa494229916610895</span>\n",
       "<span style=\"color: #008000; text-decoration-color: #008000\">┣━━ </span><span style=\"color: #808000; text-decoration-color: #808000\">text-embedding-ada-002: superduper_openai.model.OpenAIEmbedding(31aa9703bbd740898bf6cd7112f41c69)</span>\n",
       "<span style=\"color: #008000; text-decoration-color: #008000\">┃   ┣━━ </span><span style=\"color: #800080; text-decoration-color: #800080\">_path</span><span style=\"color: #000080; text-decoration-color: #000080\">: superduper_openai.model.OpenAIEmbedding</span>\n",
       "<span style=\"color: #008000; text-decoration-color: #008000\">┃   ┣━━ </span><span style=\"color: #800080; text-decoration-color: #800080\">uuid</span><span style=\"color: #000080; text-decoration-color: #000080\">: 31aa9703bbd740898bf6cd7112f41c69</span>\n",
       "<span style=\"color: #008000; text-decoration-color: #008000\">┃   ┣━━ </span><span style=\"color: #800080; text-decoration-color: #800080\">upstream</span><span style=\"color: #000080; text-decoration-color: #000080\">: None</span>\n",
       "<span style=\"color: #008000; text-decoration-color: #008000\">┃   ┣━━ </span><span style=\"color: #800080; text-decoration-color: #800080\">plugins</span><span style=\"color: #000080; text-decoration-color: #000080\">: None</span>\n",
       "<span style=\"color: #008000; text-decoration-color: #008000\">┃   ┣━━ </span><span style=\"color: #800080; text-decoration-color: #800080\">cache</span><span style=\"color: #000080; text-decoration-color: #000080\">: False</span>\n",
       "<span style=\"color: #008000; text-decoration-color: #008000\">┃   ┣━━ </span><span style=\"color: #800080; text-decoration-color: #800080\">signature</span><span style=\"color: #000080; text-decoration-color: #000080\">: singleton</span>\n",
       "<span style=\"color: #008000; text-decoration-color: #008000\">┃   ┣━━ </span><span style=\"color: #800080; text-decoration-color: #800080\">datatype</span><span style=\"color: #000080; text-decoration-color: #000080\">: ?vector[1536]</span>\n",
       "<span style=\"color: #008000; text-decoration-color: #008000\">┃   ┣━━ </span><span style=\"color: #800080; text-decoration-color: #800080\">output_schema</span><span style=\"color: #000080; text-decoration-color: #000080\">: None</span>\n",
       "<span style=\"color: #008000; text-decoration-color: #008000\">┃   ┣━━ </span><span style=\"color: #800080; text-decoration-color: #800080\">flatten</span><span style=\"color: #000080; text-decoration-color: #000080\">: False</span>\n",
       "<span style=\"color: #008000; text-decoration-color: #008000\">┃   ┣━━ </span><span style=\"color: #800080; text-decoration-color: #800080\">model_update_kwargs</span><span style=\"color: #000080; text-decoration-color: #000080\">: {}</span>\n",
       "<span style=\"color: #008000; text-decoration-color: #008000\">┃   ┣━━ </span><span style=\"color: #800080; text-decoration-color: #800080\">predict_kwargs</span><span style=\"color: #000080; text-decoration-color: #000080\">: {}</span>\n",
       "<span style=\"color: #008000; text-decoration-color: #008000\">┃   ┣━━ </span><span style=\"color: #800080; text-decoration-color: #800080\">compute_kwargs</span><span style=\"color: #000080; text-decoration-color: #000080\">: {}</span>\n",
       "<span style=\"color: #008000; text-decoration-color: #008000\">┃   ┣━━ </span><span style=\"color: #800080; text-decoration-color: #800080\">validation</span><span style=\"color: #000080; text-decoration-color: #000080\">: None</span>\n",
       "<span style=\"color: #008000; text-decoration-color: #008000\">┃   ┣━━ </span><span style=\"color: #800080; text-decoration-color: #800080\">metric_values</span><span style=\"color: #000080; text-decoration-color: #000080\">: {}</span>\n",
       "<span style=\"color: #008000; text-decoration-color: #008000\">┃   ┣━━ </span><span style=\"color: #800080; text-decoration-color: #800080\">num_workers</span><span style=\"color: #000080; text-decoration-color: #000080\">: 0</span>\n",
       "<span style=\"color: #008000; text-decoration-color: #008000\">┃   ┣━━ </span><span style=\"color: #800080; text-decoration-color: #800080\">model</span><span style=\"color: #000080; text-decoration-color: #000080\">: text-embedding-ada-002</span>\n",
       "<span style=\"color: #008000; text-decoration-color: #008000\">┃   ┣━━ </span><span style=\"color: #800080; text-decoration-color: #800080\">max_batch_size</span><span style=\"color: #000080; text-decoration-color: #000080\">: 8</span>\n",
       "<span style=\"color: #008000; text-decoration-color: #008000\">┃   ┣━━ </span><span style=\"color: #800080; text-decoration-color: #800080\">openai_api_key</span><span style=\"color: #000080; text-decoration-color: #000080\">: None</span>\n",
       "<span style=\"color: #008000; text-decoration-color: #008000\">┃   ┣━━ </span><span style=\"color: #800080; text-decoration-color: #800080\">openai_api_base</span><span style=\"color: #000080; text-decoration-color: #000080\">: None</span>\n",
       "<span style=\"color: #008000; text-decoration-color: #008000\">┃   ┣━━ </span><span style=\"color: #800080; text-decoration-color: #800080\">client_kwargs</span><span style=\"color: #000080; text-decoration-color: #000080\">: {}</span>\n",
       "<span style=\"color: #008000; text-decoration-color: #008000\">┃   ┣━━ </span><span style=\"color: #800080; text-decoration-color: #800080\">shape</span><span style=\"color: #000080; text-decoration-color: #000080\">: (1536,)</span>\n",
       "<span style=\"color: #008000; text-decoration-color: #008000\">┃   ┣━━ </span><span style=\"color: #800080; text-decoration-color: #800080\">batch_size</span><span style=\"color: #000080; text-decoration-color: #000080\">: 100</span>\n",
       "<span style=\"color: #008000; text-decoration-color: #008000\">┃   ┣━━ </span><span style=\"color: #800080; text-decoration-color: #800080\">type_id</span><span style=\"color: #000080; text-decoration-color: #000080\">: model</span>\n",
       "<span style=\"color: #008000; text-decoration-color: #008000\">┃   ┣━━ </span><span style=\"color: #800080; text-decoration-color: #800080\">version</span><span style=\"color: #000080; text-decoration-color: #000080\">: 0</span>\n",
       "<span style=\"color: #008000; text-decoration-color: #008000\">┃   ┗━━ </span><span style=\"color: #800080; text-decoration-color: #800080\">hidden</span><span style=\"color: #000080; text-decoration-color: #000080\">: False</span>\n",
       "<span style=\"color: #008000; text-decoration-color: #008000\">┣━━ </span><span style=\"color: #808000; text-decoration-color: #808000\">-outputs-chunker-select: superduper_mongodb.query.parse_query(None)</span>\n",
       "<span style=\"color: #008000; text-decoration-color: #008000\">┃   ┣━━ </span><span style=\"color: #800080; text-decoration-color: #800080\">_path</span><span style=\"color: #000080; text-decoration-color: #000080\">: superduper_mongodb.query.parse_query</span>\n",
       "<span style=\"color: #008000; text-decoration-color: #008000\">┃   ┣━━ </span><span style=\"color: #800080; text-decoration-color: #800080\">documents</span><span style=\"color: #000080; text-decoration-color: #000080\">: []</span>\n",
       "<span style=\"color: #008000; text-decoration-color: #008000\">┃   ┗━━ </span><span style=\"color: #800080; text-decoration-color: #800080\">query</span><span style=\"color: #000080; text-decoration-color: #000080\">: _outputs__chunker.select()</span>\n",
       "<span style=\"color: #008000; text-decoration-color: #008000\">┣━━ </span><span style=\"color: #808000; text-decoration-color: #808000\">text-embedding-ada-002-listener: superduper.components.listener.Listener(ae8e2071d35342e585c5ca1f64067583)</span>\n",
       "<span style=\"color: #008000; text-decoration-color: #008000\">┃   ┣━━ </span><span style=\"color: #800080; text-decoration-color: #800080\">_path</span><span style=\"color: #000080; text-decoration-color: #000080\">: superduper.components.listener.Listener</span>\n",
       "<span style=\"color: #008000; text-decoration-color: #008000\">┃   ┣━━ </span><span style=\"color: #800080; text-decoration-color: #800080\">uuid</span><span style=\"color: #000080; text-decoration-color: #000080\">: ae8e2071d35342e585c5ca1f64067583</span>\n",
       "<span style=\"color: #008000; text-decoration-color: #008000\">┃   ┣━━ </span><span style=\"color: #800080; text-decoration-color: #800080\">upstream</span><span style=\"color: #000080; text-decoration-color: #000080\">: ['?documents', '?chunker']</span>\n",
       "<span style=\"color: #008000; text-decoration-color: #008000\">┃   ┣━━ </span><span style=\"color: #800080; text-decoration-color: #800080\">plugins</span><span style=\"color: #000080; text-decoration-color: #000080\">: None</span>\n",
       "<span style=\"color: #008000; text-decoration-color: #008000\">┃   ┣━━ </span><span style=\"color: #800080; text-decoration-color: #800080\">cache</span><span style=\"color: #000080; text-decoration-color: #000080\">: False</span>\n",
       "<span style=\"color: #008000; text-decoration-color: #008000\">┃   ┣━━ </span><span style=\"color: #800080; text-decoration-color: #800080\">key</span><span style=\"color: #000080; text-decoration-color: #000080\">: _outputs__chunker</span>\n",
       "<span style=\"color: #008000; text-decoration-color: #008000\">┃   ┣━━ </span><span style=\"color: #800080; text-decoration-color: #800080\">model</span><span style=\"color: #000080; text-decoration-color: #000080\">: ?text-embedding-ada-002</span>\n",
       "<span style=\"color: #008000; text-decoration-color: #008000\">┃   ┣━━ </span><span style=\"color: #800080; text-decoration-color: #800080\">select</span><span style=\"color: #000080; text-decoration-color: #000080\">: ?-outputs-chunker-select</span>\n",
       "<span style=\"color: #008000; text-decoration-color: #008000\">┃   ┣━━ </span><span style=\"color: #800080; text-decoration-color: #800080\">predict_kwargs</span><span style=\"color: #000080; text-decoration-color: #000080\">: {}</span>\n",
       "<span style=\"color: #008000; text-decoration-color: #008000\">┃   ┣━━ </span><span style=\"color: #800080; text-decoration-color: #800080\">predict_id</span><span style=\"color: #000080; text-decoration-color: #000080\">: text-embedding-ada-002-listener</span>\n",
       "<span style=\"color: #008000; text-decoration-color: #008000\">┃   ┣━━ </span><span style=\"color: #800080; text-decoration-color: #800080\">type_id</span><span style=\"color: #000080; text-decoration-color: #000080\">: listener</span>\n",
       "<span style=\"color: #008000; text-decoration-color: #008000\">┃   ┣━━ </span><span style=\"color: #800080; text-decoration-color: #800080\">version</span><span style=\"color: #000080; text-decoration-color: #000080\">: 0</span>\n",
       "<span style=\"color: #008000; text-decoration-color: #008000\">┃   ┗━━ </span><span style=\"color: #800080; text-decoration-color: #800080\">hidden</span><span style=\"color: #000080; text-decoration-color: #000080\">: False</span>\n",
       "<span style=\"color: #008000; text-decoration-color: #008000\">┣━━ </span><span style=\"color: #808000; text-decoration-color: #808000\">my-vector-index: superduper.components.vector_index.VectorIndex(7c319ebb1d794e3a9d37990a71fd3a9f)</span>\n",
       "<span style=\"color: #008000; text-decoration-color: #008000\">┃   ┣━━ </span><span style=\"color: #800080; text-decoration-color: #800080\">_path</span><span style=\"color: #000080; text-decoration-color: #000080\">: superduper.components.vector_index.VectorIndex</span>\n",
       "<span style=\"color: #008000; text-decoration-color: #008000\">┃   ┣━━ </span><span style=\"color: #800080; text-decoration-color: #800080\">uuid</span><span style=\"color: #000080; text-decoration-color: #000080\">: 7c319ebb1d794e3a9d37990a71fd3a9f</span>\n",
       "<span style=\"color: #008000; text-decoration-color: #008000\">┃   ┣━━ </span><span style=\"color: #800080; text-decoration-color: #800080\">upstream</span><span style=\"color: #000080; text-decoration-color: #000080\">: None</span>\n",
       "<span style=\"color: #008000; text-decoration-color: #008000\">┃   ┣━━ </span><span style=\"color: #800080; text-decoration-color: #800080\">plugins</span><span style=\"color: #000080; text-decoration-color: #000080\">: None</span>\n",
       "<span style=\"color: #008000; text-decoration-color: #008000\">┃   ┣━━ </span><span style=\"color: #800080; text-decoration-color: #800080\">cache</span><span style=\"color: #000080; text-decoration-color: #000080\">: False</span>\n",
       "<span style=\"color: #008000; text-decoration-color: #008000\">┃   ┣━━ </span><span style=\"color: #800080; text-decoration-color: #800080\">indexing_listener</span><span style=\"color: #000080; text-decoration-color: #000080\">: ?text-embedding-ada-002-listener</span>\n",
       "<span style=\"color: #008000; text-decoration-color: #008000\">┃   ┣━━ </span><span style=\"color: #800080; text-decoration-color: #800080\">compatible_listener</span><span style=\"color: #000080; text-decoration-color: #000080\">: None</span>\n",
       "<span style=\"color: #008000; text-decoration-color: #008000\">┃   ┣━━ </span><span style=\"color: #800080; text-decoration-color: #800080\">measure</span><span style=\"color: #000080; text-decoration-color: #000080\">: VectorIndexMeasureType.cosine</span>\n",
       "<span style=\"color: #008000; text-decoration-color: #008000\">┃   ┣━━ </span><span style=\"color: #800080; text-decoration-color: #800080\">metric_values</span><span style=\"color: #000080; text-decoration-color: #000080\">: {}</span>\n",
       "<span style=\"color: #008000; text-decoration-color: #008000\">┃   ┣━━ </span><span style=\"color: #800080; text-decoration-color: #800080\">type_id</span><span style=\"color: #000080; text-decoration-color: #000080\">: vector_index</span>\n",
       "<span style=\"color: #008000; text-decoration-color: #008000\">┃   ┣━━ </span><span style=\"color: #800080; text-decoration-color: #800080\">version</span><span style=\"color: #000080; text-decoration-color: #000080\">: 0</span>\n",
       "<span style=\"color: #008000; text-decoration-color: #008000\">┃   ┗━━ </span><span style=\"color: #800080; text-decoration-color: #800080\">hidden</span><span style=\"color: #000080; text-decoration-color: #000080\">: False</span>\n",
       "<span style=\"color: #008000; text-decoration-color: #008000\">┗━━ </span><span style=\"color: #808000; text-decoration-color: #808000\">text-vector-search: superduper.components.application.Application(ba67055ba77d40ffa73d5cd3a17118aa)</span>\n",
       "<span style=\"color: #008000; text-decoration-color: #008000\">    ┣━━ </span><span style=\"color: #800080; text-decoration-color: #800080\">_path</span><span style=\"color: #000080; text-decoration-color: #000080\">: superduper.components.application.Application</span>\n",
       "<span style=\"color: #008000; text-decoration-color: #008000\">    ┣━━ </span><span style=\"color: #800080; text-decoration-color: #800080\">uuid</span><span style=\"color: #000080; text-decoration-color: #000080\">: ba67055ba77d40ffa73d5cd3a17118aa</span>\n",
       "<span style=\"color: #008000; text-decoration-color: #008000\">    ┣━━ </span><span style=\"color: #800080; text-decoration-color: #800080\">upstream</span><span style=\"color: #000080; text-decoration-color: #000080\">: None</span>\n",
       "<span style=\"color: #008000; text-decoration-color: #008000\">    ┣━━ </span><span style=\"color: #800080; text-decoration-color: #800080\">plugins</span><span style=\"color: #000080; text-decoration-color: #000080\">: None</span>\n",
       "<span style=\"color: #008000; text-decoration-color: #008000\">    ┣━━ </span><span style=\"color: #800080; text-decoration-color: #800080\">cache</span><span style=\"color: #000080; text-decoration-color: #000080\">: False</span>\n",
       "<span style=\"color: #008000; text-decoration-color: #008000\">    ┣━━ </span><span style=\"color: #800080; text-decoration-color: #800080\">components</span><span style=\"color: #000080; text-decoration-color: #000080\">: ['?documents', '?chunker', '?my-vector-index']</span>\n",
       "<span style=\"color: #008000; text-decoration-color: #008000\">    ┣━━ </span><span style=\"color: #800080; text-decoration-color: #800080\">namespace</span><span style=\"color: #000080; text-decoration-color: #000080\">: [{'type_id': 'table', 'identifier': 'documents'}, {'type_id': 'listener', 'identifier': </span>\n",
       "<span style=\"color: #008000; text-decoration-color: #008000\">    ┃   </span><span style=\"color: #000080; text-decoration-color: #000080\">'chunker'}, {'type_id': 'vector_index', 'identifier': 'my-vector-index'}, {'type_id': 'schema', </span>\n",
       "<span style=\"color: #008000; text-decoration-color: #008000\">    ┃   </span><span style=\"color: #000080; text-decoration-color: #000080\">'identifier': 'schema'}, {'type_id': 'model', 'identifier': 'chunker'}, {'type_id': 'listener', </span>\n",
       "<span style=\"color: #008000; text-decoration-color: #008000\">    ┃   </span><span style=\"color: #000080; text-decoration-color: #000080\">'identifier': 'text-embedding-ada-002-listener'}, {'type_id': 'model', 'identifier': </span>\n",
       "<span style=\"color: #008000; text-decoration-color: #008000\">    ┃   </span><span style=\"color: #000080; text-decoration-color: #000080\">'text-embedding-ada-002'}]</span>\n",
       "<span style=\"color: #008000; text-decoration-color: #008000\">    ┣━━ </span><span style=\"color: #800080; text-decoration-color: #800080\">type_id</span><span style=\"color: #000080; text-decoration-color: #000080\">: application</span>\n",
       "<span style=\"color: #008000; text-decoration-color: #008000\">    ┣━━ </span><span style=\"color: #800080; text-decoration-color: #800080\">version</span><span style=\"color: #000080; text-decoration-color: #000080\">: 0</span>\n",
       "<span style=\"color: #008000; text-decoration-color: #008000\">    ┣━━ </span><span style=\"color: #800080; text-decoration-color: #800080\">_literals</span><span style=\"color: #000080; text-decoration-color: #000080\">: ['template']</span>\n",
       "<span style=\"color: #008000; text-decoration-color: #008000\">    ┗━━ </span><span style=\"color: #800080; text-decoration-color: #800080\">hidden</span><span style=\"color: #000080; text-decoration-color: #000080\">: False</span>\n",
       "</pre>\n"
      ],
      "text/plain": [
       "\u001b[1;32mComponent Map: text-vector-search\u001b[0m\n",
       "\u001b[32m┣━━ \u001b[0m\u001b[33mstr: superduper.components.schema.FieldType(2de7977645d2435aacc4d8e6c1e1d573)\u001b[0m\n",
       "\u001b[32m┃   \u001b[0m\u001b[32m┣━━ \u001b[0m\u001b[35m_path\u001b[0m\u001b[34m: superduper.components.schema.FieldType\u001b[0m\n",
       "\u001b[32m┃   \u001b[0m\u001b[32m┗━━ \u001b[0m\u001b[35muuid\u001b[0m\u001b[34m: 2de7977645d2435aacc4d8e6c1e1d573\u001b[0m\n",
       "\u001b[32m┣━━ \u001b[0m\u001b[33mschema: superduper.components.schema.Schema(ea43dd0a76f749afb3b416925715c3c1)\u001b[0m\n",
       "\u001b[32m┃   \u001b[0m\u001b[32m┣━━ \u001b[0m\u001b[35m_path\u001b[0m\u001b[34m: superduper.components.schema.Schema\u001b[0m\n",
       "\u001b[32m┃   \u001b[0m\u001b[32m┣━━ \u001b[0m\u001b[35muuid\u001b[0m\u001b[34m: ea43dd0a76f749afb3b416925715c3c1\u001b[0m\n",
       "\u001b[32m┃   \u001b[0m\u001b[32m┣━━ \u001b[0m\u001b[35mupstream\u001b[0m\u001b[34m: None\u001b[0m\n",
       "\u001b[32m┃   \u001b[0m\u001b[32m┣━━ \u001b[0m\u001b[35mplugins\u001b[0m\u001b[34m: None\u001b[0m\n",
       "\u001b[32m┃   \u001b[0m\u001b[32m┣━━ \u001b[0m\u001b[35mcache\u001b[0m\u001b[34m: False\u001b[0m\n",
       "\u001b[32m┃   \u001b[0m\u001b[32m┣━━ \u001b[0m\u001b[35mfields\u001b[0m\u001b[34m: {'x': '?str', '_fold': '?str'}\u001b[0m\n",
       "\u001b[32m┃   \u001b[0m\u001b[32m┣━━ \u001b[0m\u001b[35mtype_id\u001b[0m\u001b[34m: schema\u001b[0m\n",
       "\u001b[32m┃   \u001b[0m\u001b[32m┣━━ \u001b[0m\u001b[35mversion\u001b[0m\u001b[34m: 0\u001b[0m\n",
       "\u001b[32m┃   \u001b[0m\u001b[32m┗━━ \u001b[0m\u001b[35mhidden\u001b[0m\u001b[34m: False\u001b[0m\n",
       "\u001b[32m┣━━ \u001b[0m\u001b[33mdocuments: superduper.components.table.Table(d05bd908810a43988dbe41c2167644f0)\u001b[0m\n",
       "\u001b[32m┃   \u001b[0m\u001b[32m┣━━ \u001b[0m\u001b[35m_path\u001b[0m\u001b[34m: superduper.components.table.Table\u001b[0m\n",
       "\u001b[32m┃   \u001b[0m\u001b[32m┣━━ \u001b[0m\u001b[35muuid\u001b[0m\u001b[34m: d05bd908810a43988dbe41c2167644f0\u001b[0m\n",
       "\u001b[32m┃   \u001b[0m\u001b[32m┣━━ \u001b[0m\u001b[35mupstream\u001b[0m\u001b[34m: None\u001b[0m\n",
       "\u001b[32m┃   \u001b[0m\u001b[32m┣━━ \u001b[0m\u001b[35mplugins\u001b[0m\u001b[34m: None\u001b[0m\n",
       "\u001b[32m┃   \u001b[0m\u001b[32m┣━━ \u001b[0m\u001b[35mcache\u001b[0m\u001b[34m: False\u001b[0m\n",
       "\u001b[32m┃   \u001b[0m\u001b[32m┣━━ \u001b[0m\u001b[35mschema\u001b[0m\u001b[34m: ?schema\u001b[0m\n",
       "\u001b[32m┃   \u001b[0m\u001b[32m┣━━ \u001b[0m\u001b[35mprimary_id\u001b[0m\u001b[34m: id\u001b[0m\n",
       "\u001b[32m┃   \u001b[0m\u001b[32m┣━━ \u001b[0m\u001b[35mtype_id\u001b[0m\u001b[34m: table\u001b[0m\n",
       "\u001b[32m┃   \u001b[0m\u001b[32m┣━━ \u001b[0m\u001b[35mversion\u001b[0m\u001b[34m: 0\u001b[0m\n",
       "\u001b[32m┃   \u001b[0m\u001b[32m┗━━ \u001b[0m\u001b[35mhidden\u001b[0m\u001b[34m: False\u001b[0m\n",
       "\u001b[32m┣━━ \u001b[0m\u001b[33mdill_lazy: superduper.components.datatype.get_serializer(0541e537287843c387e54b9f2ed666c5)\u001b[0m\n",
       "\u001b[32m┃   \u001b[0m\u001b[32m┣━━ \u001b[0m\u001b[35m_path\u001b[0m\u001b[34m: superduper.components.datatype.get_serializer\u001b[0m\n",
       "\u001b[32m┃   \u001b[0m\u001b[32m┣━━ \u001b[0m\u001b[35mmethod\u001b[0m\u001b[34m: dill\u001b[0m\n",
       "\u001b[32m┃   \u001b[0m\u001b[32m┣━━ \u001b[0m\u001b[35mencodable\u001b[0m\u001b[34m: lazy_artifact\u001b[0m\n",
       "\u001b[32m┃   \u001b[0m\u001b[32m┣━━ \u001b[0m\u001b[35mtype_id\u001b[0m\u001b[34m: datatype\u001b[0m\n",
       "\u001b[32m┃   \u001b[0m\u001b[32m┣━━ \u001b[0m\u001b[35mversion\u001b[0m\u001b[34m: None\u001b[0m\n",
       "\u001b[32m┃   \u001b[0m\u001b[32m┗━━ \u001b[0m\u001b[35muuid\u001b[0m\u001b[34m: 0541e537287843c387e54b9f2ed666c5\u001b[0m\n",
       "\u001b[32m┣━━ \u001b[0m\u001b[33m03c2d3eed85dc1daff9b9ef78206e90a0f3e8f41: \u001b[0m\n",
       "\u001b[32m┃   \u001b[0m\u001b[33msuperduper.components.datatype.LazyArtifact(07b8aead20534d35a2d1ae74bc02c97f)\u001b[0m\n",
       "\u001b[32m┃   \u001b[0m\u001b[32m┣━━ \u001b[0m\u001b[35m_path\u001b[0m\u001b[34m: superduper.components.datatype.LazyArtifact\u001b[0m\n",
       "\u001b[32m┃   \u001b[0m\u001b[32m┣━━ \u001b[0m\u001b[35muuid\u001b[0m\u001b[34m: 07b8aead20534d35a2d1ae74bc02c97f\u001b[0m\n",
       "\u001b[32m┃   \u001b[0m\u001b[32m┣━━ \u001b[0m\u001b[35mdatatype\u001b[0m\u001b[34m: ?dill_lazy\u001b[0m\n",
       "\u001b[32m┃   \u001b[0m\u001b[32m┣━━ \u001b[0m\u001b[35muri\u001b[0m\u001b[34m: None\u001b[0m\n",
       "\u001b[32m┃   \u001b[0m\u001b[32m┗━━ \u001b[0m\u001b[35mblob\u001b[0m\u001b[34m: &:blob:03c2d3eed85dc1daff9b9ef78206e90a0f3e8f41\u001b[0m\n",
       "\u001b[32m┣━━ \u001b[0m\u001b[33mchunker: superduper.components.listener.Listener(chunk)\u001b[0m\n",
       "\u001b[32m┃   \u001b[0m\u001b[32m┣━━ \u001b[0m\u001b[35m_path\u001b[0m\u001b[34m: superduper.components.listener.Listener\u001b[0m\n",
       "\u001b[32m┃   \u001b[0m\u001b[32m┣━━ \u001b[0m\u001b[35muuid\u001b[0m\u001b[34m: chunk\u001b[0m\n",
       "\u001b[32m┃   \u001b[0m\u001b[32m┣━━ \u001b[0m\u001b[35mupstream\u001b[0m\u001b[34m: None\u001b[0m\n",
       "\u001b[32m┃   \u001b[0m\u001b[32m┣━━ \u001b[0m\u001b[35mplugins\u001b[0m\u001b[34m: None\u001b[0m\n",
       "\u001b[32m┃   \u001b[0m\u001b[32m┣━━ \u001b[0m\u001b[35mcache\u001b[0m\u001b[34m: False\u001b[0m\n",
       "\u001b[32m┃   \u001b[0m\u001b[32m┣━━ \u001b[0m\u001b[35mkey\u001b[0m\u001b[34m: x\u001b[0m\n",
       "\u001b[32m┃   \u001b[0m\u001b[32m┣━━ \u001b[0m\u001b[35mmodel\u001b[0m\u001b[34m: ?chunker\u001b[0m\n",
       "\u001b[32m┃   \u001b[0m\u001b[32m┣━━ \u001b[0m\u001b[35mselect\u001b[0m\u001b[34m: ?documents-select\u001b[0m\n",
       "\u001b[32m┃   \u001b[0m\u001b[32m┣━━ \u001b[0m\u001b[35mpredict_kwargs\u001b[0m\u001b[34m: {}\u001b[0m\n",
       "\u001b[32m┃   \u001b[0m\u001b[32m┣━━ \u001b[0m\u001b[35mpredict_id\u001b[0m\u001b[34m: chunker\u001b[0m\n",
       "\u001b[32m┃   \u001b[0m\u001b[32m┣━━ \u001b[0m\u001b[35mtype_id\u001b[0m\u001b[34m: listener\u001b[0m\n",
       "\u001b[32m┃   \u001b[0m\u001b[32m┣━━ \u001b[0m\u001b[35mversion\u001b[0m\u001b[34m: 0\u001b[0m\n",
       "\u001b[32m┃   \u001b[0m\u001b[32m┗━━ \u001b[0m\u001b[35mhidden\u001b[0m\u001b[34m: False\u001b[0m\n",
       "\u001b[32m┣━━ \u001b[0m\u001b[33mdocuments-select: superduper_mongodb.query.parse_query(None)\u001b[0m\n",
       "\u001b[32m┃   \u001b[0m\u001b[32m┣━━ \u001b[0m\u001b[35m_path\u001b[0m\u001b[34m: superduper_mongodb.query.parse_query\u001b[0m\n",
       "\u001b[32m┃   \u001b[0m\u001b[32m┣━━ \u001b[0m\u001b[35mdocuments\u001b[0m\u001b[34m: []\u001b[0m\n",
       "\u001b[32m┃   \u001b[0m\u001b[32m┗━━ \u001b[0m\u001b[35mquery\u001b[0m\u001b[34m: documents.select()\u001b[0m\n",
       "\u001b[32m┣━━ \u001b[0m\u001b[33mvector[1536]: superduper.components.vector_index.vector(8189760e319d49caa494229916610895)\u001b[0m\n",
       "\u001b[32m┃   \u001b[0m\u001b[32m┣━━ \u001b[0m\u001b[35m_path\u001b[0m\u001b[34m: superduper.components.vector_index.vector\u001b[0m\n",
       "\u001b[32m┃   \u001b[0m\u001b[32m┣━━ \u001b[0m\u001b[35mshape\u001b[0m\u001b[34m: (1536,)\u001b[0m\n",
       "\u001b[32m┃   \u001b[0m\u001b[32m┣━━ \u001b[0m\u001b[35mtype_id\u001b[0m\u001b[34m: datatype\u001b[0m\n",
       "\u001b[32m┃   \u001b[0m\u001b[32m┣━━ \u001b[0m\u001b[35mversion\u001b[0m\u001b[34m: None\u001b[0m\n",
       "\u001b[32m┃   \u001b[0m\u001b[32m┗━━ \u001b[0m\u001b[35muuid\u001b[0m\u001b[34m: 8189760e319d49caa494229916610895\u001b[0m\n",
       "\u001b[32m┣━━ \u001b[0m\u001b[33mtext-embedding-ada-002: superduper_openai.model.OpenAIEmbedding(31aa9703bbd740898bf6cd7112f41c69)\u001b[0m\n",
       "\u001b[32m┃   \u001b[0m\u001b[32m┣━━ \u001b[0m\u001b[35m_path\u001b[0m\u001b[34m: superduper_openai.model.OpenAIEmbedding\u001b[0m\n",
       "\u001b[32m┃   \u001b[0m\u001b[32m┣━━ \u001b[0m\u001b[35muuid\u001b[0m\u001b[34m: 31aa9703bbd740898bf6cd7112f41c69\u001b[0m\n",
       "\u001b[32m┃   \u001b[0m\u001b[32m┣━━ \u001b[0m\u001b[35mupstream\u001b[0m\u001b[34m: None\u001b[0m\n",
       "\u001b[32m┃   \u001b[0m\u001b[32m┣━━ \u001b[0m\u001b[35mplugins\u001b[0m\u001b[34m: None\u001b[0m\n",
       "\u001b[32m┃   \u001b[0m\u001b[32m┣━━ \u001b[0m\u001b[35mcache\u001b[0m\u001b[34m: False\u001b[0m\n",
       "\u001b[32m┃   \u001b[0m\u001b[32m┣━━ \u001b[0m\u001b[35msignature\u001b[0m\u001b[34m: singleton\u001b[0m\n",
       "\u001b[32m┃   \u001b[0m\u001b[32m┣━━ \u001b[0m\u001b[35mdatatype\u001b[0m\u001b[34m: ?vector[1536]\u001b[0m\n",
       "\u001b[32m┃   \u001b[0m\u001b[32m┣━━ \u001b[0m\u001b[35moutput_schema\u001b[0m\u001b[34m: None\u001b[0m\n",
       "\u001b[32m┃   \u001b[0m\u001b[32m┣━━ \u001b[0m\u001b[35mflatten\u001b[0m\u001b[34m: False\u001b[0m\n",
       "\u001b[32m┃   \u001b[0m\u001b[32m┣━━ \u001b[0m\u001b[35mmodel_update_kwargs\u001b[0m\u001b[34m: {}\u001b[0m\n",
       "\u001b[32m┃   \u001b[0m\u001b[32m┣━━ \u001b[0m\u001b[35mpredict_kwargs\u001b[0m\u001b[34m: {}\u001b[0m\n",
       "\u001b[32m┃   \u001b[0m\u001b[32m┣━━ \u001b[0m\u001b[35mcompute_kwargs\u001b[0m\u001b[34m: {}\u001b[0m\n",
       "\u001b[32m┃   \u001b[0m\u001b[32m┣━━ \u001b[0m\u001b[35mvalidation\u001b[0m\u001b[34m: None\u001b[0m\n",
       "\u001b[32m┃   \u001b[0m\u001b[32m┣━━ \u001b[0m\u001b[35mmetric_values\u001b[0m\u001b[34m: {}\u001b[0m\n",
       "\u001b[32m┃   \u001b[0m\u001b[32m┣━━ \u001b[0m\u001b[35mnum_workers\u001b[0m\u001b[34m: 0\u001b[0m\n",
       "\u001b[32m┃   \u001b[0m\u001b[32m┣━━ \u001b[0m\u001b[35mmodel\u001b[0m\u001b[34m: text-embedding-ada-002\u001b[0m\n",
       "\u001b[32m┃   \u001b[0m\u001b[32m┣━━ \u001b[0m\u001b[35mmax_batch_size\u001b[0m\u001b[34m: 8\u001b[0m\n",
       "\u001b[32m┃   \u001b[0m\u001b[32m┣━━ \u001b[0m\u001b[35mopenai_api_key\u001b[0m\u001b[34m: None\u001b[0m\n",
       "\u001b[32m┃   \u001b[0m\u001b[32m┣━━ \u001b[0m\u001b[35mopenai_api_base\u001b[0m\u001b[34m: None\u001b[0m\n",
       "\u001b[32m┃   \u001b[0m\u001b[32m┣━━ \u001b[0m\u001b[35mclient_kwargs\u001b[0m\u001b[34m: {}\u001b[0m\n",
       "\u001b[32m┃   \u001b[0m\u001b[32m┣━━ \u001b[0m\u001b[35mshape\u001b[0m\u001b[34m: (1536,)\u001b[0m\n",
       "\u001b[32m┃   \u001b[0m\u001b[32m┣━━ \u001b[0m\u001b[35mbatch_size\u001b[0m\u001b[34m: 100\u001b[0m\n",
       "\u001b[32m┃   \u001b[0m\u001b[32m┣━━ \u001b[0m\u001b[35mtype_id\u001b[0m\u001b[34m: model\u001b[0m\n",
       "\u001b[32m┃   \u001b[0m\u001b[32m┣━━ \u001b[0m\u001b[35mversion\u001b[0m\u001b[34m: 0\u001b[0m\n",
       "\u001b[32m┃   \u001b[0m\u001b[32m┗━━ \u001b[0m\u001b[35mhidden\u001b[0m\u001b[34m: False\u001b[0m\n",
       "\u001b[32m┣━━ \u001b[0m\u001b[33m-outputs-chunker-select: superduper_mongodb.query.parse_query(None)\u001b[0m\n",
       "\u001b[32m┃   \u001b[0m\u001b[32m┣━━ \u001b[0m\u001b[35m_path\u001b[0m\u001b[34m: superduper_mongodb.query.parse_query\u001b[0m\n",
       "\u001b[32m┃   \u001b[0m\u001b[32m┣━━ \u001b[0m\u001b[35mdocuments\u001b[0m\u001b[34m: []\u001b[0m\n",
       "\u001b[32m┃   \u001b[0m\u001b[32m┗━━ \u001b[0m\u001b[35mquery\u001b[0m\u001b[34m: _outputs__chunker.select()\u001b[0m\n",
       "\u001b[32m┣━━ \u001b[0m\u001b[33mtext-embedding-ada-002-listener: superduper.components.listener.Listener(ae8e2071d35342e585c5ca1f64067583)\u001b[0m\n",
       "\u001b[32m┃   \u001b[0m\u001b[32m┣━━ \u001b[0m\u001b[35m_path\u001b[0m\u001b[34m: superduper.components.listener.Listener\u001b[0m\n",
       "\u001b[32m┃   \u001b[0m\u001b[32m┣━━ \u001b[0m\u001b[35muuid\u001b[0m\u001b[34m: ae8e2071d35342e585c5ca1f64067583\u001b[0m\n",
       "\u001b[32m┃   \u001b[0m\u001b[32m┣━━ \u001b[0m\u001b[35mupstream\u001b[0m\u001b[34m: ['?documents', '?chunker']\u001b[0m\n",
       "\u001b[32m┃   \u001b[0m\u001b[32m┣━━ \u001b[0m\u001b[35mplugins\u001b[0m\u001b[34m: None\u001b[0m\n",
       "\u001b[32m┃   \u001b[0m\u001b[32m┣━━ \u001b[0m\u001b[35mcache\u001b[0m\u001b[34m: False\u001b[0m\n",
       "\u001b[32m┃   \u001b[0m\u001b[32m┣━━ \u001b[0m\u001b[35mkey\u001b[0m\u001b[34m: _outputs__chunker\u001b[0m\n",
       "\u001b[32m┃   \u001b[0m\u001b[32m┣━━ \u001b[0m\u001b[35mmodel\u001b[0m\u001b[34m: ?text-embedding-ada-002\u001b[0m\n",
       "\u001b[32m┃   \u001b[0m\u001b[32m┣━━ \u001b[0m\u001b[35mselect\u001b[0m\u001b[34m: ?-outputs-chunker-select\u001b[0m\n",
       "\u001b[32m┃   \u001b[0m\u001b[32m┣━━ \u001b[0m\u001b[35mpredict_kwargs\u001b[0m\u001b[34m: {}\u001b[0m\n",
       "\u001b[32m┃   \u001b[0m\u001b[32m┣━━ \u001b[0m\u001b[35mpredict_id\u001b[0m\u001b[34m: text-embedding-ada-002-listener\u001b[0m\n",
       "\u001b[32m┃   \u001b[0m\u001b[32m┣━━ \u001b[0m\u001b[35mtype_id\u001b[0m\u001b[34m: listener\u001b[0m\n",
       "\u001b[32m┃   \u001b[0m\u001b[32m┣━━ \u001b[0m\u001b[35mversion\u001b[0m\u001b[34m: 0\u001b[0m\n",
       "\u001b[32m┃   \u001b[0m\u001b[32m┗━━ \u001b[0m\u001b[35mhidden\u001b[0m\u001b[34m: False\u001b[0m\n",
       "\u001b[32m┣━━ \u001b[0m\u001b[33mmy-vector-index: superduper.components.vector_index.VectorIndex(7c319ebb1d794e3a9d37990a71fd3a9f)\u001b[0m\n",
       "\u001b[32m┃   \u001b[0m\u001b[32m┣━━ \u001b[0m\u001b[35m_path\u001b[0m\u001b[34m: superduper.components.vector_index.VectorIndex\u001b[0m\n",
       "\u001b[32m┃   \u001b[0m\u001b[32m┣━━ \u001b[0m\u001b[35muuid\u001b[0m\u001b[34m: 7c319ebb1d794e3a9d37990a71fd3a9f\u001b[0m\n",
       "\u001b[32m┃   \u001b[0m\u001b[32m┣━━ \u001b[0m\u001b[35mupstream\u001b[0m\u001b[34m: None\u001b[0m\n",
       "\u001b[32m┃   \u001b[0m\u001b[32m┣━━ \u001b[0m\u001b[35mplugins\u001b[0m\u001b[34m: None\u001b[0m\n",
       "\u001b[32m┃   \u001b[0m\u001b[32m┣━━ \u001b[0m\u001b[35mcache\u001b[0m\u001b[34m: False\u001b[0m\n",
       "\u001b[32m┃   \u001b[0m\u001b[32m┣━━ \u001b[0m\u001b[35mindexing_listener\u001b[0m\u001b[34m: ?text-embedding-ada-002-listener\u001b[0m\n",
       "\u001b[32m┃   \u001b[0m\u001b[32m┣━━ \u001b[0m\u001b[35mcompatible_listener\u001b[0m\u001b[34m: None\u001b[0m\n",
       "\u001b[32m┃   \u001b[0m\u001b[32m┣━━ \u001b[0m\u001b[35mmeasure\u001b[0m\u001b[34m: VectorIndexMeasureType.cosine\u001b[0m\n",
       "\u001b[32m┃   \u001b[0m\u001b[32m┣━━ \u001b[0m\u001b[35mmetric_values\u001b[0m\u001b[34m: {}\u001b[0m\n",
       "\u001b[32m┃   \u001b[0m\u001b[32m┣━━ \u001b[0m\u001b[35mtype_id\u001b[0m\u001b[34m: vector_index\u001b[0m\n",
       "\u001b[32m┃   \u001b[0m\u001b[32m┣━━ \u001b[0m\u001b[35mversion\u001b[0m\u001b[34m: 0\u001b[0m\n",
       "\u001b[32m┃   \u001b[0m\u001b[32m┗━━ \u001b[0m\u001b[35mhidden\u001b[0m\u001b[34m: False\u001b[0m\n",
       "\u001b[32m┗━━ \u001b[0m\u001b[33mtext-vector-search: superduper.components.application.Application(ba67055ba77d40ffa73d5cd3a17118aa)\u001b[0m\n",
       "\u001b[32m    \u001b[0m\u001b[32m┣━━ \u001b[0m\u001b[35m_path\u001b[0m\u001b[34m: superduper.components.application.Application\u001b[0m\n",
       "\u001b[32m    \u001b[0m\u001b[32m┣━━ \u001b[0m\u001b[35muuid\u001b[0m\u001b[34m: ba67055ba77d40ffa73d5cd3a17118aa\u001b[0m\n",
       "\u001b[32m    \u001b[0m\u001b[32m┣━━ \u001b[0m\u001b[35mupstream\u001b[0m\u001b[34m: None\u001b[0m\n",
       "\u001b[32m    \u001b[0m\u001b[32m┣━━ \u001b[0m\u001b[35mplugins\u001b[0m\u001b[34m: None\u001b[0m\n",
       "\u001b[32m    \u001b[0m\u001b[32m┣━━ \u001b[0m\u001b[35mcache\u001b[0m\u001b[34m: False\u001b[0m\n",
       "\u001b[32m    \u001b[0m\u001b[32m┣━━ \u001b[0m\u001b[35mcomponents\u001b[0m\u001b[34m: ['?documents', '?chunker', '?my-vector-index']\u001b[0m\n",
       "\u001b[32m    \u001b[0m\u001b[32m┣━━ \u001b[0m\u001b[35mnamespace\u001b[0m\u001b[34m: [{'type_id': 'table', 'identifier': 'documents'}, {'type_id': 'listener', 'identifier': \u001b[0m\n",
       "\u001b[32m    \u001b[0m\u001b[32m┃   \u001b[0m\u001b[34m'chunker'}, {'type_id': 'vector_index', 'identifier': 'my-vector-index'}, {'type_id': 'schema', \u001b[0m\n",
       "\u001b[32m    \u001b[0m\u001b[32m┃   \u001b[0m\u001b[34m'identifier': 'schema'}, {'type_id': 'model', 'identifier': 'chunker'}, {'type_id': 'listener', \u001b[0m\n",
       "\u001b[32m    \u001b[0m\u001b[32m┃   \u001b[0m\u001b[34m'identifier': 'text-embedding-ada-002-listener'}, {'type_id': 'model', 'identifier': \u001b[0m\n",
       "\u001b[32m    \u001b[0m\u001b[32m┃   \u001b[0m\u001b[34m'text-embedding-ada-002'}]\u001b[0m\n",
       "\u001b[32m    \u001b[0m\u001b[32m┣━━ \u001b[0m\u001b[35mtype_id\u001b[0m\u001b[34m: application\u001b[0m\n",
       "\u001b[32m    \u001b[0m\u001b[32m┣━━ \u001b[0m\u001b[35mversion\u001b[0m\u001b[34m: 0\u001b[0m\n",
       "\u001b[32m    \u001b[0m\u001b[32m┣━━ \u001b[0m\u001b[35m_literals\u001b[0m\u001b[34m: ['template']\u001b[0m\n",
       "\u001b[32m    \u001b[0m\u001b[32m┗━━ \u001b[0m\u001b[35mhidden\u001b[0m\u001b[34m: False\u001b[0m\n"
      ]
     },
     "metadata": {},
     "output_type": "display_data"
    }
   ],
   "source": [
    "application.info(verbosity=2)"
   ]
  },
  {
   "cell_type": "code",
   "execution_count": 17,
   "id": "5090d98e-3e40-4830-8275-860c14a5cf01",
   "metadata": {},
   "outputs": [
    {
     "name": "stdout",
     "output_type": "stream",
     "text": [
      "\u001b[32m2024-Aug-23 14:41:35.51\u001b[0m| \u001b[1mINFO    \u001b[0m | \u001b[36mDuncans-MacBook-Pro.local\u001b[0m| \u001b[36msuperduper.base.datalayer\u001b[0m:\u001b[36m344 \u001b[0m | \u001b[1mInserted 210 documents into documents\u001b[0m\n",
      "\u001b[32m2024-Aug-23 14:41:35.52\u001b[0m| \u001b[1mINFO    \u001b[0m | \u001b[36mDuncans-MacBook-Pro.local\u001b[0m| \u001b[36msuperduper.base.datalayer\u001b[0m:\u001b[36m404 \u001b[0m | \u001b[1mCreated 210 events for insert on [documents]\u001b[0m\n",
      "\u001b[32m2024-Aug-23 14:41:35.52\u001b[0m| \u001b[1mINFO    \u001b[0m | \u001b[36mDuncans-MacBook-Pro.local\u001b[0m| \u001b[36msuperduper.base.datalayer\u001b[0m:\u001b[36m407 \u001b[0m | \u001b[1mBroadcasting 210 events\u001b[0m\n",
      "\u001b[32m2024-Aug-23 14:41:35.52\u001b[0m| \u001b[1mINFO    \u001b[0m | \u001b[36mDuncans-MacBook-Pro.local\u001b[0m| \u001b[36msuperduper.jobs.queue\u001b[0m:\u001b[36m210 \u001b[0m | \u001b[1mRunning jobs for listener::chunker\u001b[0m\n",
      "\u001b[32m2024-Aug-23 14:41:35.52\u001b[0m| \u001b[1mINFO    \u001b[0m | \u001b[36mDuncans-MacBook-Pro.local\u001b[0m| \u001b[36msuperduper.backends.local.compute\u001b[0m:\u001b[36m67  \u001b[0m | \u001b[1mSubmitting job. function:<function method_job at 0x112075300>\u001b[0m\n",
      "\u001b[32m2024-Aug-23 14:41:35.52\u001b[0m| \u001b[1mINFO    \u001b[0m | \u001b[36mDuncans-MacBook-Pro.local\u001b[0m| \u001b[36msuperduper.components.model\u001b[0m:\u001b[36m720 \u001b[0m | \u001b[1mRequesting prediction in db - [chunker] with predict_id chunker\n",
      "\u001b[0m\n",
      "\u001b[32m2024-Aug-23 14:41:35.53\u001b[0m| \u001b[1mINFO    \u001b[0m | \u001b[36mDuncans-MacBook-Pro.local\u001b[0m| \u001b[36msuperduper.components.model\u001b[0m:\u001b[36m853 \u001b[0m | \u001b[1mAdding 210 model outputs to `db`\u001b[0m\n",
      "\u001b[32m2024-Aug-23 14:41:35.62\u001b[0m| \u001b[1mINFO    \u001b[0m | \u001b[36mDuncans-MacBook-Pro.local\u001b[0m| \u001b[36msuperduper.base.datalayer\u001b[0m:\u001b[36m344 \u001b[0m | \u001b[1mInserted 431 documents into _outputs__chunker\u001b[0m\n",
      "\u001b[32m2024-Aug-23 14:41:35.64\u001b[0m| \u001b[1mINFO    \u001b[0m | \u001b[36mDuncans-MacBook-Pro.local\u001b[0m| \u001b[36msuperduper.base.datalayer\u001b[0m:\u001b[36m404 \u001b[0m | \u001b[1mCreated 431 events for insert on [_outputs__chunker]\u001b[0m\n",
      "\u001b[32m2024-Aug-23 14:41:35.64\u001b[0m| \u001b[1mINFO    \u001b[0m | \u001b[36mDuncans-MacBook-Pro.local\u001b[0m| \u001b[36msuperduper.base.datalayer\u001b[0m:\u001b[36m407 \u001b[0m | \u001b[1mBroadcasting 431 events\u001b[0m\n",
      "\u001b[32m2024-Aug-23 14:41:35.64\u001b[0m| \u001b[1mINFO    \u001b[0m | \u001b[36mDuncans-MacBook-Pro.local\u001b[0m| \u001b[36msuperduper.jobs.queue\u001b[0m:\u001b[36m210 \u001b[0m | \u001b[1mRunning jobs for listener::text-embedding-ada-002-listener\u001b[0m\n",
      "\u001b[32m2024-Aug-23 14:41:35.64\u001b[0m| \u001b[1mINFO    \u001b[0m | \u001b[36mDuncans-MacBook-Pro.local\u001b[0m| \u001b[36msuperduper.backends.local.compute\u001b[0m:\u001b[36m67  \u001b[0m | \u001b[1mSubmitting job. function:<function method_job at 0x112075300>\u001b[0m\n",
      "\u001b[32m2024-Aug-23 14:41:35.64\u001b[0m| \u001b[1mINFO    \u001b[0m | \u001b[36mDuncans-MacBook-Pro.local\u001b[0m| \u001b[36msuperduper.components.model\u001b[0m:\u001b[36m720 \u001b[0m | \u001b[1mRequesting prediction in db - [text-embedding-ada-002] with predict_id text-embedding-ada-002-listener\n",
      "\u001b[0m\n"
     ]
    },
    {
     "name": "stderr",
     "output_type": "stream",
     "text": [
      "100%|█████████████████████████████████████████████████████████████████████████████████████████████████████████████████████████████████████████████████████████████████████████████████████████████████████████████████| 5/5 [00:08<00:00,  1.67s/it]\n"
     ]
    },
    {
     "name": "stdout",
     "output_type": "stream",
     "text": [
      "\u001b[32m2024-Aug-23 14:41:44.02\u001b[0m| \u001b[1mINFO    \u001b[0m | \u001b[36mDuncans-MacBook-Pro.local\u001b[0m| \u001b[36msuperduper.components.model\u001b[0m:\u001b[36m853 \u001b[0m | \u001b[1mAdding 431 model outputs to `db`\u001b[0m\n",
      "\u001b[32m2024-Aug-23 14:41:46.12\u001b[0m| \u001b[1mINFO    \u001b[0m | \u001b[36mDuncans-MacBook-Pro.local\u001b[0m| \u001b[36msuperduper.base.datalayer\u001b[0m:\u001b[36m344 \u001b[0m | \u001b[1mInserted 431 documents into _outputs__text-embedding-ada-002-listener\u001b[0m\n",
      "\u001b[32m2024-Aug-23 14:41:46.15\u001b[0m| \u001b[1mINFO    \u001b[0m | \u001b[36mDuncans-MacBook-Pro.local\u001b[0m| \u001b[36msuperduper.base.datalayer\u001b[0m:\u001b[36m404 \u001b[0m | \u001b[1mCreated 431 events for insert on [_outputs__text-embedding-ada-002-listener]\u001b[0m\n",
      "\u001b[32m2024-Aug-23 14:41:46.15\u001b[0m| \u001b[1mINFO    \u001b[0m | \u001b[36mDuncans-MacBook-Pro.local\u001b[0m| \u001b[36msuperduper.base.datalayer\u001b[0m:\u001b[36m407 \u001b[0m | \u001b[1mBroadcasting 431 events\u001b[0m\n",
      "\u001b[32m2024-Aug-23 14:41:46.15\u001b[0m| \u001b[1mINFO    \u001b[0m | \u001b[36mDuncans-MacBook-Pro.local\u001b[0m| \u001b[36msuperduper.jobs.queue\u001b[0m:\u001b[36m210 \u001b[0m | \u001b[1mRunning jobs for vector_index::my-vector-index\u001b[0m\n",
      "\u001b[32m2024-Aug-23 14:41:46.15\u001b[0m| \u001b[1mINFO    \u001b[0m | \u001b[36mDuncans-MacBook-Pro.local\u001b[0m| \u001b[36msuperduper.backends.local.compute\u001b[0m:\u001b[36m67  \u001b[0m | \u001b[1mSubmitting job. function:<function callable_job at 0x1120753a0>\u001b[0m\n",
      "\u001b[32m2024-Aug-23 14:41:46.54\u001b[0m| \u001b[32m\u001b[1mSUCCESS \u001b[0m | \u001b[36mDuncans-MacBook-Pro.local\u001b[0m| \u001b[36msuperduper.backends.local.compute\u001b[0m:\u001b[36m73  \u001b[0m | \u001b[32m\u001b[1mJob submitted on <superduper.backends.local.compute.LocalComputeBackend object at 0x12137c450>.  function:<function callable_job at 0x1120753a0> future:dc054e4a-f183-4b9e-90bb-269884846d11\u001b[0m\n",
      "\u001b[32m2024-Aug-23 14:41:46.54\u001b[0m| \u001b[32m\u001b[1mSUCCESS \u001b[0m | \u001b[36mDuncans-MacBook-Pro.local\u001b[0m| \u001b[36msuperduper.backends.local.compute\u001b[0m:\u001b[36m73  \u001b[0m | \u001b[32m\u001b[1mJob submitted on <superduper.backends.local.compute.LocalComputeBackend object at 0x12137c450>.  function:<function method_job at 0x112075300> future:e17e5818-1467-4e57-82b3-6c3ded01c4d3\u001b[0m\n",
      "\u001b[32m2024-Aug-23 14:41:46.54\u001b[0m| \u001b[32m\u001b[1mSUCCESS \u001b[0m | \u001b[36mDuncans-MacBook-Pro.local\u001b[0m| \u001b[36msuperduper.backends.local.compute\u001b[0m:\u001b[36m73  \u001b[0m | \u001b[32m\u001b[1mJob submitted on <superduper.backends.local.compute.LocalComputeBackend object at 0x12137c450>.  function:<function method_job at 0x112075300> future:5a68e02f-4e35-4ced-9de4-aa2803dbc415\u001b[0m\n"
     ]
    }
   ],
   "source": [
    "db['docs'].insert(datas).execute()\n",
    "select = db['docs'].select()"
   ]
  },
  {
   "cell_type": "code",
   "execution_count": 19,
   "id": "d70e8fd6-ce14-4386-9ea3-4046d2aedf68",
   "metadata": {},
   "outputs": [
    {
     "data": {
      "text/plain": [
       "['documents', '_outputs__chunker', '_outputs__text-embedding-ada-002-listener']"
      ]
     },
     "execution_count": 19,
     "metadata": {},
     "output_type": "execute_result"
    }
   ],
   "source": [
    "db.databackend.db.list_collection_names()"
   ]
  },
  {
   "cell_type": "markdown",
   "id": "4d268eea-2d37-4231-8266-808671533012",
   "metadata": {},
   "source": [
    "## Perform a vector search"
   ]
  },
  {
   "cell_type": "code",
   "execution_count": 21,
   "id": "88809e48-1973-488b-80fd-6d8875e8e516",
   "metadata": {},
   "outputs": [],
   "source": [
    "from superduper import Document\n",
    "# Perform the vector search based on the query\n",
    "item = Document({indexing_key: \"Tell me about vector-search\"})"
   ]
  },
  {
   "cell_type": "code",
   "execution_count": 27,
   "id": "0936d1a1-3688-4f4b-8bdc-2a31e2da09aa",
   "metadata": {},
   "outputs": [
    {
     "name": "stdout",
     "output_type": "stream",
     "text": [
      "\u001b[32m2024-Aug-23 14:43:39.94\u001b[0m| \u001b[1mINFO    \u001b[0m | \u001b[36mDuncans-MacBook-Pro.local\u001b[0m| \u001b[36msuperduper.base.datalayer\u001b[0m:\u001b[36m889 \u001b[0m | \u001b[1m{}\u001b[0m\n"
     ]
    }
   ],
   "source": [
    "results = db[indexing_key].like(item, vector_index=vector_index_name, n=10).select().execute()"
   ]
  },
  {
   "cell_type": "code",
   "execution_count": 28,
   "id": "a9481e38-1ab5-4024-9b21-588c65f43126",
   "metadata": {},
   "outputs": [
    {
     "name": "stdout",
     "output_type": "stream",
     "text": [
      "\n",
      " -------------------- \n",
      "\n",
      "--- sidebar_position: 7 --- # Vector-search SuperDuperDB allows users to implement vector-search in their database by either using in-database functionality, or via a sidecar implementation with `lance` and `FastAPI`. ## Philosophy In `superduperdb`, from a user point-of-view vector-search isn't a completely different beast than other ways of using the system: - The vector-preparation is exactly the same as preparing outputs with any model, with the special difference that the outputs are vectors, arrays or tensors. - Vector-searches are just another type of database query which happen to use the stored vectors. ## Algorithm Here is a schematic of how vector-search works: ![](/img/vector-search.png) ## Explanation A vector-search query has the schematic form: ```python table_or_collection .like(Document(<dict-to-search-with>)) # the operand is vectorized using registered models .filter_results(*args, **kwargs) # the results of vector-search are filtered ``` ```python table_or_collection .filter_results(*args, **kwargs) # the results of vector-search are filtered .like(Document(<dict-to-search-with>)) # the operand is vectorized using registered models ``` ...or The type of such a query is a `CompoundSelect`. It's 2 parts are the vector-search part (`like`) and the filtering part (`select`). In the first case, the operand of `like` is dispatched to a **model**, which converts this into a **vector**. The **vector** is compared to\n",
      "\n",
      " -------------------- \n",
      "\n",
      "# Setting up vector-search Setting up vector-search involves \"applying\" a `VectorIndex` component to the datalayer `db`. Read [here](../apply_api/vector_index.md) for information about how to do this.\n",
      "\n",
      " -------------------- \n",
      "\n",
      "# Vector-search SuperDuperDB aims to provide first-class support for vector-search, including embedding computation in preparation and run-time, as well as executing the fast vector-comparison and returning results in a way compatible with standard database queries. ## Read more ```mdx-code-block import DocCardList from '@theme/DocCardList'; <DocCardList /> ```\n",
      "\n",
      " -------------------- \n",
      "\n",
      "# Vector search queries Vector search queries are built with the `.like` operator. This allows developers to combine standard database with vector-search queries. The philosophy is that developers do not need to convert their inputs into vector's themselves. Rather, this is taken care by the specified [`VectorIndex` component](../apply_api/vector_index). The basic schematic for vector-search queries is: ```python table_or_collection .like(Document(<dict-to-search-with>), vector_index='<my-vector-index>') # the operand is vectorized using registered models .filter_results(*args, **kwargs) # the results of vector-search are filtered ``` ***or...*** ```python table_or_collection .filter_results(*args, **kwargs) # the results of vector-search are filtered .like(Document(<dict-to-search-with>), vector_index='<my-vector-index>') # the operand is vectorized using registered models ``` ## MongoDB ```python from superduperdb.ext.pillow import pil_image from superduperdb import Document my_image = PIL.Image.open('test/material/data/test_image.png') q = db['my_collection'].find({'brand': 'Nike'}).like(Document({'img': pil_image(my_image)}), vector_index='<my-vector-index>') results = q.execute() ``` ## SQL ```python t = db['my_table'] t.filter(t.brand == 'Nike').like(Document({'img': pil_image(my_image)})) results = db.execute(q) ```\n",
      "\n",
      " -------------------- \n",
      "\n",
      "# Using a database's native vector search Databases increasingly include their own vector-comparison and search operations (comparing one vector with others). In order to use this, include this configuration in your configuration setup: ```yaml cluster: vector_search: type: native ``` ***or*** ```bash export SUPERDUPER_CLUSTER_VECTOR_SEARCH_TYPE=native ``` If `superduperdb` detects this configuration, it uses the inbuilt mechanism of your `db.databackend` to perform the vector-comparison. Currently `superduperdb` supports the native implementation of these databases: - MongoDB Atlas More integrations are on the way.\n",
      "\n",
      " -------------------- \n",
      "\n",
      "# Sidecar vector-comparison integration For databases which don't have their own vector-search implementation, `superduperdb` offers 2 integrations: - In memory vector-search - Lance vector-search To configure these, add one of the following options to your configuration: ```yaml cluster: vector_search: type: in_memory|lance ``` ***or*** ```bash export SUPERDUPER_CLUSTER_VECTOR_SEARCH_TYPE='in_memory|lance' ``` In this case, whenever a developer executes a vector-search query including `.like`, execution of the similarity and sorting computations of vectors is outsourced to a sidecar implementation which is managed by `superduperdb`.\n",
      "\n",
      " -------------------- \n",
      "\n",
      "--- sidebar_label: Perform a vector search --- import Tabs from '@theme/Tabs'; import TabItem from '@theme/TabItem'; <!-- TABS --> # Perform a vector search ```python from superduperdb import Document def get_sample_item(key, sample_datapoint, datatype=None): if not isinstance(datatype, DataType): item = Document({key: sample_datapoint}) else: item = Document({key: datatype(sample_datapoint)}) return item if compatible_key: item = get_sample_item(compatible_key, sample_datapoint, None) else: item = get_sample_item(indexing_key, sample_datapoint, datatype=datatype) ``` Once we have this search target, we can execute a search as follows: <Tabs> <TabItem value=\"MongoDB\" label=\"MongoDB\" default> ```python select = query_table_or_collection.like(item, vector_index=vector_index_name, n=10).find() ``` </TabItem> <TabItem value=\"SQL\" label=\"SQL\" default> ```python select = query_table_or_collection.like(item, vector_index=vector_index_name, n=10).limit(10) ``` </TabItem> </Tabs> ```python results = db.execute(select) ```\n",
      "\n",
      " -------------------- \n",
      "\n",
      "# Vector-searcher service The vector-comparison service is a standalone, `(id, vector)` only, vector-database, which may be deployed to externalize vector-search from the databackend. Here's how to deploy it: ```python superduperdb vector-searcher ``` Here are the endpoints: ### Create searcher - **Method**: `POST` - **Endpoint**: `/create` - **Parameters**: | name | type | description | required | | --- | --- | --- | --- | | `vector_index` | string | Name of the corresponding `VectorIndex` | yes | | `measure` | string | Type of measure function to compare vectors | yes | ### List searchers - **Method**: `GET` - **Endpoint**: `/list` ### Add vectors to searcher - **Method**: `POST` - **Endpoint**: `/add` - **Parameters**: | name | type | description | required | | --- | --- | --- | --- | | `vector_index` | string | Name of the corresponding `VectorIndex` | yes | | `vectors` | JSON | list of `(id, vector)` | yes | ### Remove vectors from searcher - **Method**: `POST` - **Endpoint**: `/remove` - **Parameters**: | name | type | description | required | | --- | --- | --- | --- | | `vector_index` | string | Name of the corresponding `VectorIndex` |\n",
      "\n",
      " -------------------- \n",
      "\n",
      "vector in vector search with id and vector.\n",
      "\n",
      " -------------------- \n",
      "\n",
      "0.022750040516257286, 0.015125693753361702, 0.032285649329423904, 0.03319932520389557, 0.016521470621228218]\\}\\} </pre> </details> To \"use\" the `VectorIndex` we can execute a vector-search query: ```python query = db['documents'].like({'txt': 'Tell me about vector-search'}, vector_index=vector_index.identifier, n=3).find() cursor = query.execute() ``` <details> <summary>Outputs</summary> <pre> 2024-May-23 22:33:16.62| INFO | Duncans-MBP.fritz.box| superduperdb.base.datalayer:1095 | \\{\\} </pre> <pre> Batches: 0%| | 0/1 [00:00\\<?, ?it/s] </pre> </details> This query will return a cursor of [`Document`](../fundamentals/document) instances. To obtain the raw dictionaries, call the `.unpack()` command: ```python for r in cursor: print('=' * 100) print(r.unpack()['txt']) print('=' * 100) ``` <details> <summary>Outputs</summary> <pre> ==================================================================================================== --- sidebar_position: 7 --- # Vector-search SuperDuperDB allows users to implement vector-search in their database by either using in-database functionality, or via a sidecar implementation with `lance` and `FastAPI`. ## Philosophy In `superduperdb`, from a user point-of-view vector-search isn't a completely different beast than other ways of using the system: - The vector-preparation is exactly the same as preparing outputs with any model, with the special difference that the outputs are vectors, arrays or tensors. - Vector-searches are just another type of database query which happen to use the stored vectors. ## Algorithm Here is a schematic of how vector-search works: ![](/img/vector-search.png) ## Explanation A vector-search query has the schematic form: ```python table_or_collection\n"
     ]
    }
   ],
   "source": [
    "for result in results:\n",
    "    print(\"\\n\", '-' * 20, '\\n')\n",
    "    print(Document(result.unpack())[indexing_key])"
   ]
  },
  {
   "cell_type": "code",
   "execution_count": 33,
   "id": "efd0ae29-6175-4c23-bbae-21c3a2c547a8",
   "metadata": {},
   "outputs": [
    {
     "name": "stdout",
     "output_type": "stream",
     "text": [
      "\u001b[32m2024-Aug-23 14:47:05.73\u001b[0m| \u001b[33m\u001b[1mWARNING \u001b[0m | \u001b[36mDuncans-MacBook-Pro.local\u001b[0m| \u001b[36msuperduper.base.document\u001b[0m:\u001b[36m415 \u001b[0m | \u001b[33m\u001b[1mLeaf str already exists\u001b[0m\n",
      "\u001b[32m2024-Aug-23 14:47:05.74\u001b[0m| \u001b[33m\u001b[1mWARNING \u001b[0m | \u001b[36mDuncans-MacBook-Pro.local\u001b[0m| \u001b[36msuperduper.base.document\u001b[0m:\u001b[36m415 \u001b[0m | \u001b[33m\u001b[1mLeaf documents already exists\u001b[0m\n",
      "\u001b[32m2024-Aug-23 14:47:05.74\u001b[0m| \u001b[33m\u001b[1mWARNING \u001b[0m | \u001b[36mDuncans-MacBook-Pro.local\u001b[0m| \u001b[36msuperduper.base.document\u001b[0m:\u001b[36m415 \u001b[0m | \u001b[33m\u001b[1mLeaf schema already exists\u001b[0m\n",
      "\u001b[32m2024-Aug-23 14:47:05.74\u001b[0m| \u001b[33m\u001b[1mWARNING \u001b[0m | \u001b[36mDuncans-MacBook-Pro.local\u001b[0m| \u001b[36msuperduper.base.document\u001b[0m:\u001b[36m415 \u001b[0m | \u001b[33m\u001b[1mLeaf str already exists\u001b[0m\n",
      "\u001b[32m2024-Aug-23 14:47:05.74\u001b[0m| \u001b[33m\u001b[1mWARNING \u001b[0m | \u001b[36mDuncans-MacBook-Pro.local\u001b[0m| \u001b[36msuperduper.base.document\u001b[0m:\u001b[36m415 \u001b[0m | \u001b[33m\u001b[1mLeaf str already exists\u001b[0m\n",
      "\u001b[32m2024-Aug-23 14:47:05.74\u001b[0m| \u001b[33m\u001b[1mWARNING \u001b[0m | \u001b[36mDuncans-MacBook-Pro.local\u001b[0m| \u001b[36msuperduper.base.document\u001b[0m:\u001b[36m415 \u001b[0m | \u001b[33m\u001b[1mLeaf chunker already exists\u001b[0m\n",
      "\u001b[32m2024-Aug-23 14:47:05.74\u001b[0m| \u001b[33m\u001b[1mWARNING \u001b[0m | \u001b[36mDuncans-MacBook-Pro.local\u001b[0m| \u001b[36msuperduper.base.document\u001b[0m:\u001b[36m415 \u001b[0m | \u001b[33m\u001b[1mLeaf chunker already exists\u001b[0m\n",
      "\u001b[32m2024-Aug-23 14:47:05.74\u001b[0m| \u001b[33m\u001b[1mWARNING \u001b[0m | \u001b[36mDuncans-MacBook-Pro.local\u001b[0m| \u001b[36msuperduper.base.document\u001b[0m:\u001b[36m415 \u001b[0m | \u001b[33m\u001b[1mLeaf dill_lazy already exists\u001b[0m\n",
      "\u001b[32m2024-Aug-23 14:47:05.74\u001b[0m| \u001b[33m\u001b[1mWARNING \u001b[0m | \u001b[36mDuncans-MacBook-Pro.local\u001b[0m| \u001b[36msuperduper.base.document\u001b[0m:\u001b[36m415 \u001b[0m | \u001b[33m\u001b[1mLeaf documents-select already exists\u001b[0m\n"
     ]
    }
   ],
   "source": [
    "from superduper import Template\n",
    "\n",
    "t = Template(\n",
    "    'vector-search',\n",
    "    template=application,\n",
    "    substitutions={'docs': 'table_name'},\n",
    ")"
   ]
  },
  {
   "cell_type": "code",
   "execution_count": 35,
   "id": "4fb0bd1a-4bec-40a2-8120-6881c16ff34d",
   "metadata": {},
   "outputs": [],
   "source": [
    "t.export('.')"
   ]
  },
  {
   "cell_type": "code",
   "execution_count": 37,
   "id": "4f3b9a95-bb15-44ab-a939-559d86090de7",
   "metadata": {},
   "outputs": [
    {
     "name": "stdout",
     "output_type": "stream",
     "text": [
      "\u001b[1;39m{\n",
      "  \u001b[0m\u001b[1;34m\"_base\"\u001b[0m\u001b[1;39m: \u001b[0m\u001b[0;32m\"?vector-search\"\u001b[0m\u001b[1;39m,\n",
      "  \u001b[0m\u001b[1;34m\"_builds\"\u001b[0m\u001b[1;39m: \u001b[0m\u001b[1;39m{\n",
      "    \u001b[0m\u001b[1;34m\"vector-search\"\u001b[0m\u001b[1;39m: \u001b[0m\u001b[1;39m{\n",
      "      \u001b[0m\u001b[1;34m\"_path\"\u001b[0m\u001b[1;39m: \u001b[0m\u001b[0;32m\"superduper.components.template.Template\"\u001b[0m\u001b[1;39m,\n",
      "      \u001b[0m\u001b[1;34m\"template\"\u001b[0m\u001b[1;39m: \u001b[0m\u001b[1;39m{\n",
      "        \u001b[0m\u001b[1;34m\"_base\"\u001b[0m\u001b[1;39m: \u001b[0m\u001b[0;32m\"?text-vector-search\"\u001b[0m\u001b[1;39m,\n",
      "        \u001b[0m\u001b[1;34m\"_builds\"\u001b[0m\u001b[1;39m: \u001b[0m\u001b[1;39m{\n",
      "          \u001b[0m\u001b[1;34m\"str\"\u001b[0m\u001b[1;39m: \u001b[0m\u001b[1;39m{\n",
      "            \u001b[0m\u001b[1;34m\"_path\"\u001b[0m\u001b[1;39m: \u001b[0m\u001b[0;32m\"superduper.components.schema.FieldType\"\u001b[0m\u001b[1;39m\n",
      "          \u001b[1;39m}\u001b[0m\u001b[1;39m,\n",
      "          \u001b[0m\u001b[1;34m\"schema\"\u001b[0m\u001b[1;39m: \u001b[0m\u001b[1;39m{\n",
      "            \u001b[0m\u001b[1;34m\"_path\"\u001b[0m\u001b[1;39m: \u001b[0m\u001b[0;32m\"superduper.components.schema.Schema\"\u001b[0m\u001b[1;39m,\n",
      "            \u001b[0m\u001b[1;34m\"fields\"\u001b[0m\u001b[1;39m: \u001b[0m\u001b[1;39m{\n",
      "              \u001b[0m\u001b[1;34m\"x\"\u001b[0m\u001b[1;39m: \u001b[0m\u001b[0;32m\"?str\"\u001b[0m\u001b[1;39m,\n",
      "              \u001b[0m\u001b[1;34m\"_fold\"\u001b[0m\u001b[1;39m: \u001b[0m\u001b[0;32m\"?str\"\u001b[0m\u001b[1;39m\n",
      "            \u001b[1;39m}\u001b[0m\u001b[1;39m\n",
      "          \u001b[1;39m}\u001b[0m\u001b[1;39m,\n",
      "          \u001b[0m\u001b[1;34m\"<var:table_name>\"\u001b[0m\u001b[1;39m: \u001b[0m\u001b[1;39m{\n",
      "            \u001b[0m\u001b[1;34m\"_path\"\u001b[0m\u001b[1;39m: \u001b[0m\u001b[0;32m\"superduper.components.table.Table\"\u001b[0m\u001b[1;39m,\n",
      "            \u001b[0m\u001b[1;34m\"schema\"\u001b[0m\u001b[1;39m: \u001b[0m\u001b[0;32m\"?schema\"\u001b[0m\u001b[1;39m\n",
      "          \u001b[1;39m}\u001b[0m\u001b[1;39m,\n",
      "          \u001b[0m\u001b[1;34m\"dill_lazy\"\u001b[0m\u001b[1;39m: \u001b[0m\u001b[1;39m{\n",
      "            \u001b[0m\u001b[1;34m\"_path\"\u001b[0m\u001b[1;39m: \u001b[0m\u001b[0;32m\"superduper.components.datatype.get_serializer\"\u001b[0m\u001b[1;39m,\n",
      "            \u001b[0m\u001b[1;34m\"method\"\u001b[0m\u001b[1;39m: \u001b[0m\u001b[0;32m\"dill\"\u001b[0m\u001b[1;39m,\n",
      "            \u001b[0m\u001b[1;34m\"encodable\"\u001b[0m\u001b[1;39m: \u001b[0m\u001b[0;32m\"lazy_artifact\"\u001b[0m\u001b[1;39m\n",
      "          \u001b[1;39m}\u001b[0m\u001b[1;39m,\n",
      "          \u001b[0m\u001b[1;34m\"03c2d3eed85dc1daff9b9ef78206e90a0f3e8f41\"\u001b[0m\u001b[1;39m: \u001b[0m\u001b[1;39m{\n",
      "            \u001b[0m\u001b[1;34m\"_path\"\u001b[0m\u001b[1;39m: \u001b[0m\u001b[0;32m\"superduper.components.datatype.LazyArtifact\"\u001b[0m\u001b[1;39m,\n",
      "            \u001b[0m\u001b[1;34m\"datatype\"\u001b[0m\u001b[1;39m: \u001b[0m\u001b[0;32m\"?dill_lazy\"\u001b[0m\u001b[1;39m,\n",
      "            \u001b[0m\u001b[1;34m\"blob\"\u001b[0m\u001b[1;39m: \u001b[0m\u001b[0;32m\"&:blob:03c2d3eed85dc1daff9b9ef78206e90a0f3e8f41\"\u001b[0m\u001b[1;39m\n",
      "          \u001b[1;39m}\u001b[0m\u001b[1;39m,\n",
      "          \u001b[0m\u001b[1;34m\"chunker\"\u001b[0m\u001b[1;39m: \u001b[0m\u001b[1;39m{\n",
      "            \u001b[0m\u001b[1;34m\"_path\"\u001b[0m\u001b[1;39m: \u001b[0m\u001b[0;32m\"superduper.components.listener.Listener\"\u001b[0m\u001b[1;39m,\n",
      "            \u001b[0m\u001b[1;34m\"uuid\"\u001b[0m\u001b[1;39m: \u001b[0m\u001b[0;32m\"chunk\"\u001b[0m\u001b[1;39m,\n",
      "            \u001b[0m\u001b[1;34m\"key\"\u001b[0m\u001b[1;39m: \u001b[0m\u001b[0;32m\"x\"\u001b[0m\u001b[1;39m,\n",
      "            \u001b[0m\u001b[1;34m\"model\"\u001b[0m\u001b[1;39m: \u001b[0m\u001b[0;32m\"?chunker\"\u001b[0m\u001b[1;39m,\n",
      "            \u001b[0m\u001b[1;34m\"select\"\u001b[0m\u001b[1;39m: \u001b[0m\u001b[0;32m\"?<var:table_name>-select\"\u001b[0m\u001b[1;39m,\n",
      "            \u001b[0m\u001b[1;34m\"predict_id\"\u001b[0m\u001b[1;39m: \u001b[0m\u001b[0;32m\"chunker\"\u001b[0m\u001b[1;39m\n",
      "          \u001b[1;39m}\u001b[0m\u001b[1;39m,\n",
      "          \u001b[0m\u001b[1;34m\"<var:table_name>-select\"\u001b[0m\u001b[1;39m: \u001b[0m\u001b[1;39m{\n",
      "            \u001b[0m\u001b[1;34m\"_path\"\u001b[0m\u001b[1;39m: \u001b[0m\u001b[0;32m\"superduper_mongodb.query.parse_query\"\u001b[0m\u001b[1;39m,\n",
      "            \u001b[0m\u001b[1;34m\"documents\"\u001b[0m\u001b[1;39m: \u001b[0m\u001b[1;39m[]\u001b[0m\u001b[1;39m,\n",
      "            \u001b[0m\u001b[1;34m\"query\"\u001b[0m\u001b[1;39m: \u001b[0m\u001b[0;32m\"<var:table_name>.select()\"\u001b[0m\u001b[1;39m\n",
      "          \u001b[1;39m}\u001b[0m\u001b[1;39m,\n",
      "          \u001b[0m\u001b[1;34m\"vector[1536]\"\u001b[0m\u001b[1;39m: \u001b[0m\u001b[1;39m{\n",
      "            \u001b[0m\u001b[1;34m\"_path\"\u001b[0m\u001b[1;39m: \u001b[0m\u001b[0;32m\"superduper.components.vector_index.vector\"\u001b[0m\u001b[1;39m,\n",
      "            \u001b[0m\u001b[1;34m\"shape\"\u001b[0m\u001b[1;39m: \u001b[0m\u001b[1;39m[\n",
      "              \u001b[0;39m1536\u001b[0m\u001b[1;39m\n",
      "            \u001b[1;39m]\u001b[0m\u001b[1;39m\n",
      "          \u001b[1;39m}\u001b[0m\u001b[1;39m,\n",
      "          \u001b[0m\u001b[1;34m\"text-embedding-ada-002\"\u001b[0m\u001b[1;39m: \u001b[0m\u001b[1;39m{\n",
      "            \u001b[0m\u001b[1;34m\"_path\"\u001b[0m\u001b[1;39m: \u001b[0m\u001b[0;32m\"superduper_openai.model.OpenAIEmbedding\"\u001b[0m\u001b[1;39m,\n",
      "            \u001b[0m\u001b[1;34m\"datatype\"\u001b[0m\u001b[1;39m: \u001b[0m\u001b[0;32m\"?vector[1536]\"\u001b[0m\u001b[1;39m,\n",
      "            \u001b[0m\u001b[1;34m\"model\"\u001b[0m\u001b[1;39m: \u001b[0m\u001b[0;32m\"text-embedding-ada-002\"\u001b[0m\u001b[1;39m,\n",
      "            \u001b[0m\u001b[1;34m\"shape\"\u001b[0m\u001b[1;39m: \u001b[0m\u001b[1;39m[\n",
      "              \u001b[0;39m1536\u001b[0m\u001b[1;39m\n",
      "            \u001b[1;39m]\u001b[0m\u001b[1;39m\n",
      "          \u001b[1;39m}\u001b[0m\u001b[1;39m,\n",
      "          \u001b[0m\u001b[1;34m\"-outputs-chunker-select\"\u001b[0m\u001b[1;39m: \u001b[0m\u001b[1;39m{\n",
      "            \u001b[0m\u001b[1;34m\"_path\"\u001b[0m\u001b[1;39m: \u001b[0m\u001b[0;32m\"superduper_mongodb.query.parse_query\"\u001b[0m\u001b[1;39m,\n",
      "            \u001b[0m\u001b[1;34m\"<var:table_name>\"\u001b[0m\u001b[1;39m: \u001b[0m\u001b[1;39m[]\u001b[0m\u001b[1;39m,\n",
      "            \u001b[0m\u001b[1;34m\"query\"\u001b[0m\u001b[1;39m: \u001b[0m\u001b[0;32m\"_outputs__chunker.select()\"\u001b[0m\u001b[1;39m\n",
      "          \u001b[1;39m}\u001b[0m\u001b[1;39m,\n",
      "          \u001b[0m\u001b[1;34m\"text-embedding-ada-002-listener\"\u001b[0m\u001b[1;39m: \u001b[0m\u001b[1;39m{\n",
      "            \u001b[0m\u001b[1;34m\"_path\"\u001b[0m\u001b[1;39m: \u001b[0m\u001b[0;32m\"superduper.components.listener.Listener\"\u001b[0m\u001b[1;39m,\n",
      "            \u001b[0m\u001b[1;34m\"upstream\"\u001b[0m\u001b[1;39m: \u001b[0m\u001b[1;39m[\n",
      "              \u001b[0;32m\"?<var:table_name>\"\u001b[0m\u001b[1;39m,\n",
      "              \u001b[0;32m\"?chunker\"\u001b[0m\u001b[1;39m\n",
      "            \u001b[1;39m]\u001b[0m\u001b[1;39m,\n",
      "            \u001b[0m\u001b[1;34m\"key\"\u001b[0m\u001b[1;39m: \u001b[0m\u001b[0;32m\"_outputs__chunker\"\u001b[0m\u001b[1;39m,\n",
      "            \u001b[0m\u001b[1;34m\"model\"\u001b[0m\u001b[1;39m: \u001b[0m\u001b[0;32m\"?text-embedding-ada-002\"\u001b[0m\u001b[1;39m,\n",
      "            \u001b[0m\u001b[1;34m\"select\"\u001b[0m\u001b[1;39m: \u001b[0m\u001b[0;32m\"?-outputs-chunker-select\"\u001b[0m\u001b[1;39m,\n",
      "            \u001b[0m\u001b[1;34m\"predict_id\"\u001b[0m\u001b[1;39m: \u001b[0m\u001b[0;32m\"text-embedding-ada-002-listener\"\u001b[0m\u001b[1;39m\n",
      "          \u001b[1;39m}\u001b[0m\u001b[1;39m,\n",
      "          \u001b[0m\u001b[1;34m\"my-vector-index\"\u001b[0m\u001b[1;39m: \u001b[0m\u001b[1;39m{\n",
      "            \u001b[0m\u001b[1;34m\"_path\"\u001b[0m\u001b[1;39m: \u001b[0m\u001b[0;32m\"superduper.components.vector_index.VectorIndex\"\u001b[0m\u001b[1;39m,\n",
      "            \u001b[0m\u001b[1;34m\"indexing_listener\"\u001b[0m\u001b[1;39m: \u001b[0m\u001b[0;32m\"?text-embedding-ada-002-listener\"\u001b[0m\u001b[1;39m\n",
      "          \u001b[1;39m}\u001b[0m\u001b[1;39m,\n",
      "          \u001b[0m\u001b[1;34m\"text-vector-search\"\u001b[0m\u001b[1;39m: \u001b[0m\u001b[1;39m{\n",
      "            \u001b[0m\u001b[1;34m\"_path\"\u001b[0m\u001b[1;39m: \u001b[0m\u001b[0;32m\"superduper.components.application.Application\"\u001b[0m\u001b[1;39m,\n",
      "            \u001b[0m\u001b[1;34m\"components\"\u001b[0m\u001b[1;39m: \u001b[0m\u001b[1;39m[\n",
      "              \u001b[0;32m\"?<var:table_name>\"\u001b[0m\u001b[1;39m,\n",
      "              \u001b[0;32m\"?chunker\"\u001b[0m\u001b[1;39m,\n",
      "              \u001b[0;32m\"?my-vector-index\"\u001b[0m\u001b[1;39m\n",
      "            \u001b[1;39m]\u001b[0m\u001b[1;39m,\n",
      "            \u001b[0m\u001b[1;34m\"namespace\"\u001b[0m\u001b[1;39m: \u001b[0m\u001b[1;39m[\n",
      "              \u001b[1;39m{\n",
      "                \u001b[0m\u001b[1;34m\"type_id\"\u001b[0m\u001b[1;39m: \u001b[0m\u001b[0;32m\"table\"\u001b[0m\u001b[1;39m,\n",
      "                \u001b[0m\u001b[1;34m\"identifier\"\u001b[0m\u001b[1;39m: \u001b[0m\u001b[0;32m\"<var:table_name>\"\u001b[0m\u001b[1;39m\n",
      "              \u001b[1;39m}\u001b[0m\u001b[1;39m,\n",
      "              \u001b[1;39m{\n",
      "                \u001b[0m\u001b[1;34m\"type_id\"\u001b[0m\u001b[1;39m: \u001b[0m\u001b[0;32m\"listener\"\u001b[0m\u001b[1;39m,\n",
      "                \u001b[0m\u001b[1;34m\"identifier\"\u001b[0m\u001b[1;39m: \u001b[0m\u001b[0;32m\"chunker\"\u001b[0m\u001b[1;39m\n",
      "              \u001b[1;39m}\u001b[0m\u001b[1;39m,\n",
      "              \u001b[1;39m{\n",
      "                \u001b[0m\u001b[1;34m\"type_id\"\u001b[0m\u001b[1;39m: \u001b[0m\u001b[0;32m\"vector_index\"\u001b[0m\u001b[1;39m,\n",
      "                \u001b[0m\u001b[1;34m\"identifier\"\u001b[0m\u001b[1;39m: \u001b[0m\u001b[0;32m\"my-vector-index\"\u001b[0m\u001b[1;39m\n",
      "              \u001b[1;39m}\u001b[0m\u001b[1;39m,\n",
      "              \u001b[1;39m{\n",
      "                \u001b[0m\u001b[1;34m\"type_id\"\u001b[0m\u001b[1;39m: \u001b[0m\u001b[0;32m\"schema\"\u001b[0m\u001b[1;39m,\n",
      "                \u001b[0m\u001b[1;34m\"identifier\"\u001b[0m\u001b[1;39m: \u001b[0m\u001b[0;32m\"schema\"\u001b[0m\u001b[1;39m\n",
      "              \u001b[1;39m}\u001b[0m\u001b[1;39m,\n",
      "              \u001b[1;39m{\n",
      "                \u001b[0m\u001b[1;34m\"type_id\"\u001b[0m\u001b[1;39m: \u001b[0m\u001b[0;32m\"model\"\u001b[0m\u001b[1;39m,\n",
      "                \u001b[0m\u001b[1;34m\"identifier\"\u001b[0m\u001b[1;39m: \u001b[0m\u001b[0;32m\"chunker\"\u001b[0m\u001b[1;39m\n",
      "              \u001b[1;39m}\u001b[0m\u001b[1;39m,\n",
      "              \u001b[1;39m{\n",
      "                \u001b[0m\u001b[1;34m\"type_id\"\u001b[0m\u001b[1;39m: \u001b[0m\u001b[0;32m\"listener\"\u001b[0m\u001b[1;39m,\n",
      "                \u001b[0m\u001b[1;34m\"identifier\"\u001b[0m\u001b[1;39m: \u001b[0m\u001b[0;32m\"text-embedding-ada-002-listener\"\u001b[0m\u001b[1;39m\n",
      "              \u001b[1;39m}\u001b[0m\u001b[1;39m,\n",
      "              \u001b[1;39m{\n",
      "                \u001b[0m\u001b[1;34m\"type_id\"\u001b[0m\u001b[1;39m: \u001b[0m\u001b[0;32m\"model\"\u001b[0m\u001b[1;39m,\n",
      "                \u001b[0m\u001b[1;34m\"identifier\"\u001b[0m\u001b[1;39m: \u001b[0m\u001b[0;32m\"text-embedding-ada-002\"\u001b[0m\u001b[1;39m\n",
      "              \u001b[1;39m}\u001b[0m\u001b[1;39m\n",
      "            \u001b[1;39m]\u001b[0m\u001b[1;39m,\n",
      "            \u001b[0m\u001b[1;34m\"_literals\"\u001b[0m\u001b[1;39m: \u001b[0m\u001b[1;39m[\n",
      "              \u001b[0;32m\"template\"\u001b[0m\u001b[1;39m\n",
      "            \u001b[1;39m]\u001b[0m\u001b[1;39m\n",
      "          \u001b[1;39m}\u001b[0m\u001b[1;39m\n",
      "        \u001b[1;39m}\u001b[0m\u001b[1;39m\n",
      "      \u001b[1;39m}\u001b[0m\u001b[1;39m,\n",
      "      \u001b[0m\u001b[1;34m\"template_variables\"\u001b[0m\u001b[1;39m: \u001b[0m\u001b[1;39m[\n",
      "        \u001b[0;32m\"table_name\"\u001b[0m\u001b[1;39m\n",
      "      \u001b[1;39m]\u001b[0m\u001b[1;39m,\n",
      "      \u001b[0m\u001b[1;34m\"_literals\"\u001b[0m\u001b[1;39m: \u001b[0m\u001b[1;39m[\n",
      "        \u001b[0;32m\"template\"\u001b[0m\u001b[1;39m\n",
      "      \u001b[1;39m]\u001b[0m\u001b[1;39m\n",
      "    \u001b[1;39m}\u001b[0m\u001b[1;39m\n",
      "  \u001b[1;39m}\u001b[0m\u001b[1;39m,\n",
      "  \u001b[0m\u001b[1;34m\"_blobs\"\u001b[0m\u001b[1;39m: \u001b[0m\u001b[1;39m{}\u001b[0m\u001b[1;39m,\n",
      "  \u001b[0m\u001b[1;34m\"_files\"\u001b[0m\u001b[1;39m: \u001b[0m\u001b[1;39m{}\u001b[0m\u001b[1;39m\n",
      "\u001b[1;39m}\u001b[0m\n"
     ]
    }
   ],
   "source": [
    "!cat component.json | jq ."
   ]
  }
 ],
 "metadata": {
  "kernelspec": {
   "display_name": "Python 3 (ipykernel)",
   "language": "python",
   "name": "python3"
  },
  "language_info": {
   "codemirror_mode": {
    "name": "ipython",
    "version": 3
   },
   "file_extension": ".py",
   "mimetype": "text/x-python",
   "name": "python",
   "nbconvert_exporter": "python",
   "pygments_lexer": "ipython3",
   "version": "3.11.7"
  }
 },
 "nbformat": 4,
 "nbformat_minor": 5
}
