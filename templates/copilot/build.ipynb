{
 "cells": [
  {
   "cell_type": "code",
   "execution_count": null,
   "id": "de5e919b-a1a3-4f8b-b2bf-6f518200e2d8",
   "metadata": {},
   "outputs": [],
   "source": [
    "from components import *\n",
    "from superduper import *"
   ]
  },
  {
   "cell_type": "code",
   "execution_count": null,
   "id": "e8aa100a-708f-4f1e-b413-7190afa29138",
   "metadata": {},
   "outputs": [],
   "source": [
    "db = superduper('redis://localhost:6379/0', initialize_cluster=False)"
   ]
  },
  {
   "cell_type": "code",
   "execution_count": null,
   "id": "34670789-c5ac-47b4-a22a-b55f747eeac3",
   "metadata": {},
   "outputs": [],
   "source": [
    "db.drop(force=True)"
   ]
  },
  {
   "cell_type": "code",
   "execution_count": null,
   "id": "ba2de698-ee91-4bbe-bb15-260fef8fdb26",
   "metadata": {},
   "outputs": [],
   "source": [
    "c = Commenter(\n",
    "    '<var:project_name>', \n",
    "    model='gpt-4-turbo',\n",
    "    cdc_table='files_<var:project_name>',\n",
    "    upstream=[\n",
    "        Table(\n",
    "            f'files_<var:project_name>',\n",
    "            fields={'content': 'str', 'filename': 'str', 'last_modified': 'str', 'diff': 'str'},\n",
    "        ), \n",
    "        Table(\n",
    "            f'comments_<var:project_name>',\n",
    "            fields={'comment': 'str', 'filename': 'str'},\n",
    "        ), tli\n",
    "    ],\n",
    ")"
   ]
  },
  {
   "cell_type": "code",
   "execution_count": null,
   "id": "68bfdb37-0c53-43c3-8ddd-93dc3f9855f2",
   "metadata": {},
   "outputs": [],
   "source": [
    "a = AskSuperduper(\n",
    "    'ask_<var:project_name>',\n",
    "    project='<var:project_name>',\n",
    ")"
   ]
  },
  {
   "cell_type": "code",
   "execution_count": null,
   "id": "8b22ec9f-bd6a-4893-ba4d-130cf6f294a7",
   "metadata": {},
   "outputs": [],
   "source": [
    "app = Application(\n",
    "    '<var:project_name>', \n",
    "    components=[a, c],\n",
    "    upstream=[Plugin(path='./components.py')]\n",
    ")"
   ]
  },
  {
   "cell_type": "code",
   "execution_count": null,
   "id": "cdbc4780-f7d7-4f59-a3ba-ab90194645d7",
   "metadata": {},
   "outputs": [],
   "source": [
    "db.apply(app, force=True)"
   ]
  },
  {
   "cell_type": "code",
   "execution_count": null,
   "id": "3a66fbe8-b268-4ff0-9d61-f130071d5177",
   "metadata": {},
   "outputs": [],
   "source": [
    "t = Template(\n",
    "    'code_project',\n",
    "    template=app,\n",
    ")"
   ]
  },
  {
   "cell_type": "code",
   "execution_count": null,
   "id": "17371bc0-2125-4863-bf3e-5aec8bbd42af",
   "metadata": {},
   "outputs": [],
   "source": [
    "t.export('.')"
   ]
  },
  {
   "cell_type": "code",
   "execution_count": null,
   "id": "5bb8ff4b-b83d-4e8d-8426-8ab0d4dbced2",
   "metadata": {},
   "outputs": [],
   "source": [
    "app = t(project_name='test')"
   ]
  }
 ],
 "metadata": {
  "kernelspec": {
   "display_name": "Python 3 (ipykernel)",
   "language": "python",
   "name": "python3"
  },
  "language_info": {
   "codemirror_mode": {
    "name": "ipython",
    "version": 3
   },
   "file_extension": ".py",
   "mimetype": "text/x-python",
   "name": "python",
   "nbconvert_exporter": "python",
   "pygments_lexer": "ipython3",
   "version": "3.10.13"
  }
 },
 "nbformat": 4,
 "nbformat_minor": 5
}
