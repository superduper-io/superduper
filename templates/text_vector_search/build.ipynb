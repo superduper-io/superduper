{
 "cells": [
  {
   "cell_type": "markdown",
   "id": "38c1a328-fd86-4c5f-bd54-b8664f433608",
   "metadata": {},
   "source": [
    "<!-- TABS -->\n",
    "# Text Vector Search"
   ]
  },
  {
   "cell_type": "markdown",
   "id": "084e3781-098d-477a-a123-fe90661b7d57",
   "metadata": {},
   "source": [
    "You'll find this example as well as the saved template in the main repository of `superduper`.\n",
    "See [here](https://github.com/superduper-io/superduper/tree/main/templates/text_vector_search).\n",
    "\n",
    "If you'd like to modify the template, or practice building it yourself, then you can rerun the `build.ipynb` notebook\n",
    "in the template directory"
   ]
  },
  {
   "cell_type": "markdown",
   "id": "32f8484d-2e35-472a-9b24-1a30ec1d144b",
   "metadata": {},
   "source": [
    "<!-- TABS -->\n",
    "## Connect to superduper"
   ]
  },
  {
   "cell_type": "code",
   "execution_count": null,
   "id": "cb029a5e-fedf-4f07-8a31-d220cfbfbb3d",
   "metadata": {},
   "outputs": [],
   "source": [
    "from superduper import superduper, CFG\n",
    "\n",
    "CFG.auto_schema = True\n",
    "\n",
    "db = superduper('mongomock://test_db')"
   ]
  },
  {
   "cell_type": "markdown",
   "id": "032c2e7b-3f54-4263-b778-0fef60596efb",
   "metadata": {},
   "source": [
    "<!-- TABS -->\n",
    "## Get useful sample data"
   ]
  },
  {
   "cell_type": "code",
   "execution_count": null,
   "id": "4e7902bd",
   "metadata": {},
   "outputs": [],
   "source": [
    "# <tab: Text>\n",
    "!curl -O https://superduperdb-public-demo.s3.amazonaws.com/text.json\n",
    "import json\n",
    "\n",
    "with open('text.json', 'r') as f:\n",
    "    data = json.load(f)"
   ]
  },
  {
   "cell_type": "code",
   "execution_count": null,
   "id": "33486ec7-0316-4e0c-a409-c09ab4c16669",
   "metadata": {},
   "outputs": [],
   "source": [
    "# <tab: PDF>\n",
    "!curl -O https://superduperdb-public-demo.s3.amazonaws.com/pdfs.zip && unzip -o pdfs.zip\n",
    "import os\n",
    "\n",
    "data = [f'pdfs/{x}' for x in os.listdir('./pdfs') if x.endswith('.pdf')]"
   ]
  },
  {
   "cell_type": "code",
   "execution_count": null,
   "id": "35d52c68-50e8-40f4-9374-ed3dc31f1cb3",
   "metadata": {},
   "outputs": [],
   "source": [
    "import json\n",
    "\n",
    "with open('./text_data.json') as f:\n",
    "    text_data = json.load(f)"
   ]
  },
  {
   "cell_type": "code",
   "execution_count": null,
   "id": "0bdf199f-c9a8-4e88-833f-72a790eecbb0",
   "metadata": {},
   "outputs": [],
   "source": [
    "import json\n",
    "\n",
    "with open('./pdf_data.json') as f:\n",
    "    text_data = json.load(f)"
   ]
  },
  {
   "cell_type": "markdown",
   "id": "54fea927-ee4a-44cd-aaf2-634b574c316d",
   "metadata": {},
   "source": [
    "<!-- TABS -->\n",
    "## Apply a chunker for search"
   ]
  },
  {
   "cell_type": "markdown",
   "id": "06d90bda-e8c4-494e-a38c-837fb63689ae",
   "metadata": {},
   "source": [
    ":::note\n",
    "Note that applying a chunker is ***not*** mandatory for search.\n",
    "If your data is already chunked (e.g. short text snippets or audio) or if you\n",
    "are searching through something like images, which can't be chunked, then this\n",
    "won't be necessary.\n",
    ":::"
   ]
  },
  {
   "cell_type": "code",
   "execution_count": null,
   "id": "2d20eaa0-a416-4483-938e-23f79845739a",
   "metadata": {},
   "outputs": [],
   "source": [
    "# <tab: Text>\n",
    "from superduper import model\n",
    "\n",
    "CHUNK_SIZE = 200\n",
    "\n",
    "@model\n",
    "def chunker(text):\n",
    "    text = text.split()\n",
    "    chunks = [' '.join(text[i:i + CHUNK_SIZE]) for i in range(0, len(text), CHUNK_SIZE)]\n",
    "    return chunks"
   ]
  },
  {
   "cell_type": "code",
   "execution_count": null,
   "id": "8ace1378-7243-4011-b260-ee1a7f4d806d",
   "metadata": {
    "scrolled": true
   },
   "outputs": [],
   "source": [
    "db['docs'].insert([{'x': r} for r in data]).execute()"
   ]
  },
  {
   "cell_type": "code",
   "execution_count": null,
   "id": "facd7dc0-fffa-40d8-af72-2b9e4852ad79",
   "metadata": {},
   "outputs": [],
   "source": [
    "# <tab: PDF>\n",
    "!pip install -q \"unstructured[pdf]\"\n",
    "from superduper import model\n",
    "from unstructured.partition.pdf import partition_pdf\n",
    "\n",
    "CHUNK_SIZE = 500\n",
    "\n",
    "@model(flatten=True)\n",
    "def chunker(pdf_file):\n",
    "    elements = partition_pdf(pdf_file)\n",
    "    text = '\\n'.join([e.text for e in elements])\n",
    "    chunks = [text[i:i + CHUNK_SIZE] for i in range(0, len(text), CHUNK_SIZE)]\n",
    "    return chunks"
   ]
  },
  {
   "cell_type": "markdown",
   "id": "b33a16f9-3bac-45bb-80ac-3ccf265dce5f",
   "metadata": {},
   "source": [
    "Now we wrap this chunker as a `Listener`, so that it processes incoming data"
   ]
  },
  {
   "cell_type": "code",
   "execution_count": null,
   "id": "93d21872-d4dc-40dc-abab-fb07ba102ea3",
   "metadata": {},
   "outputs": [],
   "source": [
    "from superduper import Listener\n",
    "\n",
    "upstream_listener = Listener(\n",
    "    model=chunker,\n",
    "    select=db['docs'].select(),\n",
    "    key='x',\n",
    "    identifier='chunker',\n",
    "    flatten=True,\n",
    ")"
   ]
  },
  {
   "cell_type": "code",
   "execution_count": null,
   "id": "372b7eb6-e252-4357-bde2-75f4decea800",
   "metadata": {},
   "outputs": [],
   "source": [
    "db.apply(upstream_listener)"
   ]
  },
  {
   "cell_type": "markdown",
   "id": "c9a2cd87-723f-4cee-87c7-9b8181c9e54b",
   "metadata": {},
   "source": [
    "<!-- TABS -->\n",
    "## Build text embedding model"
   ]
  },
  {
   "cell_type": "code",
   "execution_count": null,
   "id": "a9b1f538-65ca-499e-b6d0-2dd733f81723",
   "metadata": {},
   "outputs": [],
   "source": [
    "# <tab: OpenAI>\n",
    "from superduper_openai import OpenAIEmbedding\n",
    "from superduper import vector\n",
    "\n",
    "import os\n",
    "\n",
    "os.environ['OPENAI_API_KEY'] = 'sk-<your-secret>'\n",
    "\n",
    "embedding_model = OpenAIEmbedding(\n",
    "    identifier='text-embedding-ada-002',\n",
    "    example='this is a test',\n",
    "    datatype=vector(shape=(1024,)),\n",
    ")"
   ]
  },
  {
   "cell_type": "code",
   "execution_count": null,
   "id": "e83facd8-8823-492f-a2c6-659f38d8e6ec",
   "metadata": {},
   "outputs": [],
   "source": [
    "# <tab: JinaAI>\n",
    "import os\n",
    "from superduper_jina import JinaEmbedding\n",
    "\n",
    "os.environ[\"JINA_API_KEY\"] = \"jina_xxxx\"\n",
    " \n",
    "# define the model\n",
    "embedding_model = JinaEmbedding(identifier='jina-embeddings-v2-base-en')"
   ]
  },
  {
   "cell_type": "code",
   "execution_count": null,
   "id": "3b4a9a60-41df-461d-b165-1d136ee25694",
   "metadata": {},
   "outputs": [],
   "source": [
    "# <tab: Sentence-Transformers>\n",
    "from superduper import vector\n",
    "import sentence_transformers\n",
    "from superduper_sentence_transformers import SentenceTransformer\n",
    "\n",
    "embedding_model = SentenceTransformer(\n",
    "    identifier=\"embedding\",\n",
    "    object=sentence_transformers.SentenceTransformer(\"BAAI/bge-small-en\"),\n",
    "    datatype=vector(shape=(1024,)),\n",
    "    postprocess=lambda x: x.tolist(),\n",
    "    predict_kwargs={\"show_progress_bar\": True},\n",
    "    example='this is a test',\n",
    ")"
   ]
  },
  {
   "cell_type": "code",
   "execution_count": null,
   "id": "e3be1e92-3be2-47cb-a469-6e678861ec4f",
   "metadata": {},
   "outputs": [],
   "source": [
    "# from superduper.components.model import ModelRouter\n",
    "\n",
    "# embedding_model = ModelRouter(\n",
    "#     'embedding',\n",
    "#     models={'openai': openai_model, 'sentence_transformers': st_model},\n",
    "#     model='openai',\n",
    "#     example='this is a test',\n",
    "#     signature='singleton',\n",
    "# )"
   ]
  },
  {
   "cell_type": "markdown",
   "id": "41b8b40d-3750-4d7b-aa60-62e07b734b04",
   "metadata": {},
   "source": [
    "## Create vector-index"
   ]
  },
  {
   "cell_type": "code",
   "execution_count": null,
   "id": "ffba61c1-2ec8-4411-870a-228439ce4ba5",
   "metadata": {},
   "outputs": [],
   "source": [
    "from superduper import VectorIndex, Listener\n",
    "\n",
    "vector_index = VectorIndex(\n",
    "    'my-vector-index',\n",
    "    indexing_listener=Listener(\n",
    "        key=upstream_listener.outputs,              # the `Document` key `model` should ingest to create embedding\n",
    "        select=db[upstream_listener.outputs].select(),                 # a `Select` query telling which data to search over\n",
    "        model=embedding_model,         # a `_Predictor` how to convert data to embeddings\n",
    "        identifier=f'{embedding_model.identifier}-listener',\n",
    "        upstream=[upstream_listener],              # this makes sure that the table is already set up when the other components are triggered\n",
    "    )\n",
    ")"
   ]
  },
  {
   "cell_type": "code",
   "execution_count": null,
   "id": "57190e75-d319-42ca-84b1-029c4a551920",
   "metadata": {},
   "outputs": [],
   "source": [
    "db.apply(vector_index)"
   ]
  },
  {
   "cell_type": "code",
   "execution_count": null,
   "id": "5da538d1-d222-434f-bb34-7f828b013a23",
   "metadata": {},
   "outputs": [],
   "source": [
    "from superduper import Application\n",
    "\n",
    "application = Application(\n",
    "    'text-vector-search', \n",
    "    components=[\n",
    "        upstream_listener,\n",
    "        vector_index,\n",
    "    ]\n",
    ")"
   ]
  },
  {
   "cell_type": "code",
   "execution_count": null,
   "id": "5fd30f32-da4c-4ba1-a44c-ef2f8d968ddf",
   "metadata": {},
   "outputs": [],
   "source": [
    "db.apply(application)"
   ]
  },
  {
   "cell_type": "markdown",
   "id": "4d268eea-2d37-4231-8266-808671533012",
   "metadata": {},
   "source": [
    "## Perform a vector search"
   ]
  },
  {
   "cell_type": "code",
   "execution_count": null,
   "id": "88809e48-1973-488b-80fd-6d8875e8e516",
   "metadata": {},
   "outputs": [],
   "source": [
    "from superduper import Document\n",
    "# Perform the vector search based on the query\n",
    "item = Document({indexing_key: \"Tell me about vector-search\"})"
   ]
  },
  {
   "cell_type": "code",
   "execution_count": null,
   "id": "0936d1a1-3688-4f4b-8bdc-2a31e2da09aa",
   "metadata": {},
   "outputs": [],
   "source": [
    "results = db[upstream_listener.outputs].like({upstream_listener.outputs: \"Tell me about vector-search\"}, vector_index='my-vector-index', n=10).select().execute()"
   ]
  },
  {
   "cell_type": "code",
   "execution_count": null,
   "id": "a9481e38-1ab5-4024-9b21-588c65f43126",
   "metadata": {},
   "outputs": [],
   "source": [
    "from superduper import Document\n",
    "\n",
    "for result in results:\n",
    "    print(\"\\n\", '-' * 20, '\\n')\n",
    "    print(Document(result.unpack())[upstream_listener.outputs])"
   ]
  },
  {
   "cell_type": "code",
   "execution_count": null,
   "id": "efd0ae29-6175-4c23-bbae-21c3a2c547a8",
   "metadata": {},
   "outputs": [],
   "source": [
    "from superduper import Template\n",
    "\n",
    "t = Template(\n",
    "    'vector-search',\n",
    "    template=application,\n",
    "    substitutions={'docs': 'table_name'},\n",
    ")"
   ]
  },
  {
   "cell_type": "code",
   "execution_count": null,
   "id": "4fb0bd1a-4bec-40a2-8120-6881c16ff34d",
   "metadata": {},
   "outputs": [],
   "source": [
    "t.export('.')"
   ]
  },
  {
   "cell_type": "code",
   "execution_count": null,
   "id": "4f3b9a95-bb15-44ab-a939-559d86090de7",
   "metadata": {},
   "outputs": [],
   "source": [
    "!cat component.json | jq ."
   ]
  }
 ],
 "metadata": {
  "kernelspec": {
   "display_name": "Python 3 (ipykernel)",
   "language": "python",
   "name": "python3"
  },
  "language_info": {
   "codemirror_mode": {
    "name": "ipython",
    "version": 3
   },
   "file_extension": ".py",
   "mimetype": "text/x-python",
   "name": "python",
   "nbconvert_exporter": "python",
   "pygments_lexer": "ipython3",
   "version": "3.10.13"
  }
 },
 "nbformat": 4,
 "nbformat_minor": 5
}
